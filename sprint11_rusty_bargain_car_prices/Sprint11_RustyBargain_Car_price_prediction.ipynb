{
 "cells": [
  {
   "cell_type": "markdown",
   "metadata": {},
   "source": [
    "### Project description\n",
    "\n",
    "Rusty Bargain used car sales service is developing an app to attract new customers. In that app, you can quickly find out the market value of your car. You have access to historical data: technical specifications, trim versions, and prices. You need to build the model to determine the value.\n",
    "\n",
    "Rusty Bargain is interested in:\n",
    "- the quality of the prediction\n",
    "- the speed of the prediction\n",
    "- the time required for training\n",
    "\n",
    "**Goal**\n",
    "\n",
    "Build a few regression models, and compare their quality of prediction, speed of prediction, and time required to train. The best model will be used to predict the price of a car."
   ]
  },
  {
   "cell_type": "code",
   "execution_count": 1,
   "metadata": {},
   "outputs": [],
   "source": [
    "import pandas as pd\n",
    "import numpy as np\n",
    "import os\n",
    "import matplotlib.pyplot as plt\n",
    "import seaborn as sns\n",
    "import time\n",
    "\n",
    "from sklearn.model_selection import train_test_split, GridSearchCV\n",
    "from sklearn.ensemble import RandomForestRegressor\n",
    "from sklearn.linear_model import LinearRegression\n",
    "from sklearn.preprocessing import LabelEncoder, OrdinalEncoder\n",
    "from sklearn.metrics import mean_squared_error, mean_absolute_error, r2_score\n",
    "from sklearn.model_selection import GridSearchCV\n",
    "from sklearn.metrics import make_scorer\n",
    "\n",
    "from catboost import CatBoostRegressor, CatBoostClassifier\n",
    "from lightgbm import LGBMRegressor\n",
    "\n",
    "import warnings\n",
    "\n",
    "warnings.filterwarnings('ignore')"
   ]
  },
  {
   "cell_type": "markdown",
   "metadata": {},
   "source": [
    "### Data preparation"
   ]
  },
  {
   "cell_type": "code",
   "execution_count": 2,
   "metadata": {},
   "outputs": [],
   "source": [
    "df = pd.read_csv('/datasets/car_data.csv')"
   ]
  },
  {
   "cell_type": "code",
   "execution_count": 3,
   "metadata": {},
   "outputs": [
    {
     "data": {
      "text/plain": [
       "(354369, 16)"
      ]
     },
     "execution_count": 3,
     "metadata": {},
     "output_type": "execute_result"
    }
   ],
   "source": [
    "# shape\n",
    "df.shape"
   ]
  },
  {
   "cell_type": "code",
   "execution_count": 4,
   "metadata": {},
   "outputs": [
    {
     "data": {
      "text/html": [
       "<div>\n",
       "<style scoped>\n",
       "    .dataframe tbody tr th:only-of-type {\n",
       "        vertical-align: middle;\n",
       "    }\n",
       "\n",
       "    .dataframe tbody tr th {\n",
       "        vertical-align: top;\n",
       "    }\n",
       "\n",
       "    .dataframe thead th {\n",
       "        text-align: right;\n",
       "    }\n",
       "</style>\n",
       "<table border=\"1\" class=\"dataframe\">\n",
       "  <thead>\n",
       "    <tr style=\"text-align: right;\">\n",
       "      <th></th>\n",
       "      <th>DateCrawled</th>\n",
       "      <th>Price</th>\n",
       "      <th>VehicleType</th>\n",
       "      <th>RegistrationYear</th>\n",
       "      <th>Gearbox</th>\n",
       "      <th>Power</th>\n",
       "      <th>Model</th>\n",
       "      <th>Mileage</th>\n",
       "      <th>RegistrationMonth</th>\n",
       "      <th>FuelType</th>\n",
       "      <th>Brand</th>\n",
       "      <th>NotRepaired</th>\n",
       "      <th>DateCreated</th>\n",
       "      <th>NumberOfPictures</th>\n",
       "      <th>PostalCode</th>\n",
       "      <th>LastSeen</th>\n",
       "    </tr>\n",
       "  </thead>\n",
       "  <tbody>\n",
       "    <tr>\n",
       "      <td>0</td>\n",
       "      <td>24/03/2016 11:52</td>\n",
       "      <td>480</td>\n",
       "      <td>NaN</td>\n",
       "      <td>1993</td>\n",
       "      <td>manual</td>\n",
       "      <td>0</td>\n",
       "      <td>golf</td>\n",
       "      <td>150000</td>\n",
       "      <td>0</td>\n",
       "      <td>petrol</td>\n",
       "      <td>volkswagen</td>\n",
       "      <td>NaN</td>\n",
       "      <td>24/03/2016 00:00</td>\n",
       "      <td>0</td>\n",
       "      <td>70435</td>\n",
       "      <td>07/04/2016 03:16</td>\n",
       "    </tr>\n",
       "    <tr>\n",
       "      <td>1</td>\n",
       "      <td>24/03/2016 10:58</td>\n",
       "      <td>18300</td>\n",
       "      <td>coupe</td>\n",
       "      <td>2011</td>\n",
       "      <td>manual</td>\n",
       "      <td>190</td>\n",
       "      <td>NaN</td>\n",
       "      <td>125000</td>\n",
       "      <td>5</td>\n",
       "      <td>gasoline</td>\n",
       "      <td>audi</td>\n",
       "      <td>yes</td>\n",
       "      <td>24/03/2016 00:00</td>\n",
       "      <td>0</td>\n",
       "      <td>66954</td>\n",
       "      <td>07/04/2016 01:46</td>\n",
       "    </tr>\n",
       "    <tr>\n",
       "      <td>2</td>\n",
       "      <td>14/03/2016 12:52</td>\n",
       "      <td>9800</td>\n",
       "      <td>suv</td>\n",
       "      <td>2004</td>\n",
       "      <td>auto</td>\n",
       "      <td>163</td>\n",
       "      <td>grand</td>\n",
       "      <td>125000</td>\n",
       "      <td>8</td>\n",
       "      <td>gasoline</td>\n",
       "      <td>jeep</td>\n",
       "      <td>NaN</td>\n",
       "      <td>14/03/2016 00:00</td>\n",
       "      <td>0</td>\n",
       "      <td>90480</td>\n",
       "      <td>05/04/2016 12:47</td>\n",
       "    </tr>\n",
       "    <tr>\n",
       "      <td>3</td>\n",
       "      <td>17/03/2016 16:54</td>\n",
       "      <td>1500</td>\n",
       "      <td>small</td>\n",
       "      <td>2001</td>\n",
       "      <td>manual</td>\n",
       "      <td>75</td>\n",
       "      <td>golf</td>\n",
       "      <td>150000</td>\n",
       "      <td>6</td>\n",
       "      <td>petrol</td>\n",
       "      <td>volkswagen</td>\n",
       "      <td>no</td>\n",
       "      <td>17/03/2016 00:00</td>\n",
       "      <td>0</td>\n",
       "      <td>91074</td>\n",
       "      <td>17/03/2016 17:40</td>\n",
       "    </tr>\n",
       "    <tr>\n",
       "      <td>4</td>\n",
       "      <td>31/03/2016 17:25</td>\n",
       "      <td>3600</td>\n",
       "      <td>small</td>\n",
       "      <td>2008</td>\n",
       "      <td>manual</td>\n",
       "      <td>69</td>\n",
       "      <td>fabia</td>\n",
       "      <td>90000</td>\n",
       "      <td>7</td>\n",
       "      <td>gasoline</td>\n",
       "      <td>skoda</td>\n",
       "      <td>no</td>\n",
       "      <td>31/03/2016 00:00</td>\n",
       "      <td>0</td>\n",
       "      <td>60437</td>\n",
       "      <td>06/04/2016 10:17</td>\n",
       "    </tr>\n",
       "  </tbody>\n",
       "</table>\n",
       "</div>"
      ],
      "text/plain": [
       "        DateCrawled  Price VehicleType  RegistrationYear Gearbox  Power  \\\n",
       "0  24/03/2016 11:52    480         NaN              1993  manual      0   \n",
       "1  24/03/2016 10:58  18300       coupe              2011  manual    190   \n",
       "2  14/03/2016 12:52   9800         suv              2004    auto    163   \n",
       "3  17/03/2016 16:54   1500       small              2001  manual     75   \n",
       "4  31/03/2016 17:25   3600       small              2008  manual     69   \n",
       "\n",
       "   Model  Mileage  RegistrationMonth  FuelType       Brand NotRepaired  \\\n",
       "0   golf   150000                  0    petrol  volkswagen         NaN   \n",
       "1    NaN   125000                  5  gasoline        audi         yes   \n",
       "2  grand   125000                  8  gasoline        jeep         NaN   \n",
       "3   golf   150000                  6    petrol  volkswagen          no   \n",
       "4  fabia    90000                  7  gasoline       skoda          no   \n",
       "\n",
       "        DateCreated  NumberOfPictures  PostalCode          LastSeen  \n",
       "0  24/03/2016 00:00                 0       70435  07/04/2016 03:16  \n",
       "1  24/03/2016 00:00                 0       66954  07/04/2016 01:46  \n",
       "2  14/03/2016 00:00                 0       90480  05/04/2016 12:47  \n",
       "3  17/03/2016 00:00                 0       91074  17/03/2016 17:40  \n",
       "4  31/03/2016 00:00                 0       60437  06/04/2016 10:17  "
      ]
     },
     "execution_count": 4,
     "metadata": {},
     "output_type": "execute_result"
    }
   ],
   "source": [
    "# top 5 records\n",
    "df.head()"
   ]
  },
  {
   "cell_type": "code",
   "execution_count": 5,
   "metadata": {},
   "outputs": [
    {
     "name": "stdout",
     "output_type": "stream",
     "text": [
      "<class 'pandas.core.frame.DataFrame'>\n",
      "RangeIndex: 354369 entries, 0 to 354368\n",
      "Data columns (total 16 columns):\n",
      "DateCrawled          354369 non-null object\n",
      "Price                354369 non-null int64\n",
      "VehicleType          316879 non-null object\n",
      "RegistrationYear     354369 non-null int64\n",
      "Gearbox              334536 non-null object\n",
      "Power                354369 non-null int64\n",
      "Model                334664 non-null object\n",
      "Mileage              354369 non-null int64\n",
      "RegistrationMonth    354369 non-null int64\n",
      "FuelType             321474 non-null object\n",
      "Brand                354369 non-null object\n",
      "NotRepaired          283215 non-null object\n",
      "DateCreated          354369 non-null object\n",
      "NumberOfPictures     354369 non-null int64\n",
      "PostalCode           354369 non-null int64\n",
      "LastSeen             354369 non-null object\n",
      "dtypes: int64(7), object(9)\n",
      "memory usage: 43.3+ MB\n"
     ]
    }
   ],
   "source": [
    "# df info\n",
    "df.info()"
   ]
  },
  {
   "cell_type": "code",
   "execution_count": 6,
   "metadata": {},
   "outputs": [
    {
     "data": {
      "text/plain": [
       "NotRepaired          0.200791\n",
       "VehicleType          0.105794\n",
       "FuelType             0.092827\n",
       "Gearbox              0.055967\n",
       "Model                0.055606\n",
       "LastSeen             0.000000\n",
       "PostalCode           0.000000\n",
       "NumberOfPictures     0.000000\n",
       "DateCreated          0.000000\n",
       "Brand                0.000000\n",
       "RegistrationMonth    0.000000\n",
       "Mileage              0.000000\n",
       "Power                0.000000\n",
       "RegistrationYear     0.000000\n",
       "Price                0.000000\n",
       "DateCrawled          0.000000\n",
       "dtype: float64"
      ]
     },
     "execution_count": 6,
     "metadata": {},
     "output_type": "execute_result"
    }
   ],
   "source": [
    "# missing values\n",
    "df.isnull().mean().sort_values(ascending=False)"
   ]
  },
  {
   "cell_type": "code",
   "execution_count": 7,
   "metadata": {},
   "outputs": [
    {
     "data": {
      "text/plain": [
       "262"
      ]
     },
     "execution_count": 7,
     "metadata": {},
     "output_type": "execute_result"
    }
   ],
   "source": [
    "# duplicates?\n",
    "df.duplicated().sum()"
   ]
  },
  {
   "cell_type": "code",
   "execution_count": 8,
   "metadata": {},
   "outputs": [
    {
     "data": {
      "text/plain": [
       "0.0007393423239617461"
      ]
     },
     "execution_count": 8,
     "metadata": {},
     "output_type": "execute_result"
    }
   ],
   "source": [
    "# percent duplicated\n",
    "df.duplicated().sum() / df.shape[0]"
   ]
  },
  {
   "cell_type": "code",
   "execution_count": 9,
   "metadata": {},
   "outputs": [
    {
     "data": {
      "text/html": [
       "<div>\n",
       "<style scoped>\n",
       "    .dataframe tbody tr th:only-of-type {\n",
       "        vertical-align: middle;\n",
       "    }\n",
       "\n",
       "    .dataframe tbody tr th {\n",
       "        vertical-align: top;\n",
       "    }\n",
       "\n",
       "    .dataframe thead th {\n",
       "        text-align: right;\n",
       "    }\n",
       "</style>\n",
       "<table border=\"1\" class=\"dataframe\">\n",
       "  <thead>\n",
       "    <tr style=\"text-align: right;\">\n",
       "      <th></th>\n",
       "      <th>DateCrawled</th>\n",
       "      <th>Price</th>\n",
       "      <th>VehicleType</th>\n",
       "      <th>RegistrationYear</th>\n",
       "      <th>Gearbox</th>\n",
       "      <th>Power</th>\n",
       "      <th>Model</th>\n",
       "      <th>Mileage</th>\n",
       "      <th>RegistrationMonth</th>\n",
       "      <th>FuelType</th>\n",
       "      <th>Brand</th>\n",
       "      <th>NotRepaired</th>\n",
       "      <th>DateCreated</th>\n",
       "      <th>NumberOfPictures</th>\n",
       "      <th>PostalCode</th>\n",
       "      <th>LastSeen</th>\n",
       "    </tr>\n",
       "  </thead>\n",
       "  <tbody>\n",
       "    <tr>\n",
       "      <td>14266</td>\n",
       "      <td>21/03/2016 19:06</td>\n",
       "      <td>5999</td>\n",
       "      <td>small</td>\n",
       "      <td>2009</td>\n",
       "      <td>manual</td>\n",
       "      <td>80</td>\n",
       "      <td>polo</td>\n",
       "      <td>125000</td>\n",
       "      <td>5</td>\n",
       "      <td>petrol</td>\n",
       "      <td>volkswagen</td>\n",
       "      <td>no</td>\n",
       "      <td>21/03/2016 00:00</td>\n",
       "      <td>0</td>\n",
       "      <td>65529</td>\n",
       "      <td>05/04/2016 20:47</td>\n",
       "    </tr>\n",
       "    <tr>\n",
       "      <td>27568</td>\n",
       "      <td>23/03/2016 10:38</td>\n",
       "      <td>12200</td>\n",
       "      <td>bus</td>\n",
       "      <td>2011</td>\n",
       "      <td>manual</td>\n",
       "      <td>125</td>\n",
       "      <td>zafira</td>\n",
       "      <td>40000</td>\n",
       "      <td>10</td>\n",
       "      <td>gasoline</td>\n",
       "      <td>opel</td>\n",
       "      <td>no</td>\n",
       "      <td>23/03/2016 00:00</td>\n",
       "      <td>0</td>\n",
       "      <td>26629</td>\n",
       "      <td>05/04/2016 07:44</td>\n",
       "    </tr>\n",
       "    <tr>\n",
       "      <td>31599</td>\n",
       "      <td>03/04/2016 20:41</td>\n",
       "      <td>4950</td>\n",
       "      <td>wagon</td>\n",
       "      <td>2003</td>\n",
       "      <td>auto</td>\n",
       "      <td>170</td>\n",
       "      <td>e_klasse</td>\n",
       "      <td>150000</td>\n",
       "      <td>4</td>\n",
       "      <td>gasoline</td>\n",
       "      <td>mercedes_benz</td>\n",
       "      <td>no</td>\n",
       "      <td>03/04/2016 00:00</td>\n",
       "      <td>0</td>\n",
       "      <td>48432</td>\n",
       "      <td>05/04/2016 21:17</td>\n",
       "    </tr>\n",
       "    <tr>\n",
       "      <td>33138</td>\n",
       "      <td>07/03/2016 20:45</td>\n",
       "      <td>10900</td>\n",
       "      <td>convertible</td>\n",
       "      <td>2005</td>\n",
       "      <td>auto</td>\n",
       "      <td>163</td>\n",
       "      <td>clk</td>\n",
       "      <td>125000</td>\n",
       "      <td>5</td>\n",
       "      <td>petrol</td>\n",
       "      <td>mercedes_benz</td>\n",
       "      <td>no</td>\n",
       "      <td>07/03/2016 00:00</td>\n",
       "      <td>0</td>\n",
       "      <td>61200</td>\n",
       "      <td>21/03/2016 03:45</td>\n",
       "    </tr>\n",
       "    <tr>\n",
       "      <td>43656</td>\n",
       "      <td>13/03/2016 20:48</td>\n",
       "      <td>4200</td>\n",
       "      <td>sedan</td>\n",
       "      <td>2003</td>\n",
       "      <td>manual</td>\n",
       "      <td>105</td>\n",
       "      <td>golf</td>\n",
       "      <td>150000</td>\n",
       "      <td>10</td>\n",
       "      <td>gasoline</td>\n",
       "      <td>volkswagen</td>\n",
       "      <td>no</td>\n",
       "      <td>13/03/2016 00:00</td>\n",
       "      <td>0</td>\n",
       "      <td>14482</td>\n",
       "      <td>13/03/2016 20:48</td>\n",
       "    </tr>\n",
       "  </tbody>\n",
       "</table>\n",
       "</div>"
      ],
      "text/plain": [
       "            DateCrawled  Price  VehicleType  RegistrationYear Gearbox  Power  \\\n",
       "14266  21/03/2016 19:06   5999        small              2009  manual     80   \n",
       "27568  23/03/2016 10:38  12200          bus              2011  manual    125   \n",
       "31599  03/04/2016 20:41   4950        wagon              2003    auto    170   \n",
       "33138  07/03/2016 20:45  10900  convertible              2005    auto    163   \n",
       "43656  13/03/2016 20:48   4200        sedan              2003  manual    105   \n",
       "\n",
       "          Model  Mileage  RegistrationMonth  FuelType          Brand  \\\n",
       "14266      polo   125000                  5    petrol     volkswagen   \n",
       "27568    zafira    40000                 10  gasoline           opel   \n",
       "31599  e_klasse   150000                  4  gasoline  mercedes_benz   \n",
       "33138       clk   125000                  5    petrol  mercedes_benz   \n",
       "43656      golf   150000                 10  gasoline     volkswagen   \n",
       "\n",
       "      NotRepaired       DateCreated  NumberOfPictures  PostalCode  \\\n",
       "14266          no  21/03/2016 00:00                 0       65529   \n",
       "27568          no  23/03/2016 00:00                 0       26629   \n",
       "31599          no  03/04/2016 00:00                 0       48432   \n",
       "33138          no  07/03/2016 00:00                 0       61200   \n",
       "43656          no  13/03/2016 00:00                 0       14482   \n",
       "\n",
       "               LastSeen  \n",
       "14266  05/04/2016 20:47  \n",
       "27568  05/04/2016 07:44  \n",
       "31599  05/04/2016 21:17  \n",
       "33138  21/03/2016 03:45  \n",
       "43656  13/03/2016 20:48  "
      ]
     },
     "execution_count": 9,
     "metadata": {},
     "output_type": "execute_result"
    }
   ],
   "source": [
    "# 5 duplicates\n",
    "df[df.duplicated()].head()"
   ]
  },
  {
   "cell_type": "code",
   "execution_count": 10,
   "metadata": {},
   "outputs": [
    {
     "data": {
      "text/html": [
       "<div>\n",
       "<style scoped>\n",
       "    .dataframe tbody tr th:only-of-type {\n",
       "        vertical-align: middle;\n",
       "    }\n",
       "\n",
       "    .dataframe tbody tr th {\n",
       "        vertical-align: top;\n",
       "    }\n",
       "\n",
       "    .dataframe thead th {\n",
       "        text-align: right;\n",
       "    }\n",
       "</style>\n",
       "<table border=\"1\" class=\"dataframe\">\n",
       "  <thead>\n",
       "    <tr style=\"text-align: right;\">\n",
       "      <th></th>\n",
       "      <th>Price</th>\n",
       "      <th>RegistrationYear</th>\n",
       "      <th>Power</th>\n",
       "      <th>Mileage</th>\n",
       "      <th>RegistrationMonth</th>\n",
       "      <th>NumberOfPictures</th>\n",
       "      <th>PostalCode</th>\n",
       "    </tr>\n",
       "  </thead>\n",
       "  <tbody>\n",
       "    <tr>\n",
       "      <td>count</td>\n",
       "      <td>354369.000000</td>\n",
       "      <td>354369.000000</td>\n",
       "      <td>354369.000000</td>\n",
       "      <td>354369.000000</td>\n",
       "      <td>354369.000000</td>\n",
       "      <td>354369.0</td>\n",
       "      <td>354369.000000</td>\n",
       "    </tr>\n",
       "    <tr>\n",
       "      <td>mean</td>\n",
       "      <td>4416.656776</td>\n",
       "      <td>2004.234448</td>\n",
       "      <td>110.094337</td>\n",
       "      <td>128211.172535</td>\n",
       "      <td>5.714645</td>\n",
       "      <td>0.0</td>\n",
       "      <td>50508.689087</td>\n",
       "    </tr>\n",
       "    <tr>\n",
       "      <td>std</td>\n",
       "      <td>4514.158514</td>\n",
       "      <td>90.227958</td>\n",
       "      <td>189.850405</td>\n",
       "      <td>37905.341530</td>\n",
       "      <td>3.726421</td>\n",
       "      <td>0.0</td>\n",
       "      <td>25783.096248</td>\n",
       "    </tr>\n",
       "    <tr>\n",
       "      <td>min</td>\n",
       "      <td>0.000000</td>\n",
       "      <td>1000.000000</td>\n",
       "      <td>0.000000</td>\n",
       "      <td>5000.000000</td>\n",
       "      <td>0.000000</td>\n",
       "      <td>0.0</td>\n",
       "      <td>1067.000000</td>\n",
       "    </tr>\n",
       "    <tr>\n",
       "      <td>25%</td>\n",
       "      <td>1050.000000</td>\n",
       "      <td>1999.000000</td>\n",
       "      <td>69.000000</td>\n",
       "      <td>125000.000000</td>\n",
       "      <td>3.000000</td>\n",
       "      <td>0.0</td>\n",
       "      <td>30165.000000</td>\n",
       "    </tr>\n",
       "    <tr>\n",
       "      <td>50%</td>\n",
       "      <td>2700.000000</td>\n",
       "      <td>2003.000000</td>\n",
       "      <td>105.000000</td>\n",
       "      <td>150000.000000</td>\n",
       "      <td>6.000000</td>\n",
       "      <td>0.0</td>\n",
       "      <td>49413.000000</td>\n",
       "    </tr>\n",
       "    <tr>\n",
       "      <td>75%</td>\n",
       "      <td>6400.000000</td>\n",
       "      <td>2008.000000</td>\n",
       "      <td>143.000000</td>\n",
       "      <td>150000.000000</td>\n",
       "      <td>9.000000</td>\n",
       "      <td>0.0</td>\n",
       "      <td>71083.000000</td>\n",
       "    </tr>\n",
       "    <tr>\n",
       "      <td>max</td>\n",
       "      <td>20000.000000</td>\n",
       "      <td>9999.000000</td>\n",
       "      <td>20000.000000</td>\n",
       "      <td>150000.000000</td>\n",
       "      <td>12.000000</td>\n",
       "      <td>0.0</td>\n",
       "      <td>99998.000000</td>\n",
       "    </tr>\n",
       "  </tbody>\n",
       "</table>\n",
       "</div>"
      ],
      "text/plain": [
       "               Price  RegistrationYear          Power        Mileage  \\\n",
       "count  354369.000000     354369.000000  354369.000000  354369.000000   \n",
       "mean     4416.656776       2004.234448     110.094337  128211.172535   \n",
       "std      4514.158514         90.227958     189.850405   37905.341530   \n",
       "min         0.000000       1000.000000       0.000000    5000.000000   \n",
       "25%      1050.000000       1999.000000      69.000000  125000.000000   \n",
       "50%      2700.000000       2003.000000     105.000000  150000.000000   \n",
       "75%      6400.000000       2008.000000     143.000000  150000.000000   \n",
       "max     20000.000000       9999.000000   20000.000000  150000.000000   \n",
       "\n",
       "       RegistrationMonth  NumberOfPictures     PostalCode  \n",
       "count      354369.000000          354369.0  354369.000000  \n",
       "mean            5.714645               0.0   50508.689087  \n",
       "std             3.726421               0.0   25783.096248  \n",
       "min             0.000000               0.0    1067.000000  \n",
       "25%             3.000000               0.0   30165.000000  \n",
       "50%             6.000000               0.0   49413.000000  \n",
       "75%             9.000000               0.0   71083.000000  \n",
       "max            12.000000               0.0   99998.000000  "
      ]
     },
     "execution_count": 10,
     "metadata": {},
     "output_type": "execute_result"
    }
   ],
   "source": [
    "# 5 point summary\n",
    "df.describe()"
   ]
  },
  {
   "cell_type": "markdown",
   "metadata": {},
   "source": [
    "**Conclusion**\n",
    "\n",
    "1) Each observation describes a model of a car; there are 354369 cars and 16 features.\n",
    "\n",
    "2) The top 2 features with missing values are: `NotRepaired` (20%) and `VehicleType` (11%).\n",
    "\n",
    "3) 262 (.07%) of the records are duplicated. Given that this data was scraped from a website, this is expected.\n",
    "\n",
    "4) The numerical summary show outliers for the `Price`, `RegistrationYear`, and `Power`. The `NumberOfPictures` feature has no data."
   ]
  },
  {
   "cell_type": "markdown",
   "metadata": {},
   "source": [
    "### Data preparation\n",
    "\n",
    "#### Fix the date fields"
   ]
  },
  {
   "cell_type": "code",
   "execution_count": 11,
   "metadata": {},
   "outputs": [],
   "source": [
    "df['DateCrawled'] = pd.to_datetime(df['DateCrawled'], format='%d/%m/%Y %H:%M')\n",
    "df['DateCreated'] = pd.to_datetime(df['DateCreated'], format='%d/%m/%Y %H:%M')\n",
    "df['LastSeen'] = pd.to_datetime(df['LastSeen'], format='%d/%m/%Y %H:%M')"
   ]
  },
  {
   "cell_type": "code",
   "execution_count": 12,
   "metadata": {},
   "outputs": [
    {
     "data": {
      "text/plain": [
       "(Timestamp('2016-03-05 14:06:00'), Timestamp('2016-04-07 14:36:00'))"
      ]
     },
     "execution_count": 12,
     "metadata": {},
     "output_type": "execute_result"
    }
   ],
   "source": [
    "df['DateCrawled'].min(), df['DateCrawled'].max()"
   ]
  },
  {
   "cell_type": "code",
   "execution_count": 13,
   "metadata": {},
   "outputs": [
    {
     "data": {
      "text/plain": [
       "(Timestamp('2014-03-10 00:00:00'), Timestamp('2016-04-07 00:00:00'))"
      ]
     },
     "execution_count": 13,
     "metadata": {},
     "output_type": "execute_result"
    }
   ],
   "source": [
    "df['DateCreated'].min(), df['DateCreated'].max() "
   ]
  },
  {
   "cell_type": "code",
   "execution_count": 14,
   "metadata": {},
   "outputs": [
    {
     "data": {
      "text/plain": [
       "(Timestamp('2016-03-05 14:15:00'), Timestamp('2016-04-07 14:58:00'))"
      ]
     },
     "execution_count": 14,
     "metadata": {},
     "output_type": "execute_result"
    }
   ],
   "source": [
    "df['LastSeen'].min(), df['LastSeen'].max() "
   ]
  },
  {
   "cell_type": "markdown",
   "metadata": {},
   "source": [
    "1) The data has been crawled for a period of 1 month.\n",
    "\n",
    "2) The `DateCreated` ranges for a period of 2 years."
   ]
  },
  {
   "cell_type": "markdown",
   "metadata": {},
   "source": [
    " #### Drop duplicates"
   ]
  },
  {
   "cell_type": "code",
   "execution_count": 15,
   "metadata": {},
   "outputs": [],
   "source": [
    "df.drop_duplicates(inplace=True)"
   ]
  },
  {
   "cell_type": "code",
   "execution_count": 16,
   "metadata": {},
   "outputs": [
    {
     "data": {
      "text/plain": [
       "(354107, 16)"
      ]
     },
     "execution_count": 16,
     "metadata": {},
     "output_type": "execute_result"
    }
   ],
   "source": [
    "df.shape"
   ]
  },
  {
   "cell_type": "markdown",
   "metadata": {},
   "source": [
    "#### Create a new field using `LastSeen` and `DateCreated`"
   ]
  },
  {
   "cell_type": "code",
   "execution_count": 17,
   "metadata": {},
   "outputs": [],
   "source": [
    "df['DaysOnSite'] = (df['LastSeen'] - df['DateCreated']).dt.days"
   ]
  },
  {
   "cell_type": "code",
   "execution_count": 18,
   "metadata": {},
   "outputs": [
    {
     "data": {
      "text/plain": [
       "False"
      ]
     },
     "execution_count": 18,
     "metadata": {},
     "output_type": "execute_result"
    }
   ],
   "source": [
    "# check for negative days\n",
    "np.any(df['DaysOnSite'] < 0)"
   ]
  },
  {
   "cell_type": "markdown",
   "metadata": {},
   "source": [
    "#### Create date features from DateCreated"
   ]
  },
  {
   "cell_type": "code",
   "execution_count": 19,
   "metadata": {},
   "outputs": [],
   "source": [
    "df['CreateYear'] = df['DateCreated'].dt.year\n",
    "df['CreateMonth'] = df['DateCreated'].dt.month\n",
    "df['CreateDay'] = df['DateCreated'].dt.day"
   ]
  },
  {
   "cell_type": "markdown",
   "metadata": {},
   "source": [
    "#### Reduce the number of categories\n",
    "\n",
    "`Model` has 251 categories including NaN. Reduce it to to the top\n",
    "80%, and replace the sparsely represented categories with a new\n",
    "label"
   ]
  },
  {
   "cell_type": "code",
   "execution_count": 20,
   "metadata": {},
   "outputs": [],
   "source": [
    "# calculate the cumulative percentage\n",
    "# and identify the top n Models that\n",
    "# make up 80% of the observations\n",
    "# model_counts = pd.DataFrame(df['Model'].value_counts())\n",
    "# model_cumulative = pd.DataFrame(model_counts['Model'].cumsum() / model_counts['Model'].sum())\n",
    "# models_80pct = model_cumulative[model_cumulative['Model'] < 0.8].index"
   ]
  },
  {
   "cell_type": "code",
   "execution_count": 21,
   "metadata": {},
   "outputs": [],
   "source": [
    "# df['Model'] = df['Model'].apply(lambda x: x if x in models_80pct else 'other')"
   ]
  },
  {
   "cell_type": "markdown",
   "metadata": {},
   "source": [
    " #### Populate the missing values for the categorical fields\n",
    "   \n",
    "   *NotRepaired* <br/>\n",
    "   *VehicleType* <br/>\n",
    "   *FuelType* <br/>\n",
    "   *Gearbox* <br/>\n",
    "   *Model*"
   ]
  },
  {
   "cell_type": "code",
   "execution_count": 22,
   "metadata": {},
   "outputs": [],
   "source": [
    "def category_distribution(df, field):\n",
    "    \"\"\"\n",
    "    Distribution of categorical features\n",
    "    \"\"\"\n",
    "    print(f'Distribution for {field}')\n",
    "    print(df[field].value_counts(normalize=True, dropna=False))\n",
    "    print()"
   ]
  },
  {
   "cell_type": "code",
   "execution_count": 23,
   "metadata": {},
   "outputs": [
    {
     "name": "stdout",
     "output_type": "stream",
     "text": [
      "Distribution for NotRepaired\n",
      "no     0.697323\n",
      "NaN    0.200914\n",
      "yes    0.101763\n",
      "Name: NotRepaired, dtype: float64\n",
      "\n",
      "Distribution for VehicleType\n",
      "sedan          0.258111\n",
      "small          0.225223\n",
      "wagon          0.183885\n",
      "NaN            0.105855\n",
      "bus            0.081196\n",
      "convertible    0.056988\n",
      "coupe          0.045599\n",
      "suv            0.033863\n",
      "other          0.009280\n",
      "Name: VehicleType, dtype: float64\n",
      "\n",
      "Distribution for FuelType\n",
      "petrol      0.610440\n",
      "gasoline    0.278611\n",
      "NaN         0.092879\n",
      "lpg         0.014987\n",
      "cng         0.001596\n",
      "hybrid      0.000658\n",
      "other       0.000576\n",
      "electric    0.000254\n",
      "Name: FuelType, dtype: float64\n",
      "\n",
      "Distribution for Gearbox\n",
      "manual    0.756929\n",
      "auto      0.187071\n",
      "NaN       0.056000\n",
      "Name: Gearbox, dtype: float64\n",
      "\n",
      "Distribution for Model\n",
      "golf                  0.082503\n",
      "other                 0.068911\n",
      "3er                   0.055757\n",
      "NaN                   0.055636\n",
      "polo                  0.036873\n",
      "                        ...   \n",
      "serie_2               0.000023\n",
      "serie_3               0.000011\n",
      "rangerover            0.000011\n",
      "serie_1               0.000006\n",
      "range_rover_evoque    0.000006\n",
      "Name: Model, Length: 251, dtype: float64\n",
      "\n"
     ]
    }
   ],
   "source": [
    "cat_cols = ['NotRepaired', 'VehicleType', 'FuelType', 'Gearbox', 'Model']\n",
    "for col in cat_cols:\n",
    "    category_distribution(df, col)"
   ]
  },
  {
   "cell_type": "code",
   "execution_count": 24,
   "metadata": {},
   "outputs": [],
   "source": [
    "def populate_missing_categories(df, field):\n",
    "    \"\"\"\n",
    "    Populate missing categories\n",
    "    \"\"\"\n",
    "    np.random.seed(42)\n",
    "    a = df[field].value_counts().index\n",
    "    p = df[field].value_counts(normalize=True).values\n",
    "    size = df[field].isnull().sum()\n",
    "    values = np.random.choice(a, p=p, size=size)\n",
    "    return values"
   ]
  },
  {
   "cell_type": "code",
   "execution_count": 25,
   "metadata": {},
   "outputs": [
    {
     "name": "stdout",
     "output_type": "stream",
     "text": [
      "Populate missing values for NotRepaired\n",
      "Populate missing values for Gearbox\n"
     ]
    }
   ],
   "source": [
    "bin_cols = ['NotRepaired', 'Gearbox']\n",
    "for col in bin_cols:\n",
    "    print(f'Populate missing values for {col}')\n",
    "    df.loc[df[col].isnull(), col] = populate_missing_categories(df, col)"
   ]
  },
  {
   "cell_type": "code",
   "execution_count": 26,
   "metadata": {},
   "outputs": [],
   "source": [
    "def build_model_to_populate_missing_feats(model, df, target, \n",
    "                hyperparameters={}, \n",
    "                scoring=None,\n",
    "                cv=2, frac=0.4, drop_feats=[], cat_features=[], verbose=False):\n",
    "    \"\"\"\n",
    "    Build model to populate missing categorical features\n",
    "    \"\"\"\n",
    "    np.random.seed(42)\n",
    "    start_time = time.time()\n",
    "    data = df.copy(deep=True)\n",
    "    data.drop(drop_feats, axis=1, inplace=True)\n",
    "    data[cat_features] = data[cat_features].replace(np.nan, 'nan')\n",
    "    oe = OrdinalEncoder()\n",
    "    data[cat_features] = oe.fit_transform(data[cat_features]).astype(np.uint16)\n",
    "    train_X, train_y = (\n",
    "                        data[data[target].notnull()].drop([target], axis=1).sample(frac=frac, random_state=42),\n",
    "                        data[data[target].notnull()][target].sample(frac=frac, random_state=42)\n",
    "    )\n",
    "    test_X = data[data[target].isnull()].drop([target], axis=1)\n",
    "    print(f'Shape of train set is {train_X.shape} and test set is {test_X.shape}')\n",
    "    del data\n",
    "    gs = GridSearchCV(model, param_grid=hyperparameters, cv=cv, scoring=scoring)\n",
    "    gs.fit(train_X, train_y)\n",
    "    \n",
    "    gs.best_estimator_.fit(train_X, train_y, cat_features=cat_features, verbose=verbose)\n",
    "    preds = gs.best_estimator_.predict(test_X)\n",
    "    df.loc[df[target].isnull(), target] = preds\n",
    "    end_time = time.time() - start_time\n",
    "    del train_X, test_X, train_y\n",
    "    print(f'Time taken to complete predictions for {target} is {end_time} seconds')"
   ]
  },
  {
   "cell_type": "code",
   "execution_count": 27,
   "metadata": {},
   "outputs": [
    {
     "name": "stdout",
     "output_type": "stream",
     "text": [
      "Shape of train set is (126649, 16) and test set is (37484, 16)\n",
      "0:\tlearn: 0.5198981\ttotal: 621ms\tremaining: 5.59s\n",
      "1:\tlearn: 0.5236352\ttotal: 1.11s\tremaining: 4.46s\n",
      "2:\tlearn: 0.5436369\ttotal: 1.61s\tremaining: 3.76s\n",
      "3:\tlearn: 0.5615812\ttotal: 2.02s\tremaining: 3.02s\n",
      "4:\tlearn: 0.5866124\ttotal: 2.51s\tremaining: 2.51s\n",
      "5:\tlearn: 0.6065892\ttotal: 2.92s\tremaining: 1.94s\n",
      "6:\tlearn: 0.6165993\ttotal: 3.41s\tremaining: 1.46s\n",
      "7:\tlearn: 0.6229654\ttotal: 3.91s\tremaining: 977ms\n",
      "8:\tlearn: 0.6292120\ttotal: 4.32s\tremaining: 480ms\n",
      "9:\tlearn: 0.6343606\ttotal: 4.81s\tremaining: 0us\n",
      "0:\tlearn: 0.4847890\ttotal: 474ms\tremaining: 4.27s\n",
      "1:\tlearn: 0.4828551\ttotal: 970ms\tremaining: 3.88s\n",
      "2:\tlearn: 0.5022748\ttotal: 1.37s\tremaining: 3.2s\n",
      "3:\tlearn: 0.5299392\ttotal: 1.87s\tremaining: 2.8s\n",
      "4:\tlearn: 0.5537124\ttotal: 2.27s\tremaining: 2.27s\n",
      "5:\tlearn: 0.5690227\ttotal: 2.77s\tremaining: 1.84s\n",
      "6:\tlearn: 0.5794566\ttotal: 3.27s\tremaining: 1.4s\n",
      "7:\tlearn: 0.5960868\ttotal: 3.68s\tremaining: 921ms\n",
      "8:\tlearn: 0.6053946\ttotal: 4.17s\tremaining: 463ms\n",
      "9:\tlearn: 0.6146119\ttotal: 4.67s\tremaining: 0us\n",
      "0:\tlearn: 0.5006553\ttotal: 822ms\tremaining: 7.4s\n",
      "1:\tlearn: 0.4476161\ttotal: 1.61s\tremaining: 6.45s\n",
      "2:\tlearn: 0.5382963\ttotal: 2.32s\tremaining: 5.41s\n",
      "3:\tlearn: 0.5506889\ttotal: 3.11s\tremaining: 4.66s\n",
      "4:\tlearn: 0.5704428\ttotal: 3.81s\tremaining: 3.81s\n",
      "5:\tlearn: 0.5888403\ttotal: 4.51s\tremaining: 3.01s\n",
      "6:\tlearn: 0.5988842\ttotal: 5.31s\tremaining: 2.27s\n",
      "7:\tlearn: 0.6147282\ttotal: 6.02s\tremaining: 1.5s\n",
      "8:\tlearn: 0.6256636\ttotal: 6.82s\tremaining: 757ms\n",
      "9:\tlearn: 0.6335464\ttotal: 7.62s\tremaining: 0us\n",
      "Time taken to complete predictions for VehicleType is 60.378334045410156 seconds\n"
     ]
    }
   ],
   "source": [
    "drop_feats = ['DateCrawled', 'DateCreated', 'LastSeen']\n",
    "cat_spl_features = ['Gearbox', 'Brand',\n",
    "               'Model', 'FuelType', 'NotRepaired', 'CreateYear', 'CreateMonth', \n",
    "               'CreateDay', 'PostalCode']\n",
    "cat_classifier = CatBoostClassifier(\n",
    "                        learning_rate=0.9, \n",
    "                        loss_function='MultiClass',\n",
    "                        early_stopping_rounds=5,\n",
    "                        depth=9,\n",
    "                        eval_metric='TotalF1',\n",
    "                        random_seed=42)\n",
    "target = 'VehicleType'\n",
    "build_model_to_populate_missing_feats(cat_classifier, \n",
    "                                      df, target, \n",
    "                                      hyperparameters={'iterations': [10]}, \n",
    "                                      scoring='f1_weighted', \n",
    "                                      cv=2,\n",
    "                                      drop_feats=drop_feats,\n",
    "                                      cat_features=cat_spl_features\n",
    "                                     )"
   ]
  },
  {
   "cell_type": "code",
   "execution_count": 28,
   "metadata": {},
   "outputs": [
    {
     "data": {
      "text/plain": [
       "0"
      ]
     },
     "execution_count": 28,
     "metadata": {},
     "output_type": "execute_result"
    }
   ],
   "source": [
    "# check if feat is populated\n",
    "df['VehicleType'].isnull().sum()"
   ]
  },
  {
   "cell_type": "code",
   "execution_count": 29,
   "metadata": {},
   "outputs": [
    {
     "name": "stdout",
     "output_type": "stream",
     "text": [
      "Shape of train set is (64244, 16) and test set is (32889, 16)\n",
      "0:\tlearn: 0.7665082\ttotal: 331ms\tremaining: 2.98s\n",
      "1:\tlearn: 0.6489663\ttotal: 544ms\tremaining: 2.17s\n",
      "2:\tlearn: 0.7776520\ttotal: 843ms\tremaining: 1.97s\n",
      "3:\tlearn: 0.7884434\ttotal: 1.14s\tremaining: 1.71s\n",
      "4:\tlearn: 0.7951763\ttotal: 1.44s\tremaining: 1.44s\n",
      "5:\tlearn: 0.7964482\ttotal: 1.73s\tremaining: 1.16s\n",
      "6:\tlearn: 0.7864857\ttotal: 2.03s\tremaining: 872ms\n",
      "7:\tlearn: 0.8028327\ttotal: 2.33s\tremaining: 583ms\n",
      "8:\tlearn: 0.8090975\ttotal: 2.63s\tremaining: 292ms\n",
      "9:\tlearn: 0.8149642\ttotal: 2.92s\tremaining: 0us\n",
      "0:\tlearn: 0.7579364\ttotal: 156ms\tremaining: 1.4s\n",
      "1:\tlearn: 0.6185920\ttotal: 447ms\tremaining: 1.79s\n",
      "2:\tlearn: 0.7764156\ttotal: 742ms\tremaining: 1.73s\n",
      "3:\tlearn: 0.7895516\ttotal: 1.03s\tremaining: 1.55s\n",
      "4:\tlearn: 0.7974414\ttotal: 1.25s\tremaining: 1.25s\n",
      "5:\tlearn: 0.8000673\ttotal: 1.54s\tremaining: 1.03s\n",
      "6:\tlearn: 0.8050236\ttotal: 1.84s\tremaining: 791ms\n",
      "7:\tlearn: 0.8086999\ttotal: 2.15s\tremaining: 537ms\n",
      "8:\tlearn: 0.8138918\ttotal: 2.45s\tremaining: 272ms\n",
      "9:\tlearn: 0.8186598\ttotal: 2.74s\tremaining: 0us\n",
      "0:\tlearn: 0.7733725\ttotal: 498ms\tremaining: 4.48s\n",
      "1:\tlearn: 0.6292308\ttotal: 899ms\tremaining: 3.6s\n",
      "2:\tlearn: 0.7784307\ttotal: 1.3s\tremaining: 3.03s\n",
      "3:\tlearn: 0.7759439\ttotal: 1.7s\tremaining: 2.55s\n",
      "4:\tlearn: 0.7216778\ttotal: 2.19s\tremaining: 2.19s\n",
      "5:\tlearn: 0.7644314\ttotal: 2.59s\tremaining: 1.73s\n",
      "6:\tlearn: 0.7777498\ttotal: 2.99s\tremaining: 1.28s\n",
      "7:\tlearn: 0.7808737\ttotal: 3.39s\tremaining: 848ms\n",
      "8:\tlearn: 0.7729604\ttotal: 3.79s\tremaining: 421ms\n",
      "9:\tlearn: 0.7642265\ttotal: 4.19s\tremaining: 0us\n",
      "Time taken to complete predictions for FuelType is 31.53670597076416 seconds\n"
     ]
    }
   ],
   "source": [
    "drop_feats = ['DateCrawled', 'DateCreated', 'LastSeen']\n",
    "cat_spl_features = ['VehicleType', 'Gearbox', 'Brand',\n",
    "               'Model', 'NotRepaired', 'CreateYear', 'CreateMonth', \n",
    "               'CreateDay', 'PostalCode']\n",
    "cat_classifier = CatBoostClassifier(\n",
    "                        learning_rate=0.9, \n",
    "                        loss_function='MultiClass',\n",
    "                        early_stopping_rounds=5,\n",
    "                        depth=9,\n",
    "                        eval_metric='TotalF1',\n",
    "                        random_seed=42)\n",
    "target = 'FuelType'\n",
    "build_model_to_populate_missing_feats(cat_classifier, \n",
    "                                      df, target, \n",
    "                                      hyperparameters={'iterations': [10]}, \n",
    "                                      scoring='f1_weighted', \n",
    "                                      cv=2,\n",
    "                                      frac=0.2,\n",
    "                                      drop_feats=drop_feats,\n",
    "                                      cat_features=cat_spl_features\n",
    "                                     )"
   ]
  },
  {
   "cell_type": "code",
   "execution_count": 30,
   "metadata": {},
   "outputs": [
    {
     "data": {
      "text/plain": [
       "0"
      ]
     },
     "execution_count": 30,
     "metadata": {},
     "output_type": "execute_result"
    }
   ],
   "source": [
    "# check if feat is populated\n",
    "df['FuelType'].isnull().sum()"
   ]
  },
  {
   "cell_type": "code",
   "execution_count": 31,
   "metadata": {},
   "outputs": [
    {
     "name": "stdout",
     "output_type": "stream",
     "text": [
      "Distribution for NotRepaired\n",
      "no     0.872892\n",
      "yes    0.127108\n",
      "Name: NotRepaired, dtype: float64\n",
      "\n",
      "Distribution for VehicleType\n",
      "sedan          0.297797\n",
      "small          0.263663\n",
      "wagon          0.196023\n",
      "bus            0.091326\n",
      "convertible    0.059352\n",
      "coupe          0.046952\n",
      "suv            0.035244\n",
      "other          0.009644\n",
      "Name: VehicleType, dtype: float64\n",
      "\n",
      "Distribution for FuelType\n",
      "petrol      0.683887\n",
      "gasoline    0.297933\n",
      "lpg         0.015080\n",
      "cng         0.001596\n",
      "hybrid      0.000675\n",
      "other       0.000576\n",
      "electric    0.000254\n",
      "Name: FuelType, dtype: float64\n",
      "\n",
      "Distribution for Gearbox\n",
      "manual    0.801831\n",
      "auto      0.198169\n",
      "Name: Gearbox, dtype: float64\n",
      "\n",
      "Distribution for Model\n",
      "golf                  0.082503\n",
      "other                 0.068911\n",
      "3er                   0.055757\n",
      "NaN                   0.055636\n",
      "polo                  0.036873\n",
      "                        ...   \n",
      "serie_2               0.000023\n",
      "serie_3               0.000011\n",
      "rangerover            0.000011\n",
      "serie_1               0.000006\n",
      "range_rover_evoque    0.000006\n",
      "Name: Model, Length: 251, dtype: float64\n",
      "\n"
     ]
    }
   ],
   "source": [
    "# check distribution of categorical features after populating missing values\n",
    "for col in cat_cols:\n",
    "    category_distribution(df, col)"
   ]
  },
  {
   "cell_type": "markdown",
   "metadata": {},
   "source": [
    "1) Overall, it appears that the distribution hasn't changed significantly."
   ]
  },
  {
   "cell_type": "code",
   "execution_count": 32,
   "metadata": {},
   "outputs": [
    {
     "data": {
      "text/plain": [
       "35"
      ]
     },
     "execution_count": 32,
     "metadata": {},
     "output_type": "execute_result"
    }
   ],
   "source": [
    "# post fixing of missing values has produced 35 duplicates\n",
    "df.duplicated().sum()"
   ]
  },
  {
   "cell_type": "markdown",
   "metadata": {},
   "source": [
    "#### Drop duplicates post filling missing categorical features"
   ]
  },
  {
   "cell_type": "code",
   "execution_count": 33,
   "metadata": {},
   "outputs": [],
   "source": [
    "df.drop_duplicates(inplace=True)"
   ]
  },
  {
   "cell_type": "markdown",
   "metadata": {},
   "source": [
    "#### Plot histograms"
   ]
  },
  {
   "cell_type": "code",
   "execution_count": 34,
   "metadata": {},
   "outputs": [
    {
     "data": {
      "image/png": "[encoded data removed]",
      "text/plain": [
       "<Figure size 864x648 with 9 Axes>"
      ]
     },
     "metadata": {
      "needs_background": "light"
     },
     "output_type": "display_data"
    }
   ],
   "source": [
    "hist_cols = ['Price', 'RegistrationYear', 'RegistrationMonth', 'Power', 'Mileage',\n",
    "            'DaysOnSite', 'PostalCode']\n",
    "xlabels = [['Days since creation', 'Km/liter', 'PostalCode'], \n",
    "          ['BHP', 'EUR', 'Month'],\n",
    "          ['Year']]\n",
    "fig, ax = plt.subplots(figsize=(12, 9))\n",
    "axes = df[hist_cols].hist(bins=30, ax=ax)\n",
    "for i in range(len(axes)):\n",
    "    for j in range(len(axes)):\n",
    "        if i == 2 and j > 0: continue\n",
    "        axes[i][j].set_xlabel(xlabels[i][j])\n",
    "plt.suptitle('Histogram of numerical features before treating outliers')\n",
    "plt.tight_layout(rect=[0, 0.03, 1, 0.95])\n",
    "plt.show()"
   ]
  },
  {
   "cell_type": "markdown",
   "metadata": {},
   "source": [
    "1) The `Price` is right-skewed; there are observations with very low priced cars, which is abnormal.\n",
    "\n",
    "2) Majority of the `RegistrationYear` is year 2000. However, we know that there are outliers here; the same applies\n",
    "to `Power`."
   ]
  },
  {
   "cell_type": "markdown",
   "metadata": {},
   "source": [
    "**Possible fix**"
   ]
  },
  {
   "cell_type": "markdown",
   "metadata": {},
   "source": [
    "1) Analysis of `Power` based on the following site (Production cars by power)[https://en.wikipedia.org/wiki/List_of_production_cars_by_power_output],\n",
    "we will cap the lower range to 100 HP and the higher end to 2000 HP.\n",
    "\n",
    "2) Since `Price` is subjective, we will cap the lower end to EUR 50.\n",
    "\n",
    "3) For `RegistrationYear`, the lower bound will be 1900 and the upper bound is 2021.\n",
    "\n",
    "4) `RegistrationMonth` with value of 0 will be replaced by the probability of occurrence of the other months.\n",
    "\n",
    "5) `FuelType` and `VehicleType` were populated using a CatBoostClassifier model."
   ]
  },
  {
   "cell_type": "markdown",
   "metadata": {},
   "source": [
    "#### Investigate the  outliers"
   ]
  },
  {
   "cell_type": "code",
   "execution_count": 35,
   "metadata": {},
   "outputs": [],
   "source": [
    "def identify_outliers(df, field):\n",
    "    \"\"\"\n",
    "    Identify outliers\n",
    "    \"\"\"\n",
    "    Q1 = df[field].quantile(.25)\n",
    "    Q3 = df[field].quantile(.75)\n",
    "    IQR = Q3 - Q1\n",
    "    lb = Q1 - 1.5 * IQR\n",
    "    ub = Q3 + 1.5 * IQR\n",
    "    return lb, ub"
   ]
  },
  {
   "cell_type": "code",
   "execution_count": 36,
   "metadata": {},
   "outputs": [
    {
     "data": {
      "text/plain": [
       "(12420, 20)"
      ]
     },
     "execution_count": 36,
     "metadata": {},
     "output_type": "execute_result"
    }
   ],
   "source": [
    "# Price with EUR < 50\n",
    "df[df['Price'] < 50].shape"
   ]
  },
  {
   "cell_type": "code",
   "execution_count": 37,
   "metadata": {},
   "outputs": [
    {
     "data": {
      "text/plain": [
       "0.03507761133328814"
      ]
     },
     "execution_count": 37,
     "metadata": {},
     "output_type": "execute_result"
    }
   ],
   "source": [
    "# how much data are we throwing\n",
    "df[df['Price'] < 50].shape[0] / df.shape[0]"
   ]
  },
  {
   "cell_type": "code",
   "execution_count": 38,
   "metadata": {},
   "outputs": [
    {
     "data": {
      "text/html": [
       "<div>\n",
       "<style scoped>\n",
       "    .dataframe tbody tr th:only-of-type {\n",
       "        vertical-align: middle;\n",
       "    }\n",
       "\n",
       "    .dataframe tbody tr th {\n",
       "        vertical-align: top;\n",
       "    }\n",
       "\n",
       "    .dataframe thead th {\n",
       "        text-align: right;\n",
       "    }\n",
       "</style>\n",
       "<table border=\"1\" class=\"dataframe\">\n",
       "  <thead>\n",
       "    <tr style=\"text-align: right;\">\n",
       "      <th></th>\n",
       "      <th>Price</th>\n",
       "      <th>RegistrationYear</th>\n",
       "      <th>Power</th>\n",
       "      <th>Mileage</th>\n",
       "      <th>RegistrationMonth</th>\n",
       "      <th>NumberOfPictures</th>\n",
       "      <th>PostalCode</th>\n",
       "      <th>DaysOnSite</th>\n",
       "      <th>CreateYear</th>\n",
       "      <th>CreateMonth</th>\n",
       "      <th>CreateDay</th>\n",
       "    </tr>\n",
       "  </thead>\n",
       "  <tbody>\n",
       "    <tr>\n",
       "      <td>count</td>\n",
       "      <td>12420.000000</td>\n",
       "      <td>12420.000000</td>\n",
       "      <td>12420.000000</td>\n",
       "      <td>12420.000000</td>\n",
       "      <td>12420.000000</td>\n",
       "      <td>12420.0</td>\n",
       "      <td>12420.000000</td>\n",
       "      <td>12420.000000</td>\n",
       "      <td>12420.0</td>\n",
       "      <td>12420.000000</td>\n",
       "      <td>12420.000000</td>\n",
       "    </tr>\n",
       "    <tr>\n",
       "      <td>mean</td>\n",
       "      <td>0.893156</td>\n",
       "      <td>2008.495572</td>\n",
       "      <td>79.470773</td>\n",
       "      <td>121469.404187</td>\n",
       "      <td>3.600483</td>\n",
       "      <td>0.0</td>\n",
       "      <td>45399.282448</td>\n",
       "      <td>7.517955</td>\n",
       "      <td>2016.0</td>\n",
       "      <td>3.156441</td>\n",
       "      <td>16.045813</td>\n",
       "    </tr>\n",
       "    <tr>\n",
       "      <td>std</td>\n",
       "      <td>4.753588</td>\n",
       "      <td>262.170104</td>\n",
       "      <td>227.383905</td>\n",
       "      <td>50988.365939</td>\n",
       "      <td>4.022439</td>\n",
       "      <td>0.0</td>\n",
       "      <td>26368.614495</td>\n",
       "      <td>8.117499</td>\n",
       "      <td>0.0</td>\n",
       "      <td>0.365057</td>\n",
       "      <td>9.117634</td>\n",
       "    </tr>\n",
       "    <tr>\n",
       "      <td>min</td>\n",
       "      <td>0.000000</td>\n",
       "      <td>1000.000000</td>\n",
       "      <td>0.000000</td>\n",
       "      <td>5000.000000</td>\n",
       "      <td>0.000000</td>\n",
       "      <td>0.0</td>\n",
       "      <td>1069.000000</td>\n",
       "      <td>0.000000</td>\n",
       "      <td>2016.0</td>\n",
       "      <td>1.000000</td>\n",
       "      <td>1.000000</td>\n",
       "    </tr>\n",
       "    <tr>\n",
       "      <td>25%</td>\n",
       "      <td>0.000000</td>\n",
       "      <td>1996.000000</td>\n",
       "      <td>0.000000</td>\n",
       "      <td>125000.000000</td>\n",
       "      <td>0.000000</td>\n",
       "      <td>0.0</td>\n",
       "      <td>25746.000000</td>\n",
       "      <td>1.000000</td>\n",
       "      <td>2016.0</td>\n",
       "      <td>3.000000</td>\n",
       "      <td>8.000000</td>\n",
       "    </tr>\n",
       "    <tr>\n",
       "      <td>50%</td>\n",
       "      <td>0.000000</td>\n",
       "      <td>2000.000000</td>\n",
       "      <td>73.000000</td>\n",
       "      <td>150000.000000</td>\n",
       "      <td>2.000000</td>\n",
       "      <td>0.0</td>\n",
       "      <td>44269.000000</td>\n",
       "      <td>4.000000</td>\n",
       "      <td>2016.0</td>\n",
       "      <td>3.000000</td>\n",
       "      <td>16.000000</td>\n",
       "    </tr>\n",
       "    <tr>\n",
       "      <td>75%</td>\n",
       "      <td>0.000000</td>\n",
       "      <td>2005.000000</td>\n",
       "      <td>118.000000</td>\n",
       "      <td>150000.000000</td>\n",
       "      <td>7.000000</td>\n",
       "      <td>0.0</td>\n",
       "      <td>64319.000000</td>\n",
       "      <td>11.000000</td>\n",
       "      <td>2016.0</td>\n",
       "      <td>3.000000</td>\n",
       "      <td>24.000000</td>\n",
       "    </tr>\n",
       "    <tr>\n",
       "      <td>max</td>\n",
       "      <td>49.000000</td>\n",
       "      <td>9999.000000</td>\n",
       "      <td>15016.000000</td>\n",
       "      <td>150000.000000</td>\n",
       "      <td>12.000000</td>\n",
       "      <td>0.0</td>\n",
       "      <td>99996.000000</td>\n",
       "      <td>59.000000</td>\n",
       "      <td>2016.0</td>\n",
       "      <td>4.000000</td>\n",
       "      <td>31.000000</td>\n",
       "    </tr>\n",
       "  </tbody>\n",
       "</table>\n",
       "</div>"
      ],
      "text/plain": [
       "              Price  RegistrationYear         Power        Mileage  \\\n",
       "count  12420.000000      12420.000000  12420.000000   12420.000000   \n",
       "mean       0.893156       2008.495572     79.470773  121469.404187   \n",
       "std        4.753588        262.170104    227.383905   50988.365939   \n",
       "min        0.000000       1000.000000      0.000000    5000.000000   \n",
       "25%        0.000000       1996.000000      0.000000  125000.000000   \n",
       "50%        0.000000       2000.000000     73.000000  150000.000000   \n",
       "75%        0.000000       2005.000000    118.000000  150000.000000   \n",
       "max       49.000000       9999.000000  15016.000000  150000.000000   \n",
       "\n",
       "       RegistrationMonth  NumberOfPictures    PostalCode    DaysOnSite  \\\n",
       "count       12420.000000           12420.0  12420.000000  12420.000000   \n",
       "mean            3.600483               0.0  45399.282448      7.517955   \n",
       "std             4.022439               0.0  26368.614495      8.117499   \n",
       "min             0.000000               0.0   1069.000000      0.000000   \n",
       "25%             0.000000               0.0  25746.000000      1.000000   \n",
       "50%             2.000000               0.0  44269.000000      4.000000   \n",
       "75%             7.000000               0.0  64319.000000     11.000000   \n",
       "max            12.000000               0.0  99996.000000     59.000000   \n",
       "\n",
       "       CreateYear   CreateMonth     CreateDay  \n",
       "count     12420.0  12420.000000  12420.000000  \n",
       "mean       2016.0      3.156441     16.045813  \n",
       "std           0.0      0.365057      9.117634  \n",
       "min        2016.0      1.000000      1.000000  \n",
       "25%        2016.0      3.000000      8.000000  \n",
       "50%        2016.0      3.000000     16.000000  \n",
       "75%        2016.0      3.000000     24.000000  \n",
       "max        2016.0      4.000000     31.000000  "
      ]
     },
     "execution_count": 38,
     "metadata": {},
     "output_type": "execute_result"
    }
   ],
   "source": [
    "df[df['Price'] < 50].describe()"
   ]
  },
  {
   "cell_type": "code",
   "execution_count": 39,
   "metadata": {},
   "outputs": [
    {
     "data": {
      "text/plain": [
       "(154279, 20)"
      ]
     },
     "execution_count": 39,
     "metadata": {},
     "output_type": "execute_result"
    }
   ],
   "source": [
    "# Power\n",
    "df[(df['Power'] < 100) | (df['Power'] > 2000)].shape"
   ]
  },
  {
   "cell_type": "code",
   "execution_count": 40,
   "metadata": {},
   "outputs": [
    {
     "data": {
      "text/plain": [
       "0.4357277615852143"
      ]
     },
     "execution_count": 40,
     "metadata": {},
     "output_type": "execute_result"
    }
   ],
   "source": [
    "# how much data are we throwing\n",
    "df[(df['Power'] < 100) | (df['Power'] > 2000)].shape[0] / df.shape[0]"
   ]
  },
  {
   "cell_type": "code",
   "execution_count": 41,
   "metadata": {},
   "outputs": [
    {
     "data": {
      "text/html": [
       "<div>\n",
       "<style scoped>\n",
       "    .dataframe tbody tr th:only-of-type {\n",
       "        vertical-align: middle;\n",
       "    }\n",
       "\n",
       "    .dataframe tbody tr th {\n",
       "        vertical-align: top;\n",
       "    }\n",
       "\n",
       "    .dataframe thead th {\n",
       "        text-align: right;\n",
       "    }\n",
       "</style>\n",
       "<table border=\"1\" class=\"dataframe\">\n",
       "  <thead>\n",
       "    <tr style=\"text-align: right;\">\n",
       "      <th></th>\n",
       "      <th>Price</th>\n",
       "      <th>RegistrationYear</th>\n",
       "      <th>Power</th>\n",
       "      <th>Mileage</th>\n",
       "      <th>RegistrationMonth</th>\n",
       "      <th>NumberOfPictures</th>\n",
       "      <th>PostalCode</th>\n",
       "      <th>DaysOnSite</th>\n",
       "      <th>CreateYear</th>\n",
       "      <th>CreateMonth</th>\n",
       "      <th>CreateDay</th>\n",
       "    </tr>\n",
       "  </thead>\n",
       "  <tbody>\n",
       "    <tr>\n",
       "      <td>count</td>\n",
       "      <td>154279.000000</td>\n",
       "      <td>154279.000000</td>\n",
       "      <td>154279.000000</td>\n",
       "      <td>154279.000000</td>\n",
       "      <td>154279.000000</td>\n",
       "      <td>154279.0</td>\n",
       "      <td>154279.000000</td>\n",
       "      <td>154279.000000</td>\n",
       "      <td>154279.000000</td>\n",
       "      <td>154279.000000</td>\n",
       "      <td>154279.000000</td>\n",
       "    </tr>\n",
       "    <tr>\n",
       "      <td>mean</td>\n",
       "      <td>2422.932920</td>\n",
       "      <td>2004.529080</td>\n",
       "      <td>58.571043</td>\n",
       "      <td>123508.222117</td>\n",
       "      <td>5.288646</td>\n",
       "      <td>0.0</td>\n",
       "      <td>48588.055315</td>\n",
       "      <td>8.151213</td>\n",
       "      <td>2015.999916</td>\n",
       "      <td>3.157954</td>\n",
       "      <td>15.907175</td>\n",
       "    </tr>\n",
       "    <tr>\n",
       "      <td>std</td>\n",
       "      <td>2786.361092</td>\n",
       "      <td>132.792729</td>\n",
       "      <td>269.796640</td>\n",
       "      <td>41605.069962</td>\n",
       "      <td>3.857725</td>\n",
       "      <td>0.0</td>\n",
       "      <td>25378.023591</td>\n",
       "      <td>8.585678</td>\n",
       "      <td>0.009860</td>\n",
       "      <td>0.372681</td>\n",
       "      <td>9.100902</td>\n",
       "    </tr>\n",
       "    <tr>\n",
       "      <td>min</td>\n",
       "      <td>0.000000</td>\n",
       "      <td>1000.000000</td>\n",
       "      <td>0.000000</td>\n",
       "      <td>5000.000000</td>\n",
       "      <td>0.000000</td>\n",
       "      <td>0.0</td>\n",
       "      <td>1067.000000</td>\n",
       "      <td>0.000000</td>\n",
       "      <td>2014.000000</td>\n",
       "      <td>1.000000</td>\n",
       "      <td>1.000000</td>\n",
       "    </tr>\n",
       "    <tr>\n",
       "      <td>25%</td>\n",
       "      <td>650.000000</td>\n",
       "      <td>1998.000000</td>\n",
       "      <td>0.000000</td>\n",
       "      <td>100000.000000</td>\n",
       "      <td>2.000000</td>\n",
       "      <td>0.0</td>\n",
       "      <td>27749.000000</td>\n",
       "      <td>2.000000</td>\n",
       "      <td>2016.000000</td>\n",
       "      <td>3.000000</td>\n",
       "      <td>8.000000</td>\n",
       "    </tr>\n",
       "    <tr>\n",
       "      <td>50%</td>\n",
       "      <td>1400.000000</td>\n",
       "      <td>2001.000000</td>\n",
       "      <td>60.000000</td>\n",
       "      <td>150000.000000</td>\n",
       "      <td>5.000000</td>\n",
       "      <td>0.0</td>\n",
       "      <td>47259.000000</td>\n",
       "      <td>5.000000</td>\n",
       "      <td>2016.000000</td>\n",
       "      <td>3.000000</td>\n",
       "      <td>16.000000</td>\n",
       "    </tr>\n",
       "    <tr>\n",
       "      <td>75%</td>\n",
       "      <td>3150.000000</td>\n",
       "      <td>2007.000000</td>\n",
       "      <td>75.000000</td>\n",
       "      <td>150000.000000</td>\n",
       "      <td>9.000000</td>\n",
       "      <td>0.0</td>\n",
       "      <td>66687.000000</td>\n",
       "      <td>12.000000</td>\n",
       "      <td>2016.000000</td>\n",
       "      <td>3.000000</td>\n",
       "      <td>24.000000</td>\n",
       "    </tr>\n",
       "    <tr>\n",
       "      <td>max</td>\n",
       "      <td>20000.000000</td>\n",
       "      <td>9999.000000</td>\n",
       "      <td>20000.000000</td>\n",
       "      <td>150000.000000</td>\n",
       "      <td>12.000000</td>\n",
       "      <td>0.0</td>\n",
       "      <td>99998.000000</td>\n",
       "      <td>759.000000</td>\n",
       "      <td>2016.000000</td>\n",
       "      <td>12.000000</td>\n",
       "      <td>31.000000</td>\n",
       "    </tr>\n",
       "  </tbody>\n",
       "</table>\n",
       "</div>"
      ],
      "text/plain": [
       "               Price  RegistrationYear          Power        Mileage  \\\n",
       "count  154279.000000     154279.000000  154279.000000  154279.000000   \n",
       "mean     2422.932920       2004.529080      58.571043  123508.222117   \n",
       "std      2786.361092        132.792729     269.796640   41605.069962   \n",
       "min         0.000000       1000.000000       0.000000    5000.000000   \n",
       "25%       650.000000       1998.000000       0.000000  100000.000000   \n",
       "50%      1400.000000       2001.000000      60.000000  150000.000000   \n",
       "75%      3150.000000       2007.000000      75.000000  150000.000000   \n",
       "max     20000.000000       9999.000000   20000.000000  150000.000000   \n",
       "\n",
       "       RegistrationMonth  NumberOfPictures     PostalCode     DaysOnSite  \\\n",
       "count      154279.000000          154279.0  154279.000000  154279.000000   \n",
       "mean            5.288646               0.0   48588.055315       8.151213   \n",
       "std             3.857725               0.0   25378.023591       8.585678   \n",
       "min             0.000000               0.0    1067.000000       0.000000   \n",
       "25%             2.000000               0.0   27749.000000       2.000000   \n",
       "50%             5.000000               0.0   47259.000000       5.000000   \n",
       "75%             9.000000               0.0   66687.000000      12.000000   \n",
       "max            12.000000               0.0   99998.000000     759.000000   \n",
       "\n",
       "          CreateYear    CreateMonth      CreateDay  \n",
       "count  154279.000000  154279.000000  154279.000000  \n",
       "mean     2015.999916       3.157954      15.907175  \n",
       "std         0.009860       0.372681       9.100902  \n",
       "min      2014.000000       1.000000       1.000000  \n",
       "25%      2016.000000       3.000000       8.000000  \n",
       "50%      2016.000000       3.000000      16.000000  \n",
       "75%      2016.000000       3.000000      24.000000  \n",
       "max      2016.000000      12.000000      31.000000  "
      ]
     },
     "execution_count": 41,
     "metadata": {},
     "output_type": "execute_result"
    }
   ],
   "source": [
    "df[(df['Power'] < 100) | (df['Power'] > 2000)].describe()"
   ]
  },
  {
   "cell_type": "code",
   "execution_count": 42,
   "metadata": {},
   "outputs": [
    {
     "data": {
      "text/plain": [
       "(171, 20)"
      ]
     },
     "execution_count": 42,
     "metadata": {},
     "output_type": "execute_result"
    }
   ],
   "source": [
    "# RegistrationYear\n",
    "df[(df['RegistrationYear'] < 1900) | (df['RegistrationYear'] > 2021)].shape"
   ]
  },
  {
   "cell_type": "code",
   "execution_count": 43,
   "metadata": {},
   "outputs": [
    {
     "data": {
      "text/plain": [
       "0.0004829526198061411"
      ]
     },
     "execution_count": 43,
     "metadata": {},
     "output_type": "execute_result"
    }
   ],
   "source": [
    "# how much data are we throwing\n",
    "df[(df['RegistrationYear'] < 1900) | (df['RegistrationYear'] > 2021)].shape[0] / df.shape[0]"
   ]
  },
  {
   "cell_type": "code",
   "execution_count": 44,
   "metadata": {},
   "outputs": [
    {
     "data": {
      "text/plain": [
       "(37346, 20)"
      ]
     },
     "execution_count": 44,
     "metadata": {},
     "output_type": "execute_result"
    }
   ],
   "source": [
    "# RegistrationMonth\n",
    "df[(df['RegistrationMonth'] == 0) ].shape"
   ]
  },
  {
   "cell_type": "code",
   "execution_count": 45,
   "metadata": {},
   "outputs": [
    {
     "data": {
      "text/plain": [
       "0.10547572245193068"
      ]
     },
     "execution_count": 45,
     "metadata": {},
     "output_type": "execute_result"
    }
   ],
   "source": [
    "# how much data are we throwing\n",
    "df[(df['RegistrationMonth'] == 0) ].shape[0] / df.shape[0]"
   ]
  },
  {
   "cell_type": "markdown",
   "metadata": {},
   "source": [
    "1) `Power` has almost 44% of the observations where the value is either below 100 HP or above 2000 HP. So, we cannot\n",
    "just remove these records. So, the next best alternative is to replace these extremes with the median."
   ]
  },
  {
   "cell_type": "code",
   "execution_count": 46,
   "metadata": {},
   "outputs": [
    {
     "name": "stdout",
     "output_type": "stream",
     "text": [
      "The median Power is 105.0 and the mean is 110.08828712804176\n"
     ]
    }
   ],
   "source": [
    "# replace the extreme Power values with the median\n",
    "print(f\"The median Power is {df['Power'].median()} and the mean is {df['Power'].mean()}\")"
   ]
  },
  {
   "cell_type": "code",
   "execution_count": 47,
   "metadata": {},
   "outputs": [],
   "source": [
    "mask = (df['Power'] < 100) | (df['Power'] > 2000)\n",
    "df.loc[mask, 'Power'] = df['Power'].median()"
   ]
  },
  {
   "cell_type": "code",
   "execution_count": 48,
   "metadata": {},
   "outputs": [
    {
     "name": "stdout",
     "output_type": "stream",
     "text": [
      "The median Power is 2003.0 and the mean is 2004.2355311913961\n"
     ]
    }
   ],
   "source": [
    "# replace the extreme RegistrationYear values with the median\n",
    "print(f\"The median Power is {df['RegistrationYear'].median()} and the mean is {df['RegistrationYear'].mean()}\")"
   ]
  },
  {
   "cell_type": "code",
   "execution_count": 49,
   "metadata": {},
   "outputs": [],
   "source": [
    "mask = (df['RegistrationYear'] < 1900) | (df['RegistrationYear'] > 2021)\n",
    "df.loc[mask, 'RegistrationYear'] = df['RegistrationYear'].median()"
   ]
  },
  {
   "cell_type": "code",
   "execution_count": 50,
   "metadata": {},
   "outputs": [
    {
     "name": "stdout",
     "output_type": "stream",
     "text": [
      "The median Power is 6.0 and the mean is 5.714111819065049\n"
     ]
    }
   ],
   "source": [
    "# replace the extreme RegistrationMonth values with the median\n",
    "print(f\"The median Power is {df['RegistrationMonth'].median()} and the mean is {df['RegistrationMonth'].mean()}\")"
   ]
  },
  {
   "cell_type": "code",
   "execution_count": 51,
   "metadata": {},
   "outputs": [],
   "source": [
    "# Model has too many features to predict causing the notebook to crash\n",
    "df['Model'] = (\n",
    "df.groupby(['Brand', 'RegistrationYear'])['Model']\n",
    "                  .transform(lambda x: x.fillna((x.mode() if np.all(x.mode()) == True else 'other')))\n",
    ")"
   ]
  },
  {
   "cell_type": "code",
   "execution_count": 52,
   "metadata": {},
   "outputs": [
    {
     "data": {
      "text/plain": [
       "3410"
      ]
     },
     "execution_count": 52,
     "metadata": {},
     "output_type": "execute_result"
    }
   ],
   "source": [
    "# check if Model has missing values\n",
    "df['Model'].isnull().sum()"
   ]
  },
  {
   "cell_type": "code",
   "execution_count": 53,
   "metadata": {},
   "outputs": [],
   "source": [
    "# fill them with other\n",
    "df['Model'].fillna('other', inplace=True)"
   ]
  },
  {
   "cell_type": "code",
   "execution_count": 54,
   "metadata": {},
   "outputs": [
    {
     "data": {
      "text/plain": [
       "0"
      ]
     },
     "execution_count": 54,
     "metadata": {},
     "output_type": "execute_result"
    }
   ],
   "source": [
    "# check if Model has missing values\n",
    "df['Model'].isnull().sum()"
   ]
  },
  {
   "cell_type": "code",
   "execution_count": 55,
   "metadata": {},
   "outputs": [],
   "source": [
    "mask = (df['RegistrationMonth'] == 0)\n",
    "df.loc[mask, 'RegistrationMonth'] = df['RegistrationMonth'].median()"
   ]
  },
  {
   "cell_type": "code",
   "execution_count": 56,
   "metadata": {},
   "outputs": [
    {
     "data": {
      "text/plain": [
       "14"
      ]
     },
     "execution_count": 56,
     "metadata": {},
     "output_type": "execute_result"
    }
   ],
   "source": [
    "# check for duplicates post fixing outliers\n",
    "df.duplicated().sum()"
   ]
  },
  {
   "cell_type": "code",
   "execution_count": 57,
   "metadata": {},
   "outputs": [],
   "source": [
    "# remove duplicates from outlier fixing\n",
    "df.drop_duplicates(inplace=True)"
   ]
  },
  {
   "cell_type": "code",
   "execution_count": 58,
   "metadata": {},
   "outputs": [],
   "source": [
    "# remove Price below EUR 50\n",
    "new_df = df[df['Price'] >= 50].copy()"
   ]
  },
  {
   "cell_type": "code",
   "execution_count": 59,
   "metadata": {},
   "outputs": [
    {
     "data": {
      "text/plain": [
       "(341638, 20)"
      ]
     },
     "execution_count": 59,
     "metadata": {},
     "output_type": "execute_result"
    }
   ],
   "source": [
    "new_df.shape"
   ]
  },
  {
   "cell_type": "code",
   "execution_count": 60,
   "metadata": {},
   "outputs": [
    {
     "data": {
      "text/plain": [
       "0.03507899835620154"
      ]
     },
     "execution_count": 60,
     "metadata": {},
     "output_type": "execute_result"
    }
   ],
   "source": [
    "# pct lost\n",
    "1 - new_df.shape[0]/df.shape[0]"
   ]
  },
  {
   "cell_type": "code",
   "execution_count": 61,
   "metadata": {},
   "outputs": [
    {
     "data": {
      "text/plain": [
       "0"
      ]
     },
     "execution_count": 61,
     "metadata": {},
     "output_type": "execute_result"
    }
   ],
   "source": [
    "# check for duplicates in new_df\n",
    "new_df.duplicated().sum()"
   ]
  },
  {
   "cell_type": "code",
   "execution_count": 62,
   "metadata": {},
   "outputs": [
    {
     "data": {
      "image/png": "[encoded data removed]",
      "text/plain": [
       "<Figure size 864x648 with 9 Axes>"
      ]
     },
     "metadata": {
      "needs_background": "light"
     },
     "output_type": "display_data"
    }
   ],
   "source": [
    "# replot the numerical features post fixing outliers\n",
    "fig, ax = plt.subplots(figsize=(12, 9))\n",
    "axes = new_df[hist_cols].hist(bins=30, ax=ax)\n",
    "for i in range(len(axes)):\n",
    "    for j in range(len(axes)):\n",
    "        if i == 2 and j > 0: continue\n",
    "        axes[i][j].set_xlabel(xlabels[i][j])\n",
    "plt.suptitle('Histogram of numerical features after treating outliers')\n",
    "plt.tight_layout(rect=[0, 0.03, 1, 0.95])\n",
    "plt.show()"
   ]
  },
  {
   "cell_type": "markdown",
   "metadata": {},
   "source": [
    "1) Post cleanup of the outliers, the distributions for `Power`, `RegistrationYear`, `RegistrationMonth` have improved."
   ]
  },
  {
   "cell_type": "markdown",
   "metadata": {},
   "source": [
    "#### Encode the categorical features"
   ]
  },
  {
   "cell_type": "code",
   "execution_count": 63,
   "metadata": {},
   "outputs": [],
   "source": [
    "encode_cols = ['PostalCode']\n",
    "encode_cols += new_df.select_dtypes(include=['object']).columns.tolist()\n",
    "oe = OrdinalEncoder()\n",
    "new_df[encode_cols] = oe.fit_transform(new_df[encode_cols])"
   ]
  },
  {
   "cell_type": "code",
   "execution_count": 64,
   "metadata": {},
   "outputs": [
    {
     "data": {
      "text/plain": [
       "0"
      ]
     },
     "execution_count": 64,
     "metadata": {},
     "output_type": "execute_result"
    }
   ],
   "source": [
    "new_df.duplicated().sum()"
   ]
  },
  {
   "cell_type": "markdown",
   "metadata": {},
   "source": [
    "#### Drop features not used during modeling"
   ]
  },
  {
   "cell_type": "code",
   "execution_count": 65,
   "metadata": {},
   "outputs": [],
   "source": [
    "drop_cols = ['DateCrawled', 'DateCreated', 'NumberOfPictures', 'LastSeen']\n",
    "new_df.drop(drop_cols, axis=1, inplace=True)"
   ]
  },
  {
   "cell_type": "code",
   "execution_count": 66,
   "metadata": {},
   "outputs": [
    {
     "data": {
      "text/plain": [
       "(341638, 16)"
      ]
     },
     "execution_count": 66,
     "metadata": {},
     "output_type": "execute_result"
    }
   ],
   "source": [
    "new_df.shape"
   ]
  },
  {
   "cell_type": "code",
   "execution_count": 67,
   "metadata": {},
   "outputs": [
    {
     "data": {
      "text/plain": [
       "0.03507899835620154"
      ]
     },
     "execution_count": 67,
     "metadata": {},
     "output_type": "execute_result"
    }
   ],
   "source": [
    "# pct dropped\n",
    "1 - new_df.shape[0] / df.shape[0]"
   ]
  },
  {
   "cell_type": "code",
   "execution_count": 68,
   "metadata": {},
   "outputs": [
    {
     "data": {
      "text/html": [
       "<div>\n",
       "<style scoped>\n",
       "    .dataframe tbody tr th:only-of-type {\n",
       "        vertical-align: middle;\n",
       "    }\n",
       "\n",
       "    .dataframe tbody tr th {\n",
       "        vertical-align: top;\n",
       "    }\n",
       "\n",
       "    .dataframe thead th {\n",
       "        text-align: right;\n",
       "    }\n",
       "</style>\n",
       "<table border=\"1\" class=\"dataframe\">\n",
       "  <thead>\n",
       "    <tr style=\"text-align: right;\">\n",
       "      <th></th>\n",
       "      <th>Price</th>\n",
       "      <th>VehicleType</th>\n",
       "      <th>RegistrationYear</th>\n",
       "      <th>Gearbox</th>\n",
       "      <th>Power</th>\n",
       "      <th>Model</th>\n",
       "      <th>Mileage</th>\n",
       "      <th>RegistrationMonth</th>\n",
       "      <th>FuelType</th>\n",
       "      <th>Brand</th>\n",
       "      <th>NotRepaired</th>\n",
       "      <th>PostalCode</th>\n",
       "      <th>DaysOnSite</th>\n",
       "      <th>CreateYear</th>\n",
       "      <th>CreateMonth</th>\n",
       "      <th>CreateDay</th>\n",
       "    </tr>\n",
       "  </thead>\n",
       "  <tbody>\n",
       "    <tr>\n",
       "      <td>0</td>\n",
       "      <td>480</td>\n",
       "      <td>5.0</td>\n",
       "      <td>1993.0</td>\n",
       "      <td>1.0</td>\n",
       "      <td>105.0</td>\n",
       "      <td>116.0</td>\n",
       "      <td>150000</td>\n",
       "      <td>6.0</td>\n",
       "      <td>6.0</td>\n",
       "      <td>38.0</td>\n",
       "      <td>0.0</td>\n",
       "      <td>4896.0</td>\n",
       "      <td>14</td>\n",
       "      <td>2016</td>\n",
       "      <td>3</td>\n",
       "      <td>24</td>\n",
       "    </tr>\n",
       "    <tr>\n",
       "      <td>1</td>\n",
       "      <td>18300</td>\n",
       "      <td>2.0</td>\n",
       "      <td>2011.0</td>\n",
       "      <td>1.0</td>\n",
       "      <td>190.0</td>\n",
       "      <td>166.0</td>\n",
       "      <td>125000</td>\n",
       "      <td>5.0</td>\n",
       "      <td>2.0</td>\n",
       "      <td>1.0</td>\n",
       "      <td>1.0</td>\n",
       "      <td>4613.0</td>\n",
       "      <td>14</td>\n",
       "      <td>2016</td>\n",
       "      <td>3</td>\n",
       "      <td>24</td>\n",
       "    </tr>\n",
       "    <tr>\n",
       "      <td>2</td>\n",
       "      <td>9800</td>\n",
       "      <td>6.0</td>\n",
       "      <td>2004.0</td>\n",
       "      <td>0.0</td>\n",
       "      <td>163.0</td>\n",
       "      <td>117.0</td>\n",
       "      <td>125000</td>\n",
       "      <td>8.0</td>\n",
       "      <td>2.0</td>\n",
       "      <td>14.0</td>\n",
       "      <td>1.0</td>\n",
       "      <td>6989.0</td>\n",
       "      <td>22</td>\n",
       "      <td>2016</td>\n",
       "      <td>3</td>\n",
       "      <td>14</td>\n",
       "    </tr>\n",
       "    <tr>\n",
       "      <td>3</td>\n",
       "      <td>1500</td>\n",
       "      <td>5.0</td>\n",
       "      <td>2001.0</td>\n",
       "      <td>1.0</td>\n",
       "      <td>105.0</td>\n",
       "      <td>116.0</td>\n",
       "      <td>150000</td>\n",
       "      <td>6.0</td>\n",
       "      <td>6.0</td>\n",
       "      <td>38.0</td>\n",
       "      <td>0.0</td>\n",
       "      <td>7029.0</td>\n",
       "      <td>0</td>\n",
       "      <td>2016</td>\n",
       "      <td>3</td>\n",
       "      <td>17</td>\n",
       "    </tr>\n",
       "    <tr>\n",
       "      <td>4</td>\n",
       "      <td>3600</td>\n",
       "      <td>5.0</td>\n",
       "      <td>2008.0</td>\n",
       "      <td>1.0</td>\n",
       "      <td>105.0</td>\n",
       "      <td>101.0</td>\n",
       "      <td>90000</td>\n",
       "      <td>7.0</td>\n",
       "      <td>2.0</td>\n",
       "      <td>31.0</td>\n",
       "      <td>0.0</td>\n",
       "      <td>4210.0</td>\n",
       "      <td>6</td>\n",
       "      <td>2016</td>\n",
       "      <td>3</td>\n",
       "      <td>31</td>\n",
       "    </tr>\n",
       "  </tbody>\n",
       "</table>\n",
       "</div>"
      ],
      "text/plain": [
       "   Price  VehicleType  RegistrationYear  Gearbox  Power  Model  Mileage  \\\n",
       "0    480          5.0            1993.0      1.0  105.0  116.0   150000   \n",
       "1  18300          2.0            2011.0      1.0  190.0  166.0   125000   \n",
       "2   9800          6.0            2004.0      0.0  163.0  117.0   125000   \n",
       "3   1500          5.0            2001.0      1.0  105.0  116.0   150000   \n",
       "4   3600          5.0            2008.0      1.0  105.0  101.0    90000   \n",
       "\n",
       "   RegistrationMonth  FuelType  Brand  NotRepaired  PostalCode  DaysOnSite  \\\n",
       "0                6.0       6.0   38.0          0.0      4896.0          14   \n",
       "1                5.0       2.0    1.0          1.0      4613.0          14   \n",
       "2                8.0       2.0   14.0          1.0      6989.0          22   \n",
       "3                6.0       6.0   38.0          0.0      7029.0           0   \n",
       "4                7.0       2.0   31.0          0.0      4210.0           6   \n",
       "\n",
       "   CreateYear  CreateMonth  CreateDay  \n",
       "0        2016            3         24  \n",
       "1        2016            3         24  \n",
       "2        2016            3         14  \n",
       "3        2016            3         17  \n",
       "4        2016            3         31  "
      ]
     },
     "execution_count": 68,
     "metadata": {},
     "output_type": "execute_result"
    }
   ],
   "source": [
    "new_df.head()"
   ]
  },
  {
   "cell_type": "code",
   "execution_count": 69,
   "metadata": {},
   "outputs": [
    {
     "data": {
      "text/plain": [
       "Price                0.0\n",
       "VehicleType          0.0\n",
       "RegistrationYear     0.0\n",
       "Gearbox              0.0\n",
       "Power                0.0\n",
       "Model                0.0\n",
       "Mileage              0.0\n",
       "RegistrationMonth    0.0\n",
       "FuelType             0.0\n",
       "Brand                0.0\n",
       "NotRepaired          0.0\n",
       "PostalCode           0.0\n",
       "DaysOnSite           0.0\n",
       "CreateYear           0.0\n",
       "CreateMonth          0.0\n",
       "CreateDay            0.0\n",
       "dtype: float64"
      ]
     },
     "execution_count": 69,
     "metadata": {},
     "output_type": "execute_result"
    }
   ],
   "source": [
    "# check for missing\n",
    "new_df.isnull().mean()"
   ]
  },
  {
   "cell_type": "code",
   "execution_count": 70,
   "metadata": {},
   "outputs": [
    {
     "data": {
      "text/plain": [
       "7966"
      ]
     },
     "execution_count": 70,
     "metadata": {},
     "output_type": "execute_result"
    }
   ],
   "source": [
    "# check for duplicates\n",
    "new_df.duplicated().sum()"
   ]
  },
  {
   "cell_type": "code",
   "execution_count": 71,
   "metadata": {},
   "outputs": [],
   "source": [
    "# dropping the DateCrawled field has introduced duplicates\n",
    "new_df.drop_duplicates(inplace=True)"
   ]
  },
  {
   "cell_type": "code",
   "execution_count": 72,
   "metadata": {},
   "outputs": [
    {
     "name": "stdout",
     "output_type": "stream",
     "text": [
      "<class 'pandas.core.frame.DataFrame'>\n",
      "Int64Index: 333672 entries, 0 to 354368\n",
      "Data columns (total 16 columns):\n",
      "Price                333672 non-null int64\n",
      "VehicleType          333672 non-null float64\n",
      "RegistrationYear     333672 non-null float64\n",
      "Gearbox              333672 non-null float64\n",
      "Power                333672 non-null float64\n",
      "Model                333672 non-null float64\n",
      "Mileage              333672 non-null int64\n",
      "RegistrationMonth    333672 non-null float64\n",
      "FuelType             333672 non-null float64\n",
      "Brand                333672 non-null float64\n",
      "NotRepaired          333672 non-null float64\n",
      "PostalCode           333672 non-null float64\n",
      "DaysOnSite           333672 non-null int64\n",
      "CreateYear           333672 non-null int64\n",
      "CreateMonth          333672 non-null int64\n",
      "CreateDay            333672 non-null int64\n",
      "dtypes: float64(10), int64(6)\n",
      "memory usage: 43.3 MB\n"
     ]
    }
   ],
   "source": [
    "# check dtypes\n",
    "new_df.info()"
   ]
  },
  {
   "cell_type": "code",
   "execution_count": 73,
   "metadata": {},
   "outputs": [],
   "source": [
    "def convert_dtype(df, field, dtype=np.uint8):\n",
    "    \"\"\"\n",
    "    Convert the dtype\n",
    "    \"\"\"\n",
    "    try:\n",
    "        df[field] = df[field].astype(dtype)\n",
    "    except:\n",
    "        print(f'Failed to change dtype for {field}')"
   ]
  },
  {
   "cell_type": "code",
   "execution_count": 74,
   "metadata": {},
   "outputs": [],
   "source": [
    "dtype_cols = {\n",
    "    'VehicleType': np.uint8,\n",
    "    'RegistrationYear': np.uint16,\n",
    "    'Gearbox': np.uint8,\n",
    "    'Power': np.uint8,\n",
    "    'Model': np.uint8,\n",
    "    'RegistrationMonth': np.uint8,\n",
    "    'FuelType': np.uint8,\n",
    "    'Brand': np.uint8,\n",
    "    'NotRepaired': np.uint8,\n",
    "    'PostalCode': np.uint32,\n",
    "    'DaysOnSite': np.uint16,\n",
    "    'CreateYear': np.uint16,\n",
    "    'CreateMonth': np.uint8,\n",
    "    'CreateDay': np.uint8\n",
    "}"
   ]
  },
  {
   "cell_type": "code",
   "execution_count": 75,
   "metadata": {},
   "outputs": [
    {
     "name": "stdout",
     "output_type": "stream",
     "text": [
      "Conversion for VehicleType\n",
      "Conversion for RegistrationYear\n",
      "Conversion for Gearbox\n",
      "Conversion for Power\n",
      "Conversion for Model\n",
      "Conversion for RegistrationMonth\n",
      "Conversion for FuelType\n",
      "Conversion for Brand\n",
      "Conversion for NotRepaired\n",
      "Conversion for PostalCode\n",
      "Conversion for DaysOnSite\n",
      "Conversion for CreateYear\n",
      "Conversion for CreateMonth\n",
      "Conversion for CreateDay\n"
     ]
    }
   ],
   "source": [
    "for col in dtype_cols:\n",
    "    print(f'Conversion for {col}')\n",
    "    convert_dtype(new_df, col, dtype_cols[col])"
   ]
  },
  {
   "cell_type": "code",
   "execution_count": 76,
   "metadata": {},
   "outputs": [
    {
     "name": "stdout",
     "output_type": "stream",
     "text": [
      "<class 'pandas.core.frame.DataFrame'>\n",
      "Int64Index: 333672 entries, 0 to 354368\n",
      "Data columns (total 16 columns):\n",
      "Price                333672 non-null int64\n",
      "VehicleType          333672 non-null uint8\n",
      "RegistrationYear     333672 non-null uint16\n",
      "Gearbox              333672 non-null uint8\n",
      "Power                333672 non-null uint8\n",
      "Model                333672 non-null uint8\n",
      "Mileage              333672 non-null int64\n",
      "RegistrationMonth    333672 non-null uint8\n",
      "FuelType             333672 non-null uint8\n",
      "Brand                333672 non-null uint8\n",
      "NotRepaired          333672 non-null uint8\n",
      "PostalCode           333672 non-null uint32\n",
      "DaysOnSite           333672 non-null uint16\n",
      "CreateYear           333672 non-null uint16\n",
      "CreateMonth          333672 non-null uint8\n",
      "CreateDay            333672 non-null uint8\n",
      "dtypes: int64(2), uint16(3), uint32(1), uint8(10)\n",
      "memory usage: 14.0 MB\n"
     ]
    }
   ],
   "source": [
    "# check dtypes\n",
    "new_df.info()"
   ]
  },
  {
   "cell_type": "code",
   "execution_count": 77,
   "metadata": {},
   "outputs": [
    {
     "data": {
      "text/plain": [
       "0.057578136915420686"
      ]
     },
     "execution_count": 77,
     "metadata": {},
     "output_type": "execute_result"
    }
   ],
   "source": [
    "# pct dropped\n",
    "1 - new_df.shape[0] / df.shape[0]"
   ]
  },
  {
   "cell_type": "code",
   "execution_count": 78,
   "metadata": {
    "scrolled": true
   },
   "outputs": [
    {
     "data": {
      "image/png": "[encoded data removed]",
      "text/plain": [
       "<Figure size 800x800 with 2 Axes>"
      ]
     },
     "metadata": {
      "needs_background": "light"
     },
     "output_type": "display_data"
    }
   ],
   "source": [
    "#### Correlation\n",
    "plt.figure(figsize=(10, 10), dpi=80)\n",
    "sns.heatmap(new_df.corr(), annot=True, cmap=\"RdYlGn\", fmt=\".2f\")\n",
    "plt.show()"
   ]
  },
  {
   "cell_type": "markdown",
   "metadata": {},
   "source": [
    "1) Ignoring the categorical features, we can see that `RegistrationYear` has a moderately strong positive correlation with `Price`.\n",
    "\n",
    "2) Similarly, `Power` a moderately strong positive correlation with `Price`.\n",
    "\n",
    "3) As expected, `Mileage` is negatively correlated with `Price`.\n",
    "\n",
    "4) Among the categorical features, `Brand` and `Model` have a positive correlation."
   ]
  },
  {
   "cell_type": "markdown",
   "metadata": {},
   "source": [
    "<div class=\"alert alert-success\" role=\"alert\">\n",
    "Reviewer's comment v. 1:\n",
    "    \n",
    "Well done that you investigated correlations between features.\n",
    "    \n",
    "Please note that one of the important problems in feature selection for building models is collinearity/multicollinearity of the variables.\n",
    "    \n",
    "Additional materials: https://www.greenbook.org/marketing-research/cluster-analysis \n",
    "</div>"
   ]
  },
  {
   "cell_type": "markdown",
   "metadata": {},
   "source": [
    "**Conclusion**\n",
    "\n",
    "1) The time period of car ads posted on the source site are around 2 years old.\n",
    "\n",
    "2) A few new fields were created. One of the fields created shows the number of days the ad appears on the site. The other fields\n",
    "are date attributes created from `DateCreated`.\n",
    "\n",
    "3) Missing categorical features were populated using the frequency distribution of occurence of their respective features; this\n",
    "ensures that those features that occur more frequently are weighted more compared with those that occur rarely.\n",
    "\n",
    "4) A side effect of populating the missing categories introduced duplicates. However, this number is less than 1%.\n",
    "\n",
    "5) The numerical features exhibited outliers, and each of them were treated after identifying suitable ranges based on\n",
    "some research conducted online. For example, `Power` range was fixed between 100 HP and 2000 HP. Anything below or above\n",
    "this was replaced by the median of the `Power` distribution. A similar approach was used for the other ouliers.\n",
    "\n",
    "6) This introduced duplicates, a very tiny number, which were removed.\n",
    "\n",
    "7) The categorical features were encoded to allow for smooth modeling.\n",
    "\n",
    "8) All Date related features, including `NumOfPictures` were removed. The latter feature had no values.\n",
    "\n",
    "9) Removal of `DateCrawled` introduced duplicates, around 3.5% of the records were affected. These were removed.\n",
    "\n",
    "10) Label Encoding resulted in a change in data type; this was fixed to reduce the size of the dataset.\n",
    "\n",
    "11) Overall, the cleaning resulted in a loss of 5.75% of the data."
   ]
  },
  {
   "cell_type": "markdown",
   "metadata": {},
   "source": [
    "<div class=\"alert alert-success\" role=\"alert\">\n",
    "Reviewer's comment v. 1:\n",
    "    \n",
    "It's great that you summed up main results of the project.\n",
    "</div>"
   ]
  },
  {
   "cell_type": "markdown",
   "metadata": {},
   "source": [
    "### Model training"
   ]
  },
  {
   "cell_type": "code",
   "execution_count": 79,
   "metadata": {},
   "outputs": [],
   "source": [
    "train_X, test_X, train_y, test_y = train_test_split(new_df.drop(['Price'], axis=1),\n",
    "                                                      new_df['Price'], test_size=0.2, random_state=42)\n",
    "valid_X, test_X, valid_y, test_y = train_test_split(test_X,\n",
    "                                                      test_y, test_size=0.1, random_state=42)"
   ]
  },
  {
   "cell_type": "markdown",
   "metadata": {},
   "source": [
    "<div class=\"alert alert-success\" role=\"alert\">\n",
    "Reviewer's comment v. 1:\n",
    "    \n",
    "The data is splitted, well done that you fixed random_state. It's important for reproducibility of results.\n",
    "</div>"
   ]
  },
  {
   "cell_type": "code",
   "execution_count": 80,
   "metadata": {},
   "outputs": [
    {
     "data": {
      "text/plain": [
       "((266937, 15), (60061, 15), (6674, 15), (266937,), (60061,), (6674,))"
      ]
     },
     "execution_count": 80,
     "metadata": {},
     "output_type": "execute_result"
    }
   ],
   "source": [
    "train_X.shape, valid_X.shape, test_X.shape, train_y.shape, valid_y.shape, test_y.shape"
   ]
  },
  {
   "cell_type": "markdown",
   "metadata": {},
   "source": [
    "<div class=\"alert alert-success\" role=\"alert\">\n",
    "Reviewer's comment v. 1:\n",
    "    \n",
    "I recommend to add information is it size of train, validation or test dataset before outputting of the shape of the data.\n",
    "</div>"
   ]
  },
  {
   "cell_type": "code",
   "execution_count": 81,
   "metadata": {},
   "outputs": [],
   "source": [
    "def rmse(y_true, y_pred):\n",
    "    \"\"\"\n",
    "    Make scorer to compute rmse\n",
    "    \"\"\"\n",
    "    return np.sqrt(mean_squared_error(y_true, y_pred))"
   ]
  },
  {
   "cell_type": "code",
   "execution_count": 82,
   "metadata": {},
   "outputs": [],
   "source": [
    "def build_model(model, train_X, train_y, valid_X, valid_y, \n",
    "                hyperparameters={}, \n",
    "                scoring=None, cv=5, model_str=None, cat_features=[], verbose=False):\n",
    "    \"\"\"\n",
    "    Build model\n",
    "    \"\"\"\n",
    "    np.random.seed(42)\n",
    "    best_rmse = 0\n",
    "    start_time = time.time()\n",
    "    \n",
    "    gs = GridSearchCV(model, param_grid=hyperparameters, cv=cv, scoring=scoring)\n",
    "    gs.fit(train_X, train_y)\n",
    "    if model_str == 'catboost':\n",
    "        gs.best_estimator_.fit(train_X, train_y, cat_features=cat_features, verbose=verbose)\n",
    "    else:\n",
    "        gs.best_estimator_.fit(train_X, train_y)\n",
    "    preds = gs.best_estimator_.predict(valid_X)\n",
    "    best_rmse = rmse(valid_y, preds)\n",
    "    end_time = time.time() - start_time\n",
    "    return gs.best_estimator_, best_rmse, np.round(end_time, 2)"
   ]
  },
  {
   "cell_type": "code",
   "execution_count": 83,
   "metadata": {},
   "outputs": [],
   "source": [
    "lr = LinearRegression()\n",
    "best_lr_model, best_lr_rmse, best_lr_time = build_model(lr, train_X, train_y, \n",
    "                                                        valid_X, valid_y,\n",
    "                                                        hyperparameters={}, \n",
    "                scoring=make_scorer(rmse), cv=5, model_str='lr')"
   ]
  },
  {
   "cell_type": "code",
   "execution_count": 84,
   "metadata": {},
   "outputs": [],
   "source": [
    "rf = RandomForestRegressor(random_state=42)\n",
    "best_rf_model, best_rf_rmse, best_rf_time = build_model(rf, train_X, train_y, \n",
    "                                                        valid_X, valid_y,\n",
    "                                                        hyperparameters={'n_estimators': [20, 30, 40, 50]}, \n",
    "                scoring=make_scorer(rmse), cv=5)"
   ]
  },
  {
   "cell_type": "code",
   "execution_count": 85,
   "metadata": {},
   "outputs": [
    {
     "name": "stdout",
     "output_type": "stream",
     "text": [
      "0:\tlearn: 2860.5858462\ttotal: 57.5ms\tremaining: 1.09s\n",
      "1:\tlearn: 2519.5877528\ttotal: 159ms\tremaining: 1.43s\n",
      "2:\tlearn: 2398.1224585\ttotal: 263ms\tremaining: 1.49s\n",
      "3:\tlearn: 2325.1440638\ttotal: 361ms\tremaining: 1.45s\n",
      "4:\tlearn: 2239.6873784\ttotal: 461ms\tremaining: 1.38s\n",
      "5:\tlearn: 2179.7283204\ttotal: 652ms\tremaining: 1.52s\n",
      "6:\tlearn: 2152.8801033\ttotal: 751ms\tremaining: 1.39s\n",
      "7:\tlearn: 2118.5118322\ttotal: 851ms\tremaining: 1.28s\n",
      "8:\tlearn: 2086.1465644\ttotal: 951ms\tremaining: 1.16s\n",
      "9:\tlearn: 2065.5255531\ttotal: 1.05s\tremaining: 1.05s\n",
      "10:\tlearn: 2042.4487641\ttotal: 1.15s\tremaining: 944ms\n",
      "11:\tlearn: 2029.2665150\ttotal: 1.25s\tremaining: 836ms\n",
      "12:\tlearn: 2003.5709468\ttotal: 1.35s\tremaining: 729ms\n",
      "13:\tlearn: 1989.6692065\ttotal: 1.46s\tremaining: 624ms\n",
      "14:\tlearn: 1970.1729469\ttotal: 1.55s\tremaining: 518ms\n",
      "15:\tlearn: 1960.1573710\ttotal: 1.65s\tremaining: 413ms\n",
      "16:\tlearn: 1953.5137810\ttotal: 1.75s\tremaining: 309ms\n",
      "17:\tlearn: 1942.1761389\ttotal: 1.85s\tremaining: 206ms\n",
      "18:\tlearn: 1926.2388616\ttotal: 1.95s\tremaining: 103ms\n",
      "19:\tlearn: 1920.1328075\ttotal: 2.05s\tremaining: 0us\n",
      "0:\tlearn: 2803.8783320\ttotal: 64.7ms\tremaining: 1.23s\n",
      "1:\tlearn: 2486.1837737\ttotal: 82ms\tremaining: 738ms\n",
      "2:\tlearn: 2344.8018692\ttotal: 263ms\tremaining: 1.49s\n",
      "3:\tlearn: 2243.1175172\ttotal: 362ms\tremaining: 1.45s\n",
      "4:\tlearn: 2169.7534257\ttotal: 462ms\tremaining: 1.39s\n",
      "5:\tlearn: 2131.1755058\ttotal: 562ms\tremaining: 1.31s\n",
      "6:\tlearn: 2085.3125771\ttotal: 663ms\tremaining: 1.23s\n",
      "7:\tlearn: 2058.4366311\ttotal: 763ms\tremaining: 1.14s\n",
      "8:\tlearn: 2032.3112856\ttotal: 865ms\tremaining: 1.06s\n",
      "9:\tlearn: 2011.1059733\ttotal: 966ms\tremaining: 966ms\n",
      "10:\tlearn: 1987.8460895\ttotal: 1.07s\tremaining: 877ms\n",
      "11:\tlearn: 1968.6764963\ttotal: 1.17s\tremaining: 782ms\n",
      "12:\tlearn: 1955.8376599\ttotal: 1.27s\tremaining: 683ms\n",
      "13:\tlearn: 1945.0301178\ttotal: 1.37s\tremaining: 586ms\n",
      "14:\tlearn: 1934.0556726\ttotal: 1.47s\tremaining: 488ms\n",
      "15:\tlearn: 1923.8669620\ttotal: 1.57s\tremaining: 394ms\n",
      "16:\tlearn: 1918.5739110\ttotal: 1.67s\tremaining: 294ms\n",
      "17:\tlearn: 1912.6705450\ttotal: 1.76s\tremaining: 196ms\n",
      "18:\tlearn: 1903.0728097\ttotal: 1.86s\tremaining: 98.2ms\n",
      "19:\tlearn: 1894.8130177\ttotal: 1.96s\tremaining: 0us\n",
      "0:\tlearn: 2848.3263548\ttotal: 13.8ms\tremaining: 263ms\n",
      "1:\tlearn: 2538.8774199\ttotal: 112ms\tremaining: 1.01s\n",
      "2:\tlearn: 2364.1767693\ttotal: 213ms\tremaining: 1.2s\n",
      "3:\tlearn: 2292.2249093\ttotal: 315ms\tremaining: 1.26s\n",
      "4:\tlearn: 2227.5996663\ttotal: 416ms\tremaining: 1.25s\n",
      "5:\tlearn: 2160.2139263\ttotal: 514ms\tremaining: 1.2s\n",
      "6:\tlearn: 2136.6556861\ttotal: 614ms\tremaining: 1.14s\n",
      "7:\tlearn: 2110.4258301\ttotal: 714ms\tremaining: 1.07s\n",
      "8:\tlearn: 2085.5084021\ttotal: 813ms\tremaining: 994ms\n",
      "9:\tlearn: 2045.8930389\ttotal: 912ms\tremaining: 912ms\n",
      "10:\tlearn: 2025.4092280\ttotal: 1.01s\tremaining: 828ms\n",
      "11:\tlearn: 2012.6072379\ttotal: 1.11s\tremaining: 741ms\n",
      "12:\tlearn: 2002.0970886\ttotal: 1.21s\tremaining: 652ms\n",
      "13:\tlearn: 1978.3990292\ttotal: 1.4s\tremaining: 600ms\n",
      "14:\tlearn: 1962.6437646\ttotal: 1.42s\tremaining: 473ms\n",
      "15:\tlearn: 1950.0451921\ttotal: 1.51s\tremaining: 379ms\n",
      "16:\tlearn: 1939.5188190\ttotal: 1.7s\tremaining: 300ms\n",
      "17:\tlearn: 1924.8918328\ttotal: 1.8s\tremaining: 200ms\n",
      "18:\tlearn: 1913.3692758\ttotal: 1.9s\tremaining: 100ms\n",
      "19:\tlearn: 1897.6718845\ttotal: 2s\tremaining: 0us\n",
      "0:\tlearn: 2852.9480211\ttotal: 12.1ms\tremaining: 230ms\n",
      "1:\tlearn: 2545.7880056\ttotal: 108ms\tremaining: 973ms\n",
      "2:\tlearn: 2371.1406281\ttotal: 208ms\tremaining: 1.18s\n",
      "3:\tlearn: 2290.1095961\ttotal: 308ms\tremaining: 1.23s\n",
      "4:\tlearn: 2222.3375819\ttotal: 409ms\tremaining: 1.23s\n",
      "5:\tlearn: 2145.2630959\ttotal: 512ms\tremaining: 1.2s\n",
      "6:\tlearn: 2110.9388751\ttotal: 608ms\tremaining: 1.13s\n",
      "7:\tlearn: 2075.5350167\ttotal: 707ms\tremaining: 1.06s\n",
      "8:\tlearn: 2059.2617829\ttotal: 807ms\tremaining: 986ms\n",
      "9:\tlearn: 2032.6505839\ttotal: 906ms\tremaining: 906ms\n",
      "10:\tlearn: 2013.6110411\ttotal: 1.1s\tremaining: 897ms\n",
      "11:\tlearn: 2004.4021824\ttotal: 1.2s\tremaining: 797ms\n",
      "12:\tlearn: 1991.2377259\ttotal: 1.29s\tremaining: 698ms\n",
      "13:\tlearn: 1983.1405245\ttotal: 1.39s\tremaining: 598ms\n",
      "14:\tlearn: 1971.1857448\ttotal: 1.5s\tremaining: 498ms\n",
      "15:\tlearn: 1956.1040798\ttotal: 1.6s\tremaining: 400ms\n",
      "16:\tlearn: 1947.3908858\ttotal: 1.7s\tremaining: 300ms\n",
      "17:\tlearn: 1931.7398739\ttotal: 1.79s\tremaining: 200ms\n",
      "18:\tlearn: 1918.0458901\ttotal: 1.9s\tremaining: 99.8ms\n",
      "19:\tlearn: 1910.7084425\ttotal: 2s\tremaining: 0us\n",
      "0:\tlearn: 2872.1651971\ttotal: 99.7ms\tremaining: 1.89s\n",
      "1:\tlearn: 2520.0895298\ttotal: 199ms\tremaining: 1.79s\n",
      "2:\tlearn: 2400.2045342\ttotal: 210ms\tremaining: 1.19s\n",
      "3:\tlearn: 2308.0877315\ttotal: 398ms\tremaining: 1.59s\n",
      "4:\tlearn: 2216.3824333\ttotal: 500ms\tremaining: 1.5s\n",
      "5:\tlearn: 2178.3033260\ttotal: 602ms\tremaining: 1.4s\n",
      "6:\tlearn: 2152.6697994\ttotal: 701ms\tremaining: 1.3s\n",
      "7:\tlearn: 2111.1803328\ttotal: 803ms\tremaining: 1.2s\n",
      "8:\tlearn: 2084.6942517\ttotal: 902ms\tremaining: 1.1s\n",
      "9:\tlearn: 2063.9878028\ttotal: 1s\tremaining: 1s\n",
      "10:\tlearn: 2034.4945252\ttotal: 1.19s\tremaining: 976ms\n",
      "11:\tlearn: 2014.7081324\ttotal: 1.29s\tremaining: 863ms\n",
      "12:\tlearn: 1997.3322445\ttotal: 1.39s\tremaining: 750ms\n",
      "13:\tlearn: 1980.1101675\ttotal: 1.49s\tremaining: 640ms\n",
      "14:\tlearn: 1970.5214906\ttotal: 1.59s\tremaining: 531ms\n",
      "15:\tlearn: 1961.7589308\ttotal: 1.69s\tremaining: 423ms\n",
      "16:\tlearn: 1950.3961145\ttotal: 1.79s\tremaining: 316ms\n",
      "17:\tlearn: 1939.8648287\ttotal: 1.9s\tremaining: 211ms\n",
      "18:\tlearn: 1927.9088780\ttotal: 1.99s\tremaining: 105ms\n",
      "19:\tlearn: 1920.9927233\ttotal: 2.09s\tremaining: 0us\n",
      "0:\tlearn: 2860.5858462\ttotal: 37ms\tremaining: 1.07s\n",
      "1:\tlearn: 2519.5877528\ttotal: 137ms\tremaining: 1.92s\n",
      "2:\tlearn: 2398.1224585\ttotal: 237ms\tremaining: 2.13s\n",
      "3:\tlearn: 2325.1440638\ttotal: 337ms\tremaining: 2.19s\n",
      "4:\tlearn: 2239.6873784\ttotal: 439ms\tremaining: 2.19s\n",
      "5:\tlearn: 2179.7283204\ttotal: 539ms\tremaining: 2.15s\n",
      "6:\tlearn: 2152.8801033\ttotal: 639ms\tremaining: 2.1s\n",
      "7:\tlearn: 2118.5118322\ttotal: 739ms\tremaining: 2.03s\n",
      "8:\tlearn: 2086.1465644\ttotal: 842ms\tremaining: 1.96s\n",
      "9:\tlearn: 2065.5255531\ttotal: 940ms\tremaining: 1.88s\n",
      "10:\tlearn: 2042.4487641\ttotal: 1.04s\tremaining: 1.79s\n",
      "11:\tlearn: 2029.2665150\ttotal: 1.14s\tremaining: 1.71s\n",
      "12:\tlearn: 2003.5709468\ttotal: 1.24s\tremaining: 1.62s\n",
      "13:\tlearn: 1989.6692065\ttotal: 1.34s\tremaining: 1.53s\n",
      "14:\tlearn: 1970.1729469\ttotal: 1.44s\tremaining: 1.44s\n",
      "15:\tlearn: 1960.1573710\ttotal: 1.54s\tremaining: 1.35s\n",
      "16:\tlearn: 1953.5137810\ttotal: 1.64s\tremaining: 1.25s\n",
      "17:\tlearn: 1942.1761389\ttotal: 1.74s\tremaining: 1.16s\n",
      "18:\tlearn: 1926.2388616\ttotal: 1.83s\tremaining: 1.06s\n",
      "19:\tlearn: 1920.1328075\ttotal: 1.93s\tremaining: 967ms\n",
      "20:\tlearn: 1908.4372241\ttotal: 2.04s\tremaining: 875ms\n",
      "21:\tlearn: 1896.9914071\ttotal: 2.13s\tremaining: 776ms\n",
      "22:\tlearn: 1889.3750905\ttotal: 2.32s\tremaining: 707ms\n",
      "23:\tlearn: 1881.2370912\ttotal: 2.42s\tremaining: 606ms\n",
      "24:\tlearn: 1874.4125055\ttotal: 2.52s\tremaining: 505ms\n",
      "25:\tlearn: 1870.7431678\ttotal: 2.62s\tremaining: 404ms\n",
      "26:\tlearn: 1865.7710170\ttotal: 2.72s\tremaining: 303ms\n",
      "27:\tlearn: 1860.6110314\ttotal: 2.82s\tremaining: 202ms\n",
      "28:\tlearn: 1853.7581371\ttotal: 2.92s\tremaining: 101ms\n",
      "29:\tlearn: 1847.7959102\ttotal: 3.02s\tremaining: 0us\n",
      "0:\tlearn: 2803.8783320\ttotal: 18.3ms\tremaining: 530ms\n",
      "1:\tlearn: 2486.1837737\ttotal: 118ms\tremaining: 1.66s\n",
      "2:\tlearn: 2344.8018692\ttotal: 217ms\tremaining: 1.95s\n",
      "3:\tlearn: 2243.1175172\ttotal: 316ms\tremaining: 2.06s\n",
      "4:\tlearn: 2169.7534257\ttotal: 416ms\tremaining: 2.08s\n",
      "5:\tlearn: 2131.1755058\ttotal: 516ms\tremaining: 2.06s\n",
      "6:\tlearn: 2085.3125771\ttotal: 616ms\tremaining: 2.02s\n",
      "7:\tlearn: 2058.4366311\ttotal: 719ms\tremaining: 1.98s\n",
      "8:\tlearn: 2032.3112856\ttotal: 819ms\tremaining: 1.91s\n",
      "9:\tlearn: 2011.1059733\ttotal: 921ms\tremaining: 1.84s\n",
      "10:\tlearn: 1987.8460895\ttotal: 1.02s\tremaining: 1.76s\n",
      "11:\tlearn: 1968.6764963\ttotal: 1.12s\tremaining: 1.68s\n",
      "12:\tlearn: 1955.8376599\ttotal: 1.31s\tremaining: 1.71s\n",
      "13:\tlearn: 1945.0301178\ttotal: 1.41s\tremaining: 1.61s\n",
      "14:\tlearn: 1934.0556726\ttotal: 1.51s\tremaining: 1.51s\n",
      "15:\tlearn: 1923.8669620\ttotal: 1.61s\tremaining: 1.41s\n",
      "16:\tlearn: 1918.5739110\ttotal: 1.71s\tremaining: 1.31s\n",
      "17:\tlearn: 1912.6705450\ttotal: 1.81s\tremaining: 1.21s\n",
      "18:\tlearn: 1903.0728097\ttotal: 1.92s\tremaining: 1.11s\n",
      "19:\tlearn: 1894.8130177\ttotal: 2.01s\tremaining: 1.01s\n",
      "20:\tlearn: 1886.0647884\ttotal: 2.11s\tremaining: 906ms\n",
      "21:\tlearn: 1876.3391139\ttotal: 2.21s\tremaining: 805ms\n",
      "22:\tlearn: 1866.8657526\ttotal: 2.31s\tremaining: 704ms\n",
      "23:\tlearn: 1858.8365249\ttotal: 2.5s\tremaining: 626ms\n",
      "24:\tlearn: 1852.7438928\ttotal: 2.6s\tremaining: 520ms\n"
     ]
    },
    {
     "name": "stdout",
     "output_type": "stream",
     "text": [
      "25:\tlearn: 1845.0220199\ttotal: 2.7s\tremaining: 416ms\n",
      "26:\tlearn: 1838.1438491\ttotal: 2.81s\tremaining: 312ms\n",
      "27:\tlearn: 1834.8282583\ttotal: 2.91s\tremaining: 208ms\n",
      "28:\tlearn: 1825.6243223\ttotal: 3s\tremaining: 104ms\n",
      "29:\tlearn: 1817.5880454\ttotal: 3.11s\tremaining: 0us\n",
      "0:\tlearn: 2848.3263548\ttotal: 25.4ms\tremaining: 736ms\n",
      "1:\tlearn: 2538.8774199\ttotal: 124ms\tremaining: 1.74s\n",
      "2:\tlearn: 2364.1767693\ttotal: 224ms\tremaining: 2.01s\n",
      "3:\tlearn: 2292.2249093\ttotal: 326ms\tremaining: 2.12s\n",
      "4:\tlearn: 2227.5996663\ttotal: 427ms\tremaining: 2.13s\n",
      "5:\tlearn: 2160.2139263\ttotal: 528ms\tremaining: 2.11s\n",
      "6:\tlearn: 2136.6556861\ttotal: 628ms\tremaining: 2.06s\n",
      "7:\tlearn: 2110.4258301\ttotal: 727ms\tremaining: 2s\n",
      "8:\tlearn: 2085.5084021\ttotal: 830ms\tremaining: 1.94s\n",
      "9:\tlearn: 2045.8930389\ttotal: 927ms\tremaining: 1.85s\n",
      "10:\tlearn: 2025.4092280\ttotal: 1.03s\tremaining: 1.79s\n",
      "11:\tlearn: 2012.6072379\ttotal: 1.13s\tremaining: 1.69s\n",
      "12:\tlearn: 2002.0970886\ttotal: 1.23s\tremaining: 1.61s\n",
      "13:\tlearn: 1978.3990292\ttotal: 1.41s\tremaining: 1.62s\n",
      "14:\tlearn: 1962.6437646\ttotal: 1.52s\tremaining: 1.52s\n",
      "15:\tlearn: 1950.0451921\ttotal: 1.62s\tremaining: 1.42s\n",
      "16:\tlearn: 1939.5188190\ttotal: 1.72s\tremaining: 1.31s\n",
      "17:\tlearn: 1924.8918328\ttotal: 1.82s\tremaining: 1.21s\n",
      "18:\tlearn: 1913.3692758\ttotal: 1.92s\tremaining: 1.11s\n",
      "19:\tlearn: 1897.6718845\ttotal: 2.02s\tremaining: 1.01s\n",
      "20:\tlearn: 1892.2707219\ttotal: 2.13s\tremaining: 913ms\n",
      "21:\tlearn: 1888.2190891\ttotal: 2.22s\tremaining: 808ms\n",
      "22:\tlearn: 1879.7752838\ttotal: 2.41s\tremaining: 733ms\n",
      "23:\tlearn: 1873.1036760\ttotal: 2.51s\tremaining: 627ms\n",
      "24:\tlearn: 1867.7846307\ttotal: 2.61s\tremaining: 522ms\n",
      "25:\tlearn: 1861.6265417\ttotal: 2.71s\tremaining: 417ms\n",
      "26:\tlearn: 1856.1711968\ttotal: 2.81s\tremaining: 313ms\n",
      "27:\tlearn: 1851.8118169\ttotal: 3.01s\tremaining: 215ms\n",
      "28:\tlearn: 1846.9537435\ttotal: 3.11s\tremaining: 107ms\n",
      "29:\tlearn: 1844.2990225\ttotal: 3.22s\tremaining: 0us\n",
      "0:\tlearn: 2852.9480211\ttotal: 73.2ms\tremaining: 2.12s\n",
      "1:\tlearn: 2545.7880056\ttotal: 172ms\tremaining: 2.41s\n",
      "2:\tlearn: 2371.1406281\ttotal: 273ms\tremaining: 2.46s\n",
      "3:\tlearn: 2290.1095961\ttotal: 373ms\tremaining: 2.42s\n",
      "4:\tlearn: 2222.3375819\ttotal: 473ms\tremaining: 2.37s\n",
      "5:\tlearn: 2145.2630959\ttotal: 574ms\tremaining: 2.29s\n",
      "6:\tlearn: 2110.9388751\ttotal: 675ms\tremaining: 2.22s\n",
      "7:\tlearn: 2075.5350167\ttotal: 776ms\tremaining: 2.13s\n",
      "8:\tlearn: 2059.2617829\ttotal: 876ms\tremaining: 2.04s\n",
      "9:\tlearn: 2032.6505839\ttotal: 975ms\tremaining: 1.95s\n",
      "10:\tlearn: 2013.6110411\ttotal: 1.07s\tremaining: 1.85s\n",
      "11:\tlearn: 2004.4021824\ttotal: 1.17s\tremaining: 1.76s\n",
      "12:\tlearn: 1991.2377259\ttotal: 1.27s\tremaining: 1.67s\n",
      "13:\tlearn: 1983.1405245\ttotal: 1.37s\tremaining: 1.57s\n",
      "14:\tlearn: 1971.1857448\ttotal: 1.47s\tremaining: 1.47s\n",
      "15:\tlearn: 1956.1040798\ttotal: 1.57s\tremaining: 1.38s\n",
      "16:\tlearn: 1947.3908858\ttotal: 1.76s\tremaining: 1.35s\n",
      "17:\tlearn: 1931.7398739\ttotal: 1.86s\tremaining: 1.24s\n",
      "18:\tlearn: 1918.0458901\ttotal: 1.96s\tremaining: 1.14s\n",
      "19:\tlearn: 1910.7084425\ttotal: 2.06s\tremaining: 1.03s\n",
      "20:\tlearn: 1904.4091680\ttotal: 2.16s\tremaining: 926ms\n",
      "21:\tlearn: 1897.4457760\ttotal: 2.26s\tremaining: 822ms\n",
      "22:\tlearn: 1891.0769946\ttotal: 2.36s\tremaining: 718ms\n",
      "23:\tlearn: 1887.7810266\ttotal: 2.46s\tremaining: 615ms\n",
      "24:\tlearn: 1881.0306325\ttotal: 2.56s\tremaining: 511ms\n",
      "25:\tlearn: 1875.1571024\ttotal: 2.66s\tremaining: 409ms\n",
      "26:\tlearn: 1868.4454493\ttotal: 2.76s\tremaining: 306ms\n",
      "27:\tlearn: 1863.2956921\ttotal: 2.86s\tremaining: 204ms\n",
      "28:\tlearn: 1857.4513574\ttotal: 2.96s\tremaining: 102ms\n",
      "29:\tlearn: 1852.5913096\ttotal: 3.06s\tremaining: 0us\n",
      "0:\tlearn: 2872.1651971\ttotal: 21ms\tremaining: 608ms\n",
      "1:\tlearn: 2520.0895298\ttotal: 38.8ms\tremaining: 543ms\n",
      "2:\tlearn: 2400.2045342\ttotal: 129ms\tremaining: 1.17s\n",
      "3:\tlearn: 2308.0877315\ttotal: 320ms\tremaining: 2.08s\n",
      "4:\tlearn: 2216.3824333\ttotal: 421ms\tremaining: 2.1s\n",
      "5:\tlearn: 2178.3033260\ttotal: 520ms\tremaining: 2.08s\n",
      "6:\tlearn: 2152.6697994\ttotal: 620ms\tremaining: 2.04s\n",
      "7:\tlearn: 2111.1803328\ttotal: 721ms\tremaining: 1.98s\n",
      "8:\tlearn: 2084.6942517\ttotal: 821ms\tremaining: 1.92s\n",
      "9:\tlearn: 2063.9878028\ttotal: 921ms\tremaining: 1.84s\n",
      "10:\tlearn: 2034.4945252\ttotal: 1.02s\tremaining: 1.76s\n",
      "11:\tlearn: 2014.7081324\ttotal: 1.12s\tremaining: 1.68s\n",
      "12:\tlearn: 1997.3322445\ttotal: 1.22s\tremaining: 1.59s\n",
      "13:\tlearn: 1980.1101675\ttotal: 1.32s\tremaining: 1.51s\n",
      "14:\tlearn: 1970.5214906\ttotal: 1.42s\tremaining: 1.42s\n",
      "15:\tlearn: 1961.7589308\ttotal: 1.52s\tremaining: 1.33s\n",
      "16:\tlearn: 1950.3961145\ttotal: 1.62s\tremaining: 1.24s\n",
      "17:\tlearn: 1939.8648287\ttotal: 1.72s\tremaining: 1.15s\n",
      "18:\tlearn: 1927.9088780\ttotal: 1.91s\tremaining: 1.1s\n",
      "19:\tlearn: 1920.9927233\ttotal: 2.01s\tremaining: 1s\n",
      "20:\tlearn: 1916.6280233\ttotal: 2.11s\tremaining: 904ms\n",
      "21:\tlearn: 1910.3536667\ttotal: 2.21s\tremaining: 803ms\n",
      "22:\tlearn: 1901.9913074\ttotal: 2.31s\tremaining: 703ms\n",
      "23:\tlearn: 1897.8299843\ttotal: 2.41s\tremaining: 602ms\n",
      "24:\tlearn: 1894.1755775\ttotal: 2.51s\tremaining: 502ms\n",
      "25:\tlearn: 1890.5726498\ttotal: 2.61s\tremaining: 401ms\n",
      "26:\tlearn: 1883.1645937\ttotal: 2.71s\tremaining: 301ms\n",
      "27:\tlearn: 1877.6131619\ttotal: 2.81s\tremaining: 201ms\n",
      "28:\tlearn: 1874.1248450\ttotal: 2.91s\tremaining: 100ms\n",
      "29:\tlearn: 1869.7774346\ttotal: 3.01s\tremaining: 0us\n",
      "0:\tlearn: 2860.5858462\ttotal: 68.8ms\tremaining: 2.68s\n",
      "1:\tlearn: 2519.5877528\ttotal: 168ms\tremaining: 3.2s\n",
      "2:\tlearn: 2398.1224585\ttotal: 267ms\tremaining: 3.3s\n",
      "3:\tlearn: 2325.1440638\ttotal: 368ms\tremaining: 3.31s\n",
      "4:\tlearn: 2239.6873784\ttotal: 469ms\tremaining: 3.28s\n",
      "5:\tlearn: 2179.7283204\ttotal: 571ms\tremaining: 3.23s\n",
      "6:\tlearn: 2152.8801033\ttotal: 669ms\tremaining: 3.15s\n",
      "7:\tlearn: 2118.5118322\ttotal: 777ms\tremaining: 3.11s\n",
      "8:\tlearn: 2086.1465644\ttotal: 871ms\tremaining: 3s\n",
      "9:\tlearn: 2065.5255531\ttotal: 971ms\tremaining: 2.91s\n",
      "10:\tlearn: 2042.4487641\ttotal: 1.07s\tremaining: 2.83s\n",
      "11:\tlearn: 2029.2665150\ttotal: 1.17s\tremaining: 2.73s\n",
      "12:\tlearn: 2003.5709468\ttotal: 1.28s\tremaining: 2.66s\n",
      "13:\tlearn: 1989.6692065\ttotal: 1.37s\tremaining: 2.54s\n",
      "14:\tlearn: 1970.1729469\ttotal: 1.48s\tremaining: 2.46s\n",
      "15:\tlearn: 1960.1573710\ttotal: 1.57s\tremaining: 2.35s\n",
      "16:\tlearn: 1953.5137810\ttotal: 1.67s\tremaining: 2.25s\n",
      "17:\tlearn: 1942.1761389\ttotal: 1.76s\tremaining: 2.16s\n",
      "18:\tlearn: 1926.2388616\ttotal: 1.87s\tremaining: 2.06s\n",
      "19:\tlearn: 1920.1328075\ttotal: 1.97s\tremaining: 1.97s\n",
      "20:\tlearn: 1908.4372241\ttotal: 2.07s\tremaining: 1.88s\n",
      "21:\tlearn: 1896.9914071\ttotal: 2.17s\tremaining: 1.77s\n",
      "22:\tlearn: 1889.3750905\ttotal: 2.35s\tremaining: 1.74s\n",
      "23:\tlearn: 1881.2370912\ttotal: 2.45s\tremaining: 1.64s\n",
      "24:\tlearn: 1874.4125055\ttotal: 2.56s\tremaining: 1.53s\n",
      "25:\tlearn: 1870.7431678\ttotal: 2.65s\tremaining: 1.43s\n",
      "26:\tlearn: 1865.7710170\ttotal: 2.75s\tremaining: 1.33s\n",
      "27:\tlearn: 1860.6110314\ttotal: 2.85s\tremaining: 1.22s\n",
      "28:\tlearn: 1853.7581371\ttotal: 2.96s\tremaining: 1.12s\n",
      "29:\tlearn: 1847.7959102\ttotal: 3.06s\tremaining: 1.02s\n",
      "30:\tlearn: 1844.5914426\ttotal: 3.15s\tremaining: 916ms\n",
      "31:\tlearn: 1840.4149086\ttotal: 3.25s\tremaining: 814ms\n",
      "32:\tlearn: 1836.8760560\ttotal: 3.35s\tremaining: 712ms\n",
      "33:\tlearn: 1829.1064723\ttotal: 3.46s\tremaining: 610ms\n",
      "34:\tlearn: 1824.0140658\ttotal: 3.56s\tremaining: 508ms\n",
      "35:\tlearn: 1822.3741057\ttotal: 3.65s\tremaining: 406ms\n",
      "36:\tlearn: 1817.7069468\ttotal: 3.85s\tremaining: 312ms\n",
      "37:\tlearn: 1813.0154573\ttotal: 3.95s\tremaining: 208ms\n",
      "38:\tlearn: 1809.8440493\ttotal: 4.05s\tremaining: 104ms\n",
      "39:\tlearn: 1806.3718428\ttotal: 4.15s\tremaining: 0us\n",
      "0:\tlearn: 2803.8783320\ttotal: 12.7ms\tremaining: 495ms\n",
      "1:\tlearn: 2486.1837737\ttotal: 30.5ms\tremaining: 580ms\n",
      "2:\tlearn: 2344.8018692\ttotal: 211ms\tremaining: 2.6s\n",
      "3:\tlearn: 2243.1175172\ttotal: 310ms\tremaining: 2.79s\n",
      "4:\tlearn: 2169.7534257\ttotal: 410ms\tremaining: 2.87s\n",
      "5:\tlearn: 2131.1755058\ttotal: 510ms\tremaining: 2.89s\n",
      "6:\tlearn: 2085.3125771\ttotal: 610ms\tremaining: 2.88s\n",
      "7:\tlearn: 2058.4366311\ttotal: 712ms\tremaining: 2.85s\n",
      "8:\tlearn: 2032.3112856\ttotal: 813ms\tremaining: 2.8s\n",
      "9:\tlearn: 2011.1059733\ttotal: 912ms\tremaining: 2.74s\n",
      "10:\tlearn: 1987.8460895\ttotal: 1.01s\tremaining: 2.67s\n",
      "11:\tlearn: 1968.6764963\ttotal: 1.11s\tremaining: 2.6s\n",
      "12:\tlearn: 1955.8376599\ttotal: 1.21s\tremaining: 2.52s\n",
      "13:\tlearn: 1945.0301178\ttotal: 1.31s\tremaining: 2.44s\n",
      "14:\tlearn: 1934.0556726\ttotal: 1.41s\tremaining: 2.35s\n",
      "15:\tlearn: 1923.8669620\ttotal: 1.52s\tremaining: 2.28s\n",
      "16:\tlearn: 1918.5739110\ttotal: 1.61s\tremaining: 2.18s\n",
      "17:\tlearn: 1912.6705450\ttotal: 1.8s\tremaining: 2.2s\n",
      "18:\tlearn: 1903.0728097\ttotal: 1.91s\tremaining: 2.11s\n"
     ]
    },
    {
     "name": "stdout",
     "output_type": "stream",
     "text": [
      "19:\tlearn: 1894.8130177\ttotal: 2.01s\tremaining: 2.01s\n",
      "20:\tlearn: 1886.0647884\ttotal: 2.11s\tremaining: 1.91s\n",
      "21:\tlearn: 1876.3391139\ttotal: 2.21s\tremaining: 1.81s\n",
      "22:\tlearn: 1866.8657526\ttotal: 2.31s\tremaining: 1.71s\n",
      "23:\tlearn: 1858.8365249\ttotal: 2.5s\tremaining: 1.66s\n",
      "24:\tlearn: 1852.7438928\ttotal: 2.51s\tremaining: 1.5s\n",
      "25:\tlearn: 1845.0220199\ttotal: 2.7s\tremaining: 1.45s\n",
      "26:\tlearn: 1838.1438491\ttotal: 2.8s\tremaining: 1.35s\n",
      "27:\tlearn: 1834.8282583\ttotal: 2.9s\tremaining: 1.24s\n",
      "28:\tlearn: 1825.6243223\ttotal: 3s\tremaining: 1.14s\n",
      "29:\tlearn: 1817.5880454\ttotal: 3.2s\tremaining: 1.06s\n",
      "30:\tlearn: 1811.1668986\ttotal: 3.3s\tremaining: 959ms\n",
      "31:\tlearn: 1807.4186865\ttotal: 3.49s\tremaining: 873ms\n",
      "32:\tlearn: 1804.7679738\ttotal: 3.6s\tremaining: 763ms\n",
      "33:\tlearn: 1800.9617167\ttotal: 3.7s\tremaining: 653ms\n",
      "34:\tlearn: 1798.1977847\ttotal: 3.81s\tremaining: 545ms\n",
      "35:\tlearn: 1796.5816393\ttotal: 3.9s\tremaining: 433ms\n",
      "36:\tlearn: 1792.1603998\ttotal: 4.09s\tremaining: 332ms\n",
      "37:\tlearn: 1789.1122106\ttotal: 4.19s\tremaining: 221ms\n",
      "38:\tlearn: 1785.2847575\ttotal: 4.3s\tremaining: 110ms\n",
      "39:\tlearn: 1782.4430483\ttotal: 4.49s\tremaining: 0us\n",
      "0:\tlearn: 2848.3263548\ttotal: 90.9ms\tremaining: 3.54s\n",
      "1:\tlearn: 2538.8774199\ttotal: 192ms\tremaining: 3.64s\n",
      "2:\tlearn: 2364.1767693\ttotal: 303ms\tremaining: 3.73s\n",
      "3:\tlearn: 2292.2249093\ttotal: 396ms\tremaining: 3.56s\n",
      "4:\tlearn: 2227.5996663\ttotal: 497ms\tremaining: 3.48s\n",
      "5:\tlearn: 2160.2139263\ttotal: 686ms\tremaining: 3.89s\n",
      "6:\tlearn: 2136.6556861\ttotal: 786ms\tremaining: 3.71s\n",
      "7:\tlearn: 2110.4258301\ttotal: 889ms\tremaining: 3.56s\n",
      "8:\tlearn: 2085.5084021\ttotal: 992ms\tremaining: 3.42s\n",
      "9:\tlearn: 2045.8930389\ttotal: 1.19s\tremaining: 3.56s\n",
      "10:\tlearn: 2025.4092280\ttotal: 1.29s\tremaining: 3.41s\n",
      "11:\tlearn: 2012.6072379\ttotal: 1.49s\tremaining: 3.47s\n",
      "12:\tlearn: 2002.0970886\ttotal: 1.59s\tremaining: 3.3s\n",
      "13:\tlearn: 1978.3990292\ttotal: 1.69s\tremaining: 3.14s\n",
      "14:\tlearn: 1962.6437646\ttotal: 1.77s\tremaining: 2.95s\n",
      "15:\tlearn: 1950.0451921\ttotal: 1.96s\tremaining: 2.95s\n",
      "16:\tlearn: 1939.5188190\ttotal: 2.07s\tremaining: 2.8s\n",
      "17:\tlearn: 1924.8918328\ttotal: 2.26s\tremaining: 2.76s\n",
      "18:\tlearn: 1913.3692758\ttotal: 2.36s\tremaining: 2.61s\n",
      "19:\tlearn: 1897.6718845\ttotal: 2.46s\tremaining: 2.46s\n",
      "20:\tlearn: 1892.2707219\ttotal: 2.56s\tremaining: 2.32s\n",
      "21:\tlearn: 1888.2190891\ttotal: 2.66s\tremaining: 2.18s\n",
      "22:\tlearn: 1879.7752838\ttotal: 2.77s\tremaining: 2.05s\n",
      "23:\tlearn: 1873.1036760\ttotal: 2.95s\tremaining: 1.97s\n",
      "24:\tlearn: 1867.7846307\ttotal: 3.06s\tremaining: 1.83s\n",
      "25:\tlearn: 1861.6265417\ttotal: 3.16s\tremaining: 1.7s\n",
      "26:\tlearn: 1856.1711968\ttotal: 3.35s\tremaining: 1.61s\n",
      "27:\tlearn: 1851.8118169\ttotal: 3.46s\tremaining: 1.48s\n",
      "28:\tlearn: 1846.9537435\ttotal: 3.57s\tremaining: 1.35s\n",
      "29:\tlearn: 1844.2990225\ttotal: 3.75s\tremaining: 1.25s\n",
      "30:\tlearn: 1835.9314062\ttotal: 3.87s\tremaining: 1.12s\n",
      "31:\tlearn: 1833.0043071\ttotal: 4.05s\tremaining: 1.01s\n",
      "32:\tlearn: 1829.3139352\ttotal: 4.25s\tremaining: 901ms\n",
      "33:\tlearn: 1822.6557681\ttotal: 4.35s\tremaining: 768ms\n",
      "34:\tlearn: 1816.4324988\ttotal: 4.46s\tremaining: 637ms\n",
      "35:\tlearn: 1813.5611162\ttotal: 4.65s\tremaining: 517ms\n",
      "36:\tlearn: 1810.1791915\ttotal: 4.75s\tremaining: 386ms\n",
      "37:\tlearn: 1806.5079166\ttotal: 4.86s\tremaining: 256ms\n",
      "38:\tlearn: 1801.6970364\ttotal: 5.05s\tremaining: 129ms\n",
      "39:\tlearn: 1798.8148620\ttotal: 5.15s\tremaining: 0us\n",
      "0:\tlearn: 2852.9480211\ttotal: 81.9ms\tremaining: 3.19s\n",
      "1:\tlearn: 2545.7880056\ttotal: 182ms\tremaining: 3.45s\n",
      "2:\tlearn: 2371.1406281\ttotal: 285ms\tremaining: 3.52s\n",
      "3:\tlearn: 2290.1095961\ttotal: 386ms\tremaining: 3.47s\n",
      "4:\tlearn: 2222.3375819\ttotal: 487ms\tremaining: 3.41s\n",
      "5:\tlearn: 2145.2630959\ttotal: 588ms\tremaining: 3.33s\n",
      "6:\tlearn: 2110.9388751\ttotal: 689ms\tremaining: 3.25s\n",
      "7:\tlearn: 2075.5350167\ttotal: 879ms\tremaining: 3.52s\n",
      "8:\tlearn: 2059.2617829\ttotal: 977ms\tremaining: 3.37s\n",
      "9:\tlearn: 2032.6505839\ttotal: 1.08s\tremaining: 3.23s\n",
      "10:\tlearn: 2013.6110411\ttotal: 1.18s\tremaining: 3.1s\n",
      "11:\tlearn: 2004.4021824\ttotal: 1.28s\tremaining: 2.98s\n",
      "12:\tlearn: 1991.2377259\ttotal: 1.38s\tremaining: 2.86s\n",
      "13:\tlearn: 1983.1405245\ttotal: 1.48s\tremaining: 2.74s\n",
      "14:\tlearn: 1971.1857448\ttotal: 1.57s\tremaining: 2.63s\n",
      "15:\tlearn: 1956.1040798\ttotal: 1.68s\tremaining: 2.51s\n",
      "16:\tlearn: 1947.3908858\ttotal: 1.78s\tremaining: 2.41s\n",
      "17:\tlearn: 1931.7398739\ttotal: 1.88s\tremaining: 2.29s\n",
      "18:\tlearn: 1918.0458901\ttotal: 1.98s\tremaining: 2.19s\n",
      "19:\tlearn: 1910.7084425\ttotal: 2.08s\tremaining: 2.08s\n",
      "20:\tlearn: 1904.4091680\ttotal: 2.18s\tremaining: 1.97s\n",
      "21:\tlearn: 1897.4457760\ttotal: 2.28s\tremaining: 1.86s\n",
      "22:\tlearn: 1891.0769946\ttotal: 2.38s\tremaining: 1.76s\n",
      "23:\tlearn: 1887.7810266\ttotal: 2.48s\tremaining: 1.65s\n",
      "24:\tlearn: 1881.0306325\ttotal: 2.57s\tremaining: 1.54s\n",
      "25:\tlearn: 1875.1571024\ttotal: 2.67s\tremaining: 1.44s\n",
      "26:\tlearn: 1868.4454493\ttotal: 2.77s\tremaining: 1.33s\n",
      "27:\tlearn: 1863.2956921\ttotal: 2.96s\tremaining: 1.27s\n",
      "28:\tlearn: 1857.4513574\ttotal: 3.06s\tremaining: 1.16s\n",
      "29:\tlearn: 1852.5913096\ttotal: 3.16s\tremaining: 1.05s\n",
      "30:\tlearn: 1845.8714249\ttotal: 3.26s\tremaining: 948ms\n",
      "31:\tlearn: 1837.3444612\ttotal: 3.36s\tremaining: 841ms\n",
      "32:\tlearn: 1834.9154750\ttotal: 3.46s\tremaining: 735ms\n",
      "33:\tlearn: 1831.0984865\ttotal: 3.56s\tremaining: 629ms\n",
      "34:\tlearn: 1824.8127856\ttotal: 3.66s\tremaining: 523ms\n",
      "35:\tlearn: 1821.0189592\ttotal: 3.76s\tremaining: 418ms\n",
      "36:\tlearn: 1815.6650536\ttotal: 3.87s\tremaining: 313ms\n",
      "37:\tlearn: 1811.2901478\ttotal: 3.97s\tremaining: 209ms\n",
      "38:\tlearn: 1806.2251106\ttotal: 4.07s\tremaining: 104ms\n",
      "39:\tlearn: 1804.2592400\ttotal: 4.17s\tremaining: 0us\n",
      "0:\tlearn: 2872.1651971\ttotal: 14.1ms\tremaining: 552ms\n",
      "1:\tlearn: 2520.0895298\ttotal: 115ms\tremaining: 2.18s\n",
      "2:\tlearn: 2400.2045342\ttotal: 214ms\tremaining: 2.63s\n",
      "3:\tlearn: 2308.0877315\ttotal: 314ms\tremaining: 2.82s\n",
      "4:\tlearn: 2216.3824333\ttotal: 507ms\tremaining: 3.55s\n",
      "5:\tlearn: 2178.3033260\ttotal: 605ms\tremaining: 3.43s\n",
      "6:\tlearn: 2152.6697994\ttotal: 705ms\tremaining: 3.32s\n",
      "7:\tlearn: 2111.1803328\ttotal: 804ms\tremaining: 3.22s\n",
      "8:\tlearn: 2084.6942517\ttotal: 903ms\tremaining: 3.11s\n",
      "9:\tlearn: 2063.9878028\ttotal: 1s\tremaining: 3.01s\n",
      "10:\tlearn: 2034.4945252\ttotal: 1.11s\tremaining: 2.92s\n",
      "11:\tlearn: 2014.7081324\ttotal: 1.21s\tremaining: 2.81s\n",
      "12:\tlearn: 1997.3322445\ttotal: 1.3s\tremaining: 2.71s\n",
      "13:\tlearn: 1980.1101675\ttotal: 1.41s\tremaining: 2.61s\n",
      "14:\tlearn: 1970.5214906\ttotal: 1.5s\tremaining: 2.51s\n",
      "15:\tlearn: 1961.7589308\ttotal: 1.6s\tremaining: 2.41s\n",
      "16:\tlearn: 1950.3961145\ttotal: 1.71s\tremaining: 2.31s\n",
      "17:\tlearn: 1939.8648287\ttotal: 1.8s\tremaining: 2.21s\n",
      "18:\tlearn: 1927.9088780\ttotal: 2s\tremaining: 2.21s\n",
      "19:\tlearn: 1920.9927233\ttotal: 2.01s\tremaining: 2.01s\n",
      "20:\tlearn: 1916.6280233\ttotal: 2.1s\tremaining: 1.9s\n",
      "21:\tlearn: 1910.3536667\ttotal: 2.29s\tremaining: 1.88s\n",
      "22:\tlearn: 1901.9913074\ttotal: 2.39s\tremaining: 1.77s\n",
      "23:\tlearn: 1897.8299843\ttotal: 2.49s\tremaining: 1.66s\n",
      "24:\tlearn: 1894.1755775\ttotal: 2.59s\tremaining: 1.56s\n",
      "25:\tlearn: 1890.5726498\ttotal: 2.69s\tremaining: 1.45s\n",
      "26:\tlearn: 1883.1645937\ttotal: 2.79s\tremaining: 1.34s\n",
      "27:\tlearn: 1877.6131619\ttotal: 2.89s\tremaining: 1.24s\n",
      "28:\tlearn: 1874.1248450\ttotal: 2.99s\tremaining: 1.13s\n",
      "29:\tlearn: 1869.7774346\ttotal: 3.09s\tremaining: 1.03s\n",
      "30:\tlearn: 1863.5803035\ttotal: 3.19s\tremaining: 927ms\n",
      "31:\tlearn: 1854.7354712\ttotal: 3.29s\tremaining: 823ms\n",
      "32:\tlearn: 1848.6111336\ttotal: 3.39s\tremaining: 720ms\n",
      "33:\tlearn: 1841.6727259\ttotal: 3.49s\tremaining: 616ms\n",
      "34:\tlearn: 1837.9981581\ttotal: 3.59s\tremaining: 513ms\n",
      "35:\tlearn: 1834.8743316\ttotal: 3.7s\tremaining: 411ms\n",
      "36:\tlearn: 1830.0796836\ttotal: 3.79s\tremaining: 308ms\n",
      "37:\tlearn: 1826.7282167\ttotal: 3.89s\tremaining: 205ms\n",
      "38:\tlearn: 1822.5974993\ttotal: 4.08s\tremaining: 105ms\n",
      "39:\tlearn: 1820.3815325\ttotal: 4.1s\tremaining: 0us\n",
      "0:\tlearn: 2860.5858462\ttotal: 67.5ms\tremaining: 3.31s\n",
      "1:\tlearn: 2519.5877528\ttotal: 168ms\tremaining: 4.03s\n",
      "2:\tlearn: 2398.1224585\ttotal: 267ms\tremaining: 4.18s\n",
      "3:\tlearn: 2325.1440638\ttotal: 368ms\tremaining: 4.23s\n",
      "4:\tlearn: 2239.6873784\ttotal: 470ms\tremaining: 4.23s\n",
      "5:\tlearn: 2179.7283204\ttotal: 569ms\tremaining: 4.17s\n",
      "6:\tlearn: 2152.8801033\ttotal: 669ms\tremaining: 4.11s\n",
      "7:\tlearn: 2118.5118322\ttotal: 770ms\tremaining: 4.04s\n",
      "8:\tlearn: 2086.1465644\ttotal: 872ms\tremaining: 3.97s\n",
      "9:\tlearn: 2065.5255531\ttotal: 970ms\tremaining: 3.88s\n",
      "10:\tlearn: 2042.4487641\ttotal: 1.07s\tremaining: 3.81s\n",
      "11:\tlearn: 2029.2665150\ttotal: 1.17s\tremaining: 3.7s\n",
      "12:\tlearn: 2003.5709468\ttotal: 1.27s\tremaining: 3.61s\n",
      "13:\tlearn: 1989.6692065\ttotal: 1.37s\tremaining: 3.52s\n"
     ]
    },
    {
     "name": "stdout",
     "output_type": "stream",
     "text": [
      "14:\tlearn: 1970.1729469\ttotal: 1.47s\tremaining: 3.43s\n",
      "15:\tlearn: 1960.1573710\ttotal: 1.58s\tremaining: 3.37s\n",
      "16:\tlearn: 1953.5137810\ttotal: 1.67s\tremaining: 3.23s\n",
      "17:\tlearn: 1942.1761389\ttotal: 1.77s\tremaining: 3.14s\n",
      "18:\tlearn: 1926.2388616\ttotal: 1.87s\tremaining: 3.05s\n",
      "19:\tlearn: 1920.1328075\ttotal: 1.96s\tremaining: 2.95s\n",
      "20:\tlearn: 1908.4372241\ttotal: 2.06s\tremaining: 2.85s\n",
      "21:\tlearn: 1896.9914071\ttotal: 2.16s\tremaining: 2.75s\n",
      "22:\tlearn: 1889.3750905\ttotal: 2.26s\tremaining: 2.65s\n",
      "23:\tlearn: 1881.2370912\ttotal: 2.45s\tremaining: 2.66s\n",
      "24:\tlearn: 1874.4125055\ttotal: 2.55s\tremaining: 2.55s\n",
      "25:\tlearn: 1870.7431678\ttotal: 2.65s\tremaining: 2.45s\n",
      "26:\tlearn: 1865.7710170\ttotal: 2.75s\tremaining: 2.34s\n",
      "27:\tlearn: 1860.6110314\ttotal: 2.85s\tremaining: 2.24s\n",
      "28:\tlearn: 1853.7581371\ttotal: 2.95s\tremaining: 2.14s\n",
      "29:\tlearn: 1847.7959102\ttotal: 3.05s\tremaining: 2.03s\n",
      "30:\tlearn: 1844.5914426\ttotal: 3.15s\tremaining: 1.93s\n",
      "31:\tlearn: 1840.4149086\ttotal: 3.25s\tremaining: 1.83s\n",
      "32:\tlearn: 1836.8760560\ttotal: 3.35s\tremaining: 1.73s\n",
      "33:\tlearn: 1829.1064723\ttotal: 3.45s\tremaining: 1.62s\n",
      "34:\tlearn: 1824.0140658\ttotal: 3.55s\tremaining: 1.52s\n",
      "35:\tlearn: 1822.3741057\ttotal: 3.65s\tremaining: 1.42s\n",
      "36:\tlearn: 1817.7069468\ttotal: 3.75s\tremaining: 1.32s\n",
      "37:\tlearn: 1813.0154573\ttotal: 3.85s\tremaining: 1.22s\n",
      "38:\tlearn: 1809.8440493\ttotal: 3.95s\tremaining: 1.11s\n",
      "39:\tlearn: 1806.3718428\ttotal: 4.05s\tremaining: 1.01s\n",
      "40:\tlearn: 1803.1473734\ttotal: 4.15s\tremaining: 911ms\n",
      "41:\tlearn: 1800.7658529\ttotal: 4.25s\tremaining: 809ms\n",
      "42:\tlearn: 1797.0485169\ttotal: 4.35s\tremaining: 708ms\n",
      "43:\tlearn: 1793.6465015\ttotal: 4.45s\tremaining: 607ms\n",
      "44:\tlearn: 1790.2011109\ttotal: 4.55s\tremaining: 506ms\n",
      "45:\tlearn: 1784.9624063\ttotal: 4.65s\tremaining: 404ms\n",
      "46:\tlearn: 1782.9932662\ttotal: 4.84s\tremaining: 309ms\n",
      "47:\tlearn: 1779.8946734\ttotal: 4.94s\tremaining: 206ms\n",
      "48:\tlearn: 1777.2769696\ttotal: 5.04s\tremaining: 103ms\n",
      "49:\tlearn: 1772.3770984\ttotal: 5.14s\tremaining: 0us\n",
      "0:\tlearn: 2803.8783320\ttotal: 83.9ms\tremaining: 4.11s\n",
      "1:\tlearn: 2486.1837737\ttotal: 187ms\tremaining: 4.49s\n",
      "2:\tlearn: 2344.8018692\ttotal: 287ms\tremaining: 4.49s\n",
      "3:\tlearn: 2243.1175172\ttotal: 390ms\tremaining: 4.48s\n",
      "4:\tlearn: 2169.7534257\ttotal: 490ms\tremaining: 4.41s\n",
      "5:\tlearn: 2131.1755058\ttotal: 682ms\tremaining: 5s\n",
      "6:\tlearn: 2085.3125771\ttotal: 779ms\tremaining: 4.79s\n",
      "7:\tlearn: 2058.4366311\ttotal: 881ms\tremaining: 4.63s\n",
      "8:\tlearn: 2032.3112856\ttotal: 985ms\tremaining: 4.49s\n",
      "9:\tlearn: 2011.1059733\ttotal: 1.08s\tremaining: 4.34s\n",
      "10:\tlearn: 1987.8460895\ttotal: 1.19s\tremaining: 4.21s\n",
      "11:\tlearn: 1968.6764963\ttotal: 1.38s\tremaining: 4.36s\n",
      "12:\tlearn: 1955.8376599\ttotal: 1.48s\tremaining: 4.22s\n",
      "13:\tlearn: 1945.0301178\ttotal: 1.58s\tremaining: 4.07s\n",
      "14:\tlearn: 1934.0556726\ttotal: 1.68s\tremaining: 3.92s\n",
      "15:\tlearn: 1923.8669620\ttotal: 1.78s\tremaining: 3.79s\n",
      "16:\tlearn: 1918.5739110\ttotal: 1.88s\tremaining: 3.65s\n",
      "17:\tlearn: 1912.6705450\ttotal: 2.07s\tremaining: 3.68s\n",
      "18:\tlearn: 1903.0728097\ttotal: 2.17s\tremaining: 3.54s\n",
      "19:\tlearn: 1894.8130177\ttotal: 2.27s\tremaining: 3.41s\n",
      "20:\tlearn: 1886.0647884\ttotal: 2.38s\tremaining: 3.28s\n",
      "21:\tlearn: 1876.3391139\ttotal: 2.48s\tremaining: 3.15s\n",
      "22:\tlearn: 1866.8657526\ttotal: 2.67s\tremaining: 3.13s\n",
      "23:\tlearn: 1858.8365249\ttotal: 2.77s\tremaining: 3s\n",
      "24:\tlearn: 1852.7438928\ttotal: 2.88s\tremaining: 2.88s\n",
      "25:\tlearn: 1845.0220199\ttotal: 3.07s\tremaining: 2.83s\n",
      "26:\tlearn: 1838.1438491\ttotal: 3.17s\tremaining: 2.7s\n",
      "27:\tlearn: 1834.8282583\ttotal: 3.27s\tremaining: 2.57s\n",
      "28:\tlearn: 1825.6243223\ttotal: 3.46s\tremaining: 2.51s\n",
      "29:\tlearn: 1817.5880454\ttotal: 3.57s\tremaining: 2.38s\n",
      "30:\tlearn: 1811.1668986\ttotal: 3.76s\tremaining: 2.31s\n",
      "31:\tlearn: 1807.4186865\ttotal: 3.87s\tremaining: 2.17s\n",
      "32:\tlearn: 1804.7679738\ttotal: 3.97s\tremaining: 2.04s\n",
      "33:\tlearn: 1800.9617167\ttotal: 4.07s\tremaining: 1.91s\n",
      "34:\tlearn: 1798.1977847\ttotal: 4.17s\tremaining: 1.78s\n",
      "35:\tlearn: 1796.5816393\ttotal: 4.27s\tremaining: 1.66s\n",
      "36:\tlearn: 1792.1603998\ttotal: 4.37s\tremaining: 1.53s\n",
      "37:\tlearn: 1789.1122106\ttotal: 4.56s\tremaining: 1.44s\n",
      "38:\tlearn: 1785.2847575\ttotal: 4.66s\tremaining: 1.31s\n",
      "39:\tlearn: 1782.4430483\ttotal: 4.86s\tremaining: 1.21s\n",
      "40:\tlearn: 1777.4461403\ttotal: 4.96s\tremaining: 1.09s\n",
      "41:\tlearn: 1774.9360044\ttotal: 5.06s\tremaining: 964ms\n",
      "42:\tlearn: 1773.5313953\ttotal: 5.16s\tremaining: 840ms\n",
      "43:\tlearn: 1770.5054498\ttotal: 5.26s\tremaining: 717ms\n",
      "44:\tlearn: 1764.9108984\ttotal: 5.36s\tremaining: 596ms\n",
      "45:\tlearn: 1763.2915257\ttotal: 5.46s\tremaining: 475ms\n",
      "46:\tlearn: 1760.2715697\ttotal: 5.56s\tremaining: 355ms\n",
      "47:\tlearn: 1756.6627893\ttotal: 5.66s\tremaining: 236ms\n",
      "48:\tlearn: 1755.9825071\ttotal: 5.76s\tremaining: 117ms\n",
      "49:\tlearn: 1754.6857711\ttotal: 5.86s\tremaining: 0us\n",
      "0:\tlearn: 2848.3263548\ttotal: 17.4ms\tremaining: 853ms\n",
      "1:\tlearn: 2538.8774199\ttotal: 43.5ms\tremaining: 1.04s\n",
      "2:\tlearn: 2364.1767693\ttotal: 144ms\tremaining: 2.25s\n",
      "3:\tlearn: 2292.2249093\ttotal: 244ms\tremaining: 2.8s\n",
      "4:\tlearn: 2227.5996663\ttotal: 341ms\tremaining: 3.07s\n",
      "5:\tlearn: 2160.2139263\ttotal: 441ms\tremaining: 3.23s\n",
      "6:\tlearn: 2136.6556861\ttotal: 541ms\tremaining: 3.32s\n",
      "7:\tlearn: 2110.4258301\ttotal: 639ms\tremaining: 3.35s\n",
      "8:\tlearn: 2085.5084021\ttotal: 739ms\tremaining: 3.37s\n",
      "9:\tlearn: 2045.8930389\ttotal: 839ms\tremaining: 3.35s\n",
      "10:\tlearn: 2025.4092280\ttotal: 937ms\tremaining: 3.32s\n",
      "11:\tlearn: 2012.6072379\ttotal: 1.04s\tremaining: 3.28s\n",
      "12:\tlearn: 2002.0970886\ttotal: 1.14s\tremaining: 3.23s\n",
      "13:\tlearn: 1978.3990292\ttotal: 1.24s\tremaining: 3.18s\n",
      "14:\tlearn: 1962.6437646\ttotal: 1.33s\tremaining: 3.12s\n",
      "15:\tlearn: 1950.0451921\ttotal: 1.43s\tremaining: 3.04s\n",
      "16:\tlearn: 1939.5188190\ttotal: 1.53s\tremaining: 2.97s\n",
      "17:\tlearn: 1924.8918328\ttotal: 1.63s\tremaining: 2.9s\n",
      "18:\tlearn: 1913.3692758\ttotal: 1.73s\tremaining: 2.83s\n",
      "19:\tlearn: 1897.6718845\ttotal: 1.83s\tremaining: 2.75s\n",
      "20:\tlearn: 1892.2707219\ttotal: 1.93s\tremaining: 2.67s\n",
      "21:\tlearn: 1888.2190891\ttotal: 2.03s\tremaining: 2.58s\n",
      "22:\tlearn: 1879.7752838\ttotal: 2.13s\tremaining: 2.5s\n",
      "23:\tlearn: 1873.1036760\ttotal: 2.23s\tremaining: 2.41s\n",
      "24:\tlearn: 1867.7846307\ttotal: 2.34s\tremaining: 2.34s\n",
      "25:\tlearn: 1861.6265417\ttotal: 2.43s\tremaining: 2.24s\n",
      "26:\tlearn: 1856.1711968\ttotal: 2.53s\tremaining: 2.15s\n",
      "27:\tlearn: 1851.8118169\ttotal: 2.63s\tremaining: 2.06s\n",
      "28:\tlearn: 1846.9537435\ttotal: 2.73s\tremaining: 1.97s\n",
      "29:\tlearn: 1844.2990225\ttotal: 2.83s\tremaining: 1.89s\n",
      "30:\tlearn: 1835.9314062\ttotal: 2.93s\tremaining: 1.8s\n",
      "31:\tlearn: 1833.0043071\ttotal: 3.12s\tremaining: 1.75s\n",
      "32:\tlearn: 1829.3139352\ttotal: 3.22s\tremaining: 1.66s\n",
      "33:\tlearn: 1822.6557681\ttotal: 3.31s\tremaining: 1.56s\n",
      "34:\tlearn: 1816.4324988\ttotal: 3.42s\tremaining: 1.46s\n",
      "35:\tlearn: 1813.5611162\ttotal: 3.52s\tremaining: 1.37s\n",
      "36:\tlearn: 1810.1791915\ttotal: 3.62s\tremaining: 1.27s\n",
      "37:\tlearn: 1806.5079166\ttotal: 3.71s\tremaining: 1.17s\n",
      "38:\tlearn: 1801.6970364\ttotal: 3.82s\tremaining: 1.08s\n",
      "39:\tlearn: 1798.8148620\ttotal: 3.92s\tremaining: 979ms\n",
      "40:\tlearn: 1795.5403812\ttotal: 4.02s\tremaining: 882ms\n",
      "41:\tlearn: 1791.4856539\ttotal: 4.12s\tremaining: 784ms\n",
      "42:\tlearn: 1786.9032969\ttotal: 4.22s\tremaining: 686ms\n",
      "43:\tlearn: 1784.7392013\ttotal: 4.32s\tremaining: 589ms\n",
      "44:\tlearn: 1779.3083294\ttotal: 4.42s\tremaining: 491ms\n",
      "45:\tlearn: 1774.7292041\ttotal: 4.51s\tremaining: 393ms\n",
      "46:\tlearn: 1771.8011290\ttotal: 4.62s\tremaining: 295ms\n",
      "47:\tlearn: 1768.9931865\ttotal: 4.72s\tremaining: 197ms\n",
      "48:\tlearn: 1766.9485865\ttotal: 4.81s\tremaining: 98.2ms\n",
      "49:\tlearn: 1764.3117008\ttotal: 4.92s\tremaining: 0us\n",
      "0:\tlearn: 2852.9480211\ttotal: 55.5ms\tremaining: 2.72s\n",
      "1:\tlearn: 2545.7880056\ttotal: 72.9ms\tremaining: 1.75s\n",
      "2:\tlearn: 2371.1406281\ttotal: 255ms\tremaining: 3.99s\n",
      "3:\tlearn: 2290.1095961\ttotal: 357ms\tremaining: 4.1s\n",
      "4:\tlearn: 2222.3375819\ttotal: 456ms\tremaining: 4.11s\n",
      "5:\tlearn: 2145.2630959\ttotal: 561ms\tremaining: 4.11s\n",
      "6:\tlearn: 2110.9388751\ttotal: 659ms\tremaining: 4.04s\n",
      "7:\tlearn: 2075.5350167\ttotal: 758ms\tremaining: 3.98s\n",
      "8:\tlearn: 2059.2617829\ttotal: 857ms\tremaining: 3.9s\n",
      "9:\tlearn: 2032.6505839\ttotal: 957ms\tremaining: 3.83s\n",
      "10:\tlearn: 2013.6110411\ttotal: 1.05s\tremaining: 3.74s\n",
      "11:\tlearn: 2004.4021824\ttotal: 1.16s\tremaining: 3.66s\n",
      "12:\tlearn: 1991.2377259\ttotal: 1.25s\tremaining: 3.57s\n",
      "13:\tlearn: 1983.1405245\ttotal: 1.35s\tremaining: 3.48s\n",
      "14:\tlearn: 1971.1857448\ttotal: 1.45s\tremaining: 3.39s\n",
      "15:\tlearn: 1956.1040798\ttotal: 1.55s\tremaining: 3.3s\n",
      "16:\tlearn: 1947.3908858\ttotal: 1.65s\tremaining: 3.21s\n"
     ]
    },
    {
     "name": "stdout",
     "output_type": "stream",
     "text": [
      "17:\tlearn: 1931.7398739\ttotal: 1.75s\tremaining: 3.12s\n",
      "18:\tlearn: 1918.0458901\ttotal: 1.85s\tremaining: 3.02s\n",
      "19:\tlearn: 1910.7084425\ttotal: 1.95s\tremaining: 2.93s\n",
      "20:\tlearn: 1904.4091680\ttotal: 2.05s\tremaining: 2.83s\n",
      "21:\tlearn: 1897.4457760\ttotal: 2.15s\tremaining: 2.74s\n",
      "22:\tlearn: 1891.0769946\ttotal: 2.25s\tremaining: 2.64s\n",
      "23:\tlearn: 1887.7810266\ttotal: 2.35s\tremaining: 2.54s\n",
      "24:\tlearn: 1881.0306325\ttotal: 2.45s\tremaining: 2.45s\n",
      "25:\tlearn: 1875.1571024\ttotal: 2.55s\tremaining: 2.35s\n",
      "26:\tlearn: 1868.4454493\ttotal: 2.65s\tremaining: 2.25s\n",
      "27:\tlearn: 1863.2956921\ttotal: 2.75s\tremaining: 2.16s\n",
      "28:\tlearn: 1857.4513574\ttotal: 2.85s\tremaining: 2.06s\n",
      "29:\tlearn: 1852.5913096\ttotal: 3.04s\tremaining: 2.02s\n",
      "30:\tlearn: 1845.8714249\ttotal: 3.14s\tremaining: 1.92s\n",
      "31:\tlearn: 1837.3444612\ttotal: 3.23s\tremaining: 1.82s\n",
      "32:\tlearn: 1834.9154750\ttotal: 3.34s\tremaining: 1.72s\n",
      "33:\tlearn: 1831.0984865\ttotal: 3.44s\tremaining: 1.62s\n",
      "34:\tlearn: 1824.8127856\ttotal: 3.54s\tremaining: 1.51s\n",
      "35:\tlearn: 1821.0189592\ttotal: 3.64s\tremaining: 1.41s\n",
      "36:\tlearn: 1815.6650536\ttotal: 3.74s\tremaining: 1.31s\n",
      "37:\tlearn: 1811.2901478\ttotal: 3.84s\tremaining: 1.21s\n",
      "38:\tlearn: 1806.2251106\ttotal: 3.94s\tremaining: 1.11s\n",
      "39:\tlearn: 1804.2592400\ttotal: 4.04s\tremaining: 1.01s\n",
      "40:\tlearn: 1799.6967245\ttotal: 4.14s\tremaining: 908ms\n",
      "41:\tlearn: 1796.2801623\ttotal: 4.24s\tremaining: 807ms\n",
      "42:\tlearn: 1793.8738497\ttotal: 4.33s\tremaining: 706ms\n",
      "43:\tlearn: 1788.6256033\ttotal: 4.44s\tremaining: 605ms\n",
      "44:\tlearn: 1785.4715438\ttotal: 4.54s\tremaining: 504ms\n",
      "45:\tlearn: 1781.8819862\ttotal: 4.63s\tremaining: 403ms\n",
      "46:\tlearn: 1779.9659007\ttotal: 4.74s\tremaining: 302ms\n",
      "47:\tlearn: 1777.0013812\ttotal: 4.83s\tremaining: 201ms\n",
      "48:\tlearn: 1773.0473598\ttotal: 4.93s\tremaining: 101ms\n",
      "49:\tlearn: 1768.5739172\ttotal: 5.03s\tremaining: 0us\n",
      "0:\tlearn: 2872.1651971\ttotal: 66.9ms\tremaining: 3.28s\n",
      "1:\tlearn: 2520.0895298\ttotal: 165ms\tremaining: 3.97s\n",
      "2:\tlearn: 2400.2045342\ttotal: 265ms\tremaining: 4.14s\n",
      "3:\tlearn: 2308.0877315\ttotal: 366ms\tremaining: 4.21s\n",
      "4:\tlearn: 2216.3824333\ttotal: 467ms\tremaining: 4.2s\n",
      "5:\tlearn: 2178.3033260\ttotal: 566ms\tremaining: 4.15s\n",
      "6:\tlearn: 2152.6697994\ttotal: 667ms\tremaining: 4.09s\n",
      "7:\tlearn: 2111.1803328\ttotal: 766ms\tremaining: 4.02s\n",
      "8:\tlearn: 2084.6942517\ttotal: 867ms\tremaining: 3.95s\n",
      "9:\tlearn: 2063.9878028\ttotal: 968ms\tremaining: 3.87s\n",
      "10:\tlearn: 2034.4945252\ttotal: 1.07s\tremaining: 3.79s\n",
      "11:\tlearn: 2014.7081324\ttotal: 1.17s\tremaining: 3.7s\n",
      "12:\tlearn: 1997.3322445\ttotal: 1.27s\tremaining: 3.61s\n",
      "13:\tlearn: 1980.1101675\ttotal: 1.37s\tremaining: 3.52s\n",
      "14:\tlearn: 1970.5214906\ttotal: 1.47s\tremaining: 3.42s\n",
      "15:\tlearn: 1961.7589308\ttotal: 1.57s\tremaining: 3.33s\n",
      "16:\tlearn: 1950.3961145\ttotal: 1.67s\tremaining: 3.24s\n",
      "17:\tlearn: 1939.8648287\ttotal: 1.85s\tremaining: 3.3s\n",
      "18:\tlearn: 1927.9088780\ttotal: 1.96s\tremaining: 3.19s\n",
      "19:\tlearn: 1920.9927233\ttotal: 2.06s\tremaining: 3.08s\n",
      "20:\tlearn: 1916.6280233\ttotal: 2.15s\tremaining: 2.98s\n",
      "21:\tlearn: 1910.3536667\ttotal: 2.25s\tremaining: 2.87s\n",
      "22:\tlearn: 1901.9913074\ttotal: 2.35s\tremaining: 2.76s\n",
      "23:\tlearn: 1897.8299843\ttotal: 2.45s\tremaining: 2.66s\n",
      "24:\tlearn: 1894.1755775\ttotal: 2.55s\tremaining: 2.55s\n",
      "25:\tlearn: 1890.5726498\ttotal: 2.65s\tremaining: 2.45s\n",
      "26:\tlearn: 1883.1645937\ttotal: 2.75s\tremaining: 2.35s\n",
      "27:\tlearn: 1877.6131619\ttotal: 2.85s\tremaining: 2.24s\n",
      "28:\tlearn: 1874.1248450\ttotal: 2.95s\tremaining: 2.14s\n",
      "29:\tlearn: 1869.7774346\ttotal: 3.05s\tremaining: 2.04s\n",
      "30:\tlearn: 1863.5803035\ttotal: 3.16s\tremaining: 1.93s\n",
      "31:\tlearn: 1854.7354712\ttotal: 3.25s\tremaining: 1.83s\n",
      "32:\tlearn: 1848.6111336\ttotal: 3.35s\tremaining: 1.73s\n",
      "33:\tlearn: 1841.6727259\ttotal: 3.45s\tremaining: 1.63s\n",
      "34:\tlearn: 1837.9981581\ttotal: 3.55s\tremaining: 1.52s\n",
      "35:\tlearn: 1834.8743316\ttotal: 3.65s\tremaining: 1.42s\n",
      "36:\tlearn: 1830.0796836\ttotal: 3.75s\tremaining: 1.32s\n",
      "37:\tlearn: 1826.7282167\ttotal: 3.85s\tremaining: 1.22s\n",
      "38:\tlearn: 1822.5974993\ttotal: 4.04s\tremaining: 1.14s\n",
      "39:\tlearn: 1820.3815325\ttotal: 4.14s\tremaining: 1.03s\n",
      "40:\tlearn: 1819.1249993\ttotal: 4.24s\tremaining: 931ms\n",
      "41:\tlearn: 1813.1858861\ttotal: 4.34s\tremaining: 827ms\n",
      "42:\tlearn: 1808.8971004\ttotal: 4.44s\tremaining: 723ms\n",
      "43:\tlearn: 1804.5774179\ttotal: 4.54s\tremaining: 619ms\n",
      "44:\tlearn: 1799.9276648\ttotal: 4.64s\tremaining: 516ms\n",
      "45:\tlearn: 1796.9936202\ttotal: 4.74s\tremaining: 412ms\n",
      "46:\tlearn: 1792.2050472\ttotal: 4.84s\tremaining: 309ms\n",
      "47:\tlearn: 1789.0420518\ttotal: 4.94s\tremaining: 206ms\n",
      "48:\tlearn: 1786.4325212\ttotal: 5.04s\tremaining: 103ms\n",
      "49:\tlearn: 1783.9500998\ttotal: 5.14s\tremaining: 0us\n",
      "0:\tlearn: 2806.8060119\ttotal: 79ms\tremaining: 1.5s\n",
      "1:\tlearn: 2489.3910285\ttotal: 183ms\tremaining: 1.65s\n",
      "2:\tlearn: 2352.7207747\ttotal: 374ms\tremaining: 2.12s\n",
      "3:\tlearn: 2258.6759467\ttotal: 477ms\tremaining: 1.91s\n",
      "4:\tlearn: 2187.5204962\ttotal: 581ms\tremaining: 1.74s\n",
      "5:\tlearn: 2150.6967567\ttotal: 771ms\tremaining: 1.8s\n",
      "6:\tlearn: 2082.3096337\ttotal: 875ms\tremaining: 1.63s\n",
      "7:\tlearn: 2060.1631807\ttotal: 979ms\tremaining: 1.47s\n",
      "8:\tlearn: 2044.5980869\ttotal: 1.17s\tremaining: 1.43s\n",
      "9:\tlearn: 2024.6311340\ttotal: 1.27s\tremaining: 1.27s\n",
      "10:\tlearn: 2011.5013782\ttotal: 1.38s\tremaining: 1.13s\n",
      "11:\tlearn: 1993.4948928\ttotal: 1.57s\tremaining: 1.04s\n",
      "12:\tlearn: 1979.7438915\ttotal: 1.67s\tremaining: 900ms\n",
      "13:\tlearn: 1962.5923765\ttotal: 1.77s\tremaining: 760ms\n",
      "14:\tlearn: 1950.4119706\ttotal: 1.97s\tremaining: 655ms\n",
      "15:\tlearn: 1942.0040195\ttotal: 2.07s\tremaining: 517ms\n",
      "16:\tlearn: 1931.0567852\ttotal: 2.17s\tremaining: 384ms\n",
      "17:\tlearn: 1915.3221229\ttotal: 2.36s\tremaining: 263ms\n",
      "18:\tlearn: 1908.1148770\ttotal: 2.47s\tremaining: 130ms\n",
      "19:\tlearn: 1904.3685693\ttotal: 2.57s\tremaining: 0us\n"
     ]
    }
   ],
   "source": [
    "cat_features = ['VehicleType',  'Gearbox', 'Brand',\n",
    "               'Model', 'FuelType', 'NotRepaired', 'CreateYear', 'CreateMonth', \n",
    "               'CreateDay', 'PostalCode']\n",
    "cat = CatBoostRegressor(learning_rate=0.9, loss_function='RMSE',\n",
    "                        random_seed=42)\n",
    "best_cb_model, best_cb_rmse, best_cb_time = build_model(cat, train_X, train_y, \n",
    "                                                        valid_X, valid_y,\n",
    "                                                        hyperparameters={'iterations': [20, 30, 40, 50]}, \n",
    "                scoring=make_scorer(rmse), cv=5, model_str='catboost',\n",
    "           cat_features=cat_features)"
   ]
  },
  {
   "cell_type": "code",
   "execution_count": 86,
   "metadata": {},
   "outputs": [],
   "source": [
    "model_results_df = pd.DataFrame({'model': ['LinearRegression', 'RandomForestRegressor', 'CatBoostRegressor'],\n",
    "              'best_rmse': [best_lr_rmse, best_rf_rmse, best_cb_rmse],\n",
    "              'train_time': [best_lr_time, best_rf_time, best_cb_time]})"
   ]
  },
  {
   "cell_type": "code",
   "execution_count": 87,
   "metadata": {},
   "outputs": [
    {
     "data": {
      "text/html": [
       "<div>\n",
       "<style scoped>\n",
       "    .dataframe tbody tr th:only-of-type {\n",
       "        vertical-align: middle;\n",
       "    }\n",
       "\n",
       "    .dataframe tbody tr th {\n",
       "        vertical-align: top;\n",
       "    }\n",
       "\n",
       "    .dataframe thead th {\n",
       "        text-align: right;\n",
       "    }\n",
       "</style>\n",
       "<table border=\"1\" class=\"dataframe\">\n",
       "  <thead>\n",
       "    <tr style=\"text-align: right;\">\n",
       "      <th></th>\n",
       "      <th>model</th>\n",
       "      <th>best_rmse</th>\n",
       "      <th>train_time</th>\n",
       "    </tr>\n",
       "  </thead>\n",
       "  <tbody>\n",
       "    <tr>\n",
       "      <td>0</td>\n",
       "      <td>LinearRegression</td>\n",
       "      <td>3330.018337</td>\n",
       "      <td>2.49</td>\n",
       "    </tr>\n",
       "    <tr>\n",
       "      <td>1</td>\n",
       "      <td>RandomForestRegressor</td>\n",
       "      <td>1719.752643</td>\n",
       "      <td>908.31</td>\n",
       "    </tr>\n",
       "    <tr>\n",
       "      <td>2</td>\n",
       "      <td>CatBoostRegressor</td>\n",
       "      <td>1866.884890</td>\n",
       "      <td>120.11</td>\n",
       "    </tr>\n",
       "  </tbody>\n",
       "</table>\n",
       "</div>"
      ],
      "text/plain": [
       "                   model    best_rmse  train_time\n",
       "0       LinearRegression  3330.018337        2.49\n",
       "1  RandomForestRegressor  1719.752643      908.31\n",
       "2      CatBoostRegressor  1866.884890      120.11"
      ]
     },
     "execution_count": 87,
     "metadata": {},
     "output_type": "execute_result"
    }
   ],
   "source": [
    "model_results_df"
   ]
  },
  {
   "cell_type": "code",
   "execution_count": 88,
   "metadata": {},
   "outputs": [
    {
     "data": {
      "text/html": [
       "<div>\n",
       "<style scoped>\n",
       "    .dataframe tbody tr th:only-of-type {\n",
       "        vertical-align: middle;\n",
       "    }\n",
       "\n",
       "    .dataframe tbody tr th {\n",
       "        vertical-align: top;\n",
       "    }\n",
       "\n",
       "    .dataframe thead th {\n",
       "        text-align: right;\n",
       "    }\n",
       "</style>\n",
       "<table border=\"1\" class=\"dataframe\">\n",
       "  <thead>\n",
       "    <tr style=\"text-align: right;\">\n",
       "      <th></th>\n",
       "      <th>0</th>\n",
       "    </tr>\n",
       "  </thead>\n",
       "  <tbody>\n",
       "    <tr>\n",
       "      <td>RegistrationYear</td>\n",
       "      <td>0.475339</td>\n",
       "    </tr>\n",
       "    <tr>\n",
       "      <td>Power</td>\n",
       "      <td>0.242412</td>\n",
       "    </tr>\n",
       "    <tr>\n",
       "      <td>Mileage</td>\n",
       "      <td>0.052202</td>\n",
       "    </tr>\n",
       "    <tr>\n",
       "      <td>Brand</td>\n",
       "      <td>0.041271</td>\n",
       "    </tr>\n",
       "    <tr>\n",
       "      <td>VehicleType</td>\n",
       "      <td>0.038058</td>\n",
       "    </tr>\n",
       "    <tr>\n",
       "      <td>Model</td>\n",
       "      <td>0.033417</td>\n",
       "    </tr>\n",
       "    <tr>\n",
       "      <td>PostalCode</td>\n",
       "      <td>0.030057</td>\n",
       "    </tr>\n",
       "    <tr>\n",
       "      <td>DaysOnSite</td>\n",
       "      <td>0.024813</td>\n",
       "    </tr>\n",
       "    <tr>\n",
       "      <td>CreateDay</td>\n",
       "      <td>0.018556</td>\n",
       "    </tr>\n",
       "    <tr>\n",
       "      <td>RegistrationMonth</td>\n",
       "      <td>0.017118</td>\n",
       "    </tr>\n",
       "    <tr>\n",
       "      <td>FuelType</td>\n",
       "      <td>0.009942</td>\n",
       "    </tr>\n",
       "    <tr>\n",
       "      <td>NotRepaired</td>\n",
       "      <td>0.009175</td>\n",
       "    </tr>\n",
       "    <tr>\n",
       "      <td>Gearbox</td>\n",
       "      <td>0.006279</td>\n",
       "    </tr>\n",
       "    <tr>\n",
       "      <td>CreateMonth</td>\n",
       "      <td>0.001356</td>\n",
       "    </tr>\n",
       "    <tr>\n",
       "      <td>CreateYear</td>\n",
       "      <td>0.000004</td>\n",
       "    </tr>\n",
       "  </tbody>\n",
       "</table>\n",
       "</div>"
      ],
      "text/plain": [
       "                          0\n",
       "RegistrationYear   0.475339\n",
       "Power              0.242412\n",
       "Mileage            0.052202\n",
       "Brand              0.041271\n",
       "VehicleType        0.038058\n",
       "Model              0.033417\n",
       "PostalCode         0.030057\n",
       "DaysOnSite         0.024813\n",
       "CreateDay          0.018556\n",
       "RegistrationMonth  0.017118\n",
       "FuelType           0.009942\n",
       "NotRepaired        0.009175\n",
       "Gearbox            0.006279\n",
       "CreateMonth        0.001356\n",
       "CreateYear         0.000004"
      ]
     },
     "execution_count": 88,
     "metadata": {},
     "output_type": "execute_result"
    }
   ],
   "source": [
    "# best features from rf model\n",
    "pd.DataFrame(best_rf_model.feature_importances_, index=new_df.columns[1:].tolist()).sort_values(0, ascending=False)"
   ]
  },
  {
   "cell_type": "code",
   "execution_count": 89,
   "metadata": {},
   "outputs": [
    {
     "data": {
      "text/html": [
       "<div>\n",
       "<style scoped>\n",
       "    .dataframe tbody tr th:only-of-type {\n",
       "        vertical-align: middle;\n",
       "    }\n",
       "\n",
       "    .dataframe tbody tr th {\n",
       "        vertical-align: top;\n",
       "    }\n",
       "\n",
       "    .dataframe thead th {\n",
       "        text-align: right;\n",
       "    }\n",
       "</style>\n",
       "<table border=\"1\" class=\"dataframe\">\n",
       "  <thead>\n",
       "    <tr style=\"text-align: right;\">\n",
       "      <th></th>\n",
       "      <th>0</th>\n",
       "    </tr>\n",
       "  </thead>\n",
       "  <tbody>\n",
       "    <tr>\n",
       "      <td>RegistrationYear</td>\n",
       "      <td>57.132246</td>\n",
       "    </tr>\n",
       "    <tr>\n",
       "      <td>Power</td>\n",
       "      <td>20.694398</td>\n",
       "    </tr>\n",
       "    <tr>\n",
       "      <td>Brand</td>\n",
       "      <td>6.266010</td>\n",
       "    </tr>\n",
       "    <tr>\n",
       "      <td>Mileage</td>\n",
       "      <td>5.090268</td>\n",
       "    </tr>\n",
       "    <tr>\n",
       "      <td>VehicleType</td>\n",
       "      <td>3.743473</td>\n",
       "    </tr>\n",
       "    <tr>\n",
       "      <td>Model</td>\n",
       "      <td>2.504006</td>\n",
       "    </tr>\n",
       "    <tr>\n",
       "      <td>FuelType</td>\n",
       "      <td>1.386558</td>\n",
       "    </tr>\n",
       "    <tr>\n",
       "      <td>NotRepaired</td>\n",
       "      <td>1.124809</td>\n",
       "    </tr>\n",
       "    <tr>\n",
       "      <td>DaysOnSite</td>\n",
       "      <td>1.081440</td>\n",
       "    </tr>\n",
       "    <tr>\n",
       "      <td>Gearbox</td>\n",
       "      <td>0.417048</td>\n",
       "    </tr>\n",
       "    <tr>\n",
       "      <td>RegistrationMonth</td>\n",
       "      <td>0.233337</td>\n",
       "    </tr>\n",
       "    <tr>\n",
       "      <td>PostalCode</td>\n",
       "      <td>0.187497</td>\n",
       "    </tr>\n",
       "    <tr>\n",
       "      <td>CreateMonth</td>\n",
       "      <td>0.138909</td>\n",
       "    </tr>\n",
       "    <tr>\n",
       "      <td>CreateYear</td>\n",
       "      <td>0.000000</td>\n",
       "    </tr>\n",
       "    <tr>\n",
       "      <td>CreateDay</td>\n",
       "      <td>0.000000</td>\n",
       "    </tr>\n",
       "  </tbody>\n",
       "</table>\n",
       "</div>"
      ],
      "text/plain": [
       "                           0\n",
       "RegistrationYear   57.132246\n",
       "Power              20.694398\n",
       "Brand               6.266010\n",
       "Mileage             5.090268\n",
       "VehicleType         3.743473\n",
       "Model               2.504006\n",
       "FuelType            1.386558\n",
       "NotRepaired         1.124809\n",
       "DaysOnSite          1.081440\n",
       "Gearbox             0.417048\n",
       "RegistrationMonth   0.233337\n",
       "PostalCode          0.187497\n",
       "CreateMonth         0.138909\n",
       "CreateYear          0.000000\n",
       "CreateDay           0.000000"
      ]
     },
     "execution_count": 89,
     "metadata": {},
     "output_type": "execute_result"
    }
   ],
   "source": [
    "# best features from cb model\n",
    "pd.DataFrame(best_cb_model.feature_importances_, index=new_df.columns[1:].tolist()).sort_values(0, ascending=False)"
   ]
  },
  {
   "cell_type": "markdown",
   "metadata": {},
   "source": [
    "1) The RandomForestRegressor and CatBoostRegressor were trained using GridSearch with a CrossValidation of 5 folds. For the sake of time, only 1 hyperparameter was tuned - n_estimators/iterations\n",
    "2) The RandomForestRegressor has the worst performance with respect to training time; it has taken 924 seconds. Whereas,\n",
    "LinearRegression took the least amount of time - 1.89 seconds. However, on the validation set, RandomForestRegressor has\n",
    "the best RMSE of EUR 1719\n",
    "\n",
    "3) The top 3 important features from RandomForest are: `RegistrationYear`, `Power`, and `Mileage`. For CatBoost, they are: `RegistrationYear`, `Power`, and `Brand`. So, we can see a difference in how the algorithms have chosen their best features."
   ]
  },
  {
   "cell_type": "markdown",
   "metadata": {},
   "source": [
    "<div class=\"alert alert-success\" role=\"alert\">\n",
    "Reviewer's comment v. 1:\n",
    "    \n",
    "Well done that you clearly analused models. However, I recommend to add hyperparameters to the table.\n",
    "</div>"
   ]
  },
  {
   "cell_type": "markdown",
   "metadata": {},
   "source": [
    "<div class=\"alert alert-success\" role=\"alert\">\n",
    "Reviewer's comment v. 1:\n",
    "    \n",
    "Maybe this link will be interesting for you: https://machinelearningmastery.com/k-fold-cross-validation/\n",
    "</div>"
   ]
  },
  {
   "cell_type": "markdown",
   "metadata": {},
   "source": [
    "### Model analysis"
   ]
  },
  {
   "cell_type": "code",
   "execution_count": 90,
   "metadata": {},
   "outputs": [],
   "source": [
    "def test_prediction(model, test_X, test_y):\n",
    "    \"\"\"\n",
    "    Predict RMSE on the test set\n",
    "    \"\"\"\n",
    "    start_time = time.time()\n",
    "    preds = model.predict(test_X)\n",
    "    return np.round(time.time(), 2) - start_time, rmse(test_y, preds)"
   ]
  },
  {
   "cell_type": "code",
   "execution_count": 91,
   "metadata": {},
   "outputs": [
    {
     "name": "stdout",
     "output_type": "stream",
     "text": [
      "The RMSE on the test set is 3341.882260570871, and time to predict 0.014152288436889648 seconds\n",
      "The RMSE on the test set is 1741.913329057895, and time to predict 0.28804636001586914 seconds\n",
      "The RMSE on the test set is 1924.2776518902235, and time to predict 0.11793017387390137 seconds\n"
     ]
    }
   ],
   "source": [
    "models = [best_lr_model, best_rf_model, best_cb_model]\n",
    "for model in models:\n",
    "    pred_time, best_rmse = test_prediction(model, test_X, test_y)\n",
    "    print(f'The RMSE on the test set is {best_rmse}, and time to predict {pred_time} seconds')"
   ]
  },
  {
   "cell_type": "markdown",
   "metadata": {},
   "source": [
    "1) The results of testing the best models on the test set reveal that RandomForestRegressor has the best RMSE; However, the predictions took 280 milliseconds. \n",
    "\n",
    "2) However, all the 3 models have slightly overfit."
   ]
  },
  {
   "cell_type": "markdown",
   "metadata": {},
   "source": [
    "<div class=\"alert alert-success\" role=\"alert\">\n",
    "Reviewer's comment v. 1:\n",
    "    \n",
    "Yes, you correctly noted that possible problem with overfitting.\n",
    "    \n",
    "Please see for details: https://elitedatascience.com/overfitting-in-machine-learning, https://www.analyticsvidhya.com/blog/2015/02/avoid-over-fitting-regularization/ \n",
    "</div>"
   ]
  },
  {
   "cell_type": "markdown",
   "metadata": {},
   "source": [
    "**Summary**\n",
    "\n",
    "1) RustyBargain will have to make a compromise between a 7x increase in training time versus a +/- 1.1x increase in RMSE \n",
    "should it decide between the top 2 models - RandomForestRegression and CatBoostRegression.\n",
    "\n",
    "2) However, CatBoostRegressor offers several hyperparameters to play with, and increasing the number of iterations, \n",
    "and adding regularization may help in achieving a better RMSE. Therefore, in my view, it should pick CatBoostRegression\n",
    "simply because it is really fast, and it offers several options to improve the evaluation metric."
   ]
  },
  {
   "cell_type": "markdown",
   "metadata": {},
   "source": [
    "<div class=\"alert alert-warning\" role=\"alert\">\n",
    "Reviewer's comment v. 1:\n",
    "    \n",
    "Good job that you clearly described models, but I recommend to shortly describe dat which was used for the model building.\n",
    "</div>"
   ]
  },
  {
   "cell_type": "markdown",
   "metadata": {},
   "source": [
    "# Checklist"
   ]
  },
  {
   "cell_type": "markdown",
   "metadata": {},
   "source": [
    "Type 'x' to check. Then press Shift+Enter."
   ]
  },
  {
   "cell_type": "markdown",
   "metadata": {},
   "source": [
    "- [x]  Jupyter Notebook is open\n",
    "- [ ]  Code is error free\n",
    "- [ ]  The cells with the code have been arranged in order of execution\n",
    "- [ ]  The data has been downloaded and prepared\n",
    "- [ ]  The models have been trained\n",
    "- [ ]  The analysis of speed and quality of the models has been performed"
   ]
  },
  {
   "cell_type": "code",
   "execution_count": null,
   "metadata": {},
   "outputs": [],
   "source": []
  }
 ],
 "metadata": {
  "ExecuteTimeLog": [
   {
    "duration": 99,
    "start_time": "2021-07-13T05:40:02.578Z"
   },
   {
    "duration": 4,
    "start_time": "2021-07-13T05:40:08.329Z"
   },
   {
    "duration": 58,
    "start_time": "2021-07-13T05:54:36.691Z"
   },
   {
    "duration": 20,
    "start_time": "2021-07-13T05:54:42.495Z"
   },
   {
    "duration": 569,
    "start_time": "2021-07-13T05:54:56.288Z"
   },
   {
    "duration": 4,
    "start_time": "2021-07-13T05:55:03.087Z"
   },
   {
    "duration": 174,
    "start_time": "2021-07-13T05:55:14.311Z"
   },
   {
    "duration": 110,
    "start_time": "2021-07-13T05:56:30.353Z"
   },
   {
    "duration": 107,
    "start_time": "2021-07-13T05:56:45.440Z"
   },
   {
    "duration": 284,
    "start_time": "2021-07-13T06:05:19.709Z"
   },
   {
    "duration": 274,
    "start_time": "2021-07-13T06:05:46.362Z"
   },
   {
    "duration": 301,
    "start_time": "2021-07-13T06:06:05.633Z"
   },
   {
    "duration": 106,
    "start_time": "2021-07-13T06:07:40.913Z"
   },
   {
    "duration": 102,
    "start_time": "2021-07-13T06:10:28.783Z"
   },
   {
    "duration": 1348,
    "start_time": "2021-07-13T06:28:02.968Z"
   },
   {
    "duration": 789,
    "start_time": "2021-07-13T06:28:32.775Z"
   },
   {
    "duration": 1695,
    "start_time": "2021-07-13T06:32:06.783Z"
   },
   {
    "duration": 6,
    "start_time": "2021-07-13T06:32:43.764Z"
   },
   {
    "duration": 6,
    "start_time": "2021-07-13T06:33:59.755Z"
   },
   {
    "duration": 6,
    "start_time": "2021-07-13T06:34:31.372Z"
   },
   {
    "duration": 11,
    "start_time": "2021-07-13T07:13:18.746Z"
   },
   {
    "duration": 194,
    "start_time": "2021-07-13T07:13:46.737Z"
   },
   {
    "duration": 20,
    "start_time": "2021-07-13T07:14:31.373Z"
   },
   {
    "duration": 19,
    "start_time": "2021-07-13T07:14:42.872Z"
   },
   {
    "duration": 6,
    "start_time": "2021-07-13T07:15:01.552Z"
   },
   {
    "duration": 70,
    "start_time": "2021-07-13T07:18:07.672Z"
   },
   {
    "duration": 47,
    "start_time": "2021-07-13T07:21:25.010Z"
   },
   {
    "duration": 9,
    "start_time": "2021-07-13T07:24:52.207Z"
   },
   {
    "duration": 191,
    "start_time": "2021-07-13T07:24:56.392Z"
   },
   {
    "duration": 185,
    "start_time": "2021-07-13T07:25:21.126Z"
   },
   {
    "duration": 5,
    "start_time": "2021-07-13T07:25:41.205Z"
   },
   {
    "duration": 37,
    "start_time": "2021-07-13T07:26:23.812Z"
   },
   {
    "duration": 34,
    "start_time": "2021-07-13T07:27:16.181Z"
   },
   {
    "duration": 109,
    "start_time": "2021-07-13T07:27:24.619Z"
   },
   {
    "duration": 4,
    "start_time": "2021-07-13T07:28:30.530Z"
   },
   {
    "duration": 4,
    "start_time": "2021-07-13T07:28:56.639Z"
   },
   {
    "duration": 16,
    "start_time": "2021-07-13T07:37:13.752Z"
   },
   {
    "duration": 4,
    "start_time": "2021-07-13T07:38:38.513Z"
   },
   {
    "duration": 4702,
    "start_time": "2021-07-13T07:39:14.288Z"
   },
   {
    "duration": 287,
    "start_time": "2021-07-13T07:39:28.209Z"
   },
   {
    "duration": 33,
    "start_time": "2021-07-13T07:40:07.757Z"
   },
   {
    "duration": 3,
    "start_time": "2021-07-13T07:40:50.051Z"
   },
   {
    "duration": 262,
    "start_time": "2021-07-13T07:40:50.757Z"
   },
   {
    "duration": 31,
    "start_time": "2021-07-13T07:41:21.273Z"
   },
   {
    "duration": 31,
    "start_time": "2021-07-13T07:41:24.877Z"
   },
   {
    "duration": 4,
    "start_time": "2021-07-13T07:41:46.653Z"
   },
   {
    "duration": 60,
    "start_time": "2021-07-13T07:41:47.068Z"
   },
   {
    "duration": 262,
    "start_time": "2021-07-13T07:41:57.235Z"
   },
   {
    "duration": 4,
    "start_time": "2021-07-13T07:43:55.510Z"
   },
   {
    "duration": 6415,
    "start_time": "2021-07-13T07:44:49.403Z"
   },
   {
    "duration": 146,
    "start_time": "2021-07-13T07:45:24.932Z"
   },
   {
    "duration": 3,
    "start_time": "2021-07-13T07:45:34.468Z"
   },
   {
    "duration": 153,
    "start_time": "2021-07-13T07:45:35.176Z"
   },
   {
    "duration": 18,
    "start_time": "2021-07-13T07:47:07.266Z"
   },
   {
    "duration": 1145,
    "start_time": "2021-07-13T07:47:52.441Z"
   },
   {
    "duration": 601,
    "start_time": "2021-07-13T07:47:53.587Z"
   },
   {
    "duration": 5,
    "start_time": "2021-07-13T07:47:54.190Z"
   },
   {
    "duration": 20,
    "start_time": "2021-07-13T07:47:54.196Z"
   },
   {
    "duration": 130,
    "start_time": "2021-07-13T07:47:54.218Z"
   },
   {
    "duration": 115,
    "start_time": "2021-07-13T07:47:54.350Z"
   },
   {
    "duration": 312,
    "start_time": "2021-07-13T07:47:54.467Z"
   },
   {
    "duration": 305,
    "start_time": "2021-07-13T07:47:54.780Z"
   },
   {
    "duration": 308,
    "start_time": "2021-07-13T07:47:55.087Z"
   },
   {
    "duration": 100,
    "start_time": "2021-07-13T07:47:55.397Z"
   },
   {
    "duration": 1776,
    "start_time": "2021-07-13T07:47:55.498Z"
   },
   {
    "duration": 6,
    "start_time": "2021-07-13T07:47:57.275Z"
   },
   {
    "duration": 5,
    "start_time": "2021-07-13T07:47:57.285Z"
   },
   {
    "duration": 5,
    "start_time": "2021-07-13T07:47:57.292Z"
   },
   {
    "duration": 18,
    "start_time": "2021-07-13T07:47:57.298Z"
   },
   {
    "duration": 3,
    "start_time": "2021-07-13T07:47:57.318Z"
   },
   {
    "duration": 3,
    "start_time": "2021-07-13T07:48:07.519Z"
   },
   {
    "duration": 16,
    "start_time": "2021-07-13T07:48:15.477Z"
   },
   {
    "duration": 150,
    "start_time": "2021-07-13T07:48:43.132Z"
   },
   {
    "duration": 4,
    "start_time": "2021-07-13T07:48:57.045Z"
   },
   {
    "duration": 442,
    "start_time": "2021-07-13T07:49:00.024Z"
   },
   {
    "duration": 4,
    "start_time": "2021-07-13T07:51:12.259Z"
   },
   {
    "duration": 296,
    "start_time": "2021-07-13T07:51:12.954Z"
   },
   {
    "duration": 4,
    "start_time": "2021-07-13T07:51:33.143Z"
   },
   {
    "duration": 415,
    "start_time": "2021-07-13T07:51:33.443Z"
   },
   {
    "duration": 3,
    "start_time": "2021-07-13T07:51:45.700Z"
   },
   {
    "duration": 209,
    "start_time": "2021-07-13T07:51:46.595Z"
   },
   {
    "duration": 3,
    "start_time": "2021-07-13T07:52:00.507Z"
   },
   {
    "duration": 226,
    "start_time": "2021-07-13T07:52:00.802Z"
   },
   {
    "duration": 3,
    "start_time": "2021-07-13T07:52:59.775Z"
   },
   {
    "duration": 773,
    "start_time": "2021-07-13T07:53:00.155Z"
   },
   {
    "duration": 3,
    "start_time": "2021-07-13T07:53:09.210Z"
   },
   {
    "duration": 209,
    "start_time": "2021-07-13T07:53:09.364Z"
   },
   {
    "duration": 239,
    "start_time": "2021-07-13T07:53:41.413Z"
   },
   {
    "duration": 3,
    "start_time": "2021-07-13T07:54:01.242Z"
   },
   {
    "duration": 182,
    "start_time": "2021-07-13T07:54:01.494Z"
   },
   {
    "duration": 3,
    "start_time": "2021-07-13T07:54:55.934Z"
   },
   {
    "duration": 250,
    "start_time": "2021-07-13T07:55:09.451Z"
   },
   {
    "duration": 69,
    "start_time": "2021-07-13T07:55:21.196Z"
   },
   {
    "duration": 4,
    "start_time": "2021-07-13T07:55:25.421Z"
   },
   {
    "duration": 74,
    "start_time": "2021-07-13T07:55:25.731Z"
   },
   {
    "duration": 16,
    "start_time": "2021-07-13T07:55:31.451Z"
   },
   {
    "duration": 1144,
    "start_time": "2021-07-13T07:56:32.157Z"
   },
   {
    "duration": 592,
    "start_time": "2021-07-13T07:56:33.303Z"
   },
   {
    "duration": 4,
    "start_time": "2021-07-13T07:56:33.897Z"
   },
   {
    "duration": 19,
    "start_time": "2021-07-13T07:56:33.903Z"
   },
   {
    "duration": 129,
    "start_time": "2021-07-13T07:56:33.923Z"
   },
   {
    "duration": 118,
    "start_time": "2021-07-13T07:56:34.054Z"
   },
   {
    "duration": 304,
    "start_time": "2021-07-13T07:56:34.174Z"
   },
   {
    "duration": 298,
    "start_time": "2021-07-13T07:56:34.479Z"
   },
   {
    "duration": 307,
    "start_time": "2021-07-13T07:56:34.779Z"
   },
   {
    "duration": 99,
    "start_time": "2021-07-13T07:56:35.088Z"
   },
   {
    "duration": 1704,
    "start_time": "2021-07-13T07:56:35.188Z"
   },
   {
    "duration": 6,
    "start_time": "2021-07-13T07:56:36.893Z"
   },
   {
    "duration": 7,
    "start_time": "2021-07-13T07:56:36.900Z"
   },
   {
    "duration": 7,
    "start_time": "2021-07-13T07:56:36.908Z"
   },
   {
    "duration": 21,
    "start_time": "2021-07-13T07:56:36.917Z"
   },
   {
    "duration": 4,
    "start_time": "2021-07-13T07:56:36.940Z"
   },
   {
    "duration": 6,
    "start_time": "2021-07-13T07:56:36.945Z"
   },
   {
    "duration": 173,
    "start_time": "2021-07-13T07:56:36.952Z"
   },
   {
    "duration": 3,
    "start_time": "2021-07-13T07:56:37.127Z"
   },
   {
    "duration": 72,
    "start_time": "2021-07-13T07:56:49.029Z"
   },
   {
    "duration": 467,
    "start_time": "2021-07-13T07:58:04.289Z"
   },
   {
    "duration": 143,
    "start_time": "2021-07-13T07:58:37.608Z"
   },
   {
    "duration": 115,
    "start_time": "2021-07-13T07:59:28.755Z"
   },
   {
    "duration": 1168,
    "start_time": "2021-07-13T08:01:30.960Z"
   },
   {
    "duration": 597,
    "start_time": "2021-07-13T08:01:32.130Z"
   },
   {
    "duration": 4,
    "start_time": "2021-07-13T08:01:32.729Z"
   },
   {
    "duration": 19,
    "start_time": "2021-07-13T08:01:32.735Z"
   },
   {
    "duration": 136,
    "start_time": "2021-07-13T08:01:32.755Z"
   },
   {
    "duration": 125,
    "start_time": "2021-07-13T08:01:32.894Z"
   },
   {
    "duration": 316,
    "start_time": "2021-07-13T08:01:33.021Z"
   },
   {
    "duration": 289,
    "start_time": "2021-07-13T08:01:33.339Z"
   },
   {
    "duration": 306,
    "start_time": "2021-07-13T08:01:33.631Z"
   },
   {
    "duration": 105,
    "start_time": "2021-07-13T08:01:33.938Z"
   },
   {
    "duration": 1699,
    "start_time": "2021-07-13T08:01:34.044Z"
   },
   {
    "duration": 5,
    "start_time": "2021-07-13T08:01:35.745Z"
   },
   {
    "duration": 6,
    "start_time": "2021-07-13T08:01:35.752Z"
   },
   {
    "duration": 5,
    "start_time": "2021-07-13T08:01:35.759Z"
   },
   {
    "duration": 278,
    "start_time": "2021-07-13T08:01:35.785Z"
   },
   {
    "duration": 4,
    "start_time": "2021-07-13T08:01:43.961Z"
   },
   {
    "duration": 24,
    "start_time": "2021-07-13T08:02:08.305Z"
   },
   {
    "duration": 5,
    "start_time": "2021-07-13T08:02:08.688Z"
   },
   {
    "duration": 4,
    "start_time": "2021-07-13T08:02:53.272Z"
   },
   {
    "duration": 150,
    "start_time": "2021-07-13T08:02:53.588Z"
   },
   {
    "duration": 4,
    "start_time": "2021-07-13T08:02:53.994Z"
   },
   {
    "duration": 440,
    "start_time": "2021-07-13T08:02:54.343Z"
   },
   {
    "duration": 154,
    "start_time": "2021-07-13T08:02:54.864Z"
   },
   {
    "duration": 37,
    "start_time": "2021-07-13T08:02:58.288Z"
   },
   {
    "duration": 4,
    "start_time": "2021-07-13T08:07:57.148Z"
   },
   {
    "duration": 268,
    "start_time": "2021-07-13T08:08:08.889Z"
   },
   {
    "duration": 17,
    "start_time": "2021-07-13T08:08:16.246Z"
   },
   {
    "duration": 15,
    "start_time": "2021-07-13T08:10:48.629Z"
   },
   {
    "duration": 16,
    "start_time": "2021-07-13T08:11:09.334Z"
   },
   {
    "duration": 31,
    "start_time": "2021-07-13T08:16:11.291Z"
   },
   {
    "duration": 197,
    "start_time": "2021-07-13T08:21:04.273Z"
   },
   {
    "duration": 706,
    "start_time": "2021-07-13T08:21:15.288Z"
   },
   {
    "duration": 195,
    "start_time": "2021-07-13T08:27:58.349Z"
   },
   {
    "duration": 726,
    "start_time": "2021-07-13T08:28:21.173Z"
   },
   {
    "duration": 1122,
    "start_time": "2021-07-13T08:30:23.579Z"
   },
   {
    "duration": 1115,
    "start_time": "2021-07-13T08:30:37.026Z"
   },
   {
    "duration": 897,
    "start_time": "2021-07-13T08:32:16.658Z"
   },
   {
    "duration": 1013,
    "start_time": "2021-07-13T08:58:40.796Z"
   },
   {
    "duration": 38,
    "start_time": "2021-07-13T09:05:28.141Z"
   },
   {
    "duration": 11,
    "start_time": "2021-07-13T09:05:41.447Z"
   },
   {
    "duration": 196,
    "start_time": "2021-07-13T09:05:55.513Z"
   },
   {
    "duration": 11,
    "start_time": "2021-07-13T09:06:02.594Z"
   },
   {
    "duration": 205,
    "start_time": "2021-07-13T09:07:17.689Z"
   },
   {
    "duration": 23,
    "start_time": "2021-07-13T09:07:27.669Z"
   },
   {
    "duration": 8,
    "start_time": "2021-07-13T09:07:37.847Z"
   },
   {
    "duration": 21,
    "start_time": "2021-07-13T09:07:50.386Z"
   },
   {
    "duration": 21,
    "start_time": "2021-07-13T09:09:00.257Z"
   },
   {
    "duration": 225,
    "start_time": "2021-07-13T09:09:14.716Z"
   },
   {
    "duration": 34,
    "start_time": "2021-07-13T09:10:15.106Z"
   },
   {
    "duration": 23,
    "start_time": "2021-07-13T09:10:20.675Z"
   },
   {
    "duration": 8,
    "start_time": "2021-07-13T09:10:52.364Z"
   },
   {
    "duration": 8,
    "start_time": "2021-07-13T09:11:28.083Z"
   },
   {
    "duration": 11,
    "start_time": "2021-07-13T09:13:52.701Z"
   },
   {
    "duration": 11,
    "start_time": "2021-07-13T09:14:01.846Z"
   },
   {
    "duration": 59,
    "start_time": "2021-07-13T09:14:33.249Z"
   },
   {
    "duration": 78,
    "start_time": "2021-07-13T09:14:58.716Z"
   },
   {
    "duration": 10,
    "start_time": "2021-07-13T09:15:02.029Z"
   },
   {
    "duration": 4540,
    "start_time": "2021-07-13T09:16:02.077Z"
   },
   {
    "duration": 21,
    "start_time": "2021-07-13T09:16:43.300Z"
   },
   {
    "duration": 10,
    "start_time": "2021-07-13T09:17:35.068Z"
   },
   {
    "duration": 19,
    "start_time": "2021-07-13T09:18:06.222Z"
   },
   {
    "duration": 12,
    "start_time": "2021-07-13T09:18:30.347Z"
   },
   {
    "duration": 16,
    "start_time": "2021-07-13T09:19:40.720Z"
   },
   {
    "duration": 15,
    "start_time": "2021-07-13T09:20:06.130Z"
   },
   {
    "duration": 19,
    "start_time": "2021-07-13T09:20:22.730Z"
   },
   {
    "duration": 211,
    "start_time": "2021-07-13T09:22:13.396Z"
   },
   {
    "duration": 39,
    "start_time": "2021-07-13T09:22:33.730Z"
   },
   {
    "duration": 4,
    "start_time": "2021-07-13T09:22:40.877Z"
   },
   {
    "duration": 4,
    "start_time": "2021-07-13T09:22:56.457Z"
   },
   {
    "duration": 310,
    "start_time": "2021-07-13T09:23:46.199Z"
   },
   {
    "duration": 1111,
    "start_time": "2021-07-13T09:24:07.242Z"
   },
   {
    "duration": 4,
    "start_time": "2021-07-13T09:47:11.066Z"
   },
   {
    "duration": 1238,
    "start_time": "2021-07-13T09:48:40.221Z"
   },
   {
    "duration": 1091,
    "start_time": "2021-07-13T09:49:17.011Z"
   },
   {
    "duration": 624,
    "start_time": "2021-07-13T09:49:18.104Z"
   },
   {
    "duration": 5,
    "start_time": "2021-07-13T09:49:18.730Z"
   },
   {
    "duration": 21,
    "start_time": "2021-07-13T09:49:18.737Z"
   },
   {
    "duration": 130,
    "start_time": "2021-07-13T09:49:18.759Z"
   },
   {
    "duration": 119,
    "start_time": "2021-07-13T09:49:18.891Z"
   },
   {
    "duration": 308,
    "start_time": "2021-07-13T09:49:19.012Z"
   },
   {
    "duration": 306,
    "start_time": "2021-07-13T09:49:19.321Z"
   },
   {
    "duration": 314,
    "start_time": "2021-07-13T09:49:19.630Z"
   },
   {
    "duration": 102,
    "start_time": "2021-07-13T09:49:19.946Z"
   },
   {
    "duration": 1682,
    "start_time": "2021-07-13T09:49:20.049Z"
   },
   {
    "duration": 5,
    "start_time": "2021-07-13T09:49:21.733Z"
   },
   {
    "duration": 6,
    "start_time": "2021-07-13T09:49:21.740Z"
   },
   {
    "duration": 5,
    "start_time": "2021-07-13T09:49:21.747Z"
   },
   {
    "duration": 280,
    "start_time": "2021-07-13T09:49:21.754Z"
   },
   {
    "duration": 3,
    "start_time": "2021-07-13T09:49:22.036Z"
   },
   {
    "duration": 23,
    "start_time": "2021-07-13T09:49:22.040Z"
   },
   {
    "duration": 4,
    "start_time": "2021-07-13T09:49:22.065Z"
   },
   {
    "duration": 3,
    "start_time": "2021-07-13T09:49:22.085Z"
   },
   {
    "duration": 162,
    "start_time": "2021-07-13T09:49:22.089Z"
   },
   {
    "duration": 3,
    "start_time": "2021-07-13T09:49:22.252Z"
   },
   {
    "duration": 458,
    "start_time": "2021-07-13T09:49:22.257Z"
   },
   {
    "duration": 168,
    "start_time": "2021-07-13T09:49:22.716Z"
   },
   {
    "duration": 1332,
    "start_time": "2021-07-13T09:49:22.886Z"
   },
   {
    "duration": 4,
    "start_time": "2021-07-13T09:49:24.221Z"
   },
   {
    "duration": 14,
    "start_time": "2021-07-13T09:49:24.227Z"
   },
   {
    "duration": 11,
    "start_time": "2021-07-13T09:49:24.245Z"
   },
   {
    "duration": 39,
    "start_time": "2021-07-13T09:49:24.284Z"
   },
   {
    "duration": 23,
    "start_time": "2021-07-13T09:49:24.325Z"
   },
   {
    "duration": 52,
    "start_time": "2021-07-13T09:49:24.350Z"
   },
   {
    "duration": 88,
    "start_time": "2021-07-13T09:49:24.405Z"
   },
   {
    "duration": 8,
    "start_time": "2021-07-13T09:49:24.495Z"
   },
   {
    "duration": 9,
    "start_time": "2021-07-13T09:49:24.505Z"
   },
   {
    "duration": 14,
    "start_time": "2021-07-13T09:49:24.515Z"
   },
   {
    "duration": 14,
    "start_time": "2021-07-13T09:49:24.530Z"
   },
   {
    "duration": 46,
    "start_time": "2021-07-13T09:49:24.546Z"
   },
   {
    "duration": 23,
    "start_time": "2021-07-13T09:49:24.594Z"
   },
   {
    "duration": 9,
    "start_time": "2021-07-13T09:49:24.619Z"
   },
   {
    "duration": 18,
    "start_time": "2021-07-13T09:49:24.630Z"
   },
   {
    "duration": 38,
    "start_time": "2021-07-13T09:49:24.650Z"
   },
   {
    "duration": 20,
    "start_time": "2021-07-13T09:49:24.690Z"
   },
   {
    "duration": 33,
    "start_time": "2021-07-13T09:49:24.711Z"
   },
   {
    "duration": 4,
    "start_time": "2021-07-13T09:49:24.746Z"
   },
   {
    "duration": 6,
    "start_time": "2021-07-13T09:49:24.751Z"
   },
   {
    "duration": 1313,
    "start_time": "2021-07-13T09:49:24.759Z"
   },
   {
    "duration": 1146,
    "start_time": "2021-07-13T09:50:55.151Z"
   },
   {
    "duration": 615,
    "start_time": "2021-07-13T09:50:56.299Z"
   },
   {
    "duration": 5,
    "start_time": "2021-07-13T09:50:56.916Z"
   },
   {
    "duration": 16,
    "start_time": "2021-07-13T09:50:56.922Z"
   },
   {
    "duration": 132,
    "start_time": "2021-07-13T09:50:56.939Z"
   },
   {
    "duration": 120,
    "start_time": "2021-07-13T09:50:57.072Z"
   },
   {
    "duration": 291,
    "start_time": "2021-07-13T09:50:57.194Z"
   },
   {
    "duration": 294,
    "start_time": "2021-07-13T09:50:57.487Z"
   },
   {
    "duration": 307,
    "start_time": "2021-07-13T09:50:57.783Z"
   },
   {
    "duration": 99,
    "start_time": "2021-07-13T09:50:58.092Z"
   },
   {
    "duration": 1698,
    "start_time": "2021-07-13T09:50:58.192Z"
   },
   {
    "duration": 5,
    "start_time": "2021-07-13T09:50:59.892Z"
   },
   {
    "duration": 6,
    "start_time": "2021-07-13T09:50:59.899Z"
   },
   {
    "duration": 5,
    "start_time": "2021-07-13T09:50:59.906Z"
   },
   {
    "duration": 293,
    "start_time": "2021-07-13T09:50:59.913Z"
   },
   {
    "duration": 4,
    "start_time": "2021-07-13T09:51:00.208Z"
   },
   {
    "duration": 23,
    "start_time": "2021-07-13T09:51:00.213Z"
   },
   {
    "duration": 4,
    "start_time": "2021-07-13T09:51:00.238Z"
   },
   {
    "duration": 15,
    "start_time": "2021-07-13T09:51:00.243Z"
   },
   {
    "duration": 174,
    "start_time": "2021-07-13T09:51:00.260Z"
   },
   {
    "duration": 4,
    "start_time": "2021-07-13T09:51:00.435Z"
   },
   {
    "duration": 466,
    "start_time": "2021-07-13T09:51:00.441Z"
   },
   {
    "duration": 178,
    "start_time": "2021-07-13T09:51:00.909Z"
   },
   {
    "duration": 1446,
    "start_time": "2021-07-13T09:51:01.089Z"
   },
   {
    "duration": 3,
    "start_time": "2021-07-13T09:52:11.264Z"
   },
   {
    "duration": 11,
    "start_time": "2021-07-13T09:52:11.598Z"
   },
   {
    "duration": 11,
    "start_time": "2021-07-13T09:52:11.899Z"
   },
   {
    "duration": 37,
    "start_time": "2021-07-13T09:52:12.656Z"
   },
   {
    "duration": 22,
    "start_time": "2021-07-13T09:52:13.577Z"
   },
   {
    "duration": 21,
    "start_time": "2021-07-13T09:52:13.888Z"
   },
   {
    "duration": 76,
    "start_time": "2021-07-13T09:52:14.363Z"
   },
   {
    "duration": 7,
    "start_time": "2021-07-13T09:52:14.686Z"
   },
   {
    "duration": 8,
    "start_time": "2021-07-13T09:52:15.129Z"
   },
   {
    "duration": 13,
    "start_time": "2021-07-13T09:52:15.417Z"
   },
   {
    "duration": 14,
    "start_time": "2021-07-13T09:52:15.979Z"
   },
   {
    "duration": 11,
    "start_time": "2021-07-13T09:52:16.640Z"
   },
   {
    "duration": 22,
    "start_time": "2021-07-13T09:52:16.912Z"
   },
   {
    "duration": 10,
    "start_time": "2021-07-13T09:52:17.186Z"
   },
   {
    "duration": 19,
    "start_time": "2021-07-13T09:52:17.445Z"
   },
   {
    "duration": 11,
    "start_time": "2021-07-13T09:52:17.720Z"
   },
   {
    "duration": 23,
    "start_time": "2021-07-13T09:52:17.999Z"
   },
   {
    "duration": 77,
    "start_time": "2021-07-13T09:52:18.289Z"
   },
   {
    "duration": 4,
    "start_time": "2021-07-13T09:52:18.593Z"
   },
   {
    "duration": 5,
    "start_time": "2021-07-13T09:52:20.248Z"
   },
   {
    "duration": 1344,
    "start_time": "2021-07-13T09:52:20.589Z"
   },
   {
    "duration": 4,
    "start_time": "2021-07-13T14:07:07.892Z"
   },
   {
    "duration": 3,
    "start_time": "2021-07-13T14:08:30.742Z"
   },
   {
    "duration": 21,
    "start_time": "2021-07-13T14:12:38.415Z"
   },
   {
    "duration": 21,
    "start_time": "2021-07-13T14:13:08.346Z"
   },
   {
    "duration": 303,
    "start_time": "2021-07-13T14:13:43.154Z"
   },
   {
    "duration": 279,
    "start_time": "2021-07-13T14:15:07.714Z"
   },
   {
    "duration": 4,
    "start_time": "2021-07-13T14:18:53.760Z"
   },
   {
    "duration": 548,
    "start_time": "2021-07-13T14:19:07.992Z"
   },
   {
    "duration": 1054,
    "start_time": "2021-07-13T14:19:37.622Z"
   },
   {
    "duration": 87,
    "start_time": "2021-07-13T14:22:53.285Z"
   },
   {
    "duration": 1093,
    "start_time": "2021-07-13T14:23:11.638Z"
   },
   {
    "duration": 603,
    "start_time": "2021-07-13T14:23:12.733Z"
   },
   {
    "duration": 5,
    "start_time": "2021-07-13T14:23:13.338Z"
   },
   {
    "duration": 21,
    "start_time": "2021-07-13T14:23:13.345Z"
   },
   {
    "duration": 124,
    "start_time": "2021-07-13T14:23:13.368Z"
   },
   {
    "duration": 123,
    "start_time": "2021-07-13T14:23:13.494Z"
   },
   {
    "duration": 300,
    "start_time": "2021-07-13T14:23:13.619Z"
   },
   {
    "duration": 303,
    "start_time": "2021-07-13T14:23:13.922Z"
   },
   {
    "duration": 310,
    "start_time": "2021-07-13T14:23:14.227Z"
   },
   {
    "duration": 102,
    "start_time": "2021-07-13T14:23:14.538Z"
   },
   {
    "duration": 1769,
    "start_time": "2021-07-13T14:23:14.641Z"
   },
   {
    "duration": 6,
    "start_time": "2021-07-13T14:23:16.412Z"
   },
   {
    "duration": 6,
    "start_time": "2021-07-13T14:23:16.419Z"
   },
   {
    "duration": 5,
    "start_time": "2021-07-13T14:23:16.427Z"
   },
   {
    "duration": 265,
    "start_time": "2021-07-13T14:23:16.433Z"
   },
   {
    "duration": 4,
    "start_time": "2021-07-13T14:23:16.700Z"
   },
   {
    "duration": 24,
    "start_time": "2021-07-13T14:23:16.705Z"
   },
   {
    "duration": 4,
    "start_time": "2021-07-13T14:23:16.730Z"
   },
   {
    "duration": 103,
    "start_time": "2021-07-13T14:23:16.736Z"
   },
   {
    "duration": 3,
    "start_time": "2021-07-13T14:23:16.841Z"
   },
   {
    "duration": 160,
    "start_time": "2021-07-13T14:23:16.845Z"
   },
   {
    "duration": 4,
    "start_time": "2021-07-13T14:23:17.006Z"
   },
   {
    "duration": 480,
    "start_time": "2021-07-13T14:23:17.013Z"
   },
   {
    "duration": 158,
    "start_time": "2021-07-13T14:23:17.495Z"
   },
   {
    "duration": 1413,
    "start_time": "2021-07-13T14:23:17.655Z"
   },
   {
    "duration": 2,
    "start_time": "2021-07-13T14:23:19.070Z"
   },
   {
    "duration": 18,
    "start_time": "2021-07-13T14:23:19.074Z"
   },
   {
    "duration": 11,
    "start_time": "2021-07-13T14:23:19.094Z"
   },
   {
    "duration": 40,
    "start_time": "2021-07-13T14:23:19.107Z"
   },
   {
    "duration": 49,
    "start_time": "2021-07-13T14:23:19.149Z"
   },
   {
    "duration": 20,
    "start_time": "2021-07-13T14:23:19.200Z"
   },
   {
    "duration": 99,
    "start_time": "2021-07-13T14:23:19.222Z"
   },
   {
    "duration": 7,
    "start_time": "2021-07-13T14:23:19.322Z"
   },
   {
    "duration": 6,
    "start_time": "2021-07-13T14:23:19.330Z"
   },
   {
    "duration": 12,
    "start_time": "2021-07-13T14:23:19.338Z"
   },
   {
    "duration": 37,
    "start_time": "2021-07-13T14:23:19.351Z"
   },
   {
    "duration": 10,
    "start_time": "2021-07-13T14:23:19.390Z"
   },
   {
    "duration": 23,
    "start_time": "2021-07-13T14:23:19.402Z"
   },
   {
    "duration": 9,
    "start_time": "2021-07-13T14:23:19.426Z"
   },
   {
    "duration": 17,
    "start_time": "2021-07-13T14:23:19.437Z"
   },
   {
    "duration": 34,
    "start_time": "2021-07-13T14:23:19.455Z"
   },
   {
    "duration": 21,
    "start_time": "2021-07-13T14:23:19.491Z"
   },
   {
    "duration": 96,
    "start_time": "2021-07-13T14:23:19.514Z"
   },
   {
    "duration": 3,
    "start_time": "2021-07-13T14:23:19.612Z"
   },
   {
    "duration": 6,
    "start_time": "2021-07-13T14:23:19.617Z"
   },
   {
    "duration": 1379,
    "start_time": "2021-07-13T14:23:19.624Z"
   },
   {
    "duration": 1055,
    "start_time": "2021-07-13T14:23:21.005Z"
   },
   {
    "duration": 1156,
    "start_time": "2021-07-13T14:25:13.073Z"
   },
   {
    "duration": 618,
    "start_time": "2021-07-13T14:25:14.231Z"
   },
   {
    "duration": 5,
    "start_time": "2021-07-13T14:25:14.852Z"
   },
   {
    "duration": 30,
    "start_time": "2021-07-13T14:25:14.858Z"
   },
   {
    "duration": 118,
    "start_time": "2021-07-13T14:25:14.890Z"
   },
   {
    "duration": 124,
    "start_time": "2021-07-13T14:25:15.010Z"
   },
   {
    "duration": 305,
    "start_time": "2021-07-13T14:25:15.135Z"
   },
   {
    "duration": 292,
    "start_time": "2021-07-13T14:25:15.442Z"
   },
   {
    "duration": 307,
    "start_time": "2021-07-13T14:25:15.737Z"
   },
   {
    "duration": 114,
    "start_time": "2021-07-13T14:25:16.046Z"
   },
   {
    "duration": 1716,
    "start_time": "2021-07-13T14:25:16.162Z"
   },
   {
    "duration": 7,
    "start_time": "2021-07-13T14:25:17.880Z"
   },
   {
    "duration": 6,
    "start_time": "2021-07-13T14:25:17.889Z"
   },
   {
    "duration": 6,
    "start_time": "2021-07-13T14:25:17.896Z"
   },
   {
    "duration": 284,
    "start_time": "2021-07-13T14:25:17.904Z"
   },
   {
    "duration": 4,
    "start_time": "2021-07-13T14:25:18.190Z"
   },
   {
    "duration": 24,
    "start_time": "2021-07-13T14:25:18.196Z"
   },
   {
    "duration": 6,
    "start_time": "2021-07-13T14:25:18.221Z"
   },
   {
    "duration": 105,
    "start_time": "2021-07-13T14:25:18.228Z"
   },
   {
    "duration": 4,
    "start_time": "2021-07-13T14:25:18.335Z"
   },
   {
    "duration": 164,
    "start_time": "2021-07-13T14:25:18.341Z"
   },
   {
    "duration": 4,
    "start_time": "2021-07-13T14:25:18.507Z"
   },
   {
    "duration": 467,
    "start_time": "2021-07-13T14:25:18.513Z"
   },
   {
    "duration": 158,
    "start_time": "2021-07-13T14:25:18.982Z"
   },
   {
    "duration": 1432,
    "start_time": "2021-07-13T14:25:19.142Z"
   },
   {
    "duration": 9,
    "start_time": "2021-07-13T14:25:20.576Z"
   },
   {
    "duration": 12,
    "start_time": "2021-07-13T14:25:20.588Z"
   },
   {
    "duration": 9,
    "start_time": "2021-07-13T14:25:20.602Z"
   },
   {
    "duration": 44,
    "start_time": "2021-07-13T14:25:20.613Z"
   },
   {
    "duration": 45,
    "start_time": "2021-07-13T14:25:20.658Z"
   },
   {
    "duration": 21,
    "start_time": "2021-07-13T14:25:20.704Z"
   },
   {
    "duration": 109,
    "start_time": "2021-07-13T14:25:20.727Z"
   },
   {
    "duration": 6,
    "start_time": "2021-07-13T14:25:20.838Z"
   },
   {
    "duration": 7,
    "start_time": "2021-07-13T14:25:20.846Z"
   },
   {
    "duration": 33,
    "start_time": "2021-07-13T14:25:20.854Z"
   },
   {
    "duration": 12,
    "start_time": "2021-07-13T14:25:20.888Z"
   },
   {
    "duration": 9,
    "start_time": "2021-07-13T14:25:20.902Z"
   },
   {
    "duration": 23,
    "start_time": "2021-07-13T14:25:20.913Z"
   },
   {
    "duration": 10,
    "start_time": "2021-07-13T14:25:20.937Z"
   },
   {
    "duration": 53,
    "start_time": "2021-07-13T14:25:20.948Z"
   },
   {
    "duration": 10,
    "start_time": "2021-07-13T14:25:21.003Z"
   },
   {
    "duration": 22,
    "start_time": "2021-07-13T14:25:21.014Z"
   },
   {
    "duration": 101,
    "start_time": "2021-07-13T14:25:21.037Z"
   },
   {
    "duration": 4,
    "start_time": "2021-07-13T14:25:21.139Z"
   },
   {
    "duration": 6,
    "start_time": "2021-07-13T14:25:21.144Z"
   },
   {
    "duration": 1389,
    "start_time": "2021-07-13T14:25:21.152Z"
   },
   {
    "duration": 1063,
    "start_time": "2021-07-13T14:25:22.542Z"
   },
   {
    "duration": 26,
    "start_time": "2021-07-13T14:26:41.567Z"
   },
   {
    "duration": 4,
    "start_time": "2021-07-13T14:26:49.866Z"
   },
   {
    "duration": 4,
    "start_time": "2021-07-13T14:27:22.903Z"
   },
   {
    "duration": 4,
    "start_time": "2021-07-13T14:27:38.943Z"
   },
   {
    "duration": 4,
    "start_time": "2021-07-13T14:27:51.308Z"
   },
   {
    "duration": 14,
    "start_time": "2021-07-13T14:27:56.992Z"
   },
   {
    "duration": 5,
    "start_time": "2021-07-13T14:28:53.881Z"
   },
   {
    "duration": 279,
    "start_time": "2021-07-13T14:29:14.205Z"
   },
   {
    "duration": 16,
    "start_time": "2021-07-13T14:29:20.032Z"
   },
   {
    "duration": 16,
    "start_time": "2021-07-13T14:29:27.348Z"
   },
   {
    "duration": 93,
    "start_time": "2021-07-13T14:29:46.926Z"
   },
   {
    "duration": 1242,
    "start_time": "2021-07-13T15:13:39.067Z"
   },
   {
    "duration": 611,
    "start_time": "2021-07-13T15:13:40.311Z"
   },
   {
    "duration": 5,
    "start_time": "2021-07-13T15:13:40.923Z"
   },
   {
    "duration": 17,
    "start_time": "2021-07-13T15:13:40.930Z"
   },
   {
    "duration": 131,
    "start_time": "2021-07-13T15:13:40.949Z"
   },
   {
    "duration": 117,
    "start_time": "2021-07-13T15:13:41.084Z"
   },
   {
    "duration": 297,
    "start_time": "2021-07-13T15:13:41.203Z"
   },
   {
    "duration": 303,
    "start_time": "2021-07-13T15:13:41.502Z"
   },
   {
    "duration": 304,
    "start_time": "2021-07-13T15:13:41.806Z"
   },
   {
    "duration": 101,
    "start_time": "2021-07-13T15:13:42.111Z"
   },
   {
    "duration": 1773,
    "start_time": "2021-07-13T15:13:42.214Z"
   },
   {
    "duration": 5,
    "start_time": "2021-07-13T15:13:43.989Z"
   },
   {
    "duration": 5,
    "start_time": "2021-07-13T15:13:43.996Z"
   },
   {
    "duration": 13,
    "start_time": "2021-07-13T15:13:44.002Z"
   },
   {
    "duration": 268,
    "start_time": "2021-07-13T15:13:44.016Z"
   },
   {
    "duration": 4,
    "start_time": "2021-07-13T15:13:44.286Z"
   },
   {
    "duration": 34,
    "start_time": "2021-07-13T15:13:44.291Z"
   },
   {
    "duration": 7,
    "start_time": "2021-07-13T15:13:44.326Z"
   },
   {
    "duration": 103,
    "start_time": "2021-07-13T15:13:44.334Z"
   },
   {
    "duration": 3,
    "start_time": "2021-07-13T15:13:44.439Z"
   },
   {
    "duration": 179,
    "start_time": "2021-07-13T15:13:44.444Z"
   },
   {
    "duration": 4,
    "start_time": "2021-07-13T15:13:44.625Z"
   },
   {
    "duration": 529,
    "start_time": "2021-07-13T15:13:44.632Z"
   },
   {
    "duration": 160,
    "start_time": "2021-07-13T15:13:45.163Z"
   },
   {
    "duration": 1433,
    "start_time": "2021-07-13T15:13:45.324Z"
   },
   {
    "duration": 3,
    "start_time": "2021-07-13T15:13:46.759Z"
   },
   {
    "duration": 23,
    "start_time": "2021-07-13T15:13:46.763Z"
   },
   {
    "duration": 10,
    "start_time": "2021-07-13T15:13:46.787Z"
   },
   {
    "duration": 45,
    "start_time": "2021-07-13T15:13:46.798Z"
   },
   {
    "duration": 42,
    "start_time": "2021-07-13T15:13:46.844Z"
   },
   {
    "duration": 20,
    "start_time": "2021-07-13T15:13:46.887Z"
   },
   {
    "duration": 107,
    "start_time": "2021-07-13T15:13:46.908Z"
   },
   {
    "duration": 6,
    "start_time": "2021-07-13T15:13:47.016Z"
   },
   {
    "duration": 10,
    "start_time": "2021-07-13T15:13:47.024Z"
   },
   {
    "duration": 13,
    "start_time": "2021-07-13T15:13:47.035Z"
   },
   {
    "duration": 37,
    "start_time": "2021-07-13T15:13:47.049Z"
   },
   {
    "duration": 9,
    "start_time": "2021-07-13T15:13:47.088Z"
   },
   {
    "duration": 23,
    "start_time": "2021-07-13T15:13:47.099Z"
   },
   {
    "duration": 8,
    "start_time": "2021-07-13T15:13:47.123Z"
   },
   {
    "duration": 32,
    "start_time": "2021-07-13T15:13:47.133Z"
   },
   {
    "duration": 22,
    "start_time": "2021-07-13T15:13:47.167Z"
   },
   {
    "duration": 22,
    "start_time": "2021-07-13T15:13:47.190Z"
   },
   {
    "duration": 198,
    "start_time": "2021-07-13T15:14:05.264Z"
   },
   {
    "duration": 1149,
    "start_time": "2021-07-13T15:14:37.745Z"
   },
   {
    "duration": 622,
    "start_time": "2021-07-13T15:14:38.896Z"
   },
   {
    "duration": 5,
    "start_time": "2021-07-13T15:14:39.520Z"
   },
   {
    "duration": 24,
    "start_time": "2021-07-13T15:14:39.527Z"
   },
   {
    "duration": 120,
    "start_time": "2021-07-13T15:14:39.552Z"
   },
   {
    "duration": 118,
    "start_time": "2021-07-13T15:14:39.673Z"
   },
   {
    "duration": 297,
    "start_time": "2021-07-13T15:14:39.793Z"
   },
   {
    "duration": 283,
    "start_time": "2021-07-13T15:14:40.091Z"
   },
   {
    "duration": 294,
    "start_time": "2021-07-13T15:14:40.376Z"
   },
   {
    "duration": 94,
    "start_time": "2021-07-13T15:14:40.672Z"
   },
   {
    "duration": 1679,
    "start_time": "2021-07-13T15:14:40.768Z"
   },
   {
    "duration": 5,
    "start_time": "2021-07-13T15:14:42.449Z"
   },
   {
    "duration": 7,
    "start_time": "2021-07-13T15:14:42.455Z"
   },
   {
    "duration": 22,
    "start_time": "2021-07-13T15:14:42.463Z"
   },
   {
    "duration": 250,
    "start_time": "2021-07-13T15:14:42.486Z"
   },
   {
    "duration": 4,
    "start_time": "2021-07-13T15:14:42.738Z"
   },
   {
    "duration": 202,
    "start_time": "2021-07-13T15:14:52.854Z"
   },
   {
    "duration": 18,
    "start_time": "2021-07-13T15:15:07.676Z"
   },
   {
    "duration": 5,
    "start_time": "2021-07-13T15:15:08.005Z"
   },
   {
    "duration": 88,
    "start_time": "2021-07-13T15:15:15.203Z"
   },
   {
    "duration": 225,
    "start_time": "2021-07-13T15:15:23.410Z"
   },
   {
    "duration": 3,
    "start_time": "2021-07-13T15:15:30.333Z"
   },
   {
    "duration": 150,
    "start_time": "2021-07-13T15:15:31.144Z"
   },
   {
    "duration": 4,
    "start_time": "2021-07-13T15:15:35.506Z"
   },
   {
    "duration": 454,
    "start_time": "2021-07-13T15:15:36.708Z"
   },
   {
    "duration": 166,
    "start_time": "2021-07-13T15:15:37.164Z"
   },
   {
    "duration": 185,
    "start_time": "2021-07-13T15:15:45.315Z"
   },
   {
    "duration": 1129,
    "start_time": "2021-07-13T15:16:45.441Z"
   },
   {
    "duration": 595,
    "start_time": "2021-07-13T15:16:46.571Z"
   },
   {
    "duration": 4,
    "start_time": "2021-07-13T15:16:47.168Z"
   },
   {
    "duration": 17,
    "start_time": "2021-07-13T15:16:47.185Z"
   },
   {
    "duration": 115,
    "start_time": "2021-07-13T15:16:47.203Z"
   },
   {
    "duration": 118,
    "start_time": "2021-07-13T15:16:47.320Z"
   },
   {
    "duration": 288,
    "start_time": "2021-07-13T15:16:47.439Z"
   },
   {
    "duration": 300,
    "start_time": "2021-07-13T15:16:47.728Z"
   },
   {
    "duration": 298,
    "start_time": "2021-07-13T15:16:48.030Z"
   },
   {
    "duration": 100,
    "start_time": "2021-07-13T15:16:48.330Z"
   },
   {
    "duration": 1726,
    "start_time": "2021-07-13T15:16:48.432Z"
   },
   {
    "duration": 6,
    "start_time": "2021-07-13T15:16:50.160Z"
   },
   {
    "duration": 18,
    "start_time": "2021-07-13T15:16:50.167Z"
   },
   {
    "duration": 15,
    "start_time": "2021-07-13T15:16:50.187Z"
   },
   {
    "duration": 258,
    "start_time": "2021-07-13T15:16:50.203Z"
   },
   {
    "duration": 4,
    "start_time": "2021-07-13T15:16:50.462Z"
   },
   {
    "duration": 30,
    "start_time": "2021-07-13T15:16:50.467Z"
   },
   {
    "duration": 4,
    "start_time": "2021-07-13T15:16:50.499Z"
   },
   {
    "duration": 98,
    "start_time": "2021-07-13T15:16:50.505Z"
   },
   {
    "duration": 3,
    "start_time": "2021-07-13T15:16:50.605Z"
   },
   {
    "duration": 162,
    "start_time": "2021-07-13T15:16:50.609Z"
   },
   {
    "duration": 232,
    "start_time": "2021-07-13T15:16:58.327Z"
   },
   {
    "duration": 3,
    "start_time": "2021-07-13T15:17:09.278Z"
   },
   {
    "duration": 444,
    "start_time": "2021-07-13T15:17:10.415Z"
   },
   {
    "duration": 151,
    "start_time": "2021-07-13T15:17:14.739Z"
   },
   {
    "duration": 178,
    "start_time": "2021-07-13T15:17:28.073Z"
   },
   {
    "duration": 186,
    "start_time": "2021-07-13T15:18:00.176Z"
   },
   {
    "duration": 1382,
    "start_time": "2021-07-13T15:21:14.747Z"
   },
   {
    "duration": 602,
    "start_time": "2021-07-13T15:21:16.131Z"
   },
   {
    "duration": 6,
    "start_time": "2021-07-13T15:21:16.735Z"
   },
   {
    "duration": 15,
    "start_time": "2021-07-13T15:21:16.743Z"
   },
   {
    "duration": 134,
    "start_time": "2021-07-13T15:21:16.760Z"
   },
   {
    "duration": 125,
    "start_time": "2021-07-13T15:21:16.896Z"
   },
   {
    "duration": 300,
    "start_time": "2021-07-13T15:21:17.023Z"
   },
   {
    "duration": 292,
    "start_time": "2021-07-13T15:21:17.327Z"
   },
   {
    "duration": 291,
    "start_time": "2021-07-13T15:21:17.621Z"
   },
   {
    "duration": 98,
    "start_time": "2021-07-13T15:21:17.914Z"
   },
   {
    "duration": 1664,
    "start_time": "2021-07-13T15:21:18.014Z"
   },
   {
    "duration": 6,
    "start_time": "2021-07-13T15:21:19.684Z"
   },
   {
    "duration": 7,
    "start_time": "2021-07-13T15:21:19.691Z"
   },
   {
    "duration": 5,
    "start_time": "2021-07-13T15:21:19.700Z"
   },
   {
    "duration": 278,
    "start_time": "2021-07-13T15:21:19.707Z"
   },
   {
    "duration": 3,
    "start_time": "2021-07-13T15:21:19.987Z"
   },
   {
    "duration": 24,
    "start_time": "2021-07-13T15:21:19.992Z"
   },
   {
    "duration": 4,
    "start_time": "2021-07-13T15:21:20.018Z"
   },
   {
    "duration": 103,
    "start_time": "2021-07-13T15:21:20.024Z"
   },
   {
    "duration": 3,
    "start_time": "2021-07-13T15:21:20.129Z"
   },
   {
    "duration": 154,
    "start_time": "2021-07-13T15:21:20.134Z"
   },
   {
    "duration": 4,
    "start_time": "2021-07-13T15:21:20.289Z"
   },
   {
    "duration": 480,
    "start_time": "2021-07-13T15:21:20.295Z"
   },
   {
    "duration": 161,
    "start_time": "2021-07-13T15:21:20.777Z"
   },
   {
    "duration": 230,
    "start_time": "2021-07-13T15:21:20.939Z"
   },
   {
    "duration": 1447,
    "start_time": "2021-07-13T15:21:21.171Z"
   },
   {
    "duration": 190,
    "start_time": "2021-07-13T15:24:34.854Z"
   },
   {
    "duration": 180,
    "start_time": "2021-07-13T15:25:22.309Z"
   },
   {
    "duration": 171,
    "start_time": "2021-07-13T15:25:27.355Z"
   },
   {
    "duration": 188,
    "start_time": "2021-07-13T15:25:45.606Z"
   },
   {
    "duration": 26,
    "start_time": "2021-07-13T15:26:10.940Z"
   },
   {
    "duration": 34,
    "start_time": "2021-07-13T15:26:41.299Z"
   },
   {
    "duration": 183,
    "start_time": "2021-07-13T15:28:05.853Z"
   },
   {
    "duration": 202,
    "start_time": "2021-07-13T15:29:31.175Z"
   },
   {
    "duration": 1321,
    "start_time": "2021-07-13T15:29:32.974Z"
   },
   {
    "duration": 3,
    "start_time": "2021-07-13T15:29:36.500Z"
   },
   {
    "duration": 12,
    "start_time": "2021-07-13T15:29:37.083Z"
   },
   {
    "duration": 10,
    "start_time": "2021-07-13T15:29:38.147Z"
   },
   {
    "duration": 232,
    "start_time": "2021-07-13T15:29:42.285Z"
   },
   {
    "duration": 21,
    "start_time": "2021-07-13T15:29:42.690Z"
   },
   {
    "duration": 21,
    "start_time": "2021-07-13T15:29:43.051Z"
   },
   {
    "duration": 90,
    "start_time": "2021-07-13T15:29:45.876Z"
   },
   {
    "duration": 7,
    "start_time": "2021-07-13T15:29:46.239Z"
   },
   {
    "duration": 8,
    "start_time": "2021-07-13T15:30:21.996Z"
   },
   {
    "duration": 15,
    "start_time": "2021-07-13T15:30:23.418Z"
   },
   {
    "duration": 14,
    "start_time": "2021-07-13T15:30:26.364Z"
   },
   {
    "duration": 11,
    "start_time": "2021-07-13T15:30:28.903Z"
   },
   {
    "duration": 27,
    "start_time": "2021-07-13T15:30:29.242Z"
   },
   {
    "duration": 11,
    "start_time": "2021-07-13T15:30:29.509Z"
   },
   {
    "duration": 20,
    "start_time": "2021-07-13T15:30:33.276Z"
   },
   {
    "duration": 10,
    "start_time": "2021-07-13T15:30:34.484Z"
   },
   {
    "duration": 23,
    "start_time": "2021-07-13T15:30:36.301Z"
   },
   {
    "duration": 187,
    "start_time": "2021-07-13T15:30:39.434Z"
   },
   {
    "duration": 255,
    "start_time": "2021-07-13T15:31:45.763Z"
   },
   {
    "duration": 69,
    "start_time": "2021-07-13T15:31:47.346Z"
   },
   {
    "duration": 4,
    "start_time": "2021-07-13T15:31:50.115Z"
   },
   {
    "duration": 4,
    "start_time": "2021-07-13T15:31:50.553Z"
   },
   {
    "duration": 189,
    "start_time": "2021-07-13T15:32:11.511Z"
   },
   {
    "duration": 1402,
    "start_time": "2021-07-13T15:32:14.788Z"
   },
   {
    "duration": 1113,
    "start_time": "2021-07-13T15:32:22.341Z"
   },
   {
    "duration": 27,
    "start_time": "2021-07-13T15:32:29.948Z"
   },
   {
    "duration": 4,
    "start_time": "2021-07-13T15:32:30.842Z"
   },
   {
    "duration": 5,
    "start_time": "2021-07-13T15:32:32.665Z"
   },
   {
    "duration": 14,
    "start_time": "2021-07-13T15:32:47.164Z"
   },
   {
    "duration": 16,
    "start_time": "2021-07-13T15:32:50.060Z"
   },
   {
    "duration": 98,
    "start_time": "2021-07-13T15:32:51.345Z"
   },
   {
    "duration": 111,
    "start_time": "2021-07-13T15:33:54.491Z"
   },
   {
    "duration": 1171,
    "start_time": "2021-07-13T15:37:16.815Z"
   },
   {
    "duration": 611,
    "start_time": "2021-07-13T15:37:17.988Z"
   },
   {
    "duration": 7,
    "start_time": "2021-07-13T15:37:18.601Z"
   },
   {
    "duration": 15,
    "start_time": "2021-07-13T15:37:18.610Z"
   },
   {
    "duration": 132,
    "start_time": "2021-07-13T15:37:18.626Z"
   },
   {
    "duration": 118,
    "start_time": "2021-07-13T15:37:18.760Z"
   },
   {
    "duration": 291,
    "start_time": "2021-07-13T15:37:18.879Z"
   },
   {
    "duration": 297,
    "start_time": "2021-07-13T15:37:19.171Z"
   },
   {
    "duration": 311,
    "start_time": "2021-07-13T15:37:19.471Z"
   },
   {
    "duration": 110,
    "start_time": "2021-07-13T15:37:19.784Z"
   },
   {
    "duration": 1788,
    "start_time": "2021-07-13T15:37:19.896Z"
   },
   {
    "duration": 6,
    "start_time": "2021-07-13T15:37:21.686Z"
   },
   {
    "duration": 6,
    "start_time": "2021-07-13T15:37:21.693Z"
   },
   {
    "duration": 5,
    "start_time": "2021-07-13T15:37:21.701Z"
   },
   {
    "duration": 286,
    "start_time": "2021-07-13T15:37:21.708Z"
   },
   {
    "duration": 4,
    "start_time": "2021-07-13T15:37:21.996Z"
   },
   {
    "duration": 22,
    "start_time": "2021-07-13T15:37:22.001Z"
   },
   {
    "duration": 4,
    "start_time": "2021-07-13T15:37:22.025Z"
   },
   {
    "duration": 102,
    "start_time": "2021-07-13T15:37:22.031Z"
   },
   {
    "duration": 3,
    "start_time": "2021-07-13T15:37:22.135Z"
   },
   {
    "duration": 186,
    "start_time": "2021-07-13T15:37:22.139Z"
   },
   {
    "duration": 3,
    "start_time": "2021-07-13T15:37:22.327Z"
   },
   {
    "duration": 516,
    "start_time": "2021-07-13T15:37:22.332Z"
   },
   {
    "duration": 185,
    "start_time": "2021-07-13T15:37:22.850Z"
   },
   {
    "duration": 211,
    "start_time": "2021-07-13T15:37:23.037Z"
   },
   {
    "duration": 234,
    "start_time": "2021-07-13T15:37:23.250Z"
   },
   {
    "duration": 1511,
    "start_time": "2021-07-13T15:37:23.488Z"
   },
   {
    "duration": 3,
    "start_time": "2021-07-13T15:37:25.001Z"
   },
   {
    "duration": 16,
    "start_time": "2021-07-13T15:37:25.006Z"
   },
   {
    "duration": 13,
    "start_time": "2021-07-13T15:37:25.023Z"
   },
   {
    "duration": 74,
    "start_time": "2021-07-13T15:37:25.038Z"
   },
   {
    "duration": 23,
    "start_time": "2021-07-13T15:37:25.114Z"
   },
   {
    "duration": 23,
    "start_time": "2021-07-13T15:37:25.139Z"
   },
   {
    "duration": 124,
    "start_time": "2021-07-13T15:37:25.164Z"
   },
   {
    "duration": 7,
    "start_time": "2021-07-13T15:37:25.289Z"
   },
   {
    "duration": 7,
    "start_time": "2021-07-13T15:37:25.298Z"
   },
   {
    "duration": 13,
    "start_time": "2021-07-13T15:37:25.307Z"
   },
   {
    "duration": 14,
    "start_time": "2021-07-13T15:37:25.322Z"
   },
   {
    "duration": 11,
    "start_time": "2021-07-13T15:37:25.337Z"
   },
   {
    "duration": 28,
    "start_time": "2021-07-13T15:37:25.385Z"
   },
   {
    "duration": 10,
    "start_time": "2021-07-13T15:37:25.415Z"
   },
   {
    "duration": 20,
    "start_time": "2021-07-13T15:37:25.427Z"
   },
   {
    "duration": 36,
    "start_time": "2021-07-13T15:37:25.449Z"
   },
   {
    "duration": 23,
    "start_time": "2021-07-13T15:37:25.487Z"
   },
   {
    "duration": 212,
    "start_time": "2021-07-13T15:37:25.512Z"
   },
   {
    "duration": 233,
    "start_time": "2021-07-13T15:37:25.726Z"
   },
   {
    "duration": 72,
    "start_time": "2021-07-13T15:37:25.961Z"
   },
   {
    "duration": 4,
    "start_time": "2021-07-13T15:37:26.035Z"
   },
   {
    "duration": 6,
    "start_time": "2021-07-13T15:37:26.041Z"
   },
   {
    "duration": 221,
    "start_time": "2021-07-13T15:37:26.049Z"
   },
   {
    "duration": 1417,
    "start_time": "2021-07-13T15:37:26.272Z"
   },
   {
    "duration": 1086,
    "start_time": "2021-07-13T15:37:27.691Z"
   },
   {
    "duration": 140,
    "start_time": "2021-07-13T15:37:28.779Z"
   },
   {
    "duration": 4,
    "start_time": "2021-07-13T15:37:34.910Z"
   },
   {
    "duration": 558,
    "start_time": "2021-07-13T15:37:34.916Z"
   },
   {
    "duration": 3,
    "start_time": "2021-07-13T15:37:35.476Z"
   },
   {
    "duration": 15,
    "start_time": "2021-07-13T15:37:35.481Z"
   },
   {
    "duration": 126,
    "start_time": "2021-07-13T15:37:35.497Z"
   },
   {
    "duration": 116,
    "start_time": "2021-07-13T15:37:35.625Z"
   },
   {
    "duration": 250,
    "start_time": "2021-07-13T15:37:35.743Z"
   },
   {
    "duration": 256,
    "start_time": "2021-07-13T15:37:35.994Z"
   },
   {
    "duration": 267,
    "start_time": "2021-07-13T15:37:36.253Z"
   },
   {
    "duration": 95,
    "start_time": "2021-07-13T15:37:36.522Z"
   },
   {
    "duration": 1692,
    "start_time": "2021-07-13T15:37:36.618Z"
   },
   {
    "duration": 6,
    "start_time": "2021-07-13T15:37:38.312Z"
   },
   {
    "duration": 6,
    "start_time": "2021-07-13T15:37:38.320Z"
   },
   {
    "duration": 6,
    "start_time": "2021-07-13T15:37:38.328Z"
   },
   {
    "duration": 227,
    "start_time": "2021-07-13T15:37:38.336Z"
   },
   {
    "duration": 3,
    "start_time": "2021-07-13T15:37:38.565Z"
   },
   {
    "duration": 27,
    "start_time": "2021-07-13T15:37:38.570Z"
   },
   {
    "duration": 4,
    "start_time": "2021-07-13T15:37:38.599Z"
   },
   {
    "duration": 96,
    "start_time": "2021-07-13T15:37:38.604Z"
   },
   {
    "duration": 3,
    "start_time": "2021-07-13T15:37:38.702Z"
   },
   {
    "duration": 171,
    "start_time": "2021-07-13T15:37:38.707Z"
   },
   {
    "duration": 7,
    "start_time": "2021-07-13T15:37:38.879Z"
   },
   {
    "duration": 506,
    "start_time": "2021-07-13T15:37:38.888Z"
   },
   {
    "duration": 174,
    "start_time": "2021-07-13T15:37:39.395Z"
   },
   {
    "duration": 188,
    "start_time": "2021-07-13T15:37:39.571Z"
   },
   {
    "duration": 204,
    "start_time": "2021-07-13T15:37:39.761Z"
   },
   {
    "duration": 1445,
    "start_time": "2021-07-13T15:37:39.969Z"
   },
   {
    "duration": 4,
    "start_time": "2021-07-13T15:37:41.416Z"
   },
   {
    "duration": 23,
    "start_time": "2021-07-13T15:37:41.421Z"
   },
   {
    "duration": 15,
    "start_time": "2021-07-13T15:37:41.446Z"
   },
   {
    "duration": 54,
    "start_time": "2021-07-13T15:37:41.463Z"
   },
   {
    "duration": 20,
    "start_time": "2021-07-13T15:37:41.518Z"
   },
   {
    "duration": 22,
    "start_time": "2021-07-13T15:37:41.540Z"
   },
   {
    "duration": 108,
    "start_time": "2021-07-13T15:37:41.564Z"
   },
   {
    "duration": 14,
    "start_time": "2021-07-13T15:37:41.674Z"
   },
   {
    "duration": 12,
    "start_time": "2021-07-13T15:37:41.690Z"
   },
   {
    "duration": 20,
    "start_time": "2021-07-13T15:37:41.704Z"
   },
   {
    "duration": 19,
    "start_time": "2021-07-13T15:37:41.725Z"
   },
   {
    "duration": 13,
    "start_time": "2021-07-13T15:37:41.745Z"
   },
   {
    "duration": 35,
    "start_time": "2021-07-13T15:37:41.760Z"
   },
   {
    "duration": 10,
    "start_time": "2021-07-13T15:37:41.797Z"
   },
   {
    "duration": 27,
    "start_time": "2021-07-13T15:37:41.809Z"
   },
   {
    "duration": 12,
    "start_time": "2021-07-13T15:37:41.838Z"
   },
   {
    "duration": 49,
    "start_time": "2021-07-13T15:37:41.852Z"
   },
   {
    "duration": 214,
    "start_time": "2021-07-13T15:37:41.903Z"
   },
   {
    "duration": 218,
    "start_time": "2021-07-13T15:37:42.119Z"
   },
   {
    "duration": 77,
    "start_time": "2021-07-13T15:37:42.339Z"
   },
   {
    "duration": 5,
    "start_time": "2021-07-13T15:37:42.418Z"
   },
   {
    "duration": 14,
    "start_time": "2021-07-13T15:37:42.424Z"
   },
   {
    "duration": 186,
    "start_time": "2021-07-13T15:37:42.440Z"
   },
   {
    "duration": 1321,
    "start_time": "2021-07-13T15:37:42.627Z"
   },
   {
    "duration": 1103,
    "start_time": "2021-07-13T15:37:43.950Z"
   },
   {
    "duration": 141,
    "start_time": "2021-07-13T15:37:45.054Z"
   },
   {
    "duration": 29,
    "start_time": "2021-07-13T15:37:51.109Z"
   },
   {
    "duration": 3,
    "start_time": "2021-07-13T15:37:51.420Z"
   },
   {
    "duration": 3,
    "start_time": "2021-07-13T15:37:51.820Z"
   },
   {
    "duration": 16,
    "start_time": "2021-07-13T15:37:52.237Z"
   },
   {
    "duration": 16,
    "start_time": "2021-07-13T15:37:55.893Z"
   },
   {
    "duration": 100,
    "start_time": "2021-07-13T15:37:59.428Z"
   },
   {
    "duration": 119,
    "start_time": "2021-07-13T15:37:59.912Z"
   },
   {
    "duration": 111,
    "start_time": "2021-07-13T15:38:33.626Z"
   },
   {
    "duration": 5,
    "start_time": "2021-07-13T15:38:51.908Z"
   },
   {
    "duration": 18,
    "start_time": "2021-07-13T15:39:07.936Z"
   },
   {
    "duration": 3,
    "start_time": "2021-07-13T15:40:25.094Z"
   },
   {
    "duration": 4,
    "start_time": "2021-07-13T15:43:28.837Z"
   },
   {
    "duration": 51,
    "start_time": "2021-07-13T15:44:14.619Z"
   },
   {
    "duration": 18,
    "start_time": "2021-07-13T15:44:26.624Z"
   },
   {
    "duration": 3,
    "start_time": "2021-07-13T15:46:09.098Z"
   },
   {
    "duration": 4,
    "start_time": "2021-07-13T15:54:27.909Z"
   },
   {
    "duration": 721,
    "start_time": "2021-07-13T15:56:55.403Z"
   },
   {
    "duration": 1783,
    "start_time": "2021-07-13T16:00:11.671Z"
   },
   {
    "duration": 1541,
    "start_time": "2021-07-13T16:01:40.906Z"
   },
   {
    "duration": 315,
    "start_time": "2021-07-13T17:04:23.899Z"
   },
   {
    "duration": 16,
    "start_time": "2021-07-13T17:09:37.512Z"
   },
   {
    "duration": 1282,
    "start_time": "2021-07-13T17:11:47.827Z"
   },
   {
    "duration": 706,
    "start_time": "2021-07-13T17:11:49.111Z"
   },
   {
    "duration": 5,
    "start_time": "2021-07-13T17:11:49.818Z"
   },
   {
    "duration": 24,
    "start_time": "2021-07-13T17:11:49.825Z"
   },
   {
    "duration": 170,
    "start_time": "2021-07-13T17:11:49.851Z"
   },
   {
    "duration": 126,
    "start_time": "2021-07-13T17:11:50.023Z"
   },
   {
    "duration": 320,
    "start_time": "2021-07-13T17:11:50.152Z"
   },
   {
    "duration": 330,
    "start_time": "2021-07-13T17:11:50.475Z"
   },
   {
    "duration": 341,
    "start_time": "2021-07-13T17:11:50.807Z"
   },
   {
    "duration": 123,
    "start_time": "2021-07-13T17:11:51.150Z"
   },
   {
    "duration": 2191,
    "start_time": "2021-07-13T17:11:51.274Z"
   },
   {
    "duration": 6,
    "start_time": "2021-07-13T17:11:53.466Z"
   },
   {
    "duration": 24,
    "start_time": "2021-07-13T17:11:53.474Z"
   },
   {
    "duration": 7,
    "start_time": "2021-07-13T17:11:53.500Z"
   },
   {
    "duration": 305,
    "start_time": "2021-07-13T17:11:53.509Z"
   },
   {
    "duration": 4,
    "start_time": "2021-07-13T17:11:53.815Z"
   },
   {
    "duration": 22,
    "start_time": "2021-07-13T17:11:53.820Z"
   },
   {
    "duration": 5,
    "start_time": "2021-07-13T17:11:53.843Z"
   },
   {
    "duration": 119,
    "start_time": "2021-07-13T17:11:53.850Z"
   },
   {
    "duration": 4,
    "start_time": "2021-07-13T17:11:53.970Z"
   },
   {
    "duration": 186,
    "start_time": "2021-07-13T17:11:53.975Z"
   },
   {
    "duration": 3,
    "start_time": "2021-07-13T17:11:54.163Z"
   },
   {
    "duration": 538,
    "start_time": "2021-07-13T17:11:54.170Z"
   },
   {
    "duration": 165,
    "start_time": "2021-07-13T17:11:54.711Z"
   },
   {
    "duration": 223,
    "start_time": "2021-07-13T17:11:54.890Z"
   },
   {
    "duration": 251,
    "start_time": "2021-07-13T17:11:55.114Z"
   },
   {
    "duration": 1608,
    "start_time": "2021-07-13T17:11:55.367Z"
   },
   {
    "duration": 12,
    "start_time": "2021-07-13T17:11:56.977Z"
   },
   {
    "duration": 16,
    "start_time": "2021-07-13T17:11:56.992Z"
   },
   {
    "duration": 11,
    "start_time": "2021-07-13T17:11:57.010Z"
   },
   {
    "duration": 72,
    "start_time": "2021-07-13T17:11:57.022Z"
   },
   {
    "duration": 28,
    "start_time": "2021-07-13T17:11:57.096Z"
   },
   {
    "duration": 23,
    "start_time": "2021-07-13T17:11:57.126Z"
   },
   {
    "duration": 145,
    "start_time": "2021-07-13T17:11:57.151Z"
   },
   {
    "duration": 15,
    "start_time": "2021-07-13T17:11:57.299Z"
   },
   {
    "duration": 7,
    "start_time": "2021-07-13T17:11:57.316Z"
   },
   {
    "duration": 15,
    "start_time": "2021-07-13T17:11:57.324Z"
   },
   {
    "duration": 16,
    "start_time": "2021-07-13T17:11:57.341Z"
   },
   {
    "duration": 45,
    "start_time": "2021-07-13T17:11:57.359Z"
   },
   {
    "duration": 28,
    "start_time": "2021-07-13T17:11:57.406Z"
   },
   {
    "duration": 12,
    "start_time": "2021-07-13T17:11:57.436Z"
   },
   {
    "duration": 59,
    "start_time": "2021-07-13T17:11:57.451Z"
   },
   {
    "duration": 13,
    "start_time": "2021-07-13T17:11:57.512Z"
   },
   {
    "duration": 25,
    "start_time": "2021-07-13T17:11:57.527Z"
   },
   {
    "duration": 252,
    "start_time": "2021-07-13T17:11:57.554Z"
   },
   {
    "duration": 262,
    "start_time": "2021-07-13T17:11:57.808Z"
   },
   {
    "duration": 88,
    "start_time": "2021-07-13T17:11:58.072Z"
   },
   {
    "duration": 4,
    "start_time": "2021-07-13T17:11:58.162Z"
   },
   {
    "duration": 5,
    "start_time": "2021-07-13T17:11:58.167Z"
   },
   {
    "duration": 249,
    "start_time": "2021-07-13T17:11:58.174Z"
   },
   {
    "duration": 1593,
    "start_time": "2021-07-13T17:11:58.425Z"
   },
   {
    "duration": 1350,
    "start_time": "2021-07-13T17:12:00.020Z"
   },
   {
    "duration": 168,
    "start_time": "2021-07-13T17:12:01.372Z"
   },
   {
    "duration": 26,
    "start_time": "2021-07-13T17:12:01.542Z"
   },
   {
    "duration": 16,
    "start_time": "2021-07-13T17:12:01.570Z"
   },
   {
    "duration": 20,
    "start_time": "2021-07-13T17:12:01.588Z"
   },
   {
    "duration": 33,
    "start_time": "2021-07-13T17:12:01.612Z"
   },
   {
    "duration": 28,
    "start_time": "2021-07-13T17:12:01.647Z"
   },
   {
    "duration": 129,
    "start_time": "2021-07-13T17:12:01.677Z"
   },
   {
    "duration": 135,
    "start_time": "2021-07-13T17:12:01.808Z"
   },
   {
    "duration": 19,
    "start_time": "2021-07-13T17:12:01.945Z"
   },
   {
    "duration": 3,
    "start_time": "2021-07-13T17:12:01.966Z"
   },
   {
    "duration": 23,
    "start_time": "2021-07-13T17:12:01.970Z"
   },
   {
    "duration": 58,
    "start_time": "2021-07-13T17:12:01.996Z"
   },
   {
    "duration": 32,
    "start_time": "2021-07-13T17:12:02.056Z"
   },
   {
    "duration": 7,
    "start_time": "2021-07-13T17:12:02.090Z"
   },
   {
    "duration": 1823,
    "start_time": "2021-07-13T17:12:02.099Z"
   },
   {
    "duration": 76,
    "start_time": "2021-07-13T17:13:45.890Z"
   },
   {
    "duration": 4,
    "start_time": "2021-07-13T17:14:11.906Z"
   },
   {
    "duration": 4,
    "start_time": "2021-07-13T17:48:12.327Z"
   },
   {
    "duration": 4,
    "start_time": "2021-07-13T17:57:08.168Z"
   },
   {
    "duration": 275,
    "start_time": "2021-07-13T18:04:36.125Z"
   },
   {
    "duration": 3,
    "start_time": "2021-07-13T18:05:09.286Z"
   },
   {
    "duration": 6,
    "start_time": "2021-07-13T18:05:12.652Z"
   },
   {
    "duration": 65,
    "start_time": "2021-07-13T18:06:15.626Z"
   },
   {
    "duration": 5,
    "start_time": "2021-07-13T18:06:26.571Z"
   },
   {
    "duration": 1054,
    "start_time": "2021-07-13T18:06:32.754Z"
   },
   {
    "duration": 4,
    "start_time": "2021-07-13T18:06:45.224Z"
   },
   {
    "duration": 4,
    "start_time": "2021-07-13T18:07:55.828Z"
   },
   {
    "duration": 3,
    "start_time": "2021-07-13T18:08:57.128Z"
   },
   {
    "duration": 386,
    "start_time": "2021-07-13T18:09:56.736Z"
   },
   {
    "duration": 1112,
    "start_time": "2021-07-13T18:10:41.074Z"
   },
   {
    "duration": 4,
    "start_time": "2021-07-13T18:10:45.219Z"
   },
   {
    "duration": 1937,
    "start_time": "2021-07-13T18:11:31.353Z"
   },
   {
    "duration": 5,
    "start_time": "2021-07-13T18:11:35.777Z"
   },
   {
    "duration": 6,
    "start_time": "2021-07-14T14:19:10.873Z"
   },
   {
    "duration": 1226,
    "start_time": "2021-07-14T14:19:37.226Z"
   },
   {
    "duration": 568,
    "start_time": "2021-07-14T14:19:38.454Z"
   },
   {
    "duration": 5,
    "start_time": "2021-07-14T14:19:39.024Z"
   },
   {
    "duration": 24,
    "start_time": "2021-07-14T14:19:39.031Z"
   },
   {
    "duration": 133,
    "start_time": "2021-07-14T14:19:39.057Z"
   },
   {
    "duration": 114,
    "start_time": "2021-07-14T14:19:39.192Z"
   },
   {
    "duration": 273,
    "start_time": "2021-07-14T14:19:39.307Z"
   },
   {
    "duration": 276,
    "start_time": "2021-07-14T14:19:39.582Z"
   },
   {
    "duration": 280,
    "start_time": "2021-07-14T14:19:39.860Z"
   },
   {
    "duration": 90,
    "start_time": "2021-07-14T14:19:40.142Z"
   },
   {
    "duration": 1628,
    "start_time": "2021-07-14T14:19:40.241Z"
   },
   {
    "duration": 5,
    "start_time": "2021-07-14T14:19:41.871Z"
   },
   {
    "duration": 6,
    "start_time": "2021-07-14T14:19:41.878Z"
   },
   {
    "duration": 5,
    "start_time": "2021-07-14T14:19:41.885Z"
   },
   {
    "duration": 273,
    "start_time": "2021-07-14T14:19:41.891Z"
   },
   {
    "duration": 4,
    "start_time": "2021-07-14T14:19:42.165Z"
   },
   {
    "duration": 20,
    "start_time": "2021-07-14T14:19:42.170Z"
   },
   {
    "duration": 5,
    "start_time": "2021-07-14T14:19:42.191Z"
   },
   {
    "duration": 108,
    "start_time": "2021-07-14T14:19:42.197Z"
   },
   {
    "duration": 3,
    "start_time": "2021-07-14T14:19:42.306Z"
   },
   {
    "duration": 153,
    "start_time": "2021-07-14T14:19:42.310Z"
   },
   {
    "duration": 3,
    "start_time": "2021-07-14T14:19:42.465Z"
   },
   {
    "duration": 442,
    "start_time": "2021-07-14T14:19:42.469Z"
   },
   {
    "duration": 160,
    "start_time": "2021-07-14T14:19:42.913Z"
   },
   {
    "duration": 188,
    "start_time": "2021-07-14T14:19:43.075Z"
   },
   {
    "duration": 198,
    "start_time": "2021-07-14T14:19:43.264Z"
   },
   {
    "duration": 1302,
    "start_time": "2021-07-14T14:19:43.466Z"
   },
   {
    "duration": 3,
    "start_time": "2021-07-14T14:19:44.770Z"
   },
   {
    "duration": 14,
    "start_time": "2021-07-14T14:19:44.775Z"
   },
   {
    "duration": 11,
    "start_time": "2021-07-14T14:19:44.790Z"
   },
   {
    "duration": 74,
    "start_time": "2021-07-14T14:19:44.803Z"
   },
   {
    "duration": 21,
    "start_time": "2021-07-14T14:19:44.879Z"
   },
   {
    "duration": 41,
    "start_time": "2021-07-14T14:19:44.901Z"
   },
   {
    "duration": 99,
    "start_time": "2021-07-14T14:19:44.943Z"
   },
   {
    "duration": 6,
    "start_time": "2021-07-14T14:19:45.043Z"
   },
   {
    "duration": 10,
    "start_time": "2021-07-14T14:19:45.051Z"
   },
   {
    "duration": 12,
    "start_time": "2021-07-14T14:19:45.063Z"
   },
   {
    "duration": 12,
    "start_time": "2021-07-14T14:19:45.077Z"
   },
   {
    "duration": 14,
    "start_time": "2021-07-14T14:19:45.091Z"
   },
   {
    "duration": 57,
    "start_time": "2021-07-14T14:19:45.106Z"
   },
   {
    "duration": 10,
    "start_time": "2021-07-14T14:19:45.164Z"
   },
   {
    "duration": 19,
    "start_time": "2021-07-14T14:19:45.175Z"
   },
   {
    "duration": 10,
    "start_time": "2021-07-14T14:19:45.196Z"
   },
   {
    "duration": 54,
    "start_time": "2021-07-14T14:19:45.207Z"
   },
   {
    "duration": 226,
    "start_time": "2021-07-14T14:19:45.263Z"
   },
   {
    "duration": 218,
    "start_time": "2021-07-14T14:19:45.491Z"
   },
   {
    "duration": 64,
    "start_time": "2021-07-14T14:19:45.710Z"
   },
   {
    "duration": 3,
    "start_time": "2021-07-14T14:19:45.775Z"
   },
   {
    "duration": 7,
    "start_time": "2021-07-14T14:19:45.780Z"
   },
   {
    "duration": 196,
    "start_time": "2021-07-14T14:19:45.788Z"
   },
   {
    "duration": 1196,
    "start_time": "2021-07-14T14:19:45.986Z"
   },
   {
    "duration": 1037,
    "start_time": "2021-07-14T14:19:47.184Z"
   },
   {
    "duration": 128,
    "start_time": "2021-07-14T14:19:48.223Z"
   },
   {
    "duration": 24,
    "start_time": "2021-07-14T14:19:48.352Z"
   },
   {
    "duration": 4,
    "start_time": "2021-07-14T14:19:48.377Z"
   },
   {
    "duration": 10,
    "start_time": "2021-07-14T14:19:48.382Z"
   },
   {
    "duration": 24,
    "start_time": "2021-07-14T14:19:48.393Z"
   },
   {
    "duration": 32,
    "start_time": "2021-07-14T14:19:48.418Z"
   },
   {
    "duration": 97,
    "start_time": "2021-07-14T14:19:48.452Z"
   },
   {
    "duration": 115,
    "start_time": "2021-07-14T14:19:48.550Z"
   },
   {
    "duration": 17,
    "start_time": "2021-07-14T14:19:48.666Z"
   },
   {
    "duration": 3,
    "start_time": "2021-07-14T14:19:48.685Z"
   },
   {
    "duration": 6,
    "start_time": "2021-07-14T14:19:48.689Z"
   },
   {
    "duration": 76,
    "start_time": "2021-07-14T14:19:48.697Z"
   },
   {
    "duration": 17,
    "start_time": "2021-07-14T14:19:48.774Z"
   },
   {
    "duration": 3,
    "start_time": "2021-07-14T14:19:48.793Z"
   },
   {
    "duration": 1338,
    "start_time": "2021-07-14T14:19:48.798Z"
   },
   {
    "duration": 69,
    "start_time": "2021-07-14T14:19:50.140Z"
   },
   {
    "duration": 5,
    "start_time": "2021-07-14T14:19:50.211Z"
   },
   {
    "duration": 26,
    "start_time": "2021-07-14T14:19:50.217Z"
   },
   {
    "duration": 122,
    "start_time": "2021-07-14T14:19:50.245Z"
   },
   {
    "duration": 2,
    "start_time": "2021-07-14T14:20:12.178Z"
   },
   {
    "duration": 628,
    "start_time": "2021-07-14T14:20:14.616Z"
   },
   {
    "duration": 5,
    "start_time": "2021-07-14T14:20:30.839Z"
   },
   {
    "duration": 2,
    "start_time": "2021-07-14T14:20:31.301Z"
   },
   {
    "duration": 1240,
    "start_time": "2021-07-14T14:20:32.141Z"
   },
   {
    "duration": 4,
    "start_time": "2021-07-14T14:21:19.288Z"
   },
   {
    "duration": 2,
    "start_time": "2021-07-14T14:21:19.607Z"
   },
   {
    "duration": 1847,
    "start_time": "2021-07-14T14:21:19.930Z"
   },
   {
    "duration": 1775,
    "start_time": "2021-07-14T14:22:30.471Z"
   },
   {
    "duration": 92,
    "start_time": "2021-07-14T14:22:37.576Z"
   },
   {
    "duration": 4,
    "start_time": "2021-07-14T14:23:11.463Z"
   },
   {
    "duration": 3,
    "start_time": "2021-07-14T14:23:14.778Z"
   },
   {
    "duration": 2000,
    "start_time": "2021-07-14T14:23:16.424Z"
   },
   {
    "duration": 262,
    "start_time": "2021-07-14T14:24:12.811Z"
   },
   {
    "duration": 1941,
    "start_time": "2021-07-14T14:24:23.413Z"
   },
   {
    "duration": 5,
    "start_time": "2021-07-14T14:25:14.713Z"
   },
   {
    "duration": 2,
    "start_time": "2021-07-14T14:25:15.604Z"
   },
   {
    "duration": 2086,
    "start_time": "2021-07-14T14:25:17.045Z"
   },
   {
    "duration": 5,
    "start_time": "2021-07-14T14:25:35.446Z"
   },
   {
    "duration": 3,
    "start_time": "2021-07-14T14:25:35.790Z"
   },
   {
    "duration": 1685,
    "start_time": "2021-07-14T14:25:36.557Z"
   },
   {
    "duration": 5,
    "start_time": "2021-07-14T14:26:11.220Z"
   },
   {
    "duration": 15,
    "start_time": "2021-07-14T14:26:11.227Z"
   },
   {
    "duration": 1516,
    "start_time": "2021-07-14T14:26:11.243Z"
   },
   {
    "duration": 268,
    "start_time": "2021-07-14T14:28:49.905Z"
   },
   {
    "duration": 534,
    "start_time": "2021-07-14T14:28:57.362Z"
   },
   {
    "duration": 129020,
    "start_time": "2021-07-14T14:29:25.641Z"
   },
   {
    "duration": 5,
    "start_time": "2021-07-14T14:39:09.530Z"
   },
   {
    "duration": 5,
    "start_time": "2021-07-14T14:48:51.838Z"
   },
   {
    "duration": 24128,
    "start_time": "2021-07-14T14:53:06.192Z"
   },
   {
    "duration": 598,
    "start_time": "2021-07-14T14:55:58.541Z"
   },
   {
    "duration": 20853,
    "start_time": "2021-07-14T14:56:17.383Z"
   },
   {
    "duration": 19169,
    "start_time": "2021-07-14T14:58:31.751Z"
   },
   {
    "duration": 58397,
    "start_time": "2021-07-14T15:02:34.781Z"
   },
   {
    "duration": 73518,
    "start_time": "2021-07-14T15:05:13.343Z"
   },
   {
    "duration": 5,
    "start_time": "2021-07-14T15:06:56.621Z"
   },
   {
    "duration": 188270,
    "start_time": "2021-07-14T15:07:00.826Z"
   },
   {
    "duration": 2123,
    "start_time": "2021-07-14T15:13:59.918Z"
   },
   {
    "duration": 921674,
    "start_time": "2021-07-14T15:14:14.015Z"
   },
   {
    "duration": 4,
    "start_time": "2021-07-14T15:41:23.612Z"
   },
   {
    "duration": 24379,
    "start_time": "2021-07-14T15:41:28.627Z"
   },
   {
    "duration": 132698,
    "start_time": "2021-07-14T15:42:18.255Z"
   },
   {
    "duration": 4,
    "start_time": "2021-07-14T15:44:52.114Z"
   },
   {
    "duration": 39992,
    "start_time": "2021-07-14T15:45:09.464Z"
   },
   {
    "duration": 4,
    "start_time": "2021-07-14T15:46:03.117Z"
   },
   {
    "duration": 40421,
    "start_time": "2021-07-14T15:50:25.941Z"
   },
   {
    "duration": 4,
    "start_time": "2021-07-14T15:51:45.323Z"
   },
   {
    "duration": 5,
    "start_time": "2021-07-14T16:00:52.568Z"
   },
   {
    "duration": 5,
    "start_time": "2021-07-14T16:00:59.044Z"
   },
   {
    "duration": 86,
    "start_time": "2021-07-14T16:01:01.655Z"
   },
   {
    "duration": 81,
    "start_time": "2021-07-14T16:01:16.957Z"
   },
   {
    "duration": 4,
    "start_time": "2021-07-14T16:01:19.114Z"
   },
   {
    "duration": 1894,
    "start_time": "2021-07-14T16:01:38.452Z"
   },
   {
    "duration": 932905,
    "start_time": "2021-07-14T16:01:57.653Z"
   },
   {
    "duration": 36363,
    "start_time": "2021-07-14T16:27:22.193Z"
   },
   {
    "duration": 5,
    "start_time": "2021-07-14T16:29:19.905Z"
   },
   {
    "duration": 4,
    "start_time": "2021-07-14T16:29:48.582Z"
   },
   {
    "duration": 126320,
    "start_time": "2021-07-14T16:30:15.863Z"
   },
   {
    "duration": 3,
    "start_time": "2021-07-14T16:32:45.445Z"
   },
   {
    "duration": 128101,
    "start_time": "2021-07-14T16:35:31.194Z"
   },
   {
    "duration": 3,
    "start_time": "2021-07-14T16:38:38.290Z"
   },
   {
    "duration": 89,
    "start_time": "2021-07-14T16:40:27.873Z"
   },
   {
    "duration": 8,
    "start_time": "2021-07-14T16:40:33.456Z"
   },
   {
    "duration": 4,
    "start_time": "2021-07-14T16:44:15.331Z"
   },
   {
    "duration": 7,
    "start_time": "2021-07-14T16:44:17.270Z"
   },
   {
    "duration": 2,
    "start_time": "2021-07-14T16:47:08.758Z"
   },
   {
    "duration": 362,
    "start_time": "2021-07-14T16:48:39.981Z"
   },
   {
    "duration": 3,
    "start_time": "2021-07-14T17:01:30.863Z"
   },
   {
    "duration": 398,
    "start_time": "2021-07-14T17:02:29.545Z"
   },
   {
    "duration": 400,
    "start_time": "2021-07-14T17:02:50.244Z"
   },
   {
    "duration": 4,
    "start_time": "2021-07-14T17:30:21.199Z"
   },
   {
    "duration": 5,
    "start_time": "2021-07-14T17:30:58.865Z"
   },
   {
    "duration": 5,
    "start_time": "2021-07-14T17:31:06.696Z"
   },
   {
    "duration": 1121,
    "start_time": "2021-07-15T11:22:03.675Z"
   },
   {
    "duration": 867,
    "start_time": "2021-07-15T11:22:04.797Z"
   },
   {
    "duration": 5,
    "start_time": "2021-07-15T11:22:05.665Z"
   },
   {
    "duration": 27,
    "start_time": "2021-07-15T11:22:05.671Z"
   },
   {
    "duration": 108,
    "start_time": "2021-07-15T11:22:05.699Z"
   },
   {
    "duration": 103,
    "start_time": "2021-07-15T11:22:05.808Z"
   },
   {
    "duration": 266,
    "start_time": "2021-07-15T11:22:05.913Z"
   },
   {
    "duration": 258,
    "start_time": "2021-07-15T11:22:06.181Z"
   },
   {
    "duration": 271,
    "start_time": "2021-07-15T11:22:06.441Z"
   },
   {
    "duration": 92,
    "start_time": "2021-07-15T11:22:06.713Z"
   },
   {
    "duration": 1588,
    "start_time": "2021-07-15T11:22:06.807Z"
   },
   {
    "duration": 5,
    "start_time": "2021-07-15T11:22:08.396Z"
   },
   {
    "duration": 16,
    "start_time": "2021-07-15T11:22:08.403Z"
   },
   {
    "duration": 14,
    "start_time": "2021-07-15T11:22:08.421Z"
   },
   {
    "duration": 237,
    "start_time": "2021-07-15T11:22:08.437Z"
   },
   {
    "duration": 3,
    "start_time": "2021-07-15T11:22:08.676Z"
   },
   {
    "duration": 26,
    "start_time": "2021-07-15T11:22:08.680Z"
   },
   {
    "duration": 3,
    "start_time": "2021-07-15T11:22:08.708Z"
   },
   {
    "duration": 84,
    "start_time": "2021-07-15T11:22:08.713Z"
   },
   {
    "duration": 3,
    "start_time": "2021-07-15T11:22:08.799Z"
   },
   {
    "duration": 153,
    "start_time": "2021-07-15T11:22:08.803Z"
   },
   {
    "duration": 3,
    "start_time": "2021-07-15T11:22:08.958Z"
   },
   {
    "duration": 431,
    "start_time": "2021-07-15T11:22:08.964Z"
   },
   {
    "duration": 149,
    "start_time": "2021-07-15T11:22:09.398Z"
   },
   {
    "duration": 193,
    "start_time": "2021-07-15T11:22:09.548Z"
   },
   {
    "duration": 196,
    "start_time": "2021-07-15T11:22:09.742Z"
   },
   {
    "duration": 1214,
    "start_time": "2021-07-15T11:22:09.940Z"
   },
   {
    "duration": 4,
    "start_time": "2021-07-15T11:22:11.156Z"
   },
   {
    "duration": 15,
    "start_time": "2021-07-15T11:22:11.161Z"
   },
   {
    "duration": 10,
    "start_time": "2021-07-15T11:22:11.191Z"
   },
   {
    "duration": 39,
    "start_time": "2021-07-15T11:22:11.203Z"
   },
   {
    "duration": 22,
    "start_time": "2021-07-15T11:22:11.244Z"
   },
   {
    "duration": 42,
    "start_time": "2021-07-15T11:22:11.267Z"
   },
   {
    "duration": 100,
    "start_time": "2021-07-15T11:22:11.311Z"
   },
   {
    "duration": 6,
    "start_time": "2021-07-15T11:22:11.413Z"
   },
   {
    "duration": 9,
    "start_time": "2021-07-15T11:22:11.420Z"
   },
   {
    "duration": 16,
    "start_time": "2021-07-15T11:22:11.431Z"
   },
   {
    "duration": 13,
    "start_time": "2021-07-15T11:22:11.448Z"
   },
   {
    "duration": 30,
    "start_time": "2021-07-15T11:22:11.463Z"
   },
   {
    "duration": 25,
    "start_time": "2021-07-15T11:22:11.494Z"
   },
   {
    "duration": 11,
    "start_time": "2021-07-15T11:22:11.521Z"
   },
   {
    "duration": 20,
    "start_time": "2021-07-15T11:22:11.533Z"
   },
   {
    "duration": 42,
    "start_time": "2021-07-15T11:22:11.555Z"
   },
   {
    "duration": 21,
    "start_time": "2021-07-15T11:22:11.599Z"
   },
   {
    "duration": 189,
    "start_time": "2021-07-15T11:22:11.622Z"
   },
   {
    "duration": 211,
    "start_time": "2021-07-15T11:22:11.813Z"
   },
   {
    "duration": 66,
    "start_time": "2021-07-15T11:22:12.026Z"
   },
   {
    "duration": 4,
    "start_time": "2021-07-15T11:22:12.094Z"
   },
   {
    "duration": 10,
    "start_time": "2021-07-15T11:22:12.099Z"
   },
   {
    "duration": 177,
    "start_time": "2021-07-15T11:22:12.110Z"
   },
   {
    "duration": 1128,
    "start_time": "2021-07-15T11:22:12.289Z"
   },
   {
    "duration": 1024,
    "start_time": "2021-07-15T11:22:13.419Z"
   },
   {
    "duration": 128,
    "start_time": "2021-07-15T11:22:14.445Z"
   },
   {
    "duration": 36,
    "start_time": "2021-07-15T11:22:14.575Z"
   },
   {
    "duration": 3,
    "start_time": "2021-07-15T11:22:14.613Z"
   },
   {
    "duration": 6,
    "start_time": "2021-07-15T11:22:14.617Z"
   },
   {
    "duration": 13,
    "start_time": "2021-07-15T11:22:14.624Z"
   },
   {
    "duration": 16,
    "start_time": "2021-07-15T11:22:14.639Z"
   },
   {
    "duration": 105,
    "start_time": "2021-07-15T11:22:14.657Z"
   },
   {
    "duration": 112,
    "start_time": "2021-07-15T11:22:14.764Z"
   },
   {
    "duration": 20,
    "start_time": "2021-07-15T11:22:14.878Z"
   },
   {
    "duration": 2,
    "start_time": "2021-07-15T11:22:14.900Z"
   },
   {
    "duration": 5,
    "start_time": "2021-07-15T11:22:14.904Z"
   },
   {
    "duration": 53,
    "start_time": "2021-07-15T11:22:14.910Z"
   },
   {
    "duration": 32,
    "start_time": "2021-07-15T11:22:14.965Z"
   },
   {
    "duration": 4,
    "start_time": "2021-07-15T11:22:14.999Z"
   },
   {
    "duration": 1281,
    "start_time": "2021-07-15T11:22:15.005Z"
   },
   {
    "duration": 74,
    "start_time": "2021-07-15T11:22:16.291Z"
   },
   {
    "duration": 4,
    "start_time": "2021-07-15T11:22:16.367Z"
   },
   {
    "duration": 19,
    "start_time": "2021-07-15T11:22:16.372Z"
   },
   {
    "duration": 5,
    "start_time": "2021-07-15T11:22:16.393Z"
   },
   {
    "duration": 2499,
    "start_time": "2021-07-15T11:22:16.400Z"
   },
   {
    "duration": 975195,
    "start_time": "2021-07-15T11:22:18.901Z"
   },
   {
    "duration": 120005,
    "start_time": "2021-07-15T11:38:34.097Z"
   },
   {
    "duration": 3,
    "start_time": "2021-07-15T11:40:34.104Z"
   },
   {
    "duration": 20,
    "start_time": "2021-07-15T11:40:34.109Z"
   },
   {
    "duration": 84,
    "start_time": "2021-07-15T11:40:34.130Z"
   },
   {
    "duration": -11,
    "start_time": "2021-07-15T11:40:34.227Z"
   },
   {
    "duration": -13,
    "start_time": "2021-07-15T11:40:34.230Z"
   },
   {
    "duration": 1098,
    "start_time": "2021-07-15T12:12:43.332Z"
   },
   {
    "duration": 576,
    "start_time": "2021-07-15T12:12:44.431Z"
   },
   {
    "duration": 5,
    "start_time": "2021-07-15T12:12:45.009Z"
   },
   {
    "duration": 17,
    "start_time": "2021-07-15T12:12:45.016Z"
   },
   {
    "duration": 120,
    "start_time": "2021-07-15T12:12:45.035Z"
   },
   {
    "duration": 115,
    "start_time": "2021-07-15T12:12:45.157Z"
   },
   {
    "duration": 283,
    "start_time": "2021-07-15T12:12:45.273Z"
   },
   {
    "duration": 287,
    "start_time": "2021-07-15T12:12:45.558Z"
   },
   {
    "duration": 299,
    "start_time": "2021-07-15T12:12:45.847Z"
   },
   {
    "duration": 95,
    "start_time": "2021-07-15T12:12:46.148Z"
   },
   {
    "duration": 1708,
    "start_time": "2021-07-15T12:12:46.245Z"
   },
   {
    "duration": 7,
    "start_time": "2021-07-15T12:12:47.956Z"
   },
   {
    "duration": 5,
    "start_time": "2021-07-15T12:12:47.965Z"
   },
   {
    "duration": 22,
    "start_time": "2021-07-15T12:12:47.971Z"
   },
   {
    "duration": 251,
    "start_time": "2021-07-15T12:12:47.995Z"
   },
   {
    "duration": 3,
    "start_time": "2021-07-15T12:12:48.247Z"
   },
   {
    "duration": 21,
    "start_time": "2021-07-15T12:12:48.252Z"
   },
   {
    "duration": 3,
    "start_time": "2021-07-15T12:12:48.275Z"
   },
   {
    "duration": 81,
    "start_time": "2021-07-15T12:12:48.291Z"
   },
   {
    "duration": 3,
    "start_time": "2021-07-15T12:12:48.373Z"
   },
   {
    "duration": 159,
    "start_time": "2021-07-15T12:12:48.377Z"
   },
   {
    "duration": 3,
    "start_time": "2021-07-15T12:12:48.537Z"
   },
   {
    "duration": 429,
    "start_time": "2021-07-15T12:12:48.544Z"
   },
   {
    "duration": 144,
    "start_time": "2021-07-15T12:12:48.975Z"
   },
   {
    "duration": 198,
    "start_time": "2021-07-15T12:12:49.120Z"
   },
   {
    "duration": 207,
    "start_time": "2021-07-15T12:12:49.320Z"
   },
   {
    "duration": 1222,
    "start_time": "2021-07-15T12:12:49.528Z"
   },
   {
    "duration": 3,
    "start_time": "2021-07-15T12:12:50.752Z"
   },
   {
    "duration": 19,
    "start_time": "2021-07-15T12:12:50.756Z"
   },
   {
    "duration": 24,
    "start_time": "2021-07-15T12:12:50.776Z"
   },
   {
    "duration": 44,
    "start_time": "2021-07-15T12:12:50.801Z"
   },
   {
    "duration": 24,
    "start_time": "2021-07-15T12:12:50.846Z"
   },
   {
    "duration": 40,
    "start_time": "2021-07-15T12:12:50.872Z"
   },
   {
    "duration": 99,
    "start_time": "2021-07-15T12:12:50.913Z"
   },
   {
    "duration": 7,
    "start_time": "2021-07-15T12:12:51.013Z"
   },
   {
    "duration": 11,
    "start_time": "2021-07-15T12:12:51.021Z"
   },
   {
    "duration": 20,
    "start_time": "2021-07-15T12:12:51.033Z"
   },
   {
    "duration": 15,
    "start_time": "2021-07-15T12:12:51.055Z"
   },
   {
    "duration": 27,
    "start_time": "2021-07-15T12:12:51.072Z"
   },
   {
    "duration": 24,
    "start_time": "2021-07-15T12:12:51.101Z"
   },
   {
    "duration": 10,
    "start_time": "2021-07-15T12:12:51.126Z"
   },
   {
    "duration": 22,
    "start_time": "2021-07-15T12:12:51.137Z"
   },
   {
    "duration": 39,
    "start_time": "2021-07-15T12:12:51.160Z"
   },
   {
    "duration": 22,
    "start_time": "2021-07-15T12:12:51.200Z"
   },
   {
    "duration": 195,
    "start_time": "2021-07-15T12:12:51.224Z"
   },
   {
    "duration": 215,
    "start_time": "2021-07-15T12:12:51.420Z"
   },
   {
    "duration": 70,
    "start_time": "2021-07-15T12:12:51.636Z"
   },
   {
    "duration": 4,
    "start_time": "2021-07-15T12:12:51.708Z"
   },
   {
    "duration": 13,
    "start_time": "2021-07-15T12:12:51.713Z"
   },
   {
    "duration": 183,
    "start_time": "2021-07-15T12:12:51.727Z"
   },
   {
    "duration": 1175,
    "start_time": "2021-07-15T12:12:51.912Z"
   },
   {
    "duration": 1124,
    "start_time": "2021-07-15T12:12:53.088Z"
   },
   {
    "duration": 137,
    "start_time": "2021-07-15T12:12:54.213Z"
   },
   {
    "duration": 27,
    "start_time": "2021-07-15T12:12:54.352Z"
   },
   {
    "duration": 11,
    "start_time": "2021-07-15T12:12:54.381Z"
   },
   {
    "duration": 7,
    "start_time": "2021-07-15T12:12:54.394Z"
   },
   {
    "duration": 15,
    "start_time": "2021-07-15T12:12:54.402Z"
   },
   {
    "duration": 19,
    "start_time": "2021-07-15T12:12:54.418Z"
   },
   {
    "duration": 120,
    "start_time": "2021-07-15T12:12:54.439Z"
   },
   {
    "duration": 127,
    "start_time": "2021-07-15T12:12:54.561Z"
   },
   {
    "duration": 19,
    "start_time": "2021-07-15T12:12:54.689Z"
   },
   {
    "duration": 7,
    "start_time": "2021-07-15T12:12:54.710Z"
   },
   {
    "duration": 7,
    "start_time": "2021-07-15T12:12:54.718Z"
   },
   {
    "duration": 74,
    "start_time": "2021-07-15T12:12:54.727Z"
   },
   {
    "duration": 18,
    "start_time": "2021-07-15T12:12:54.802Z"
   },
   {
    "duration": 4,
    "start_time": "2021-07-15T12:12:54.822Z"
   },
   {
    "duration": 1481,
    "start_time": "2021-07-15T12:12:54.828Z"
   },
   {
    "duration": 102,
    "start_time": "2021-07-15T12:12:56.316Z"
   },
   {
    "duration": 4,
    "start_time": "2021-07-15T12:12:56.420Z"
   },
   {
    "duration": 11,
    "start_time": "2021-07-15T12:12:56.425Z"
   },
   {
    "duration": 5,
    "start_time": "2021-07-15T12:12:56.438Z"
   },
   {
    "duration": 2665,
    "start_time": "2021-07-15T12:12:56.445Z"
   },
   {
    "duration": 961166,
    "start_time": "2021-07-15T12:12:59.112Z"
   },
   {
    "duration": 129868,
    "start_time": "2021-07-15T12:29:00.279Z"
   },
   {
    "duration": 4,
    "start_time": "2021-07-15T12:31:10.149Z"
   },
   {
    "duration": 49,
    "start_time": "2021-07-15T12:31:10.155Z"
   },
   {
    "duration": 4,
    "start_time": "2021-07-15T12:31:10.206Z"
   },
   {
    "duration": 390,
    "start_time": "2021-07-15T12:31:10.211Z"
   },
   {
    "duration": 8,
    "start_time": "2021-07-17T06:03:40.041Z"
   },
   {
    "duration": 1143,
    "start_time": "2021-07-17T06:08:40.153Z"
   },
   {
    "duration": 61,
    "start_time": "2021-07-17T06:11:49.720Z"
   },
   {
    "duration": 6,
    "start_time": "2021-07-17T06:12:04.943Z"
   },
   {
    "duration": 4,
    "start_time": "2021-07-17T06:12:09.545Z"
   },
   {
    "duration": 632,
    "start_time": "2021-07-17T06:12:09.550Z"
   },
   {
    "duration": 4,
    "start_time": "2021-07-17T06:12:10.184Z"
   },
   {
    "duration": 15,
    "start_time": "2021-07-17T06:12:10.190Z"
   },
   {
    "duration": 126,
    "start_time": "2021-07-17T06:12:10.206Z"
   },
   {
    "duration": 112,
    "start_time": "2021-07-17T06:12:10.334Z"
   },
   {
    "duration": 338,
    "start_time": "2021-07-17T06:12:10.448Z"
   },
   {
    "duration": 338,
    "start_time": "2021-07-17T06:12:10.788Z"
   },
   {
    "duration": 342,
    "start_time": "2021-07-17T06:12:11.128Z"
   },
   {
    "duration": 99,
    "start_time": "2021-07-17T06:12:11.471Z"
   },
   {
    "duration": 1697,
    "start_time": "2021-07-17T06:12:11.572Z"
   },
   {
    "duration": 14,
    "start_time": "2021-07-17T06:12:13.271Z"
   },
   {
    "duration": 4,
    "start_time": "2021-07-17T06:12:13.287Z"
   },
   {
    "duration": 5,
    "start_time": "2021-07-17T06:12:13.293Z"
   },
   {
    "duration": 317,
    "start_time": "2021-07-17T06:12:13.300Z"
   },
   {
    "duration": 4,
    "start_time": "2021-07-17T06:12:13.619Z"
   },
   {
    "duration": 21,
    "start_time": "2021-07-17T06:12:13.625Z"
   },
   {
    "duration": 4,
    "start_time": "2021-07-17T06:12:13.647Z"
   },
   {
    "duration": 100,
    "start_time": "2021-07-17T06:12:13.653Z"
   },
   {
    "duration": 3,
    "start_time": "2021-07-17T06:12:13.754Z"
   },
   {
    "duration": 160,
    "start_time": "2021-07-17T06:12:13.759Z"
   },
   {
    "duration": 3,
    "start_time": "2021-07-17T06:12:13.921Z"
   },
   {
    "duration": 466,
    "start_time": "2021-07-17T06:12:13.926Z"
   },
   {
    "duration": 6,
    "start_time": "2021-07-17T06:12:14.394Z"
   },
   {
    "duration": 265,
    "start_time": "2021-07-17T06:13:36.323Z"
   },
   {
    "duration": 138953,
    "start_time": "2021-07-17T06:13:49.853Z"
   },
   {
    "duration": 6,
    "start_time": "2021-07-17T06:16:39.907Z"
   },
   {
    "duration": 20132,
    "start_time": "2021-07-17T06:16:40.707Z"
   },
   {
    "duration": 31987,
    "start_time": "2021-07-17T06:17:38.319Z"
   },
   {
    "duration": 1171,
    "start_time": "2021-07-17T06:18:15.669Z"
   },
   {
    "duration": 615,
    "start_time": "2021-07-17T06:18:16.842Z"
   },
   {
    "duration": 5,
    "start_time": "2021-07-17T06:18:17.459Z"
   },
   {
    "duration": 29,
    "start_time": "2021-07-17T06:18:17.466Z"
   },
   {
    "duration": 123,
    "start_time": "2021-07-17T06:18:17.496Z"
   },
   {
    "duration": 116,
    "start_time": "2021-07-17T06:18:17.621Z"
   },
   {
    "duration": 296,
    "start_time": "2021-07-17T06:18:17.739Z"
   },
   {
    "duration": 299,
    "start_time": "2021-07-17T06:18:18.037Z"
   },
   {
    "duration": 306,
    "start_time": "2021-07-17T06:18:18.339Z"
   },
   {
    "duration": 104,
    "start_time": "2021-07-17T06:18:18.647Z"
   },
   {
    "duration": 1675,
    "start_time": "2021-07-17T06:18:18.753Z"
   },
   {
    "duration": 6,
    "start_time": "2021-07-17T06:18:20.430Z"
   },
   {
    "duration": 7,
    "start_time": "2021-07-17T06:18:20.437Z"
   },
   {
    "duration": 6,
    "start_time": "2021-07-17T06:18:20.445Z"
   },
   {
    "duration": 292,
    "start_time": "2021-07-17T06:18:20.453Z"
   },
   {
    "duration": 3,
    "start_time": "2021-07-17T06:18:20.747Z"
   },
   {
    "duration": 24,
    "start_time": "2021-07-17T06:18:20.752Z"
   },
   {
    "duration": 8,
    "start_time": "2021-07-17T06:18:20.778Z"
   },
   {
    "duration": 98,
    "start_time": "2021-07-17T06:18:20.788Z"
   },
   {
    "duration": 3,
    "start_time": "2021-07-17T06:18:20.888Z"
   },
   {
    "duration": 162,
    "start_time": "2021-07-17T06:18:20.893Z"
   },
   {
    "duration": 4,
    "start_time": "2021-07-17T06:18:21.056Z"
   },
   {
    "duration": 216,
    "start_time": "2021-07-17T06:18:21.061Z"
   },
   {
    "duration": 10,
    "start_time": "2021-07-17T06:18:21.279Z"
   },
   {
    "duration": 591,
    "start_time": "2021-07-17T06:18:25.644Z"
   },
   {
    "duration": 6,
    "start_time": "2021-07-17T06:19:12.469Z"
   },
   {
    "duration": 18468,
    "start_time": "2021-07-17T06:19:12.818Z"
   },
   {
    "duration": 1067,
    "start_time": "2021-07-17T06:21:55.140Z"
   },
   {
    "duration": 624,
    "start_time": "2021-07-17T06:21:56.209Z"
   },
   {
    "duration": 5,
    "start_time": "2021-07-17T06:21:56.835Z"
   },
   {
    "duration": 15,
    "start_time": "2021-07-17T06:21:56.842Z"
   },
   {
    "duration": 116,
    "start_time": "2021-07-17T06:21:56.858Z"
   },
   {
    "duration": 118,
    "start_time": "2021-07-17T06:21:56.976Z"
   },
   {
    "duration": 295,
    "start_time": "2021-07-17T06:21:57.096Z"
   },
   {
    "duration": 316,
    "start_time": "2021-07-17T06:21:57.393Z"
   },
   {
    "duration": 331,
    "start_time": "2021-07-17T06:21:57.712Z"
   },
   {
    "duration": 100,
    "start_time": "2021-07-17T06:21:58.044Z"
   },
   {
    "duration": 1688,
    "start_time": "2021-07-17T06:21:58.146Z"
   },
   {
    "duration": 6,
    "start_time": "2021-07-17T06:21:59.836Z"
   },
   {
    "duration": 6,
    "start_time": "2021-07-17T06:21:59.843Z"
   },
   {
    "duration": 5,
    "start_time": "2021-07-17T06:21:59.850Z"
   },
   {
    "duration": 293,
    "start_time": "2021-07-17T06:21:59.857Z"
   },
   {
    "duration": 4,
    "start_time": "2021-07-17T06:22:00.151Z"
   },
   {
    "duration": 31,
    "start_time": "2021-07-17T06:22:00.156Z"
   },
   {
    "duration": 4,
    "start_time": "2021-07-17T06:22:00.188Z"
   },
   {
    "duration": 97,
    "start_time": "2021-07-17T06:22:00.194Z"
   },
   {
    "duration": 3,
    "start_time": "2021-07-17T06:22:00.292Z"
   },
   {
    "duration": 175,
    "start_time": "2021-07-17T06:22:00.297Z"
   },
   {
    "duration": 3,
    "start_time": "2021-07-17T06:22:00.473Z"
   },
   {
    "duration": 208,
    "start_time": "2021-07-17T06:22:00.485Z"
   },
   {
    "duration": 6,
    "start_time": "2021-07-17T06:22:00.695Z"
   },
   {
    "duration": 1125,
    "start_time": "2021-07-17T06:24:55.049Z"
   },
   {
    "duration": 621,
    "start_time": "2021-07-17T06:24:56.176Z"
   },
   {
    "duration": 5,
    "start_time": "2021-07-17T06:24:56.799Z"
   },
   {
    "duration": 15,
    "start_time": "2021-07-17T06:24:56.806Z"
   },
   {
    "duration": 112,
    "start_time": "2021-07-17T06:24:56.823Z"
   },
   {
    "duration": 117,
    "start_time": "2021-07-17T06:24:56.937Z"
   },
   {
    "duration": 295,
    "start_time": "2021-07-17T06:24:57.055Z"
   },
   {
    "duration": 294,
    "start_time": "2021-07-17T06:24:57.352Z"
   },
   {
    "duration": 306,
    "start_time": "2021-07-17T06:24:57.649Z"
   },
   {
    "duration": 104,
    "start_time": "2021-07-17T06:24:57.957Z"
   },
   {
    "duration": 1638,
    "start_time": "2021-07-17T06:24:58.063Z"
   },
   {
    "duration": 6,
    "start_time": "2021-07-17T06:24:59.703Z"
   },
   {
    "duration": 15,
    "start_time": "2021-07-17T06:24:59.710Z"
   },
   {
    "duration": 9,
    "start_time": "2021-07-17T06:24:59.726Z"
   },
   {
    "duration": 278,
    "start_time": "2021-07-17T06:24:59.737Z"
   },
   {
    "duration": 3,
    "start_time": "2021-07-17T06:25:00.017Z"
   },
   {
    "duration": 28,
    "start_time": "2021-07-17T06:25:00.021Z"
   },
   {
    "duration": 12,
    "start_time": "2021-07-17T06:25:00.051Z"
   },
   {
    "duration": 115,
    "start_time": "2021-07-17T06:25:00.065Z"
   },
   {
    "duration": 2,
    "start_time": "2021-07-17T06:25:00.182Z"
   },
   {
    "duration": 158,
    "start_time": "2021-07-17T06:25:00.186Z"
   },
   {
    "duration": 3,
    "start_time": "2021-07-17T06:25:00.346Z"
   },
   {
    "duration": 222,
    "start_time": "2021-07-17T06:25:00.351Z"
   },
   {
    "duration": 11,
    "start_time": "2021-07-17T06:25:00.574Z"
   },
   {
    "duration": 1156,
    "start_time": "2021-07-17T06:26:25.164Z"
   },
   {
    "duration": 655,
    "start_time": "2021-07-17T06:26:26.322Z"
   },
   {
    "duration": 5,
    "start_time": "2021-07-17T06:26:26.979Z"
   },
   {
    "duration": 15,
    "start_time": "2021-07-17T06:26:26.986Z"
   },
   {
    "duration": 111,
    "start_time": "2021-07-17T06:26:27.002Z"
   },
   {
    "duration": 115,
    "start_time": "2021-07-17T06:26:27.115Z"
   },
   {
    "duration": 296,
    "start_time": "2021-07-17T06:26:27.231Z"
   },
   {
    "duration": 365,
    "start_time": "2021-07-17T06:26:27.529Z"
   },
   {
    "duration": 375,
    "start_time": "2021-07-17T06:26:27.896Z"
   },
   {
    "duration": 96,
    "start_time": "2021-07-17T06:26:28.273Z"
   },
   {
    "duration": 1704,
    "start_time": "2021-07-17T06:26:28.371Z"
   },
   {
    "duration": 9,
    "start_time": "2021-07-17T06:26:30.077Z"
   },
   {
    "duration": 9,
    "start_time": "2021-07-17T06:26:30.088Z"
   },
   {
    "duration": 5,
    "start_time": "2021-07-17T06:26:30.099Z"
   },
   {
    "duration": 290,
    "start_time": "2021-07-17T06:26:30.106Z"
   },
   {
    "duration": 4,
    "start_time": "2021-07-17T06:26:30.397Z"
   },
   {
    "duration": 40,
    "start_time": "2021-07-17T06:26:30.402Z"
   },
   {
    "duration": 8,
    "start_time": "2021-07-17T06:26:30.445Z"
   },
   {
    "duration": 97,
    "start_time": "2021-07-17T06:26:30.455Z"
   },
   {
    "duration": 3,
    "start_time": "2021-07-17T06:26:30.553Z"
   },
   {
    "duration": 168,
    "start_time": "2021-07-17T06:26:30.558Z"
   },
   {
    "duration": 3,
    "start_time": "2021-07-17T06:26:30.728Z"
   },
   {
    "duration": 209,
    "start_time": "2021-07-17T06:26:30.732Z"
   },
   {
    "duration": 7,
    "start_time": "2021-07-17T06:26:30.943Z"
   },
   {
    "duration": 10284,
    "start_time": "2021-07-17T06:26:36.833Z"
   },
   {
    "duration": 8228,
    "start_time": "2021-07-17T06:28:13.650Z"
   },
   {
    "duration": 33,
    "start_time": "2021-07-17T07:33:15.935Z"
   },
   {
    "duration": 31,
    "start_time": "2021-07-17T07:33:22.796Z"
   },
   {
    "duration": 33,
    "start_time": "2021-07-17T07:35:03.717Z"
   },
   {
    "duration": 204,
    "start_time": "2021-07-17T07:44:15.111Z"
   },
   {
    "duration": 34,
    "start_time": "2021-07-17T07:44:29.183Z"
   },
   {
    "duration": 33,
    "start_time": "2021-07-17T07:44:49.183Z"
   },
   {
    "duration": 18,
    "start_time": "2021-07-17T07:45:02.829Z"
   },
   {
    "duration": 64,
    "start_time": "2021-07-17T07:46:10.775Z"
   },
   {
    "duration": 138,
    "start_time": "2021-07-17T07:46:22.517Z"
   },
   {
    "duration": 162,
    "start_time": "2021-07-17T07:46:29.630Z"
   },
   {
    "duration": 156,
    "start_time": "2021-07-17T07:46:51.245Z"
   },
   {
    "duration": 163,
    "start_time": "2021-07-17T07:47:12.816Z"
   },
   {
    "duration": 144,
    "start_time": "2021-07-17T07:48:27.794Z"
   },
   {
    "duration": 135,
    "start_time": "2021-07-17T07:49:01.395Z"
   },
   {
    "duration": 352,
    "start_time": "2021-07-17T07:54:40.851Z"
   },
   {
    "duration": 246,
    "start_time": "2021-07-17T07:55:30.170Z"
   },
   {
    "duration": 60,
    "start_time": "2021-07-17T07:55:39.842Z"
   },
   {
    "duration": 363,
    "start_time": "2021-07-17T07:55:44.699Z"
   },
   {
    "duration": 405,
    "start_time": "2021-07-17T07:56:24.707Z"
   },
   {
    "duration": 180,
    "start_time": "2021-07-17T07:56:39.867Z"
   },
   {
    "duration": 190,
    "start_time": "2021-07-17T07:56:46.994Z"
   },
   {
    "duration": 170,
    "start_time": "2021-07-17T07:56:50.537Z"
   },
   {
    "duration": 33,
    "start_time": "2021-07-17T07:56:59.681Z"
   },
   {
    "duration": 369,
    "start_time": "2021-07-17T07:59:42.735Z"
   },
   {
    "duration": 75,
    "start_time": "2021-07-17T07:59:54.112Z"
   },
   {
    "duration": 943,
    "start_time": "2021-07-17T07:59:59.487Z"
   },
   {
    "duration": 370,
    "start_time": "2021-07-17T08:00:43.897Z"
   },
   {
    "duration": 361,
    "start_time": "2021-07-17T08:00:52.033Z"
   },
   {
    "duration": 2095,
    "start_time": "2021-07-17T08:01:01.262Z"
   },
   {
    "duration": 2616,
    "start_time": "2021-07-17T08:01:11.055Z"
   },
   {
    "duration": 2734,
    "start_time": "2021-07-17T08:01:22.497Z"
   },
   {
    "duration": 2710,
    "start_time": "2021-07-17T08:01:34.463Z"
   },
   {
    "duration": 2661,
    "start_time": "2021-07-17T08:01:42.954Z"
   },
   {
    "duration": 1158,
    "start_time": "2021-07-17T08:02:56.358Z"
   },
   {
    "duration": 611,
    "start_time": "2021-07-17T08:02:57.518Z"
   },
   {
    "duration": 5,
    "start_time": "2021-07-17T08:02:58.131Z"
   },
   {
    "duration": 15,
    "start_time": "2021-07-17T08:02:58.137Z"
   },
   {
    "duration": 128,
    "start_time": "2021-07-17T08:02:58.153Z"
   },
   {
    "duration": 115,
    "start_time": "2021-07-17T08:02:58.284Z"
   },
   {
    "duration": 294,
    "start_time": "2021-07-17T08:02:58.400Z"
   },
   {
    "duration": 299,
    "start_time": "2021-07-17T08:02:58.695Z"
   },
   {
    "duration": 313,
    "start_time": "2021-07-17T08:02:58.996Z"
   },
   {
    "duration": 98,
    "start_time": "2021-07-17T08:02:59.311Z"
   },
   {
    "duration": 1677,
    "start_time": "2021-07-17T08:02:59.410Z"
   },
   {
    "duration": 6,
    "start_time": "2021-07-17T08:03:01.088Z"
   },
   {
    "duration": 8,
    "start_time": "2021-07-17T08:03:01.095Z"
   },
   {
    "duration": 8,
    "start_time": "2021-07-17T08:03:01.104Z"
   },
   {
    "duration": 283,
    "start_time": "2021-07-17T08:03:01.114Z"
   },
   {
    "duration": 3,
    "start_time": "2021-07-17T08:03:01.399Z"
   },
   {
    "duration": 26,
    "start_time": "2021-07-17T08:03:01.404Z"
   },
   {
    "duration": 5,
    "start_time": "2021-07-17T08:03:01.431Z"
   },
   {
    "duration": 101,
    "start_time": "2021-07-17T08:03:01.437Z"
   },
   {
    "duration": 2,
    "start_time": "2021-07-17T08:03:01.540Z"
   },
   {
    "duration": 19,
    "start_time": "2021-07-17T08:03:01.543Z"
   },
   {
    "duration": 8,
    "start_time": "2021-07-17T08:03:01.564Z"
   },
   {
    "duration": 155,
    "start_time": "2021-07-17T08:03:01.574Z"
   },
   {
    "duration": 3,
    "start_time": "2021-07-17T08:03:01.731Z"
   },
   {
    "duration": 216,
    "start_time": "2021-07-17T08:03:01.737Z"
   },
   {
    "duration": 7,
    "start_time": "2021-07-17T08:03:01.956Z"
   },
   {
    "duration": 61367,
    "start_time": "2021-07-17T08:03:01.968Z"
   },
   {
    "duration": 55,
    "start_time": "2021-07-17T08:04:03.337Z"
   },
   {
    "duration": 32024,
    "start_time": "2021-07-17T08:04:03.393Z"
   },
   {
    "duration": 184,
    "start_time": "2021-07-17T08:04:35.419Z"
   },
   {
    "duration": 212,
    "start_time": "2021-07-17T08:04:35.605Z"
   },
   {
    "duration": 236,
    "start_time": "2021-07-17T08:04:35.819Z"
   },
   {
    "duration": 1389,
    "start_time": "2021-07-17T08:04:36.057Z"
   },
   {
    "duration": 3,
    "start_time": "2021-07-17T08:04:37.448Z"
   },
   {
    "duration": 26,
    "start_time": "2021-07-17T08:04:37.452Z"
   },
   {
    "duration": 16,
    "start_time": "2021-07-17T08:04:37.479Z"
   },
   {
    "duration": 47,
    "start_time": "2021-07-17T08:04:37.496Z"
   },
   {
    "duration": 22,
    "start_time": "2021-07-17T08:04:37.544Z"
   },
   {
    "duration": 33,
    "start_time": "2021-07-17T08:04:37.568Z"
   },
   {
    "duration": 102,
    "start_time": "2021-07-17T08:04:37.603Z"
   },
   {
    "duration": 7,
    "start_time": "2021-07-17T08:04:37.706Z"
   },
   {
    "duration": 6,
    "start_time": "2021-07-17T08:04:37.714Z"
   },
   {
    "duration": 12,
    "start_time": "2021-07-17T08:04:37.722Z"
   },
   {
    "duration": 13,
    "start_time": "2021-07-17T08:04:37.735Z"
   },
   {
    "duration": 5210,
    "start_time": "2021-07-17T08:04:37.749Z"
   },
   {
    "duration": 60,
    "start_time": "2021-07-17T08:08:40.145Z"
   },
   {
    "duration": 1553,
    "start_time": "2021-07-17T08:08:47.411Z"
   },
   {
    "duration": 2069,
    "start_time": "2021-07-17T08:09:07.517Z"
   },
   {
    "duration": 1047,
    "start_time": "2021-07-17T08:13:46.048Z"
   },
   {
    "duration": 608,
    "start_time": "2021-07-17T08:13:47.097Z"
   },
   {
    "duration": 5,
    "start_time": "2021-07-17T08:13:47.707Z"
   },
   {
    "duration": 16,
    "start_time": "2021-07-17T08:13:47.714Z"
   },
   {
    "duration": 131,
    "start_time": "2021-07-17T08:13:47.731Z"
   },
   {
    "duration": 121,
    "start_time": "2021-07-17T08:13:47.864Z"
   },
   {
    "duration": 294,
    "start_time": "2021-07-17T08:13:47.987Z"
   },
   {
    "duration": 290,
    "start_time": "2021-07-17T08:13:48.285Z"
   },
   {
    "duration": 306,
    "start_time": "2021-07-17T08:13:48.579Z"
   },
   {
    "duration": 100,
    "start_time": "2021-07-17T08:13:48.888Z"
   },
   {
    "duration": 1697,
    "start_time": "2021-07-17T08:13:48.990Z"
   },
   {
    "duration": 7,
    "start_time": "2021-07-17T08:13:50.688Z"
   },
   {
    "duration": 6,
    "start_time": "2021-07-17T08:13:50.697Z"
   },
   {
    "duration": 6,
    "start_time": "2021-07-17T08:13:50.705Z"
   },
   {
    "duration": 295,
    "start_time": "2021-07-17T08:13:50.713Z"
   },
   {
    "duration": 4,
    "start_time": "2021-07-17T08:13:51.010Z"
   },
   {
    "duration": 20,
    "start_time": "2021-07-17T08:13:51.016Z"
   },
   {
    "duration": 6,
    "start_time": "2021-07-17T08:13:51.038Z"
   },
   {
    "duration": 113,
    "start_time": "2021-07-17T08:13:51.046Z"
   },
   {
    "duration": 2,
    "start_time": "2021-07-17T08:13:51.161Z"
   },
   {
    "duration": 6,
    "start_time": "2021-07-17T08:13:51.165Z"
   },
   {
    "duration": 507,
    "start_time": "2021-07-17T08:13:51.172Z"
   },
   {
    "duration": -162,
    "start_time": "2021-07-17T08:13:51.843Z"
   },
   {
    "duration": -164,
    "start_time": "2021-07-17T08:13:51.848Z"
   },
   {
    "duration": -168,
    "start_time": "2021-07-17T08:13:51.853Z"
   },
   {
    "duration": -170,
    "start_time": "2021-07-17T08:13:51.856Z"
   },
   {
    "duration": -172,
    "start_time": "2021-07-17T08:13:51.859Z"
   },
   {
    "duration": -175,
    "start_time": "2021-07-17T08:13:51.863Z"
   },
   {
    "duration": -177,
    "start_time": "2021-07-17T08:13:51.866Z"
   },
   {
    "duration": -179,
    "start_time": "2021-07-17T08:13:51.869Z"
   },
   {
    "duration": -184,
    "start_time": "2021-07-17T08:13:51.874Z"
   },
   {
    "duration": -187,
    "start_time": "2021-07-17T08:13:51.878Z"
   },
   {
    "duration": -189,
    "start_time": "2021-07-17T08:13:51.881Z"
   },
   {
    "duration": -192,
    "start_time": "2021-07-17T08:13:51.885Z"
   },
   {
    "duration": 2091,
    "start_time": "2021-07-17T08:15:18.222Z"
   },
   {
    "duration": 3,
    "start_time": "2021-07-17T08:15:35.317Z"
   },
   {
    "duration": 144,
    "start_time": "2021-07-17T08:15:36.500Z"
   },
   {
    "duration": 4,
    "start_time": "2021-07-17T08:15:37.316Z"
   },
   {
    "duration": 170,
    "start_time": "2021-07-17T08:15:40.715Z"
   },
   {
    "duration": 7,
    "start_time": "2021-07-17T08:15:41.413Z"
   },
   {
    "duration": 65759,
    "start_time": "2021-07-17T08:15:42.536Z"
   },
   {
    "duration": 15,
    "start_time": "2021-07-17T08:16:48.296Z"
   },
   {
    "duration": 33180,
    "start_time": "2021-07-17T08:16:48.312Z"
   },
   {
    "duration": 16,
    "start_time": "2021-07-17T08:18:15.782Z"
   },
   {
    "duration": 148,
    "start_time": "2021-07-17T08:18:19.811Z"
   },
   {
    "duration": 200,
    "start_time": "2021-07-17T08:18:36.819Z"
   },
   {
    "duration": 220,
    "start_time": "2021-07-17T08:18:43.950Z"
   },
   {
    "duration": 1940,
    "start_time": "2021-07-17T08:18:47.461Z"
   },
   {
    "duration": 3,
    "start_time": "2021-07-17T08:21:31.313Z"
   },
   {
    "duration": 12,
    "start_time": "2021-07-17T08:21:31.546Z"
   },
   {
    "duration": 12,
    "start_time": "2021-07-17T08:21:31.840Z"
   },
   {
    "duration": 47,
    "start_time": "2021-07-17T08:21:32.113Z"
   },
   {
    "duration": 23,
    "start_time": "2021-07-17T08:21:32.361Z"
   },
   {
    "duration": 24,
    "start_time": "2021-07-17T08:21:32.801Z"
   },
   {
    "duration": 94,
    "start_time": "2021-07-17T08:21:34.554Z"
   },
   {
    "duration": 8,
    "start_time": "2021-07-17T08:21:34.852Z"
   },
   {
    "duration": 7,
    "start_time": "2021-07-17T08:21:37.602Z"
   },
   {
    "duration": 15,
    "start_time": "2021-07-17T08:21:44.858Z"
   },
   {
    "duration": 15,
    "start_time": "2021-07-17T08:21:46.529Z"
   },
   {
    "duration": 5058,
    "start_time": "2021-07-17T08:21:47.881Z"
   },
   {
    "duration": 5580,
    "start_time": "2021-07-17T08:22:04.148Z"
   },
   {
    "duration": 34,
    "start_time": "2021-07-17T08:22:40.879Z"
   },
   {
    "duration": 5655,
    "start_time": "2021-07-17T08:25:39.680Z"
   },
   {
    "duration": 5384,
    "start_time": "2021-07-17T08:30:01.279Z"
   },
   {
    "duration": 5,
    "start_time": "2021-07-17T08:30:51.216Z"
   },
   {
    "duration": 6,
    "start_time": "2021-07-17T08:30:56.733Z"
   },
   {
    "duration": 16,
    "start_time": "2021-07-17T08:31:38.084Z"
   },
   {
    "duration": 12,
    "start_time": "2021-07-17T08:31:48.621Z"
   },
   {
    "duration": 29,
    "start_time": "2021-07-17T08:31:48.925Z"
   },
   {
    "duration": 10,
    "start_time": "2021-07-17T08:31:49.198Z"
   },
   {
    "duration": 27,
    "start_time": "2021-07-17T08:31:51.805Z"
   },
   {
    "duration": 10,
    "start_time": "2021-07-17T08:31:55.080Z"
   },
   {
    "duration": 7,
    "start_time": "2021-07-17T08:32:16.741Z"
   },
   {
    "duration": 5164,
    "start_time": "2021-07-17T08:32:34.390Z"
   },
   {
    "duration": 34,
    "start_time": "2021-07-17T08:33:18.735Z"
   },
   {
    "duration": 60,
    "start_time": "2021-07-17T08:33:33.876Z"
   },
   {
    "duration": 849,
    "start_time": "2021-07-17T08:33:37.557Z"
   },
   {
    "duration": 54,
    "start_time": "2021-07-17T08:33:48.388Z"
   },
   {
    "duration": 5211,
    "start_time": "2021-07-17T08:33:51.148Z"
   },
   {
    "duration": 5077,
    "start_time": "2021-07-17T08:34:03.660Z"
   },
   {
    "duration": 1772,
    "start_time": "2021-07-17T08:34:13.341Z"
   },
   {
    "duration": 340,
    "start_time": "2021-07-17T08:34:26.467Z"
   },
   {
    "duration": 4998,
    "start_time": "2021-07-17T08:34:38.019Z"
   },
   {
    "duration": 60,
    "start_time": "2021-07-17T08:35:02.061Z"
   },
   {
    "duration": 355,
    "start_time": "2021-07-17T08:35:19.302Z"
   },
   {
    "duration": 2132,
    "start_time": "2021-07-17T08:35:35.269Z"
   },
   {
    "duration": 2010,
    "start_time": "2021-07-17T08:36:12.965Z"
   },
   {
    "duration": 2027,
    "start_time": "2021-07-17T08:36:19.694Z"
   },
   {
    "duration": 1786,
    "start_time": "2021-07-17T08:38:32.033Z"
   },
   {
    "duration": 191,
    "start_time": "2021-07-17T08:38:43.990Z"
   },
   {
    "duration": 188,
    "start_time": "2021-07-17T08:38:54.087Z"
   },
   {
    "duration": 1611,
    "start_time": "2021-07-17T08:39:13.897Z"
   },
   {
    "duration": 1976,
    "start_time": "2021-07-17T08:39:25.667Z"
   },
   {
    "duration": 1614,
    "start_time": "2021-07-17T08:41:50.096Z"
   },
   {
    "duration": 2389,
    "start_time": "2021-07-17T08:41:59.682Z"
   },
   {
    "duration": 1858,
    "start_time": "2021-07-17T08:42:07.145Z"
   },
   {
    "duration": 1934,
    "start_time": "2021-07-17T08:42:16.226Z"
   },
   {
    "duration": 1856,
    "start_time": "2021-07-17T08:43:08.800Z"
   },
   {
    "duration": 246,
    "start_time": "2021-07-17T08:46:36.526Z"
   },
   {
    "duration": 5112,
    "start_time": "2021-07-17T08:49:06.291Z"
   },
   {
    "duration": 360,
    "start_time": "2021-07-17T08:49:26.279Z"
   },
   {
    "duration": 5404,
    "start_time": "2021-07-17T08:50:02.196Z"
   },
   {
    "duration": 389,
    "start_time": "2021-07-17T08:50:15.614Z"
   },
   {
    "duration": 360,
    "start_time": "2021-07-17T08:50:45.300Z"
   },
   {
    "duration": 1529,
    "start_time": "2021-07-17T08:51:03.675Z"
   },
   {
    "duration": 1512,
    "start_time": "2021-07-17T08:51:22.299Z"
   },
   {
    "duration": 15,
    "start_time": "2021-07-17T08:51:38.732Z"
   },
   {
    "duration": 17,
    "start_time": "2021-07-17T08:52:11.754Z"
   },
   {
    "duration": 16,
    "start_time": "2021-07-17T08:52:19.292Z"
   },
   {
    "duration": 25,
    "start_time": "2021-07-17T08:52:21.314Z"
   },
   {
    "duration": 181,
    "start_time": "2021-07-17T08:52:21.860Z"
   },
   {
    "duration": 217,
    "start_time": "2021-07-17T08:52:22.242Z"
   },
   {
    "duration": 64,
    "start_time": "2021-07-17T08:52:22.706Z"
   },
   {
    "duration": 4,
    "start_time": "2021-07-17T08:52:23.057Z"
   },
   {
    "duration": 4,
    "start_time": "2021-07-17T08:52:23.457Z"
   },
   {
    "duration": 191,
    "start_time": "2021-07-17T08:52:23.923Z"
   },
   {
    "duration": 1941,
    "start_time": "2021-07-17T08:52:27.386Z"
   },
   {
    "duration": 2065,
    "start_time": "2021-07-17T08:52:32.986Z"
   },
   {
    "duration": 2111,
    "start_time": "2021-07-17T08:53:14.731Z"
   },
   {
    "duration": 2028,
    "start_time": "2021-07-17T08:53:41.021Z"
   },
   {
    "duration": 1122,
    "start_time": "2021-07-17T08:53:49.404Z"
   },
   {
    "duration": 132,
    "start_time": "2021-07-17T08:53:50.528Z"
   },
   {
    "duration": 27,
    "start_time": "2021-07-17T08:53:53.283Z"
   },
   {
    "duration": 4,
    "start_time": "2021-07-17T08:53:54.073Z"
   },
   {
    "duration": 4,
    "start_time": "2021-07-17T08:53:54.899Z"
   },
   {
    "duration": 14,
    "start_time": "2021-07-17T08:53:55.706Z"
   },
   {
    "duration": 17,
    "start_time": "2021-07-17T08:53:56.144Z"
   },
   {
    "duration": 98,
    "start_time": "2021-07-17T08:53:56.464Z"
   },
   {
    "duration": 107,
    "start_time": "2021-07-17T08:53:58.875Z"
   },
   {
    "duration": 19,
    "start_time": "2021-07-17T08:54:01.067Z"
   },
   {
    "duration": 3,
    "start_time": "2021-07-17T08:54:03.002Z"
   },
   {
    "duration": 4,
    "start_time": "2021-07-17T08:54:05.007Z"
   },
   {
    "duration": 58,
    "start_time": "2021-07-17T08:54:05.217Z"
   },
   {
    "duration": 19,
    "start_time": "2021-07-17T08:54:06.197Z"
   },
   {
    "duration": 4,
    "start_time": "2021-07-17T08:54:07.170Z"
   },
   {
    "duration": 1603,
    "start_time": "2021-07-17T08:54:10.875Z"
   },
   {
    "duration": 88,
    "start_time": "2021-07-17T08:54:18.043Z"
   },
   {
    "duration": 4,
    "start_time": "2021-07-17T08:54:18.741Z"
   },
   {
    "duration": 3,
    "start_time": "2021-07-17T08:54:21.211Z"
   },
   {
    "duration": 5,
    "start_time": "2021-07-17T08:54:23.298Z"
   },
   {
    "duration": 2299,
    "start_time": "2021-07-17T08:54:23.586Z"
   },
   {
    "duration": 924312,
    "start_time": "2021-07-17T08:54:25.889Z"
   },
   {
    "duration": 124690,
    "start_time": "2021-07-17T09:09:50.203Z"
   },
   {
    "duration": 3,
    "start_time": "2021-07-17T09:11:54.895Z"
   },
   {
    "duration": 11,
    "start_time": "2021-07-17T09:11:54.900Z"
   },
   {
    "duration": 3,
    "start_time": "2021-07-17T09:12:28.726Z"
   },
   {
    "duration": 8,
    "start_time": "2021-07-17T09:12:30.768Z"
   },
   {
    "duration": 4,
    "start_time": "2021-07-17T09:13:20.097Z"
   },
   {
    "duration": 188,
    "start_time": "2021-07-17T09:14:11.064Z"
   },
   {
    "duration": 8,
    "start_time": "2021-07-17T09:14:31.266Z"
   },
   {
    "duration": 5,
    "start_time": "2021-07-17T09:14:45.629Z"
   },
   {
    "duration": 5,
    "start_time": "2021-07-17T09:15:00.190Z"
   },
   {
    "duration": 199,
    "start_time": "2021-07-17T09:15:09.192Z"
   },
   {
    "duration": 206,
    "start_time": "2021-07-17T09:15:17.936Z"
   },
   {
    "duration": 8,
    "start_time": "2021-07-17T09:15:33.611Z"
   },
   {
    "duration": 4,
    "start_time": "2021-07-17T09:15:43.720Z"
   },
   {
    "duration": 4,
    "start_time": "2021-07-17T09:15:51.359Z"
   },
   {
    "duration": 4,
    "start_time": "2021-07-17T09:15:57.879Z"
   },
   {
    "duration": 212,
    "start_time": "2021-07-17T09:16:34.631Z"
   },
   {
    "duration": 190,
    "start_time": "2021-07-17T09:16:39.072Z"
   },
   {
    "duration": 8,
    "start_time": "2021-07-17T09:16:53.510Z"
   },
   {
    "duration": 185,
    "start_time": "2021-07-17T09:17:15.430Z"
   },
   {
    "duration": 9,
    "start_time": "2021-07-17T09:17:31.151Z"
   },
   {
    "duration": 81,
    "start_time": "2021-07-17T09:18:06.584Z"
   },
   {
    "duration": 3,
    "start_time": "2021-07-17T09:20:55.007Z"
   },
   {
    "duration": 406,
    "start_time": "2021-07-17T09:20:55.486Z"
   },
   {
    "duration": 1185,
    "start_time": "2021-07-18T08:31:00.158Z"
   },
   {
    "duration": 571,
    "start_time": "2021-07-18T08:31:01.345Z"
   },
   {
    "duration": 4,
    "start_time": "2021-07-18T08:31:01.919Z"
   },
   {
    "duration": 22,
    "start_time": "2021-07-18T08:31:01.925Z"
   },
   {
    "duration": 109,
    "start_time": "2021-07-18T08:31:01.948Z"
   },
   {
    "duration": 107,
    "start_time": "2021-07-18T08:31:02.059Z"
   },
   {
    "duration": 287,
    "start_time": "2021-07-18T08:31:02.168Z"
   },
   {
    "duration": 279,
    "start_time": "2021-07-18T08:31:02.457Z"
   },
   {
    "duration": 291,
    "start_time": "2021-07-18T08:31:02.739Z"
   },
   {
    "duration": 97,
    "start_time": "2021-07-18T08:31:03.032Z"
   },
   {
    "duration": 1918,
    "start_time": "2021-07-18T08:31:03.131Z"
   },
   {
    "duration": 5,
    "start_time": "2021-07-18T08:31:05.051Z"
   },
   {
    "duration": 7,
    "start_time": "2021-07-18T08:31:05.057Z"
   },
   {
    "duration": 6,
    "start_time": "2021-07-18T08:31:05.065Z"
   },
   {
    "duration": 372,
    "start_time": "2021-07-18T08:31:05.072Z"
   },
   {
    "duration": 3,
    "start_time": "2021-07-18T08:31:05.445Z"
   },
   {
    "duration": 22,
    "start_time": "2021-07-18T08:31:05.450Z"
   },
   {
    "duration": 4,
    "start_time": "2021-07-18T08:31:05.473Z"
   },
   {
    "duration": 78,
    "start_time": "2021-07-18T08:31:05.491Z"
   },
   {
    "duration": 2,
    "start_time": "2021-07-18T08:31:05.571Z"
   },
   {
    "duration": 8,
    "start_time": "2021-07-18T08:31:05.574Z"
   },
   {
    "duration": 9,
    "start_time": "2021-07-18T08:31:05.583Z"
   },
   {
    "duration": 146,
    "start_time": "2021-07-18T08:31:05.595Z"
   },
   {
    "duration": 3,
    "start_time": "2021-07-18T08:31:05.744Z"
   },
   {
    "duration": 199,
    "start_time": "2021-07-18T08:31:05.748Z"
   },
   {
    "duration": 6,
    "start_time": "2021-07-18T08:31:05.949Z"
   },
   {
    "duration": 60399,
    "start_time": "2021-07-18T08:31:05.956Z"
   },
   {
    "duration": 39,
    "start_time": "2021-07-18T08:32:06.357Z"
   },
   {
    "duration": 31548,
    "start_time": "2021-07-18T08:32:06.398Z"
   },
   {
    "duration": 44,
    "start_time": "2021-07-18T08:32:37.948Z"
   },
   {
    "duration": 145,
    "start_time": "2021-07-18T08:32:37.994Z"
   },
   {
    "duration": 198,
    "start_time": "2021-07-18T08:32:38.141Z"
   },
   {
    "duration": 207,
    "start_time": "2021-07-18T08:32:38.341Z"
   },
   {
    "duration": 1773,
    "start_time": "2021-07-18T08:32:38.550Z"
   },
   {
    "duration": 3,
    "start_time": "2021-07-18T08:32:40.325Z"
   },
   {
    "duration": 17,
    "start_time": "2021-07-18T08:32:40.330Z"
   },
   {
    "duration": 12,
    "start_time": "2021-07-18T08:32:40.349Z"
   },
   {
    "duration": 63,
    "start_time": "2021-07-18T08:32:40.362Z"
   },
   {
    "duration": 24,
    "start_time": "2021-07-18T08:32:40.427Z"
   },
   {
    "duration": 39,
    "start_time": "2021-07-18T08:32:40.453Z"
   },
   {
    "duration": 98,
    "start_time": "2021-07-18T08:32:40.494Z"
   },
   {
    "duration": 7,
    "start_time": "2021-07-18T08:32:40.595Z"
   },
   {
    "duration": 7,
    "start_time": "2021-07-18T08:32:40.604Z"
   },
   {
    "duration": 22,
    "start_time": "2021-07-18T08:32:40.613Z"
   },
   {
    "duration": 17,
    "start_time": "2021-07-18T08:32:40.637Z"
   },
   {
    "duration": 43,
    "start_time": "2021-07-18T08:32:40.656Z"
   },
   {
    "duration": 26,
    "start_time": "2021-07-18T08:32:40.701Z"
   },
   {
    "duration": 11,
    "start_time": "2021-07-18T08:32:40.729Z"
   },
   {
    "duration": 22,
    "start_time": "2021-07-18T08:32:40.741Z"
   },
   {
    "duration": 31,
    "start_time": "2021-07-18T08:32:40.765Z"
   },
   {
    "duration": 1422,
    "start_time": "2021-07-18T08:32:40.798Z"
   },
   {
    "duration": 15,
    "start_time": "2021-07-18T08:32:42.222Z"
   },
   {
    "duration": 18,
    "start_time": "2021-07-18T08:32:42.238Z"
   },
   {
    "duration": 16,
    "start_time": "2021-07-18T08:32:42.257Z"
   },
   {
    "duration": 34,
    "start_time": "2021-07-18T08:32:42.274Z"
   },
   {
    "duration": 188,
    "start_time": "2021-07-18T08:32:42.309Z"
   },
   {
    "duration": 212,
    "start_time": "2021-07-18T08:32:42.499Z"
   },
   {
    "duration": 67,
    "start_time": "2021-07-18T08:32:42.712Z"
   },
   {
    "duration": 11,
    "start_time": "2021-07-18T08:32:42.780Z"
   },
   {
    "duration": 3,
    "start_time": "2021-07-18T08:32:42.793Z"
   },
   {
    "duration": 186,
    "start_time": "2021-07-18T08:32:42.798Z"
   },
   {
    "duration": 1867,
    "start_time": "2021-07-18T08:32:42.986Z"
   },
   {
    "duration": 1136,
    "start_time": "2021-07-18T08:32:44.855Z"
   },
   {
    "duration": 136,
    "start_time": "2021-07-18T08:32:45.993Z"
   },
   {
    "duration": 27,
    "start_time": "2021-07-18T08:32:46.131Z"
   },
   {
    "duration": 4,
    "start_time": "2021-07-18T08:32:46.160Z"
   },
   {
    "duration": 28,
    "start_time": "2021-07-18T08:32:46.166Z"
   },
   {
    "duration": 12,
    "start_time": "2021-07-18T08:32:46.199Z"
   },
   {
    "duration": 15,
    "start_time": "2021-07-18T08:32:46.213Z"
   },
   {
    "duration": 105,
    "start_time": "2021-07-18T08:32:46.230Z"
   },
   {
    "duration": 113,
    "start_time": "2021-07-18T08:32:46.336Z"
   },
   {
    "duration": 17,
    "start_time": "2021-07-18T08:32:46.451Z"
   },
   {
    "duration": 4,
    "start_time": "2021-07-18T08:32:46.469Z"
   },
   {
    "duration": 18,
    "start_time": "2021-07-18T08:32:46.474Z"
   },
   {
    "duration": 68,
    "start_time": "2021-07-18T08:32:46.494Z"
   },
   {
    "duration": 28,
    "start_time": "2021-07-18T08:32:46.563Z"
   },
   {
    "duration": 3,
    "start_time": "2021-07-18T08:32:46.593Z"
   },
   {
    "duration": 1297,
    "start_time": "2021-07-18T08:32:46.598Z"
   },
   {
    "duration": 84,
    "start_time": "2021-07-18T08:32:47.897Z"
   },
   {
    "duration": 4,
    "start_time": "2021-07-18T08:32:47.991Z"
   },
   {
    "duration": 4,
    "start_time": "2021-07-18T08:32:47.997Z"
   },
   {
    "duration": 4,
    "start_time": "2021-07-18T08:32:48.003Z"
   },
   {
    "duration": 2492,
    "start_time": "2021-07-18T08:32:48.009Z"
   },
   {
    "duration": 908312,
    "start_time": "2021-07-18T08:32:50.592Z"
   },
   {
    "duration": 120114,
    "start_time": "2021-07-18T08:47:58.905Z"
   },
   {
    "duration": 3,
    "start_time": "2021-07-18T08:49:59.021Z"
   },
   {
    "duration": 9,
    "start_time": "2021-07-18T08:49:59.026Z"
   },
   {
    "duration": 120,
    "start_time": "2021-07-18T08:49:59.036Z"
   },
   {
    "duration": 6,
    "start_time": "2021-07-18T08:49:59.158Z"
   },
   {
    "duration": 6,
    "start_time": "2021-07-18T08:49:59.165Z"
   },
   {
    "duration": 425,
    "start_time": "2021-07-18T08:49:59.172Z"
   }
  ],
  "kernelspec": {
   "display_name": "Python 3",
   "language": "python",
   "name": "python3"
  },
  "language_info": {
   "codemirror_mode": {
    "name": "ipython",
    "version": 3
   },
   "file_extension": ".py",
   "mimetype": "text/x-python",
   "name": "python",
   "nbconvert_exporter": "python",
   "pygments_lexer": "ipython3",
   "version": "3.8.3"
  },
  "toc": {
   "base_numbering": 1,
   "nav_menu": {},
   "number_sections": true,
   "sideBar": true,
   "skip_h1_title": true,
   "title_cell": "Table of Contents",
   "title_sidebar": "Contents",
   "toc_cell": false,
   "toc_position": {},
   "toc_section_display": true,
   "toc_window_display": false
  }
 },
 "nbformat": 4,
 "nbformat_minor": 2
}
