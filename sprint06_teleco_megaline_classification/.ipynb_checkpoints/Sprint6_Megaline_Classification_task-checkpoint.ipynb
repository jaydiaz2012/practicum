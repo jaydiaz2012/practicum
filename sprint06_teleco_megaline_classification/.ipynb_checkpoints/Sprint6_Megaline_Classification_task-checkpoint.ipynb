{
 "cells": [
  {
   "cell_type": "markdown",
   "metadata": {},
   "source": [
    "### Project description\n",
    "\n",
    "Mobile carrier Megaline has found out that many of their subscribers use legacy plans. They want to develop a model that would analyze subscribers' behavior and recommend one of Megaline's newer plans: Smart or Ultra.\n",
    "\n",
    "You have access to behavior data about subscribers who have already switched to the new plans (from the project for the Statistical Data Analysis course). For this classification task, you need to develop a model that will pick the right plan. Since you’ve already performed the data preprocessing step, you can move straight to creating the model.\n",
    "Develop a model with the highest possible accuracy. \n",
    "\n",
    "In this project, the threshold for accuracy is 0.75. Check the accuracy using the test dataset.\n",
    "\n",
    "**Goal**\n",
    "\n",
    "Build a classification model whose accuracy on the test dataset is at least 75%."
   ]
  },
  {
   "cell_type": "code",
   "execution_count": 60,
   "metadata": {},
   "outputs": [],
   "source": [
    "import pandas as pd\n",
    "import numpy as np\n",
    "from sklearn.linear_model import LogisticRegression\n",
    "from sklearn.tree import DecisionTreeClassifier\n",
    "from sklearn.ensemble import RandomForestClassifier\n",
    "from sklearn.model_selection import train_test_split\n",
    "from sklearn.metrics import accuracy_score, classification_report\n",
    "import matplotlib.pyplot as plt \n",
    "import ast\n",
    "import warnings\n"
   ]
  },
  {
   "cell_type": "code",
   "execution_count": 5,
   "metadata": {},
   "outputs": [],
   "source": [
    "df = pd.read_csv('/datasets/users_behavior.csv')"
   ]
  },
  {
   "cell_type": "code",
   "execution_count": 6,
   "metadata": {},
   "outputs": [
    {
     "data": {
      "text/plain": [
       "(3214, 5)"
      ]
     },
     "execution_count": 6,
     "metadata": {},
     "output_type": "execute_result"
    }
   ],
   "source": [
    "# num rows\n",
    "df.shape"
   ]
  },
  {
   "cell_type": "code",
   "execution_count": 8,
   "metadata": {},
   "outputs": [
    {
     "name": "stdout",
     "output_type": "stream",
     "text": [
      "<class 'pandas.core.frame.DataFrame'>\n",
      "RangeIndex: 3214 entries, 0 to 3213\n",
      "Data columns (total 5 columns):\n",
      "calls       3214 non-null float64\n",
      "minutes     3214 non-null float64\n",
      "messages    3214 non-null float64\n",
      "mb_used     3214 non-null float64\n",
      "is_ultra    3214 non-null int64\n",
      "dtypes: float64(4), int64(1)\n",
      "memory usage: 125.7 KB\n"
     ]
    }
   ],
   "source": [
    "# info on the datset\n",
    "df.info()"
   ]
  },
  {
   "cell_type": "code",
   "execution_count": 9,
   "metadata": {},
   "outputs": [
    {
     "data": {
      "text/html": [
       "<div>\n",
       "<style scoped>\n",
       "    .dataframe tbody tr th:only-of-type {\n",
       "        vertical-align: middle;\n",
       "    }\n",
       "\n",
       "    .dataframe tbody tr th {\n",
       "        vertical-align: top;\n",
       "    }\n",
       "\n",
       "    .dataframe thead th {\n",
       "        text-align: right;\n",
       "    }\n",
       "</style>\n",
       "<table border=\"1\" class=\"dataframe\">\n",
       "  <thead>\n",
       "    <tr style=\"text-align: right;\">\n",
       "      <th></th>\n",
       "      <th>calls</th>\n",
       "      <th>minutes</th>\n",
       "      <th>messages</th>\n",
       "      <th>mb_used</th>\n",
       "      <th>is_ultra</th>\n",
       "    </tr>\n",
       "  </thead>\n",
       "  <tbody>\n",
       "    <tr>\n",
       "      <td>0</td>\n",
       "      <td>40.0</td>\n",
       "      <td>311.90</td>\n",
       "      <td>83.0</td>\n",
       "      <td>19915.42</td>\n",
       "      <td>0</td>\n",
       "    </tr>\n",
       "    <tr>\n",
       "      <td>1</td>\n",
       "      <td>85.0</td>\n",
       "      <td>516.75</td>\n",
       "      <td>56.0</td>\n",
       "      <td>22696.96</td>\n",
       "      <td>0</td>\n",
       "    </tr>\n",
       "    <tr>\n",
       "      <td>2</td>\n",
       "      <td>77.0</td>\n",
       "      <td>467.66</td>\n",
       "      <td>86.0</td>\n",
       "      <td>21060.45</td>\n",
       "      <td>0</td>\n",
       "    </tr>\n",
       "    <tr>\n",
       "      <td>3</td>\n",
       "      <td>106.0</td>\n",
       "      <td>745.53</td>\n",
       "      <td>81.0</td>\n",
       "      <td>8437.39</td>\n",
       "      <td>1</td>\n",
       "    </tr>\n",
       "    <tr>\n",
       "      <td>4</td>\n",
       "      <td>66.0</td>\n",
       "      <td>418.74</td>\n",
       "      <td>1.0</td>\n",
       "      <td>14502.75</td>\n",
       "      <td>0</td>\n",
       "    </tr>\n",
       "  </tbody>\n",
       "</table>\n",
       "</div>"
      ],
      "text/plain": [
       "   calls  minutes  messages   mb_used  is_ultra\n",
       "0   40.0   311.90      83.0  19915.42         0\n",
       "1   85.0   516.75      56.0  22696.96         0\n",
       "2   77.0   467.66      86.0  21060.45         0\n",
       "3  106.0   745.53      81.0   8437.39         1\n",
       "4   66.0   418.74       1.0  14502.75         0"
      ]
     },
     "execution_count": 9,
     "metadata": {},
     "output_type": "execute_result"
    }
   ],
   "source": [
    "# top 5 rows\n",
    "df.head()"
   ]
  },
  {
   "cell_type": "code",
   "execution_count": 11,
   "metadata": {},
   "outputs": [
    {
     "data": {
      "text/plain": [
       "0"
      ]
     },
     "execution_count": 11,
     "metadata": {},
     "output_type": "execute_result"
    }
   ],
   "source": [
    "# duplicates()\n",
    "df.duplicated().sum()"
   ]
  },
  {
   "cell_type": "code",
   "execution_count": 12,
   "metadata": {},
   "outputs": [
    {
     "data": {
      "text/plain": [
       "calls       0.0\n",
       "minutes     0.0\n",
       "messages    0.0\n",
       "mb_used     0.0\n",
       "is_ultra    0.0\n",
       "dtype: float64"
      ]
     },
     "execution_count": 12,
     "metadata": {},
     "output_type": "execute_result"
    }
   ],
   "source": [
    "# missing values\n",
    "df.isnull().mean()"
   ]
  },
  {
   "cell_type": "code",
   "execution_count": 13,
   "metadata": {},
   "outputs": [
    {
     "data": {
      "text/html": [
       "<div>\n",
       "<style scoped>\n",
       "    .dataframe tbody tr th:only-of-type {\n",
       "        vertical-align: middle;\n",
       "    }\n",
       "\n",
       "    .dataframe tbody tr th {\n",
       "        vertical-align: top;\n",
       "    }\n",
       "\n",
       "    .dataframe thead th {\n",
       "        text-align: right;\n",
       "    }\n",
       "</style>\n",
       "<table border=\"1\" class=\"dataframe\">\n",
       "  <thead>\n",
       "    <tr style=\"text-align: right;\">\n",
       "      <th></th>\n",
       "      <th>calls</th>\n",
       "      <th>minutes</th>\n",
       "      <th>messages</th>\n",
       "      <th>mb_used</th>\n",
       "      <th>is_ultra</th>\n",
       "    </tr>\n",
       "  </thead>\n",
       "  <tbody>\n",
       "    <tr>\n",
       "      <td>count</td>\n",
       "      <td>3214.000000</td>\n",
       "      <td>3214.000000</td>\n",
       "      <td>3214.000000</td>\n",
       "      <td>3214.000000</td>\n",
       "      <td>3214.000000</td>\n",
       "    </tr>\n",
       "    <tr>\n",
       "      <td>mean</td>\n",
       "      <td>63.038892</td>\n",
       "      <td>438.208787</td>\n",
       "      <td>38.281269</td>\n",
       "      <td>17207.673836</td>\n",
       "      <td>0.306472</td>\n",
       "    </tr>\n",
       "    <tr>\n",
       "      <td>std</td>\n",
       "      <td>33.236368</td>\n",
       "      <td>234.569872</td>\n",
       "      <td>36.148326</td>\n",
       "      <td>7570.968246</td>\n",
       "      <td>0.461100</td>\n",
       "    </tr>\n",
       "    <tr>\n",
       "      <td>min</td>\n",
       "      <td>0.000000</td>\n",
       "      <td>0.000000</td>\n",
       "      <td>0.000000</td>\n",
       "      <td>0.000000</td>\n",
       "      <td>0.000000</td>\n",
       "    </tr>\n",
       "    <tr>\n",
       "      <td>25%</td>\n",
       "      <td>40.000000</td>\n",
       "      <td>274.575000</td>\n",
       "      <td>9.000000</td>\n",
       "      <td>12491.902500</td>\n",
       "      <td>0.000000</td>\n",
       "    </tr>\n",
       "    <tr>\n",
       "      <td>50%</td>\n",
       "      <td>62.000000</td>\n",
       "      <td>430.600000</td>\n",
       "      <td>30.000000</td>\n",
       "      <td>16943.235000</td>\n",
       "      <td>0.000000</td>\n",
       "    </tr>\n",
       "    <tr>\n",
       "      <td>75%</td>\n",
       "      <td>82.000000</td>\n",
       "      <td>571.927500</td>\n",
       "      <td>57.000000</td>\n",
       "      <td>21424.700000</td>\n",
       "      <td>1.000000</td>\n",
       "    </tr>\n",
       "    <tr>\n",
       "      <td>max</td>\n",
       "      <td>244.000000</td>\n",
       "      <td>1632.060000</td>\n",
       "      <td>224.000000</td>\n",
       "      <td>49745.730000</td>\n",
       "      <td>1.000000</td>\n",
       "    </tr>\n",
       "  </tbody>\n",
       "</table>\n",
       "</div>"
      ],
      "text/plain": [
       "             calls      minutes     messages       mb_used     is_ultra\n",
       "count  3214.000000  3214.000000  3214.000000   3214.000000  3214.000000\n",
       "mean     63.038892   438.208787    38.281269  17207.673836     0.306472\n",
       "std      33.236368   234.569872    36.148326   7570.968246     0.461100\n",
       "min       0.000000     0.000000     0.000000      0.000000     0.000000\n",
       "25%      40.000000   274.575000     9.000000  12491.902500     0.000000\n",
       "50%      62.000000   430.600000    30.000000  16943.235000     0.000000\n",
       "75%      82.000000   571.927500    57.000000  21424.700000     1.000000\n",
       "max     244.000000  1632.060000   224.000000  49745.730000     1.000000"
      ]
     },
     "execution_count": 13,
     "metadata": {},
     "output_type": "execute_result"
    }
   ],
   "source": [
    "# 5 point summary\n",
    "df.describe()"
   ]
  },
  {
   "cell_type": "code",
   "execution_count": 19,
   "metadata": {},
   "outputs": [
    {
     "data": {
      "text/plain": [
       "0.012445550715619166"
      ]
     },
     "execution_count": 19,
     "metadata": {},
     "output_type": "execute_result"
    }
   ],
   "source": [
    "# proportion users with 0 calls\n",
    "df.query('calls == 0').shape[0] / df.shape[0]"
   ]
  },
  {
   "cell_type": "code",
   "execution_count": 20,
   "metadata": {},
   "outputs": [
    {
     "data": {
      "text/plain": [
       "0.003422526446795271"
      ]
     },
     "execution_count": 20,
     "metadata": {},
     "output_type": "execute_result"
    }
   ],
   "source": [
    "# proportion users with 0 internet usage\n",
    "df.query('mb_used == 0').shape[0] /  df.shape[0]"
   ]
  },
  {
   "cell_type": "code",
   "execution_count": 21,
   "metadata": {},
   "outputs": [
    {
     "data": {
      "text/plain": [
       "0.15463596764156815"
      ]
     },
     "execution_count": 21,
     "metadata": {},
     "output_type": "execute_result"
    }
   ],
   "source": [
    "# proportion users with 0 messages\n",
    "df.query('messages == 0').shape[0] /  df.shape[0]"
   ]
  },
  {
   "cell_type": "markdown",
   "metadata": {},
   "source": [
    "**Conclusion**"
   ]
  },
  {
   "cell_type": "markdown",
   "metadata": {},
   "source": [
    "1) There are 3214 users and 5 attributes. Each row represents `call`, `messages` and `mb_used` based on the individuals' plan.\n",
    "\n",
    "2) There are no duplicates and missing values.\n",
    "\n",
    "3) About 15% of the users didn't send a single message. And 1.2% of the users didn't make a single call.\n"
   ]
  },
  {
   "cell_type": "markdown",
   "metadata": {},
   "source": [
    "### Prepare data\n",
    "\n",
    "Although we have only a few features, there are a couple of things we can do:\n",
    "\n",
    "1) Create a minutes/call feature\n",
    "\n",
    "2) Convert `mb_used` to `gb_used`\n",
    "\n",
    "3) Convert calls and messages to int dtype"
   ]
  },
  {
   "cell_type": "code",
   "execution_count": 94,
   "metadata": {},
   "outputs": [],
   "source": [
    "df['minutes_per_call'] = df['minutes'] / df['calls']\n",
    "df['minutes_per_call'].fillna(0, inplace=True)"
   ]
  },
  {
   "cell_type": "code",
   "execution_count": 25,
   "metadata": {},
   "outputs": [],
   "source": [
    "df['gb_used'] = df['mb_used'] / 1024"
   ]
  },
  {
   "cell_type": "code",
   "execution_count": 26,
   "metadata": {},
   "outputs": [],
   "source": [
    "df['calls'] = df['calls'].astype(np.int16)\n",
    "df['messages'] = df['messages'].astype(np.int16)"
   ]
  },
  {
   "cell_type": "code",
   "execution_count": 28,
   "metadata": {},
   "outputs": [
    {
     "name": "stdout",
     "output_type": "stream",
     "text": [
      "<class 'pandas.core.frame.DataFrame'>\n",
      "RangeIndex: 3214 entries, 0 to 3213\n",
      "Data columns (total 7 columns):\n",
      "calls               3214 non-null int16\n",
      "minutes             3214 non-null float64\n",
      "messages            3214 non-null int16\n",
      "mb_used             3214 non-null float64\n",
      "is_ultra            3214 non-null int64\n",
      "minutes_per_call    3174 non-null float64\n",
      "gb_used             3214 non-null float64\n",
      "dtypes: float64(4), int16(2), int64(1)\n",
      "memory usage: 138.2 KB\n"
     ]
    }
   ],
   "source": [
    "# memory footprint with new columns and dtype conversion\n",
    "df.info()"
   ]
  },
  {
   "cell_type": "code",
   "execution_count": 104,
   "metadata": {},
   "outputs": [],
   "source": [
    "# let's create a new df\n",
    "cols = ['calls', 'minutes', 'messages', 'minutes_per_call', 'gb_used', 'is_ultra']\n",
    "new_df = df[cols].copy()"
   ]
  },
  {
   "cell_type": "code",
   "execution_count": 105,
   "metadata": {},
   "outputs": [
    {
     "name": "stdout",
     "output_type": "stream",
     "text": [
      "<class 'pandas.core.frame.DataFrame'>\n",
      "RangeIndex: 3214 entries, 0 to 3213\n",
      "Data columns (total 6 columns):\n",
      "calls               3214 non-null int16\n",
      "minutes             3214 non-null float64\n",
      "messages            3214 non-null int16\n",
      "minutes_per_call    3214 non-null float64\n",
      "gb_used             3214 non-null float64\n",
      "is_ultra            3214 non-null int64\n",
      "dtypes: float64(3), int16(2), int64(1)\n",
      "memory usage: 113.1 KB\n"
     ]
    }
   ],
   "source": [
    "# new df with reduced memory footprint\n",
    "new_df.info()"
   ]
  },
  {
   "cell_type": "markdown",
   "metadata": {},
   "source": [
    "### Create train and test split\n",
    "\n",
    "Let us use a 60:20:20 split for train:validate:test datasets"
   ]
  },
  {
   "cell_type": "code",
   "execution_count": 106,
   "metadata": {},
   "outputs": [],
   "source": [
    "train_df, valid_df = train_test_split(new_df, test_size=0.2, stratify=new_df['is_ultra'], random_state=42)\n",
    "train_df, test_df = train_test_split(train_df, test_size=0.2, stratify=train_df['is_ultra'], random_state=42)"
   ]
  },
  {
   "cell_type": "code",
   "execution_count": 107,
   "metadata": {},
   "outputs": [
    {
     "data": {
      "text/plain": [
       "((2056, 6), (643, 6), (515, 6))"
      ]
     },
     "execution_count": 107,
     "metadata": {},
     "output_type": "execute_result"
    }
   ],
   "source": [
    "train_df.shape, valid_df.shape, test_df.shape"
   ]
  },
  {
   "cell_type": "code",
   "execution_count": 108,
   "metadata": {},
   "outputs": [
    {
     "data": {
      "text/plain": [
       "0.6397013067828251"
      ]
     },
     "execution_count": 108,
     "metadata": {},
     "output_type": "execute_result"
    }
   ],
   "source": [
    "train_df.shape[0]/(train_df.shape[0] + valid_df.shape[0] + test_df.shape[0])"
   ]
  },
  {
   "cell_type": "code",
   "execution_count": 109,
   "metadata": {},
   "outputs": [
    {
     "data": {
      "text/plain": [
       "0    0.69358\n",
       "1    0.30642\n",
       "Name: is_ultra, dtype: float64"
      ]
     },
     "execution_count": 109,
     "metadata": {},
     "output_type": "execute_result"
    }
   ],
   "source": [
    "# check distribution of the target\n",
    "train_df['is_ultra'].value_counts(normalize=True)"
   ]
  },
  {
   "cell_type": "code",
   "execution_count": 110,
   "metadata": {},
   "outputs": [
    {
     "data": {
      "text/plain": [
       "0    0.693624\n",
       "1    0.306376\n",
       "Name: is_ultra, dtype: float64"
      ]
     },
     "execution_count": 110,
     "metadata": {},
     "output_type": "execute_result"
    }
   ],
   "source": [
    "# check distribution of the target\n",
    "valid_df['is_ultra'].value_counts(normalize=True)"
   ]
  },
  {
   "cell_type": "code",
   "execution_count": 111,
   "metadata": {},
   "outputs": [
    {
     "data": {
      "text/plain": [
       "0    0.693204\n",
       "1    0.306796\n",
       "Name: is_ultra, dtype: float64"
      ]
     },
     "execution_count": 111,
     "metadata": {},
     "output_type": "execute_result"
    }
   ],
   "source": [
    "# check distribution of the target\n",
    "test_df['is_ultra'].value_counts(normalize=True)"
   ]
  },
  {
   "cell_type": "markdown",
   "metadata": {},
   "source": [
    "**Conclusion**\n",
    "\n",
    "1) We have shuffled and stratified the dataset and split it into 3 ratios: 60:20:20 for train, valid and test sets\n",
    "respectively.\n",
    "\n",
    "2) The proportions of the target is uniform across the 3 datasets."
   ]
  },
  {
   "cell_type": "markdown",
   "metadata": {},
   "source": [
    "### Models with various hyperparameters\n",
    "\n",
    "`is_ultra` — plan for the current month (Ultra - 1, Smart - 0)"
   ]
  },
  {
   "cell_type": "code",
   "execution_count": 249,
   "metadata": {},
   "outputs": [],
   "source": [
    "def fit_model(sk_model, train_X, train_y, valid_X, valid_y, \n",
    "              hyperparameters={}, model_name='', is_lr=False):\n",
    "    \"\"\"\n",
    "    Build various models with their choice\n",
    "    of hyperparameter which is a dictionary\n",
    "    \"\"\"\n",
    "    results = pd.DataFrame()\n",
    "    acc = []\n",
    "    param = {}\n",
    "    num_test = np.arange(1, len(list(hyperparameters.values())[0])+1)\n",
    "    best_acc = 0\n",
    "    best_model = None\n",
    "    for val in list(hyperparameters.values())[0]:\n",
    "        arg = list(hyperparameters.keys())[0]\n",
    "        param = {arg: val}\n",
    "        if is_lr:\n",
    "            param.update(solver = 'liblinear')\n",
    "        model = sk_model(**param, random_state=42)\n",
    "        model.fit(train_X, train_y)\n",
    "        preds = model.predict(valid_X)\n",
    "        r = accuracy_score(valid_y, preds)\n",
    "        acc.append(r)\n",
    "        if r > best_acc:\n",
    "            # print('Best acc', r)\n",
    "            # print('Best model', model)\n",
    "            best_acc = r\n",
    "            best_model = model\n",
    "    return best_model, pd.DataFrame({'num_tests': num_test, 'accuracy': acc, 'model': model_name})   "
   ]
  },
  {
   "cell_type": "code",
   "execution_count": 250,
   "metadata": {},
   "outputs": [],
   "source": [
    "train_X = train_df.drop(['is_ultra'], axis=1)\n",
    "train_y = train_df['is_ultra']\n",
    "valid_X = valid_df.drop(['is_ultra'], axis=1)\n",
    "valid_y = valid_df['is_ultra']\n",
    "hyperparameters = {\n",
    "    'max_depth': np.linspace(2, 20, 10)\n",
    "}\n",
    "best_dt_model, dt_results = fit_model(DecisionTreeClassifier, train_X, train_y, valid_X, valid_y, \n",
    "              hyperparameters=hyperparameters, model_name='DT')"
   ]
  },
  {
   "cell_type": "code",
   "execution_count": 251,
   "metadata": {},
   "outputs": [],
   "source": [
    "train_X = train_df.drop(['is_ultra'], axis=1)\n",
    "train_y = train_df['is_ultra']\n",
    "valid_X = valid_df.drop(['is_ultra'], axis=1)\n",
    "valid_y = valid_df['is_ultra']\n",
    "hyperparameters = {\n",
    "    'C': [.0000001, .000001, .00001, .0001, .001, .01, .1, 1, 10, 100],\n",
    "    'solver': 'liblinear'\n",
    "}\n",
    "best_lr_model, lr_results = fit_model(LogisticRegression, train_X, train_y, valid_X, valid_y, \n",
    "              hyperparameters=hyperparameters, is_lr=True, model_name='LR')"
   ]
  },
  {
   "cell_type": "code",
   "execution_count": 252,
   "metadata": {},
   "outputs": [],
   "source": [
    "train_X = train_df.drop(['is_ultra'], axis=1)\n",
    "train_y = train_df['is_ultra']\n",
    "valid_X = valid_df.drop(['is_ultra'], axis=1)\n",
    "valid_y = valid_df['is_ultra']\n",
    "hyperparameters = {\n",
    "    'n_estimators': np.arange(50, 150, 10)\n",
    "}\n",
    "best_rf_model, rf_results = fit_model(RandomForestClassifier, train_X, train_y, valid_X, valid_y, \n",
    "              hyperparameters=hyperparameters, model_name='RF')"
   ]
  },
  {
   "cell_type": "code",
   "execution_count": 286,
   "metadata": {},
   "outputs": [],
   "source": [
    "def plot_model_accuracies(df):\n",
    "    \"\"\"\n",
    "    Plot model accuracies\n",
    "    \"\"\"\n",
    "    for model in df['model'].unique():\n",
    "        df[df['model'] == model]['accuracy'].plot(figsize=(9, 7), \n",
    "                                                  title='Accuracies for different models',\n",
    "                                                  label=model)\n",
    "    plt.legend()\n",
    "    plt.xlabel('Test number')\n",
    "    plt.ylabel('Accuracy')\n",
    "    plt.show()"
   ]
  },
  {
   "cell_type": "code",
   "execution_count": 287,
   "metadata": {},
   "outputs": [
    {
     "data": {
      "image/png": "[encoded data removed]",
      "text/plain": [
       "<Figure size 648x504 with 1 Axes>"
      ]
     },
     "metadata": {
      "needs_background": "light"
     },
     "output_type": "display_data"
    }
   ],
   "source": [
    "plot_model_accuracies(pd.concat([dt_results, lr_results, rf_results], axis=0))"
   ]
  },
  {
   "cell_type": "code",
   "execution_count": 293,
   "metadata": {},
   "outputs": [
    {
     "data": {
      "text/plain": [
       "(RandomForestClassifier(bootstrap=True, class_weight=None, criterion='gini',\n",
       "                        max_depth=None, max_features='auto', max_leaf_nodes=None,\n",
       "                        min_impurity_decrease=0.0, min_impurity_split=None,\n",
       "                        min_samples_leaf=1, min_samples_split=2,\n",
       "                        min_weight_fraction_leaf=0.0, n_estimators=120,\n",
       "                        n_jobs=None, oob_score=False, random_state=42, verbose=0,\n",
       "                        warm_start=False),\n",
       " 0.8273716951788491)"
      ]
     },
     "execution_count": 293,
     "metadata": {},
     "output_type": "execute_result"
    }
   ],
   "source": [
    "# performance of best model\n",
    "best_rf_model, rf_results['accuracy'].max()"
   ]
  },
  {
   "cell_type": "markdown",
   "metadata": {},
   "source": [
    "**Conclusion**\n",
    "\n",
    "1) Off the 3 models tested: DecisionTreeClassifier, LogisticRegression and RandomForestClasifier, only RandomForest\n",
    "seems to be consistent; the accuracies, for 10 runs of the model with `n_estimators` ranging from 50 - 150, is in 80%s. LogisticRegresion accuracies plateaus after the 6th run with `C =0.01`, and DecisionTreeClassifier is the worst\n",
    "of the lot with its accuracy dropping off after the 4th run with a `max_depth=10`.\n",
    "\n",
    "2) RandomForest gave its best model with `n_estimators=120` with an accuracy of ~83%."
   ]
  },
  {
   "cell_type": "markdown",
   "metadata": {},
   "source": [
    "### Test the model"
   ]
  },
  {
   "cell_type": "code",
   "execution_count": 295,
   "metadata": {},
   "outputs": [
    {
     "name": "stdout",
     "output_type": "stream",
     "text": [
      "Best performing model's accuracy on the test set is 0.7883495145631068\n"
     ]
    }
   ],
   "source": [
    "test_X = test_df.drop(['is_ultra'], axis=1)\n",
    "test_y = test_df['is_ultra']\n",
    "preds = best_rf_model.predict(test_X)\n",
    "acc = accuracy_score(test_y, preds)\n",
    "print(\"Best performing model's accuracy on the test set is\", acc)"
   ]
  },
  {
   "cell_type": "code",
   "execution_count": 297,
   "metadata": {},
   "outputs": [
    {
     "name": "stdout",
     "output_type": "stream",
     "text": [
      "              precision    recall  f1-score   support\n",
      "\n",
      "           0       0.81      0.90      0.86       357\n",
      "           1       0.71      0.53      0.61       158\n",
      "\n",
      "    accuracy                           0.79       515\n",
      "   macro avg       0.76      0.72      0.73       515\n",
      "weighted avg       0.78      0.79      0.78       515\n",
      "\n"
     ]
    }
   ],
   "source": [
    "print(classification_report(test_y, preds))"
   ]
  },
  {
   "cell_type": "markdown",
   "metadata": {},
   "source": [
    "**Conclusion**\n",
    "\n",
    "1) There is some overfitting in the test set accuracy, nevertheless, it is ~79%.\n",
    "\n",
    "2) From the classification report we can see that the model is struggling to improve the recall for label=1, which\n",
    "is the Ultra plan users. One reason could be that they are not well represented in the data. Another reason could be the size of the dataset."
   ]
  },
  {
   "cell_type": "markdown",
   "metadata": {},
   "source": [
    "### Sanity test"
   ]
  },
  {
   "cell_type": "code",
   "execution_count": 298,
   "metadata": {},
   "outputs": [
    {
     "data": {
      "text/plain": [
       "0    0.693528\n",
       "1    0.306472\n",
       "Name: is_ultra, dtype: float64"
      ]
     },
     "execution_count": 298,
     "metadata": {},
     "output_type": "execute_result"
    }
   ],
   "source": [
    "new_df['is_ultra'].value_counts(normalize=True)"
   ]
  },
  {
   "cell_type": "markdown",
   "metadata": {},
   "source": [
    "**Conclusion**\n",
    "\n",
    "1) If the model selected the Smart plan user, all the time, then this will happen with a\n",
    "69% chance; this is lower than our model accuracy of 79%, which is a 10 percentage point improvement."
   ]
  },
  {
   "cell_type": "markdown",
   "metadata": {},
   "source": [
    "**Summary**\n",
    "\n",
    "1) Three models - DecisionTreeClassifier, LogisticRegression, and RandomForestClassifier were built and tested with 10 different hyperparameters\n",
    "that are specific to the respecitive models, and the clear winner is RandomForestClassifier with `n_estimators=120` and an accuracy of ~83%.\n",
    "\n",
    "2) The results on the test set deteriorated slightly due to overfitting, and we obtained a test set accuracy of ~79%.\n",
    "\n",
    "3) Asuming the model picks the Smart plan user all the time, this will occur with a 69% probablity. Our model out performs the sanity check, which confirms that it is working correctly."
   ]
  }
 ],
 "metadata": {
  "kernelspec": {
   "display_name": "Python 3",
   "language": "python",
   "name": "python3"
  },
  "language_info": {
   "codemirror_mode": {
    "name": "ipython",
    "version": 3
   },
   "file_extension": ".py",
   "mimetype": "text/x-python",
   "name": "python",
   "nbconvert_exporter": "python",
   "pygments_lexer": "ipython3",
   "version": "3.6.13"
  },
  "toc": {
   "base_numbering": 1,
   "nav_menu": {},
   "number_sections": true,
   "sideBar": true,
   "skip_h1_title": true,
   "title_cell": "Table of Contents",
   "title_sidebar": "Contents",
   "toc_cell": false,
   "toc_position": {},
   "toc_section_display": true,
   "toc_window_display": false
  }
 },
 "nbformat": 4,
 "nbformat_minor": 2
}
