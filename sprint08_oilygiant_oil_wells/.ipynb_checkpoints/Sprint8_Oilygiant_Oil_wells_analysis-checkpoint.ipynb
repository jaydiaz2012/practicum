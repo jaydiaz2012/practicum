{
 "cells": [
  {
   "cell_type": "markdown",
   "metadata": {},
   "source": [
    "### Project description\n",
    "\n",
    "You work for the OilyGiant mining company. Your task is to find the best place for a new well.\n",
    "\n",
    "Steps to choose the location:\n",
    "Collect the oil well parameters in the selected region: oil quality and volume of reserves;\n",
    "\n",
    "Build a model for predicting the volume of reserves in the new wells;\n",
    "Pick the oil wells with the highest estimated values;\n",
    "Pick the region with the highest total profit for the selected oil wells.\n",
    "You have data on oil samples from three regions. Parameters of each oil well in the region are already known. Build a model that will help to pick the region with the highest profit margin. Analyze potential profit and risks using the Bootstrapping technique.\n",
    "\n",
    "**Goal**\n",
    "\n",
    "Find the region with highest profit margin."
   ]
  },
  {
   "cell_type": "code",
   "execution_count": 1,
   "metadata": {},
   "outputs": [],
   "source": [
    "import pandas as pd\n",
    "import numpy as np\n",
    "import matplotlib.pyplot as plt\n",
    "import seaborn as sns\n",
    "import os\n",
    "from sklearn.linear_model import LinearRegression\n",
    "from sklearn.metrics import r2_score, mean_squared_error\n",
    "from sklearn.model_selection import train_test_split\n",
    "\n",
    "import warnings\n",
    "\n",
    "warnings.filterwarnings(\"ignore\", message=\"numpy.dtype size changed\")\n",
    "warnings.filterwarnings(\"ignore\", message=\"numpy.ufunc size changed\")\n",
    "pd.set_option('MAX_COLUMNS', None)"
   ]
  },
  {
   "cell_type": "markdown",
   "metadata": {},
   "source": [
    "### Download and prepare the data. Explain the procedure"
   ]
  },
  {
   "cell_type": "code",
   "execution_count": 2,
   "metadata": {},
   "outputs": [],
   "source": [
    "path = r'/datasets'\n",
    "datasets = ['geo_data_0.csv', 'geo_data_1.csv', 'geo_data_2.csv']"
   ]
  },
  {
   "cell_type": "code",
   "execution_count": 3,
   "metadata": {},
   "outputs": [],
   "source": [
    "# loop through the datasets\n",
    "# add a column to identify each dataset\n",
    "geo_data_df = pd.DataFrame()\n",
    "for i, dataset in enumerate(datasets):\n",
    "    df = pd.read_csv(os.path.join(path, dataset))\n",
    "    df['region'] = f'region{i+1}'\n",
    "    geo_data_df = pd.concat([geo_data_df, df], axis=0)"
   ]
  },
  {
   "cell_type": "code",
   "execution_count": 4,
   "metadata": {},
   "outputs": [
    {
     "data": {
      "text/plain": [
       "(300000, 6)"
      ]
     },
     "execution_count": 4,
     "metadata": {},
     "output_type": "execute_result"
    }
   ],
   "source": [
    "# shape\n",
    "geo_data_df.shape"
   ]
  },
  {
   "cell_type": "code",
   "execution_count": 5,
   "metadata": {},
   "outputs": [
    {
     "data": {
      "text/html": [
       "<div>\n",
       "<style scoped>\n",
       "    .dataframe tbody tr th:only-of-type {\n",
       "        vertical-align: middle;\n",
       "    }\n",
       "\n",
       "    .dataframe tbody tr th {\n",
       "        vertical-align: top;\n",
       "    }\n",
       "\n",
       "    .dataframe thead th {\n",
       "        text-align: right;\n",
       "    }\n",
       "</style>\n",
       "<table border=\"1\" class=\"dataframe\">\n",
       "  <thead>\n",
       "    <tr style=\"text-align: right;\">\n",
       "      <th></th>\n",
       "      <th>id</th>\n",
       "      <th>f0</th>\n",
       "      <th>f1</th>\n",
       "      <th>f2</th>\n",
       "      <th>product</th>\n",
       "      <th>region</th>\n",
       "    </tr>\n",
       "  </thead>\n",
       "  <tbody>\n",
       "    <tr>\n",
       "      <td>0</td>\n",
       "      <td>txEyH</td>\n",
       "      <td>0.705745</td>\n",
       "      <td>-0.497823</td>\n",
       "      <td>1.221170</td>\n",
       "      <td>105.280062</td>\n",
       "      <td>region1</td>\n",
       "    </tr>\n",
       "    <tr>\n",
       "      <td>1</td>\n",
       "      <td>2acmU</td>\n",
       "      <td>1.334711</td>\n",
       "      <td>-0.340164</td>\n",
       "      <td>4.365080</td>\n",
       "      <td>73.037750</td>\n",
       "      <td>region1</td>\n",
       "    </tr>\n",
       "    <tr>\n",
       "      <td>2</td>\n",
       "      <td>409Wp</td>\n",
       "      <td>1.022732</td>\n",
       "      <td>0.151990</td>\n",
       "      <td>1.419926</td>\n",
       "      <td>85.265647</td>\n",
       "      <td>region1</td>\n",
       "    </tr>\n",
       "    <tr>\n",
       "      <td>3</td>\n",
       "      <td>iJLyR</td>\n",
       "      <td>-0.032172</td>\n",
       "      <td>0.139033</td>\n",
       "      <td>2.978566</td>\n",
       "      <td>168.620776</td>\n",
       "      <td>region1</td>\n",
       "    </tr>\n",
       "    <tr>\n",
       "      <td>4</td>\n",
       "      <td>Xdl7t</td>\n",
       "      <td>1.988431</td>\n",
       "      <td>0.155413</td>\n",
       "      <td>4.751769</td>\n",
       "      <td>154.036647</td>\n",
       "      <td>region1</td>\n",
       "    </tr>\n",
       "  </tbody>\n",
       "</table>\n",
       "</div>"
      ],
      "text/plain": [
       "      id        f0        f1        f2     product   region\n",
       "0  txEyH  0.705745 -0.497823  1.221170  105.280062  region1\n",
       "1  2acmU  1.334711 -0.340164  4.365080   73.037750  region1\n",
       "2  409Wp  1.022732  0.151990  1.419926   85.265647  region1\n",
       "3  iJLyR -0.032172  0.139033  2.978566  168.620776  region1\n",
       "4  Xdl7t  1.988431  0.155413  4.751769  154.036647  region1"
      ]
     },
     "execution_count": 5,
     "metadata": {},
     "output_type": "execute_result"
    }
   ],
   "source": [
    "# top 5 records\n",
    "geo_data_df.head()"
   ]
  },
  {
   "cell_type": "code",
   "execution_count": 6,
   "metadata": {},
   "outputs": [
    {
     "name": "stdout",
     "output_type": "stream",
     "text": [
      "<class 'pandas.core.frame.DataFrame'>\n",
      "Int64Index: 300000 entries, 0 to 99999\n",
      "Data columns (total 6 columns):\n",
      "id         300000 non-null object\n",
      "f0         300000 non-null float64\n",
      "f1         300000 non-null float64\n",
      "f2         300000 non-null float64\n",
      "product    300000 non-null float64\n",
      "region     300000 non-null object\n",
      "dtypes: float64(4), object(2)\n",
      "memory usage: 16.0+ MB\n"
     ]
    }
   ],
   "source": [
    "# dtypes\n",
    "geo_data_df.info()"
   ]
  },
  {
   "cell_type": "code",
   "execution_count": 7,
   "metadata": {},
   "outputs": [
    {
     "data": {
      "text/plain": [
       "0"
      ]
     },
     "execution_count": 7,
     "metadata": {},
     "output_type": "execute_result"
    }
   ],
   "source": [
    "# any duplicates?\n",
    "geo_data_df.duplicated().sum()"
   ]
  },
  {
   "cell_type": "code",
   "execution_count": 8,
   "metadata": {},
   "outputs": [
    {
     "data": {
      "text/plain": [
       "49"
      ]
     },
     "execution_count": 8,
     "metadata": {},
     "output_type": "execute_result"
    }
   ],
   "source": [
    "# 49 wells are duplicated\n",
    "geo_data_df['id'].duplicated().sum()"
   ]
  },
  {
   "cell_type": "code",
   "execution_count": 9,
   "metadata": {},
   "outputs": [
    {
     "data": {
      "text/html": [
       "<div>\n",
       "<style scoped>\n",
       "    .dataframe tbody tr th:only-of-type {\n",
       "        vertical-align: middle;\n",
       "    }\n",
       "\n",
       "    .dataframe tbody tr th {\n",
       "        vertical-align: top;\n",
       "    }\n",
       "\n",
       "    .dataframe thead th {\n",
       "        text-align: right;\n",
       "    }\n",
       "</style>\n",
       "<table border=\"1\" class=\"dataframe\">\n",
       "  <thead>\n",
       "    <tr style=\"text-align: right;\">\n",
       "      <th></th>\n",
       "      <th>id</th>\n",
       "      <th>f0</th>\n",
       "      <th>f1</th>\n",
       "      <th>f2</th>\n",
       "      <th>product</th>\n",
       "      <th>region</th>\n",
       "    </tr>\n",
       "  </thead>\n",
       "  <tbody>\n",
       "    <tr>\n",
       "      <td>7530</td>\n",
       "      <td>HZww2</td>\n",
       "      <td>1.061194</td>\n",
       "      <td>-0.373969</td>\n",
       "      <td>10.430210</td>\n",
       "      <td>158.828695</td>\n",
       "      <td>region1</td>\n",
       "    </tr>\n",
       "    <tr>\n",
       "      <td>41724</td>\n",
       "      <td>bxg6G</td>\n",
       "      <td>-0.823752</td>\n",
       "      <td>0.546319</td>\n",
       "      <td>3.630479</td>\n",
       "      <td>93.007798</td>\n",
       "      <td>region1</td>\n",
       "    </tr>\n",
       "    <tr>\n",
       "      <td>51970</td>\n",
       "      <td>A5aEY</td>\n",
       "      <td>-0.180335</td>\n",
       "      <td>0.935548</td>\n",
       "      <td>-2.094773</td>\n",
       "      <td>33.020205</td>\n",
       "      <td>region1</td>\n",
       "    </tr>\n",
       "    <tr>\n",
       "      <td>63593</td>\n",
       "      <td>QcMuo</td>\n",
       "      <td>0.635635</td>\n",
       "      <td>-0.473422</td>\n",
       "      <td>0.862670</td>\n",
       "      <td>64.578675</td>\n",
       "      <td>region1</td>\n",
       "    </tr>\n",
       "    <tr>\n",
       "      <td>66136</td>\n",
       "      <td>74z30</td>\n",
       "      <td>1.084962</td>\n",
       "      <td>-0.312358</td>\n",
       "      <td>6.990771</td>\n",
       "      <td>127.643327</td>\n",
       "      <td>region1</td>\n",
       "    </tr>\n",
       "  </tbody>\n",
       "</table>\n",
       "</div>"
      ],
      "text/plain": [
       "          id        f0        f1         f2     product   region\n",
       "7530   HZww2  1.061194 -0.373969  10.430210  158.828695  region1\n",
       "41724  bxg6G -0.823752  0.546319   3.630479   93.007798  region1\n",
       "51970  A5aEY -0.180335  0.935548  -2.094773   33.020205  region1\n",
       "63593  QcMuo  0.635635 -0.473422   0.862670   64.578675  region1\n",
       "66136  74z30  1.084962 -0.312358   6.990771  127.643327  region1"
      ]
     },
     "execution_count": 9,
     "metadata": {},
     "output_type": "execute_result"
    }
   ],
   "source": [
    "geo_data_df[geo_data_df['id'].duplicated()].head()"
   ]
  },
  {
   "cell_type": "code",
   "execution_count": 10,
   "metadata": {},
   "outputs": [
    {
     "data": {
      "text/plain": [
       "region\n",
       "region1    10\n",
       "region2    14\n",
       "region3    25\n",
       "dtype: int64"
      ]
     },
     "execution_count": 10,
     "metadata": {},
     "output_type": "execute_result"
    }
   ],
   "source": [
    "# duplicate wells by source\n",
    "geo_data_df[geo_data_df['id'].duplicated()].groupby('region').size()"
   ]
  },
  {
   "cell_type": "code",
   "execution_count": 11,
   "metadata": {},
   "outputs": [
    {
     "data": {
      "text/plain": [
       "299951"
      ]
     },
     "execution_count": 11,
     "metadata": {},
     "output_type": "execute_result"
    }
   ],
   "source": [
    "# num of unique wells\n",
    "geo_data_df['id'].nunique()"
   ]
  },
  {
   "cell_type": "code",
   "execution_count": 12,
   "metadata": {},
   "outputs": [
    {
     "data": {
      "text/html": [
       "<div>\n",
       "<style scoped>\n",
       "    .dataframe tbody tr th:only-of-type {\n",
       "        vertical-align: middle;\n",
       "    }\n",
       "\n",
       "    .dataframe tbody tr th {\n",
       "        vertical-align: top;\n",
       "    }\n",
       "\n",
       "    .dataframe thead th {\n",
       "        text-align: right;\n",
       "    }\n",
       "</style>\n",
       "<table border=\"1\" class=\"dataframe\">\n",
       "  <thead>\n",
       "    <tr style=\"text-align: right;\">\n",
       "      <th></th>\n",
       "      <th>f0</th>\n",
       "      <th>f1</th>\n",
       "      <th>f2</th>\n",
       "      <th>product</th>\n",
       "    </tr>\n",
       "  </thead>\n",
       "  <tbody>\n",
       "    <tr>\n",
       "      <td>count</td>\n",
       "      <td>300000.000000</td>\n",
       "      <td>300000.000000</td>\n",
       "      <td>300000.000000</td>\n",
       "      <td>300000.000000</td>\n",
       "    </tr>\n",
       "    <tr>\n",
       "      <td>mean</td>\n",
       "      <td>0.547913</td>\n",
       "      <td>-1.516172</td>\n",
       "      <td>2.497439</td>\n",
       "      <td>85.441667</td>\n",
       "    </tr>\n",
       "    <tr>\n",
       "      <td>std</td>\n",
       "      <td>5.316634</td>\n",
       "      <td>3.900220</td>\n",
       "      <td>2.916502</td>\n",
       "      <td>46.519494</td>\n",
       "    </tr>\n",
       "    <tr>\n",
       "      <td>min</td>\n",
       "      <td>-31.609576</td>\n",
       "      <td>-26.358598</td>\n",
       "      <td>-12.088328</td>\n",
       "      <td>0.000000</td>\n",
       "    </tr>\n",
       "    <tr>\n",
       "      <td>25%</td>\n",
       "      <td>-1.003037</td>\n",
       "      <td>-2.478939</td>\n",
       "      <td>0.648213</td>\n",
       "      <td>52.666629</td>\n",
       "    </tr>\n",
       "    <tr>\n",
       "      <td>50%</td>\n",
       "      <td>0.347934</td>\n",
       "      <td>-0.229632</td>\n",
       "      <td>2.491215</td>\n",
       "      <td>84.038886</td>\n",
       "    </tr>\n",
       "    <tr>\n",
       "      <td>75%</td>\n",
       "      <td>1.755365</td>\n",
       "      <td>0.678562</td>\n",
       "      <td>4.344943</td>\n",
       "      <td>124.174086</td>\n",
       "    </tr>\n",
       "    <tr>\n",
       "      <td>max</td>\n",
       "      <td>29.421755</td>\n",
       "      <td>18.734063</td>\n",
       "      <td>16.739402</td>\n",
       "      <td>190.029838</td>\n",
       "    </tr>\n",
       "  </tbody>\n",
       "</table>\n",
       "</div>"
      ],
      "text/plain": [
       "                  f0             f1             f2        product\n",
       "count  300000.000000  300000.000000  300000.000000  300000.000000\n",
       "mean        0.547913      -1.516172       2.497439      85.441667\n",
       "std         5.316634       3.900220       2.916502      46.519494\n",
       "min       -31.609576     -26.358598     -12.088328       0.000000\n",
       "25%        -1.003037      -2.478939       0.648213      52.666629\n",
       "50%         0.347934      -0.229632       2.491215      84.038886\n",
       "75%         1.755365       0.678562       4.344943     124.174086\n",
       "max        29.421755      18.734063      16.739402     190.029838"
      ]
     },
     "execution_count": 12,
     "metadata": {},
     "output_type": "execute_result"
    }
   ],
   "source": [
    "# 5 point summary\n",
    "geo_data_df.describe()"
   ]
  },
  {
   "cell_type": "code",
   "execution_count": 13,
   "metadata": {},
   "outputs": [
    {
     "data": {
      "text/html": [
       "<div>\n",
       "<style scoped>\n",
       "    .dataframe tbody tr th:only-of-type {\n",
       "        vertical-align: middle;\n",
       "    }\n",
       "\n",
       "    .dataframe tbody tr th {\n",
       "        vertical-align: top;\n",
       "    }\n",
       "\n",
       "    .dataframe thead tr th {\n",
       "        text-align: left;\n",
       "    }\n",
       "\n",
       "    .dataframe thead tr:last-of-type th {\n",
       "        text-align: right;\n",
       "    }\n",
       "</style>\n",
       "<table border=\"1\" class=\"dataframe\">\n",
       "  <thead>\n",
       "    <tr>\n",
       "      <th></th>\n",
       "      <th colspan=\"8\" halign=\"left\">f0</th>\n",
       "      <th colspan=\"8\" halign=\"left\">f1</th>\n",
       "      <th colspan=\"8\" halign=\"left\">f2</th>\n",
       "      <th colspan=\"8\" halign=\"left\">product</th>\n",
       "    </tr>\n",
       "    <tr>\n",
       "      <th></th>\n",
       "      <th>count</th>\n",
       "      <th>mean</th>\n",
       "      <th>std</th>\n",
       "      <th>min</th>\n",
       "      <th>25%</th>\n",
       "      <th>50%</th>\n",
       "      <th>75%</th>\n",
       "      <th>max</th>\n",
       "      <th>count</th>\n",
       "      <th>mean</th>\n",
       "      <th>std</th>\n",
       "      <th>min</th>\n",
       "      <th>25%</th>\n",
       "      <th>50%</th>\n",
       "      <th>75%</th>\n",
       "      <th>max</th>\n",
       "      <th>count</th>\n",
       "      <th>mean</th>\n",
       "      <th>std</th>\n",
       "      <th>min</th>\n",
       "      <th>25%</th>\n",
       "      <th>50%</th>\n",
       "      <th>75%</th>\n",
       "      <th>max</th>\n",
       "      <th>count</th>\n",
       "      <th>mean</th>\n",
       "      <th>std</th>\n",
       "      <th>min</th>\n",
       "      <th>25%</th>\n",
       "      <th>50%</th>\n",
       "      <th>75%</th>\n",
       "      <th>max</th>\n",
       "    </tr>\n",
       "    <tr>\n",
       "      <th>region</th>\n",
       "      <th></th>\n",
       "      <th></th>\n",
       "      <th></th>\n",
       "      <th></th>\n",
       "      <th></th>\n",
       "      <th></th>\n",
       "      <th></th>\n",
       "      <th></th>\n",
       "      <th></th>\n",
       "      <th></th>\n",
       "      <th></th>\n",
       "      <th></th>\n",
       "      <th></th>\n",
       "      <th></th>\n",
       "      <th></th>\n",
       "      <th></th>\n",
       "      <th></th>\n",
       "      <th></th>\n",
       "      <th></th>\n",
       "      <th></th>\n",
       "      <th></th>\n",
       "      <th></th>\n",
       "      <th></th>\n",
       "      <th></th>\n",
       "      <th></th>\n",
       "      <th></th>\n",
       "      <th></th>\n",
       "      <th></th>\n",
       "      <th></th>\n",
       "      <th></th>\n",
       "      <th></th>\n",
       "      <th></th>\n",
       "    </tr>\n",
       "  </thead>\n",
       "  <tbody>\n",
       "    <tr>\n",
       "      <td>region1</td>\n",
       "      <td>100000.0</td>\n",
       "      <td>0.500419</td>\n",
       "      <td>0.871832</td>\n",
       "      <td>-1.408605</td>\n",
       "      <td>-0.072580</td>\n",
       "      <td>0.502360</td>\n",
       "      <td>1.073581</td>\n",
       "      <td>2.362331</td>\n",
       "      <td>100000.0</td>\n",
       "      <td>0.250143</td>\n",
       "      <td>0.504433</td>\n",
       "      <td>-0.848218</td>\n",
       "      <td>-0.200881</td>\n",
       "      <td>0.250252</td>\n",
       "      <td>0.700646</td>\n",
       "      <td>1.343769</td>\n",
       "      <td>100000.0</td>\n",
       "      <td>2.502647</td>\n",
       "      <td>3.248248</td>\n",
       "      <td>-12.088328</td>\n",
       "      <td>0.287748</td>\n",
       "      <td>2.515969</td>\n",
       "      <td>4.715088</td>\n",
       "      <td>16.003790</td>\n",
       "      <td>100000.0</td>\n",
       "      <td>92.500</td>\n",
       "      <td>44.288691</td>\n",
       "      <td>0.0</td>\n",
       "      <td>56.497507</td>\n",
       "      <td>91.849972</td>\n",
       "      <td>128.564089</td>\n",
       "      <td>185.364347</td>\n",
       "    </tr>\n",
       "    <tr>\n",
       "      <td>region2</td>\n",
       "      <td>100000.0</td>\n",
       "      <td>1.141296</td>\n",
       "      <td>8.965932</td>\n",
       "      <td>-31.609576</td>\n",
       "      <td>-6.298551</td>\n",
       "      <td>1.153055</td>\n",
       "      <td>8.621015</td>\n",
       "      <td>29.421755</td>\n",
       "      <td>100000.0</td>\n",
       "      <td>-4.796579</td>\n",
       "      <td>5.119872</td>\n",
       "      <td>-26.358598</td>\n",
       "      <td>-8.267985</td>\n",
       "      <td>-4.813172</td>\n",
       "      <td>-1.332816</td>\n",
       "      <td>18.734063</td>\n",
       "      <td>100000.0</td>\n",
       "      <td>2.494541</td>\n",
       "      <td>1.703572</td>\n",
       "      <td>-0.018144</td>\n",
       "      <td>1.000021</td>\n",
       "      <td>2.011479</td>\n",
       "      <td>3.999904</td>\n",
       "      <td>5.019721</td>\n",
       "      <td>100000.0</td>\n",
       "      <td>68.825</td>\n",
       "      <td>45.944423</td>\n",
       "      <td>0.0</td>\n",
       "      <td>26.953261</td>\n",
       "      <td>57.085625</td>\n",
       "      <td>107.813044</td>\n",
       "      <td>137.945408</td>\n",
       "    </tr>\n",
       "    <tr>\n",
       "      <td>region3</td>\n",
       "      <td>100000.0</td>\n",
       "      <td>0.002023</td>\n",
       "      <td>1.732045</td>\n",
       "      <td>-8.760004</td>\n",
       "      <td>-1.162288</td>\n",
       "      <td>0.009424</td>\n",
       "      <td>1.158535</td>\n",
       "      <td>7.238262</td>\n",
       "      <td>100000.0</td>\n",
       "      <td>-0.002081</td>\n",
       "      <td>1.730417</td>\n",
       "      <td>-7.084020</td>\n",
       "      <td>-1.174820</td>\n",
       "      <td>-0.009482</td>\n",
       "      <td>1.163678</td>\n",
       "      <td>7.844801</td>\n",
       "      <td>100000.0</td>\n",
       "      <td>2.495128</td>\n",
       "      <td>3.473445</td>\n",
       "      <td>-11.970335</td>\n",
       "      <td>0.130359</td>\n",
       "      <td>2.484236</td>\n",
       "      <td>4.858794</td>\n",
       "      <td>16.739402</td>\n",
       "      <td>100000.0</td>\n",
       "      <td>95.000</td>\n",
       "      <td>44.749921</td>\n",
       "      <td>0.0</td>\n",
       "      <td>59.450441</td>\n",
       "      <td>94.925613</td>\n",
       "      <td>130.595027</td>\n",
       "      <td>190.029838</td>\n",
       "    </tr>\n",
       "  </tbody>\n",
       "</table>\n",
       "</div>"
      ],
      "text/plain": [
       "               f0                                                     \\\n",
       "            count      mean       std        min       25%       50%   \n",
       "region                                                                 \n",
       "region1  100000.0  0.500419  0.871832  -1.408605 -0.072580  0.502360   \n",
       "region2  100000.0  1.141296  8.965932 -31.609576 -6.298551  1.153055   \n",
       "region3  100000.0  0.002023  1.732045  -8.760004 -1.162288  0.009424   \n",
       "\n",
       "                                    f1                                 \\\n",
       "              75%        max     count      mean       std        min   \n",
       "region                                                                  \n",
       "region1  1.073581   2.362331  100000.0  0.250143  0.504433  -0.848218   \n",
       "region2  8.621015  29.421755  100000.0 -4.796579  5.119872 -26.358598   \n",
       "region3  1.158535   7.238262  100000.0 -0.002081  1.730417  -7.084020   \n",
       "\n",
       "                                                        f2            \\\n",
       "              25%       50%       75%        max     count      mean   \n",
       "region                                                                 \n",
       "region1 -0.200881  0.250252  0.700646   1.343769  100000.0  2.502647   \n",
       "region2 -8.267985 -4.813172 -1.332816  18.734063  100000.0  2.494541   \n",
       "region3 -1.174820 -0.009482  1.163678   7.844801  100000.0  2.495128   \n",
       "\n",
       "                                                                       \\\n",
       "              std        min       25%       50%       75%        max   \n",
       "region                                                                  \n",
       "region1  3.248248 -12.088328  0.287748  2.515969  4.715088  16.003790   \n",
       "region2  1.703572  -0.018144  1.000021  2.011479  3.999904   5.019721   \n",
       "region3  3.473445 -11.970335  0.130359  2.484236  4.858794  16.739402   \n",
       "\n",
       "          product                                                            \\\n",
       "            count    mean        std  min        25%        50%         75%   \n",
       "region                                                                        \n",
       "region1  100000.0  92.500  44.288691  0.0  56.497507  91.849972  128.564089   \n",
       "region2  100000.0  68.825  45.944423  0.0  26.953261  57.085625  107.813044   \n",
       "region3  100000.0  95.000  44.749921  0.0  59.450441  94.925613  130.595027   \n",
       "\n",
       "                     \n",
       "                max  \n",
       "region               \n",
       "region1  185.364347  \n",
       "region2  137.945408  \n",
       "region3  190.029838  "
      ]
     },
     "execution_count": 13,
     "metadata": {},
     "output_type": "execute_result"
    }
   ],
   "source": [
    "# 5 point summary by source\n",
    "geo_data_df.groupby('region').describe()"
   ]
  },
  {
   "cell_type": "markdown",
   "metadata": {},
   "source": [
    "**Conclusion**\n",
    "\n",
    "1) There are 300K observations in total, which is equally split across the 3 data sources. Since this is synthetic\n",
    "data, it makes no sense to interpret what each row represents. We can only say that it represent the observation for\n",
    "one oil well.\n",
    "\n",
    "2) There are 49 duplicates in total.\n",
    "\n",
    "3) The mean and std for f0 field in region1 and region3 are very tight compared with the same metrics and field in\n",
    "region2. A similar pattern is observed for f1 field. However, in f2, the deviation around the mean is lower for region2\n",
    "than it is for region1 and region3. It seems to suggest that wells in region1 and region3 are similar; this \n",
    "can also be seen in the product capacity for region1 and region3, where the means appear to be relatively closer to one another\n",
    "than it is for the mean value in region2.\n",
    "\n",
    "4) Product volume ranges 0 to 190K."
   ]
  },
  {
   "cell_type": "markdown",
   "metadata": {},
   "source": [
    "#### Prepare the data\n",
    "\n",
    "1) Remove the duplicate well ids. Since this is synthetic data, it shouldn't matter which of the duplicate\n",
    "wells are removed."
   ]
  },
  {
   "cell_type": "code",
   "execution_count": 14,
   "metadata": {},
   "outputs": [],
   "source": [
    "geo_data_df = geo_data_df.drop_duplicates(subset='id')"
   ]
  },
  {
   "cell_type": "code",
   "execution_count": 15,
   "metadata": {},
   "outputs": [
    {
     "data": {
      "text/plain": [
       "(299951, 6)"
      ]
     },
     "execution_count": 15,
     "metadata": {},
     "output_type": "execute_result"
    }
   ],
   "source": [
    "geo_data_df.shape"
   ]
  },
  {
   "cell_type": "markdown",
   "metadata": {},
   "source": [
    "#### Plot the distribution of product by region"
   ]
  },
  {
   "cell_type": "code",
   "execution_count": 16,
   "metadata": {},
   "outputs": [],
   "source": [
    "def plot_grouped_histogram(df, key, grp='region', bins=20,\n",
    "                          title=None,\n",
    "                          figsize=(9, 7),\n",
    "                          alpha=0.8):\n",
    "    \"\"\"\n",
    "    Plot histogram of key by grouped field\n",
    "    \"\"\"\n",
    "    df.groupby(grp)[key].plot(kind='hist',\n",
    "                             bins=bins,\n",
    "                             title=title,\n",
    "                             figsize=figsize,\n",
    "                             alpha=alpha,\n",
    "                             histtype='stepfilled'\n",
    "                             )\n",
    "    plt.legend()\n",
    "    plt.show()"
   ]
  },
  {
   "cell_type": "code",
   "execution_count": 17,
   "metadata": {},
   "outputs": [
    {
     "data": {
      "image/png": "[encoded data removed]",
      "text/plain": [
       "<Figure size 648x504 with 1 Axes>"
      ]
     },
     "metadata": {
      "needs_background": "light"
     },
     "output_type": "display_data"
    }
   ],
   "source": [
    "plot_grouped_histogram(geo_data_df, 'product', grp='region', bins=20,\n",
    "                          title='Distribution of product capacity by region',\n",
    "                          figsize=(9, 7),\n",
    "                          alpha=0.8)"
   ]
  },
  {
   "cell_type": "code",
   "execution_count": 18,
   "metadata": {},
   "outputs": [],
   "source": [
    "# plt.hist(geo_data_df[geo_data_df['region'] == 'region2']['product'])"
   ]
  },
  {
   "cell_type": "markdown",
   "metadata": {},
   "source": [
    "1) The histogram plot confirms what we've observed in the numerical summary: region2 has a unique pattern - there are\n",
    "gaps, with intervals of ~13K each separating every succeeding observation. In addition, region2 has 2 peaks - first one is at 0 and the other at 138K.\n",
    "\n",
    "2) On the other hand, region1 and region3 are quite similar in their distribution."
   ]
  },
  {
   "cell_type": "code",
   "execution_count": 19,
   "metadata": {},
   "outputs": [
    {
     "data": {
      "image/png": "[encoded data removed]",
      "text/plain": [
       "<Figure size 648x504 with 1 Axes>"
      ]
     },
     "metadata": {
      "needs_background": "light"
     },
     "output_type": "display_data"
    }
   ],
   "source": [
    "plot_grouped_histogram(geo_data_df, 'f0', grp='region', bins=20,\n",
    "                          title='Distribution of f0 by region',\n",
    "                          figsize=(9, 7),\n",
    "                          alpha=0.5)"
   ]
  },
  {
   "cell_type": "markdown",
   "metadata": {},
   "source": [
    "1) region2 has a double hump. region3 has a very narrow distribution with most of the values close to 0. Relative\n",
    "to region 3, has a smaller peak, and it also has a narrow distribution, peaking close to 0."
   ]
  },
  {
   "cell_type": "code",
   "execution_count": 20,
   "metadata": {},
   "outputs": [
    {
     "data": {
      "image/png": "[encoded data removed]",
      "text/plain": [
       "<Figure size 648x504 with 1 Axes>"
      ]
     },
     "metadata": {
      "needs_background": "light"
     },
     "output_type": "display_data"
    }
   ],
   "source": [
    "plot_grouped_histogram(geo_data_df, 'f1', grp='region', bins=20,\n",
    "                          title='Distribution of f1 by region',\n",
    "                          figsize=(9, 7),\n",
    "                          alpha=0.5)"
   ]
  },
  {
   "cell_type": "markdown",
   "metadata": {},
   "source": [
    "1) region2 appears to be a normal distribution peaking below 0. region1 and region3 share a similar shaped distribution except\n",
    "for their heights, region3 is more peakier than region1, and is relatively wider than region1."
   ]
  },
  {
   "cell_type": "code",
   "execution_count": 21,
   "metadata": {},
   "outputs": [
    {
     "data": {
      "image/png": "[encoded data removed]",
      "text/plain": [
       "<Figure size 648x504 with 1 Axes>"
      ]
     },
     "metadata": {
      "needs_background": "light"
     },
     "output_type": "display_data"
    }
   ],
   "source": [
    "plot_grouped_histogram(geo_data_df, 'f2', grp='region', bins=20,\n",
    "                          title='Distribution of f2 by region',\n",
    "                          figsize=(9, 7),\n",
    "                          alpha=0.5)"
   ]
  },
  {
   "cell_type": "markdown",
   "metadata": {},
   "source": [
    "1) region1 and region3 are almost identical, and appear to be normally distributed. However, region2 appears to have\n",
    "gaps between observations; this is similar to what we have seen for `product`."
   ]
  },
  {
   "cell_type": "code",
   "execution_count": 22,
   "metadata": {},
   "outputs": [
    {
     "data": {
      "text/html": [
       "<div>\n",
       "<style scoped>\n",
       "    .dataframe tbody tr th:only-of-type {\n",
       "        vertical-align: middle;\n",
       "    }\n",
       "\n",
       "    .dataframe tbody tr th {\n",
       "        vertical-align: top;\n",
       "    }\n",
       "\n",
       "    .dataframe thead th {\n",
       "        text-align: right;\n",
       "    }\n",
       "</style>\n",
       "<table border=\"1\" class=\"dataframe\">\n",
       "  <thead>\n",
       "    <tr style=\"text-align: right;\">\n",
       "      <th></th>\n",
       "      <th>f0</th>\n",
       "      <th>f1</th>\n",
       "      <th>f2</th>\n",
       "      <th>product</th>\n",
       "    </tr>\n",
       "  </thead>\n",
       "  <tbody>\n",
       "    <tr>\n",
       "      <td>f0</td>\n",
       "      <td>1.000000</td>\n",
       "      <td>0.085508</td>\n",
       "      <td>-0.000879</td>\n",
       "      <td>-0.030447</td>\n",
       "    </tr>\n",
       "    <tr>\n",
       "      <td>f1</td>\n",
       "      <td>0.085508</td>\n",
       "      <td>1.000000</td>\n",
       "      <td>0.000022</td>\n",
       "      <td>0.137242</td>\n",
       "    </tr>\n",
       "    <tr>\n",
       "      <td>f2</td>\n",
       "      <td>-0.000879</td>\n",
       "      <td>0.000022</td>\n",
       "      <td>1.000000</td>\n",
       "      <td>0.533564</td>\n",
       "    </tr>\n",
       "    <tr>\n",
       "      <td>product</td>\n",
       "      <td>-0.030447</td>\n",
       "      <td>0.137242</td>\n",
       "      <td>0.533564</td>\n",
       "      <td>1.000000</td>\n",
       "    </tr>\n",
       "  </tbody>\n",
       "</table>\n",
       "</div>"
      ],
      "text/plain": [
       "               f0        f1        f2   product\n",
       "f0       1.000000  0.085508 -0.000879 -0.030447\n",
       "f1       0.085508  1.000000  0.000022  0.137242\n",
       "f2      -0.000879  0.000022  1.000000  0.533564\n",
       "product -0.030447  0.137242  0.533564  1.000000"
      ]
     },
     "execution_count": 22,
     "metadata": {},
     "output_type": "execute_result"
    }
   ],
   "source": [
    "# overall correlation\n",
    "geo_data_df.corr()"
   ]
  },
  {
   "cell_type": "code",
   "execution_count": 23,
   "metadata": {},
   "outputs": [
    {
     "data": {
      "text/html": [
       "<div>\n",
       "<style scoped>\n",
       "    .dataframe tbody tr th:only-of-type {\n",
       "        vertical-align: middle;\n",
       "    }\n",
       "\n",
       "    .dataframe tbody tr th {\n",
       "        vertical-align: top;\n",
       "    }\n",
       "\n",
       "    .dataframe thead th {\n",
       "        text-align: right;\n",
       "    }\n",
       "</style>\n",
       "<table border=\"1\" class=\"dataframe\">\n",
       "  <thead>\n",
       "    <tr style=\"text-align: right;\">\n",
       "      <th></th>\n",
       "      <th></th>\n",
       "      <th>f0</th>\n",
       "      <th>f1</th>\n",
       "      <th>f2</th>\n",
       "      <th>product</th>\n",
       "    </tr>\n",
       "    <tr>\n",
       "      <th>region</th>\n",
       "      <th></th>\n",
       "      <th></th>\n",
       "      <th></th>\n",
       "      <th></th>\n",
       "      <th></th>\n",
       "    </tr>\n",
       "  </thead>\n",
       "  <tbody>\n",
       "    <tr>\n",
       "      <td rowspan=\"4\" valign=\"top\">region1</td>\n",
       "      <td>f0</td>\n",
       "      <td>1.000000</td>\n",
       "      <td>-0.440717</td>\n",
       "      <td>-0.003211</td>\n",
       "      <td>0.143504</td>\n",
       "    </tr>\n",
       "    <tr>\n",
       "      <td>f1</td>\n",
       "      <td>-0.440717</td>\n",
       "      <td>1.000000</td>\n",
       "      <td>0.001764</td>\n",
       "      <td>-0.192351</td>\n",
       "    </tr>\n",
       "    <tr>\n",
       "      <td>f2</td>\n",
       "      <td>-0.003211</td>\n",
       "      <td>0.001764</td>\n",
       "      <td>1.000000</td>\n",
       "      <td>0.483631</td>\n",
       "    </tr>\n",
       "    <tr>\n",
       "      <td>product</td>\n",
       "      <td>0.143504</td>\n",
       "      <td>-0.192351</td>\n",
       "      <td>0.483631</td>\n",
       "      <td>1.000000</td>\n",
       "    </tr>\n",
       "    <tr>\n",
       "      <td rowspan=\"4\" valign=\"top\">region2</td>\n",
       "      <td>f0</td>\n",
       "      <td>1.000000</td>\n",
       "      <td>0.182278</td>\n",
       "      <td>-0.001821</td>\n",
       "      <td>-0.030534</td>\n",
       "    </tr>\n",
       "    <tr>\n",
       "      <td>f1</td>\n",
       "      <td>0.182278</td>\n",
       "      <td>1.000000</td>\n",
       "      <td>-0.002540</td>\n",
       "      <td>-0.010100</td>\n",
       "    </tr>\n",
       "    <tr>\n",
       "      <td>f2</td>\n",
       "      <td>-0.001821</td>\n",
       "      <td>-0.002540</td>\n",
       "      <td>1.000000</td>\n",
       "      <td>0.999397</td>\n",
       "    </tr>\n",
       "    <tr>\n",
       "      <td>product</td>\n",
       "      <td>-0.030534</td>\n",
       "      <td>-0.010100</td>\n",
       "      <td>0.999397</td>\n",
       "      <td>1.000000</td>\n",
       "    </tr>\n",
       "    <tr>\n",
       "      <td rowspan=\"4\" valign=\"top\">region3</td>\n",
       "      <td>f0</td>\n",
       "      <td>1.000000</td>\n",
       "      <td>0.000435</td>\n",
       "      <td>-0.000530</td>\n",
       "      <td>-0.001923</td>\n",
       "    </tr>\n",
       "    <tr>\n",
       "      <td>f1</td>\n",
       "      <td>0.000435</td>\n",
       "      <td>1.000000</td>\n",
       "      <td>0.000731</td>\n",
       "      <td>-0.001026</td>\n",
       "    </tr>\n",
       "    <tr>\n",
       "      <td>f2</td>\n",
       "      <td>-0.000530</td>\n",
       "      <td>0.000731</td>\n",
       "      <td>1.000000</td>\n",
       "      <td>0.445912</td>\n",
       "    </tr>\n",
       "    <tr>\n",
       "      <td>product</td>\n",
       "      <td>-0.001923</td>\n",
       "      <td>-0.001026</td>\n",
       "      <td>0.445912</td>\n",
       "      <td>1.000000</td>\n",
       "    </tr>\n",
       "  </tbody>\n",
       "</table>\n",
       "</div>"
      ],
      "text/plain": [
       "                       f0        f1        f2   product\n",
       "region                                                 \n",
       "region1 f0       1.000000 -0.440717 -0.003211  0.143504\n",
       "        f1      -0.440717  1.000000  0.001764 -0.192351\n",
       "        f2      -0.003211  0.001764  1.000000  0.483631\n",
       "        product  0.143504 -0.192351  0.483631  1.000000\n",
       "region2 f0       1.000000  0.182278 -0.001821 -0.030534\n",
       "        f1       0.182278  1.000000 -0.002540 -0.010100\n",
       "        f2      -0.001821 -0.002540  1.000000  0.999397\n",
       "        product -0.030534 -0.010100  0.999397  1.000000\n",
       "region3 f0       1.000000  0.000435 -0.000530 -0.001923\n",
       "        f1       0.000435  1.000000  0.000731 -0.001026\n",
       "        f2      -0.000530  0.000731  1.000000  0.445912\n",
       "        product -0.001923 -0.001026  0.445912  1.000000"
      ]
     },
     "execution_count": 23,
     "metadata": {},
     "output_type": "execute_result"
    }
   ],
   "source": [
    "# correlation by region\n",
    "geo_data_df.groupby('region').corr()"
   ]
  },
  {
   "cell_type": "markdown",
   "metadata": {},
   "source": [
    "**Conclusion**\n",
    "\n",
    "1) The plots for f0, f1 and f2 reveal that region1 and region3 share similar characteristics unlike region2 which appears\n",
    "to have different characteristics.\n",
    "\n",
    "2) The numbers appear to be normalized, so there is no need to scale them.\n",
    "\n",
    "3) In the overall correlation, oly `f2` has a moderately strong correlation with `product`. However, when split by\n",
    "`region`, region2's `f2` field is strongly positively correlated with `product`. For region1 and region2, their respective `f2` has a similar positive correlation with `product`.\n",
    "\n",
    "4) In region1, `f1` has a moderately strong negative correlation with `f0`. In region2, the correlation strength is slightly positively correlated. However, in region3, there seems to be no relation between `f0`, `f1`, and `f2`."
   ]
  },
  {
   "cell_type": "markdown",
   "metadata": {},
   "source": [
    "### Train and test the model for each region"
   ]
  },
  {
   "cell_type": "code",
   "execution_count": 24,
   "metadata": {},
   "outputs": [],
   "source": [
    "def build_model(model, train_X, train_y, valid_X, valid_y):\n",
    "    \"\"\"\n",
    "    Build LinearRegression model\n",
    "    \"\"\"\n",
    "    model.fit(train_X, train_y)\n",
    "    preds = model.predict(valid_X)\n",
    "    rmse = np.sqrt(mean_squared_error(valid_y, preds))\n",
    "    score = r2_score(valid_y, preds)\n",
    "    return rmse, score, preds.mean(), valid_y.mean(), preds"
   ]
  },
  {
   "cell_type": "code",
   "execution_count": 25,
   "metadata": {},
   "outputs": [],
   "source": [
    "results = {\n",
    "    'region': [],\n",
    "    'rmse': [],\n",
    "    'scores': [],\n",
    "    'mean_prediction': [],\n",
    "    'mean_target': []\n",
    "}\n",
    "preds_region, target_valid = [], []\n",
    "model = LinearRegression()\n",
    "regions = ['region1', 'region2', 'region3']\n",
    "for region in regions:\n",
    "    features = geo_data_df[geo_data_df['region'] == region].drop(['id', 'product', 'region'], axis=1)\n",
    "    target = geo_data_df[geo_data_df['region'] == region]['product']\n",
    "    train_X, valid_X, train_y, valid_y = train_test_split(features, target, test_size=0.25, random_state=42)\n",
    "    rmse, score, preds_mean, target_mean, preds = build_model(model, train_X, train_y, valid_X, valid_y)\n",
    "    results['region'].append(region)\n",
    "    results['rmse'].append(rmse)\n",
    "    results['scores'].append(score)\n",
    "    results['mean_prediction'].append(preds_mean)\n",
    "    results['mean_target'].append(target_mean)\n",
    "    preds_region.append(preds)\n",
    "    target_valid.append(valid_y.values)"
   ]
  },
  {
   "cell_type": "code",
   "execution_count": 26,
   "metadata": {},
   "outputs": [
    {
     "data": {
      "text/html": [
       "<div>\n",
       "<style scoped>\n",
       "    .dataframe tbody tr th:only-of-type {\n",
       "        vertical-align: middle;\n",
       "    }\n",
       "\n",
       "    .dataframe tbody tr th {\n",
       "        vertical-align: top;\n",
       "    }\n",
       "\n",
       "    .dataframe thead th {\n",
       "        text-align: right;\n",
       "    }\n",
       "</style>\n",
       "<table border=\"1\" class=\"dataframe\">\n",
       "  <thead>\n",
       "    <tr style=\"text-align: right;\">\n",
       "      <th></th>\n",
       "      <th>region</th>\n",
       "      <th>rmse</th>\n",
       "      <th>scores</th>\n",
       "      <th>mean_prediction</th>\n",
       "      <th>mean_target</th>\n",
       "    </tr>\n",
       "  </thead>\n",
       "  <tbody>\n",
       "    <tr>\n",
       "      <td>0</td>\n",
       "      <td>region1</td>\n",
       "      <td>37.685089</td>\n",
       "      <td>0.274539</td>\n",
       "      <td>92.609840</td>\n",
       "      <td>92.388766</td>\n",
       "    </tr>\n",
       "    <tr>\n",
       "      <td>1</td>\n",
       "      <td>region2</td>\n",
       "      <td>0.886764</td>\n",
       "      <td>0.999628</td>\n",
       "      <td>68.861597</td>\n",
       "      <td>68.865447</td>\n",
       "    </tr>\n",
       "    <tr>\n",
       "      <td>2</td>\n",
       "      <td>region3</td>\n",
       "      <td>39.909545</td>\n",
       "      <td>0.205066</td>\n",
       "      <td>94.744142</td>\n",
       "      <td>94.977154</td>\n",
       "    </tr>\n",
       "  </tbody>\n",
       "</table>\n",
       "</div>"
      ],
      "text/plain": [
       "    region       rmse    scores  mean_prediction  mean_target\n",
       "0  region1  37.685089  0.274539        92.609840    92.388766\n",
       "1  region2   0.886764  0.999628        68.861597    68.865447\n",
       "2  region3  39.909545  0.205066        94.744142    94.977154"
      ]
     },
     "execution_count": 26,
     "metadata": {},
     "output_type": "execute_result"
    }
   ],
   "source": [
    "pd.DataFrame(results)"
   ]
  },
  {
   "cell_type": "markdown",
   "metadata": {},
   "source": [
    "1) Relative to rmse for region1 and region3, the rmse for region2 shows that the model has fit the synthetic data\n",
    "very well; this is also corroborated by the R2 score for region2, which is 99.9%; This means 99% of the variance in the\n",
    "`product` field is explained by the input features."
   ]
  },
  {
   "cell_type": "markdown",
   "metadata": {},
   "source": [
    "### Prepare for profit calculation\n",
    "\n",
    "4.1. Store all key values for calculations in separate variables.<br/>\n",
    "4.2. Calculate the volume of reserves sufficient for developing a new well without losses. Compare the obtained value with the average volume of reserves in each region.<br/>\n",
    "4.3. Provide the findings about the preparation for profit calculation step.\n",
    "\n",
    "Related conditions\n",
    "\n",
    "* The budget for development of 200 oil wells is 100 USD million.<br/>\n",
    "* One barrel of raw materials brings 4.5 USD of revenue The revenue from one unit of product is 4,500 dollars (volume of reserves is in thousand barrels)."
   ]
  },
  {
   "cell_type": "markdown",
   "metadata": {},
   "source": [
    "#### Estimated profit calculation based on estimated production"
   ]
  },
  {
   "cell_type": "code",
   "execution_count": 27,
   "metadata": {},
   "outputs": [],
   "source": [
    "# $4.5 per barrel\n",
    "# 1 barrel = 1000 units\n",
    "revenue_per_barrel = 4.5\n",
    "revenue_per_1000_barrel = 4500\n",
    "budget = 100e6\n",
    "num_oil_wells = 200\n",
    "cost_per_well = budget / num_oil_wells"
   ]
  },
  {
   "cell_type": "code",
   "execution_count": 28,
   "metadata": {},
   "outputs": [
    {
     "name": "stdout",
     "output_type": "stream",
     "text": [
      "Cost per well $500000\n"
     ]
    }
   ],
   "source": [
    "print('Cost per well ${:.0f}'.format(cost_per_well))"
   ]
  },
  {
   "cell_type": "code",
   "execution_count": 29,
   "metadata": {},
   "outputs": [
    {
     "name": "stdout",
     "output_type": "stream",
     "text": [
      "Number of thousands of barrels to produce in new oil well 111.11111111111111 units\n"
     ]
    }
   ],
   "source": [
    "print('Number of thousands of barrels to produce in new oil well {} units'.format(cost_per_well / revenue_per_1000_barrel))"
   ]
  },
  {
   "cell_type": "markdown",
   "metadata": {},
   "source": [
    "1) At least 111K barrels of oil should be produced in order to be profitable in the new oil wells.\n",
    "\n",
    "2) This number is higher than the highest mean of all regions, which is ~95K barrels produced in region3."
   ]
  },
  {
   "cell_type": "markdown",
   "metadata": {},
   "source": [
    "#### Estimated profit calculation for top 200 oil wells based on model predictions"
   ]
  },
  {
   "cell_type": "code",
   "execution_count": 30,
   "metadata": {},
   "outputs": [],
   "source": [
    "def profit_calculation(target, prediction, num_wells=200, budget=100e6, \n",
    "                      revenue_per_barrel=4.5):\n",
    "    \"\"\"\n",
    "    Compute the profit for each region\n",
    "    based on the model's prediction for each\n",
    "    region's capacity\n",
    "    \"\"\"\n",
    "    top_wells_idx = prediction.argsort()[::-1]\n",
    "    total_produced = target[top_wells_idx][:num_wells].sum()\n",
    "    total_revenue = revenue_per_barrel * total_produced * 1000\n",
    "    return total_revenue - budget"
   ]
  },
  {
   "cell_type": "code",
   "execution_count": 31,
   "metadata": {},
   "outputs": [
    {
     "name": "stdout",
     "output_type": "stream",
     "text": [
      "Profit for region1 is $34,685,298\n",
      "Profit for region2 is $24,150,867\n",
      "Profit for region3 is $25,529,537\n"
     ]
    }
   ],
   "source": [
    "for i, (target, prediction) in enumerate(zip(target_valid, preds_region)):\n",
    "    print('Profit for region{} is ${:,.0f}'.format(i+1, \n",
    "                                        profit_calculation(target, prediction, num_wells=200, budget=100e6, \n",
    "                      revenue_per_barrel=4.5)\n",
    "                                    )\n",
    "         )"
   ]
  },
  {
   "cell_type": "markdown",
   "metadata": {},
   "source": [
    "1) Based on this analysis, we would conclude that it would be wise for the investors to build 200 oil wells in region1. However,\n",
    "from the RMSE values, we saw a lot of variability in production, which is around +/-38K barrels from the mean of 92K barrels.\n",
    "\n",
    "2) Minimum number of barrels to produce per 200 oil wells is 111K."
   ]
  },
  {
   "cell_type": "markdown",
   "metadata": {},
   "source": [
    "### Use the bootstrapping technique with 1000 samples to find the distribution of profit\n",
    "\n",
    "Criteria\n",
    "\n",
    "* When exploring the region, a study of 500 points is carried with picking the best 200 points for the profit calculation.\n",
    "* After the risk evaluation, keep only the regions with the risk of losses lower than 2.5%. From the ones that fit the criteria, the region with the highest average profit should be selected.\n",
    "* Find average profit, 95% confidence interval and risk of losses."
   ]
  },
  {
   "cell_type": "code",
   "execution_count": 32,
   "metadata": {},
   "outputs": [],
   "source": [
    "def bootstrap_revenue_model(target, prediction, sample_size=500, \n",
    "                            num_wells=200, budget=100e6, \n",
    "                      revenue_per_barrel=4.5):\n",
    "    \"\"\"\n",
    "    Use bootstrap to estimate the profit for the 3 regions\n",
    "    \"\"\"\n",
    "    profits = []\n",
    "    random_state = np.random.RandomState(42)\n",
    "    for _ in range(1000):\n",
    "        target_subsample = pd.Series(target).sample(n=sample_size, random_state=random_state, replace=True)\n",
    "        profits.append(profit_calculation(target_subsample.values, prediction[target_subsample.index], num_wells=num_wells, budget=budget, \n",
    "                      revenue_per_barrel=revenue_per_barrel))\n",
    "    mean_profit = pd.Series(profits).mean()\n",
    "    profit_risk_lb = pd.Series(profits).quantile(0.025)\n",
    "    profit_risk_ub = pd.Series(profits).quantile(0.975)\n",
    "    losses = sum(pd.Series(profits) < 0) / len(profits)\n",
    "    return mean_profit, profit_risk_lb, profit_risk_ub, losses"
   ]
  },
  {
   "cell_type": "code",
   "execution_count": 33,
   "metadata": {},
   "outputs": [
    {
     "name": "stdout",
     "output_type": "stream",
     "text": [
      "Mean profit for region1 is $4,035,721 and profit ranges from $-1,376,900 to $9,028,483. Risk of loss is 6%\n",
      "Mean profit for region2 is $4,584,835 and profit ranges from $781,037 to $8,387,299. Risk of loss is 1%\n",
      "Mean profit for region3 is $3,762,702 and profit ranges from $-1,232,087 to $8,624,029. Risk of loss is 8%\n"
     ]
    }
   ],
   "source": [
    "ci = []\n",
    "for i, (target, prediction) in enumerate(zip(target_valid, preds_region)):\n",
    "    profit, lb, ub, losses = bootstrap_revenue_model(target, prediction, sample_size=500, \n",
    "                            num_wells=200, budget=100e6, revenue_per_barrel=4.5)\n",
    "    print('Mean profit for region{} is ${:,.0f} and profit ranges from ${:,.0f} to ${:,.0f}. Risk of loss is {:.0%}'.format(i+1, \n",
    "                                       profit, lb, ub, losses\n",
    "                             )\n",
    "         )\n",
    "    ci.append((lb/1e6, ub/1e6))"
   ]
  },
  {
   "cell_type": "code",
   "execution_count": 98,
   "metadata": {},
   "outputs": [
    {
     "data": {
      "image/png": "[encoded data removed]",
      "text/plain": [
       "<Figure size 432x288 with 1 Axes>"
      ]
     },
     "metadata": {
      "needs_background": "light"
     },
     "output_type": "display_data"
    }
   ],
   "source": [
    "# plot the 95% confidence intervals\n",
    "fig, ax = plt.subplots()\n",
    "for i, (lb, ub) in enumerate(ci):\n",
    "    ci_array.append([i+1, lb])\n",
    "    ci_array.append([i+1, ub])\n",
    "    plt.vlines(x=i+1, ymin=lb, ymax=ub, color= 'r' if lb < 0 else 'g')\n",
    "plt.xticks(np.arange(1, len(ci)+1))\n",
    "plt.axhline(0)\n",
    "plt.title('95% Confidence Interval for all regions')\n",
    "plt.xlabel('Region')\n",
    "plt.ylabel('CI range')\n",
    "plt.ylim([-max(np.array(ci_array)[:, 1]), max(np.array(ci_array)[:, 1])])\n",
    "ax.spines['right'].set_visible(False)\n",
    "ax.spines['top'].set_visible(False)\n",
    "ax.spines['bottom'].set_visible(False)\n",
    "ax.spines['left'].set_visible(False)\n",
    "#ax.set_xticklabels([])\n",
    "plt.tight_layout()\n",
    "plt.show()"
   ]
  },
  {
   "cell_type": "markdown",
   "metadata": {},
   "source": [
    "1) Using bootstraping with 1000 samples, a different picture emerges: region2 on average is more profitable. The Confidence Interval doesn't\n",
    "    cross the x-axis which implies that the results are statistically significant at the 95% confidence level. The corresponding\n",
    "    risk of not making a profit is only 1%."
   ]
  },
  {
   "cell_type": "markdown",
   "metadata": {},
   "source": [
    "**Summary**\n",
    "\n",
    "The oil executives can with 95% confidence level rely on investing \\$100 million on building 200 oil wells in region2. The risk of loss is 1%, and the mean profit they can hope to make is \\\\$4,584,835."
   ]
  }
 ],
 "metadata": {
  "ExecuteTimeLog": [
   {
    "duration": 708,
    "start_time": "2021-06-28T14:33:51.449Z"
   },
   {
    "duration": 5,
    "start_time": "2021-06-28T14:34:47.256Z"
   },
   {
    "duration": 4,
    "start_time": "2021-06-28T14:39:16.780Z"
   },
   {
    "duration": 4669,
    "start_time": "2021-06-28T14:41:21.483Z"
   },
   {
    "duration": 7,
    "start_time": "2021-06-28T14:41:39.122Z"
   },
   {
    "duration": 15,
    "start_time": "2021-06-28T14:42:10.300Z"
   },
   {
    "duration": 67,
    "start_time": "2021-06-28T14:43:12.414Z"
   },
   {
    "duration": 318,
    "start_time": "2021-06-28T14:43:45.672Z"
   },
   {
    "duration": 72,
    "start_time": "2021-06-28T14:44:02.808Z"
   },
   {
    "duration": 437,
    "start_time": "2021-06-28T14:44:33.680Z"
   },
   {
    "duration": 366,
    "start_time": "2021-06-28T14:44:49.376Z"
   },
   {
    "duration": 76,
    "start_time": "2021-06-28T14:45:03.948Z"
   },
   {
    "duration": 64,
    "start_time": "2021-06-28T14:45:21.644Z"
   },
   {
    "duration": 60,
    "start_time": "2021-06-28T14:46:01.864Z"
   },
   {
    "duration": 1741,
    "start_time": "2021-06-28T14:49:10.869Z"
   },
   {
    "duration": 79,
    "start_time": "2021-06-28T14:49:20.531Z"
   },
   {
    "duration": 89,
    "start_time": "2021-06-28T14:51:06.301Z"
   },
   {
    "duration": 206,
    "start_time": "2021-06-28T14:55:59.590Z"
   },
   {
    "duration": 6,
    "start_time": "2021-06-28T14:56:29.587Z"
   },
   {
    "duration": 193,
    "start_time": "2021-06-28T14:56:32.966Z"
   },
   {
    "duration": 558,
    "start_time": "2021-06-28T15:10:02.980Z"
   },
   {
    "duration": 13,
    "start_time": "2021-06-28T15:10:08.308Z"
   },
   {
    "duration": 92,
    "start_time": "2021-06-28T15:10:14.108Z"
   },
   {
    "duration": 467,
    "start_time": "2021-06-28T15:10:17.906Z"
   },
   {
    "duration": 61,
    "start_time": "2021-06-28T15:10:22.764Z"
   },
   {
    "duration": 301,
    "start_time": "2021-06-28T15:10:31.003Z"
   },
   {
    "duration": 208,
    "start_time": "2021-06-28T15:10:36.269Z"
   },
   {
    "duration": 132,
    "start_time": "2021-06-28T15:14:41.200Z"
   },
   {
    "duration": 5,
    "start_time": "2021-06-28T15:14:46.438Z"
   },
   {
    "duration": 853,
    "start_time": "2021-06-28T15:17:47.199Z"
   },
   {
    "duration": 808,
    "start_time": "2021-06-28T15:18:25.246Z"
   },
   {
    "duration": 850,
    "start_time": "2021-06-28T15:18:37.829Z"
   },
   {
    "duration": 869,
    "start_time": "2021-06-28T15:20:30.681Z"
   },
   {
    "duration": 613,
    "start_time": "2021-06-28T15:20:43.061Z"
   },
   {
    "duration": 734,
    "start_time": "2021-06-28T15:21:13.877Z"
   },
   {
    "duration": 405,
    "start_time": "2021-06-28T15:21:30.908Z"
   },
   {
    "duration": 411,
    "start_time": "2021-06-28T15:22:47.440Z"
   },
   {
    "duration": 378,
    "start_time": "2021-06-28T15:22:53.789Z"
   },
   {
    "duration": 635,
    "start_time": "2021-06-28T15:23:00.597Z"
   },
   {
    "duration": 681,
    "start_time": "2021-06-28T15:23:05.949Z"
   },
   {
    "duration": 346,
    "start_time": "2021-06-28T15:24:55.388Z"
   },
   {
    "duration": 6,
    "start_time": "2021-06-28T15:33:32.172Z"
   },
   {
    "duration": 281,
    "start_time": "2021-06-28T15:34:02.450Z"
   },
   {
    "duration": 607,
    "start_time": "2021-06-28T15:34:18.426Z"
   },
   {
    "duration": 704,
    "start_time": "2021-06-28T15:34:43.698Z"
   },
   {
    "duration": 5,
    "start_time": "2021-06-28T15:34:59.386Z"
   },
   {
    "duration": 651,
    "start_time": "2021-06-28T15:35:00.252Z"
   },
   {
    "duration": 631,
    "start_time": "2021-06-28T15:35:07.281Z"
   },
   {
    "duration": 627,
    "start_time": "2021-06-28T15:35:16.813Z"
   },
   {
    "duration": 335,
    "start_time": "2021-06-28T15:37:33.105Z"
   },
   {
    "duration": 625,
    "start_time": "2021-06-28T15:37:43.884Z"
   },
   {
    "duration": 620,
    "start_time": "2021-06-28T15:37:46.938Z"
   },
   {
    "duration": 764,
    "start_time": "2021-06-28T15:40:04.613Z"
   },
   {
    "duration": 85,
    "start_time": "2021-06-28T15:41:21.753Z"
   },
   {
    "duration": 6,
    "start_time": "2021-06-28T15:43:28.916Z"
   },
   {
    "duration": 471,
    "start_time": "2021-06-28T15:43:29.569Z"
   },
   {
    "duration": 4,
    "start_time": "2021-06-28T15:43:33.005Z"
   },
   {
    "duration": 459,
    "start_time": "2021-06-28T15:43:34.847Z"
   },
   {
    "duration": 440,
    "start_time": "2021-06-28T15:43:38.225Z"
   },
   {
    "duration": 443,
    "start_time": "2021-06-28T15:43:40.117Z"
   },
   {
    "duration": 28,
    "start_time": "2021-06-28T15:47:48.816Z"
   },
   {
    "duration": 175,
    "start_time": "2021-06-28T15:49:28.407Z"
   },
   {
    "duration": 6,
    "start_time": "2021-06-28T15:59:10.016Z"
   },
   {
    "duration": 5,
    "start_time": "2021-06-28T17:38:10.934Z"
   },
   {
    "duration": 364,
    "start_time": "2021-06-28T17:45:08.537Z"
   },
   {
    "duration": 637,
    "start_time": "2021-06-28T17:45:33.305Z"
   },
   {
    "duration": 93,
    "start_time": "2021-06-28T17:46:09.027Z"
   },
   {
    "duration": 480,
    "start_time": "2021-06-28T17:46:17.760Z"
   },
   {
    "duration": 560,
    "start_time": "2021-06-28T17:46:26.241Z"
   },
   {
    "duration": 6,
    "start_time": "2021-06-28T17:46:35.375Z"
   },
   {
    "duration": 14,
    "start_time": "2021-06-28T17:46:43.623Z"
   },
   {
    "duration": 585,
    "start_time": "2021-06-28T17:59:23.017Z"
   },
   {
    "duration": 13,
    "start_time": "2021-06-28T17:59:24.731Z"
   },
   {
    "duration": 3,
    "start_time": "2021-06-28T18:57:52.832Z"
   },
   {
    "duration": 5,
    "start_time": "2021-06-28T18:57:55.929Z"
   },
   {
    "duration": 4,
    "start_time": "2021-06-28T19:01:16.019Z"
   },
   {
    "duration": 5,
    "start_time": "2021-06-28T19:01:19.161Z"
   },
   {
    "duration": 4,
    "start_time": "2021-06-28T19:08:54.013Z"
   },
   {
    "duration": 4,
    "start_time": "2021-06-28T19:09:34.902Z"
   },
   {
    "duration": 4,
    "start_time": "2021-06-28T19:09:50.293Z"
   },
   {
    "duration": 4,
    "start_time": "2021-06-28T19:14:47.995Z"
   },
   {
    "duration": 571,
    "start_time": "2021-06-28T19:16:03.530Z"
   },
   {
    "duration": 14,
    "start_time": "2021-06-28T19:16:05.049Z"
   },
   {
    "duration": 5,
    "start_time": "2021-06-28T19:27:23.541Z"
   },
   {
    "duration": 105,
    "start_time": "2021-06-28T19:30:06.395Z"
   },
   {
    "duration": 649,
    "start_time": "2021-06-28T19:30:16.324Z"
   },
   {
    "duration": 5,
    "start_time": "2021-06-28T19:30:31.204Z"
   },
   {
    "duration": 644,
    "start_time": "2021-06-28T19:30:31.627Z"
   },
   {
    "duration": 6,
    "start_time": "2021-06-28T19:30:52.812Z"
   },
   {
    "duration": 594,
    "start_time": "2021-06-28T19:30:53.098Z"
   },
   {
    "duration": 5,
    "start_time": "2021-06-28T19:31:05.876Z"
   },
   {
    "duration": 22,
    "start_time": "2021-06-28T19:31:06.155Z"
   },
   {
    "duration": 6,
    "start_time": "2021-06-28T19:32:34.011Z"
   },
   {
    "duration": 9,
    "start_time": "2021-06-28T19:32:41.899Z"
   },
   {
    "duration": 8,
    "start_time": "2021-06-28T19:32:47.337Z"
   },
   {
    "duration": 5,
    "start_time": "2021-06-28T19:32:58.331Z"
   },
   {
    "duration": 50,
    "start_time": "2021-06-28T19:33:32.897Z"
   },
   {
    "duration": 13,
    "start_time": "2021-06-28T19:34:05.833Z"
   },
   {
    "duration": 5,
    "start_time": "2021-06-28T19:34:17.946Z"
   },
   {
    "duration": 5,
    "start_time": "2021-06-28T19:35:55.300Z"
   },
   {
    "duration": 20,
    "start_time": "2021-06-28T19:35:55.832Z"
   },
   {
    "duration": 5,
    "start_time": "2021-06-28T19:36:20.801Z"
   },
   {
    "duration": 19,
    "start_time": "2021-06-28T19:36:21.256Z"
   },
   {
    "duration": 5,
    "start_time": "2021-06-28T19:36:26.657Z"
   },
   {
    "duration": 18,
    "start_time": "2021-06-28T19:36:27.338Z"
   },
   {
    "duration": 5,
    "start_time": "2021-06-28T19:36:49.195Z"
   },
   {
    "duration": 19,
    "start_time": "2021-06-28T19:36:49.906Z"
   },
   {
    "duration": 19,
    "start_time": "2021-06-28T19:38:39.343Z"
   },
   {
    "duration": 7,
    "start_time": "2021-06-28T19:39:35.143Z"
   },
   {
    "duration": 37,
    "start_time": "2021-06-28T19:39:35.928Z"
   },
   {
    "duration": 5,
    "start_time": "2021-06-28T19:40:11.582Z"
   },
   {
    "duration": 20,
    "start_time": "2021-06-28T19:40:12.248Z"
   },
   {
    "duration": 5,
    "start_time": "2021-06-28T19:41:08.526Z"
   },
   {
    "duration": 19,
    "start_time": "2021-06-28T19:41:09.392Z"
   },
   {
    "duration": 6,
    "start_time": "2021-06-28T19:42:53.097Z"
   },
   {
    "duration": 282,
    "start_time": "2021-06-28T19:42:53.926Z"
   },
   {
    "duration": 6,
    "start_time": "2021-06-28T19:44:25.969Z"
   },
   {
    "duration": 308,
    "start_time": "2021-06-28T19:44:26.724Z"
   },
   {
    "duration": 6,
    "start_time": "2021-06-28T19:46:19.539Z"
   },
   {
    "duration": 279,
    "start_time": "2021-06-28T19:46:20.281Z"
   },
   {
    "duration": 95,
    "start_time": "2021-06-28T19:47:05.849Z"
   },
   {
    "duration": 98,
    "start_time": "2021-06-28T19:47:17.322Z"
   },
   {
    "duration": 6,
    "start_time": "2021-06-28T19:47:34.678Z"
   },
   {
    "duration": 283,
    "start_time": "2021-06-28T19:47:35.143Z"
   },
   {
    "duration": 5,
    "start_time": "2021-06-28T19:49:00.674Z"
   },
   {
    "duration": 1477,
    "start_time": "2021-06-29T09:46:10.154Z"
   },
   {
    "duration": 4,
    "start_time": "2021-06-29T09:46:11.634Z"
   },
   {
    "duration": 567,
    "start_time": "2021-06-29T09:46:11.641Z"
   },
   {
    "duration": 9,
    "start_time": "2021-06-29T09:46:12.211Z"
   },
   {
    "duration": 32,
    "start_time": "2021-06-29T09:46:12.223Z"
   },
   {
    "duration": 96,
    "start_time": "2021-06-29T09:46:12.257Z"
   },
   {
    "duration": 406,
    "start_time": "2021-06-29T09:46:12.355Z"
   },
   {
    "duration": 85,
    "start_time": "2021-06-29T09:46:12.764Z"
   },
   {
    "duration": 84,
    "start_time": "2021-06-29T09:46:12.854Z"
   },
   {
    "duration": 80,
    "start_time": "2021-06-29T09:46:12.942Z"
   },
   {
    "duration": 106,
    "start_time": "2021-06-29T09:46:13.024Z"
   },
   {
    "duration": 95,
    "start_time": "2021-06-29T09:46:13.133Z"
   },
   {
    "duration": 217,
    "start_time": "2021-06-29T09:46:13.231Z"
   },
   {
    "duration": 130,
    "start_time": "2021-06-29T09:46:13.451Z"
   },
   {
    "duration": 5,
    "start_time": "2021-06-29T09:46:13.583Z"
   },
   {
    "duration": 6,
    "start_time": "2021-06-29T09:46:13.601Z"
   },
   {
    "duration": 496,
    "start_time": "2021-06-29T09:46:13.609Z"
   },
   {
    "duration": 3,
    "start_time": "2021-06-29T09:46:14.108Z"
   },
   {
    "duration": 481,
    "start_time": "2021-06-29T09:46:14.113Z"
   },
   {
    "duration": 450,
    "start_time": "2021-06-29T09:46:14.596Z"
   },
   {
    "duration": 473,
    "start_time": "2021-06-29T09:46:15.048Z"
   },
   {
    "duration": 28,
    "start_time": "2021-06-29T09:46:15.524Z"
   },
   {
    "duration": 210,
    "start_time": "2021-06-29T09:46:15.554Z"
   },
   {
    "duration": 5,
    "start_time": "2021-06-29T09:46:15.766Z"
   },
   {
    "duration": 528,
    "start_time": "2021-06-29T09:46:15.773Z"
   },
   {
    "duration": 102,
    "start_time": "2021-06-29T09:46:16.305Z"
   },
   {
    "duration": 4,
    "start_time": "2021-06-29T09:46:16.412Z"
   },
   {
    "duration": 8,
    "start_time": "2021-06-29T09:46:16.418Z"
   },
   {
    "duration": 9,
    "start_time": "2021-06-29T09:46:16.429Z"
   },
   {
    "duration": 10,
    "start_time": "2021-06-29T09:46:16.440Z"
   },
   {
    "duration": 7,
    "start_time": "2021-06-29T09:46:53.838Z"
   },
   {
    "duration": 419,
    "start_time": "2021-06-29T09:46:54.190Z"
   },
   {
    "duration": 6,
    "start_time": "2021-06-29T09:47:51.110Z"
   },
   {
    "duration": 276,
    "start_time": "2021-06-29T09:47:52.004Z"
   },
   {
    "duration": 5,
    "start_time": "2021-06-29T09:48:45.106Z"
   },
   {
    "duration": 257,
    "start_time": "2021-06-29T09:48:46.749Z"
   },
   {
    "duration": 5,
    "start_time": "2021-06-29T09:48:59.997Z"
   },
   {
    "duration": 23,
    "start_time": "2021-06-29T09:49:00.285Z"
   },
   {
    "duration": 5,
    "start_time": "2021-06-29T09:49:15.070Z"
   },
   {
    "duration": 27,
    "start_time": "2021-06-29T09:49:15.764Z"
   },
   {
    "duration": 5,
    "start_time": "2021-06-29T09:49:39.622Z"
   },
   {
    "duration": 29,
    "start_time": "2021-06-29T09:49:40.353Z"
   },
   {
    "duration": 6,
    "start_time": "2021-06-29T09:50:05.464Z"
   },
   {
    "duration": 537,
    "start_time": "2021-06-29T09:50:07.211Z"
   },
   {
    "duration": 6,
    "start_time": "2021-06-29T09:51:34.900Z"
   },
   {
    "duration": 573,
    "start_time": "2021-06-29T09:51:35.699Z"
   },
   {
    "duration": 5,
    "start_time": "2021-06-29T09:51:45.446Z"
   },
   {
    "duration": 552,
    "start_time": "2021-06-29T09:51:45.883Z"
   },
   {
    "duration": 6,
    "start_time": "2021-06-29T09:52:03.138Z"
   },
   {
    "duration": 815,
    "start_time": "2021-06-29T09:52:03.489Z"
   },
   {
    "duration": 6,
    "start_time": "2021-06-29T09:52:47.636Z"
   },
   {
    "duration": 32,
    "start_time": "2021-06-29T09:52:48.412Z"
   },
   {
    "duration": 5,
    "start_time": "2021-06-29T09:53:35.434Z"
   },
   {
    "duration": 24,
    "start_time": "2021-06-29T09:53:35.801Z"
   },
   {
    "duration": 5,
    "start_time": "2021-06-29T09:56:12.864Z"
   },
   {
    "duration": 24,
    "start_time": "2021-06-29T09:56:13.593Z"
   },
   {
    "duration": 5,
    "start_time": "2021-06-29T10:31:25.746Z"
   },
   {
    "duration": 23,
    "start_time": "2021-06-29T10:31:26.571Z"
   },
   {
    "duration": 5,
    "start_time": "2021-06-29T10:32:04.905Z"
   },
   {
    "duration": 24,
    "start_time": "2021-06-29T10:32:05.279Z"
   },
   {
    "duration": 5,
    "start_time": "2021-06-29T10:32:24.136Z"
   },
   {
    "duration": 24,
    "start_time": "2021-06-29T10:32:24.519Z"
   },
   {
    "duration": 26,
    "start_time": "2021-06-29T10:32:34.887Z"
   },
   {
    "duration": 5,
    "start_time": "2021-06-29T10:38:00.878Z"
   },
   {
    "duration": 25,
    "start_time": "2021-06-29T10:38:01.173Z"
   },
   {
    "duration": 5,
    "start_time": "2021-06-29T10:38:06.269Z"
   },
   {
    "duration": 26,
    "start_time": "2021-06-29T10:38:06.678Z"
   },
   {
    "duration": 6,
    "start_time": "2021-06-29T10:38:12.214Z"
   },
   {
    "duration": 23,
    "start_time": "2021-06-29T10:38:14.238Z"
   },
   {
    "duration": 6,
    "start_time": "2021-06-29T10:38:23.484Z"
   },
   {
    "duration": 24,
    "start_time": "2021-06-29T10:38:24.220Z"
   },
   {
    "duration": 5,
    "start_time": "2021-06-29T10:38:30.644Z"
   },
   {
    "duration": 24,
    "start_time": "2021-06-29T10:38:31.718Z"
   },
   {
    "duration": 4,
    "start_time": "2021-06-29T10:38:38.608Z"
   },
   {
    "duration": 23,
    "start_time": "2021-06-29T10:38:39.101Z"
   },
   {
    "duration": 5,
    "start_time": "2021-06-29T11:17:45.649Z"
   },
   {
    "duration": 6,
    "start_time": "2021-06-29T11:17:56.715Z"
   },
   {
    "duration": 7,
    "start_time": "2021-06-29T11:18:17.134Z"
   },
   {
    "duration": 6,
    "start_time": "2021-06-29T11:19:10.097Z"
   },
   {
    "duration": 40,
    "start_time": "2021-06-29T11:19:10.106Z"
   },
   {
    "duration": 5,
    "start_time": "2021-06-29T11:19:48.880Z"
   },
   {
    "duration": 25,
    "start_time": "2021-06-29T11:19:49.248Z"
   },
   {
    "duration": 365,
    "start_time": "2021-06-29T11:27:26.754Z"
   },
   {
    "duration": 15,
    "start_time": "2021-06-29T11:27:33.545Z"
   },
   {
    "duration": 12,
    "start_time": "2021-06-29T11:28:02.540Z"
   },
   {
    "duration": 560,
    "start_time": "2021-06-29T11:28:27.165Z"
   },
   {
    "duration": 6,
    "start_time": "2021-06-29T11:28:41.198Z"
   },
   {
    "duration": 558,
    "start_time": "2021-06-29T11:28:41.820Z"
   },
   {
    "duration": 13,
    "start_time": "2021-06-29T11:29:08.373Z"
   },
   {
    "duration": 8,
    "start_time": "2021-06-29T11:29:27.403Z"
   },
   {
    "duration": 15,
    "start_time": "2021-06-29T11:29:27.673Z"
   },
   {
    "duration": 5,
    "start_time": "2021-06-29T11:30:39.827Z"
   },
   {
    "duration": 6,
    "start_time": "2021-06-29T11:30:52.458Z"
   },
   {
    "duration": 5,
    "start_time": "2021-06-29T11:31:03.747Z"
   },
   {
    "duration": 8,
    "start_time": "2021-06-29T11:31:29.747Z"
   },
   {
    "duration": 7,
    "start_time": "2021-06-29T11:31:36.650Z"
   },
   {
    "duration": 12,
    "start_time": "2021-06-29T11:31:47.936Z"
   },
   {
    "duration": 9,
    "start_time": "2021-06-29T11:32:02.370Z"
   },
   {
    "duration": 15,
    "start_time": "2021-06-29T11:32:17.777Z"
   },
   {
    "duration": 7,
    "start_time": "2021-06-29T11:32:37.656Z"
   },
   {
    "duration": 14,
    "start_time": "2021-06-29T11:32:44.304Z"
   },
   {
    "duration": 9,
    "start_time": "2021-06-29T11:32:50.354Z"
   },
   {
    "duration": 8,
    "start_time": "2021-06-29T11:32:51.479Z"
   },
   {
    "duration": 12,
    "start_time": "2021-06-29T11:32:55.408Z"
   },
   {
    "duration": 6,
    "start_time": "2021-06-29T11:33:14.912Z"
   },
   {
    "duration": 10,
    "start_time": "2021-06-29T11:33:44.456Z"
   },
   {
    "duration": 8,
    "start_time": "2021-06-29T11:34:18.743Z"
   },
   {
    "duration": 7,
    "start_time": "2021-06-29T11:34:45.780Z"
   },
   {
    "duration": 7,
    "start_time": "2021-06-29T11:34:54.995Z"
   },
   {
    "duration": 514,
    "start_time": "2021-06-29T11:35:53.987Z"
   },
   {
    "duration": 15,
    "start_time": "2021-06-29T11:35:55.553Z"
   },
   {
    "duration": 6,
    "start_time": "2021-06-29T11:36:15.192Z"
   },
   {
    "duration": 6,
    "start_time": "2021-06-29T11:36:21.777Z"
   },
   {
    "duration": 5,
    "start_time": "2021-06-29T11:37:39.479Z"
   },
   {
    "duration": 822,
    "start_time": "2021-06-29T11:37:40.191Z"
   },
   {
    "duration": 4,
    "start_time": "2021-06-29T11:37:52.696Z"
   },
   {
    "duration": 8,
    "start_time": "2021-06-29T11:37:53.055Z"
   },
   {
    "duration": 4,
    "start_time": "2021-06-29T11:38:11.630Z"
   },
   {
    "duration": 14,
    "start_time": "2021-06-29T11:38:19.462Z"
   },
   {
    "duration": 3,
    "start_time": "2021-06-29T11:45:02.989Z"
   },
   {
    "duration": 7,
    "start_time": "2021-06-29T12:53:37.928Z"
   },
   {
    "duration": 124,
    "start_time": "2021-06-29T12:54:44.163Z"
   },
   {
    "duration": 2337,
    "start_time": "2021-06-29T12:55:10.321Z"
   },
   {
    "duration": 7,
    "start_time": "2021-06-29T12:56:21.114Z"
   },
   {
    "duration": 867,
    "start_time": "2021-06-29T12:56:21.852Z"
   },
   {
    "duration": 1821,
    "start_time": "2021-06-29T12:56:46.423Z"
   },
   {
    "duration": 7,
    "start_time": "2021-06-29T13:00:34.120Z"
   },
   {
    "duration": 1335,
    "start_time": "2021-06-29T13:01:05.458Z"
   },
   {
    "duration": 1348,
    "start_time": "2021-06-29T13:02:02.373Z"
   },
   {
    "duration": 1384,
    "start_time": "2021-06-29T13:02:19.131Z"
   },
   {
    "duration": 1384,
    "start_time": "2021-06-29T13:02:28.918Z"
   },
   {
    "duration": 8,
    "start_time": "2021-06-29T14:09:39.655Z"
   },
   {
    "duration": 1435,
    "start_time": "2021-06-29T14:10:45.375Z"
   },
   {
    "duration": 7,
    "start_time": "2021-06-29T14:11:29.903Z"
   },
   {
    "duration": 1493,
    "start_time": "2021-06-29T14:11:30.310Z"
   },
   {
    "duration": 713,
    "start_time": "2021-06-29T14:12:07.127Z"
   },
   {
    "duration": 1434,
    "start_time": "2021-06-29T14:12:26.734Z"
   },
   {
    "duration": 7,
    "start_time": "2021-06-29T14:12:34.838Z"
   },
   {
    "duration": 1407,
    "start_time": "2021-06-29T14:12:39.661Z"
   },
   {
    "duration": 1370,
    "start_time": "2021-06-29T14:18:57.277Z"
   },
   {
    "duration": 6,
    "start_time": "2021-06-29T14:19:08.276Z"
   },
   {
    "duration": 1425,
    "start_time": "2021-06-29T14:19:41.075Z"
   },
   {
    "duration": 6,
    "start_time": "2021-06-29T14:19:43.673Z"
   },
   {
    "duration": 214,
    "start_time": "2021-06-29T14:22:00.685Z"
   },
   {
    "duration": 7,
    "start_time": "2021-06-29T14:22:06.186Z"
   },
   {
    "duration": 6,
    "start_time": "2021-06-29T14:22:15.727Z"
   },
   {
    "duration": 98,
    "start_time": "2021-06-29T14:23:45.001Z"
   },
   {
    "duration": 263,
    "start_time": "2021-06-29T14:23:49.287Z"
   },
   {
    "duration": 7,
    "start_time": "2021-06-29T14:23:59.511Z"
   },
   {
    "duration": 1536,
    "start_time": "2021-06-29T14:27:18.477Z"
   },
   {
    "duration": 4,
    "start_time": "2021-06-29T14:27:20.016Z"
   },
   {
    "duration": 555,
    "start_time": "2021-06-29T14:27:20.023Z"
   },
   {
    "duration": 9,
    "start_time": "2021-06-29T14:27:20.581Z"
   },
   {
    "duration": 17,
    "start_time": "2021-06-29T14:27:20.602Z"
   },
   {
    "duration": 94,
    "start_time": "2021-06-29T14:27:20.621Z"
   },
   {
    "duration": 322,
    "start_time": "2021-06-29T14:27:20.718Z"
   },
   {
    "duration": 73,
    "start_time": "2021-06-29T14:27:21.043Z"
   },
   {
    "duration": 81,
    "start_time": "2021-06-29T14:27:21.123Z"
   },
   {
    "duration": 66,
    "start_time": "2021-06-29T14:27:21.207Z"
   },
   {
    "duration": 109,
    "start_time": "2021-06-29T14:27:21.275Z"
   },
   {
    "duration": 99,
    "start_time": "2021-06-29T14:27:21.386Z"
   },
   {
    "duration": 220,
    "start_time": "2021-06-29T14:27:21.487Z"
   },
   {
    "duration": 151,
    "start_time": "2021-06-29T14:27:21.711Z"
   },
   {
    "duration": 6,
    "start_time": "2021-06-29T14:27:21.865Z"
   },
   {
    "duration": 7,
    "start_time": "2021-06-29T14:27:21.874Z"
   },
   {
    "duration": 488,
    "start_time": "2021-06-29T14:27:21.900Z"
   },
   {
    "duration": 3,
    "start_time": "2021-06-29T14:27:22.391Z"
   },
   {
    "duration": 489,
    "start_time": "2021-06-29T14:27:22.396Z"
   },
   {
    "duration": 471,
    "start_time": "2021-06-29T14:27:22.888Z"
   },
   {
    "duration": 466,
    "start_time": "2021-06-29T14:27:23.361Z"
   },
   {
    "duration": 25,
    "start_time": "2021-06-29T14:27:23.830Z"
   },
   {
    "duration": 199,
    "start_time": "2021-06-29T14:27:23.858Z"
   },
   {
    "duration": 5,
    "start_time": "2021-06-29T14:27:24.060Z"
   },
   {
    "duration": 534,
    "start_time": "2021-06-29T14:27:24.067Z"
   },
   {
    "duration": 105,
    "start_time": "2021-06-29T14:27:24.605Z"
   },
   {
    "duration": 4,
    "start_time": "2021-06-29T14:27:24.718Z"
   },
   {
    "duration": 7,
    "start_time": "2021-06-29T14:27:24.725Z"
   },
   {
    "duration": 8,
    "start_time": "2021-06-29T14:27:24.735Z"
   },
   {
    "duration": 56,
    "start_time": "2021-06-29T14:27:24.745Z"
   },
   {
    "duration": 15,
    "start_time": "2021-06-29T14:27:24.804Z"
   },
   {
    "duration": 8,
    "start_time": "2021-06-29T14:27:24.822Z"
   },
   {
    "duration": 1410,
    "start_time": "2021-06-29T14:27:24.833Z"
   },
   {
    "duration": 4,
    "start_time": "2021-06-29T14:27:35.712Z"
   },
   {
    "duration": 4,
    "start_time": "2021-06-29T14:28:06.534Z"
   },
   {
    "duration": 6,
    "start_time": "2021-06-29T14:28:11.064Z"
   },
   {
    "duration": 751,
    "start_time": "2021-06-29T14:28:31.629Z"
   },
   {
    "duration": 5,
    "start_time": "2021-06-29T14:28:32.392Z"
   },
   {
    "duration": 4,
    "start_time": "2021-06-29T14:28:46.173Z"
   },
   {
    "duration": 241,
    "start_time": "2021-06-29T14:28:57.829Z"
   },
   {
    "duration": 6,
    "start_time": "2021-06-29T14:29:20.013Z"
   },
   {
    "duration": 309,
    "start_time": "2021-06-29T14:32:23.212Z"
   },
   {
    "duration": 277,
    "start_time": "2021-06-29T14:33:44.967Z"
   },
   {
    "duration": 281,
    "start_time": "2021-06-29T14:33:59.578Z"
   },
   {
    "duration": 5,
    "start_time": "2021-06-29T14:34:04.907Z"
   },
   {
    "duration": 5,
    "start_time": "2021-06-29T14:34:19.026Z"
   },
   {
    "duration": 270,
    "start_time": "2021-06-29T14:34:25.569Z"
   },
   {
    "duration": 1111,
    "start_time": "2021-06-29T14:34:29.838Z"
   },
   {
    "duration": 6,
    "start_time": "2021-06-29T14:34:52.442Z"
   },
   {
    "duration": 7,
    "start_time": "2021-06-29T14:34:53.706Z"
   },
   {
    "duration": 7,
    "start_time": "2021-06-29T14:35:23.433Z"
   },
   {
    "duration": 7,
    "start_time": "2021-06-29T14:35:36.325Z"
   },
   {
    "duration": 6,
    "start_time": "2021-06-29T14:36:40.546Z"
   },
   {
    "duration": 6,
    "start_time": "2021-06-29T14:37:02.040Z"
   },
   {
    "duration": 6,
    "start_time": "2021-06-29T14:37:08.342Z"
   },
   {
    "duration": 251,
    "start_time": "2021-06-29T14:37:27.627Z"
   },
   {
    "duration": 4,
    "start_time": "2021-06-29T14:43:48.608Z"
   },
   {
    "duration": 6,
    "start_time": "2021-06-29T14:43:49.094Z"
   },
   {
    "duration": 311,
    "start_time": "2021-06-29T14:43:52.969Z"
   },
   {
    "duration": 248,
    "start_time": "2021-06-29T14:43:58.349Z"
   },
   {
    "duration": 5,
    "start_time": "2021-06-29T14:46:01.988Z"
   },
   {
    "duration": 9,
    "start_time": "2021-06-29T14:46:02.709Z"
   },
   {
    "duration": 4,
    "start_time": "2021-06-29T14:46:44.508Z"
   },
   {
    "duration": 6,
    "start_time": "2021-06-29T14:46:45.036Z"
   },
   {
    "duration": 251,
    "start_time": "2021-06-29T14:47:17.877Z"
   },
   {
    "duration": 5,
    "start_time": "2021-06-29T14:50:49.514Z"
   },
   {
    "duration": 7,
    "start_time": "2021-06-29T14:50:52.122Z"
   },
   {
    "duration": 266,
    "start_time": "2021-06-29T14:50:54.900Z"
   },
   {
    "duration": 236,
    "start_time": "2021-06-29T14:51:39.041Z"
   },
   {
    "duration": 250,
    "start_time": "2021-06-29T14:52:16.233Z"
   },
   {
    "duration": 280,
    "start_time": "2021-06-29T14:53:13.905Z"
   },
   {
    "duration": 515,
    "start_time": "2021-06-29T14:53:27.345Z"
   },
   {
    "duration": 570,
    "start_time": "2021-06-29T14:54:00.284Z"
   },
   {
    "duration": 400,
    "start_time": "2021-06-29T14:54:23.969Z"
   },
   {
    "duration": 369,
    "start_time": "2021-06-29T14:54:48.051Z"
   },
   {
    "duration": 398,
    "start_time": "2021-06-29T14:55:26.369Z"
   },
   {
    "duration": 664,
    "start_time": "2021-06-29T14:56:14.280Z"
   },
   {
    "duration": 279,
    "start_time": "2021-06-29T14:56:43.232Z"
   },
   {
    "duration": 343,
    "start_time": "2021-06-29T14:57:01.129Z"
   },
   {
    "duration": 334,
    "start_time": "2021-06-29T14:57:15.479Z"
   },
   {
    "duration": 256,
    "start_time": "2021-06-29T14:58:42.950Z"
   },
   {
    "duration": 364,
    "start_time": "2021-06-29T14:59:02.829Z"
   },
   {
    "duration": 211,
    "start_time": "2021-06-29T14:59:07.961Z"
   },
   {
    "duration": 196,
    "start_time": "2021-06-29T14:59:14.150Z"
   },
   {
    "duration": 216,
    "start_time": "2021-06-29T15:00:03.650Z"
   },
   {
    "duration": 342,
    "start_time": "2021-06-29T15:00:20.192Z"
   },
   {
    "duration": 311,
    "start_time": "2021-06-29T15:01:07.820Z"
   },
   {
    "duration": 437,
    "start_time": "2021-06-29T15:03:27.572Z"
   },
   {
    "duration": 460,
    "start_time": "2021-06-29T15:04:46.776Z"
   },
   {
    "duration": 493,
    "start_time": "2021-06-29T15:06:32.124Z"
   },
   {
    "duration": 454,
    "start_time": "2021-06-29T15:07:02.479Z"
   },
   {
    "duration": 524,
    "start_time": "2021-06-29T15:07:12.492Z"
   },
   {
    "duration": 442,
    "start_time": "2021-06-29T15:07:32.939Z"
   },
   {
    "duration": 439,
    "start_time": "2021-06-29T15:07:41.093Z"
   },
   {
    "duration": 435,
    "start_time": "2021-06-29T15:09:03.873Z"
   },
   {
    "duration": 492,
    "start_time": "2021-06-29T15:09:52.754Z"
   },
   {
    "duration": 485,
    "start_time": "2021-06-29T15:10:10.457Z"
   },
   {
    "duration": 456,
    "start_time": "2021-06-29T15:10:43.762Z"
   }
  ],
  "kernelspec": {
   "display_name": "Python 3",
   "language": "python",
   "name": "python3"
  },
  "language_info": {
   "codemirror_mode": {
    "name": "ipython",
    "version": 3
   },
   "file_extension": ".py",
   "mimetype": "text/x-python",
   "name": "python",
   "nbconvert_exporter": "python",
   "pygments_lexer": "ipython3",
   "version": "3.6.13"
  },
  "toc": {
   "base_numbering": 1,
   "nav_menu": {},
   "number_sections": true,
   "sideBar": true,
   "skip_h1_title": true,
   "title_cell": "Table of Contents",
   "title_sidebar": "Contents",
   "toc_cell": false,
   "toc_position": {},
   "toc_section_display": true,
   "toc_window_display": false
  }
 },
 "nbformat": 4,
 "nbformat_minor": 2
}
