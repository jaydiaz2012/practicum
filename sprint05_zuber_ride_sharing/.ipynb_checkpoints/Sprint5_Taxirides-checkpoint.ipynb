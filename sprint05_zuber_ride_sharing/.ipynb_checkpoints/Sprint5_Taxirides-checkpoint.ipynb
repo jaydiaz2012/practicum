{
 "cells": [
  {
   "cell_type": "markdown",
   "metadata": {},
   "source": [
    "### Project description\n",
    "\n",
    "You're working as an analyst for Zuber, a new ride-sharing company that's launching in Chicago. Your task is to find patterns in the available information. You want to understand passenger preferences and the impact of external factors on rides.\n",
    "\n",
    "\n",
    "**Objective**\n",
    "\n",
    "Aanalyze Zuber's competition, and test hypothesis about impact of weather or ride frequency."
   ]
  },
  {
   "cell_type": "markdown",
   "metadata": {},
   "source": [
    "Steps 1, 2 and 3 were completed in the interactive platform"
   ]
  },
  {
   "cell_type": "code",
   "execution_count": 1,
   "metadata": {},
   "outputs": [],
   "source": [
    "import pandas as pd\n",
    "import numpy as np\n",
    "import matplotlib.pyplot as plt\n",
    "from scipy import stats\n",
    "import os\n",
    "import warnings\n",
    "\n",
    "warnings.filterwarnings('ignore')"
   ]
  },
  {
   "cell_type": "code",
   "execution_count": 2,
   "metadata": {},
   "outputs": [],
   "source": [
    "# read the files created in the previous step\n",
    "sql1 = pd.read_csv('/datasets/project_sql_result_01.csv')\n",
    "sql2 = pd.read_csv('/datasets/project_sql_result_04.csv')"
   ]
  },
  {
   "cell_type": "code",
   "execution_count": 3,
   "metadata": {},
   "outputs": [
    {
     "data": {
      "text/plain": [
       "((64, 2), (94, 2))"
      ]
     },
     "execution_count": 3,
     "metadata": {},
     "output_type": "execute_result"
    }
   ],
   "source": [
    "# number of records\n",
    "sql1.shape, sql2.shape\n"
   ]
  },
  {
   "cell_type": "code",
   "execution_count": 4,
   "metadata": {},
   "outputs": [
    {
     "data": {
      "text/html": [
       "<div>\n",
       "<style scoped>\n",
       "    .dataframe tbody tr th:only-of-type {\n",
       "        vertical-align: middle;\n",
       "    }\n",
       "\n",
       "    .dataframe tbody tr th {\n",
       "        vertical-align: top;\n",
       "    }\n",
       "\n",
       "    .dataframe thead th {\n",
       "        text-align: right;\n",
       "    }\n",
       "</style>\n",
       "<table border=\"1\" class=\"dataframe\">\n",
       "  <thead>\n",
       "    <tr style=\"text-align: right;\">\n",
       "      <th></th>\n",
       "      <th>company_name</th>\n",
       "      <th>trips_amount</th>\n",
       "    </tr>\n",
       "  </thead>\n",
       "  <tbody>\n",
       "    <tr>\n",
       "      <td>0</td>\n",
       "      <td>Flash Cab</td>\n",
       "      <td>19558</td>\n",
       "    </tr>\n",
       "    <tr>\n",
       "      <td>1</td>\n",
       "      <td>Taxi Affiliation Services</td>\n",
       "      <td>11422</td>\n",
       "    </tr>\n",
       "    <tr>\n",
       "      <td>2</td>\n",
       "      <td>Medallion Leasing</td>\n",
       "      <td>10367</td>\n",
       "    </tr>\n",
       "    <tr>\n",
       "      <td>3</td>\n",
       "      <td>Yellow Cab</td>\n",
       "      <td>9888</td>\n",
       "    </tr>\n",
       "    <tr>\n",
       "      <td>4</td>\n",
       "      <td>Taxi Affiliation Service Yellow</td>\n",
       "      <td>9299</td>\n",
       "    </tr>\n",
       "  </tbody>\n",
       "</table>\n",
       "</div>"
      ],
      "text/plain": [
       "                      company_name  trips_amount\n",
       "0                        Flash Cab         19558\n",
       "1        Taxi Affiliation Services         11422\n",
       "2                Medallion Leasing         10367\n",
       "3                       Yellow Cab          9888\n",
       "4  Taxi Affiliation Service Yellow          9299"
      ]
     },
     "execution_count": 4,
     "metadata": {},
     "output_type": "execute_result"
    }
   ],
   "source": [
    "# top 5 records\n",
    "sql1.head()"
   ]
  },
  {
   "cell_type": "code",
   "execution_count": 5,
   "metadata": {},
   "outputs": [
    {
     "data": {
      "text/html": [
       "<div>\n",
       "<style scoped>\n",
       "    .dataframe tbody tr th:only-of-type {\n",
       "        vertical-align: middle;\n",
       "    }\n",
       "\n",
       "    .dataframe tbody tr th {\n",
       "        vertical-align: top;\n",
       "    }\n",
       "\n",
       "    .dataframe thead th {\n",
       "        text-align: right;\n",
       "    }\n",
       "</style>\n",
       "<table border=\"1\" class=\"dataframe\">\n",
       "  <thead>\n",
       "    <tr style=\"text-align: right;\">\n",
       "      <th></th>\n",
       "      <th>dropoff_location_name</th>\n",
       "      <th>average_trips</th>\n",
       "    </tr>\n",
       "  </thead>\n",
       "  <tbody>\n",
       "    <tr>\n",
       "      <td>0</td>\n",
       "      <td>Loop</td>\n",
       "      <td>10727.466667</td>\n",
       "    </tr>\n",
       "    <tr>\n",
       "      <td>1</td>\n",
       "      <td>River North</td>\n",
       "      <td>9523.666667</td>\n",
       "    </tr>\n",
       "    <tr>\n",
       "      <td>2</td>\n",
       "      <td>Streeterville</td>\n",
       "      <td>6664.666667</td>\n",
       "    </tr>\n",
       "    <tr>\n",
       "      <td>3</td>\n",
       "      <td>West Loop</td>\n",
       "      <td>5163.666667</td>\n",
       "    </tr>\n",
       "    <tr>\n",
       "      <td>4</td>\n",
       "      <td>O'Hare</td>\n",
       "      <td>2546.900000</td>\n",
       "    </tr>\n",
       "  </tbody>\n",
       "</table>\n",
       "</div>"
      ],
      "text/plain": [
       "  dropoff_location_name  average_trips\n",
       "0                  Loop   10727.466667\n",
       "1           River North    9523.666667\n",
       "2         Streeterville    6664.666667\n",
       "3             West Loop    5163.666667\n",
       "4                O'Hare    2546.900000"
      ]
     },
     "execution_count": 5,
     "metadata": {},
     "output_type": "execute_result"
    }
   ],
   "source": [
    "sql2.head()"
   ]
  },
  {
   "cell_type": "code",
   "execution_count": 6,
   "metadata": {},
   "outputs": [
    {
     "data": {
      "text/plain": [
       "company_name    object\n",
       "trips_amount     int64\n",
       "dtype: object"
      ]
     },
     "execution_count": 6,
     "metadata": {},
     "output_type": "execute_result"
    }
   ],
   "source": [
    "# dtypes\n",
    "sql1.dtypes"
   ]
  },
  {
   "cell_type": "code",
   "execution_count": 7,
   "metadata": {},
   "outputs": [
    {
     "data": {
      "text/plain": [
       "dropoff_location_name     object\n",
       "average_trips            float64\n",
       "dtype: object"
      ]
     },
     "execution_count": 7,
     "metadata": {},
     "output_type": "execute_result"
    }
   ],
   "source": [
    "sql2.dtypes"
   ]
  },
  {
   "cell_type": "code",
   "execution_count": 8,
   "metadata": {},
   "outputs": [
    {
     "data": {
      "text/plain": [
       "company_name    0\n",
       "trips_amount    0\n",
       "dtype: int64"
      ]
     },
     "execution_count": 8,
     "metadata": {},
     "output_type": "execute_result"
    }
   ],
   "source": [
    "# missing?\n",
    "sql1.isnull().sum()"
   ]
  },
  {
   "cell_type": "code",
   "execution_count": 9,
   "metadata": {},
   "outputs": [
    {
     "data": {
      "text/plain": [
       "dropoff_location_name    0\n",
       "average_trips            0\n",
       "dtype: int64"
      ]
     },
     "execution_count": 9,
     "metadata": {},
     "output_type": "execute_result"
    }
   ],
   "source": [
    "sql2.isnull().sum()"
   ]
  },
  {
   "cell_type": "code",
   "execution_count": 10,
   "metadata": {},
   "outputs": [
    {
     "data": {
      "text/plain": [
       "0"
      ]
     },
     "execution_count": 10,
     "metadata": {},
     "output_type": "execute_result"
    }
   ],
   "source": [
    "# duplicates?\n",
    "sql1.duplicated().sum()"
   ]
  },
  {
   "cell_type": "code",
   "execution_count": 11,
   "metadata": {},
   "outputs": [
    {
     "data": {
      "text/plain": [
       "0"
      ]
     },
     "execution_count": 11,
     "metadata": {},
     "output_type": "execute_result"
    }
   ],
   "source": [
    "sql2.duplicated().sum()"
   ]
  },
  {
   "cell_type": "code",
   "execution_count": 12,
   "metadata": {},
   "outputs": [
    {
     "data": {
      "text/html": [
       "<div>\n",
       "<style scoped>\n",
       "    .dataframe tbody tr th:only-of-type {\n",
       "        vertical-align: middle;\n",
       "    }\n",
       "\n",
       "    .dataframe tbody tr th {\n",
       "        vertical-align: top;\n",
       "    }\n",
       "\n",
       "    .dataframe thead th {\n",
       "        text-align: right;\n",
       "    }\n",
       "</style>\n",
       "<table border=\"1\" class=\"dataframe\">\n",
       "  <thead>\n",
       "    <tr style=\"text-align: right;\">\n",
       "      <th></th>\n",
       "      <th>trips_amount</th>\n",
       "    </tr>\n",
       "  </thead>\n",
       "  <tbody>\n",
       "    <tr>\n",
       "      <td>count</td>\n",
       "      <td>64.000000</td>\n",
       "    </tr>\n",
       "    <tr>\n",
       "      <td>mean</td>\n",
       "      <td>2145.484375</td>\n",
       "    </tr>\n",
       "    <tr>\n",
       "      <td>std</td>\n",
       "      <td>3812.310186</td>\n",
       "    </tr>\n",
       "    <tr>\n",
       "      <td>min</td>\n",
       "      <td>2.000000</td>\n",
       "    </tr>\n",
       "    <tr>\n",
       "      <td>25%</td>\n",
       "      <td>20.750000</td>\n",
       "    </tr>\n",
       "    <tr>\n",
       "      <td>50%</td>\n",
       "      <td>178.500000</td>\n",
       "    </tr>\n",
       "    <tr>\n",
       "      <td>75%</td>\n",
       "      <td>2106.500000</td>\n",
       "    </tr>\n",
       "    <tr>\n",
       "      <td>max</td>\n",
       "      <td>19558.000000</td>\n",
       "    </tr>\n",
       "  </tbody>\n",
       "</table>\n",
       "</div>"
      ],
      "text/plain": [
       "       trips_amount\n",
       "count     64.000000\n",
       "mean    2145.484375\n",
       "std     3812.310186\n",
       "min        2.000000\n",
       "25%       20.750000\n",
       "50%      178.500000\n",
       "75%     2106.500000\n",
       "max    19558.000000"
      ]
     },
     "execution_count": 12,
     "metadata": {},
     "output_type": "execute_result"
    }
   ],
   "source": [
    "# describe numerical features\n",
    "sql1.describe()"
   ]
  },
  {
   "cell_type": "code",
   "execution_count": 13,
   "metadata": {},
   "outputs": [
    {
     "data": {
      "text/html": [
       "<div>\n",
       "<style scoped>\n",
       "    .dataframe tbody tr th:only-of-type {\n",
       "        vertical-align: middle;\n",
       "    }\n",
       "\n",
       "    .dataframe tbody tr th {\n",
       "        vertical-align: top;\n",
       "    }\n",
       "\n",
       "    .dataframe thead th {\n",
       "        text-align: right;\n",
       "    }\n",
       "</style>\n",
       "<table border=\"1\" class=\"dataframe\">\n",
       "  <thead>\n",
       "    <tr style=\"text-align: right;\">\n",
       "      <th></th>\n",
       "      <th>average_trips</th>\n",
       "    </tr>\n",
       "  </thead>\n",
       "  <tbody>\n",
       "    <tr>\n",
       "      <td>count</td>\n",
       "      <td>94.000000</td>\n",
       "    </tr>\n",
       "    <tr>\n",
       "      <td>mean</td>\n",
       "      <td>599.953728</td>\n",
       "    </tr>\n",
       "    <tr>\n",
       "      <td>std</td>\n",
       "      <td>1714.591098</td>\n",
       "    </tr>\n",
       "    <tr>\n",
       "      <td>min</td>\n",
       "      <td>1.800000</td>\n",
       "    </tr>\n",
       "    <tr>\n",
       "      <td>25%</td>\n",
       "      <td>14.266667</td>\n",
       "    </tr>\n",
       "    <tr>\n",
       "      <td>50%</td>\n",
       "      <td>52.016667</td>\n",
       "    </tr>\n",
       "    <tr>\n",
       "      <td>75%</td>\n",
       "      <td>298.858333</td>\n",
       "    </tr>\n",
       "    <tr>\n",
       "      <td>max</td>\n",
       "      <td>10727.466667</td>\n",
       "    </tr>\n",
       "  </tbody>\n",
       "</table>\n",
       "</div>"
      ],
      "text/plain": [
       "       average_trips\n",
       "count      94.000000\n",
       "mean      599.953728\n",
       "std      1714.591098\n",
       "min         1.800000\n",
       "25%        14.266667\n",
       "50%        52.016667\n",
       "75%       298.858333\n",
       "max     10727.466667"
      ]
     },
     "execution_count": 13,
     "metadata": {},
     "output_type": "execute_result"
    }
   ],
   "source": [
    "sql2.describe()"
   ]
  },
  {
   "cell_type": "markdown",
   "metadata": {},
   "source": [
    "**Conclusion**\n",
    "\n",
    "1) Based on the execution of steps 1, 2 and 3, the resulting sql files that were produced contain 64 instances of companies\n",
    "and their frequency of trips carried out on 15 and 16 November 2017; the second file contains 94 recorded dropoffs and their average\n",
    "duration in various neighborhoods of Chicago in 2017.\n",
    "\n",
    "2) This sample is pretty clean: a) there are no missing values. b) no duplicates. c) and the dtypes are correctly captured.\n",
    "\n",
    "3) The frequency of trips ranges from as low as 2 to as high as 19558, and this is just for 2 days (15th and 16th Nov 2017)\n",
    "\n",
    "4) The average trip duration ranges from 1.8 seconds to almost 3 hours during November 2017; the mean is 10 minutes."
   ]
  },
  {
   "cell_type": "markdown",
   "metadata": {},
   "source": [
    "### Step 4. Exploratory data analysis (Python)"
   ]
  },
  {
   "cell_type": "markdown",
   "metadata": {},
   "source": [
    "The data retrieved from SQL tasks is saved in three CSV files:\n",
    "\n",
    "project_sql_result_01.csv. It will be saved in companies dataframe variable. It contains the following data:\n",
    "\n",
    "* company_name: taxi company name\n",
    "* trips_amount: the number of rides for each taxi company on November 15-16, 2017.\n",
    "\n",
    "project_sql_result_04.csv. It will be saved in dropoffs dataframe variable. It contains the following data:\n",
    "\n",
    "* dropoff_location_name: Chicago neighborhoods where rides ended\n",
    "* average_trips: the average number of rides that ended in each neighborhood in November 2017.\n",
    "\n",
    "project_sql_result_07.csv It will be saved in loop_ohare dataframe variable. It contains data on rides from the Loop to O'Hare International Airport. It contains the following data:\n",
    "\n",
    "* start_ts : pickup date and time\n",
    "* weather_conditions : weather conditions at the moment the ride started\n",
    "* duration_seconds : ride duration in seconds"
   ]
  },
  {
   "cell_type": "code",
   "execution_count": 14,
   "metadata": {},
   "outputs": [],
   "source": [
    "def create_histogram(df, field, bins=50, xaxis_label=None,\n",
    "                     figsize=(9, 7), title=None):\n",
    "    \"\"\"\n",
    "    Create a Histogram\n",
    "    \"\"\"\n",
    "    df[field].plot(kind='hist', bins=bins, title=title, figsize=figsize)\n",
    "    plt.xlabel(xaxis_label)"
   ]
  },
  {
   "cell_type": "code",
   "execution_count": 15,
   "metadata": {},
   "outputs": [
    {
     "data": {
      "image/png": "[encoded data removed]",
      "text/plain": [
       "<Figure size 648x504 with 1 Axes>"
      ]
     },
     "metadata": {
      "needs_background": "light"
     },
     "output_type": "display_data"
    }
   ],
   "source": [
    "create_histogram(sql1, 'trips_amount', bins=20, xaxis_label='Trips amount',\n",
    "                 title='Distribution of trips frequency - 15th and 16th November 2017')"
   ]
  },
  {
   "cell_type": "markdown",
   "metadata": {},
   "source": [
    "1) As expected, the distribution is right-skewed with most most number of trips ranging between (0, 2000]. There are\n",
    "outliers in the data"
   ]
  },
  {
   "cell_type": "code",
   "execution_count": 16,
   "metadata": {},
   "outputs": [],
   "source": [
    "def create_bar(df, field, field2, xaxis_label=None, \n",
    "              figsize=(9, 7), top_n=10, title=None):\n",
    "    \"\"\"\n",
    "    Create Bar chart\n",
    "    \"\"\"\n",
    "    df.sort_values(field2, ascending=False)[:top_n].plot(kind='bar', x=field, y=field2, \n",
    "                   title=title, figsize=figsize)\n",
    "    plt.xlabel(xaxis_label)"
   ]
  },
  {
   "cell_type": "code",
   "execution_count": 17,
   "metadata": {},
   "outputs": [
    {
     "data": {
      "image/png": "[encoded data removed]",
      "text/plain": [
       "<Figure size 648x504 with 1 Axes>"
      ]
     },
     "metadata": {
      "needs_background": "light"
     },
     "output_type": "display_data"
    }
   ],
   "source": [
    "create_bar(sql1, 'company_name', 'trips_amount', xaxis_label='Company',\n",
    "                 title='Top 10 companies by frequency')"
   ]
  },
  {
   "cell_type": "markdown",
   "metadata": {},
   "source": [
    "1) Flash Cab is by far the most popular cab service running in that neighborhood."
   ]
  },
  {
   "cell_type": "code",
   "execution_count": 18,
   "metadata": {},
   "outputs": [
    {
     "data": {
      "image/png": "[encoded data removed]",
      "text/plain": [
       "<Figure size 648x504 with 1 Axes>"
      ]
     },
     "metadata": {
      "needs_background": "light"
     },
     "output_type": "display_data"
    }
   ],
   "source": [
    "create_histogram(sql2, 'average_trips', bins=10, xaxis_label='Duration (seconds)',\n",
    "                 title='Distribution of duration of trips - November 2017')"
   ]
  },
  {
   "cell_type": "markdown",
   "metadata": {},
   "source": [
    "1) The mean duration is also a right-skewed distribution, and majority of the trips are less than 300 seconds."
   ]
  },
  {
   "cell_type": "code",
   "execution_count": 19,
   "metadata": {},
   "outputs": [
    {
     "data": {
      "image/png": "[encoded data removed]",
      "text/plain": [
       "<Figure size 648x504 with 1 Axes>"
      ]
     },
     "metadata": {
      "needs_background": "light"
     },
     "output_type": "display_data"
    }
   ],
   "source": [
    "create_bar(sql2, 'dropoff_location_name', 'average_trips', xaxis_label='Neigbhorhood',\n",
    "                 title='Top 10 dropoff locations by average duration')"
   ]
  },
  {
   "cell_type": "markdown",
   "metadata": {},
   "source": [
    "1) Loop is the most popular dropoff location in Chicago in November 2017"
   ]
  },
  {
   "cell_type": "code",
   "execution_count": 20,
   "metadata": {},
   "outputs": [],
   "source": [
    "# read the data for trips made in November from Loop to O'Hare\n",
    "# on Saturday\n",
    "sql7 = pd.read_csv('/datasets/project_sql_result_07.csv')"
   ]
  },
  {
   "cell_type": "code",
   "execution_count": 21,
   "metadata": {},
   "outputs": [
    {
     "data": {
      "text/plain": [
       "(1068, 3)"
      ]
     },
     "execution_count": 21,
     "metadata": {},
     "output_type": "execute_result"
    }
   ],
   "source": [
    "# number of records\n",
    "sql7.shape"
   ]
  },
  {
   "cell_type": "code",
   "execution_count": 22,
   "metadata": {},
   "outputs": [
    {
     "data": {
      "text/html": [
       "<div>\n",
       "<style scoped>\n",
       "    .dataframe tbody tr th:only-of-type {\n",
       "        vertical-align: middle;\n",
       "    }\n",
       "\n",
       "    .dataframe tbody tr th {\n",
       "        vertical-align: top;\n",
       "    }\n",
       "\n",
       "    .dataframe thead th {\n",
       "        text-align: right;\n",
       "    }\n",
       "</style>\n",
       "<table border=\"1\" class=\"dataframe\">\n",
       "  <thead>\n",
       "    <tr style=\"text-align: right;\">\n",
       "      <th></th>\n",
       "      <th>start_ts</th>\n",
       "      <th>weather_conditions</th>\n",
       "      <th>duration_seconds</th>\n",
       "    </tr>\n",
       "  </thead>\n",
       "  <tbody>\n",
       "    <tr>\n",
       "      <td>0</td>\n",
       "      <td>2017-11-25 16:00:00</td>\n",
       "      <td>Good</td>\n",
       "      <td>2410.0</td>\n",
       "    </tr>\n",
       "    <tr>\n",
       "      <td>1</td>\n",
       "      <td>2017-11-25 14:00:00</td>\n",
       "      <td>Good</td>\n",
       "      <td>1920.0</td>\n",
       "    </tr>\n",
       "    <tr>\n",
       "      <td>2</td>\n",
       "      <td>2017-11-25 12:00:00</td>\n",
       "      <td>Good</td>\n",
       "      <td>1543.0</td>\n",
       "    </tr>\n",
       "    <tr>\n",
       "      <td>3</td>\n",
       "      <td>2017-11-04 10:00:00</td>\n",
       "      <td>Good</td>\n",
       "      <td>2512.0</td>\n",
       "    </tr>\n",
       "    <tr>\n",
       "      <td>4</td>\n",
       "      <td>2017-11-11 07:00:00</td>\n",
       "      <td>Good</td>\n",
       "      <td>1440.0</td>\n",
       "    </tr>\n",
       "  </tbody>\n",
       "</table>\n",
       "</div>"
      ],
      "text/plain": [
       "              start_ts weather_conditions  duration_seconds\n",
       "0  2017-11-25 16:00:00               Good            2410.0\n",
       "1  2017-11-25 14:00:00               Good            1920.0\n",
       "2  2017-11-25 12:00:00               Good            1543.0\n",
       "3  2017-11-04 10:00:00               Good            2512.0\n",
       "4  2017-11-11 07:00:00               Good            1440.0"
      ]
     },
     "execution_count": 22,
     "metadata": {},
     "output_type": "execute_result"
    }
   ],
   "source": [
    "sql7.head()"
   ]
  },
  {
   "cell_type": "code",
   "execution_count": 23,
   "metadata": {},
   "outputs": [
    {
     "data": {
      "text/plain": [
       "start_ts              0\n",
       "weather_conditions    0\n",
       "duration_seconds      0\n",
       "dtype: int64"
      ]
     },
     "execution_count": 23,
     "metadata": {},
     "output_type": "execute_result"
    }
   ],
   "source": [
    "# missing?\n",
    "sql7.isnull().sum()"
   ]
  },
  {
   "cell_type": "code",
   "execution_count": 24,
   "metadata": {},
   "outputs": [
    {
     "data": {
      "text/plain": [
       "197"
      ]
     },
     "execution_count": 24,
     "metadata": {},
     "output_type": "execute_result"
    }
   ],
   "source": [
    "# duplicates?\n",
    "sql7.duplicated().sum()"
   ]
  },
  {
   "cell_type": "code",
   "execution_count": 25,
   "metadata": {},
   "outputs": [
    {
     "data": {
      "text/html": [
       "<div>\n",
       "<style scoped>\n",
       "    .dataframe tbody tr th:only-of-type {\n",
       "        vertical-align: middle;\n",
       "    }\n",
       "\n",
       "    .dataframe tbody tr th {\n",
       "        vertical-align: top;\n",
       "    }\n",
       "\n",
       "    .dataframe thead th {\n",
       "        text-align: right;\n",
       "    }\n",
       "</style>\n",
       "<table border=\"1\" class=\"dataframe\">\n",
       "  <thead>\n",
       "    <tr style=\"text-align: right;\">\n",
       "      <th></th>\n",
       "      <th>start_ts</th>\n",
       "      <th>weather_conditions</th>\n",
       "      <th>duration_seconds</th>\n",
       "    </tr>\n",
       "  </thead>\n",
       "  <tbody>\n",
       "    <tr>\n",
       "      <td>62</td>\n",
       "      <td>2017-11-11 06:00:00</td>\n",
       "      <td>Good</td>\n",
       "      <td>1260.0</td>\n",
       "    </tr>\n",
       "    <tr>\n",
       "      <td>74</td>\n",
       "      <td>2017-11-11 08:00:00</td>\n",
       "      <td>Good</td>\n",
       "      <td>1380.0</td>\n",
       "    </tr>\n",
       "    <tr>\n",
       "      <td>76</td>\n",
       "      <td>2017-11-04 09:00:00</td>\n",
       "      <td>Good</td>\n",
       "      <td>1380.0</td>\n",
       "    </tr>\n",
       "    <tr>\n",
       "      <td>117</td>\n",
       "      <td>2017-11-11 07:00:00</td>\n",
       "      <td>Good</td>\n",
       "      <td>1380.0</td>\n",
       "    </tr>\n",
       "    <tr>\n",
       "      <td>119</td>\n",
       "      <td>2017-11-04 14:00:00</td>\n",
       "      <td>Good</td>\n",
       "      <td>3300.0</td>\n",
       "    </tr>\n",
       "  </tbody>\n",
       "</table>\n",
       "</div>"
      ],
      "text/plain": [
       "                start_ts weather_conditions  duration_seconds\n",
       "62   2017-11-11 06:00:00               Good            1260.0\n",
       "74   2017-11-11 08:00:00               Good            1380.0\n",
       "76   2017-11-04 09:00:00               Good            1380.0\n",
       "117  2017-11-11 07:00:00               Good            1380.0\n",
       "119  2017-11-04 14:00:00               Good            3300.0"
      ]
     },
     "execution_count": 25,
     "metadata": {},
     "output_type": "execute_result"
    }
   ],
   "source": [
    "# sample of duplicates\n",
    "sql7[sql7.duplicated()].head()"
   ]
  },
  {
   "cell_type": "code",
   "execution_count": 26,
   "metadata": {},
   "outputs": [],
   "source": [
    "# remove the duplicates\n",
    "cleaned_sql7 = sql7.drop_duplicates()"
   ]
  },
  {
   "cell_type": "code",
   "execution_count": 27,
   "metadata": {},
   "outputs": [
    {
     "data": {
      "text/plain": [
       "0"
      ]
     },
     "execution_count": 27,
     "metadata": {},
     "output_type": "execute_result"
    }
   ],
   "source": [
    "# check duplicates\n",
    "cleaned_sql7.duplicated().sum()"
   ]
  },
  {
   "cell_type": "code",
   "execution_count": 28,
   "metadata": {},
   "outputs": [
    {
     "data": {
      "text/plain": [
       "start_ts               object\n",
       "weather_conditions     object\n",
       "duration_seconds      float64\n",
       "dtype: object"
      ]
     },
     "execution_count": 28,
     "metadata": {},
     "output_type": "execute_result"
    }
   ],
   "source": [
    "# datatypes\n",
    "cleaned_sql7.dtypes"
   ]
  },
  {
   "cell_type": "code",
   "execution_count": 29,
   "metadata": {},
   "outputs": [],
   "source": [
    "# change datatype for start_ts\n",
    "cleaned_sql7['start_ts'] = pd.to_datetime(cleaned_sql7['start_ts'], format='%Y-%m-%d %H:%M:%S')"
   ]
  },
  {
   "cell_type": "code",
   "execution_count": 30,
   "metadata": {},
   "outputs": [
    {
     "data": {
      "text/plain": [
       "start_ts              datetime64[ns]\n",
       "weather_conditions            object\n",
       "duration_seconds             float64\n",
       "dtype: object"
      ]
     },
     "execution_count": 30,
     "metadata": {},
     "output_type": "execute_result"
    }
   ],
   "source": [
    "cleaned_sql7.dtypes"
   ]
  },
  {
   "cell_type": "code",
   "execution_count": 31,
   "metadata": {},
   "outputs": [
    {
     "data": {
      "text/html": [
       "<div>\n",
       "<style scoped>\n",
       "    .dataframe tbody tr th:only-of-type {\n",
       "        vertical-align: middle;\n",
       "    }\n",
       "\n",
       "    .dataframe tbody tr th {\n",
       "        vertical-align: top;\n",
       "    }\n",
       "\n",
       "    .dataframe thead th {\n",
       "        text-align: right;\n",
       "    }\n",
       "</style>\n",
       "<table border=\"1\" class=\"dataframe\">\n",
       "  <thead>\n",
       "    <tr style=\"text-align: right;\">\n",
       "      <th></th>\n",
       "      <th>duration_seconds</th>\n",
       "    </tr>\n",
       "  </thead>\n",
       "  <tbody>\n",
       "    <tr>\n",
       "      <td>count</td>\n",
       "      <td>871.000000</td>\n",
       "    </tr>\n",
       "    <tr>\n",
       "      <td>mean</td>\n",
       "      <td>2096.308840</td>\n",
       "    </tr>\n",
       "    <tr>\n",
       "      <td>std</td>\n",
       "      <td>782.274717</td>\n",
       "    </tr>\n",
       "    <tr>\n",
       "      <td>min</td>\n",
       "      <td>0.000000</td>\n",
       "    </tr>\n",
       "    <tr>\n",
       "      <td>25%</td>\n",
       "      <td>1440.000000</td>\n",
       "    </tr>\n",
       "    <tr>\n",
       "      <td>50%</td>\n",
       "      <td>2015.000000</td>\n",
       "    </tr>\n",
       "    <tr>\n",
       "      <td>75%</td>\n",
       "      <td>2584.000000</td>\n",
       "    </tr>\n",
       "    <tr>\n",
       "      <td>max</td>\n",
       "      <td>7440.000000</td>\n",
       "    </tr>\n",
       "  </tbody>\n",
       "</table>\n",
       "</div>"
      ],
      "text/plain": [
       "       duration_seconds\n",
       "count        871.000000\n",
       "mean        2096.308840\n",
       "std          782.274717\n",
       "min            0.000000\n",
       "25%         1440.000000\n",
       "50%         2015.000000\n",
       "75%         2584.000000\n",
       "max         7440.000000"
      ]
     },
     "execution_count": 31,
     "metadata": {},
     "output_type": "execute_result"
    }
   ],
   "source": [
    "# describe numerical features\n",
    "cleaned_sql7.describe()"
   ]
  },
  {
   "cell_type": "code",
   "execution_count": 32,
   "metadata": {},
   "outputs": [
    {
     "data": {
      "text/plain": [
       "(6, 3)"
      ]
     },
     "execution_count": 32,
     "metadata": {},
     "output_type": "execute_result"
    }
   ],
   "source": [
    "# 6 trips with 0 duration. A possible error?\n",
    "cleaned_sql7[cleaned_sql7['duration_seconds'] == 0].shape"
   ]
  },
  {
   "cell_type": "code",
   "execution_count": 33,
   "metadata": {},
   "outputs": [
    {
     "data": {
      "text/plain": [
       "Good    0.83008\n",
       "Bad     0.16992\n",
       "Name: weather_conditions, dtype: float64"
      ]
     },
     "execution_count": 33,
     "metadata": {},
     "output_type": "execute_result"
    }
   ],
   "source": [
    "# proportion of good versus bad weather\n",
    "cleaned_sql7['weather_conditions'].value_counts(normalize=True)"
   ]
  },
  {
   "cell_type": "code",
   "execution_count": 34,
   "metadata": {},
   "outputs": [
    {
     "data": {
      "text/plain": [
       "2017-11-11    0.362801\n",
       "2017-11-04    0.345580\n",
       "2017-11-18    0.185993\n",
       "2017-11-25    0.105626\n",
       "Name: start_ts, dtype: float64"
      ]
     },
     "execution_count": 34,
     "metadata": {},
     "output_type": "execute_result"
    }
   ],
   "source": [
    "# proportion of weekends\n",
    "cleaned_sql7['start_ts'].dt.date.value_counts(normalize=True)"
   ]
  },
  {
   "cell_type": "markdown",
   "metadata": {},
   "source": [
    "**Conclusion**\n",
    "\n",
    "1) The top 10 neighborhoods are part of Chicago's downtown area, which is bustling with Art galleries, Pubs, Restaurants and Museums which are dotted along Lake Michigan, which explains the relatively higher frequency of trips.\n",
    "\n",
    "2) There are 197 duplicates, which is probably a side effect of the SQL join - (The timestamp field in both weather and trips table are rounded to the nearest hour)\n",
    "\n",
    "3) There are 6 trips with a recorded duration of 0 seconds. 75% of the trips are less than 43 minutes long.\n",
    "\n",
    "4) 83% of the trips were made in good weather conditions.\n",
    "\n",
    "5) 36% of the trips were made on 11 November 2017."
   ]
  },
  {
   "cell_type": "markdown",
   "metadata": {},
   "source": [
    "### Loop to O'Hare analysis"
   ]
  },
  {
   "cell_type": "code",
   "execution_count": 35,
   "metadata": {},
   "outputs": [
    {
     "data": {
      "image/png": "[encoded data removed]",
      "text/plain": [
       "<Figure size 648x504 with 1 Axes>"
      ]
     },
     "metadata": {
      "needs_background": "light"
     },
     "output_type": "display_data"
    }
   ],
   "source": [
    "create_histogram(cleaned_sql7, 'duration_seconds', bins=50, xaxis_label='Duration (seconds)',\n",
    "                 title=\"Distribution of duration of trips - Loop to O'Hare\")"
   ]
  },
  {
   "cell_type": "code",
   "execution_count": 36,
   "metadata": {},
   "outputs": [],
   "source": [
    "# get the bins and heights\n",
    "# plt.hist(cleaned_sql7['duration_seconds'], bins=50)"
   ]
  },
  {
   "cell_type": "markdown",
   "metadata": {},
   "source": [
    "1) There are 2 peaks in the above distribution, with outliers at both ends. The first peak is at ~1400 seconds mark, and\n",
    "the other is at ~2100 seconds mark."
   ]
  },
  {
   "cell_type": "code",
   "execution_count": 37,
   "metadata": {},
   "outputs": [],
   "source": [
    "# create hour and date variable\n",
    "cleaned_sql7['hour'] = cleaned_sql7['start_ts'].dt.hour\n",
    "cleaned_sql7['date'] = cleaned_sql7['start_ts'].dt.date"
   ]
  },
  {
   "cell_type": "code",
   "execution_count": 38,
   "metadata": {},
   "outputs": [],
   "source": [
    "# create a separate Dataframe for the heatmap\n",
    "hourly_df = cleaned_sql7[['date', 'hour']].copy()\n",
    "hourly_df = (\n",
    "hourly_df.groupby(['date', 'hour'])\n",
    "    .agg({'hour': 'count'})\n",
    "    .rename(columns={'hour': 'frequency'})\n",
    "    .sort_values(['date', 'frequency'], ascending=[True, False])\n",
    "    .reset_index()\n",
    ")    "
   ]
  },
  {
   "cell_type": "code",
   "execution_count": 39,
   "metadata": {},
   "outputs": [],
   "source": [
    "def create_heatmap(df, fields, agg_var, ax=None, title=None, \n",
    "                  cbar_label=\"\", sup_title=None, cbar_kw={}, \n",
    "                  **kwargs):\n",
    "    \"\"\"\n",
    "    Create Heatmap\n",
    "    Credits -\n",
    "    https://matplotlib.org/stable/gallery/images_contours_and_fields/image_annotated_heatmap.html\n",
    "    \"\"\"\n",
    "    text_colors = ('black', 'white')\n",
    "    grp = df.groupby(fields).agg(agg_var).groupby(level=0).apply(lambda x: x/x.sum())\n",
    "    r = grp.pivot_table(index=fields[0], columns=fields[1], values=list(agg_var.keys())[0], \n",
    "                        fill_value=0, aggfunc=np.max)\n",
    "    rows = list(r.index)\n",
    "    cols = list(r.columns)\n",
    "    val = r.values\n",
    "    \n",
    "    fig = plt.figure(figsize=(12, 15))\n",
    "\n",
    "    if not ax:\n",
    "        ax = plt.gca()\n",
    "    im = ax.imshow(val, **kwargs)\n",
    "\n",
    "    threshold = im.norm(val.max()) / 2\n",
    "    # cbar_kw = {\"shrink\": .8}\n",
    "\n",
    "    # Create colorbar\n",
    "    cbar = ax.figure.colorbar(im, ax=ax, **cbar_kw)\n",
    "    cbar.ax.set_ylabel(cbar_label, rotation=-90, va=\"bottom\")\n",
    "\n",
    "    # We want to show all ticks...\n",
    "    ax.set_xticks(np.arange(len(cols)))\n",
    "    ax.set_yticks(np.arange(len(rows)))\n",
    "    # ... and label them with the respective list entries\n",
    "    ax.set_xticklabels(cols)\n",
    "    ax.set_yticklabels(rows)\n",
    "\n",
    "    # Rotate the tick labels and set their alignment.\n",
    "    plt.setp(ax.get_xticklabels(), rotation=45, ha=\"right\",\n",
    "             rotation_mode=\"anchor\")\n",
    "\n",
    "    # Turn spines off and create white grid.\n",
    "    # ax.spines[:].set_visible(False)\n",
    "\n",
    "    ax.set_xticks(np.arange(val.shape[1]+1)-.5, minor=True)\n",
    "    ax.set_yticks(np.arange(val.shape[0]+1)-.5, minor=True)\n",
    "    ax.grid(which=\"minor\", color=\"w\", linestyle='-', linewidth=3)\n",
    "    ax.tick_params(which=\"minor\", bottom=False, left=False)\n",
    "\n",
    "    # Loop over data dimensions and create text annotations.\n",
    "    for i in range(len(rows)):\n",
    "        for j in range(len(cols)):\n",
    "            text = im.axes.text(j, i, '{:.0%}'.format(val[i, j]),\n",
    "                           ha=\"center\", va=\"center\", \n",
    "                        color=text_colors[int(im.norm(val[i, j]) > threshold)])\n",
    "\n",
    "    plt.suptitle(sup_title)\n",
    "    ax.set_title(title)\n",
    "    plt.tight_layout(rect=[0, 0.03, 1, 0.95])"
   ]
  },
  {
   "cell_type": "code",
   "execution_count": 40,
   "metadata": {},
   "outputs": [
    {
     "data": {
      "image/png": "[encoded data removed]",
      "text/plain": [
       "<Figure size 864x1080 with 2 Axes>"
      ]
     },
     "metadata": {
      "needs_background": "light"
     },
     "output_type": "display_data"
    }
   ],
   "source": [
    "fields = ['hour', 'date']\n",
    "agg_var = {'frequency': 'count'}\n",
    "create_heatmap(hourly_df, fields, agg_var, title=\"Heatmap of trips on Saturday - Loop to O'Hare\", \n",
    "               cbar_kw={\"shrink\": .5},\n",
    "              cmap=\"RdYlGn\")"
   ]
  },
  {
   "cell_type": "markdown",
   "metadata": {},
   "source": [
    "1) From the heatmap, we can see that the distribution of trips is uniform from 4 AM to 8 PM on Saturday; the variation\n",
    "in distribution of trips is either before 4 AM or after 8 PM."
   ]
  },
  {
   "cell_type": "markdown",
   "metadata": {},
   "source": [
    "**Conclusion**\n",
    "\n",
    "1) Flash Cab is by far the most popular cab service running in that neighborhood.\n",
    "\n",
    "2) Loop is the most popular dropoff location in Chicago in November 2017.\n",
    "\n",
    "3) There are 6 trips with a recorded duration of 0 seconds. 75% of the trips are less than 43 minutes long.\n",
    "\n",
    "4) 83% of the trips were made in good weather conditions.\n",
    "\n",
    "5) 36% of the trips were made on 11 November 2017.\n",
    "\n",
    "6) From the heatmap, we can see that the distribution of trips is uniform from 4 AM to 8 PM on Saturday; the variation in distribution of trips is either before 4 AM or after 8 PM."
   ]
  },
  {
   "cell_type": "code",
   "execution_count": 41,
   "metadata": {},
   "outputs": [
    {
     "name": "stdout",
     "output_type": "stream",
     "text": [
      "Sample mean of trips during Good weather 2032.253112033195\n",
      "Sample mean of trips during Bad weather 2409.2297297297296\n"
     ]
    }
   ],
   "source": [
    "print('Sample mean of trips during Good weather {}'\n",
    "      .format(cleaned_sql7[cleaned_sql7['weather_conditions'] == 'Good']['duration_seconds'].mean()))\n",
    "print('Sample mean of trips during Bad weather {}'\n",
    "      .format(cleaned_sql7[cleaned_sql7['weather_conditions'] == 'Bad']['duration_seconds'].mean()))"
   ]
  },
  {
   "cell_type": "markdown",
   "metadata": {},
   "source": [
    "### Step 5. Testing hypotheses (Python)\n",
    "Test the hypothesis:\n",
    "\n",
    "\n",
    "1) Are the average trip durations from Loop neighborhood to O'Hare International Airport changes on rainy Saturdays.\n",
    "\n",
    "\\$H_{0}: \\mu_{Good} \\= \\mu_{Bad}\\$\n",
    "\n",
    "\\$H_{1}: \\mu_{Good} \\ne \\mu_{Bad}\\$\n",
    "\n",
    "Collect the sample means for trips during Good and Bad weather on Saturday. Since we are testing for equality\n",
    "of 2 independent sample means coming from the same rides we will use T test for independence, and assume\n",
    "that their variance is similar.\n",
    "\n",
    "\\$ \\mu_{Good} \\= 2032  seconds\\$\n",
    "\n",
    "\\$ \\mu_{Bad} \\= 2409  seconds\\$\n",
    "\n",
    "\\$alpha \\= 0.05 \\$\n"
   ]
  },
  {
   "cell_type": "code",
   "execution_count": 42,
   "metadata": {},
   "outputs": [
    {
     "name": "stdout",
     "output_type": "stream",
     "text": [
      "p-value: 7.397770692813604e-08\n",
      "We reject the null hypothesis\n"
     ]
    }
   ],
   "source": [
    "sample_duration_good = cleaned_sql7[cleaned_sql7['weather_conditions'] == 'Good']['duration_seconds']\n",
    "sample_duration_bad = cleaned_sql7[cleaned_sql7['weather_conditions'] == 'Bad']['duration_seconds']\n",
    "\n",
    "alpha = 0.05\n",
    "results = stats.ttest_ind(sample_duration_good, sample_duration_bad)\n",
    "print('p-value:', results.pvalue)\n",
    "\n",
    "if results.pvalue < alpha:\n",
    "    print(\"We reject the null hypothesis\")\n",
    "else:\n",
    "    print(\"We can't reject the null hypothesis\") "
   ]
  },
  {
   "cell_type": "markdown",
   "metadata": {},
   "source": [
    "1) There is evidence to show that the results are statisically significant; therefore, we reject the null."
   ]
  },
  {
   "cell_type": "markdown",
   "metadata": {},
   "source": [
    "**Summary**\n",
    "\n",
    "1) Zuber has its work cutout for itself. It's closest competitors, based on November 2017 rides from Chicago, are: 1) Flash Cab. 2) Taxi Affiliation Services\n",
    "\n",
    "2) A few neighborhoods are more popular than others based on average duration of the trip. Loop, Rivernorth are a couple of such dropoff locations that witness a lot of activity.\n",
    "\n",
    "3) From 1-7 November, Yellow taxi cabs have done more trips than Blue taxi cabs.\n",
    "\n",
    "4) 83% of the trips were made in Good weather.\n",
    "\n",
    "5) Analysis of the trips on the Saturdays in Novemeber, from Loop to O'Hare, reveals that most of the trips happened on the 1st two Saturdays. Another interesting observation is that distribution of the duration of the trips is uniform between 4 AM - 8 PM; the variations are only seen before 4 AM and after 8 PM.\n",
    "\n",
    "6) The hypothesis testing confirms that there is evidence to show that there is a difference in mean trip duration during Bad weather. On average taxis take 6 mins longer to complete a trip during Bad weather."
   ]
  }
 ],
 "metadata": {
  "ExecuteTimeLog": [
   {
    "duration": 871,
    "start_time": "2021-06-12T12:44:02.447Z"
   },
   {
    "duration": 47,
    "start_time": "2021-06-12T12:45:40.071Z"
   },
   {
    "duration": 8,
    "start_time": "2021-06-12T12:45:56.600Z"
   },
   {
    "duration": 12,
    "start_time": "2021-06-12T12:46:58.220Z"
   },
   {
    "duration": 10,
    "start_time": "2021-06-12T12:47:05.536Z"
   },
   {
    "duration": 7,
    "start_time": "2021-06-12T12:47:44.198Z"
   },
   {
    "duration": 412,
    "start_time": "2021-06-12T12:47:55.166Z"
   },
   {
    "duration": 6,
    "start_time": "2021-06-12T12:47:57.606Z"
   },
   {
    "duration": 2,
    "start_time": "2021-06-12T12:54:32.307Z"
   },
   {
    "duration": 8,
    "start_time": "2021-06-12T12:58:46.488Z"
   },
   {
    "duration": 7,
    "start_time": "2021-06-12T12:59:36.718Z"
   },
   {
    "duration": 3,
    "start_time": "2021-06-12T12:59:54.817Z"
   },
   {
    "duration": 322,
    "start_time": "2021-06-12T12:59:58.112Z"
   },
   {
    "duration": 322,
    "start_time": "2021-06-12T13:00:02.367Z"
   },
   {
    "duration": 366,
    "start_time": "2021-06-12T13:00:05.703Z"
   },
   {
    "duration": 358,
    "start_time": "2021-06-12T13:00:11.219Z"
   },
   {
    "duration": 346,
    "start_time": "2021-06-12T13:00:13.320Z"
   },
   {
    "duration": 371,
    "start_time": "2021-06-12T13:00:27.032Z"
   },
   {
    "duration": 8,
    "start_time": "2021-06-12T13:00:33.578Z"
   },
   {
    "duration": 7,
    "start_time": "2021-06-12T13:00:41.935Z"
   },
   {
    "duration": 17,
    "start_time": "2021-06-12T13:00:58.969Z"
   },
   {
    "duration": 16,
    "start_time": "2021-06-12T13:01:07.714Z"
   },
   {
    "duration": 4,
    "start_time": "2021-06-12T13:09:16.271Z"
   },
   {
    "duration": 8783,
    "start_time": "2021-06-12T13:10:08.780Z"
   },
   {
    "duration": 431,
    "start_time": "2021-06-12T13:10:25.984Z"
   },
   {
    "duration": 5,
    "start_time": "2021-06-12T13:10:40.151Z"
   },
   {
    "duration": 493,
    "start_time": "2021-06-12T13:10:40.488Z"
   },
   {
    "duration": 316,
    "start_time": "2021-06-12T13:11:35.363Z"
   },
   {
    "duration": 5,
    "start_time": "2021-06-12T13:11:47.603Z"
   },
   {
    "duration": 492,
    "start_time": "2021-06-12T13:11:47.993Z"
   },
   {
    "duration": 571,
    "start_time": "2021-06-12T13:12:19.234Z"
   },
   {
    "duration": 5,
    "start_time": "2021-06-12T14:17:03.552Z"
   },
   {
    "duration": 8747,
    "start_time": "2021-06-12T14:18:51.193Z"
   },
   {
    "duration": 396,
    "start_time": "2021-06-12T14:19:14.014Z"
   },
   {
    "duration": 1810,
    "start_time": "2021-06-12T14:19:25.085Z"
   },
   {
    "duration": 360,
    "start_time": "2021-06-12T14:21:12.717Z"
   },
   {
    "duration": 1911,
    "start_time": "2021-06-12T14:21:54.694Z"
   },
   {
    "duration": 10115,
    "start_time": "2021-06-12T14:23:08.549Z"
   },
   {
    "duration": -426,
    "start_time": "2021-06-12T14:23:19.092Z"
   },
   {
    "duration": 17,
    "start_time": "2021-06-12T14:23:23.609Z"
   },
   {
    "duration": 356,
    "start_time": "2021-06-12T14:24:13.228Z"
   },
   {
    "duration": 1899,
    "start_time": "2021-06-12T14:24:35.677Z"
   },
   {
    "duration": 5,
    "start_time": "2021-06-12T14:25:25.555Z"
   },
   {
    "duration": 428,
    "start_time": "2021-06-12T14:25:27.674Z"
   },
   {
    "duration": 396,
    "start_time": "2021-06-12T14:27:10.774Z"
   },
   {
    "duration": 483,
    "start_time": "2021-06-12T14:27:28.210Z"
   },
   {
    "duration": 387,
    "start_time": "2021-06-12T14:27:37.110Z"
   },
   {
    "duration": 392,
    "start_time": "2021-06-12T14:29:27.242Z"
   },
   {
    "duration": 96,
    "start_time": "2021-06-12T15:02:17.967Z"
   },
   {
    "duration": 5,
    "start_time": "2021-06-12T15:02:22.982Z"
   },
   {
    "duration": 12,
    "start_time": "2021-06-12T15:03:14.286Z"
   },
   {
    "duration": 7,
    "start_time": "2021-06-12T15:04:29.062Z"
   },
   {
    "duration": 8,
    "start_time": "2021-06-12T15:04:45.132Z"
   },
   {
    "duration": 371,
    "start_time": "2021-06-12T15:06:10.984Z"
   },
   {
    "duration": 18,
    "start_time": "2021-06-12T15:06:18.339Z"
   },
   {
    "duration": 403,
    "start_time": "2021-06-12T15:07:16.903Z"
   },
   {
    "duration": 6,
    "start_time": "2021-06-12T15:07:28.288Z"
   },
   {
    "duration": 8,
    "start_time": "2021-06-12T15:07:47.220Z"
   },
   {
    "duration": 7,
    "start_time": "2021-06-12T15:07:57.278Z"
   },
   {
    "duration": 9914,
    "start_time": "2021-06-12T15:08:57.283Z"
   },
   {
    "duration": 10,
    "start_time": "2021-06-12T15:09:21.586Z"
   },
   {
    "duration": 40,
    "start_time": "2021-06-12T15:11:11.117Z"
   },
   {
    "duration": 6,
    "start_time": "2021-06-12T15:11:11.451Z"
   },
   {
    "duration": 11,
    "start_time": "2021-06-12T15:11:11.762Z"
   },
   {
    "duration": 7,
    "start_time": "2021-06-12T15:11:12.075Z"
   },
   {
    "duration": 7,
    "start_time": "2021-06-12T15:11:13.239Z"
   },
   {
    "duration": 7,
    "start_time": "2021-06-12T15:11:14.044Z"
   },
   {
    "duration": 9,
    "start_time": "2021-06-12T15:11:14.473Z"
   },
   {
    "duration": 7,
    "start_time": "2021-06-12T15:11:15.514Z"
   },
   {
    "duration": 9,
    "start_time": "2021-06-12T15:11:29.419Z"
   },
   {
    "duration": 6,
    "start_time": "2021-06-12T15:12:28.693Z"
   },
   {
    "duration": 4,
    "start_time": "2021-06-12T15:13:51.033Z"
   },
   {
    "duration": 32,
    "start_time": "2021-06-12T15:13:57.025Z"
   },
   {
    "duration": 5,
    "start_time": "2021-06-12T15:13:57.274Z"
   },
   {
    "duration": 11,
    "start_time": "2021-06-12T15:13:57.520Z"
   },
   {
    "duration": 7,
    "start_time": "2021-06-12T15:13:57.761Z"
   },
   {
    "duration": 8,
    "start_time": "2021-06-12T15:13:58.000Z"
   },
   {
    "duration": 6,
    "start_time": "2021-06-12T15:13:58.233Z"
   },
   {
    "duration": 8,
    "start_time": "2021-06-12T15:13:58.505Z"
   },
   {
    "duration": 7,
    "start_time": "2021-06-12T15:13:58.745Z"
   },
   {
    "duration": 7,
    "start_time": "2021-06-12T15:13:59.401Z"
   },
   {
    "duration": 7,
    "start_time": "2021-06-12T15:14:01.879Z"
   },
   {
    "duration": 16,
    "start_time": "2021-06-12T15:14:17.548Z"
   },
   {
    "duration": 9,
    "start_time": "2021-06-12T15:15:14.446Z"
   },
   {
    "duration": 372,
    "start_time": "2021-06-12T15:16:48.315Z"
   },
   {
    "duration": 482,
    "start_time": "2021-06-12T15:17:02.401Z"
   },
   {
    "duration": 15,
    "start_time": "2021-06-12T15:19:13.246Z"
   },
   {
    "duration": 11,
    "start_time": "2021-06-12T15:19:54.944Z"
   },
   {
    "duration": 9,
    "start_time": "2021-06-12T15:20:51.707Z"
   },
   {
    "duration": 21,
    "start_time": "2021-06-12T15:22:42.218Z"
   },
   {
    "duration": 22,
    "start_time": "2021-06-12T15:22:47.792Z"
   },
   {
    "duration": 581,
    "start_time": "2021-06-12T15:27:48.825Z"
   },
   {
    "duration": 3,
    "start_time": "2021-06-12T15:29:25.578Z"
   },
   {
    "duration": 6,
    "start_time": "2021-06-12T15:31:23.381Z"
   },
   {
    "duration": 10,
    "start_time": "2021-06-12T15:33:38.951Z"
   },
   {
    "duration": 15,
    "start_time": "2021-06-12T15:39:25.579Z"
   },
   {
    "duration": 6,
    "start_time": "2021-06-12T15:40:30.653Z"
   },
   {
    "duration": 17,
    "start_time": "2021-06-12T15:43:40.658Z"
   },
   {
    "duration": 388,
    "start_time": "2021-06-12T15:45:17.083Z"
   },
   {
    "duration": 33,
    "start_time": "2021-06-12T15:45:29.436Z"
   },
   {
    "duration": 27,
    "start_time": "2021-06-12T15:45:59.307Z"
   },
   {
    "duration": 30,
    "start_time": "2021-06-12T15:46:07.716Z"
   },
   {
    "duration": 27,
    "start_time": "2021-06-12T15:47:06.398Z"
   },
   {
    "duration": 160,
    "start_time": "2021-06-12T15:47:17.254Z"
   },
   {
    "duration": 18,
    "start_time": "2021-06-12T15:47:23.483Z"
   },
   {
    "duration": 16,
    "start_time": "2021-06-12T15:48:07.426Z"
   },
   {
    "duration": 1825,
    "start_time": "2021-06-12T15:48:51.754Z"
   },
   {
    "duration": 1538,
    "start_time": "2021-06-12T15:50:17.168Z"
   },
   {
    "duration": 15,
    "start_time": "2021-06-12T15:52:08.865Z"
   },
   {
    "duration": 1670,
    "start_time": "2021-06-12T15:52:09.222Z"
   },
   {
    "duration": 1776,
    "start_time": "2021-06-12T15:53:09.823Z"
   },
   {
    "duration": 14,
    "start_time": "2021-06-12T15:53:35.835Z"
   },
   {
    "duration": 1825,
    "start_time": "2021-06-12T15:53:36.246Z"
   },
   {
    "duration": 2173,
    "start_time": "2021-06-12T15:53:56.061Z"
   },
   {
    "duration": 2108,
    "start_time": "2021-06-12T15:55:35.872Z"
   },
   {
    "duration": 20,
    "start_time": "2021-06-12T16:04:21.978Z"
   },
   {
    "duration": 29,
    "start_time": "2021-06-12T16:08:47.804Z"
   },
   {
    "duration": 28,
    "start_time": "2021-06-12T16:09:12.161Z"
   },
   {
    "duration": 21,
    "start_time": "2021-06-12T16:09:41.532Z"
   },
   {
    "duration": 354,
    "start_time": "2021-06-12T16:10:12.595Z"
   },
   {
    "duration": 367,
    "start_time": "2021-06-12T16:10:23.943Z"
   },
   {
    "duration": 20,
    "start_time": "2021-06-12T16:10:27.226Z"
   },
   {
    "duration": 2501,
    "start_time": "2021-06-12T16:10:47.599Z"
   },
   {
    "duration": 2713,
    "start_time": "2021-06-12T16:10:52.199Z"
   },
   {
    "duration": 8,
    "start_time": "2021-06-12T16:11:13.051Z"
   },
   {
    "duration": 10,
    "start_time": "2021-06-12T16:11:23.719Z"
   },
   {
    "duration": 408,
    "start_time": "2021-06-12T16:15:30.934Z"
   },
   {
    "duration": 11,
    "start_time": "2021-06-12T16:15:36.525Z"
   },
   {
    "duration": 1423,
    "start_time": "2021-06-12T18:04:42.341Z"
   },
   {
    "duration": 29,
    "start_time": "2021-06-12T18:04:43.767Z"
   },
   {
    "duration": 9,
    "start_time": "2021-06-12T18:04:43.799Z"
   },
   {
    "duration": 15,
    "start_time": "2021-06-12T18:04:43.810Z"
   },
   {
    "duration": 9,
    "start_time": "2021-06-12T18:04:43.827Z"
   },
   {
    "duration": 9,
    "start_time": "2021-06-12T18:04:43.839Z"
   },
   {
    "duration": 19,
    "start_time": "2021-06-12T18:04:43.850Z"
   },
   {
    "duration": 9,
    "start_time": "2021-06-12T18:04:43.871Z"
   },
   {
    "duration": 7,
    "start_time": "2021-06-12T18:04:43.885Z"
   },
   {
    "duration": 7,
    "start_time": "2021-06-12T18:04:43.927Z"
   },
   {
    "duration": 10,
    "start_time": "2021-06-12T18:04:43.937Z"
   },
   {
    "duration": 17,
    "start_time": "2021-06-12T18:04:43.950Z"
   },
   {
    "duration": 17,
    "start_time": "2021-06-12T18:04:43.969Z"
   },
   {
    "duration": 7,
    "start_time": "2021-06-12T18:04:44.024Z"
   },
   {
    "duration": 553,
    "start_time": "2021-06-12T18:04:44.035Z"
   },
   {
    "duration": 5,
    "start_time": "2021-06-12T18:04:44.591Z"
   },
   {
    "duration": 504,
    "start_time": "2021-06-12T18:04:44.598Z"
   },
   {
    "duration": 392,
    "start_time": "2021-06-12T18:04:45.105Z"
   },
   {
    "duration": 421,
    "start_time": "2021-06-12T18:04:45.499Z"
   },
   {
    "duration": 9,
    "start_time": "2021-06-12T18:04:45.925Z"
   },
   {
    "duration": 34,
    "start_time": "2021-06-12T18:04:45.937Z"
   },
   {
    "duration": 5,
    "start_time": "2021-06-12T18:04:45.973Z"
   },
   {
    "duration": 15,
    "start_time": "2021-06-12T18:04:45.980Z"
   },
   {
    "duration": 10,
    "start_time": "2021-06-12T18:04:45.997Z"
   },
   {
    "duration": 22,
    "start_time": "2021-06-12T18:04:46.009Z"
   },
   {
    "duration": 8,
    "start_time": "2021-06-12T18:04:46.034Z"
   },
   {
    "duration": 7,
    "start_time": "2021-06-12T18:04:46.047Z"
   },
   {
    "duration": 8,
    "start_time": "2021-06-12T18:04:46.058Z"
   },
   {
    "duration": 10,
    "start_time": "2021-06-12T18:04:46.069Z"
   },
   {
    "duration": 7,
    "start_time": "2021-06-12T18:04:46.127Z"
   },
   {
    "duration": 20,
    "start_time": "2021-06-12T18:04:46.137Z"
   },
   {
    "duration": 9,
    "start_time": "2021-06-12T18:04:46.160Z"
   },
   {
    "duration": 57,
    "start_time": "2021-06-12T18:04:46.172Z"
   },
   {
    "duration": 12,
    "start_time": "2021-06-12T18:04:46.232Z"
   },
   {
    "duration": 512,
    "start_time": "2021-06-12T18:04:46.246Z"
   },
   {
    "duration": 3,
    "start_time": "2021-06-12T18:04:46.760Z"
   },
   {
    "duration": 9,
    "start_time": "2021-06-12T18:04:46.766Z"
   },
   {
    "duration": 19,
    "start_time": "2021-06-12T18:04:46.778Z"
   },
   {
    "duration": 35,
    "start_time": "2021-06-12T18:04:46.800Z"
   },
   {
    "duration": 1825,
    "start_time": "2021-06-12T18:04:46.838Z"
   },
   {
    "duration": 10,
    "start_time": "2021-06-12T18:04:48.666Z"
   },
   {
    "duration": 13,
    "start_time": "2021-06-12T18:04:48.678Z"
   },
   {
    "duration": 1327,
    "start_time": "2021-06-12T18:12:11.123Z"
   },
   {
    "duration": 50,
    "start_time": "2021-06-12T18:12:12.453Z"
   },
   {
    "duration": 7,
    "start_time": "2021-06-12T18:12:12.506Z"
   },
   {
    "duration": 15,
    "start_time": "2021-06-12T18:12:12.515Z"
   },
   {
    "duration": 9,
    "start_time": "2021-06-12T18:12:12.532Z"
   },
   {
    "duration": 6,
    "start_time": "2021-06-12T18:12:12.544Z"
   },
   {
    "duration": 6,
    "start_time": "2021-06-12T18:12:12.554Z"
   },
   {
    "duration": 45,
    "start_time": "2021-06-12T18:12:12.563Z"
   },
   {
    "duration": 10,
    "start_time": "2021-06-12T18:12:12.612Z"
   },
   {
    "duration": 10,
    "start_time": "2021-06-12T18:12:12.624Z"
   },
   {
    "duration": 8,
    "start_time": "2021-06-12T18:12:12.637Z"
   },
   {
    "duration": 56,
    "start_time": "2021-06-12T18:12:12.648Z"
   },
   {
    "duration": 17,
    "start_time": "2021-06-12T18:12:12.706Z"
   },
   {
    "duration": 5,
    "start_time": "2021-06-12T18:12:12.725Z"
   },
   {
    "duration": 439,
    "start_time": "2021-06-12T18:12:12.733Z"
   },
   {
    "duration": 6,
    "start_time": "2021-06-12T18:12:13.174Z"
   },
   {
    "duration": 431,
    "start_time": "2021-06-12T18:12:13.182Z"
   },
   {
    "duration": 374,
    "start_time": "2021-06-12T18:12:13.616Z"
   },
   {
    "duration": 390,
    "start_time": "2021-06-12T18:12:13.992Z"
   },
   {
    "duration": 34,
    "start_time": "2021-06-12T18:12:14.385Z"
   },
   {
    "duration": 6,
    "start_time": "2021-06-12T18:12:14.421Z"
   },
   {
    "duration": 10,
    "start_time": "2021-06-12T18:12:14.436Z"
   },
   {
    "duration": 10,
    "start_time": "2021-06-12T18:12:14.450Z"
   },
   {
    "duration": 10,
    "start_time": "2021-06-12T18:12:14.502Z"
   },
   {
    "duration": 8,
    "start_time": "2021-06-12T18:12:14.515Z"
   },
   {
    "duration": 9,
    "start_time": "2021-06-12T18:12:14.525Z"
   },
   {
    "duration": 7,
    "start_time": "2021-06-12T18:12:14.537Z"
   },
   {
    "duration": 59,
    "start_time": "2021-06-12T18:12:14.547Z"
   },
   {
    "duration": 8,
    "start_time": "2021-06-12T18:12:14.609Z"
   },
   {
    "duration": 18,
    "start_time": "2021-06-12T18:12:14.620Z"
   },
   {
    "duration": 7,
    "start_time": "2021-06-12T18:12:14.641Z"
   },
   {
    "duration": 55,
    "start_time": "2021-06-12T18:12:14.650Z"
   },
   {
    "duration": 10,
    "start_time": "2021-06-12T18:12:14.708Z"
   },
   {
    "duration": 574,
    "start_time": "2021-06-12T18:12:14.720Z"
   },
   {
    "duration": 2,
    "start_time": "2021-06-12T18:12:15.300Z"
   },
   {
    "duration": 11,
    "start_time": "2021-06-12T18:12:15.305Z"
   },
   {
    "duration": 17,
    "start_time": "2021-06-12T18:12:15.318Z"
   },
   {
    "duration": 13,
    "start_time": "2021-06-12T18:12:15.337Z"
   },
   {
    "duration": 1737,
    "start_time": "2021-06-12T18:12:15.353Z"
   },
   {
    "duration": 14,
    "start_time": "2021-06-12T18:12:17.092Z"
   },
   {
    "duration": 14,
    "start_time": "2021-06-12T18:12:17.108Z"
   },
   {
    "duration": 5,
    "start_time": "2021-06-12T18:26:33.436Z"
   },
   {
    "duration": 485,
    "start_time": "2021-06-12T18:26:34.524Z"
   },
   {
    "duration": 5,
    "start_time": "2021-06-12T18:26:43.580Z"
   },
   {
    "duration": 412,
    "start_time": "2021-06-12T18:26:43.988Z"
   },
   {
    "duration": 6,
    "start_time": "2021-06-12T18:26:50.539Z"
   },
   {
    "duration": 417,
    "start_time": "2021-06-12T18:26:57.450Z"
   },
   {
    "duration": 6,
    "start_time": "2021-06-12T18:27:02.090Z"
   },
   {
    "duration": 425,
    "start_time": "2021-06-12T18:27:02.626Z"
   },
   {
    "duration": 7,
    "start_time": "2021-06-12T18:33:48.889Z"
   },
   {
    "duration": 31,
    "start_time": "2021-06-12T18:36:46.606Z"
   },
   {
    "duration": 4,
    "start_time": "2021-06-12T18:36:47.152Z"
   },
   {
    "duration": 13,
    "start_time": "2021-06-12T18:36:47.591Z"
   },
   {
    "duration": 8,
    "start_time": "2021-06-12T18:36:48.111Z"
   },
   {
    "duration": 1261,
    "start_time": "2021-06-12T18:50:52.886Z"
   },
   {
    "duration": 35,
    "start_time": "2021-06-12T18:50:54.149Z"
   },
   {
    "duration": 9,
    "start_time": "2021-06-12T18:50:54.187Z"
   },
   {
    "duration": 12,
    "start_time": "2021-06-12T18:50:54.199Z"
   },
   {
    "duration": 10,
    "start_time": "2021-06-12T18:50:54.214Z"
   },
   {
    "duration": 6,
    "start_time": "2021-06-12T18:50:54.227Z"
   },
   {
    "duration": 8,
    "start_time": "2021-06-12T18:50:54.236Z"
   },
   {
    "duration": 10,
    "start_time": "2021-06-12T18:50:54.246Z"
   },
   {
    "duration": 7,
    "start_time": "2021-06-12T18:50:54.303Z"
   },
   {
    "duration": 7,
    "start_time": "2021-06-12T18:50:54.314Z"
   },
   {
    "duration": 9,
    "start_time": "2021-06-12T18:50:54.324Z"
   },
   {
    "duration": 17,
    "start_time": "2021-06-12T18:50:54.335Z"
   },
   {
    "duration": 57,
    "start_time": "2021-06-12T18:50:54.354Z"
   },
   {
    "duration": 5,
    "start_time": "2021-06-12T18:50:54.414Z"
   },
   {
    "duration": 413,
    "start_time": "2021-06-12T18:50:54.422Z"
   },
   {
    "duration": 5,
    "start_time": "2021-06-12T18:50:54.837Z"
   },
   {
    "duration": 524,
    "start_time": "2021-06-12T18:50:54.845Z"
   },
   {
    "duration": 373,
    "start_time": "2021-06-12T18:50:55.371Z"
   },
   {
    "duration": 380,
    "start_time": "2021-06-12T18:50:55.746Z"
   },
   {
    "duration": 30,
    "start_time": "2021-06-12T18:50:56.129Z"
   },
   {
    "duration": 6,
    "start_time": "2021-06-12T18:50:56.161Z"
   },
   {
    "duration": 12,
    "start_time": "2021-06-12T18:50:56.170Z"
   },
   {
    "duration": 19,
    "start_time": "2021-06-12T18:50:56.184Z"
   },
   {
    "duration": 13,
    "start_time": "2021-06-12T18:50:56.206Z"
   },
   {
    "duration": 7,
    "start_time": "2021-06-12T18:50:56.221Z"
   },
   {
    "duration": 9,
    "start_time": "2021-06-12T18:50:56.231Z"
   },
   {
    "duration": 6,
    "start_time": "2021-06-12T18:50:56.245Z"
   },
   {
    "duration": 52,
    "start_time": "2021-06-12T18:50:56.253Z"
   },
   {
    "duration": 10,
    "start_time": "2021-06-12T18:50:56.308Z"
   },
   {
    "duration": 17,
    "start_time": "2021-06-12T18:50:56.321Z"
   },
   {
    "duration": 7,
    "start_time": "2021-06-12T18:50:56.341Z"
   },
   {
    "duration": 15,
    "start_time": "2021-06-12T18:50:56.350Z"
   },
   {
    "duration": 38,
    "start_time": "2021-06-12T18:50:56.367Z"
   },
   {
    "duration": 492,
    "start_time": "2021-06-12T18:50:56.408Z"
   },
   {
    "duration": 3,
    "start_time": "2021-06-12T18:50:56.902Z"
   },
   {
    "duration": 14,
    "start_time": "2021-06-12T18:50:56.907Z"
   },
   {
    "duration": 21,
    "start_time": "2021-06-12T18:50:56.924Z"
   },
   {
    "duration": 14,
    "start_time": "2021-06-12T18:50:56.947Z"
   },
   {
    "duration": 1799,
    "start_time": "2021-06-12T18:50:56.963Z"
   },
   {
    "duration": 11,
    "start_time": "2021-06-12T18:50:58.764Z"
   },
   {
    "duration": 33,
    "start_time": "2021-06-12T18:50:58.777Z"
   },
   {
    "duration": 61,
    "start_time": "2021-06-13T06:06:48.965Z"
   },
   {
    "duration": 1004,
    "start_time": "2021-06-13T06:17:48.760Z"
   },
   {
    "duration": 93,
    "start_time": "2021-06-13T06:17:49.766Z"
   },
   {
    "duration": 5,
    "start_time": "2021-06-13T06:17:49.861Z"
   },
   {
    "duration": 11,
    "start_time": "2021-06-13T06:17:49.867Z"
   },
   {
    "duration": 12,
    "start_time": "2021-06-13T06:17:49.879Z"
   },
   {
    "duration": 6,
    "start_time": "2021-06-13T06:17:49.894Z"
   },
   {
    "duration": 6,
    "start_time": "2021-06-13T06:17:49.902Z"
   },
   {
    "duration": 5,
    "start_time": "2021-06-13T06:17:49.910Z"
   },
   {
    "duration": 5,
    "start_time": "2021-06-13T06:17:49.917Z"
   },
   {
    "duration": 6,
    "start_time": "2021-06-13T06:17:49.924Z"
   },
   {
    "duration": 5,
    "start_time": "2021-06-13T06:17:49.931Z"
   },
   {
    "duration": 10,
    "start_time": "2021-06-13T06:17:49.937Z"
   },
   {
    "duration": 17,
    "start_time": "2021-06-13T06:17:49.986Z"
   },
   {
    "duration": 4,
    "start_time": "2021-06-13T06:17:50.004Z"
   },
   {
    "duration": 286,
    "start_time": "2021-06-13T06:17:50.010Z"
   },
   {
    "duration": 3,
    "start_time": "2021-06-13T06:17:50.298Z"
   },
   {
    "duration": 296,
    "start_time": "2021-06-13T06:17:50.303Z"
   },
   {
    "duration": 239,
    "start_time": "2021-06-13T06:17:50.601Z"
   },
   {
    "duration": 262,
    "start_time": "2021-06-13T06:17:50.842Z"
   },
   {
    "duration": 136,
    "start_time": "2021-06-13T06:17:51.106Z"
   },
   {
    "duration": 3,
    "start_time": "2021-06-13T06:17:51.244Z"
   },
   {
    "duration": 12,
    "start_time": "2021-06-13T06:17:51.248Z"
   },
   {
    "duration": 4,
    "start_time": "2021-06-13T06:17:51.263Z"
   },
   {
    "duration": 13,
    "start_time": "2021-06-13T06:17:51.269Z"
   },
   {
    "duration": 19,
    "start_time": "2021-06-13T06:17:51.283Z"
   },
   {
    "duration": 4,
    "start_time": "2021-06-13T06:17:51.304Z"
   },
   {
    "duration": 9,
    "start_time": "2021-06-13T06:17:51.310Z"
   },
   {
    "duration": 7,
    "start_time": "2021-06-13T06:17:51.320Z"
   },
   {
    "duration": 8,
    "start_time": "2021-06-13T06:17:51.329Z"
   },
   {
    "duration": 8,
    "start_time": "2021-06-13T06:17:51.339Z"
   },
   {
    "duration": 18,
    "start_time": "2021-06-13T06:17:51.348Z"
   },
   {
    "duration": 4,
    "start_time": "2021-06-13T06:17:51.367Z"
   },
   {
    "duration": 14,
    "start_time": "2021-06-13T06:17:51.388Z"
   },
   {
    "duration": 7,
    "start_time": "2021-06-13T06:17:51.403Z"
   },
   {
    "duration": 330,
    "start_time": "2021-06-13T06:17:51.412Z"
   },
   {
    "duration": 2,
    "start_time": "2021-06-13T06:17:51.743Z"
   },
   {
    "duration": 13,
    "start_time": "2021-06-13T06:17:51.747Z"
   },
   {
    "duration": 14,
    "start_time": "2021-06-13T06:17:51.762Z"
   },
   {
    "duration": 21,
    "start_time": "2021-06-13T06:17:51.778Z"
   },
   {
    "duration": 1219,
    "start_time": "2021-06-13T06:17:51.801Z"
   },
   {
    "duration": 7,
    "start_time": "2021-06-13T06:17:53.021Z"
   },
   {
    "duration": 12,
    "start_time": "2021-06-13T06:17:53.030Z"
   },
   {
    "duration": 1215,
    "start_time": "2021-06-13T06:44:37.679Z"
   },
   {
    "duration": 47,
    "start_time": "2021-06-13T06:44:38.896Z"
   },
   {
    "duration": 7,
    "start_time": "2021-06-13T06:44:38.947Z"
   },
   {
    "duration": 13,
    "start_time": "2021-06-13T06:44:38.957Z"
   },
   {
    "duration": 8,
    "start_time": "2021-06-13T06:44:38.973Z"
   },
   {
    "duration": 6,
    "start_time": "2021-06-13T06:44:38.984Z"
   },
   {
    "duration": 7,
    "start_time": "2021-06-13T06:44:38.993Z"
   },
   {
    "duration": 54,
    "start_time": "2021-06-13T06:44:39.003Z"
   },
   {
    "duration": 6,
    "start_time": "2021-06-13T06:44:39.060Z"
   },
   {
    "duration": 7,
    "start_time": "2021-06-13T06:44:39.068Z"
   },
   {
    "duration": 8,
    "start_time": "2021-06-13T06:44:39.077Z"
   },
   {
    "duration": 20,
    "start_time": "2021-06-13T06:44:39.087Z"
   },
   {
    "duration": 52,
    "start_time": "2021-06-13T06:44:39.109Z"
   },
   {
    "duration": 5,
    "start_time": "2021-06-13T06:44:39.164Z"
   },
   {
    "duration": 398,
    "start_time": "2021-06-13T06:44:39.171Z"
   },
   {
    "duration": 4,
    "start_time": "2021-06-13T06:44:39.572Z"
   },
   {
    "duration": 420,
    "start_time": "2021-06-13T06:44:39.579Z"
   },
   {
    "duration": 358,
    "start_time": "2021-06-13T06:44:40.002Z"
   },
   {
    "duration": 372,
    "start_time": "2021-06-13T06:44:40.362Z"
   },
   {
    "duration": 30,
    "start_time": "2021-06-13T06:44:40.755Z"
   },
   {
    "duration": 7,
    "start_time": "2021-06-13T06:44:40.788Z"
   },
   {
    "duration": 16,
    "start_time": "2021-06-13T06:44:40.797Z"
   },
   {
    "duration": 7,
    "start_time": "2021-06-13T06:44:40.818Z"
   },
   {
    "duration": 8,
    "start_time": "2021-06-13T06:44:40.828Z"
   },
   {
    "duration": 22,
    "start_time": "2021-06-13T06:44:40.838Z"
   },
   {
    "duration": 6,
    "start_time": "2021-06-13T06:44:40.862Z"
   },
   {
    "duration": 8,
    "start_time": "2021-06-13T06:44:40.871Z"
   },
   {
    "duration": 12,
    "start_time": "2021-06-13T06:44:40.881Z"
   },
   {
    "duration": 7,
    "start_time": "2021-06-13T06:44:40.895Z"
   },
   {
    "duration": 7,
    "start_time": "2021-06-13T06:44:40.904Z"
   },
   {
    "duration": 43,
    "start_time": "2021-06-13T06:44:40.913Z"
   },
   {
    "duration": 7,
    "start_time": "2021-06-13T06:44:40.959Z"
   },
   {
    "duration": 13,
    "start_time": "2021-06-13T06:44:40.968Z"
   },
   {
    "duration": 9,
    "start_time": "2021-06-13T06:44:40.983Z"
   },
   {
    "duration": 861,
    "start_time": "2021-06-13T06:44:40.994Z"
   },
   {
    "duration": 3,
    "start_time": "2021-06-13T06:44:41.858Z"
   },
   {
    "duration": 15,
    "start_time": "2021-06-13T06:44:41.863Z"
   },
   {
    "duration": 25,
    "start_time": "2021-06-13T06:44:41.881Z"
   },
   {
    "duration": 58,
    "start_time": "2021-06-13T06:44:41.908Z"
   },
   {
    "duration": 1825,
    "start_time": "2021-06-13T06:44:41.969Z"
   },
   {
    "duration": 9,
    "start_time": "2021-06-13T06:44:43.797Z"
   },
   {
    "duration": 11,
    "start_time": "2021-06-13T06:44:43.809Z"
   }
  ],
  "kernelspec": {
   "display_name": "Python 3",
   "language": "python",
   "name": "python3"
  },
  "language_info": {
   "codemirror_mode": {
    "name": "ipython",
    "version": 3
   },
   "file_extension": ".py",
   "mimetype": "text/x-python",
   "name": "python",
   "nbconvert_exporter": "python",
   "pygments_lexer": "ipython3",
   "version": "3.8.3"
  },
  "toc": {
   "base_numbering": 1,
   "nav_menu": {},
   "number_sections": true,
   "sideBar": true,
   "skip_h1_title": true,
   "title_cell": "Table of Contents",
   "title_sidebar": "Contents",
   "toc_cell": false,
   "toc_position": {},
   "toc_section_display": true,
   "toc_window_display": false
  }
 },
 "nbformat": 4,
 "nbformat_minor": 2
}
