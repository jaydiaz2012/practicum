{
 "cells": [
  {
   "cell_type": "markdown",
   "metadata": {},
   "source": [
    "# Analyzing borrowers’ risk of defaulting\n",
    "\n",
    "Your project is to prepare a report for a bank’s loan division. You’ll need to find out if a customer’s marital status and number of children has an impact on whether they will default on a loan. The bank already has some data on customers’ credit worthiness.\n",
    "\n",
    "Your report will be considered when building a **credit scoring** of a potential customer. A ** credit scoring ** is used to evaluate the ability of a potential borrower to repay their loan."
   ]
  },
  {
   "cell_type": "markdown",
   "metadata": {},
   "source": [
    "## Open the data file and have a look at the general information. "
   ]
  },
  {
   "cell_type": "code",
   "execution_count": 94,
   "metadata": {},
   "outputs": [],
   "source": [
    "import pandas as pd\n",
    "import numpy as np"
   ]
  },
  {
   "cell_type": "code",
   "execution_count": 95,
   "metadata": {},
   "outputs": [],
   "source": [
    "cc_scoring = pd.read_csv('/datasets/credit_scoring_eng.csv')"
   ]
  },
  {
   "cell_type": "code",
   "execution_count": 96,
   "metadata": {},
   "outputs": [
    {
     "data": {
      "text/plain": [
       "(21525, 12)"
      ]
     },
     "execution_count": 96,
     "metadata": {},
     "output_type": "execute_result"
    }
   ],
   "source": [
    "cc_scoring.shape"
   ]
  },
  {
   "cell_type": "code",
   "execution_count": 97,
   "metadata": {},
   "outputs": [
    {
     "data": {
      "text/html": [
       "<div>\n",
       "<style scoped>\n",
       "    .dataframe tbody tr th:only-of-type {\n",
       "        vertical-align: middle;\n",
       "    }\n",
       "\n",
       "    .dataframe tbody tr th {\n",
       "        vertical-align: top;\n",
       "    }\n",
       "\n",
       "    .dataframe thead th {\n",
       "        text-align: right;\n",
       "    }\n",
       "</style>\n",
       "<table border=\"1\" class=\"dataframe\">\n",
       "  <thead>\n",
       "    <tr style=\"text-align: right;\">\n",
       "      <th></th>\n",
       "      <th>children</th>\n",
       "      <th>days_employed</th>\n",
       "      <th>dob_years</th>\n",
       "      <th>education</th>\n",
       "      <th>education_id</th>\n",
       "      <th>family_status</th>\n",
       "      <th>family_status_id</th>\n",
       "      <th>gender</th>\n",
       "      <th>income_type</th>\n",
       "      <th>debt</th>\n",
       "      <th>total_income</th>\n",
       "      <th>purpose</th>\n",
       "    </tr>\n",
       "  </thead>\n",
       "  <tbody>\n",
       "    <tr>\n",
       "      <td>0</td>\n",
       "      <td>1</td>\n",
       "      <td>-8437.673028</td>\n",
       "      <td>42</td>\n",
       "      <td>bachelor's degree</td>\n",
       "      <td>0</td>\n",
       "      <td>married</td>\n",
       "      <td>0</td>\n",
       "      <td>F</td>\n",
       "      <td>employee</td>\n",
       "      <td>0</td>\n",
       "      <td>40620.102</td>\n",
       "      <td>purchase of the house</td>\n",
       "    </tr>\n",
       "    <tr>\n",
       "      <td>1</td>\n",
       "      <td>1</td>\n",
       "      <td>-4024.803754</td>\n",
       "      <td>36</td>\n",
       "      <td>secondary education</td>\n",
       "      <td>1</td>\n",
       "      <td>married</td>\n",
       "      <td>0</td>\n",
       "      <td>F</td>\n",
       "      <td>employee</td>\n",
       "      <td>0</td>\n",
       "      <td>17932.802</td>\n",
       "      <td>car purchase</td>\n",
       "    </tr>\n",
       "    <tr>\n",
       "      <td>2</td>\n",
       "      <td>0</td>\n",
       "      <td>-5623.422610</td>\n",
       "      <td>33</td>\n",
       "      <td>Secondary Education</td>\n",
       "      <td>1</td>\n",
       "      <td>married</td>\n",
       "      <td>0</td>\n",
       "      <td>M</td>\n",
       "      <td>employee</td>\n",
       "      <td>0</td>\n",
       "      <td>23341.752</td>\n",
       "      <td>purchase of the house</td>\n",
       "    </tr>\n",
       "    <tr>\n",
       "      <td>3</td>\n",
       "      <td>3</td>\n",
       "      <td>-4124.747207</td>\n",
       "      <td>32</td>\n",
       "      <td>secondary education</td>\n",
       "      <td>1</td>\n",
       "      <td>married</td>\n",
       "      <td>0</td>\n",
       "      <td>M</td>\n",
       "      <td>employee</td>\n",
       "      <td>0</td>\n",
       "      <td>42820.568</td>\n",
       "      <td>supplementary education</td>\n",
       "    </tr>\n",
       "    <tr>\n",
       "      <td>4</td>\n",
       "      <td>0</td>\n",
       "      <td>340266.072047</td>\n",
       "      <td>53</td>\n",
       "      <td>secondary education</td>\n",
       "      <td>1</td>\n",
       "      <td>civil partnership</td>\n",
       "      <td>1</td>\n",
       "      <td>F</td>\n",
       "      <td>retiree</td>\n",
       "      <td>0</td>\n",
       "      <td>25378.572</td>\n",
       "      <td>to have a wedding</td>\n",
       "    </tr>\n",
       "  </tbody>\n",
       "</table>\n",
       "</div>"
      ],
      "text/plain": [
       "   children  days_employed  dob_years            education  education_id  \\\n",
       "0         1   -8437.673028         42    bachelor's degree             0   \n",
       "1         1   -4024.803754         36  secondary education             1   \n",
       "2         0   -5623.422610         33  Secondary Education             1   \n",
       "3         3   -4124.747207         32  secondary education             1   \n",
       "4         0  340266.072047         53  secondary education             1   \n",
       "\n",
       "       family_status  family_status_id gender income_type  debt  total_income  \\\n",
       "0            married                 0      F    employee     0     40620.102   \n",
       "1            married                 0      F    employee     0     17932.802   \n",
       "2            married                 0      M    employee     0     23341.752   \n",
       "3            married                 0      M    employee     0     42820.568   \n",
       "4  civil partnership                 1      F     retiree     0     25378.572   \n",
       "\n",
       "                   purpose  \n",
       "0    purchase of the house  \n",
       "1             car purchase  \n",
       "2    purchase of the house  \n",
       "3  supplementary education  \n",
       "4        to have a wedding  "
      ]
     },
     "execution_count": 97,
     "metadata": {},
     "output_type": "execute_result"
    }
   ],
   "source": [
    "# sample of top 5 records\n",
    "cc_scoring.head()"
   ]
  },
  {
   "cell_type": "code",
   "execution_count": 98,
   "metadata": {},
   "outputs": [
    {
     "name": "stdout",
     "output_type": "stream",
     "text": [
      "<class 'pandas.core.frame.DataFrame'>\n",
      "RangeIndex: 21525 entries, 0 to 21524\n",
      "Data columns (total 12 columns):\n",
      "children            21525 non-null int64\n",
      "days_employed       19351 non-null float64\n",
      "dob_years           21525 non-null int64\n",
      "education           21525 non-null object\n",
      "education_id        21525 non-null int64\n",
      "family_status       21525 non-null object\n",
      "family_status_id    21525 non-null int64\n",
      "gender              21525 non-null object\n",
      "income_type         21525 non-null object\n",
      "debt                21525 non-null int64\n",
      "total_income        19351 non-null float64\n",
      "purpose             21525 non-null object\n",
      "dtypes: float64(2), int64(5), object(5)\n",
      "memory usage: 2.0+ MB\n"
     ]
    }
   ],
   "source": [
    "# info about the dataframe\n",
    "cc_scoring.info()"
   ]
  },
  {
   "cell_type": "code",
   "execution_count": 99,
   "metadata": {},
   "outputs": [
    {
     "data": {
      "text/plain": [
       "children               0\n",
       "days_employed       2174\n",
       "dob_years              0\n",
       "education              0\n",
       "education_id           0\n",
       "family_status          0\n",
       "family_status_id       0\n",
       "gender                 0\n",
       "income_type            0\n",
       "debt                   0\n",
       "total_income        2174\n",
       "purpose                0\n",
       "dtype: int64"
      ]
     },
     "execution_count": 99,
     "metadata": {},
     "output_type": "execute_result"
    }
   ],
   "source": [
    "# missing records\n",
    "cc_scoring.isnull().sum()"
   ]
  },
  {
   "cell_type": "code",
   "execution_count": 100,
   "metadata": {},
   "outputs": [
    {
     "data": {
      "text/plain": [
       "54"
      ]
     },
     "execution_count": 100,
     "metadata": {},
     "output_type": "execute_result"
    }
   ],
   "source": [
    "# duplicates\n",
    "cc_scoring.duplicated().sum()"
   ]
  },
  {
   "cell_type": "code",
   "execution_count": 101,
   "metadata": {},
   "outputs": [
    {
     "data": {
      "text/html": [
       "<div>\n",
       "<style scoped>\n",
       "    .dataframe tbody tr th:only-of-type {\n",
       "        vertical-align: middle;\n",
       "    }\n",
       "\n",
       "    .dataframe tbody tr th {\n",
       "        vertical-align: top;\n",
       "    }\n",
       "\n",
       "    .dataframe thead th {\n",
       "        text-align: right;\n",
       "    }\n",
       "</style>\n",
       "<table border=\"1\" class=\"dataframe\">\n",
       "  <thead>\n",
       "    <tr style=\"text-align: right;\">\n",
       "      <th></th>\n",
       "      <th>children</th>\n",
       "      <th>days_employed</th>\n",
       "      <th>dob_years</th>\n",
       "      <th>education_id</th>\n",
       "      <th>family_status_id</th>\n",
       "      <th>debt</th>\n",
       "      <th>total_income</th>\n",
       "    </tr>\n",
       "  </thead>\n",
       "  <tbody>\n",
       "    <tr>\n",
       "      <td>count</td>\n",
       "      <td>21525.000000</td>\n",
       "      <td>19351.000000</td>\n",
       "      <td>21525.000000</td>\n",
       "      <td>21525.000000</td>\n",
       "      <td>21525.000000</td>\n",
       "      <td>21525.000000</td>\n",
       "      <td>19351.000000</td>\n",
       "    </tr>\n",
       "    <tr>\n",
       "      <td>mean</td>\n",
       "      <td>0.538908</td>\n",
       "      <td>63046.497661</td>\n",
       "      <td>43.293380</td>\n",
       "      <td>0.817236</td>\n",
       "      <td>0.972544</td>\n",
       "      <td>0.080883</td>\n",
       "      <td>26787.568355</td>\n",
       "    </tr>\n",
       "    <tr>\n",
       "      <td>std</td>\n",
       "      <td>1.381587</td>\n",
       "      <td>140827.311974</td>\n",
       "      <td>12.574584</td>\n",
       "      <td>0.548138</td>\n",
       "      <td>1.420324</td>\n",
       "      <td>0.272661</td>\n",
       "      <td>16475.450632</td>\n",
       "    </tr>\n",
       "    <tr>\n",
       "      <td>min</td>\n",
       "      <td>-1.000000</td>\n",
       "      <td>-18388.949901</td>\n",
       "      <td>0.000000</td>\n",
       "      <td>0.000000</td>\n",
       "      <td>0.000000</td>\n",
       "      <td>0.000000</td>\n",
       "      <td>3306.762000</td>\n",
       "    </tr>\n",
       "    <tr>\n",
       "      <td>25%</td>\n",
       "      <td>0.000000</td>\n",
       "      <td>-2747.423625</td>\n",
       "      <td>33.000000</td>\n",
       "      <td>1.000000</td>\n",
       "      <td>0.000000</td>\n",
       "      <td>0.000000</td>\n",
       "      <td>16488.504500</td>\n",
       "    </tr>\n",
       "    <tr>\n",
       "      <td>50%</td>\n",
       "      <td>0.000000</td>\n",
       "      <td>-1203.369529</td>\n",
       "      <td>42.000000</td>\n",
       "      <td>1.000000</td>\n",
       "      <td>0.000000</td>\n",
       "      <td>0.000000</td>\n",
       "      <td>23202.870000</td>\n",
       "    </tr>\n",
       "    <tr>\n",
       "      <td>75%</td>\n",
       "      <td>1.000000</td>\n",
       "      <td>-291.095954</td>\n",
       "      <td>53.000000</td>\n",
       "      <td>1.000000</td>\n",
       "      <td>1.000000</td>\n",
       "      <td>0.000000</td>\n",
       "      <td>32549.611000</td>\n",
       "    </tr>\n",
       "    <tr>\n",
       "      <td>max</td>\n",
       "      <td>20.000000</td>\n",
       "      <td>401755.400475</td>\n",
       "      <td>75.000000</td>\n",
       "      <td>4.000000</td>\n",
       "      <td>4.000000</td>\n",
       "      <td>1.000000</td>\n",
       "      <td>362496.645000</td>\n",
       "    </tr>\n",
       "  </tbody>\n",
       "</table>\n",
       "</div>"
      ],
      "text/plain": [
       "           children  days_employed     dob_years  education_id  \\\n",
       "count  21525.000000   19351.000000  21525.000000  21525.000000   \n",
       "mean       0.538908   63046.497661     43.293380      0.817236   \n",
       "std        1.381587  140827.311974     12.574584      0.548138   \n",
       "min       -1.000000  -18388.949901      0.000000      0.000000   \n",
       "25%        0.000000   -2747.423625     33.000000      1.000000   \n",
       "50%        0.000000   -1203.369529     42.000000      1.000000   \n",
       "75%        1.000000    -291.095954     53.000000      1.000000   \n",
       "max       20.000000  401755.400475     75.000000      4.000000   \n",
       "\n",
       "       family_status_id          debt   total_income  \n",
       "count      21525.000000  21525.000000   19351.000000  \n",
       "mean           0.972544      0.080883   26787.568355  \n",
       "std            1.420324      0.272661   16475.450632  \n",
       "min            0.000000      0.000000    3306.762000  \n",
       "25%            0.000000      0.000000   16488.504500  \n",
       "50%            0.000000      0.000000   23202.870000  \n",
       "75%            1.000000      0.000000   32549.611000  \n",
       "max            4.000000      1.000000  362496.645000  "
      ]
     },
     "execution_count": 101,
     "metadata": {},
     "output_type": "execute_result"
    }
   ],
   "source": [
    "# summary of the numeric fields\n",
    "cc_scoring.describe()"
   ]
  },
  {
   "cell_type": "code",
   "execution_count": 102,
   "metadata": {},
   "outputs": [
    {
     "data": {
      "text/plain": [
       "0.7389547038327526"
      ]
     },
     "execution_count": 102,
     "metadata": {},
     "output_type": "execute_result"
    }
   ],
   "source": [
    "# proportion of negative days_employed\n",
    "cc_scoring[cc_scoring['days_employed'] < 0].shape[0]/cc_scoring.shape[0]"
   ]
  },
  {
   "cell_type": "code",
   "execution_count": 103,
   "metadata": {},
   "outputs": [
    {
     "data": {
      "text/plain": [
       "0.002183507549361208"
      ]
     },
     "execution_count": 103,
     "metadata": {},
     "output_type": "execute_result"
    }
   ],
   "source": [
    "# proportion of negative children\n",
    "cc_scoring[cc_scoring['children'] < 0].shape[0]/cc_scoring.shape[0]"
   ]
  },
  {
   "cell_type": "code",
   "execution_count": 104,
   "metadata": {},
   "outputs": [
    {
     "data": {
      "text/plain": [
       "((21525,), (21471, 12))"
      ]
     },
     "execution_count": 104,
     "metadata": {},
     "output_type": "execute_result"
    }
   ],
   "source": [
    "cc_scoring['total_income'].shape, cc_scoring[~cc_scoring.index.isin(cc_scoring[cc_scoring.duplicated()].index)].shape"
   ]
  },
  {
   "cell_type": "code",
   "execution_count": 105,
   "metadata": {},
   "outputs": [
    {
     "data": {
      "text/html": [
       "<div>\n",
       "<style scoped>\n",
       "    .dataframe tbody tr th:only-of-type {\n",
       "        vertical-align: middle;\n",
       "    }\n",
       "\n",
       "    .dataframe tbody tr th {\n",
       "        vertical-align: top;\n",
       "    }\n",
       "\n",
       "    .dataframe thead th {\n",
       "        text-align: right;\n",
       "    }\n",
       "</style>\n",
       "<table border=\"1\" class=\"dataframe\">\n",
       "  <thead>\n",
       "    <tr style=\"text-align: right;\">\n",
       "      <th></th>\n",
       "      <th>children</th>\n",
       "      <th>days_employed</th>\n",
       "      <th>dob_years</th>\n",
       "      <th>education_id</th>\n",
       "      <th>family_status_id</th>\n",
       "      <th>debt</th>\n",
       "      <th>total_income</th>\n",
       "    </tr>\n",
       "  </thead>\n",
       "  <tbody>\n",
       "    <tr>\n",
       "      <td>count</td>\n",
       "      <td>21471.000000</td>\n",
       "      <td>19351.000000</td>\n",
       "      <td>21471.000000</td>\n",
       "      <td>21471.000000</td>\n",
       "      <td>21471.000000</td>\n",
       "      <td>21471.000000</td>\n",
       "      <td>19351.000000</td>\n",
       "    </tr>\n",
       "    <tr>\n",
       "      <td>mean</td>\n",
       "      <td>0.539565</td>\n",
       "      <td>63046.497661</td>\n",
       "      <td>43.279074</td>\n",
       "      <td>0.817195</td>\n",
       "      <td>0.973685</td>\n",
       "      <td>0.081086</td>\n",
       "      <td>26787.568355</td>\n",
       "    </tr>\n",
       "    <tr>\n",
       "      <td>std</td>\n",
       "      <td>1.382978</td>\n",
       "      <td>140827.311974</td>\n",
       "      <td>12.574291</td>\n",
       "      <td>0.548508</td>\n",
       "      <td>1.421082</td>\n",
       "      <td>0.272974</td>\n",
       "      <td>16475.450632</td>\n",
       "    </tr>\n",
       "    <tr>\n",
       "      <td>min</td>\n",
       "      <td>-1.000000</td>\n",
       "      <td>-18388.949901</td>\n",
       "      <td>0.000000</td>\n",
       "      <td>0.000000</td>\n",
       "      <td>0.000000</td>\n",
       "      <td>0.000000</td>\n",
       "      <td>3306.762000</td>\n",
       "    </tr>\n",
       "    <tr>\n",
       "      <td>25%</td>\n",
       "      <td>0.000000</td>\n",
       "      <td>-2747.423625</td>\n",
       "      <td>33.000000</td>\n",
       "      <td>1.000000</td>\n",
       "      <td>0.000000</td>\n",
       "      <td>0.000000</td>\n",
       "      <td>16488.504500</td>\n",
       "    </tr>\n",
       "    <tr>\n",
       "      <td>50%</td>\n",
       "      <td>0.000000</td>\n",
       "      <td>-1203.369529</td>\n",
       "      <td>42.000000</td>\n",
       "      <td>1.000000</td>\n",
       "      <td>0.000000</td>\n",
       "      <td>0.000000</td>\n",
       "      <td>23202.870000</td>\n",
       "    </tr>\n",
       "    <tr>\n",
       "      <td>75%</td>\n",
       "      <td>1.000000</td>\n",
       "      <td>-291.095954</td>\n",
       "      <td>53.000000</td>\n",
       "      <td>1.000000</td>\n",
       "      <td>1.000000</td>\n",
       "      <td>0.000000</td>\n",
       "      <td>32549.611000</td>\n",
       "    </tr>\n",
       "    <tr>\n",
       "      <td>max</td>\n",
       "      <td>20.000000</td>\n",
       "      <td>401755.400475</td>\n",
       "      <td>75.000000</td>\n",
       "      <td>4.000000</td>\n",
       "      <td>4.000000</td>\n",
       "      <td>1.000000</td>\n",
       "      <td>362496.645000</td>\n",
       "    </tr>\n",
       "  </tbody>\n",
       "</table>\n",
       "</div>"
      ],
      "text/plain": [
       "           children  days_employed     dob_years  education_id  \\\n",
       "count  21471.000000   19351.000000  21471.000000  21471.000000   \n",
       "mean       0.539565   63046.497661     43.279074      0.817195   \n",
       "std        1.382978  140827.311974     12.574291      0.548508   \n",
       "min       -1.000000  -18388.949901      0.000000      0.000000   \n",
       "25%        0.000000   -2747.423625     33.000000      1.000000   \n",
       "50%        0.000000   -1203.369529     42.000000      1.000000   \n",
       "75%        1.000000    -291.095954     53.000000      1.000000   \n",
       "max       20.000000  401755.400475     75.000000      4.000000   \n",
       "\n",
       "       family_status_id          debt   total_income  \n",
       "count      21471.000000  21471.000000   19351.000000  \n",
       "mean           0.973685      0.081086   26787.568355  \n",
       "std            1.421082      0.272974   16475.450632  \n",
       "min            0.000000      0.000000    3306.762000  \n",
       "25%            0.000000      0.000000   16488.504500  \n",
       "50%            0.000000      0.000000   23202.870000  \n",
       "75%            1.000000      0.000000   32549.611000  \n",
       "max            4.000000      1.000000  362496.645000  "
      ]
     },
     "execution_count": 105,
     "metadata": {},
     "output_type": "execute_result"
    }
   ],
   "source": [
    "# as days_employed and total_income in the duplicates are 0, it has no impact\n",
    "# on the mean even after removal\n",
    "cc_scoring[~cc_scoring.index.isin(cc_scoring[cc_scoring.duplicated()].index)].describe()"
   ]
  },
  {
   "cell_type": "code",
   "execution_count": 106,
   "metadata": {},
   "outputs": [],
   "source": [
    "# delete duplicates\n",
    "#cc_scoring_dup_free = cc_scoring.drop_duplicates()"
   ]
  },
  {
   "cell_type": "code",
   "execution_count": 107,
   "metadata": {},
   "outputs": [],
   "source": [
    "#cc_scoring_dup_free.shape"
   ]
  },
  {
   "cell_type": "markdown",
   "metadata": {},
   "source": [
    "### Conclusion\n",
    "\n",
    "1) There are 21525 records and 12 attributes <br/>\n",
    "2) `days_employed` and `total_income` have 2174 records missing respectively.<br/>\n",
    "3) Fields such as `children`, `dob_years`, `education_id`, `family_status_id`, and `debt` can be converted to unsigned int to save space<br/>\n",
    "4)`days_employed` and `total_income` can be rounded off to the nearest integers.<br/>\n",
    "5) Minimum `dob_years` is 0, which needs to be investigated. However, this field can be categorized.<br/>\n",
    "6) `days_employed` has negative values. Is this by design?<br/>\n",
    "7) `education` field has inconsitent labeling.<br/>\n",
    "8) `purpose` appears to be free text, which could be treated to make it useful<br/>\n",
    "9) In databases, to avoid redundancy, `education` would be stored separately, and it will be linked to the credit report table using the `education_id`; the same goes for `family_status`.<br/>\n",
    "10) There are 54 duplicate records.<br/>\n",
    "11) The `children` field shows families with -1 children all the way up to 20 - a wide range.<br/>\n",
    "12) The `days_employed` field swings wildly. 74% of the records show this discrepancy; the maximum number of years a person has ever worked is almost 1100 years. Probably Count Dracula is in this dataset."
   ]
  },
  {
   "cell_type": "markdown",
   "metadata": {},
   "source": [
    "## Data preprocessing"
   ]
  },
  {
   "cell_type": "markdown",
   "metadata": {},
   "source": [
    "### Processing missing values and/or unsual values"
   ]
  },
  {
   "cell_type": "code",
   "execution_count": 108,
   "metadata": {},
   "outputs": [],
   "source": [
    "# what does the distrbution of missing total_income records look like?\n",
    "cc_missing = cc_scoring[cc_scoring['days_employed'].isnull()]"
   ]
  },
  {
   "cell_type": "code",
   "execution_count": 109,
   "metadata": {},
   "outputs": [
    {
     "data": {
      "text/plain": [
       "(2174, 12)"
      ]
     },
     "execution_count": 109,
     "metadata": {},
     "output_type": "execute_result"
    }
   ],
   "source": [
    "cc_missing.shape"
   ]
  },
  {
   "cell_type": "code",
   "execution_count": 110,
   "metadata": {},
   "outputs": [],
   "source": [
    "rest_of_pop = cc_scoring.loc[~cc_scoring.index.isin(cc_missing.index)]"
   ]
  },
  {
   "cell_type": "code",
   "execution_count": 111,
   "metadata": {},
   "outputs": [
    {
     "data": {
      "text/plain": [
       "(19351, 12)"
      ]
     },
     "execution_count": 111,
     "metadata": {},
     "output_type": "execute_result"
    }
   ],
   "source": [
    "rest_of_pop.shape"
   ]
  },
  {
   "cell_type": "code",
   "execution_count": 112,
   "metadata": {},
   "outputs": [
    {
     "data": {
      "text/plain": [
       "(43.25533564156891, 42.0)"
      ]
     },
     "execution_count": 112,
     "metadata": {},
     "output_type": "execute_result"
    }
   ],
   "source": [
    "# general population\n",
    "rest_of_pop['dob_years'].mean(), rest_of_pop['dob_years'].median()"
   ]
  },
  {
   "cell_type": "code",
   "execution_count": 113,
   "metadata": {},
   "outputs": [
    {
     "data": {
      "text/plain": [
       "(43.632014719411224, 43.0)"
      ]
     },
     "execution_count": 113,
     "metadata": {},
     "output_type": "execute_result"
    }
   ],
   "source": [
    "# missing total income\n",
    "cc_missing['dob_years'].mean(), cc_missing['dob_years'].median()"
   ]
  },
  {
   "cell_type": "code",
   "execution_count": 114,
   "metadata": {},
   "outputs": [
    {
     "data": {
      "text/plain": [
       "secondary education    12342\n",
       "bachelor's degree       4222\n",
       "SECONDARY EDUCATION      705\n",
       "Secondary Education      646\n",
       "some college             613\n",
       "BACHELOR'S DEGREE        251\n",
       "Bachelor's Degree        243\n",
       "primary education        231\n",
       "Some College              40\n",
       "SOME COLLEGE              22\n",
       "PRIMARY EDUCATION         16\n",
       "Primary Education         14\n",
       "graduate degree            4\n",
       "GRADUATE DEGREE            1\n",
       "Graduate Degree            1\n",
       "Name: education, dtype: int64"
      ]
     },
     "execution_count": 114,
     "metadata": {},
     "output_type": "execute_result"
    }
   ],
   "source": [
    "# distribution of education in rest of population\n",
    "rest_of_pop['education'].value_counts()"
   ]
  },
  {
   "cell_type": "code",
   "execution_count": 115,
   "metadata": {},
   "outputs": [
    {
     "data": {
      "text/plain": [
       "secondary education    1408\n",
       "bachelor's degree       496\n",
       "SECONDARY EDUCATION      67\n",
       "Secondary Education      65\n",
       "some college             55\n",
       "Bachelor's Degree        25\n",
       "BACHELOR'S DEGREE        23\n",
       "primary education        19\n",
       "SOME COLLEGE              7\n",
       "Some College              7\n",
       "PRIMARY EDUCATION         1\n",
       "Primary Education         1\n",
       "Name: education, dtype: int64"
      ]
     },
     "execution_count": 115,
     "metadata": {},
     "output_type": "execute_result"
    }
   ],
   "source": [
    "# distribution of education in the missing pool\n",
    "cc_missing['education'].value_counts()"
   ]
  },
  {
   "cell_type": "code",
   "execution_count": 116,
   "metadata": {},
   "outputs": [
    {
     "data": {
      "text/plain": [
       "married              11143\n",
       "civil partnership     3735\n",
       "unmarried             2525\n",
       "divorced              1083\n",
       "widow / widower        865\n",
       "Name: family_status, dtype: int64"
      ]
     },
     "execution_count": 116,
     "metadata": {},
     "output_type": "execute_result"
    }
   ],
   "source": [
    "# distribution of family_status in trest of the population\n",
    "rest_of_pop['family_status'].value_counts()"
   ]
  },
  {
   "cell_type": "code",
   "execution_count": 117,
   "metadata": {},
   "outputs": [
    {
     "data": {
      "text/plain": [
       "married              1237\n",
       "civil partnership     442\n",
       "unmarried             288\n",
       "divorced              112\n",
       "widow / widower        95\n",
       "Name: family_status, dtype: int64"
      ]
     },
     "execution_count": 117,
     "metadata": {},
     "output_type": "execute_result"
    }
   ],
   "source": [
    "# distribution of family_status in the missing pool\n",
    "cc_missing['family_status'].value_counts()"
   ]
  },
  {
   "cell_type": "code",
   "execution_count": 118,
   "metadata": {},
   "outputs": [
    {
     "data": {
      "text/plain": [
       "employee                       10014\n",
       "business                        4577\n",
       "retiree                         3443\n",
       "civil servant                   1312\n",
       "unemployed                         2\n",
       "student                            1\n",
       "entrepreneur                       1\n",
       "paternity / maternity leave        1\n",
       "Name: income_type, dtype: int64"
      ]
     },
     "execution_count": 118,
     "metadata": {},
     "output_type": "execute_result"
    }
   ],
   "source": [
    "# distribution of income_type in the rest of the population\n",
    "rest_of_pop['income_type'].value_counts()"
   ]
  },
  {
   "cell_type": "code",
   "execution_count": 119,
   "metadata": {},
   "outputs": [
    {
     "data": {
      "text/plain": [
       "employee         1105\n",
       "business          508\n",
       "retiree           413\n",
       "civil servant     147\n",
       "entrepreneur        1\n",
       "Name: income_type, dtype: int64"
      ]
     },
     "execution_count": 119,
     "metadata": {},
     "output_type": "execute_result"
    }
   ],
   "source": [
    "# distribution of income_type in the missing pool\n",
    "cc_missing['income_type'].value_counts()"
   ]
  },
  {
   "cell_type": "code",
   "execution_count": 120,
   "metadata": {},
   "outputs": [
    {
     "data": {
      "text/plain": [
       "0    0.918816\n",
       "1    0.081184\n",
       "Name: debt, dtype: float64"
      ]
     },
     "execution_count": 120,
     "metadata": {},
     "output_type": "execute_result"
    }
   ],
   "source": [
    "# proportion of debt in the rest of the population\n",
    "rest_of_pop['debt'].value_counts(normalize=True)"
   ]
  },
  {
   "cell_type": "code",
   "execution_count": 121,
   "metadata": {},
   "outputs": [
    {
     "data": {
      "text/plain": [
       "0    0.921803\n",
       "1    0.078197\n",
       "Name: debt, dtype: float64"
      ]
     },
     "execution_count": 121,
     "metadata": {},
     "output_type": "execute_result"
    }
   ],
   "source": [
    "# proportion of debt in the missing pool\n",
    "cc_missing['debt'].value_counts(normalize=True)"
   ]
  },
  {
   "cell_type": "code",
   "execution_count": 122,
   "metadata": {},
   "outputs": [],
   "source": [
    "# fix the negative values in `days_employed`\n",
    "cc_scoring['days_employed'] = cc_scoring['days_employed'].apply(lambda x: x * -1 if x < 0 else x)"
   ]
  },
  {
   "cell_type": "code",
   "execution_count": 123,
   "metadata": {},
   "outputs": [
    {
     "data": {
      "text/html": [
       "<div>\n",
       "<style scoped>\n",
       "    .dataframe tbody tr th:only-of-type {\n",
       "        vertical-align: middle;\n",
       "    }\n",
       "\n",
       "    .dataframe tbody tr th {\n",
       "        vertical-align: top;\n",
       "    }\n",
       "\n",
       "    .dataframe thead th {\n",
       "        text-align: right;\n",
       "    }\n",
       "</style>\n",
       "<table border=\"1\" class=\"dataframe\">\n",
       "  <thead>\n",
       "    <tr style=\"text-align: right;\">\n",
       "      <th></th>\n",
       "      <th>children</th>\n",
       "      <th>days_employed</th>\n",
       "      <th>dob_years</th>\n",
       "      <th>education_id</th>\n",
       "      <th>family_status_id</th>\n",
       "      <th>debt</th>\n",
       "      <th>total_income</th>\n",
       "    </tr>\n",
       "  </thead>\n",
       "  <tbody>\n",
       "    <tr>\n",
       "      <td>count</td>\n",
       "      <td>21525.000000</td>\n",
       "      <td>19351.000000</td>\n",
       "      <td>21525.000000</td>\n",
       "      <td>21525.000000</td>\n",
       "      <td>21525.000000</td>\n",
       "      <td>21525.000000</td>\n",
       "      <td>19351.000000</td>\n",
       "    </tr>\n",
       "    <tr>\n",
       "      <td>mean</td>\n",
       "      <td>0.538908</td>\n",
       "      <td>66914.728907</td>\n",
       "      <td>43.293380</td>\n",
       "      <td>0.817236</td>\n",
       "      <td>0.972544</td>\n",
       "      <td>0.080883</td>\n",
       "      <td>26787.568355</td>\n",
       "    </tr>\n",
       "    <tr>\n",
       "      <td>std</td>\n",
       "      <td>1.381587</td>\n",
       "      <td>139030.880527</td>\n",
       "      <td>12.574584</td>\n",
       "      <td>0.548138</td>\n",
       "      <td>1.420324</td>\n",
       "      <td>0.272661</td>\n",
       "      <td>16475.450632</td>\n",
       "    </tr>\n",
       "    <tr>\n",
       "      <td>min</td>\n",
       "      <td>-1.000000</td>\n",
       "      <td>24.141633</td>\n",
       "      <td>0.000000</td>\n",
       "      <td>0.000000</td>\n",
       "      <td>0.000000</td>\n",
       "      <td>0.000000</td>\n",
       "      <td>3306.762000</td>\n",
       "    </tr>\n",
       "    <tr>\n",
       "      <td>25%</td>\n",
       "      <td>0.000000</td>\n",
       "      <td>927.009265</td>\n",
       "      <td>33.000000</td>\n",
       "      <td>1.000000</td>\n",
       "      <td>0.000000</td>\n",
       "      <td>0.000000</td>\n",
       "      <td>16488.504500</td>\n",
       "    </tr>\n",
       "    <tr>\n",
       "      <td>50%</td>\n",
       "      <td>0.000000</td>\n",
       "      <td>2194.220567</td>\n",
       "      <td>42.000000</td>\n",
       "      <td>1.000000</td>\n",
       "      <td>0.000000</td>\n",
       "      <td>0.000000</td>\n",
       "      <td>23202.870000</td>\n",
       "    </tr>\n",
       "    <tr>\n",
       "      <td>75%</td>\n",
       "      <td>1.000000</td>\n",
       "      <td>5537.882441</td>\n",
       "      <td>53.000000</td>\n",
       "      <td>1.000000</td>\n",
       "      <td>1.000000</td>\n",
       "      <td>0.000000</td>\n",
       "      <td>32549.611000</td>\n",
       "    </tr>\n",
       "    <tr>\n",
       "      <td>max</td>\n",
       "      <td>20.000000</td>\n",
       "      <td>401755.400475</td>\n",
       "      <td>75.000000</td>\n",
       "      <td>4.000000</td>\n",
       "      <td>4.000000</td>\n",
       "      <td>1.000000</td>\n",
       "      <td>362496.645000</td>\n",
       "    </tr>\n",
       "  </tbody>\n",
       "</table>\n",
       "</div>"
      ],
      "text/plain": [
       "           children  days_employed     dob_years  education_id  \\\n",
       "count  21525.000000   19351.000000  21525.000000  21525.000000   \n",
       "mean       0.538908   66914.728907     43.293380      0.817236   \n",
       "std        1.381587  139030.880527     12.574584      0.548138   \n",
       "min       -1.000000      24.141633      0.000000      0.000000   \n",
       "25%        0.000000     927.009265     33.000000      1.000000   \n",
       "50%        0.000000    2194.220567     42.000000      1.000000   \n",
       "75%        1.000000    5537.882441     53.000000      1.000000   \n",
       "max       20.000000  401755.400475     75.000000      4.000000   \n",
       "\n",
       "       family_status_id          debt   total_income  \n",
       "count      21525.000000  21525.000000   19351.000000  \n",
       "mean           0.972544      0.080883   26787.568355  \n",
       "std            1.420324      0.272661   16475.450632  \n",
       "min            0.000000      0.000000    3306.762000  \n",
       "25%            0.000000      0.000000   16488.504500  \n",
       "50%            0.000000      0.000000   23202.870000  \n",
       "75%            1.000000      0.000000   32549.611000  \n",
       "max            4.000000      1.000000  362496.645000  "
      ]
     },
     "execution_count": 123,
     "metadata": {},
     "output_type": "execute_result"
    }
   ],
   "source": [
    "cc_scoring.describe()"
   ]
  },
  {
   "cell_type": "code",
   "execution_count": 124,
   "metadata": {},
   "outputs": [],
   "source": [
    "# fix negative value in children\n",
    "cc_scoring['children'] = cc_scoring['children'].apply(lambda x: x * -1 if x < 0 else x)"
   ]
  },
  {
   "cell_type": "code",
   "execution_count": 125,
   "metadata": {},
   "outputs": [
    {
     "data": {
      "text/html": [
       "<div>\n",
       "<style scoped>\n",
       "    .dataframe tbody tr th:only-of-type {\n",
       "        vertical-align: middle;\n",
       "    }\n",
       "\n",
       "    .dataframe tbody tr th {\n",
       "        vertical-align: top;\n",
       "    }\n",
       "\n",
       "    .dataframe thead th {\n",
       "        text-align: right;\n",
       "    }\n",
       "</style>\n",
       "<table border=\"1\" class=\"dataframe\">\n",
       "  <thead>\n",
       "    <tr style=\"text-align: right;\">\n",
       "      <th></th>\n",
       "      <th>children</th>\n",
       "      <th>days_employed</th>\n",
       "      <th>dob_years</th>\n",
       "      <th>education_id</th>\n",
       "      <th>family_status_id</th>\n",
       "      <th>debt</th>\n",
       "      <th>total_income</th>\n",
       "    </tr>\n",
       "  </thead>\n",
       "  <tbody>\n",
       "    <tr>\n",
       "      <td>count</td>\n",
       "      <td>21525.000000</td>\n",
       "      <td>19351.000000</td>\n",
       "      <td>21525.000000</td>\n",
       "      <td>21525.000000</td>\n",
       "      <td>21525.000000</td>\n",
       "      <td>21525.000000</td>\n",
       "      <td>19351.000000</td>\n",
       "    </tr>\n",
       "    <tr>\n",
       "      <td>mean</td>\n",
       "      <td>0.543275</td>\n",
       "      <td>66914.728907</td>\n",
       "      <td>43.293380</td>\n",
       "      <td>0.817236</td>\n",
       "      <td>0.972544</td>\n",
       "      <td>0.080883</td>\n",
       "      <td>26787.568355</td>\n",
       "    </tr>\n",
       "    <tr>\n",
       "      <td>std</td>\n",
       "      <td>1.379876</td>\n",
       "      <td>139030.880527</td>\n",
       "      <td>12.574584</td>\n",
       "      <td>0.548138</td>\n",
       "      <td>1.420324</td>\n",
       "      <td>0.272661</td>\n",
       "      <td>16475.450632</td>\n",
       "    </tr>\n",
       "    <tr>\n",
       "      <td>min</td>\n",
       "      <td>0.000000</td>\n",
       "      <td>24.141633</td>\n",
       "      <td>0.000000</td>\n",
       "      <td>0.000000</td>\n",
       "      <td>0.000000</td>\n",
       "      <td>0.000000</td>\n",
       "      <td>3306.762000</td>\n",
       "    </tr>\n",
       "    <tr>\n",
       "      <td>25%</td>\n",
       "      <td>0.000000</td>\n",
       "      <td>927.009265</td>\n",
       "      <td>33.000000</td>\n",
       "      <td>1.000000</td>\n",
       "      <td>0.000000</td>\n",
       "      <td>0.000000</td>\n",
       "      <td>16488.504500</td>\n",
       "    </tr>\n",
       "    <tr>\n",
       "      <td>50%</td>\n",
       "      <td>0.000000</td>\n",
       "      <td>2194.220567</td>\n",
       "      <td>42.000000</td>\n",
       "      <td>1.000000</td>\n",
       "      <td>0.000000</td>\n",
       "      <td>0.000000</td>\n",
       "      <td>23202.870000</td>\n",
       "    </tr>\n",
       "    <tr>\n",
       "      <td>75%</td>\n",
       "      <td>1.000000</td>\n",
       "      <td>5537.882441</td>\n",
       "      <td>53.000000</td>\n",
       "      <td>1.000000</td>\n",
       "      <td>1.000000</td>\n",
       "      <td>0.000000</td>\n",
       "      <td>32549.611000</td>\n",
       "    </tr>\n",
       "    <tr>\n",
       "      <td>max</td>\n",
       "      <td>20.000000</td>\n",
       "      <td>401755.400475</td>\n",
       "      <td>75.000000</td>\n",
       "      <td>4.000000</td>\n",
       "      <td>4.000000</td>\n",
       "      <td>1.000000</td>\n",
       "      <td>362496.645000</td>\n",
       "    </tr>\n",
       "  </tbody>\n",
       "</table>\n",
       "</div>"
      ],
      "text/plain": [
       "           children  days_employed     dob_years  education_id  \\\n",
       "count  21525.000000   19351.000000  21525.000000  21525.000000   \n",
       "mean       0.543275   66914.728907     43.293380      0.817236   \n",
       "std        1.379876  139030.880527     12.574584      0.548138   \n",
       "min        0.000000      24.141633      0.000000      0.000000   \n",
       "25%        0.000000     927.009265     33.000000      1.000000   \n",
       "50%        0.000000    2194.220567     42.000000      1.000000   \n",
       "75%        1.000000    5537.882441     53.000000      1.000000   \n",
       "max       20.000000  401755.400475     75.000000      4.000000   \n",
       "\n",
       "       family_status_id          debt   total_income  \n",
       "count      21525.000000  21525.000000   19351.000000  \n",
       "mean           0.972544      0.080883   26787.568355  \n",
       "std            1.420324      0.272661   16475.450632  \n",
       "min            0.000000      0.000000    3306.762000  \n",
       "25%            0.000000      0.000000   16488.504500  \n",
       "50%            0.000000      0.000000   23202.870000  \n",
       "75%            1.000000      0.000000   32549.611000  \n",
       "max            4.000000      1.000000  362496.645000  "
      ]
     },
     "execution_count": 125,
     "metadata": {},
     "output_type": "execute_result"
    }
   ],
   "source": [
    "cc_scoring.describe()"
   ]
  },
  {
   "cell_type": "code",
   "execution_count": 126,
   "metadata": {},
   "outputs": [
    {
     "data": {
      "text/plain": [
       "101"
      ]
     },
     "execution_count": 126,
     "metadata": {},
     "output_type": "execute_result"
    }
   ],
   "source": [
    "# Reasonable to assume that loans are disbursed to indivuals over a certain age.\n",
    "# Let us assume that the minimum age is 18 years\n",
    "cc_scoring[cc_scoring['dob_years'] < 18].shape[0]"
   ]
  },
  {
   "cell_type": "code",
   "execution_count": 127,
   "metadata": {},
   "outputs": [
    {
     "data": {
      "text/plain": [
       "0    101\n",
       "Name: dob_years, dtype: int64"
      ]
     },
     "execution_count": 127,
     "metadata": {},
     "output_type": "execute_result"
    }
   ],
   "source": [
    "# count of dob_years < 18 years; there is only 1 value, which is 0\n",
    "cc_scoring[cc_scoring['dob_years'] < 18]['dob_years'].value_counts()"
   ]
  },
  {
   "cell_type": "code",
   "execution_count": 128,
   "metadata": {},
   "outputs": [
    {
     "data": {
      "text/plain": [
       "25334.07289010989"
      ]
     },
     "execution_count": 128,
     "metadata": {},
     "output_type": "execute_result"
    }
   ],
   "source": [
    "# mean income in this group is 25,334\n",
    "cc_scoring[cc_scoring['dob_years'] < 18]['total_income'].mean(skipna=True)"
   ]
  },
  {
   "cell_type": "code",
   "execution_count": 129,
   "metadata": {},
   "outputs": [],
   "source": [
    "# A reasonoable retirement age the world over is 60 years, which, in days, is 23741.\n",
    "# Further, on average a person might work for 40 years +/- 3 years assuming they start at \n",
    "# age 20 years. 1 year = 365.25 days. I added another 4 years since most of the borrowers\n",
    "# have a high school certificate\n",
    "# Let us see how many fall outside this threshold\n",
    "gt_44_yrs = cc_scoring[cc_scoring['days_employed'] > 16071]"
   ]
  },
  {
   "cell_type": "code",
   "execution_count": 130,
   "metadata": {},
   "outputs": [
    {
     "data": {
      "text/plain": [
       "(3450, 12)"
      ]
     },
     "execution_count": 130,
     "metadata": {},
     "output_type": "execute_result"
    }
   ],
   "source": [
    "gt_44_yrs.shape"
   ]
  },
  {
   "cell_type": "code",
   "execution_count": 131,
   "metadata": {},
   "outputs": [
    {
     "data": {
      "text/plain": [
       "0.1602787456445993"
      ]
     },
     "execution_count": 131,
     "metadata": {},
     "output_type": "execute_result"
    }
   ],
   "source": [
    "# 16% have worked more than 40 years after completion\n",
    "# of their education at, say, 20 years\n",
    "gt_44_yrs.shape[0]/cc_scoring.shape[0]"
   ]
  },
  {
   "cell_type": "code",
   "execution_count": 132,
   "metadata": {},
   "outputs": [
    {
     "data": {
      "text/plain": [
       "count    3450.000000\n",
       "mean       59.127536\n",
       "std         7.575691\n",
       "min         0.000000\n",
       "25%        56.000000\n",
       "50%        60.000000\n",
       "75%        64.000000\n",
       "max        74.000000\n",
       "Name: dob_years, dtype: float64"
      ]
     },
     "execution_count": 132,
     "metadata": {},
     "output_type": "execute_result"
    }
   ],
   "source": [
    "gt_44_yrs['dob_years'].describe()"
   ]
  },
  {
   "cell_type": "code",
   "execution_count": 133,
   "metadata": {},
   "outputs": [
    {
     "data": {
      "text/plain": [
       "count    3433.000000\n",
       "mean       59.420332\n",
       "std         6.346044\n",
       "min        22.000000\n",
       "25%        56.000000\n",
       "50%        60.000000\n",
       "75%        64.000000\n",
       "max        74.000000\n",
       "Name: dob_years, dtype: float64"
      ]
     },
     "execution_count": 133,
     "metadata": {},
     "output_type": "execute_result"
    }
   ],
   "source": [
    "# age of these individuals\n",
    "gt_44_yrs[gt_44_yrs['dob_years'] >= 18]['dob_years'].describe()"
   ]
  },
  {
   "cell_type": "code",
   "execution_count": 134,
   "metadata": {},
   "outputs": [
    {
     "data": {
      "text/html": [
       "<div>\n",
       "<style scoped>\n",
       "    .dataframe tbody tr th:only-of-type {\n",
       "        vertical-align: middle;\n",
       "    }\n",
       "\n",
       "    .dataframe tbody tr th {\n",
       "        vertical-align: top;\n",
       "    }\n",
       "\n",
       "    .dataframe thead th {\n",
       "        text-align: right;\n",
       "    }\n",
       "</style>\n",
       "<table border=\"1\" class=\"dataframe\">\n",
       "  <thead>\n",
       "    <tr style=\"text-align: right;\">\n",
       "      <th></th>\n",
       "      <th>children</th>\n",
       "      <th>days_employed</th>\n",
       "      <th>dob_years</th>\n",
       "      <th>education</th>\n",
       "      <th>education_id</th>\n",
       "      <th>family_status</th>\n",
       "      <th>family_status_id</th>\n",
       "      <th>gender</th>\n",
       "      <th>income_type</th>\n",
       "      <th>debt</th>\n",
       "      <th>total_income</th>\n",
       "      <th>purpose</th>\n",
       "    </tr>\n",
       "  </thead>\n",
       "  <tbody>\n",
       "    <tr>\n",
       "      <td>99</td>\n",
       "      <td>0</td>\n",
       "      <td>346541.618895</td>\n",
       "      <td>0</td>\n",
       "      <td>Secondary Education</td>\n",
       "      <td>1</td>\n",
       "      <td>married</td>\n",
       "      <td>0</td>\n",
       "      <td>F</td>\n",
       "      <td>retiree</td>\n",
       "      <td>0</td>\n",
       "      <td>11406.644</td>\n",
       "      <td>car</td>\n",
       "    </tr>\n",
       "    <tr>\n",
       "      <td>578</td>\n",
       "      <td>0</td>\n",
       "      <td>397856.565013</td>\n",
       "      <td>0</td>\n",
       "      <td>secondary education</td>\n",
       "      <td>1</td>\n",
       "      <td>married</td>\n",
       "      <td>0</td>\n",
       "      <td>F</td>\n",
       "      <td>retiree</td>\n",
       "      <td>0</td>\n",
       "      <td>15619.310</td>\n",
       "      <td>construction of own property</td>\n",
       "    </tr>\n",
       "    <tr>\n",
       "      <td>1175</td>\n",
       "      <td>0</td>\n",
       "      <td>370879.508002</td>\n",
       "      <td>0</td>\n",
       "      <td>secondary education</td>\n",
       "      <td>1</td>\n",
       "      <td>married</td>\n",
       "      <td>0</td>\n",
       "      <td>F</td>\n",
       "      <td>retiree</td>\n",
       "      <td>0</td>\n",
       "      <td>50231.975</td>\n",
       "      <td>to get a supplementary education</td>\n",
       "    </tr>\n",
       "    <tr>\n",
       "      <td>1898</td>\n",
       "      <td>0</td>\n",
       "      <td>370144.537021</td>\n",
       "      <td>0</td>\n",
       "      <td>secondary education</td>\n",
       "      <td>1</td>\n",
       "      <td>widow / widower</td>\n",
       "      <td>2</td>\n",
       "      <td>F</td>\n",
       "      <td>retiree</td>\n",
       "      <td>0</td>\n",
       "      <td>20384.043</td>\n",
       "      <td>to buy a car</td>\n",
       "    </tr>\n",
       "    <tr>\n",
       "      <td>4922</td>\n",
       "      <td>0</td>\n",
       "      <td>336516.005867</td>\n",
       "      <td>0</td>\n",
       "      <td>bachelor's degree</td>\n",
       "      <td>0</td>\n",
       "      <td>widow / widower</td>\n",
       "      <td>2</td>\n",
       "      <td>F</td>\n",
       "      <td>retiree</td>\n",
       "      <td>1</td>\n",
       "      <td>29369.017</td>\n",
       "      <td>to own a car</td>\n",
       "    </tr>\n",
       "    <tr>\n",
       "      <td>7034</td>\n",
       "      <td>0</td>\n",
       "      <td>366067.781030</td>\n",
       "      <td>0</td>\n",
       "      <td>bachelor's degree</td>\n",
       "      <td>0</td>\n",
       "      <td>unmarried</td>\n",
       "      <td>4</td>\n",
       "      <td>F</td>\n",
       "      <td>retiree</td>\n",
       "      <td>0</td>\n",
       "      <td>42099.372</td>\n",
       "      <td>education</td>\n",
       "    </tr>\n",
       "    <tr>\n",
       "      <td>8061</td>\n",
       "      <td>0</td>\n",
       "      <td>366457.872613</td>\n",
       "      <td>0</td>\n",
       "      <td>bachelor's degree</td>\n",
       "      <td>0</td>\n",
       "      <td>unmarried</td>\n",
       "      <td>4</td>\n",
       "      <td>F</td>\n",
       "      <td>retiree</td>\n",
       "      <td>0</td>\n",
       "      <td>9888.684</td>\n",
       "      <td>university education</td>\n",
       "    </tr>\n",
       "    <tr>\n",
       "      <td>10188</td>\n",
       "      <td>0</td>\n",
       "      <td>371665.278622</td>\n",
       "      <td>0</td>\n",
       "      <td>secondary education</td>\n",
       "      <td>1</td>\n",
       "      <td>married</td>\n",
       "      <td>0</td>\n",
       "      <td>M</td>\n",
       "      <td>retiree</td>\n",
       "      <td>0</td>\n",
       "      <td>16419.472</td>\n",
       "      <td>real estate transactions</td>\n",
       "    </tr>\n",
       "    <tr>\n",
       "      <td>12062</td>\n",
       "      <td>0</td>\n",
       "      <td>332185.354511</td>\n",
       "      <td>0</td>\n",
       "      <td>secondary education</td>\n",
       "      <td>1</td>\n",
       "      <td>married</td>\n",
       "      <td>0</td>\n",
       "      <td>F</td>\n",
       "      <td>retiree</td>\n",
       "      <td>0</td>\n",
       "      <td>33075.037</td>\n",
       "      <td>purchase of the house</td>\n",
       "    </tr>\n",
       "    <tr>\n",
       "      <td>12729</td>\n",
       "      <td>0</td>\n",
       "      <td>355109.725856</td>\n",
       "      <td>0</td>\n",
       "      <td>secondary education</td>\n",
       "      <td>1</td>\n",
       "      <td>widow / widower</td>\n",
       "      <td>2</td>\n",
       "      <td>F</td>\n",
       "      <td>retiree</td>\n",
       "      <td>0</td>\n",
       "      <td>8770.519</td>\n",
       "      <td>education</td>\n",
       "    </tr>\n",
       "    <tr>\n",
       "      <td>14514</td>\n",
       "      <td>0</td>\n",
       "      <td>400992.375704</td>\n",
       "      <td>0</td>\n",
       "      <td>secondary education</td>\n",
       "      <td>1</td>\n",
       "      <td>widow / widower</td>\n",
       "      <td>2</td>\n",
       "      <td>F</td>\n",
       "      <td>retiree</td>\n",
       "      <td>0</td>\n",
       "      <td>13954.466</td>\n",
       "      <td>going to university</td>\n",
       "    </tr>\n",
       "    <tr>\n",
       "      <td>14659</td>\n",
       "      <td>0</td>\n",
       "      <td>394949.344851</td>\n",
       "      <td>0</td>\n",
       "      <td>secondary education</td>\n",
       "      <td>1</td>\n",
       "      <td>unmarried</td>\n",
       "      <td>4</td>\n",
       "      <td>F</td>\n",
       "      <td>retiree</td>\n",
       "      <td>0</td>\n",
       "      <td>5595.912</td>\n",
       "      <td>housing</td>\n",
       "    </tr>\n",
       "    <tr>\n",
       "      <td>15886</td>\n",
       "      <td>0</td>\n",
       "      <td>355843.284621</td>\n",
       "      <td>0</td>\n",
       "      <td>secondary education</td>\n",
       "      <td>1</td>\n",
       "      <td>married</td>\n",
       "      <td>0</td>\n",
       "      <td>F</td>\n",
       "      <td>retiree</td>\n",
       "      <td>0</td>\n",
       "      <td>8036.927</td>\n",
       "      <td>university education</td>\n",
       "    </tr>\n",
       "    <tr>\n",
       "      <td>16861</td>\n",
       "      <td>0</td>\n",
       "      <td>395893.813367</td>\n",
       "      <td>0</td>\n",
       "      <td>secondary education</td>\n",
       "      <td>1</td>\n",
       "      <td>divorced</td>\n",
       "      <td>3</td>\n",
       "      <td>F</td>\n",
       "      <td>retiree</td>\n",
       "      <td>0</td>\n",
       "      <td>34925.561</td>\n",
       "      <td>purchase of the house</td>\n",
       "    </tr>\n",
       "    <tr>\n",
       "      <td>19116</td>\n",
       "      <td>0</td>\n",
       "      <td>331558.550969</td>\n",
       "      <td>0</td>\n",
       "      <td>bachelor's degree</td>\n",
       "      <td>0</td>\n",
       "      <td>married</td>\n",
       "      <td>0</td>\n",
       "      <td>F</td>\n",
       "      <td>retiree</td>\n",
       "      <td>0</td>\n",
       "      <td>14686.701</td>\n",
       "      <td>buy commercial real estate</td>\n",
       "    </tr>\n",
       "    <tr>\n",
       "      <td>20462</td>\n",
       "      <td>0</td>\n",
       "      <td>338734.868540</td>\n",
       "      <td>0</td>\n",
       "      <td>secondary education</td>\n",
       "      <td>1</td>\n",
       "      <td>married</td>\n",
       "      <td>0</td>\n",
       "      <td>F</td>\n",
       "      <td>retiree</td>\n",
       "      <td>0</td>\n",
       "      <td>41471.027</td>\n",
       "      <td>purchase of my own house</td>\n",
       "    </tr>\n",
       "    <tr>\n",
       "      <td>20577</td>\n",
       "      <td>0</td>\n",
       "      <td>331741.271455</td>\n",
       "      <td>0</td>\n",
       "      <td>secondary education</td>\n",
       "      <td>1</td>\n",
       "      <td>unmarried</td>\n",
       "      <td>4</td>\n",
       "      <td>F</td>\n",
       "      <td>retiree</td>\n",
       "      <td>0</td>\n",
       "      <td>20766.202</td>\n",
       "      <td>property</td>\n",
       "    </tr>\n",
       "  </tbody>\n",
       "</table>\n",
       "</div>"
      ],
      "text/plain": [
       "       children  days_employed  dob_years            education  education_id  \\\n",
       "99            0  346541.618895          0  Secondary Education             1   \n",
       "578           0  397856.565013          0  secondary education             1   \n",
       "1175          0  370879.508002          0  secondary education             1   \n",
       "1898          0  370144.537021          0  secondary education             1   \n",
       "4922          0  336516.005867          0    bachelor's degree             0   \n",
       "7034          0  366067.781030          0    bachelor's degree             0   \n",
       "8061          0  366457.872613          0    bachelor's degree             0   \n",
       "10188         0  371665.278622          0  secondary education             1   \n",
       "12062         0  332185.354511          0  secondary education             1   \n",
       "12729         0  355109.725856          0  secondary education             1   \n",
       "14514         0  400992.375704          0  secondary education             1   \n",
       "14659         0  394949.344851          0  secondary education             1   \n",
       "15886         0  355843.284621          0  secondary education             1   \n",
       "16861         0  395893.813367          0  secondary education             1   \n",
       "19116         0  331558.550969          0    bachelor's degree             0   \n",
       "20462         0  338734.868540          0  secondary education             1   \n",
       "20577         0  331741.271455          0  secondary education             1   \n",
       "\n",
       "         family_status  family_status_id gender income_type  debt  \\\n",
       "99             married                 0      F     retiree     0   \n",
       "578            married                 0      F     retiree     0   \n",
       "1175           married                 0      F     retiree     0   \n",
       "1898   widow / widower                 2      F     retiree     0   \n",
       "4922   widow / widower                 2      F     retiree     1   \n",
       "7034         unmarried                 4      F     retiree     0   \n",
       "8061         unmarried                 4      F     retiree     0   \n",
       "10188          married                 0      M     retiree     0   \n",
       "12062          married                 0      F     retiree     0   \n",
       "12729  widow / widower                 2      F     retiree     0   \n",
       "14514  widow / widower                 2      F     retiree     0   \n",
       "14659        unmarried                 4      F     retiree     0   \n",
       "15886          married                 0      F     retiree     0   \n",
       "16861         divorced                 3      F     retiree     0   \n",
       "19116          married                 0      F     retiree     0   \n",
       "20462          married                 0      F     retiree     0   \n",
       "20577        unmarried                 4      F     retiree     0   \n",
       "\n",
       "       total_income                           purpose  \n",
       "99        11406.644                               car  \n",
       "578       15619.310      construction of own property  \n",
       "1175      50231.975  to get a supplementary education  \n",
       "1898      20384.043                      to buy a car  \n",
       "4922      29369.017                      to own a car  \n",
       "7034      42099.372                         education  \n",
       "8061       9888.684              university education  \n",
       "10188     16419.472          real estate transactions  \n",
       "12062     33075.037             purchase of the house  \n",
       "12729      8770.519                         education  \n",
       "14514     13954.466               going to university  \n",
       "14659      5595.912                           housing  \n",
       "15886      8036.927              university education  \n",
       "16861     34925.561             purchase of the house  \n",
       "19116     14686.701        buy commercial real estate  \n",
       "20462     41471.027          purchase of my own house  \n",
       "20577     20766.202                          property  "
      ]
     },
     "execution_count": 134,
     "metadata": {},
     "output_type": "execute_result"
    }
   ],
   "source": [
    "# 17 borrowers, most of whom are retirees with only 1 debtor and\n",
    "gt_44_yrs[gt_44_yrs['dob_years'] < 18]"
   ]
  },
  {
   "cell_type": "code",
   "execution_count": 135,
   "metadata": {},
   "outputs": [
    {
     "data": {
      "text/plain": [
       "(17991, 12)"
      ]
     },
     "execution_count": 135,
     "metadata": {},
     "output_type": "execute_result"
    }
   ],
   "source": [
    "# how do they compare with those who have worked\n",
    "# a reasonable number of years\n",
    "\n",
    "others = cc_scoring[(cc_scoring['dob_years'] >= 18) &\n",
    "                    ~(cc_scoring.index.isin(gt_44_yrs.index))]\n",
    "others.shape"
   ]
  },
  {
   "cell_type": "code",
   "execution_count": 136,
   "metadata": {},
   "outputs": [
    {
     "data": {
      "text/plain": [
       "count    15827.000000\n",
       "mean      2349.103509\n",
       "std       2290.400924\n",
       "min         24.141633\n",
       "25%        755.511039\n",
       "50%       1630.312043\n",
       "75%       3156.149216\n",
       "max      15835.725775\n",
       "Name: days_employed, dtype: float64"
      ]
     },
     "execution_count": 136,
     "metadata": {},
     "output_type": "execute_result"
    }
   ],
   "source": [
    "others['days_employed'].describe()"
   ]
  },
  {
   "cell_type": "code",
   "execution_count": 137,
   "metadata": {},
   "outputs": [
    {
     "data": {
      "text/plain": [
       "count    17991.000000\n",
       "mean        40.459118\n",
       "std         10.644818\n",
       "min         19.000000\n",
       "25%         32.000000\n",
       "50%         40.000000\n",
       "75%         48.000000\n",
       "max         75.000000\n",
       "Name: dob_years, dtype: float64"
      ]
     },
     "execution_count": 137,
     "metadata": {},
     "output_type": "execute_result"
    }
   ],
   "source": [
    "# the group in the gt_44_years is on average older by 19 years\n",
    "# compared with the group in the others df\n",
    "others['dob_years'].describe()"
   ]
  },
  {
   "cell_type": "code",
   "execution_count": 138,
   "metadata": {},
   "outputs": [],
   "source": [
    "# lets create age groups as income will vary with age and experience\n",
    "def age_groups(age):\n",
    "    if age < 18:\n",
    "        return '<18 years'\n",
    "    if age >=18 and age < 30:\n",
    "        return '18-29 years'\n",
    "    if age >=30 and age < 40:\n",
    "        return '30-39 years'\n",
    "    if age >=40 and age < 50:\n",
    "        return '40-49 years'\n",
    "    if age >=50 and age < 60:\n",
    "        return '50-59 years'\n",
    "    return '60+ years'"
   ]
  },
  {
   "cell_type": "code",
   "execution_count": 139,
   "metadata": {},
   "outputs": [],
   "source": [
    "# create a new field\n",
    "cc_scoring['age_groups'] = cc_scoring['dob_years'].apply(age_groups)"
   ]
  },
  {
   "cell_type": "code",
   "execution_count": 140,
   "metadata": {},
   "outputs": [
    {
     "data": {
      "text/plain": [
       "30-39 years    5674\n",
       "40-49 years    5371\n",
       "50-59 years    4679\n",
       "18-29 years    3183\n",
       "60+ years      2517\n",
       "<18 years       101\n",
       "Name: age_groups, dtype: int64"
      ]
     },
     "execution_count": 140,
     "metadata": {},
     "output_type": "execute_result"
    }
   ],
   "source": [
    "# distribution of ages\n",
    "cc_scoring['age_groups'].value_counts(dropna=False)"
   ]
  },
  {
   "cell_type": "code",
   "execution_count": 141,
   "metadata": {},
   "outputs": [
    {
     "data": {
      "text/plain": [
       "30-39 years    565\n",
       "40-49 years    537\n",
       "50-59 years    501\n",
       "18-29 years    299\n",
       "60+ years      262\n",
       "<18 years       10\n",
       "Name: age_groups, dtype: int64"
      ]
     },
     "execution_count": 141,
     "metadata": {},
     "output_type": "execute_result"
    }
   ],
   "source": [
    "#roughly in each category, there is 10x drop\n",
    "cc_scoring[cc_scoring['total_income'].isnull()]['age_groups'].value_counts()"
   ]
  },
  {
   "cell_type": "code",
   "execution_count": 142,
   "metadata": {},
   "outputs": [
    {
     "data": {
      "text/plain": [
       "age_groups\n",
       "18-29 years    25533.960641\n",
       "30-39 years    28312.479963\n",
       "40-49 years    28551.375635\n",
       "50-59 years    25811.700327\n",
       "60+ years      23021.639994\n",
       "<18 years      25334.072890\n",
       "Name: total_income, dtype: float64"
      ]
     },
     "execution_count": 142,
     "metadata": {},
     "output_type": "execute_result"
    }
   ],
   "source": [
    "# what does the mean income look like across these age categories\n",
    "cc_scoring.groupby('age_groups')['total_income'].mean()"
   ]
  },
  {
   "cell_type": "code",
   "execution_count": 143,
   "metadata": {},
   "outputs": [
    {
     "data": {
      "text/plain": [
       "count     19351.000000\n",
       "mean      26787.568355\n",
       "std       16475.450632\n",
       "min        3306.762000\n",
       "25%       16488.504500\n",
       "50%       23202.870000\n",
       "75%       32549.611000\n",
       "max      362496.645000\n",
       "Name: total_income, dtype: float64"
      ]
     },
     "execution_count": 143,
     "metadata": {},
     "output_type": "execute_result"
    }
   ],
   "source": [
    "# before the change\n",
    "cc_scoring['total_income'].describe()"
   ]
  },
  {
   "cell_type": "code",
   "execution_count": 144,
   "metadata": {},
   "outputs": [],
   "source": [
    "# create a dictionary mapping age_group to mean income\n",
    "age_income = cc_scoring.groupby('age_groups')['total_income'].mean().to_dict()"
   ]
  },
  {
   "cell_type": "code",
   "execution_count": 145,
   "metadata": {},
   "outputs": [],
   "source": [
    "def replace_missing_values(age, f):\n",
    "    if age == '<18 years':\n",
    "        return f[age]\n",
    "    if age == '18-29 years':\n",
    "        return f[age]\n",
    "    if age == '30-39 years':\n",
    "        return f[age]\n",
    "    if age == '40-49 years':\n",
    "        return f[age]\n",
    "    if age == '50-59 years':\n",
    "        return f[age]\n",
    "    return f[age]"
   ]
  },
  {
   "cell_type": "code",
   "execution_count": 146,
   "metadata": {},
   "outputs": [],
   "source": [
    "# replace missing income with mean in each age category\n",
    "cc_scoring.loc[cc_scoring['total_income'].isnull(), 'total_income'] = (\n",
    "    cc_scoring.loc[cc_scoring['total_income'].isnull(), 'age_groups'].apply(replace_missing_values, args=(age_income,))\n",
    ")"
   ]
  },
  {
   "cell_type": "code",
   "execution_count": 147,
   "metadata": {},
   "outputs": [
    {
     "data": {
      "text/plain": [
       "count     21525.000000\n",
       "mean      26784.957102\n",
       "std       15632.667343\n",
       "min        3306.762000\n",
       "25%       17247.708000\n",
       "50%       24596.980000\n",
       "75%       31286.979000\n",
       "max      362496.645000\n",
       "Name: total_income, dtype: float64"
      ]
     },
     "execution_count": 147,
     "metadata": {},
     "output_type": "execute_result"
    }
   ],
   "source": [
    "# after the change\n",
    "cc_scoring['total_income'].describe()"
   ]
  },
  {
   "cell_type": "code",
   "execution_count": 148,
   "metadata": {},
   "outputs": [
    {
     "data": {
      "text/plain": [
       "age_groups\n",
       "18-29 years      2082.493898\n",
       "30-39 years      4155.029251\n",
       "40-49 years     12383.580460\n",
       "50-59 years    132907.545543\n",
       "60+ years      286544.143436\n",
       "<18 years       69516.105102\n",
       "Name: days_employed, dtype: float64"
      ]
     },
     "execution_count": 148,
     "metadata": {},
     "output_type": "execute_result"
    }
   ],
   "source": [
    "# what does the mean days_days_employed look like across these age categories\n",
    "cc_scoring.groupby('age_groups')['days_employed'].mean()"
   ]
  },
  {
   "cell_type": "code",
   "execution_count": 149,
   "metadata": {},
   "outputs": [
    {
     "data": {
      "text/plain": [
       "30-39 years    565\n",
       "40-49 years    537\n",
       "50-59 years    501\n",
       "18-29 years    299\n",
       "60+ years      262\n",
       "<18 years       10\n",
       "Name: age_groups, dtype: int64"
      ]
     },
     "execution_count": 149,
     "metadata": {},
     "output_type": "execute_result"
    }
   ],
   "source": [
    "#roughly in each category, there is 10x drop\n",
    "cc_scoring[cc_scoring['days_employed'].isnull()]['age_groups'].value_counts()"
   ]
  },
  {
   "cell_type": "code",
   "execution_count": 150,
   "metadata": {},
   "outputs": [
    {
     "data": {
      "text/plain": [
       "count     19351.000000\n",
       "mean      66914.728907\n",
       "std      139030.880527\n",
       "min          24.141633\n",
       "25%         927.009265\n",
       "50%        2194.220567\n",
       "75%        5537.882441\n",
       "max      401755.400475\n",
       "Name: days_employed, dtype: float64"
      ]
     },
     "execution_count": 150,
     "metadata": {},
     "output_type": "execute_result"
    }
   ],
   "source": [
    "# before the change\n",
    "cc_scoring['days_employed'].describe()"
   ]
  },
  {
   "cell_type": "code",
   "execution_count": 151,
   "metadata": {},
   "outputs": [],
   "source": [
    "# create dictionary mapping age_groups to mean number of days employed\n",
    "age_days_employed = cc_scoring.groupby('age_groups')['days_employed'].mean().to_dict()"
   ]
  },
  {
   "cell_type": "code",
   "execution_count": 152,
   "metadata": {},
   "outputs": [],
   "source": [
    "# replace missing days_employed with mean in each age category\n",
    "cc_scoring.loc[cc_scoring['days_employed'].isnull(), 'days_employed'] = (\n",
    "    cc_scoring.loc[cc_scoring['days_employed'].isnull(), 'age_groups'].apply(replace_missing_values, args=(age_days_employed,))\n",
    ")"
   ]
  },
  {
   "cell_type": "code",
   "execution_count": 153,
   "metadata": {},
   "outputs": [
    {
     "data": {
      "text/plain": [
       "count     21525.000000\n",
       "mean      67216.890403\n",
       "std      135283.571921\n",
       "min          24.141633\n",
       "25%        1025.608174\n",
       "50%        2490.771162\n",
       "75%        7811.054008\n",
       "max      401755.400475\n",
       "Name: days_employed, dtype: float64"
      ]
     },
     "execution_count": 153,
     "metadata": {},
     "output_type": "execute_result"
    }
   ],
   "source": [
    "# after the change\n",
    "cc_scoring['days_employed'].describe()"
   ]
  },
  {
   "cell_type": "code",
   "execution_count": 154,
   "metadata": {},
   "outputs": [],
   "source": [
    "# create a mask to filter those less than 18 and who have worked more than 16071 days or 44 years\n",
    "# replace these abnormal records with dob_years as 60 and maximum days employed to 44 years\n",
    "# This assumes the person started working at age 17 years\n",
    "mask = cc_scoring[(cc_scoring['dob_years'] < 18) & (cc_scoring['days_employed'] > 16071)]\n",
    "cc_scoring.loc[mask.index, 'dob_years'] = 60\n",
    "cc_scoring.loc[mask.index, 'days_employed'] = 16071"
   ]
  },
  {
   "cell_type": "code",
   "execution_count": 155,
   "metadata": {},
   "outputs": [],
   "source": [
    "# 2002 rows\n",
    "# 15340 days = 42 years of employment assuming the individual\n",
    "# started at 17-18 years\n",
    "mask = cc_scoring[(cc_scoring['age_groups'] == '50-59 years') &\n",
    "           (cc_scoring['days_employed'] > 15340)]\n",
    "cc_scoring.loc[mask.index, 'days_employed'] = 15340"
   ]
  },
  {
   "cell_type": "code",
   "execution_count": 156,
   "metadata": {},
   "outputs": [],
   "source": [
    "# 2030 rows\n",
    "# 16071 days = 44 years of employment assuming the individual\n",
    "# started at 17-18 years\n",
    "mask = cc_scoring[(cc_scoring['age_groups'] == '60+ years') &\n",
    "           (cc_scoring['days_employed'] > 16071)]\n",
    "cc_scoring.loc[mask.index, 'days_employed'] = 16071"
   ]
  },
  {
   "cell_type": "code",
   "execution_count": 157,
   "metadata": {},
   "outputs": [
    {
     "data": {
      "text/plain": [
       "count     21525.000000\n",
       "mean       7952.417204\n",
       "std       32073.643971\n",
       "min          24.141633\n",
       "25%        1025.608174\n",
       "50%        2490.771162\n",
       "75%        7811.054008\n",
       "max      400954.247845\n",
       "Name: days_employed, dtype: float64"
      ]
     },
     "execution_count": 157,
     "metadata": {},
     "output_type": "execute_result"
    }
   ],
   "source": [
    "cc_scoring['days_employed'].describe()"
   ]
  },
  {
   "cell_type": "code",
   "execution_count": 158,
   "metadata": {},
   "outputs": [
    {
     "data": {
      "text/html": [
       "<div>\n",
       "<style scoped>\n",
       "    .dataframe tbody tr th:only-of-type {\n",
       "        vertical-align: middle;\n",
       "    }\n",
       "\n",
       "    .dataframe tbody tr th {\n",
       "        vertical-align: top;\n",
       "    }\n",
       "\n",
       "    .dataframe thead th {\n",
       "        text-align: right;\n",
       "    }\n",
       "</style>\n",
       "<table border=\"1\" class=\"dataframe\">\n",
       "  <thead>\n",
       "    <tr style=\"text-align: right;\">\n",
       "      <th></th>\n",
       "      <th>children</th>\n",
       "      <th>days_employed</th>\n",
       "      <th>dob_years</th>\n",
       "      <th>education_id</th>\n",
       "      <th>family_status_id</th>\n",
       "      <th>debt</th>\n",
       "      <th>total_income</th>\n",
       "    </tr>\n",
       "  </thead>\n",
       "  <tbody>\n",
       "    <tr>\n",
       "      <td>count</td>\n",
       "      <td>165.000000</td>\n",
       "      <td>165.000000</td>\n",
       "      <td>165.000000</td>\n",
       "      <td>165.000000</td>\n",
       "      <td>165.000000</td>\n",
       "      <td>165.000000</td>\n",
       "      <td>165.000000</td>\n",
       "    </tr>\n",
       "    <tr>\n",
       "      <td>mean</td>\n",
       "      <td>0.496970</td>\n",
       "      <td>366427.333562</td>\n",
       "      <td>43.218182</td>\n",
       "      <td>0.854545</td>\n",
       "      <td>0.866667</td>\n",
       "      <td>0.096970</td>\n",
       "      <td>25747.660091</td>\n",
       "    </tr>\n",
       "    <tr>\n",
       "      <td>std</td>\n",
       "      <td>1.691529</td>\n",
       "      <td>22418.013246</td>\n",
       "      <td>5.876859</td>\n",
       "      <td>0.520958</td>\n",
       "      <td>1.299781</td>\n",
       "      <td>0.296817</td>\n",
       "      <td>17316.392010</td>\n",
       "    </tr>\n",
       "    <tr>\n",
       "      <td>min</td>\n",
       "      <td>0.000000</td>\n",
       "      <td>328734.923996</td>\n",
       "      <td>22.000000</td>\n",
       "      <td>0.000000</td>\n",
       "      <td>0.000000</td>\n",
       "      <td>0.000000</td>\n",
       "      <td>3392.845000</td>\n",
       "    </tr>\n",
       "    <tr>\n",
       "      <td>25%</td>\n",
       "      <td>0.000000</td>\n",
       "      <td>347311.973563</td>\n",
       "      <td>40.000000</td>\n",
       "      <td>1.000000</td>\n",
       "      <td>0.000000</td>\n",
       "      <td>0.000000</td>\n",
       "      <td>15086.342000</td>\n",
       "    </tr>\n",
       "    <tr>\n",
       "      <td>50%</td>\n",
       "      <td>0.000000</td>\n",
       "      <td>366777.226752</td>\n",
       "      <td>45.000000</td>\n",
       "      <td>1.000000</td>\n",
       "      <td>0.000000</td>\n",
       "      <td>0.000000</td>\n",
       "      <td>21807.668000</td>\n",
       "    </tr>\n",
       "    <tr>\n",
       "      <td>75%</td>\n",
       "      <td>1.000000</td>\n",
       "      <td>389397.167577</td>\n",
       "      <td>48.000000</td>\n",
       "      <td>1.000000</td>\n",
       "      <td>1.000000</td>\n",
       "      <td>0.000000</td>\n",
       "      <td>31783.901000</td>\n",
       "    </tr>\n",
       "    <tr>\n",
       "      <td>max</td>\n",
       "      <td>20.000000</td>\n",
       "      <td>400954.247845</td>\n",
       "      <td>49.000000</td>\n",
       "      <td>3.000000</td>\n",
       "      <td>4.000000</td>\n",
       "      <td>1.000000</td>\n",
       "      <td>109008.094000</td>\n",
       "    </tr>\n",
       "  </tbody>\n",
       "</table>\n",
       "</div>"
      ],
      "text/plain": [
       "         children  days_employed   dob_years  education_id  family_status_id  \\\n",
       "count  165.000000     165.000000  165.000000    165.000000        165.000000   \n",
       "mean     0.496970  366427.333562   43.218182      0.854545          0.866667   \n",
       "std      1.691529   22418.013246    5.876859      0.520958          1.299781   \n",
       "min      0.000000  328734.923996   22.000000      0.000000          0.000000   \n",
       "25%      0.000000  347311.973563   40.000000      1.000000          0.000000   \n",
       "50%      0.000000  366777.226752   45.000000      1.000000          0.000000   \n",
       "75%      1.000000  389397.167577   48.000000      1.000000          1.000000   \n",
       "max     20.000000  400954.247845   49.000000      3.000000          4.000000   \n",
       "\n",
       "             debt   total_income  \n",
       "count  165.000000     165.000000  \n",
       "mean     0.096970   25747.660091  \n",
       "std      0.296817   17316.392010  \n",
       "min      0.000000    3392.845000  \n",
       "25%      0.000000   15086.342000  \n",
       "50%      0.000000   21807.668000  \n",
       "75%      0.000000   31783.901000  \n",
       "max      1.000000  109008.094000  "
      ]
     },
     "execution_count": 158,
     "metadata": {},
     "output_type": "execute_result"
    }
   ],
   "source": [
    "# there is another sneaky group between 18-50 years\n",
    "# who have abnormal number of days_employed. 165 borrowers\n",
    "# to be precise\n",
    "cc_scoring[cc_scoring['days_employed'] > 16071].describe()"
   ]
  },
  {
   "cell_type": "code",
   "execution_count": 159,
   "metadata": {},
   "outputs": [
    {
     "data": {
      "text/plain": [
       "40-49 years    128\n",
       "30-39 years     30\n",
       "18-29 years      7\n",
       "Name: age_groups, dtype: int64"
      ]
     },
     "execution_count": 159,
     "metadata": {},
     "output_type": "execute_result"
    }
   ],
   "source": [
    "cc_scoring[cc_scoring['days_employed'] > 16071]['age_groups'].value_counts()"
   ]
  },
  {
   "cell_type": "code",
   "execution_count": 160,
   "metadata": {},
   "outputs": [
    {
     "data": {
      "text/plain": [
       "age_groups\n",
       "18-29 years     2082.493898\n",
       "30-39 years     4155.029251\n",
       "40-49 years    12383.580460\n",
       "50-59 years     8423.682378\n",
       "60+ years      13686.214127\n",
       "<18 years       5908.364429\n",
       "Name: days_employed, dtype: float64"
      ]
     },
     "execution_count": 160,
     "metadata": {},
     "output_type": "execute_result"
    }
   ],
   "source": [
    "# what does the mean days_employed look like for these groups\n",
    "cc_scoring.groupby('age_groups')['days_employed'].mean()"
   ]
  },
  {
   "cell_type": "code",
   "execution_count": 161,
   "metadata": {},
   "outputs": [],
   "source": [
    "# recompute mean of group who have worked more than 44 years, and who fall\n",
    "# into the 18-29 years, 30-39 years and 40-49 years bucket\n",
    "new_mean_age_days_emp = cc_scoring[~(cc_scoring['days_employed']  > 16071)].groupby('age_groups')['days_employed'].mean()"
   ]
  },
  {
   "cell_type": "code",
   "execution_count": 162,
   "metadata": {},
   "outputs": [],
   "source": [
    "# replace these incorrect values with the mean days worked for each age category\n",
    "cc_scoring.loc[cc_scoring['days_employed'] > 16071, 'days_employed'] = (\n",
    "    cc_scoring.loc[cc_scoring['days_employed']  > 16071, 'age_groups'].apply(replace_missing_values, args=(new_mean_age_days_emp,))\n",
    ")"
   ]
  },
  {
   "cell_type": "code",
   "execution_count": 163,
   "metadata": {},
   "outputs": [],
   "source": [
    "# recompute the age_groups\n",
    "cc_scoring['age_groups'] = cc_scoring['dob_years'].apply(age_groups)"
   ]
  },
  {
   "cell_type": "code",
   "execution_count": 164,
   "metadata": {},
   "outputs": [
    {
     "data": {
      "text/plain": [
       "age_groups\n",
       "18-29 years     1292.074716\n",
       "30-39 years     2239.499525\n",
       "40-49 years     3721.638383\n",
       "50-59 years     8423.682378\n",
       "60+ years      13711.524354\n",
       "<18 years       2200.375775\n",
       "Name: days_employed, dtype: float64"
      ]
     },
     "execution_count": 164,
     "metadata": {},
     "output_type": "execute_result"
    }
   ],
   "source": [
    "# after cleaning\n",
    "cc_scoring.groupby('age_groups')['days_employed'].mean()"
   ]
  },
  {
   "cell_type": "code",
   "execution_count": 165,
   "metadata": {},
   "outputs": [
    {
     "data": {
      "text/html": [
       "<div>\n",
       "<style scoped>\n",
       "    .dataframe tbody tr th:only-of-type {\n",
       "        vertical-align: middle;\n",
       "    }\n",
       "\n",
       "    .dataframe tbody tr th {\n",
       "        vertical-align: top;\n",
       "    }\n",
       "\n",
       "    .dataframe thead th {\n",
       "        text-align: right;\n",
       "    }\n",
       "</style>\n",
       "<table border=\"1\" class=\"dataframe\">\n",
       "  <thead>\n",
       "    <tr style=\"text-align: right;\">\n",
       "      <th></th>\n",
       "      <th>children</th>\n",
       "      <th>days_employed</th>\n",
       "      <th>dob_years</th>\n",
       "      <th>education</th>\n",
       "      <th>education_id</th>\n",
       "      <th>family_status</th>\n",
       "      <th>family_status_id</th>\n",
       "      <th>gender</th>\n",
       "      <th>income_type</th>\n",
       "      <th>debt</th>\n",
       "      <th>total_income</th>\n",
       "      <th>purpose</th>\n",
       "      <th>age_groups</th>\n",
       "    </tr>\n",
       "  </thead>\n",
       "  <tbody>\n",
       "    <tr>\n",
       "      <td>149</td>\n",
       "      <td>0</td>\n",
       "      <td>2664.273168</td>\n",
       "      <td>0</td>\n",
       "      <td>secondary education</td>\n",
       "      <td>1</td>\n",
       "      <td>divorced</td>\n",
       "      <td>3</td>\n",
       "      <td>F</td>\n",
       "      <td>employee</td>\n",
       "      <td>0</td>\n",
       "      <td>11228.230</td>\n",
       "      <td>housing transactions</td>\n",
       "      <td>&lt;18 years</td>\n",
       "    </tr>\n",
       "    <tr>\n",
       "      <td>270</td>\n",
       "      <td>3</td>\n",
       "      <td>1872.663186</td>\n",
       "      <td>0</td>\n",
       "      <td>secondary education</td>\n",
       "      <td>1</td>\n",
       "      <td>married</td>\n",
       "      <td>0</td>\n",
       "      <td>F</td>\n",
       "      <td>employee</td>\n",
       "      <td>0</td>\n",
       "      <td>16346.633</td>\n",
       "      <td>housing renovation</td>\n",
       "      <td>&lt;18 years</td>\n",
       "    </tr>\n",
       "    <tr>\n",
       "      <td>1040</td>\n",
       "      <td>0</td>\n",
       "      <td>1158.029561</td>\n",
       "      <td>0</td>\n",
       "      <td>bachelor's degree</td>\n",
       "      <td>0</td>\n",
       "      <td>divorced</td>\n",
       "      <td>3</td>\n",
       "      <td>F</td>\n",
       "      <td>business</td>\n",
       "      <td>0</td>\n",
       "      <td>48639.062</td>\n",
       "      <td>to own a car</td>\n",
       "      <td>&lt;18 years</td>\n",
       "    </tr>\n",
       "    <tr>\n",
       "      <td>1149</td>\n",
       "      <td>0</td>\n",
       "      <td>934.654854</td>\n",
       "      <td>0</td>\n",
       "      <td>secondary education</td>\n",
       "      <td>1</td>\n",
       "      <td>married</td>\n",
       "      <td>0</td>\n",
       "      <td>F</td>\n",
       "      <td>business</td>\n",
       "      <td>0</td>\n",
       "      <td>32296.389</td>\n",
       "      <td>buy real estate</td>\n",
       "      <td>&lt;18 years</td>\n",
       "    </tr>\n",
       "    <tr>\n",
       "      <td>1386</td>\n",
       "      <td>0</td>\n",
       "      <td>5043.219890</td>\n",
       "      <td>0</td>\n",
       "      <td>bachelor's degree</td>\n",
       "      <td>0</td>\n",
       "      <td>married</td>\n",
       "      <td>0</td>\n",
       "      <td>M</td>\n",
       "      <td>civil servant</td>\n",
       "      <td>0</td>\n",
       "      <td>38483.779</td>\n",
       "      <td>purchase of a car</td>\n",
       "      <td>&lt;18 years</td>\n",
       "    </tr>\n",
       "    <tr>\n",
       "      <td>...</td>\n",
       "      <td>...</td>\n",
       "      <td>...</td>\n",
       "      <td>...</td>\n",
       "      <td>...</td>\n",
       "      <td>...</td>\n",
       "      <td>...</td>\n",
       "      <td>...</td>\n",
       "      <td>...</td>\n",
       "      <td>...</td>\n",
       "      <td>...</td>\n",
       "      <td>...</td>\n",
       "      <td>...</td>\n",
       "      <td>...</td>\n",
       "    </tr>\n",
       "    <tr>\n",
       "      <td>18732</td>\n",
       "      <td>2</td>\n",
       "      <td>986.789230</td>\n",
       "      <td>0</td>\n",
       "      <td>bachelor's degree</td>\n",
       "      <td>0</td>\n",
       "      <td>civil partnership</td>\n",
       "      <td>1</td>\n",
       "      <td>F</td>\n",
       "      <td>business</td>\n",
       "      <td>0</td>\n",
       "      <td>45972.566</td>\n",
       "      <td>education</td>\n",
       "      <td>&lt;18 years</td>\n",
       "    </tr>\n",
       "    <tr>\n",
       "      <td>18851</td>\n",
       "      <td>0</td>\n",
       "      <td>10637.001569</td>\n",
       "      <td>0</td>\n",
       "      <td>secondary education</td>\n",
       "      <td>1</td>\n",
       "      <td>married</td>\n",
       "      <td>0</td>\n",
       "      <td>F</td>\n",
       "      <td>civil servant</td>\n",
       "      <td>0</td>\n",
       "      <td>21845.941</td>\n",
       "      <td>supplementary education</td>\n",
       "      <td>&lt;18 years</td>\n",
       "    </tr>\n",
       "    <tr>\n",
       "      <td>19371</td>\n",
       "      <td>1</td>\n",
       "      <td>2356.250615</td>\n",
       "      <td>0</td>\n",
       "      <td>bachelor's degree</td>\n",
       "      <td>0</td>\n",
       "      <td>married</td>\n",
       "      <td>0</td>\n",
       "      <td>F</td>\n",
       "      <td>business</td>\n",
       "      <td>0</td>\n",
       "      <td>12469.795</td>\n",
       "      <td>car</td>\n",
       "      <td>&lt;18 years</td>\n",
       "    </tr>\n",
       "    <tr>\n",
       "      <td>21179</td>\n",
       "      <td>2</td>\n",
       "      <td>108.967042</td>\n",
       "      <td>0</td>\n",
       "      <td>bachelor's degree</td>\n",
       "      <td>0</td>\n",
       "      <td>married</td>\n",
       "      <td>0</td>\n",
       "      <td>M</td>\n",
       "      <td>business</td>\n",
       "      <td>0</td>\n",
       "      <td>38512.321</td>\n",
       "      <td>building a real estate</td>\n",
       "      <td>&lt;18 years</td>\n",
       "    </tr>\n",
       "    <tr>\n",
       "      <td>21313</td>\n",
       "      <td>0</td>\n",
       "      <td>1268.487728</td>\n",
       "      <td>0</td>\n",
       "      <td>secondary education</td>\n",
       "      <td>1</td>\n",
       "      <td>unmarried</td>\n",
       "      <td>4</td>\n",
       "      <td>M</td>\n",
       "      <td>employee</td>\n",
       "      <td>0</td>\n",
       "      <td>24387.070</td>\n",
       "      <td>housing transactions</td>\n",
       "      <td>&lt;18 years</td>\n",
       "    </tr>\n",
       "  </tbody>\n",
       "</table>\n",
       "<p>74 rows × 13 columns</p>\n",
       "</div>"
      ],
      "text/plain": [
       "       children  days_employed  dob_years            education  education_id  \\\n",
       "149           0    2664.273168          0  secondary education             1   \n",
       "270           3    1872.663186          0  secondary education             1   \n",
       "1040          0    1158.029561          0    bachelor's degree             0   \n",
       "1149          0     934.654854          0  secondary education             1   \n",
       "1386          0    5043.219890          0    bachelor's degree             0   \n",
       "...         ...            ...        ...                  ...           ...   \n",
       "18732         2     986.789230          0    bachelor's degree             0   \n",
       "18851         0   10637.001569          0  secondary education             1   \n",
       "19371         1    2356.250615          0    bachelor's degree             0   \n",
       "21179         2     108.967042          0    bachelor's degree             0   \n",
       "21313         0    1268.487728          0  secondary education             1   \n",
       "\n",
       "           family_status  family_status_id gender    income_type  debt  \\\n",
       "149             divorced                 3      F       employee     0   \n",
       "270              married                 0      F       employee     0   \n",
       "1040            divorced                 3      F       business     0   \n",
       "1149             married                 0      F       business     0   \n",
       "1386             married                 0      M  civil servant     0   \n",
       "...                  ...               ...    ...            ...   ...   \n",
       "18732  civil partnership                 1      F       business     0   \n",
       "18851            married                 0      F  civil servant     0   \n",
       "19371            married                 0      F       business     0   \n",
       "21179            married                 0      M       business     0   \n",
       "21313          unmarried                 4      M       employee     0   \n",
       "\n",
       "       total_income                  purpose age_groups  \n",
       "149       11228.230     housing transactions  <18 years  \n",
       "270       16346.633       housing renovation  <18 years  \n",
       "1040      48639.062             to own a car  <18 years  \n",
       "1149      32296.389          buy real estate  <18 years  \n",
       "1386      38483.779        purchase of a car  <18 years  \n",
       "...             ...                      ...        ...  \n",
       "18732     45972.566                education  <18 years  \n",
       "18851     21845.941  supplementary education  <18 years  \n",
       "19371     12469.795                      car  <18 years  \n",
       "21179     38512.321   building a real estate  <18 years  \n",
       "21313     24387.070     housing transactions  <18 years  \n",
       "\n",
       "[74 rows x 13 columns]"
      ]
     },
     "execution_count": 165,
     "metadata": {},
     "output_type": "execute_result"
    }
   ],
   "source": [
    "# 74 rows where the age is <18 years and who aren't retirees\n",
    "# will have to ignore these observations\n",
    "cc_scoring[cc_scoring['age_groups'] == '<18 years']"
   ]
  },
  {
   "cell_type": "markdown",
   "metadata": {},
   "source": [
    "### Conclusion"
   ]
  },
  {
   "cell_type": "markdown",
   "metadata": {},
   "source": [
    "1) By comparing the borrowers with missing income with those with non-missing income, we see that there is only a small difference in their mean/median `ages`, proportion of `debt`; In the `education` and `family_status` categories, the proportion is very similar. Further, the deviation between median income and mean is a little of a $1000. Looking at the age_group wise mean income, there isn't a significant variation. However, in the 60+ years category, we can see a relative drop by a few thousad dollars. Replacing the missing `total_income` by age_groups wise mean hasn't altered the overall mean significantly. So, we are good.<br/>\n",
    "\n",
    "2) Roughly 20% (increases from 16% after filling in missing values with their respective means) have worked more than 44 years, which is a lot of man years in a lifetime. There are unrealistic numbers at both ends of the spectrum ranging from 0 years to 1100 years. To fill in the missing value for `days_worked`, we will fill them with age_group wise mean`.<br/>\n",
    "\n",
    "3) The `days_employed` field has outliers in all age_groups: <18 year, 20-29 years, 30-39 years, 40-49 years, 50-59 years, and 60+ years. Thos supposedly less than 18 years have their actual reported age as 0. But we can also see that these borrowers are retired. Therefore, we can replace the `days_employed` by making an assumption that the individual has worked 44 years since the age of 17-18. And their ages can be replaced with the assumed retirement age of 60 years.<br/>\n",
    "\n",
    "4) For those who are in the 50 - 75 year, we can replace the outliers with 2 sets of values; those in the 50-59 years will be assumed to have worked for 42 years, and those in the 60+ years group for 44 years. Ofcourse, this might not be the best solution, but the other alternative is to drop them.<br/>\n",
    "\n",
    "5) For those in the 18-29 years, 30-39 years, and 40-49 years, a new mean number of `days_employed` was computed, and this was used to replace the outliers.\n",
    "\n",
    "6) Despite fixing issues, there are 74 observations where the age is 0 years; these will have to be ignore or dropped. Or these can be inferred from the `days_employed` field.\n",
    "\n",
    "7) The missing values in these 2 fields seem to be missing at random; they are representative of the `family_status`, `education`, `income_type`, `total_income`, and `purpose`. This is possible if the application didn't have any validation checks in place, which allowed the user to enter incorrect values. Or it could have been a system error.\n"
   ]
  },
  {
   "cell_type": "markdown",
   "metadata": {},
   "source": [
    "### Data type replacement"
   ]
  },
  {
   "cell_type": "code",
   "execution_count": 166,
   "metadata": {},
   "outputs": [],
   "source": [
    "cc_scoring['days_employed'] = np.round(cc_scoring['days_employed']).astype(int)\n",
    "cc_scoring['total_income'] = np.round(cc_scoring['total_income']).astype(int)\n",
    "cc_scoring['education_id'] = cc_scoring['education_id'].astype(np.uint8)\n",
    "cc_scoring['family_status_id'] = cc_scoring['education_id'].astype(np.uint8)\n",
    "cc_scoring['debt'] = cc_scoring['debt'].astype(np.uint8)\n",
    "cc_scoring['children'] = cc_scoring['children'].astype(np.uint8)\n",
    "cc_scoring['dob_years'] = cc_scoring['dob_years'].astype(np.uint8)"
   ]
  },
  {
   "cell_type": "code",
   "execution_count": 167,
   "metadata": {},
   "outputs": [
    {
     "name": "stdout",
     "output_type": "stream",
     "text": [
      "<class 'pandas.core.frame.DataFrame'>\n",
      "RangeIndex: 21525 entries, 0 to 21524\n",
      "Data columns (total 13 columns):\n",
      "children            21525 non-null uint8\n",
      "days_employed       21525 non-null int64\n",
      "dob_years           21525 non-null uint8\n",
      "education           21525 non-null object\n",
      "education_id        21525 non-null uint8\n",
      "family_status       21525 non-null object\n",
      "family_status_id    21525 non-null uint8\n",
      "gender              21525 non-null object\n",
      "income_type         21525 non-null object\n",
      "debt                21525 non-null uint8\n",
      "total_income        21525 non-null int64\n",
      "purpose             21525 non-null object\n",
      "age_groups          21525 non-null object\n",
      "dtypes: int64(2), object(6), uint8(5)\n",
      "memory usage: 1.4+ MB\n"
     ]
    }
   ],
   "source": [
    "cc_scoring.info()"
   ]
  },
  {
   "cell_type": "markdown",
   "metadata": {},
   "source": [
    "### Conclusion"
   ]
  },
  {
   "cell_type": "markdown",
   "metadata": {},
   "source": [
    "1) We have successfully reduced the memory usage by ~600KB or about 30%\n",
    "\n",
    "2) Converting from float to int makes sense here as `days_employed` and `total_income` can be rounded off to the nearest integer. We don't require precision to report such fields.\n",
    "\n",
    "3) For the integer fields which were converted, again, these are just ids; therefore to save space, we changed the data type of unsinged int."
   ]
  },
  {
   "cell_type": "markdown",
   "metadata": {},
   "source": [
    "### Processing duplicates"
   ]
  },
  {
   "cell_type": "code",
   "execution_count": 168,
   "metadata": {},
   "outputs": [],
   "source": [
    "cc_scoring['education'] = cc_scoring['education'].str.lower()"
   ]
  },
  {
   "cell_type": "code",
   "execution_count": 169,
   "metadata": {},
   "outputs": [
    {
     "data": {
      "text/plain": [
       "71"
      ]
     },
     "execution_count": 169,
     "metadata": {},
     "output_type": "execute_result"
    }
   ],
   "source": [
    "cc_scoring.duplicated().sum()"
   ]
  },
  {
   "cell_type": "code",
   "execution_count": 170,
   "metadata": {},
   "outputs": [],
   "source": [
    "cc_scoring.drop_duplicates(inplace=True)"
   ]
  },
  {
   "cell_type": "markdown",
   "metadata": {},
   "source": [
    "### Conclusion"
   ]
  },
  {
   "cell_type": "markdown",
   "metadata": {},
   "source": [
    "1) There are 71 duplicates after changing the case for `education` - an increase of 17 duplicates, which were removed.\n",
    "\n",
    "2) The duplicates probably occurred as there is no unique id to identify the borrower. Generally, having a customer id, and adding a constraint to this will help ensure duplicates are not entered."
   ]
  },
  {
   "cell_type": "markdown",
   "metadata": {},
   "source": [
    "### Categorizing Data"
   ]
  },
  {
   "cell_type": "code",
   "execution_count": 171,
   "metadata": {},
   "outputs": [
    {
     "data": {
      "text/plain": [
       "secondary education    15172\n",
       "bachelor's degree       5250\n",
       "some college             744\n",
       "primary education        282\n",
       "graduate degree            6\n",
       "Name: education, dtype: int64"
      ]
     },
     "execution_count": 171,
     "metadata": {},
     "output_type": "execute_result"
    }
   ],
   "source": [
    "# distribution of education\n",
    "cc_scoring['education'].value_counts()"
   ]
  },
  {
   "cell_type": "code",
   "execution_count": 172,
   "metadata": {},
   "outputs": [
    {
     "data": {
      "text/plain": [
       "array([\"bachelor's degree\", 'secondary education', 'some college',\n",
       "       'primary education', 'graduate degree'], dtype=object)"
      ]
     },
     "execution_count": 172,
     "metadata": {},
     "output_type": "execute_result"
    }
   ],
   "source": [
    "# unique education\n",
    "cc_scoring['education'].unique()"
   ]
  },
  {
   "cell_type": "code",
   "execution_count": 173,
   "metadata": {},
   "outputs": [],
   "source": [
    "# Graduate Degree, Primary Education, Some College, Bachelor's Degree, Seconday Education\n",
    "cc_scoring['education'] = cc_scoring['education'].str.capitalize()"
   ]
  },
  {
   "cell_type": "code",
   "execution_count": 174,
   "metadata": {},
   "outputs": [
    {
     "data": {
      "text/plain": [
       "Secondary education    0.707187\n",
       "Bachelor's degree      0.244710\n",
       "Some college           0.034679\n",
       "Primary education      0.013144\n",
       "Graduate degree        0.000280\n",
       "Name: education, dtype: float64"
      ]
     },
     "execution_count": 174,
     "metadata": {},
     "output_type": "execute_result"
    }
   ],
   "source": [
    "# proportion of education after cleaning\n",
    "cc_scoring['education'].value_counts(normalize=True)"
   ]
  },
  {
   "cell_type": "code",
   "execution_count": 175,
   "metadata": {},
   "outputs": [
    {
     "data": {
      "text/plain": [
       "married              0.575138\n",
       "civil partnership    0.193484\n",
       "unmarried            0.130978\n",
       "divorced             0.055701\n",
       "widow / widower      0.044700\n",
       "Name: family_status, dtype: float64"
      ]
     },
     "execution_count": 175,
     "metadata": {},
     "output_type": "execute_result"
    }
   ],
   "source": [
    "# proportion of family_status\n",
    "cc_scoring['family_status'].value_counts(normalize=True)"
   ]
  },
  {
   "cell_type": "code",
   "execution_count": 176,
   "metadata": {},
   "outputs": [
    {
     "data": {
      "text/plain": [
       "F      0.660669\n",
       "M      0.339284\n",
       "XNA    0.000047\n",
       "Name: gender, dtype: float64"
      ]
     },
     "execution_count": 176,
     "metadata": {},
     "output_type": "execute_result"
    }
   ],
   "source": [
    "# proportion of gender\n",
    "cc_scoring['gender'].value_counts(normalize=True)"
   ]
  },
  {
   "cell_type": "code",
   "execution_count": 177,
   "metadata": {},
   "outputs": [
    {
     "data": {
      "text/plain": [
       "employee                       0.516640\n",
       "business                       0.236692\n",
       "retiree                        0.178475\n",
       "civil servant                  0.067913\n",
       "unemployed                     0.000093\n",
       "entrepreneur                   0.000093\n",
       "student                        0.000047\n",
       "paternity / maternity leave    0.000047\n",
       "Name: income_type, dtype: float64"
      ]
     },
     "execution_count": 177,
     "metadata": {},
     "output_type": "execute_result"
    }
   ],
   "source": [
    "# proportion of income_type\n",
    "cc_scoring['income_type'].value_counts(normalize=True)"
   ]
  },
  {
   "cell_type": "code",
   "execution_count": 178,
   "metadata": {},
   "outputs": [
    {
     "data": {
      "text/plain": [
       "wedding ceremony                            791\n",
       "having a wedding                            768\n",
       "to have a wedding                           765\n",
       "real estate transactions                    675\n",
       "buy commercial real estate                  661\n",
       "housing transactions                        652\n",
       "buying property for renting out             651\n",
       "transactions with commercial real estate    650\n",
       "purchase of the house                       646\n",
       "housing                                     646\n",
       "purchase of the house for my family         638\n",
       "construction of own property                635\n",
       "property                                    633\n",
       "transactions with my real estate            627\n",
       "building a real estate                      624\n",
       "buy real estate                             621\n",
       "purchase of my own house                    620\n",
       "building a property                         619\n",
       "housing renovation                          607\n",
       "buy residential real estate                 606\n",
       "buying my own car                           505\n",
       "going to university                         496\n",
       "car                                         494\n",
       "second-hand car purchase                    486\n",
       "buying a second-hand car                    478\n",
       "cars                                        478\n",
       "to own a car                                478\n",
       "to buy a car                                471\n",
       "car purchase                                461\n",
       "supplementary education                     460\n",
       "purchase of a car                           455\n",
       "university education                        452\n",
       "education                                   447\n",
       "to get a supplementary education            446\n",
       "getting an education                        442\n",
       "profile education                           436\n",
       "getting higher education                    426\n",
       "to become educated                          408\n",
       "Name: purpose, dtype: int64"
      ]
     },
     "execution_count": 178,
     "metadata": {},
     "output_type": "execute_result"
    }
   ],
   "source": [
    "# distribution of purpose\n",
    "cc_scoring['purpose'].value_counts()"
   ]
  },
  {
   "cell_type": "code",
   "execution_count": 179,
   "metadata": {},
   "outputs": [
    {
     "data": {
      "text/plain": [
       "array(['purchase of the house', 'car purchase', 'supplementary education',\n",
       "       'to have a wedding', 'housing transactions', 'education',\n",
       "       'having a wedding', 'purchase of the house for my family',\n",
       "       'buy real estate', 'buy commercial real estate',\n",
       "       'buy residential real estate', 'construction of own property',\n",
       "       'property', 'building a property', 'buying a second-hand car',\n",
       "       'buying my own car', 'transactions with commercial real estate',\n",
       "       'building a real estate', 'housing',\n",
       "       'transactions with my real estate', 'cars', 'to become educated',\n",
       "       'second-hand car purchase', 'getting an education', 'car',\n",
       "       'wedding ceremony', 'to get a supplementary education',\n",
       "       'purchase of my own house', 'real estate transactions',\n",
       "       'getting higher education', 'to own a car', 'purchase of a car',\n",
       "       'profile education', 'university education',\n",
       "       'buying property for renting out', 'to buy a car',\n",
       "       'housing renovation', 'going to university'], dtype=object)"
      ]
     },
     "execution_count": 179,
     "metadata": {},
     "output_type": "execute_result"
    }
   ],
   "source": [
    "# unique purposes\n",
    "cc_scoring['purpose'].unique()"
   ]
  },
  {
   "cell_type": "code",
   "execution_count": 180,
   "metadata": {},
   "outputs": [],
   "source": [
    "def clean_purpose_field(purpose):\n",
    "    \"\"\"\n",
    "    Clean up the many variations of loan purpose\n",
    "    to a manageable number\n",
    "    \"\"\"\n",
    "    keywords = {\n",
    "                'car': 'Vehicle loan',\n",
    "                'cars': 'Vehicle loan',\n",
    "                'education': 'Education loan',\n",
    "                'educated': 'Education loan',\n",
    "                'university': 'Education loan',\n",
    "                'house': 'Housing loan',\n",
    "                'wedding': 'Personal loan',\n",
    "                'estate': 'Housing loan',\n",
    "                'property': 'Housing loan',\n",
    "                'housing': 'Housing loan'\n",
    "    }\n",
    "    match = set()\n",
    "    for word in purpose.lower().split():\n",
    "        if word in keywords:\n",
    "            match.add(keywords[word])\n",
    "    return list(match)[0] if len(match) > 0 else 'Unknown'"
   ]
  },
  {
   "cell_type": "code",
   "execution_count": 181,
   "metadata": {},
   "outputs": [],
   "source": [
    "#key words\n",
    "# house, car, education, wedding, real estate, property, house renovation\n",
    "cc_scoring['loan_category'] = cc_scoring['purpose'].apply(clean_purpose_field)"
   ]
  },
  {
   "cell_type": "code",
   "execution_count": 182,
   "metadata": {},
   "outputs": [
    {
     "data": {
      "text/plain": [
       "21454"
      ]
     },
     "execution_count": 182,
     "metadata": {},
     "output_type": "execute_result"
    }
   ],
   "source": [
    "# check if count matches the total records in the df\n",
    "cc_scoring['loan_category'].value_counts().sum()"
   ]
  },
  {
   "cell_type": "code",
   "execution_count": 183,
   "metadata": {},
   "outputs": [
    {
     "data": {
      "text/plain": [
       "Housing loan      0.503915\n",
       "Vehicle loan      0.200708\n",
       "Education loan    0.187051\n",
       "Personal loan     0.108325\n",
       "Name: loan_category, dtype: float64"
      ]
     },
     "execution_count": 183,
     "metadata": {},
     "output_type": "execute_result"
    }
   ],
   "source": [
    "# proportion of loan category after cleaning\n",
    "cc_scoring['loan_category'].value_counts(normalize=True)"
   ]
  },
  {
   "cell_type": "markdown",
   "metadata": {},
   "source": [
    "### Conclusion"
   ]
  },
  {
   "cell_type": "markdown",
   "metadata": {},
   "source": [
    "1) The `loan purpose` field looks much cleaner after cleaning; we have only 4 categories which represents the \n",
    "various loan purposes. This will save time for the loan manager."
   ]
  },
  {
   "cell_type": "markdown",
   "metadata": {},
   "source": [
    "## Answer these questions"
   ]
  },
  {
   "cell_type": "markdown",
   "metadata": {},
   "source": [
    "- Is there a relation between having kids and repaying a loan on time?"
   ]
  },
  {
   "cell_type": "code",
   "execution_count": 184,
   "metadata": {},
   "outputs": [
    {
     "data": {
      "text/plain": [
       "children  debt\n",
       "0         0       13028\n",
       "          1        1063\n",
       "1         0        4410\n",
       "          1         445\n",
       "2         0        1858\n",
       "          1         194\n",
       "3         0         303\n",
       "          1          27\n",
       "4         0          37\n",
       "          1           4\n",
       "5         0           9\n",
       "20        0          68\n",
       "          1           8\n",
       "Name: debt, dtype: int64"
      ]
     },
     "execution_count": 184,
     "metadata": {},
     "output_type": "execute_result"
    }
   ],
   "source": [
    "# results are identical to using crosstab. I would need to \n",
    "# perform another step to get into a table format.\n",
    "cc_scoring.groupby(['children', 'debt'])['debt'].count()"
   ]
  },
  {
   "cell_type": "code",
   "execution_count": 185,
   "metadata": {},
   "outputs": [],
   "source": [
    "# only field close to paying a loan is the debt field; there is no element of loan duration\n",
    "res = pd.crosstab(index=cc_scoring['children'], \n",
    "            columns=cc_scoring['debt']).reset_index().rename(columns={0: 'loan_paid', \n",
    "                                                                              1:'loan_default'}\n",
    "                                                            )\n",
    "res['percent_paid'] = 100 * res['loan_paid'] / (res['loan_paid'] + res['loan_default'])"
   ]
  },
  {
   "cell_type": "code",
   "execution_count": 186,
   "metadata": {},
   "outputs": [
    {
     "data": {
      "text/html": [
       "<div>\n",
       "<style scoped>\n",
       "    .dataframe tbody tr th:only-of-type {\n",
       "        vertical-align: middle;\n",
       "    }\n",
       "\n",
       "    .dataframe tbody tr th {\n",
       "        vertical-align: top;\n",
       "    }\n",
       "\n",
       "    .dataframe thead th {\n",
       "        text-align: right;\n",
       "    }\n",
       "</style>\n",
       "<table border=\"1\" class=\"dataframe\">\n",
       "  <thead>\n",
       "    <tr style=\"text-align: right;\">\n",
       "      <th>debt</th>\n",
       "      <th>children</th>\n",
       "      <th>loan_paid</th>\n",
       "      <th>loan_default</th>\n",
       "      <th>percent_paid</th>\n",
       "    </tr>\n",
       "  </thead>\n",
       "  <tbody>\n",
       "    <tr>\n",
       "      <td>0</td>\n",
       "      <td>0</td>\n",
       "      <td>13028</td>\n",
       "      <td>1063</td>\n",
       "      <td>92.456178</td>\n",
       "    </tr>\n",
       "    <tr>\n",
       "      <td>1</td>\n",
       "      <td>1</td>\n",
       "      <td>4410</td>\n",
       "      <td>445</td>\n",
       "      <td>90.834192</td>\n",
       "    </tr>\n",
       "    <tr>\n",
       "      <td>2</td>\n",
       "      <td>2</td>\n",
       "      <td>1858</td>\n",
       "      <td>194</td>\n",
       "      <td>90.545809</td>\n",
       "    </tr>\n",
       "    <tr>\n",
       "      <td>3</td>\n",
       "      <td>3</td>\n",
       "      <td>303</td>\n",
       "      <td>27</td>\n",
       "      <td>91.818182</td>\n",
       "    </tr>\n",
       "    <tr>\n",
       "      <td>4</td>\n",
       "      <td>4</td>\n",
       "      <td>37</td>\n",
       "      <td>4</td>\n",
       "      <td>90.243902</td>\n",
       "    </tr>\n",
       "    <tr>\n",
       "      <td>5</td>\n",
       "      <td>5</td>\n",
       "      <td>9</td>\n",
       "      <td>0</td>\n",
       "      <td>100.000000</td>\n",
       "    </tr>\n",
       "    <tr>\n",
       "      <td>6</td>\n",
       "      <td>20</td>\n",
       "      <td>68</td>\n",
       "      <td>8</td>\n",
       "      <td>89.473684</td>\n",
       "    </tr>\n",
       "  </tbody>\n",
       "</table>\n",
       "</div>"
      ],
      "text/plain": [
       "debt  children  loan_paid  loan_default  percent_paid\n",
       "0            0      13028          1063     92.456178\n",
       "1            1       4410           445     90.834192\n",
       "2            2       1858           194     90.545809\n",
       "3            3        303            27     91.818182\n",
       "4            4         37             4     90.243902\n",
       "5            5          9             0    100.000000\n",
       "6           20         68             8     89.473684"
      ]
     },
     "execution_count": 186,
     "metadata": {},
     "output_type": "execute_result"
    }
   ],
   "source": [
    "res"
   ]
  },
  {
   "cell_type": "markdown",
   "metadata": {},
   "source": [
    "### Conclusion"
   ]
  },
  {
   "cell_type": "code",
   "execution_count": 187,
   "metadata": {},
   "outputs": [
    {
     "data": {
      "text/plain": [
       "24110.5"
      ]
     },
     "execution_count": 187,
     "metadata": {},
     "output_type": "execute_result"
    }
   ],
   "source": [
    "# median total income for the families with 20 kids is not very\n",
    "# different from the median of the population\n",
    "cc_scoring[cc_scoring['children'] == 20]['total_income'].median()"
   ]
  },
  {
   "cell_type": "code",
   "execution_count": 188,
   "metadata": {},
   "outputs": [
    {
     "data": {
      "text/plain": [
       "24567.0"
      ]
     },
     "execution_count": 188,
     "metadata": {},
     "output_type": "execute_result"
    }
   ],
   "source": [
    "# median income of the population\n",
    "cc_scoring['total_income'].median()"
   ]
  },
  {
   "cell_type": "code",
   "execution_count": 193,
   "metadata": {},
   "outputs": [
    {
     "data": {
      "text/plain": [
       "Housing loan      0.473684\n",
       "Vehicle loan      0.210526\n",
       "Education loan    0.197368\n",
       "Personal loan     0.118421\n",
       "Name: loan_category, dtype: float64"
      ]
     },
     "execution_count": 193,
     "metadata": {},
     "output_type": "execute_result"
    }
   ],
   "source": [
    "# borrowers with 20 families and their loan purpose preference\n",
    "cc_scoring[cc_scoring['children'] == 20]['loan_category'].value_counts(normalize=True)"
   ]
  },
  {
   "cell_type": "code",
   "execution_count": 194,
   "metadata": {},
   "outputs": [
    {
     "data": {
      "text/plain": [
       "0    0.894737\n",
       "1    0.105263\n",
       "Name: debt, dtype: float64"
      ]
     },
     "execution_count": 194,
     "metadata": {},
     "output_type": "execute_result"
    }
   ],
   "source": [
    "# default in this group is 2% higher than the rest of the population\n",
    "cc_scoring[cc_scoring['children'] == 20]['debt'].value_counts(normalize=True)"
   ]
  },
  {
   "cell_type": "markdown",
   "metadata": {},
   "source": [
    "- Is there a relation between marital status and repaying a loan on time?"
   ]
  },
  {
   "cell_type": "code",
   "execution_count": 89,
   "metadata": {},
   "outputs": [],
   "source": [
    "res = pd.crosstab(index=cc_scoring['family_status'], \n",
    "            columns=cc_scoring['debt']).reset_index().rename(columns={0: 'loan_paid', \n",
    "                                                                              1:'loan_default'}\n",
    "                                                            )\n",
    "res['percent_paid'] = 100 * res['loan_paid'] / (res['loan_paid'] + res['loan_default'])"
   ]
  },
  {
   "cell_type": "code",
   "execution_count": 90,
   "metadata": {},
   "outputs": [
    {
     "data": {
      "text/html": [
       "<div>\n",
       "<style scoped>\n",
       "    .dataframe tbody tr th:only-of-type {\n",
       "        vertical-align: middle;\n",
       "    }\n",
       "\n",
       "    .dataframe tbody tr th {\n",
       "        vertical-align: top;\n",
       "    }\n",
       "\n",
       "    .dataframe thead th {\n",
       "        text-align: right;\n",
       "    }\n",
       "</style>\n",
       "<table border=\"1\" class=\"dataframe\">\n",
       "  <thead>\n",
       "    <tr style=\"text-align: right;\">\n",
       "      <th>debt</th>\n",
       "      <th>family_status</th>\n",
       "      <th>loan_paid</th>\n",
       "      <th>loan_default</th>\n",
       "      <th>percent_paid</th>\n",
       "    </tr>\n",
       "  </thead>\n",
       "  <tbody>\n",
       "    <tr>\n",
       "      <td>0</td>\n",
       "      <td>civil partnership</td>\n",
       "      <td>3763</td>\n",
       "      <td>388</td>\n",
       "      <td>90.652855</td>\n",
       "    </tr>\n",
       "    <tr>\n",
       "      <td>1</td>\n",
       "      <td>divorced</td>\n",
       "      <td>1110</td>\n",
       "      <td>85</td>\n",
       "      <td>92.887029</td>\n",
       "    </tr>\n",
       "    <tr>\n",
       "      <td>2</td>\n",
       "      <td>married</td>\n",
       "      <td>11408</td>\n",
       "      <td>931</td>\n",
       "      <td>92.454818</td>\n",
       "    </tr>\n",
       "    <tr>\n",
       "      <td>3</td>\n",
       "      <td>unmarried</td>\n",
       "      <td>2536</td>\n",
       "      <td>274</td>\n",
       "      <td>90.249110</td>\n",
       "    </tr>\n",
       "    <tr>\n",
       "      <td>4</td>\n",
       "      <td>widow / widower</td>\n",
       "      <td>896</td>\n",
       "      <td>63</td>\n",
       "      <td>93.430657</td>\n",
       "    </tr>\n",
       "  </tbody>\n",
       "</table>\n",
       "</div>"
      ],
      "text/plain": [
       "debt      family_status  loan_paid  loan_default  percent_paid\n",
       "0     civil partnership       3763           388     90.652855\n",
       "1              divorced       1110            85     92.887029\n",
       "2               married      11408           931     92.454818\n",
       "3             unmarried       2536           274     90.249110\n",
       "4       widow / widower        896            63     93.430657"
      ]
     },
     "execution_count": 90,
     "metadata": {},
     "output_type": "execute_result"
    }
   ],
   "source": [
    "res"
   ]
  },
  {
   "cell_type": "markdown",
   "metadata": {},
   "source": [
    "### Conclusion"
   ]
  },
  {
   "cell_type": "markdown",
   "metadata": {},
   "source": [
    "1) All I can conclude from this is that the widow category are relatively better than the other categoris in paying\n",
    "off their debt on time. Relatively, the civil partnership and unmarried categories have a slightly poorer chance of paying on time. We need more data to actually determine which group has a higher chance of defaulting."
   ]
  },
  {
   "cell_type": "markdown",
   "metadata": {},
   "source": [
    "- Is there a relation between income level and repaying a loan on time?"
   ]
  },
  {
   "cell_type": "code",
   "execution_count": 95,
   "metadata": {},
   "outputs": [
    {
     "data": {
      "text/plain": [
       "debt\n",
       "0    26839.808920\n",
       "1    26175.049971\n",
       "Name: total_income, dtype: float64"
      ]
     },
     "execution_count": 95,
     "metadata": {},
     "output_type": "execute_result"
    }
   ],
   "source": [
    "cc_scoring.groupby('debt')['total_income'].mean()"
   ]
  },
  {
   "cell_type": "markdown",
   "metadata": {},
   "source": [
    "### Conclusion"
   ]
  },
  {
   "cell_type": "markdown",
   "metadata": {},
   "source": [
    "1) Judging by the mean income in both categories, it seems to suggest that there is no clear distinction in the `total_income` of debtors versus non-debtors. In reality, most NPAs are triggered by wealthy individuals through scams."
   ]
  },
  {
   "cell_type": "markdown",
   "metadata": {},
   "source": [
    "- How do different loan purposes affect on-time repayment of the loan?"
   ]
  },
  {
   "cell_type": "code",
   "execution_count": 96,
   "metadata": {},
   "outputs": [],
   "source": [
    "res = pd.crosstab(index=cc_scoring['loan_category'], \n",
    "            columns=cc_scoring['debt']).reset_index().rename(columns={0: 'loan_paid', \n",
    "                                                                              1:'loan_default'}\n",
    "                                                            )\n",
    "res['percent_paid'] = 100 * res['loan_paid'] / (res['loan_paid'] + res['loan_default'])"
   ]
  },
  {
   "cell_type": "code",
   "execution_count": 97,
   "metadata": {},
   "outputs": [
    {
     "data": {
      "text/html": [
       "<div>\n",
       "<style scoped>\n",
       "    .dataframe tbody tr th:only-of-type {\n",
       "        vertical-align: middle;\n",
       "    }\n",
       "\n",
       "    .dataframe tbody tr th {\n",
       "        vertical-align: top;\n",
       "    }\n",
       "\n",
       "    .dataframe thead th {\n",
       "        text-align: right;\n",
       "    }\n",
       "</style>\n",
       "<table border=\"1\" class=\"dataframe\">\n",
       "  <thead>\n",
       "    <tr style=\"text-align: right;\">\n",
       "      <th>debt</th>\n",
       "      <th>loan_category</th>\n",
       "      <th>loan_paid</th>\n",
       "      <th>loan_default</th>\n",
       "      <th>percent_paid</th>\n",
       "    </tr>\n",
       "  </thead>\n",
       "  <tbody>\n",
       "    <tr>\n",
       "      <td>0</td>\n",
       "      <td>Education loan</td>\n",
       "      <td>3644</td>\n",
       "      <td>370</td>\n",
       "      <td>90.782262</td>\n",
       "    </tr>\n",
       "    <tr>\n",
       "      <td>1</td>\n",
       "      <td>Housing loan</td>\n",
       "      <td>10032</td>\n",
       "      <td>782</td>\n",
       "      <td>92.768633</td>\n",
       "    </tr>\n",
       "    <tr>\n",
       "      <td>2</td>\n",
       "      <td>Personal loan</td>\n",
       "      <td>2149</td>\n",
       "      <td>186</td>\n",
       "      <td>92.034261</td>\n",
       "    </tr>\n",
       "    <tr>\n",
       "      <td>3</td>\n",
       "      <td>Vehicle loan</td>\n",
       "      <td>3905</td>\n",
       "      <td>403</td>\n",
       "      <td>90.645311</td>\n",
       "    </tr>\n",
       "  </tbody>\n",
       "</table>\n",
       "</div>"
      ],
      "text/plain": [
       "debt   loan_category  loan_paid  loan_default  percent_paid\n",
       "0     Education loan       3644           370     90.782262\n",
       "1       Housing loan      10032           782     92.768633\n",
       "2      Personal loan       2149           186     92.034261\n",
       "3       Vehicle loan       3905           403     90.645311"
      ]
     },
     "execution_count": 97,
     "metadata": {},
     "output_type": "execute_result"
    }
   ],
   "source": [
    "res"
   ]
  },
  {
   "cell_type": "markdown",
   "metadata": {},
   "source": [
    "### Conclusion"
   ]
  },
  {
   "cell_type": "markdown",
   "metadata": {},
   "source": [
    "1) Here too, we can see that the borrowers in the Personal loan and Housing loan categories are more prompt at paying their loans when compared with those in the Education loan and Vehicle loan sections."
   ]
  },
  {
   "cell_type": "markdown",
   "metadata": {},
   "source": [
    "## General conclusion"
   ]
  },
  {
   "cell_type": "markdown",
   "metadata": {},
   "source": [
    "1) The mean age in the group is 43 years; Majority of the borrowers are women - 66%.\n",
    "\n",
    "2) The most common `education` is secondary education at 70%.\n",
    "\n",
    "3) The most popular `income_type` is employee who make up 51%  of the population.\n",
    "\n",
    "4) 58% of the population is married.\n",
    "\n",
    "5) After cleaning the mean `days_employed` ranges from 3 years to 44 years.\n",
    "\n",
    "6) After cleaning the mean `total_income is 26700 per month.\n",
    "1) Based on the above observations, it appears that no one field significantly impacts loan repayment. Maybe they\n",
    "have to be looked at collectively. Additionally, this dataset maybe lacking important features such as credit score, \n",
    "previous loan history, location, loan size, duration, etc which may have a greater impact on loan repayment."
   ]
  },
  {
   "cell_type": "markdown",
   "metadata": {},
   "source": [
    "<div style=\"border:solid Chocolate 2px; padding: 40px\">\n",
    "\n",
    "**The overall review conclusion: second iteration of the review**\n",
    "\n",
    "Sandeep, thank you for submitting your project with corrections! And thank you for your feedback and your position, it is great to collaborate with an analyst with the strong position! \n",
    "    \n",
    "I hasten to say that your project has been accepted and you can proceed to the next sprint!\n",
    "    \n",
    "**I wish you exciting and cool projects in the next sprints😉**\n",
    "\n",
    "![gif](https://media.giphy.com/media/12XDYvMJNcmLgQ/giphy.gif)  "
   ]
  },
  {
   "cell_type": "markdown",
   "metadata": {},
   "source": [
    "## Project Readiness Checklist\n",
    "\n",
    "Put 'x' in the completed points. Then press Shift + Enter."
   ]
  },
  {
   "cell_type": "markdown",
   "metadata": {},
   "source": [
    "- [x]  file open;\n",
    "- [ ]  file examined;\n",
    "- [ ]  missing values defined;\n",
    "- [ ]  missing values are filled;\n",
    "- [ ]  an explanation of which missing value types were detected;\n",
    "- [ ]  explanation for the possible causes of missing values;\n",
    "- [ ]  an explanation of how the blanks are filled;\n",
    "- [ ]  replaced the real data type with an integer;\n",
    "- [ ]  an explanation of which method is used to change the data type and why;\n",
    "- [ ]  duplicates deleted;\n",
    "- [ ]  an explanation of which method is used to find and remove duplicates;\n",
    "- [ ]  description of the possible reasons for the appearance of duplicates in the data;\n",
    "- [ ]  data is categorized;\n",
    "- [ ]  an explanation of the principle of data categorization;\n",
    "- [ ]  an answer to the question \"Is there a relation between having kids and repaying a loan on time?\";\n",
    "- [ ]  an answer to the question \" Is there a relation between marital status and repaying a loan on time?\";\n",
    "- [ ]   an answer to the question \" Is there a relation between income level and repaying a loan on time?\";\n",
    "- [ ]  an answer to the question \" How do different loan purposes affect on-time repayment of the loan?\"\n",
    "- [ ]  conclusions are present on each stage;\n",
    "- [ ]  a general conclusion is made."
   ]
  },
  {
   "cell_type": "code",
   "execution_count": null,
   "metadata": {},
   "outputs": [],
   "source": []
  }
 ],
 "metadata": {
  "kernelspec": {
   "display_name": "Python 3",
   "language": "python",
   "name": "python3"
  },
  "language_info": {
   "codemirror_mode": {
    "name": "ipython",
    "version": 3
   },
   "file_extension": ".py",
   "mimetype": "text/x-python",
   "name": "python",
   "nbconvert_exporter": "python",
   "pygments_lexer": "ipython3",
   "version": "3.8.3"
  },
  "toc": {
   "base_numbering": 1,
   "nav_menu": {},
   "number_sections": true,
   "sideBar": true,
   "skip_h1_title": true,
   "title_cell": "Table of Contents",
   "title_sidebar": "Contents",
   "toc_cell": false,
   "toc_position": {},
   "toc_section_display": true,
   "toc_window_display": false
  }
 },
 "nbformat": 4,
 "nbformat_minor": 2
}
