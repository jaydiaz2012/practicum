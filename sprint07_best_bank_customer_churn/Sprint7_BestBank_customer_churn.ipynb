{
 "cells": [
  {
   "cell_type": "markdown",
   "metadata": {},
   "source": [
    "### Project description\n",
    "\n",
    "Beta Bank customers are leaving: little by little, chipping away every month. The bankers figured out it’s cheaper to save the existing customers rather than to attract new ones.\n",
    "We need to predict whether a customer will leave the bank soon. You have the data on clients’ past behavior and termination of contracts with the bank.\n",
    "Build a model with the maximum possible F1 score. To pass the project, you need an F1 score of at least 0.59. Check the F1 for the test set.\n",
    "Additionally, measure the AUC-ROC metric and compare it with the F1.\n",
    "\n",
    "**Goal**\n",
    "\n",
    "Build a model with an F1 score of at least 59% on the test set, which will allow the Bank to predict who is likely to churn."
   ]
  },
  {
   "cell_type": "code",
   "execution_count": 1,
   "metadata": {},
   "outputs": [],
   "source": [
    "import pandas as pd\n",
    "import numpy as np\n",
    "from sklearn.linear_model import LogisticRegression\n",
    "from sklearn.ensemble import RandomForestClassifier\n",
    "from sklearn.model_selection import train_test_split\n",
    "from sklearn.preprocessing import OrdinalEncoder, StandardScaler \n",
    "from sklearn.metrics import accuracy_score, classification_report, f1_score, precision_recall_curve, roc_curve, roc_auc_score\n",
    "from sklearn.utils import shuffle\n",
    "import matplotlib.pyplot as plt \n",
    "import seaborn as sns\n",
    "\n",
    "import warnings\n",
    "\n",
    "warnings.filterwarnings(\"ignore\", message=\"numpy.dtype size changed\")\n",
    "warnings.filterwarnings(\"ignore\", message=\"numpy.ufunc size changed\")"
   ]
  },
  {
   "cell_type": "markdown",
   "metadata": {},
   "source": [
    "### Download and prepare the data. Explain the procedure."
   ]
  },
  {
   "cell_type": "code",
   "execution_count": 2,
   "metadata": {},
   "outputs": [],
   "source": [
    "df = pd.read_csv('/datasets/Churn.csv')"
   ]
  },
  {
   "cell_type": "code",
   "execution_count": 3,
   "metadata": {},
   "outputs": [
    {
     "data": {
      "text/plain": [
       "(10000, 14)"
      ]
     },
     "execution_count": 3,
     "metadata": {},
     "output_type": "execute_result"
    }
   ],
   "source": [
    "# shape\n",
    "df.shape"
   ]
  },
  {
   "cell_type": "code",
   "execution_count": 4,
   "metadata": {},
   "outputs": [
    {
     "name": "stdout",
     "output_type": "stream",
     "text": [
      "<class 'pandas.core.frame.DataFrame'>\n",
      "RangeIndex: 10000 entries, 0 to 9999\n",
      "Data columns (total 14 columns):\n",
      "RowNumber          10000 non-null int64\n",
      "CustomerId         10000 non-null int64\n",
      "Surname            10000 non-null object\n",
      "CreditScore        10000 non-null int64\n",
      "Geography          10000 non-null object\n",
      "Gender             10000 non-null object\n",
      "Age                10000 non-null int64\n",
      "Tenure             9091 non-null float64\n",
      "Balance            10000 non-null float64\n",
      "NumOfProducts      10000 non-null int64\n",
      "HasCrCard          10000 non-null int64\n",
      "IsActiveMember     10000 non-null int64\n",
      "EstimatedSalary    10000 non-null float64\n",
      "Exited             10000 non-null int64\n",
      "dtypes: float64(3), int64(8), object(3)\n",
      "memory usage: 1.1+ MB\n"
     ]
    }
   ],
   "source": [
    "# info\n",
    "df.info()"
   ]
  },
  {
   "cell_type": "code",
   "execution_count": 5,
   "metadata": {},
   "outputs": [
    {
     "data": {
      "text/html": [
       "<div>\n",
       "<style scoped>\n",
       "    .dataframe tbody tr th:only-of-type {\n",
       "        vertical-align: middle;\n",
       "    }\n",
       "\n",
       "    .dataframe tbody tr th {\n",
       "        vertical-align: top;\n",
       "    }\n",
       "\n",
       "    .dataframe thead th {\n",
       "        text-align: right;\n",
       "    }\n",
       "</style>\n",
       "<table border=\"1\" class=\"dataframe\">\n",
       "  <thead>\n",
       "    <tr style=\"text-align: right;\">\n",
       "      <th></th>\n",
       "      <th>RowNumber</th>\n",
       "      <th>CustomerId</th>\n",
       "      <th>Surname</th>\n",
       "      <th>CreditScore</th>\n",
       "      <th>Geography</th>\n",
       "      <th>Gender</th>\n",
       "      <th>Age</th>\n",
       "      <th>Tenure</th>\n",
       "      <th>Balance</th>\n",
       "      <th>NumOfProducts</th>\n",
       "      <th>HasCrCard</th>\n",
       "      <th>IsActiveMember</th>\n",
       "      <th>EstimatedSalary</th>\n",
       "      <th>Exited</th>\n",
       "    </tr>\n",
       "  </thead>\n",
       "  <tbody>\n",
       "    <tr>\n",
       "      <td>0</td>\n",
       "      <td>1</td>\n",
       "      <td>15634602</td>\n",
       "      <td>Hargrave</td>\n",
       "      <td>619</td>\n",
       "      <td>France</td>\n",
       "      <td>Female</td>\n",
       "      <td>42</td>\n",
       "      <td>2.0</td>\n",
       "      <td>0.00</td>\n",
       "      <td>1</td>\n",
       "      <td>1</td>\n",
       "      <td>1</td>\n",
       "      <td>101348.88</td>\n",
       "      <td>1</td>\n",
       "    </tr>\n",
       "    <tr>\n",
       "      <td>1</td>\n",
       "      <td>2</td>\n",
       "      <td>15647311</td>\n",
       "      <td>Hill</td>\n",
       "      <td>608</td>\n",
       "      <td>Spain</td>\n",
       "      <td>Female</td>\n",
       "      <td>41</td>\n",
       "      <td>1.0</td>\n",
       "      <td>83807.86</td>\n",
       "      <td>1</td>\n",
       "      <td>0</td>\n",
       "      <td>1</td>\n",
       "      <td>112542.58</td>\n",
       "      <td>0</td>\n",
       "    </tr>\n",
       "    <tr>\n",
       "      <td>2</td>\n",
       "      <td>3</td>\n",
       "      <td>15619304</td>\n",
       "      <td>Onio</td>\n",
       "      <td>502</td>\n",
       "      <td>France</td>\n",
       "      <td>Female</td>\n",
       "      <td>42</td>\n",
       "      <td>8.0</td>\n",
       "      <td>159660.80</td>\n",
       "      <td>3</td>\n",
       "      <td>1</td>\n",
       "      <td>0</td>\n",
       "      <td>113931.57</td>\n",
       "      <td>1</td>\n",
       "    </tr>\n",
       "    <tr>\n",
       "      <td>3</td>\n",
       "      <td>4</td>\n",
       "      <td>15701354</td>\n",
       "      <td>Boni</td>\n",
       "      <td>699</td>\n",
       "      <td>France</td>\n",
       "      <td>Female</td>\n",
       "      <td>39</td>\n",
       "      <td>1.0</td>\n",
       "      <td>0.00</td>\n",
       "      <td>2</td>\n",
       "      <td>0</td>\n",
       "      <td>0</td>\n",
       "      <td>93826.63</td>\n",
       "      <td>0</td>\n",
       "    </tr>\n",
       "    <tr>\n",
       "      <td>4</td>\n",
       "      <td>5</td>\n",
       "      <td>15737888</td>\n",
       "      <td>Mitchell</td>\n",
       "      <td>850</td>\n",
       "      <td>Spain</td>\n",
       "      <td>Female</td>\n",
       "      <td>43</td>\n",
       "      <td>2.0</td>\n",
       "      <td>125510.82</td>\n",
       "      <td>1</td>\n",
       "      <td>1</td>\n",
       "      <td>1</td>\n",
       "      <td>79084.10</td>\n",
       "      <td>0</td>\n",
       "    </tr>\n",
       "  </tbody>\n",
       "</table>\n",
       "</div>"
      ],
      "text/plain": [
       "   RowNumber  CustomerId   Surname  CreditScore Geography  Gender  Age  \\\n",
       "0          1    15634602  Hargrave          619    France  Female   42   \n",
       "1          2    15647311      Hill          608     Spain  Female   41   \n",
       "2          3    15619304      Onio          502    France  Female   42   \n",
       "3          4    15701354      Boni          699    France  Female   39   \n",
       "4          5    15737888  Mitchell          850     Spain  Female   43   \n",
       "\n",
       "   Tenure    Balance  NumOfProducts  HasCrCard  IsActiveMember  \\\n",
       "0     2.0       0.00              1          1               1   \n",
       "1     1.0   83807.86              1          0               1   \n",
       "2     8.0  159660.80              3          1               0   \n",
       "3     1.0       0.00              2          0               0   \n",
       "4     2.0  125510.82              1          1               1   \n",
       "\n",
       "   EstimatedSalary  Exited  \n",
       "0        101348.88       1  \n",
       "1        112542.58       0  \n",
       "2        113931.57       1  \n",
       "3         93826.63       0  \n",
       "4         79084.10       0  "
      ]
     },
     "execution_count": 5,
     "metadata": {},
     "output_type": "execute_result"
    }
   ],
   "source": [
    "# top 5 records\n",
    "df.head()"
   ]
  },
  {
   "cell_type": "code",
   "execution_count": 6,
   "metadata": {},
   "outputs": [
    {
     "data": {
      "text/plain": [
       "RowNumber          0.0000\n",
       "CustomerId         0.0000\n",
       "Surname            0.0000\n",
       "CreditScore        0.0000\n",
       "Geography          0.0000\n",
       "Gender             0.0000\n",
       "Age                0.0000\n",
       "Tenure             0.0909\n",
       "Balance            0.0000\n",
       "NumOfProducts      0.0000\n",
       "HasCrCard          0.0000\n",
       "IsActiveMember     0.0000\n",
       "EstimatedSalary    0.0000\n",
       "Exited             0.0000\n",
       "dtype: float64"
      ]
     },
     "execution_count": 6,
     "metadata": {},
     "output_type": "execute_result"
    }
   ],
   "source": [
    "# percent missing\n",
    "df.isnull().mean()"
   ]
  },
  {
   "cell_type": "code",
   "execution_count": 7,
   "metadata": {},
   "outputs": [
    {
     "data": {
      "text/plain": [
       "0"
      ]
     },
     "execution_count": 7,
     "metadata": {},
     "output_type": "execute_result"
    }
   ],
   "source": [
    "# any duplicates?\n",
    "df.duplicated().sum()"
   ]
  },
  {
   "cell_type": "code",
   "execution_count": 8,
   "metadata": {},
   "outputs": [
    {
     "data": {
      "text/plain": [
       "0"
      ]
     },
     "execution_count": 8,
     "metadata": {},
     "output_type": "execute_result"
    }
   ],
   "source": [
    "df['CustomerId'].duplicated().sum()"
   ]
  },
  {
   "cell_type": "code",
   "execution_count": 9,
   "metadata": {},
   "outputs": [
    {
     "data": {
      "text/html": [
       "<div>\n",
       "<style scoped>\n",
       "    .dataframe tbody tr th:only-of-type {\n",
       "        vertical-align: middle;\n",
       "    }\n",
       "\n",
       "    .dataframe tbody tr th {\n",
       "        vertical-align: top;\n",
       "    }\n",
       "\n",
       "    .dataframe thead th {\n",
       "        text-align: right;\n",
       "    }\n",
       "</style>\n",
       "<table border=\"1\" class=\"dataframe\">\n",
       "  <thead>\n",
       "    <tr style=\"text-align: right;\">\n",
       "      <th></th>\n",
       "      <th>RowNumber</th>\n",
       "      <th>CustomerId</th>\n",
       "      <th>CreditScore</th>\n",
       "      <th>Age</th>\n",
       "      <th>Tenure</th>\n",
       "      <th>Balance</th>\n",
       "      <th>NumOfProducts</th>\n",
       "      <th>HasCrCard</th>\n",
       "      <th>IsActiveMember</th>\n",
       "      <th>EstimatedSalary</th>\n",
       "      <th>Exited</th>\n",
       "    </tr>\n",
       "  </thead>\n",
       "  <tbody>\n",
       "    <tr>\n",
       "      <td>count</td>\n",
       "      <td>10000.00000</td>\n",
       "      <td>1.000000e+04</td>\n",
       "      <td>10000.000000</td>\n",
       "      <td>10000.000000</td>\n",
       "      <td>9091.000000</td>\n",
       "      <td>10000.000000</td>\n",
       "      <td>10000.000000</td>\n",
       "      <td>10000.00000</td>\n",
       "      <td>10000.000000</td>\n",
       "      <td>10000.000000</td>\n",
       "      <td>10000.000000</td>\n",
       "    </tr>\n",
       "    <tr>\n",
       "      <td>mean</td>\n",
       "      <td>5000.50000</td>\n",
       "      <td>1.569094e+07</td>\n",
       "      <td>650.528800</td>\n",
       "      <td>38.921800</td>\n",
       "      <td>4.997690</td>\n",
       "      <td>76485.889288</td>\n",
       "      <td>1.530200</td>\n",
       "      <td>0.70550</td>\n",
       "      <td>0.515100</td>\n",
       "      <td>100090.239881</td>\n",
       "      <td>0.203700</td>\n",
       "    </tr>\n",
       "    <tr>\n",
       "      <td>std</td>\n",
       "      <td>2886.89568</td>\n",
       "      <td>7.193619e+04</td>\n",
       "      <td>96.653299</td>\n",
       "      <td>10.487806</td>\n",
       "      <td>2.894723</td>\n",
       "      <td>62397.405202</td>\n",
       "      <td>0.581654</td>\n",
       "      <td>0.45584</td>\n",
       "      <td>0.499797</td>\n",
       "      <td>57510.492818</td>\n",
       "      <td>0.402769</td>\n",
       "    </tr>\n",
       "    <tr>\n",
       "      <td>min</td>\n",
       "      <td>1.00000</td>\n",
       "      <td>1.556570e+07</td>\n",
       "      <td>350.000000</td>\n",
       "      <td>18.000000</td>\n",
       "      <td>0.000000</td>\n",
       "      <td>0.000000</td>\n",
       "      <td>1.000000</td>\n",
       "      <td>0.00000</td>\n",
       "      <td>0.000000</td>\n",
       "      <td>11.580000</td>\n",
       "      <td>0.000000</td>\n",
       "    </tr>\n",
       "    <tr>\n",
       "      <td>25%</td>\n",
       "      <td>2500.75000</td>\n",
       "      <td>1.562853e+07</td>\n",
       "      <td>584.000000</td>\n",
       "      <td>32.000000</td>\n",
       "      <td>2.000000</td>\n",
       "      <td>0.000000</td>\n",
       "      <td>1.000000</td>\n",
       "      <td>0.00000</td>\n",
       "      <td>0.000000</td>\n",
       "      <td>51002.110000</td>\n",
       "      <td>0.000000</td>\n",
       "    </tr>\n",
       "    <tr>\n",
       "      <td>50%</td>\n",
       "      <td>5000.50000</td>\n",
       "      <td>1.569074e+07</td>\n",
       "      <td>652.000000</td>\n",
       "      <td>37.000000</td>\n",
       "      <td>5.000000</td>\n",
       "      <td>97198.540000</td>\n",
       "      <td>1.000000</td>\n",
       "      <td>1.00000</td>\n",
       "      <td>1.000000</td>\n",
       "      <td>100193.915000</td>\n",
       "      <td>0.000000</td>\n",
       "    </tr>\n",
       "    <tr>\n",
       "      <td>75%</td>\n",
       "      <td>7500.25000</td>\n",
       "      <td>1.575323e+07</td>\n",
       "      <td>718.000000</td>\n",
       "      <td>44.000000</td>\n",
       "      <td>7.000000</td>\n",
       "      <td>127644.240000</td>\n",
       "      <td>2.000000</td>\n",
       "      <td>1.00000</td>\n",
       "      <td>1.000000</td>\n",
       "      <td>149388.247500</td>\n",
       "      <td>0.000000</td>\n",
       "    </tr>\n",
       "    <tr>\n",
       "      <td>max</td>\n",
       "      <td>10000.00000</td>\n",
       "      <td>1.581569e+07</td>\n",
       "      <td>850.000000</td>\n",
       "      <td>92.000000</td>\n",
       "      <td>10.000000</td>\n",
       "      <td>250898.090000</td>\n",
       "      <td>4.000000</td>\n",
       "      <td>1.00000</td>\n",
       "      <td>1.000000</td>\n",
       "      <td>199992.480000</td>\n",
       "      <td>1.000000</td>\n",
       "    </tr>\n",
       "  </tbody>\n",
       "</table>\n",
       "</div>"
      ],
      "text/plain": [
       "         RowNumber    CustomerId   CreditScore           Age       Tenure  \\\n",
       "count  10000.00000  1.000000e+04  10000.000000  10000.000000  9091.000000   \n",
       "mean    5000.50000  1.569094e+07    650.528800     38.921800     4.997690   \n",
       "std     2886.89568  7.193619e+04     96.653299     10.487806     2.894723   \n",
       "min        1.00000  1.556570e+07    350.000000     18.000000     0.000000   \n",
       "25%     2500.75000  1.562853e+07    584.000000     32.000000     2.000000   \n",
       "50%     5000.50000  1.569074e+07    652.000000     37.000000     5.000000   \n",
       "75%     7500.25000  1.575323e+07    718.000000     44.000000     7.000000   \n",
       "max    10000.00000  1.581569e+07    850.000000     92.000000    10.000000   \n",
       "\n",
       "             Balance  NumOfProducts    HasCrCard  IsActiveMember  \\\n",
       "count   10000.000000   10000.000000  10000.00000    10000.000000   \n",
       "mean    76485.889288       1.530200      0.70550        0.515100   \n",
       "std     62397.405202       0.581654      0.45584        0.499797   \n",
       "min         0.000000       1.000000      0.00000        0.000000   \n",
       "25%         0.000000       1.000000      0.00000        0.000000   \n",
       "50%     97198.540000       1.000000      1.00000        1.000000   \n",
       "75%    127644.240000       2.000000      1.00000        1.000000   \n",
       "max    250898.090000       4.000000      1.00000        1.000000   \n",
       "\n",
       "       EstimatedSalary        Exited  \n",
       "count     10000.000000  10000.000000  \n",
       "mean     100090.239881      0.203700  \n",
       "std       57510.492818      0.402769  \n",
       "min          11.580000      0.000000  \n",
       "25%       51002.110000      0.000000  \n",
       "50%      100193.915000      0.000000  \n",
       "75%      149388.247500      0.000000  \n",
       "max      199992.480000      1.000000  "
      ]
     },
     "execution_count": 9,
     "metadata": {},
     "output_type": "execute_result"
    }
   ],
   "source": [
    "# number summary\n",
    "df.describe()"
   ]
  },
  {
   "cell_type": "markdown",
   "metadata": {},
   "source": [
    "**Conclusion**\n",
    "\n",
    "1) Each observation describes a customers behavior with respect to his `CreditScore`, `Tenure`, `Balance`, etc, and whether he\n",
    "has `Exited` the Bank or not. There are 100000 customers each described by 13 features. (Excluding row number)\n",
    "\n",
    "2) There are no duplicate customers in the dataset.\n",
    "\n",
    "3) `Tenure` is the old field with missing values; the missingness is 9% of all observations.\n",
    "\n",
    "4) There are extreme values in the following fields: `Age`, `Balance` and `EstimatedSalary` fields."
   ]
  },
  {
   "cell_type": "markdown",
   "metadata": {},
   "source": [
    "#### Prepare the data\n",
    "\n",
    "    1) Remove `RowNumber` as it redundant. Also remove `CustomerId` and `Surname` as they are not required during modeling."
   ]
  },
  {
   "cell_type": "code",
   "execution_count": 10,
   "metadata": {},
   "outputs": [],
   "source": [
    "new_df = df.drop(['RowNumber', 'CustomerId', 'Surname'], axis=1)"
   ]
  },
  {
   "cell_type": "markdown",
   "metadata": {},
   "source": [
    "#### Fill missing value\n",
    "\n",
    "1) Populate the missing `Tenure` using the probability of ocurrence of each `Tenure` in the distributiob."
   ]
  },
  {
   "cell_type": "code",
   "execution_count": 11,
   "metadata": {},
   "outputs": [
    {
     "data": {
      "text/plain": [
       "1.0     0.104719\n",
       "2.0     0.104499\n",
       "8.0     0.102629\n",
       "3.0     0.102079\n",
       "5.0     0.101969\n",
       "7.0     0.101749\n",
       "4.0     0.097349\n",
       "9.0     0.097019\n",
       "6.0     0.096909\n",
       "10.0    0.049060\n",
       "0.0     0.042020\n",
       "Name: Tenure, dtype: float64"
      ]
     },
     "execution_count": 11,
     "metadata": {},
     "output_type": "execute_result"
    }
   ],
   "source": [
    "# distribution before filling missing Tenure\n",
    "new_df['Tenure'].value_counts(normalize=True)"
   ]
  },
  {
   "cell_type": "code",
   "execution_count": 12,
   "metadata": {},
   "outputs": [],
   "source": [
    "np.random.seed(42)\n",
    "size = new_df['Tenure'].isnull().sum()\n",
    "p = new_df['Tenure'].value_counts(normalize=True).values\n",
    "arr = new_df['Tenure'].value_counts(normalize=True).index\n",
    "new_df.loc[new_df['Tenure'].isnull(), 'Tenure'] = np.random.choice(arr, p=p, size=size)"
   ]
  },
  {
   "cell_type": "code",
   "execution_count": 13,
   "metadata": {},
   "outputs": [
    {
     "data": {
      "text/plain": [
       "1.0     0.1057\n",
       "2.0     0.1057\n",
       "3.0     0.1025\n",
       "7.0     0.1020\n",
       "8.0     0.1016\n",
       "5.0     0.1007\n",
       "4.0     0.0975\n",
       "6.0     0.0972\n",
       "9.0     0.0962\n",
       "10.0    0.0490\n",
       "0.0     0.0419\n",
       "Name: Tenure, dtype: float64"
      ]
     },
     "execution_count": 13,
     "metadata": {},
     "output_type": "execute_result"
    }
   ],
   "source": [
    "# distribution after filling missing Tenure\n",
    "new_df['Tenure'].value_counts(normalize=True)"
   ]
  },
  {
   "cell_type": "markdown",
   "metadata": {},
   "source": [
    " The distribution has changed slightly. 3 has fallen 2 places. 4 and 9 have swapped positions."
   ]
  },
  {
   "cell_type": "markdown",
   "metadata": {},
   "source": [
    "#### Change the dtypes\n",
    "\n",
    "1) Change the dtypes for `CreditScore`, `Age`, `Tenure`, `NumOfProducts`, `HasCrCard`, `IsActiveMember` and `Exited`."
   ]
  },
  {
   "cell_type": "code",
   "execution_count": 14,
   "metadata": {},
   "outputs": [],
   "source": [
    "def change_dtypes(df, field, dtype='np.int16'):\n",
    "    \"\"\"\n",
    "    Change or lower the dtype for an existing\n",
    "    field\n",
    "    \"\"\"\n",
    "    try:\n",
    "        df[field] = df[field].astype(dtype=dtype)\n",
    "    except:\n",
    "        print(f'Dtype conversion failed for {field}')"
   ]
  },
  {
   "cell_type": "code",
   "execution_count": 15,
   "metadata": {},
   "outputs": [],
   "source": [
    "cols = {\n",
    "        'CreditScore': np.uint16, \n",
    "        'Age': np.uint16,\n",
    "        'Tenure': np.uint8, \n",
    "        'NumOfProducts': np.uint8, \n",
    "        'HasCrCard': np.uint8, \n",
    "        'IsActiveMember': np.uint8,\n",
    "        'Exited': np.uint8\n",
    "}\n",
    "for field, dtype in cols.items():\n",
    "    change_dtypes(new_df, field, dtype)"
   ]
  },
  {
   "cell_type": "code",
   "execution_count": 16,
   "metadata": {},
   "outputs": [
    {
     "name": "stdout",
     "output_type": "stream",
     "text": [
      "<class 'pandas.core.frame.DataFrame'>\n",
      "RangeIndex: 10000 entries, 0 to 9999\n",
      "Data columns (total 11 columns):\n",
      "CreditScore        10000 non-null uint16\n",
      "Geography          10000 non-null object\n",
      "Gender             10000 non-null object\n",
      "Age                10000 non-null uint16\n",
      "Tenure             10000 non-null uint8\n",
      "Balance            10000 non-null float64\n",
      "NumOfProducts      10000 non-null uint8\n",
      "HasCrCard          10000 non-null uint8\n",
      "IsActiveMember     10000 non-null uint8\n",
      "EstimatedSalary    10000 non-null float64\n",
      "Exited             10000 non-null uint8\n",
      "dtypes: float64(2), object(2), uint16(2), uint8(5)\n",
      "memory usage: 400.5+ KB\n"
     ]
    }
   ],
   "source": [
    "new_df.info()"
   ]
  },
  {
   "cell_type": "markdown",
   "metadata": {},
   "source": [
    "The memory footprint has reduced by more than half."
   ]
  },
  {
   "cell_type": "markdown",
   "metadata": {},
   "source": [
    "#### Plot some distributions"
   ]
  },
  {
   "cell_type": "code",
   "execution_count": 17,
   "metadata": {},
   "outputs": [
    {
     "data": {
      "image/png": "[encoded data removed]",
      "text/plain": [
       "<Figure size 1440x1440 with 6 Axes>"
      ]
     },
     "metadata": {
      "needs_background": "light"
     },
     "output_type": "display_data"
    }
   ],
   "source": [
    "cols = ['Balance', 'EstimatedSalary', 'CreditScore', 'Age', 'Tenure', 'NumOfProducts']\n",
    "new_df[cols].hist(bins=25, figsize=(20, 20))\n",
    "plt.show()"
   ]
  },
  {
   "cell_type": "code",
   "execution_count": 18,
   "metadata": {},
   "outputs": [],
   "source": [
    "# c, b, _ = plt.hist(new_df['Balance'], bins=25)\n",
    "# b[12]\n",
    "\n",
    "# c, b, _ = plt.hist(new_df['CreditScore'], bins=25)\n",
    "# b[16]\n",
    "\n",
    "# c, b, _ = plt.hist(new_df['EstimatedSalary'], bins=25)\n",
    "# c"
   ]
  },
  {
   "cell_type": "markdown",
   "metadata": {},
   "source": [
    "1) `Age` is a right skewed distribution peaking at 35 years.\n",
    "\n",
    "2) Except for the odd spike at $0, `Balance` appears to be normally distributed peaking around $120K.\n",
    "\n",
    "3) `CreditScore` is slightly left skewed with a peak score of 670.\n",
    "\n",
    "4) The `EstimatedSalary` appears close to uniform.\n",
    "\n",
    "5) Most frequently occuring `NumOfProducts` is 1. "
   ]
  },
  {
   "cell_type": "code",
   "execution_count": 19,
   "metadata": {},
   "outputs": [],
   "source": [
    "def bar_plot(df, field, stack, ax=None, aggfunc='size', title=None):\n",
    "    \"\"\"\n",
    "    Plot stacked bar plot showing the influence of the \n",
    "    target variable on the independent variable\n",
    "    \"\"\"\n",
    "    df.pivot_table(index=field, columns=stack, aggfunc=aggfunc).plot(kind='bar',\n",
    "                                                                    stacked=False,\n",
    "                                                                    title=title, \n",
    "                                                                    ax=ax,\n",
    "#                                                                    fontsize=20,\n",
    "                                                                    figsize=(15, 15))\n",
    "    plt.tight_layout()"
   ]
  },
  {
   "cell_type": "code",
   "execution_count": 20,
   "metadata": {},
   "outputs": [
    {
     "data": {
      "image/png": "[encoded data removed]",
      "text/plain": [
       "<Figure size 1080x1080 with 4 Axes>"
      ]
     },
     "metadata": {
      "needs_background": "light"
     },
     "output_type": "display_data"
    }
   ],
   "source": [
    "_, axes = plt.subplots(2, 2, figsize=(9, 7))\n",
    "cols = {\n",
    "        'Gender': 'Gender distribution by Exited',\n",
    "        'Geography': 'Geography distribution by Exited',\n",
    "        'HasCrCard': 'Has Credit card distribution by Exited',\n",
    "        'IsActiveMember': 'Activeness distribution by Exited', \n",
    "}\n",
    "for i, (field, title) in enumerate(cols.items()):\n",
    "    bar_plot(df, field, 'Exited', aggfunc='size', ax=axes.flatten()[i], title=title)"
   ]
  },
  {
   "cell_type": "markdown",
   "metadata": {},
   "source": [
    "1) There are more Males than Female customers. Among those who exited in this feature, Females show a higher inclination of exiting the bank.\n",
    "\n",
    "2) Geogrpahy wise, France has the most customers, and who appear to be more loyal. In contrast, Germany has a higher\n",
    "proportion of exits relative to the number of customers in that location.\n",
    "\n",
    "3) Most customers have a credit card.\n",
    "\n",
    "4) There are a relatively higher number of customers who are active."
   ]
  },
  {
   "cell_type": "code",
   "execution_count": 21,
   "metadata": {},
   "outputs": [],
   "source": [
    "# def plot_attribute_by_plan(df, grp_var, var, kind='hist', figsize=(7, 5), \n",
    "#                          is_line=False, bins=50, title=None,\n",
    "#                           label1='', label2=''):\n",
    "#     \"\"\"\n",
    "#     Plot histogram of numeric values\n",
    "#     by target\n",
    "#     \"\"\"\n",
    "#     df_ = df.copy(deep=True)\n",
    "#     plan_dict = dict(zip(df_.groupby(grp_var)[var].mean().index, \n",
    "#                  df_.groupby(grp_var)[var].mean().values))\n",
    "#     fig = plt.figure(figsize=figsize)\n",
    "#     if is_line:\n",
    "#         df_.set_index('reg_date', inplace=True)\n",
    "#         df_.groupby(grp_var)[var].plot(legend=True, title=title)\n",
    "#         plt.axhline(plan_dict['Exited'], color='g', linestyle='-', label=label1)\n",
    "#         plt.axhline(plan_dict['NotExited'], color='r', linestyle='--', label=label2)\n",
    "#     else:\n",
    "#         df_.groupby(grp_var)[var].plot(kind=kind, legend=True, bins=bins, title=title)\n",
    "#         plt.axvline(plan_dict['Exited'], color='g', linestyle='-', label=label1)\n",
    "#         plt.axvline(plan_dict['NotExited'], color='r', linestyle='--', label=label2)\n",
    "#     plt.legend()\n",
    "#     plt.show()\n",
    "\n",
    "# plot_attribute_by_plan(combined, grp_var, var, kind='hist', figsize=(9, 5), \n",
    "#                          bins=30, title='Distribution of revenue by plan type - 2018',\n",
    "#                       label1='mean_', label2='mean_',\n",
    "#                       )"
   ]
  },
  {
   "cell_type": "code",
   "execution_count": 22,
   "metadata": {},
   "outputs": [
    {
     "data": {
      "text/plain": [
       "0    0.7963\n",
       "1    0.2037\n",
       "Name: Exited, dtype: float64"
      ]
     },
     "execution_count": 22,
     "metadata": {},
     "output_type": "execute_result"
    }
   ],
   "source": [
    "new_df['Exited'].value_counts(normalize=True)"
   ]
  },
  {
   "cell_type": "markdown",
   "metadata": {},
   "source": [
    "1) 20% of the population has exited the bank."
   ]
  },
  {
   "cell_type": "code",
   "execution_count": 23,
   "metadata": {},
   "outputs": [
    {
     "data": {
      "image/png": "[encoded data removed]",
      "text/plain": [
       "<Figure size 648x648 with 2 Axes>"
      ]
     },
     "metadata": {
      "needs_background": "light"
     },
     "output_type": "display_data"
    }
   ],
   "source": [
    "cols = ['CreditScore', 'Balance', 'Age', 'EstimatedSalary', 'Tenure', 'NumOfProducts',\n",
    "        'HasCrCard', 'IsActiveMember', 'Exited']\n",
    "plt.figure(figsize=(9, 9))\n",
    "sns.heatmap(new_df[cols].corr(), annot=True, cmap=\"RdYlGn\")\n",
    "plt.title(\"Heatmap of some important features\")\n",
    "plt.show()"
   ]
  },
  {
   "cell_type": "markdown",
   "metadata": {},
   "source": [
    "1) `Age`, `Balance` show some positive correlation with `Exited`.\n",
    "\n",
    "2) `IsActiveMember` has a slight negative correlation with `Exited`\n",
    "\n",
    "3) Higher the `Balance` lesser the `NumOfProducts`.\n",
    "\n",
    "4) There is barely any correlation between `Balance` and `EstimatedSalary`."
   ]
  },
  {
   "cell_type": "markdown",
   "metadata": {},
   "source": [
    "#### Create a new field\n",
    "\n",
    "1) `EstimatedSalary` / `Balance` \n",
    "\n",
    "For every dollar saved, what is the estimated earning potential."
   ]
  },
  {
   "cell_type": "code",
   "execution_count": 24,
   "metadata": {},
   "outputs": [],
   "source": [
    "def create_salary_ratio(row):\n",
    "    \"\"\"\n",
    "    Create a new field, which is\n",
    "    the ratio of EstimatedSalary\n",
    "    and Balance\n",
    "    \"\"\"\n",
    "    sal, bal = row[0], row[1]\n",
    "    if bal == 0:\n",
    "        return bal\n",
    "    return sal / bal"
   ]
  },
  {
   "cell_type": "code",
   "execution_count": 25,
   "metadata": {},
   "outputs": [],
   "source": [
    "new_df['Salary_ratio'] = new_df[['EstimatedSalary', 'Balance']].apply(create_salary_ratio, axis=1) "
   ]
  },
  {
   "cell_type": "code",
   "execution_count": 26,
   "metadata": {},
   "outputs": [
    {
     "data": {
      "text/plain": [
       "0    0.861764\n",
       "1    0.138236\n",
       "Name: Exited, dtype: float64"
      ]
     },
     "execution_count": 26,
     "metadata": {},
     "output_type": "execute_result"
    }
   ],
   "source": [
    "# those with no balance\n",
    "new_df[new_df['Salary_ratio'] == 0]['Exited'].value_counts(normalize=True)"
   ]
  },
  {
   "cell_type": "code",
   "execution_count": 27,
   "metadata": {},
   "outputs": [
    {
     "data": {
      "text/plain": [
       "0    0.761729\n",
       "1    0.238271\n",
       "Name: Exited, dtype: float64"
      ]
     },
     "execution_count": 27,
     "metadata": {},
     "output_type": "execute_result"
    }
   ],
   "source": [
    "# those with some balance between 0 and 1\n",
    "new_df[(new_df['Salary_ratio'] > 0) & \n",
    "      (new_df['Salary_ratio'] < 1)]['Exited'].value_counts(normalize=True)"
   ]
  },
  {
   "cell_type": "code",
   "execution_count": 28,
   "metadata": {},
   "outputs": [
    {
     "data": {
      "text/plain": [
       "0    0.755504\n",
       "1    0.244496\n",
       "Name: Exited, dtype: float64"
      ]
     },
     "execution_count": 28,
     "metadata": {},
     "output_type": "execute_result"
    }
   ],
   "source": [
    "# those with some balance between 0 and 1\n",
    "new_df[(new_df['Salary_ratio'] > 1)]['Exited'].value_counts(normalize=True)"
   ]
  },
  {
   "cell_type": "markdown",
   "metadata": {},
   "source": [
    "1) In these 3 categories: 1) those with no balance, 2) with some balance between 0 and 1, and 3) with balance greater\n",
    "than 1. The latter category witnesses a higher proportion of exits. At first this might seem jarring, but when you \n",
    "think about it, it is obvious that those customers with higher earning capacity will expect better products and services. And, they won't hestiate to leave if their needs are unmet."
   ]
  },
  {
   "cell_type": "markdown",
   "metadata": {},
   "source": [
    "### Model training with class imbalance ignored"
   ]
  },
  {
   "cell_type": "markdown",
   "metadata": {},
   "source": [
    "1) Let us create 2 datasets, one for Logistic Regression, and another for RandomForestClassifier.\n",
    "\n",
    "For LogisticRegression, we will perform scaling and dummy enconding of `Gender` and `Geography`. We will consider\n",
    "`HasCrCredit` and `IsActiveCustomer` if it helps improve F1 score."
   ]
  },
  {
   "cell_type": "code",
   "execution_count": 29,
   "metadata": {},
   "outputs": [],
   "source": [
    "logreg_df = pd.get_dummies(new_df, columns=['Gender', 'Geography'], drop_first=True)"
   ]
  },
  {
   "cell_type": "code",
   "execution_count": 30,
   "metadata": {},
   "outputs": [
    {
     "data": {
      "text/plain": [
       "(10000, 13)"
      ]
     },
     "execution_count": 30,
     "metadata": {},
     "output_type": "execute_result"
    }
   ],
   "source": [
    "logreg_df.shape"
   ]
  },
  {
   "cell_type": "code",
   "execution_count": 31,
   "metadata": {},
   "outputs": [
    {
     "data": {
      "text/html": [
       "<div>\n",
       "<style scoped>\n",
       "    .dataframe tbody tr th:only-of-type {\n",
       "        vertical-align: middle;\n",
       "    }\n",
       "\n",
       "    .dataframe tbody tr th {\n",
       "        vertical-align: top;\n",
       "    }\n",
       "\n",
       "    .dataframe thead th {\n",
       "        text-align: right;\n",
       "    }\n",
       "</style>\n",
       "<table border=\"1\" class=\"dataframe\">\n",
       "  <thead>\n",
       "    <tr style=\"text-align: right;\">\n",
       "      <th></th>\n",
       "      <th>CreditScore</th>\n",
       "      <th>Age</th>\n",
       "      <th>Tenure</th>\n",
       "      <th>Balance</th>\n",
       "      <th>NumOfProducts</th>\n",
       "      <th>HasCrCard</th>\n",
       "      <th>IsActiveMember</th>\n",
       "      <th>EstimatedSalary</th>\n",
       "      <th>Exited</th>\n",
       "      <th>Salary_ratio</th>\n",
       "      <th>Gender_Male</th>\n",
       "      <th>Geography_Germany</th>\n",
       "      <th>Geography_Spain</th>\n",
       "    </tr>\n",
       "  </thead>\n",
       "  <tbody>\n",
       "    <tr>\n",
       "      <td>0</td>\n",
       "      <td>619</td>\n",
       "      <td>42</td>\n",
       "      <td>2</td>\n",
       "      <td>0.00</td>\n",
       "      <td>1</td>\n",
       "      <td>1</td>\n",
       "      <td>1</td>\n",
       "      <td>101348.88</td>\n",
       "      <td>1</td>\n",
       "      <td>0.000000</td>\n",
       "      <td>0</td>\n",
       "      <td>0</td>\n",
       "      <td>0</td>\n",
       "    </tr>\n",
       "    <tr>\n",
       "      <td>1</td>\n",
       "      <td>608</td>\n",
       "      <td>41</td>\n",
       "      <td>1</td>\n",
       "      <td>83807.86</td>\n",
       "      <td>1</td>\n",
       "      <td>0</td>\n",
       "      <td>1</td>\n",
       "      <td>112542.58</td>\n",
       "      <td>0</td>\n",
       "      <td>1.342864</td>\n",
       "      <td>0</td>\n",
       "      <td>0</td>\n",
       "      <td>1</td>\n",
       "    </tr>\n",
       "    <tr>\n",
       "      <td>2</td>\n",
       "      <td>502</td>\n",
       "      <td>42</td>\n",
       "      <td>8</td>\n",
       "      <td>159660.80</td>\n",
       "      <td>3</td>\n",
       "      <td>1</td>\n",
       "      <td>0</td>\n",
       "      <td>113931.57</td>\n",
       "      <td>1</td>\n",
       "      <td>0.713585</td>\n",
       "      <td>0</td>\n",
       "      <td>0</td>\n",
       "      <td>0</td>\n",
       "    </tr>\n",
       "    <tr>\n",
       "      <td>3</td>\n",
       "      <td>699</td>\n",
       "      <td>39</td>\n",
       "      <td>1</td>\n",
       "      <td>0.00</td>\n",
       "      <td>2</td>\n",
       "      <td>0</td>\n",
       "      <td>0</td>\n",
       "      <td>93826.63</td>\n",
       "      <td>0</td>\n",
       "      <td>0.000000</td>\n",
       "      <td>0</td>\n",
       "      <td>0</td>\n",
       "      <td>0</td>\n",
       "    </tr>\n",
       "    <tr>\n",
       "      <td>4</td>\n",
       "      <td>850</td>\n",
       "      <td>43</td>\n",
       "      <td>2</td>\n",
       "      <td>125510.82</td>\n",
       "      <td>1</td>\n",
       "      <td>1</td>\n",
       "      <td>1</td>\n",
       "      <td>79084.10</td>\n",
       "      <td>0</td>\n",
       "      <td>0.630098</td>\n",
       "      <td>0</td>\n",
       "      <td>0</td>\n",
       "      <td>1</td>\n",
       "    </tr>\n",
       "  </tbody>\n",
       "</table>\n",
       "</div>"
      ],
      "text/plain": [
       "   CreditScore  Age  Tenure    Balance  NumOfProducts  HasCrCard  \\\n",
       "0          619   42       2       0.00              1          1   \n",
       "1          608   41       1   83807.86              1          0   \n",
       "2          502   42       8  159660.80              3          1   \n",
       "3          699   39       1       0.00              2          0   \n",
       "4          850   43       2  125510.82              1          1   \n",
       "\n",
       "   IsActiveMember  EstimatedSalary  Exited  Salary_ratio  Gender_Male  \\\n",
       "0               1        101348.88       1      0.000000            0   \n",
       "1               1        112542.58       0      1.342864            0   \n",
       "2               0        113931.57       1      0.713585            0   \n",
       "3               0         93826.63       0      0.000000            0   \n",
       "4               1         79084.10       0      0.630098            0   \n",
       "\n",
       "   Geography_Germany  Geography_Spain  \n",
       "0                  0                0  \n",
       "1                  0                1  \n",
       "2                  0                0  \n",
       "3                  0                0  \n",
       "4                  0                1  "
      ]
     },
     "execution_count": 31,
     "metadata": {},
     "output_type": "execute_result"
    }
   ],
   "source": [
    "logreg_df.head()"
   ]
  },
  {
   "cell_type": "code",
   "execution_count": 32,
   "metadata": {},
   "outputs": [],
   "source": [
    "def split_datasets(X, test_size=0.2, stratify=True, target=None, \n",
    "                   random_state=42):\n",
    "    \"\"\"\n",
    "    Split the datasets into train, valid and test sets\n",
    "    \"\"\"\n",
    "    if stratify:\n",
    "        train_df, valid_df = train_test_split(X, test_size=test_size, stratify=X[target], random_state=random_state)\n",
    "        train_df, test_df = train_test_split(train_df, test_size=test_size, stratify=train_df[target], random_state=random_state)\n",
    "    else:\n",
    "        train_df, valid_df = train_test_split(X, test_size=test_size, random_state=random_state)\n",
    "        train_df, test_df = train_test_split(train_df, test_size=test_size, random_state=random_state)\n",
    "    return train_df, valid_df, test_df"
   ]
  },
  {
   "cell_type": "code",
   "execution_count": 33,
   "metadata": {},
   "outputs": [],
   "source": [
    "X = logreg_df\n",
    "target = 'Exited'\n",
    "train_lr, valid_lr, test_lr = split_datasets(X, test_size=0.2, stratify=True, target=target, \n",
    "                                             random_state=42)"
   ]
  },
  {
   "cell_type": "code",
   "execution_count": 34,
   "metadata": {},
   "outputs": [
    {
     "data": {
      "text/plain": [
       "((6400, 13), (2000, 13), (1600, 13))"
      ]
     },
     "execution_count": 34,
     "metadata": {},
     "output_type": "execute_result"
    }
   ],
   "source": [
    "# shapes\n",
    "train_lr.shape, valid_lr.shape, test_lr.shape "
   ]
  },
  {
   "cell_type": "code",
   "execution_count": 35,
   "metadata": {},
   "outputs": [],
   "source": [
    "train_lr_feats = train_lr.drop(['Exited'], axis=1)\n",
    "valid_lr_feats = valid_lr.drop(['Exited'], axis=1)\n",
    "test_lr_feats = test_lr.drop(['Exited'], axis=1)\n",
    "target_train_lr = train_lr['Exited']\n",
    "target_valid_lr = valid_lr['Exited']\n",
    "target_test_lr = test_lr['Exited']"
   ]
  },
  {
   "cell_type": "code",
   "execution_count": 36,
   "metadata": {},
   "outputs": [],
   "source": [
    "# delete the intermediate df\n",
    "del train_lr; del valid_lr; del test_lr"
   ]
  },
  {
   "cell_type": "code",
   "execution_count": 37,
   "metadata": {},
   "outputs": [],
   "source": [
    "# apply scaling to the train set\n",
    "std = StandardScaler()\n",
    "std.fit(train_lr_feats)\n",
    "train_lr_std = std.transform(train_lr_feats)\n",
    "valid_lr_std = std.transform(valid_lr_feats)\n",
    "test_lr_std = std.transform(test_lr_feats)"
   ]
  },
  {
   "cell_type": "code",
   "execution_count": 38,
   "metadata": {},
   "outputs": [],
   "source": [
    "# save columns created from dummy encoding\n",
    "cols_list = train_lr_feats.columns"
   ]
  },
  {
   "cell_type": "code",
   "execution_count": 39,
   "metadata": {},
   "outputs": [
    {
     "data": {
      "text/plain": [
       "((6400, 12), (2000, 12), (1600, 12))"
      ]
     },
     "execution_count": 39,
     "metadata": {},
     "output_type": "execute_result"
    }
   ],
   "source": [
    "# shapes\n",
    "train_lr_std.shape, valid_lr_std.shape, test_lr_std.shape"
   ]
  },
  {
   "cell_type": "code",
   "execution_count": 40,
   "metadata": {},
   "outputs": [],
   "source": [
    "# delete the intermeidate df\n",
    "del train_lr_feats; del valid_lr_feats; del test_lr_feats"
   ]
  },
  {
   "cell_type": "code",
   "execution_count": 41,
   "metadata": {},
   "outputs": [],
   "source": [
    "def fit_model(sk_model, train_X, train_y, valid_X, valid_y, \n",
    "              hyperparameters={}, model_name='', is_lr=False, \n",
    "             is_imbalance=False):\n",
    "    \"\"\"\n",
    "    Build various models with their choice\n",
    "    of hyperparameter which is a dictionary\n",
    "    \"\"\"\n",
    "    results = pd.DataFrame()\n",
    "    acc = []\n",
    "    f1 = []\n",
    "    param = {}\n",
    "    if is_imbalance:\n",
    "        param.update(class_weight = 'balanced')\n",
    "    num_test = np.arange(1, len(list(hyperparameters.values())[0])+1)\n",
    "    best_f1 = 0\n",
    "    best_model = None\n",
    "    for val in list(hyperparameters.values())[0]:\n",
    "        arg = list(hyperparameters.keys())[0]\n",
    "        param = {arg: val}\n",
    "        if is_lr:\n",
    "            param.update(solver = 'liblinear')\n",
    "        model = sk_model(**param, random_state=42)\n",
    "        model.fit(train_X, train_y)\n",
    "        preds = model.predict(valid_X)\n",
    "        r = f1_score(valid_y, preds)\n",
    "        a = accuracy_score(valid_y, preds)\n",
    "        acc.append(a)\n",
    "        f1.append(r)\n",
    "        if r > best_f1:\n",
    "            # print('Best f1', r)\n",
    "            # print('Best model', model)\n",
    "            best_f1 = r\n",
    "            best_model = model\n",
    "    return best_model, pd.DataFrame({'num_tests': num_test, \n",
    "                                     'accuracy': acc, \n",
    "                                     'f1_score': f1,\n",
    "                                     'model': model_name})  "
   ]
  },
  {
   "cell_type": "code",
   "execution_count": 42,
   "metadata": {},
   "outputs": [],
   "source": [
    "hyperparameters = {\n",
    "    'C': [.0000001, .000001, .00001, .0001, .001, .01, .1, 1, 10, 100],\n",
    "    'solver': 'liblinear'\n",
    "}\n",
    "best_lr_model, lr_results = fit_model(LogisticRegression, train_lr_std, target_train_lr, valid_lr_std, target_valid_lr, \n",
    "              hyperparameters=hyperparameters, is_lr=True, model_name='LR')"
   ]
  },
  {
   "cell_type": "code",
   "execution_count": 43,
   "metadata": {},
   "outputs": [
    {
     "data": {
      "text/html": [
       "<div>\n",
       "<style scoped>\n",
       "    .dataframe tbody tr th:only-of-type {\n",
       "        vertical-align: middle;\n",
       "    }\n",
       "\n",
       "    .dataframe tbody tr th {\n",
       "        vertical-align: top;\n",
       "    }\n",
       "\n",
       "    .dataframe thead th {\n",
       "        text-align: right;\n",
       "    }\n",
       "</style>\n",
       "<table border=\"1\" class=\"dataframe\">\n",
       "  <thead>\n",
       "    <tr style=\"text-align: right;\">\n",
       "      <th></th>\n",
       "      <th>num_tests</th>\n",
       "      <th>accuracy</th>\n",
       "      <th>f1_score</th>\n",
       "      <th>model</th>\n",
       "    </tr>\n",
       "  </thead>\n",
       "  <tbody>\n",
       "    <tr>\n",
       "      <td>0</td>\n",
       "      <td>1</td>\n",
       "      <td>0.8035</td>\n",
       "      <td>0.296959</td>\n",
       "      <td>LR</td>\n",
       "    </tr>\n",
       "    <tr>\n",
       "      <td>1</td>\n",
       "      <td>2</td>\n",
       "      <td>0.8035</td>\n",
       "      <td>0.296959</td>\n",
       "      <td>LR</td>\n",
       "    </tr>\n",
       "    <tr>\n",
       "      <td>2</td>\n",
       "      <td>3</td>\n",
       "      <td>0.8045</td>\n",
       "      <td>0.298025</td>\n",
       "      <td>LR</td>\n",
       "    </tr>\n",
       "    <tr>\n",
       "      <td>3</td>\n",
       "      <td>4</td>\n",
       "      <td>0.8040</td>\n",
       "      <td>0.274074</td>\n",
       "      <td>LR</td>\n",
       "    </tr>\n",
       "    <tr>\n",
       "      <td>4</td>\n",
       "      <td>5</td>\n",
       "      <td>0.8090</td>\n",
       "      <td>0.242063</td>\n",
       "      <td>LR</td>\n",
       "    </tr>\n",
       "    <tr>\n",
       "      <td>5</td>\n",
       "      <td>6</td>\n",
       "      <td>0.8110</td>\n",
       "      <td>0.275862</td>\n",
       "      <td>LR</td>\n",
       "    </tr>\n",
       "    <tr>\n",
       "      <td>6</td>\n",
       "      <td>7</td>\n",
       "      <td>0.8085</td>\n",
       "      <td>0.284112</td>\n",
       "      <td>LR</td>\n",
       "    </tr>\n",
       "    <tr>\n",
       "      <td>7</td>\n",
       "      <td>8</td>\n",
       "      <td>0.8090</td>\n",
       "      <td>0.289963</td>\n",
       "      <td>LR</td>\n",
       "    </tr>\n",
       "    <tr>\n",
       "      <td>8</td>\n",
       "      <td>9</td>\n",
       "      <td>0.8085</td>\n",
       "      <td>0.289425</td>\n",
       "      <td>LR</td>\n",
       "    </tr>\n",
       "    <tr>\n",
       "      <td>9</td>\n",
       "      <td>10</td>\n",
       "      <td>0.8085</td>\n",
       "      <td>0.289425</td>\n",
       "      <td>LR</td>\n",
       "    </tr>\n",
       "  </tbody>\n",
       "</table>\n",
       "</div>"
      ],
      "text/plain": [
       "   num_tests  accuracy  f1_score model\n",
       "0          1    0.8035  0.296959    LR\n",
       "1          2    0.8035  0.296959    LR\n",
       "2          3    0.8045  0.298025    LR\n",
       "3          4    0.8040  0.274074    LR\n",
       "4          5    0.8090  0.242063    LR\n",
       "5          6    0.8110  0.275862    LR\n",
       "6          7    0.8085  0.284112    LR\n",
       "7          8    0.8090  0.289963    LR\n",
       "8          9    0.8085  0.289425    LR\n",
       "9         10    0.8085  0.289425    LR"
      ]
     },
     "execution_count": 43,
     "metadata": {},
     "output_type": "execute_result"
    }
   ],
   "source": [
    "# performance of 10 LR models\n",
    "lr_results"
   ]
  },
  {
   "cell_type": "code",
   "execution_count": 44,
   "metadata": {},
   "outputs": [],
   "source": [
    "hyperparameters = {\n",
    "    'n_estimators': np.arange(50, 150, 10)\n",
    "}\n",
    "best_rf_model, rf_results = fit_model(RandomForestClassifier, train_lr_std, target_train_lr, \n",
    "                                      valid_lr_std, target_valid_lr, \n",
    "              hyperparameters=hyperparameters, model_name='RF')"
   ]
  },
  {
   "cell_type": "code",
   "execution_count": 45,
   "metadata": {},
   "outputs": [
    {
     "data": {
      "text/html": [
       "<div>\n",
       "<style scoped>\n",
       "    .dataframe tbody tr th:only-of-type {\n",
       "        vertical-align: middle;\n",
       "    }\n",
       "\n",
       "    .dataframe tbody tr th {\n",
       "        vertical-align: top;\n",
       "    }\n",
       "\n",
       "    .dataframe thead th {\n",
       "        text-align: right;\n",
       "    }\n",
       "</style>\n",
       "<table border=\"1\" class=\"dataframe\">\n",
       "  <thead>\n",
       "    <tr style=\"text-align: right;\">\n",
       "      <th></th>\n",
       "      <th>num_tests</th>\n",
       "      <th>accuracy</th>\n",
       "      <th>f1_score</th>\n",
       "      <th>model</th>\n",
       "    </tr>\n",
       "  </thead>\n",
       "  <tbody>\n",
       "    <tr>\n",
       "      <td>0</td>\n",
       "      <td>1</td>\n",
       "      <td>0.8625</td>\n",
       "      <td>0.566929</td>\n",
       "      <td>RF</td>\n",
       "    </tr>\n",
       "    <tr>\n",
       "      <td>1</td>\n",
       "      <td>2</td>\n",
       "      <td>0.8625</td>\n",
       "      <td>0.566929</td>\n",
       "      <td>RF</td>\n",
       "    </tr>\n",
       "    <tr>\n",
       "      <td>2</td>\n",
       "      <td>3</td>\n",
       "      <td>0.8620</td>\n",
       "      <td>0.560510</td>\n",
       "      <td>RF</td>\n",
       "    </tr>\n",
       "    <tr>\n",
       "      <td>3</td>\n",
       "      <td>4</td>\n",
       "      <td>0.8625</td>\n",
       "      <td>0.562798</td>\n",
       "      <td>RF</td>\n",
       "    </tr>\n",
       "    <tr>\n",
       "      <td>4</td>\n",
       "      <td>5</td>\n",
       "      <td>0.8645</td>\n",
       "      <td>0.567783</td>\n",
       "      <td>RF</td>\n",
       "    </tr>\n",
       "    <tr>\n",
       "      <td>5</td>\n",
       "      <td>6</td>\n",
       "      <td>0.8640</td>\n",
       "      <td>0.565495</td>\n",
       "      <td>RF</td>\n",
       "    </tr>\n",
       "    <tr>\n",
       "      <td>6</td>\n",
       "      <td>7</td>\n",
       "      <td>0.8655</td>\n",
       "      <td>0.570973</td>\n",
       "      <td>RF</td>\n",
       "    </tr>\n",
       "    <tr>\n",
       "      <td>7</td>\n",
       "      <td>8</td>\n",
       "      <td>0.8660</td>\n",
       "      <td>0.573248</td>\n",
       "      <td>RF</td>\n",
       "    </tr>\n",
       "    <tr>\n",
       "      <td>8</td>\n",
       "      <td>9</td>\n",
       "      <td>0.8670</td>\n",
       "      <td>0.577778</td>\n",
       "      <td>RF</td>\n",
       "    </tr>\n",
       "    <tr>\n",
       "      <td>9</td>\n",
       "      <td>10</td>\n",
       "      <td>0.8655</td>\n",
       "      <td>0.570973</td>\n",
       "      <td>RF</td>\n",
       "    </tr>\n",
       "  </tbody>\n",
       "</table>\n",
       "</div>"
      ],
      "text/plain": [
       "   num_tests  accuracy  f1_score model\n",
       "0          1    0.8625  0.566929    RF\n",
       "1          2    0.8625  0.566929    RF\n",
       "2          3    0.8620  0.560510    RF\n",
       "3          4    0.8625  0.562798    RF\n",
       "4          5    0.8645  0.567783    RF\n",
       "5          6    0.8640  0.565495    RF\n",
       "6          7    0.8655  0.570973    RF\n",
       "7          8    0.8660  0.573248    RF\n",
       "8          9    0.8670  0.577778    RF\n",
       "9         10    0.8655  0.570973    RF"
      ]
     },
     "execution_count": 45,
     "metadata": {},
     "output_type": "execute_result"
    }
   ],
   "source": [
    "# performance of RF models\n",
    "rf_results"
   ]
  },
  {
   "cell_type": "code",
   "execution_count": 46,
   "metadata": {},
   "outputs": [],
   "source": [
    "def plot_model_accuracies(df, y_label='F1 score'):\n",
    "    \"\"\"\n",
    "    Plot model accuracies\n",
    "    \"\"\"\n",
    "    for model in df['model'].unique():\n",
    "        df[df['model'] == model]['f1_score'].plot(figsize=(9, 7), \n",
    "                                                  title='F1 scores for different models',\n",
    "                                                  label=model)\n",
    "    plt.legend()\n",
    "    plt.xlabel('Test number')\n",
    "    plt.ylabel(y_label)\n",
    "    plt.show()"
   ]
  },
  {
   "cell_type": "code",
   "execution_count": 47,
   "metadata": {},
   "outputs": [
    {
     "data": {
      "image/png": "[encoded data removed]",
      "text/plain": [
       "<Figure size 648x504 with 1 Axes>"
      ]
     },
     "metadata": {
      "needs_background": "light"
     },
     "output_type": "display_data"
    }
   ],
   "source": [
    "plot_model_accuracies(pd.concat([lr_results, rf_results], axis=0))"
   ]
  },
  {
   "cell_type": "code",
   "execution_count": 48,
   "metadata": {},
   "outputs": [
    {
     "data": {
      "text/plain": [
       "RandomForestClassifier(bootstrap=True, class_weight=None, criterion='gini',\n",
       "                       max_depth=None, max_features='auto', max_leaf_nodes=None,\n",
       "                       min_impurity_decrease=0.0, min_impurity_split=None,\n",
       "                       min_samples_leaf=1, min_samples_split=2,\n",
       "                       min_weight_fraction_leaf=0.0, n_estimators=130,\n",
       "                       n_jobs=None, oob_score=False, random_state=42, verbose=0,\n",
       "                       warm_start=False)"
      ]
     },
     "execution_count": 48,
     "metadata": {},
     "output_type": "execute_result"
    }
   ],
   "source": [
    "best_rf_model"
   ]
  },
  {
   "cell_type": "code",
   "execution_count": 49,
   "metadata": {},
   "outputs": [
    {
     "data": {
      "text/plain": [
       "Age                  0.225097\n",
       "NumOfProducts        0.129093\n",
       "EstimatedSalary      0.126480\n",
       "CreditScore          0.124423\n",
       "Balance              0.108093\n",
       "Salary_ratio         0.097490\n",
       "Tenure               0.072098\n",
       "IsActiveMember       0.042703\n",
       "Geography_Germany    0.023605\n",
       "Gender_Male          0.019278\n",
       "HasCrCard            0.017868\n",
       "Geography_Spain      0.013774\n",
       "dtype: float64"
      ]
     },
     "execution_count": 49,
     "metadata": {},
     "output_type": "execute_result"
    }
   ],
   "source": [
    "# feature importance\n",
    "pd.Series(dict(zip(cols_list, best_rf_model.feature_importances_))).sort_values(ascending=False)"
   ]
  },
  {
   "cell_type": "markdown",
   "metadata": {},
   "source": [
    "1) Clearly on the imbalanced dataset, RandomForestClassifier(RF) has excelled. The best F1 core on the validation set is 0.577 for a model with 130 estimators.\n",
    "\n",
    "2) Top 3 fields are: `Age`, `NumOfProducts`, and `EstimatedSalary`. "
   ]
  },
  {
   "cell_type": "markdown",
   "metadata": {},
   "source": [
    "#### Build RF model using label encoded features\n",
    "\n",
    "1) For RandomForestClassifier, we wil use OrdinalEncoding to encode `Gender` and `Geography`."
   ]
  },
  {
   "cell_type": "code",
   "execution_count": 50,
   "metadata": {},
   "outputs": [],
   "source": [
    "# make a copy of the original df\n",
    "rf_df = new_df.copy(deep=True)"
   ]
  },
  {
   "cell_type": "code",
   "execution_count": 51,
   "metadata": {},
   "outputs": [],
   "source": [
    "cols = ['Gender', 'Geography']\n",
    "oe = OrdinalEncoder()\n",
    "rf_df.loc[:, cols] = oe.fit_transform(rf_df[cols])"
   ]
  },
  {
   "cell_type": "code",
   "execution_count": 52,
   "metadata": {},
   "outputs": [
    {
     "data": {
      "text/plain": [
       "(10000, 12)"
      ]
     },
     "execution_count": 52,
     "metadata": {},
     "output_type": "execute_result"
    }
   ],
   "source": [
    "rf_df.shape"
   ]
  },
  {
   "cell_type": "code",
   "execution_count": 53,
   "metadata": {},
   "outputs": [
    {
     "data": {
      "text/html": [
       "<div>\n",
       "<style scoped>\n",
       "    .dataframe tbody tr th:only-of-type {\n",
       "        vertical-align: middle;\n",
       "    }\n",
       "\n",
       "    .dataframe tbody tr th {\n",
       "        vertical-align: top;\n",
       "    }\n",
       "\n",
       "    .dataframe thead th {\n",
       "        text-align: right;\n",
       "    }\n",
       "</style>\n",
       "<table border=\"1\" class=\"dataframe\">\n",
       "  <thead>\n",
       "    <tr style=\"text-align: right;\">\n",
       "      <th></th>\n",
       "      <th>CreditScore</th>\n",
       "      <th>Geography</th>\n",
       "      <th>Gender</th>\n",
       "      <th>Age</th>\n",
       "      <th>Tenure</th>\n",
       "      <th>Balance</th>\n",
       "      <th>NumOfProducts</th>\n",
       "      <th>HasCrCard</th>\n",
       "      <th>IsActiveMember</th>\n",
       "      <th>EstimatedSalary</th>\n",
       "      <th>Exited</th>\n",
       "      <th>Salary_ratio</th>\n",
       "    </tr>\n",
       "  </thead>\n",
       "  <tbody>\n",
       "    <tr>\n",
       "      <td>0</td>\n",
       "      <td>619</td>\n",
       "      <td>0.0</td>\n",
       "      <td>0.0</td>\n",
       "      <td>42</td>\n",
       "      <td>2</td>\n",
       "      <td>0.00</td>\n",
       "      <td>1</td>\n",
       "      <td>1</td>\n",
       "      <td>1</td>\n",
       "      <td>101348.88</td>\n",
       "      <td>1</td>\n",
       "      <td>0.000000</td>\n",
       "    </tr>\n",
       "    <tr>\n",
       "      <td>1</td>\n",
       "      <td>608</td>\n",
       "      <td>2.0</td>\n",
       "      <td>0.0</td>\n",
       "      <td>41</td>\n",
       "      <td>1</td>\n",
       "      <td>83807.86</td>\n",
       "      <td>1</td>\n",
       "      <td>0</td>\n",
       "      <td>1</td>\n",
       "      <td>112542.58</td>\n",
       "      <td>0</td>\n",
       "      <td>1.342864</td>\n",
       "    </tr>\n",
       "    <tr>\n",
       "      <td>2</td>\n",
       "      <td>502</td>\n",
       "      <td>0.0</td>\n",
       "      <td>0.0</td>\n",
       "      <td>42</td>\n",
       "      <td>8</td>\n",
       "      <td>159660.80</td>\n",
       "      <td>3</td>\n",
       "      <td>1</td>\n",
       "      <td>0</td>\n",
       "      <td>113931.57</td>\n",
       "      <td>1</td>\n",
       "      <td>0.713585</td>\n",
       "    </tr>\n",
       "    <tr>\n",
       "      <td>3</td>\n",
       "      <td>699</td>\n",
       "      <td>0.0</td>\n",
       "      <td>0.0</td>\n",
       "      <td>39</td>\n",
       "      <td>1</td>\n",
       "      <td>0.00</td>\n",
       "      <td>2</td>\n",
       "      <td>0</td>\n",
       "      <td>0</td>\n",
       "      <td>93826.63</td>\n",
       "      <td>0</td>\n",
       "      <td>0.000000</td>\n",
       "    </tr>\n",
       "    <tr>\n",
       "      <td>4</td>\n",
       "      <td>850</td>\n",
       "      <td>2.0</td>\n",
       "      <td>0.0</td>\n",
       "      <td>43</td>\n",
       "      <td>2</td>\n",
       "      <td>125510.82</td>\n",
       "      <td>1</td>\n",
       "      <td>1</td>\n",
       "      <td>1</td>\n",
       "      <td>79084.10</td>\n",
       "      <td>0</td>\n",
       "      <td>0.630098</td>\n",
       "    </tr>\n",
       "  </tbody>\n",
       "</table>\n",
       "</div>"
      ],
      "text/plain": [
       "   CreditScore  Geography  Gender  Age  Tenure    Balance  NumOfProducts  \\\n",
       "0          619        0.0     0.0   42       2       0.00              1   \n",
       "1          608        2.0     0.0   41       1   83807.86              1   \n",
       "2          502        0.0     0.0   42       8  159660.80              3   \n",
       "3          699        0.0     0.0   39       1       0.00              2   \n",
       "4          850        2.0     0.0   43       2  125510.82              1   \n",
       "\n",
       "   HasCrCard  IsActiveMember  EstimatedSalary  Exited  Salary_ratio  \n",
       "0          1               1        101348.88       1      0.000000  \n",
       "1          0               1        112542.58       0      1.342864  \n",
       "2          1               0        113931.57       1      0.713585  \n",
       "3          0               0         93826.63       0      0.000000  \n",
       "4          1               1         79084.10       0      0.630098  "
      ]
     },
     "execution_count": 53,
     "metadata": {},
     "output_type": "execute_result"
    }
   ],
   "source": [
    "rf_df.head()"
   ]
  },
  {
   "cell_type": "code",
   "execution_count": 54,
   "metadata": {},
   "outputs": [],
   "source": [
    "X = rf_df\n",
    "target = 'Exited'\n",
    "train_rf, valid_rf, test_rf = split_datasets(X, test_size=0.2, stratify=True, target=target, \n",
    "                                             random_state=42)"
   ]
  },
  {
   "cell_type": "code",
   "execution_count": 55,
   "metadata": {},
   "outputs": [
    {
     "data": {
      "text/plain": [
       "((6400, 12), (2000, 12), (1600, 12))"
      ]
     },
     "execution_count": 55,
     "metadata": {},
     "output_type": "execute_result"
    }
   ],
   "source": [
    "# shapes\n",
    "train_rf.shape, valid_rf.shape, test_rf.shape "
   ]
  },
  {
   "cell_type": "code",
   "execution_count": 56,
   "metadata": {},
   "outputs": [],
   "source": [
    "train_rf_feats = train_rf.drop(['Exited'], axis=1)\n",
    "valid_rf_feats = valid_rf.drop(['Exited'], axis=1)\n",
    "test_rf_feats = test_rf.drop(['Exited'], axis=1)\n",
    "target_train_rf = train_rf['Exited']\n",
    "target_valid_rf = valid_rf['Exited']\n",
    "target_test_rf = test_rf['Exited']"
   ]
  },
  {
   "cell_type": "code",
   "execution_count": 57,
   "metadata": {},
   "outputs": [
    {
     "data": {
      "text/plain": [
       "((6400, 11), (2000, 11), (1600, 11))"
      ]
     },
     "execution_count": 57,
     "metadata": {},
     "output_type": "execute_result"
    }
   ],
   "source": [
    "# shapes\n",
    "train_rf_feats.shape, valid_rf_feats.shape, test_rf_feats.shape"
   ]
  },
  {
   "cell_type": "code",
   "execution_count": 58,
   "metadata": {},
   "outputs": [],
   "source": [
    "# save columns created from dummy encoding\n",
    "rf_cols_list = train_rf_feats.columns"
   ]
  },
  {
   "cell_type": "code",
   "execution_count": 59,
   "metadata": {},
   "outputs": [],
   "source": [
    "# delete the intermediate df\n",
    "del train_rf; del valid_rf; del test_rf"
   ]
  },
  {
   "cell_type": "code",
   "execution_count": 60,
   "metadata": {},
   "outputs": [],
   "source": [
    "hyperparameters = {\n",
    "    'n_estimators': np.arange(50, 150, 10)\n",
    "}\n",
    "best_rf_model, rf_results = fit_model(RandomForestClassifier, train_rf_feats, target_train_rf, \n",
    "                                      valid_rf_feats, target_valid_rf, \n",
    "              hyperparameters=hyperparameters, model_name='RF')"
   ]
  },
  {
   "cell_type": "code",
   "execution_count": 61,
   "metadata": {},
   "outputs": [
    {
     "data": {
      "text/html": [
       "<div>\n",
       "<style scoped>\n",
       "    .dataframe tbody tr th:only-of-type {\n",
       "        vertical-align: middle;\n",
       "    }\n",
       "\n",
       "    .dataframe tbody tr th {\n",
       "        vertical-align: top;\n",
       "    }\n",
       "\n",
       "    .dataframe thead th {\n",
       "        text-align: right;\n",
       "    }\n",
       "</style>\n",
       "<table border=\"1\" class=\"dataframe\">\n",
       "  <thead>\n",
       "    <tr style=\"text-align: right;\">\n",
       "      <th></th>\n",
       "      <th>num_tests</th>\n",
       "      <th>accuracy</th>\n",
       "      <th>f1_score</th>\n",
       "      <th>model</th>\n",
       "    </tr>\n",
       "  </thead>\n",
       "  <tbody>\n",
       "    <tr>\n",
       "      <td>0</td>\n",
       "      <td>1</td>\n",
       "      <td>0.8590</td>\n",
       "      <td>0.559375</td>\n",
       "      <td>RF</td>\n",
       "    </tr>\n",
       "    <tr>\n",
       "      <td>1</td>\n",
       "      <td>2</td>\n",
       "      <td>0.8575</td>\n",
       "      <td>0.556765</td>\n",
       "      <td>RF</td>\n",
       "    </tr>\n",
       "    <tr>\n",
       "      <td>2</td>\n",
       "      <td>3</td>\n",
       "      <td>0.8595</td>\n",
       "      <td>0.561622</td>\n",
       "      <td>RF</td>\n",
       "    </tr>\n",
       "    <tr>\n",
       "      <td>3</td>\n",
       "      <td>4</td>\n",
       "      <td>0.8590</td>\n",
       "      <td>0.559375</td>\n",
       "      <td>RF</td>\n",
       "    </tr>\n",
       "    <tr>\n",
       "      <td>4</td>\n",
       "      <td>5</td>\n",
       "      <td>0.8600</td>\n",
       "      <td>0.562500</td>\n",
       "      <td>RF</td>\n",
       "    </tr>\n",
       "    <tr>\n",
       "      <td>5</td>\n",
       "      <td>6</td>\n",
       "      <td>0.8610</td>\n",
       "      <td>0.564263</td>\n",
       "      <td>RF</td>\n",
       "    </tr>\n",
       "    <tr>\n",
       "      <td>6</td>\n",
       "      <td>7</td>\n",
       "      <td>0.8600</td>\n",
       "      <td>0.561129</td>\n",
       "      <td>RF</td>\n",
       "    </tr>\n",
       "    <tr>\n",
       "      <td>7</td>\n",
       "      <td>8</td>\n",
       "      <td>0.8580</td>\n",
       "      <td>0.554859</td>\n",
       "      <td>RF</td>\n",
       "    </tr>\n",
       "    <tr>\n",
       "      <td>8</td>\n",
       "      <td>9</td>\n",
       "      <td>0.8595</td>\n",
       "      <td>0.558870</td>\n",
       "      <td>RF</td>\n",
       "    </tr>\n",
       "    <tr>\n",
       "      <td>9</td>\n",
       "      <td>10</td>\n",
       "      <td>0.8585</td>\n",
       "      <td>0.557121</td>\n",
       "      <td>RF</td>\n",
       "    </tr>\n",
       "  </tbody>\n",
       "</table>\n",
       "</div>"
      ],
      "text/plain": [
       "   num_tests  accuracy  f1_score model\n",
       "0          1    0.8590  0.559375    RF\n",
       "1          2    0.8575  0.556765    RF\n",
       "2          3    0.8595  0.561622    RF\n",
       "3          4    0.8590  0.559375    RF\n",
       "4          5    0.8600  0.562500    RF\n",
       "5          6    0.8610  0.564263    RF\n",
       "6          7    0.8600  0.561129    RF\n",
       "7          8    0.8580  0.554859    RF\n",
       "8          9    0.8595  0.558870    RF\n",
       "9         10    0.8585  0.557121    RF"
      ]
     },
     "execution_count": 61,
     "metadata": {},
     "output_type": "execute_result"
    }
   ],
   "source": [
    "# performance of RF models\n",
    "rf_results"
   ]
  },
  {
   "cell_type": "code",
   "execution_count": 62,
   "metadata": {},
   "outputs": [
    {
     "data": {
      "image/png": "[encoded data removed]",
      "text/plain": [
       "<Figure size 648x504 with 1 Axes>"
      ]
     },
     "metadata": {
      "needs_background": "light"
     },
     "output_type": "display_data"
    }
   ],
   "source": [
    "plot_model_accuracies(pd.concat([rf_results], axis=0))"
   ]
  },
  {
   "cell_type": "code",
   "execution_count": 63,
   "metadata": {},
   "outputs": [
    {
     "data": {
      "text/plain": [
       "RandomForestClassifier(bootstrap=True, class_weight=None, criterion='gini',\n",
       "                       max_depth=None, max_features='auto', max_leaf_nodes=None,\n",
       "                       min_impurity_decrease=0.0, min_impurity_split=None,\n",
       "                       min_samples_leaf=1, min_samples_split=2,\n",
       "                       min_weight_fraction_leaf=0.0, n_estimators=100,\n",
       "                       n_jobs=None, oob_score=False, random_state=42, verbose=0,\n",
       "                       warm_start=False)"
      ]
     },
     "execution_count": 63,
     "metadata": {},
     "output_type": "execute_result"
    }
   ],
   "source": [
    "best_rf_model"
   ]
  },
  {
   "cell_type": "code",
   "execution_count": 64,
   "metadata": {},
   "outputs": [
    {
     "data": {
      "text/plain": [
       "Age                0.231651\n",
       "NumOfProducts      0.129549\n",
       "EstimatedSalary    0.126861\n",
       "CreditScore        0.124951\n",
       "Balance            0.104771\n",
       "Salary_ratio       0.101146\n",
       "Tenure             0.069772\n",
       "IsActiveMember     0.042302\n",
       "Geography          0.032852\n",
       "Gender             0.018189\n",
       "HasCrCard          0.017956\n",
       "dtype: float64"
      ]
     },
     "execution_count": 64,
     "metadata": {},
     "output_type": "execute_result"
    }
   ],
   "source": [
    "# feature importance\n",
    "pd.Series(dict(zip(rf_cols_list, best_rf_model.feature_importances_))).sort_values(ascending=False)"
   ]
  },
  {
   "cell_type": "markdown",
   "metadata": {},
   "source": [
    "1) There is no differencee in the top 3 feature importances between the RF model created using dummy variables and standarised\n",
    "features and the dataset using ordinal encoding."
   ]
  },
  {
   "cell_type": "markdown",
   "metadata": {},
   "source": [
    "**Conclusion**\n",
    "\n",
    "1) Between the 2 RF models built using different datasets, the one built using dummy encoding and standarisation\n",
    "of numerical features has performed better than the best model, based on their respective F1 scores, built using label encoding by ~2%."
   ]
  },
  {
   "cell_type": "markdown",
   "metadata": {},
   "source": [
    "### Improve model performance\n",
    "\n",
    "1) Let us use Upsampling and Downsampling as 2 possible ways to deal with imbalance."
   ]
  },
  {
   "cell_type": "markdown",
   "metadata": {},
   "source": [
    "#### Upsampling"
   ]
  },
  {
   "cell_type": "code",
   "execution_count": 65,
   "metadata": {},
   "outputs": [],
   "source": [
    "def sampling(X, y, upsample=True, size=2):\n",
    "    \"\"\"\n",
    "    Upsample or downsample either the\n",
    "    under represented class or the over\n",
    "    represented class to balance the classes\n",
    "    \"\"\"\n",
    "    np.random.seed(42)\n",
    "    target = None\n",
    "    # X_copy = X.copy()\n",
    "    if not isinstance(y, np.ndarray):\n",
    "        target = y.values\n",
    "    else:\n",
    "        target = y\n",
    "    y_pos = np.where(target == 1)[0]\n",
    "    y_neg = np.where(target == 0)[0]\n",
    "    X_pos = X[target == 1]\n",
    "    X_neg = X[target == 0]\n",
    "    if upsample:\n",
    "#        idx = np.random.choice(y_pos, size=len(y_neg))\n",
    "        idx = np.random.choice(y_pos, size=int(len(y_pos)*size))\n",
    "        X = np.concatenate([X[idx], X_neg])\n",
    "        y = np.concatenate([target[idx], target[y_neg]])\n",
    "        # print(X[idx].shape, y.shape)\n",
    "    else:\n",
    "#        idx = np.random.choice(y_neg, size=len(y_pos))\n",
    "        idx = np.random.choice(y_neg, size=int(len(y_neg)*size))\n",
    "        X = np.concatenate([X[idx], X_pos])\n",
    "        y = np.concatenate([target[idx], target[y_pos]])\n",
    "#         frac = len(y_pos)/len(y_neg)\n",
    "#          X = X_neg.sample(frac=size/100, random_state=42)\n",
    "#          y = y[y.values == 0].sample(frac=size/100, random_state=42)\n",
    "    return shuffle(X, y)"
   ]
  },
  {
   "cell_type": "code",
   "execution_count": 66,
   "metadata": {},
   "outputs": [],
   "source": [
    "train_lr_sampled, target_lr_sampled = sampling(train_lr_std, target_train_lr, size=1)"
   ]
  },
  {
   "cell_type": "code",
   "execution_count": 67,
   "metadata": {},
   "outputs": [],
   "source": [
    "# train_lr_sampled.shape, target_lr_sampled.shape"
   ]
  },
  {
   "cell_type": "code",
   "execution_count": 68,
   "metadata": {},
   "outputs": [],
   "source": [
    "# check percent of target after upsampling\n",
    "# pd.Series(target_lr_sampled).value_counts(normalize=True)"
   ]
  },
  {
   "cell_type": "code",
   "execution_count": 69,
   "metadata": {},
   "outputs": [],
   "source": [
    "# best lr model using the class set with upsampling size=1\n",
    "# this is similar to the first scenario, but passing argument\n",
    "# class_weight = balanced\n",
    "\n",
    "hyperparameters = {\n",
    "    'C': [.0000001, .000001, .00001, .0001, .001, .01, .1, 1, 10, 100],\n",
    "    'solver': 'liblinear',\n",
    "    'class_weight': 'balanced'\n",
    "}\n",
    "best_lr_model, lr_results = fit_model(LogisticRegression, train_lr_sampled, target_lr_sampled, valid_lr_std, target_valid_lr, \n",
    "              hyperparameters=hyperparameters, is_lr=True, model_name='LR', \n",
    "                                     is_imbalance=True)"
   ]
  },
  {
   "cell_type": "code",
   "execution_count": 70,
   "metadata": {},
   "outputs": [],
   "source": [
    "# best rf model using the class set with upsampling size=1\n",
    "# this is similar to the first scenario, but passing argument\n",
    "# class_weight = balanced\n",
    "\n",
    "hyperparameters = {\n",
    "    'n_estimators': np.arange(50, 150, 10),\n",
    "    'class_weight': 'balanced'\n",
    "}\n",
    "best_rf_model, rf_results = fit_model(RandomForestClassifier, train_lr_sampled, target_lr_sampled, \n",
    "                                      valid_lr_std, target_valid_lr, \n",
    "              hyperparameters=hyperparameters, model_name='RF', is_imbalance=True)"
   ]
  },
  {
   "cell_type": "code",
   "execution_count": 71,
   "metadata": {},
   "outputs": [],
   "source": [
    "def best_train_set(model, train_X, train_y, valid_X, valid_y, \n",
    "                  upsample=True, model_name=None, start=2, end=5, step=1):\n",
    "    \"\"\"\n",
    "    Using the best model obtained from using the imbalanced\n",
    "    dataset, pick the dataset for which your model produces\n",
    "    the best F1 score.\n",
    "    \"\"\"\n",
    "    best_f1 = 0\n",
    "    best_model = None\n",
    "    best_size = 1\n",
    "    f1 = []\n",
    "    acc = []\n",
    "    for size in np.arange(start, end, step):\n",
    "        train_X, train_y = sampling(train_X, train_y, upsample=upsample, size=size)\n",
    "        model.fit(train_X, train_y)\n",
    "        preds = model.predict(valid_X)\n",
    "        r = f1_score(valid_y, preds)\n",
    "        a = accuracy_score(valid_y, preds)\n",
    "        acc.append(a)\n",
    "        f1.append(r)\n",
    "        if r > best_f1:\n",
    "            best_f1 = r\n",
    "            best_model = model\n",
    "            best_size = size\n",
    "    return best_model, best_size, pd.DataFrame({'num_tests': np.arange(1, len(np.arange(start, end, step))+1), \n",
    "                                     'accuracy': acc, \n",
    "                                     'f1_score': f1,\n",
    "                                     'model': model_name})"
   ]
  },
  {
   "cell_type": "code",
   "execution_count": 72,
   "metadata": {},
   "outputs": [],
   "source": [
    "# let us find the best imbalanced parameter. Use the best model found\n",
    "# using the imbalanced set. upper limit of argument end= 6 as\n",
    "# any values higher causes the kernel to crash\n",
    "best_lr_model, best_lr_size, lr_results = best_train_set(best_lr_model,  train_lr_std, target_train_lr, \n",
    "                                                         valid_lr_std, target_valid_lr, \n",
    "                                                          start=2, end=6, model_name='LR')"
   ]
  },
  {
   "cell_type": "code",
   "execution_count": 73,
   "metadata": {},
   "outputs": [
    {
     "data": {
      "text/html": [
       "<div>\n",
       "<style scoped>\n",
       "    .dataframe tbody tr th:only-of-type {\n",
       "        vertical-align: middle;\n",
       "    }\n",
       "\n",
       "    .dataframe tbody tr th {\n",
       "        vertical-align: top;\n",
       "    }\n",
       "\n",
       "    .dataframe thead th {\n",
       "        text-align: right;\n",
       "    }\n",
       "</style>\n",
       "<table border=\"1\" class=\"dataframe\">\n",
       "  <thead>\n",
       "    <tr style=\"text-align: right;\">\n",
       "      <th></th>\n",
       "      <th>num_tests</th>\n",
       "      <th>accuracy</th>\n",
       "      <th>f1_score</th>\n",
       "      <th>model</th>\n",
       "    </tr>\n",
       "  </thead>\n",
       "  <tbody>\n",
       "    <tr>\n",
       "      <td>0</td>\n",
       "      <td>1</td>\n",
       "      <td>0.7510</td>\n",
       "      <td>0.446667</td>\n",
       "      <td>LR</td>\n",
       "    </tr>\n",
       "    <tr>\n",
       "      <td>1</td>\n",
       "      <td>2</td>\n",
       "      <td>0.5465</td>\n",
       "      <td>0.436296</td>\n",
       "      <td>LR</td>\n",
       "    </tr>\n",
       "    <tr>\n",
       "      <td>2</td>\n",
       "      <td>3</td>\n",
       "      <td>0.3785</td>\n",
       "      <td>0.383127</td>\n",
       "      <td>LR</td>\n",
       "    </tr>\n",
       "    <tr>\n",
       "      <td>3</td>\n",
       "      <td>4</td>\n",
       "      <td>0.3285</td>\n",
       "      <td>0.371549</td>\n",
       "      <td>LR</td>\n",
       "    </tr>\n",
       "  </tbody>\n",
       "</table>\n",
       "</div>"
      ],
      "text/plain": [
       "   num_tests  accuracy  f1_score model\n",
       "0          1    0.7510  0.446667    LR\n",
       "1          2    0.5465  0.436296    LR\n",
       "2          3    0.3785  0.383127    LR\n",
       "3          4    0.3285  0.371549    LR"
      ]
     },
     "execution_count": 73,
     "metadata": {},
     "output_type": "execute_result"
    }
   ],
   "source": [
    "lr_results"
   ]
  },
  {
   "cell_type": "code",
   "execution_count": 74,
   "metadata": {},
   "outputs": [
    {
     "data": {
      "text/plain": [
       "2"
      ]
     },
     "execution_count": 74,
     "metadata": {},
     "output_type": "execute_result"
    }
   ],
   "source": [
    "# upsampling size\n",
    "best_lr_size"
   ]
  },
  {
   "cell_type": "code",
   "execution_count": 75,
   "metadata": {},
   "outputs": [
    {
     "data": {
      "text/plain": [
       "LogisticRegression(C=1e-06, class_weight=None, dual=False, fit_intercept=True,\n",
       "                   intercept_scaling=1, l1_ratio=None, max_iter=100,\n",
       "                   multi_class='warn', n_jobs=None, penalty='l2',\n",
       "                   random_state=42, solver='liblinear', tol=0.0001, verbose=0,\n",
       "                   warm_start=False)"
      ]
     },
     "execution_count": 75,
     "metadata": {},
     "output_type": "execute_result"
    }
   ],
   "source": [
    "best_lr_model"
   ]
  },
  {
   "cell_type": "code",
   "execution_count": 76,
   "metadata": {},
   "outputs": [],
   "source": [
    "# let us find the best imbalanced parameter. Use the best model found\n",
    "# using the imbalanced set\n",
    "best_rf_model, best_rf_size, rf_results = best_train_set(best_rf_model,  train_lr_std, target_train_lr, \n",
    "                                                         valid_lr_std, target_valid_lr, \n",
    "                                                          start=2, end=6, \n",
    "                                                         model_name='RF')"
   ]
  },
  {
   "cell_type": "code",
   "execution_count": 77,
   "metadata": {},
   "outputs": [
    {
     "data": {
      "text/html": [
       "<div>\n",
       "<style scoped>\n",
       "    .dataframe tbody tr th:only-of-type {\n",
       "        vertical-align: middle;\n",
       "    }\n",
       "\n",
       "    .dataframe tbody tr th {\n",
       "        vertical-align: top;\n",
       "    }\n",
       "\n",
       "    .dataframe thead th {\n",
       "        text-align: right;\n",
       "    }\n",
       "</style>\n",
       "<table border=\"1\" class=\"dataframe\">\n",
       "  <thead>\n",
       "    <tr style=\"text-align: right;\">\n",
       "      <th></th>\n",
       "      <th>num_tests</th>\n",
       "      <th>accuracy</th>\n",
       "      <th>f1_score</th>\n",
       "      <th>model</th>\n",
       "    </tr>\n",
       "  </thead>\n",
       "  <tbody>\n",
       "    <tr>\n",
       "      <td>0</td>\n",
       "      <td>1</td>\n",
       "      <td>0.8575</td>\n",
       "      <td>0.560863</td>\n",
       "      <td>RF</td>\n",
       "    </tr>\n",
       "    <tr>\n",
       "      <td>1</td>\n",
       "      <td>2</td>\n",
       "      <td>0.8525</td>\n",
       "      <td>0.560358</td>\n",
       "      <td>RF</td>\n",
       "    </tr>\n",
       "    <tr>\n",
       "      <td>2</td>\n",
       "      <td>3</td>\n",
       "      <td>0.8485</td>\n",
       "      <td>0.544361</td>\n",
       "      <td>RF</td>\n",
       "    </tr>\n",
       "    <tr>\n",
       "      <td>3</td>\n",
       "      <td>4</td>\n",
       "      <td>0.8530</td>\n",
       "      <td>0.563798</td>\n",
       "      <td>RF</td>\n",
       "    </tr>\n",
       "  </tbody>\n",
       "</table>\n",
       "</div>"
      ],
      "text/plain": [
       "   num_tests  accuracy  f1_score model\n",
       "0          1    0.8575  0.560863    RF\n",
       "1          2    0.8525  0.560358    RF\n",
       "2          3    0.8485  0.544361    RF\n",
       "3          4    0.8530  0.563798    RF"
      ]
     },
     "execution_count": 77,
     "metadata": {},
     "output_type": "execute_result"
    }
   ],
   "source": [
    "rf_results"
   ]
  },
  {
   "cell_type": "code",
   "execution_count": 78,
   "metadata": {},
   "outputs": [
    {
     "data": {
      "text/plain": [
       "5"
      ]
     },
     "execution_count": 78,
     "metadata": {},
     "output_type": "execute_result"
    }
   ],
   "source": [
    "# upsampling size\n",
    "best_rf_size"
   ]
  },
  {
   "cell_type": "code",
   "execution_count": 79,
   "metadata": {},
   "outputs": [
    {
     "data": {
      "text/plain": [
       "RandomForestClassifier(bootstrap=True, class_weight=None, criterion='gini',\n",
       "                       max_depth=None, max_features='auto', max_leaf_nodes=None,\n",
       "                       min_impurity_decrease=0.0, min_impurity_split=None,\n",
       "                       min_samples_leaf=1, min_samples_split=2,\n",
       "                       min_weight_fraction_leaf=0.0, n_estimators=110,\n",
       "                       n_jobs=None, oob_score=False, random_state=42, verbose=0,\n",
       "                       warm_start=False)"
      ]
     },
     "execution_count": 79,
     "metadata": {},
     "output_type": "execute_result"
    }
   ],
   "source": [
    "best_rf_model"
   ]
  },
  {
   "cell_type": "code",
   "execution_count": 80,
   "metadata": {},
   "outputs": [
    {
     "data": {
      "image/png": "[encoded data removed]",
      "text/plain": [
       "<Figure size 648x504 with 1 Axes>"
      ]
     },
     "metadata": {
      "needs_background": "light"
     },
     "output_type": "display_data"
    }
   ],
   "source": [
    "plot_model_accuracies(pd.concat([lr_results, rf_results], axis=0))"
   ]
  },
  {
   "cell_type": "code",
   "execution_count": 81,
   "metadata": {},
   "outputs": [
    {
     "data": {
      "text/plain": [
       "RandomForestClassifier(bootstrap=True, class_weight=None, criterion='gini',\n",
       "                       max_depth=None, max_features='auto', max_leaf_nodes=None,\n",
       "                       min_impurity_decrease=0.0, min_impurity_split=None,\n",
       "                       min_samples_leaf=1, min_samples_split=2,\n",
       "                       min_weight_fraction_leaf=0.0, n_estimators=110,\n",
       "                       n_jobs=None, oob_score=False, random_state=42, verbose=0,\n",
       "                       warm_start=False)"
      ]
     },
     "execution_count": 81,
     "metadata": {},
     "output_type": "execute_result"
    }
   ],
   "source": [
    "best_rf_model"
   ]
  },
  {
   "cell_type": "markdown",
   "metadata": {},
   "source": [
    "1) With class_weight=balanced and varying sampling sizes ranging from 2 to 6 excluded, we see an improvement\n",
    "in the F1 score relative to the score produced when we ignore the imbalance issue.\n",
    "\n",
    "2) RandomForest consistently outperforms LogisticRegression."
   ]
  },
  {
   "cell_type": "markdown",
   "metadata": {},
   "source": [
    "#### Find best RandomForestClassifier using the best upsampled train dataset"
   ]
  },
  {
   "cell_type": "code",
   "execution_count": 82,
   "metadata": {},
   "outputs": [],
   "source": [
    "train_lr_sampled, target_lr_sampled = sampling(train_lr_std, target_train_lr, size=best_rf_size)"
   ]
  },
  {
   "cell_type": "code",
   "execution_count": 83,
   "metadata": {},
   "outputs": [],
   "source": [
    "hyperparameters = {\n",
    "    'n_estimators': np.arange(50, 150, 10),\n",
    "    'class_weight': 'balanced'\n",
    "}\n",
    "best_rf_model, rf_results = fit_model(RandomForestClassifier, train_lr_sampled, target_lr_sampled, \n",
    "                                      valid_lr_std, target_valid_lr, \n",
    "              hyperparameters=hyperparameters, model_name='RF', is_imbalance=True)"
   ]
  },
  {
   "cell_type": "code",
   "execution_count": 84,
   "metadata": {},
   "outputs": [
    {
     "data": {
      "text/html": [
       "<div>\n",
       "<style scoped>\n",
       "    .dataframe tbody tr th:only-of-type {\n",
       "        vertical-align: middle;\n",
       "    }\n",
       "\n",
       "    .dataframe tbody tr th {\n",
       "        vertical-align: top;\n",
       "    }\n",
       "\n",
       "    .dataframe thead th {\n",
       "        text-align: right;\n",
       "    }\n",
       "</style>\n",
       "<table border=\"1\" class=\"dataframe\">\n",
       "  <thead>\n",
       "    <tr style=\"text-align: right;\">\n",
       "      <th></th>\n",
       "      <th>num_tests</th>\n",
       "      <th>accuracy</th>\n",
       "      <th>f1_score</th>\n",
       "      <th>model</th>\n",
       "    </tr>\n",
       "  </thead>\n",
       "  <tbody>\n",
       "    <tr>\n",
       "      <td>0</td>\n",
       "      <td>1</td>\n",
       "      <td>0.8520</td>\n",
       "      <td>0.588889</td>\n",
       "      <td>RF</td>\n",
       "    </tr>\n",
       "    <tr>\n",
       "      <td>1</td>\n",
       "      <td>2</td>\n",
       "      <td>0.8510</td>\n",
       "      <td>0.584958</td>\n",
       "      <td>RF</td>\n",
       "    </tr>\n",
       "    <tr>\n",
       "      <td>2</td>\n",
       "      <td>3</td>\n",
       "      <td>0.8530</td>\n",
       "      <td>0.591667</td>\n",
       "      <td>RF</td>\n",
       "    </tr>\n",
       "    <tr>\n",
       "      <td>3</td>\n",
       "      <td>4</td>\n",
       "      <td>0.8525</td>\n",
       "      <td>0.591978</td>\n",
       "      <td>RF</td>\n",
       "    </tr>\n",
       "    <tr>\n",
       "      <td>4</td>\n",
       "      <td>5</td>\n",
       "      <td>0.8520</td>\n",
       "      <td>0.590028</td>\n",
       "      <td>RF</td>\n",
       "    </tr>\n",
       "    <tr>\n",
       "      <td>5</td>\n",
       "      <td>6</td>\n",
       "      <td>0.8560</td>\n",
       "      <td>0.601108</td>\n",
       "      <td>RF</td>\n",
       "    </tr>\n",
       "    <tr>\n",
       "      <td>6</td>\n",
       "      <td>7</td>\n",
       "      <td>0.8550</td>\n",
       "      <td>0.594972</td>\n",
       "      <td>RF</td>\n",
       "    </tr>\n",
       "    <tr>\n",
       "      <td>7</td>\n",
       "      <td>8</td>\n",
       "      <td>0.8575</td>\n",
       "      <td>0.602510</td>\n",
       "      <td>RF</td>\n",
       "    </tr>\n",
       "    <tr>\n",
       "      <td>8</td>\n",
       "      <td>9</td>\n",
       "      <td>0.8570</td>\n",
       "      <td>0.602778</td>\n",
       "      <td>RF</td>\n",
       "    </tr>\n",
       "    <tr>\n",
       "      <td>9</td>\n",
       "      <td>10</td>\n",
       "      <td>0.8565</td>\n",
       "      <td>0.598601</td>\n",
       "      <td>RF</td>\n",
       "    </tr>\n",
       "  </tbody>\n",
       "</table>\n",
       "</div>"
      ],
      "text/plain": [
       "   num_tests  accuracy  f1_score model\n",
       "0          1    0.8520  0.588889    RF\n",
       "1          2    0.8510  0.584958    RF\n",
       "2          3    0.8530  0.591667    RF\n",
       "3          4    0.8525  0.591978    RF\n",
       "4          5    0.8520  0.590028    RF\n",
       "5          6    0.8560  0.601108    RF\n",
       "6          7    0.8550  0.594972    RF\n",
       "7          8    0.8575  0.602510    RF\n",
       "8          9    0.8570  0.602778    RF\n",
       "9         10    0.8565  0.598601    RF"
      ]
     },
     "execution_count": 84,
     "metadata": {},
     "output_type": "execute_result"
    }
   ],
   "source": [
    "rf_results"
   ]
  },
  {
   "cell_type": "code",
   "execution_count": 85,
   "metadata": {},
   "outputs": [
    {
     "data": {
      "text/plain": [
       "RandomForestClassifier(bootstrap=True, class_weight=None, criterion='gini',\n",
       "                       max_depth=None, max_features='auto', max_leaf_nodes=None,\n",
       "                       min_impurity_decrease=0.0, min_impurity_split=None,\n",
       "                       min_samples_leaf=1, min_samples_split=2,\n",
       "                       min_weight_fraction_leaf=0.0, n_estimators=130,\n",
       "                       n_jobs=None, oob_score=False, random_state=42, verbose=0,\n",
       "                       warm_start=False)"
      ]
     },
     "execution_count": 85,
     "metadata": {},
     "output_type": "execute_result"
    }
   ],
   "source": [
    "best_rf_model"
   ]
  },
  {
   "cell_type": "code",
   "execution_count": 86,
   "metadata": {},
   "outputs": [
    {
     "data": {
      "text/plain": [
       "Age                  0.236493\n",
       "NumOfProducts        0.127495\n",
       "EstimatedSalary      0.121841\n",
       "CreditScore          0.120883\n",
       "Balance              0.109753\n",
       "Salary_ratio         0.094000\n",
       "Tenure               0.072550\n",
       "IsActiveMember       0.039443\n",
       "Geography_Germany    0.024744\n",
       "Gender_Male          0.021425\n",
       "HasCrCard            0.016612\n",
       "Geography_Spain      0.014761\n",
       "dtype: float64"
      ]
     },
     "execution_count": 86,
     "metadata": {},
     "output_type": "execute_result"
    }
   ],
   "source": [
    "# feature importance\n",
    "pd.Series(dict(zip(cols_list, best_rf_model.feature_importances_))).sort_values(ascending=False)"
   ]
  },
  {
   "cell_type": "markdown",
   "metadata": {},
   "source": [
    "**Conclusion**\n",
    "\n",
    "1) Post upsampling, the performance of F1 score on both the LogisticRegression and RandomForest models have improved. However, RandomForest(RF) has an edge over LogisticRegression; the best model has an F1 score of 0.602, and it has used\n",
    "130 estimators.\n",
    "\n",
    "2) Between the two RF models produced before pre treatment and post treatment of the imbalance issue, we notice that\n",
    "treating imbalance has helped the model learn better patterns. There is a 3% point improvement in F1 score post treatment.\n",
    "\n",
    "3) Interestingly, post upsampling, the feature importance hasn't changed relative to when the imbalance was untreated. The\n",
    "top 3 features are: `Age`, `NumOfProducts`, and `EstimatedSalary`."
   ]
  },
  {
   "cell_type": "markdown",
   "metadata": {},
   "source": [
    "#### Downsampling"
   ]
  },
  {
   "cell_type": "code",
   "execution_count": 87,
   "metadata": {},
   "outputs": [],
   "source": [
    "train_lr_downsampled, target_lr_downsampled = sampling(train_lr_std, target_train_lr, upsample=False, size=1)"
   ]
  },
  {
   "cell_type": "code",
   "execution_count": 88,
   "metadata": {},
   "outputs": [],
   "source": [
    "# train_lr_downsampled.shape, target_lr_downsampled.shape"
   ]
  },
  {
   "cell_type": "code",
   "execution_count": 89,
   "metadata": {},
   "outputs": [],
   "source": [
    "# # check if target after downsampling has balanced classes\n",
    "# pd.Series(target_lr_downsampled).value_counts(normalize=True)"
   ]
  },
  {
   "cell_type": "code",
   "execution_count": 90,
   "metadata": {},
   "outputs": [],
   "source": [
    "hyperparameters = {\n",
    "    'C': [.0000001, .000001, .00001, .0001, .001, .01, .1, 1, 10, 100],\n",
    "    'solver': 'liblinear'\n",
    "}\n",
    "best_lr_model, lr_results = fit_model(LogisticRegression, train_lr_downsampled, target_lr_downsampled, valid_lr_std, target_valid_lr, \n",
    "              hyperparameters=hyperparameters, is_lr=True, model_name='LR')"
   ]
  },
  {
   "cell_type": "code",
   "execution_count": 91,
   "metadata": {},
   "outputs": [],
   "source": [
    "# # performance of 10 LR models\n",
    "# lr_results"
   ]
  },
  {
   "cell_type": "code",
   "execution_count": 92,
   "metadata": {},
   "outputs": [],
   "source": [
    "hyperparameters = {\n",
    "    'n_estimators': np.arange(50, 150, 10)\n",
    "}\n",
    "best_rf_model, rf_results = fit_model(RandomForestClassifier, train_lr_downsampled, target_lr_downsampled, \n",
    "                                      valid_lr_std, target_valid_lr, \n",
    "              hyperparameters=hyperparameters, model_name='RF')"
   ]
  },
  {
   "cell_type": "code",
   "execution_count": 93,
   "metadata": {},
   "outputs": [],
   "source": [
    "# # performance of 10 RF models\n",
    "# rf_results"
   ]
  },
  {
   "cell_type": "code",
   "execution_count": 94,
   "metadata": {},
   "outputs": [],
   "source": [
    "# let us find the best imbalanced parameter. Use the best model found\n",
    "# using the imbalanced set. upper limit of argument end= 6 as\n",
    "# any values higher causes the kernel to crash\n",
    "best_lr_model, best_lr_size, lr_results = best_train_set(best_lr_model,  train_lr_std, target_train_lr, \n",
    "                                                         valid_lr_std, target_valid_lr, \n",
    "                                                          start=.2, end=.25, step=0.01, upsample=False,\n",
    "                                                         model_name='LR')"
   ]
  },
  {
   "cell_type": "code",
   "execution_count": 95,
   "metadata": {},
   "outputs": [
    {
     "data": {
      "text/html": [
       "<div>\n",
       "<style scoped>\n",
       "    .dataframe tbody tr th:only-of-type {\n",
       "        vertical-align: middle;\n",
       "    }\n",
       "\n",
       "    .dataframe tbody tr th {\n",
       "        vertical-align: top;\n",
       "    }\n",
       "\n",
       "    .dataframe thead th {\n",
       "        text-align: right;\n",
       "    }\n",
       "</style>\n",
       "<table border=\"1\" class=\"dataframe\">\n",
       "  <thead>\n",
       "    <tr style=\"text-align: right;\">\n",
       "      <th></th>\n",
       "      <th>num_tests</th>\n",
       "      <th>accuracy</th>\n",
       "      <th>f1_score</th>\n",
       "      <th>model</th>\n",
       "    </tr>\n",
       "  </thead>\n",
       "  <tbody>\n",
       "    <tr>\n",
       "      <td>0</td>\n",
       "      <td>1</td>\n",
       "      <td>0.6550</td>\n",
       "      <td>0.481203</td>\n",
       "      <td>LR</td>\n",
       "    </tr>\n",
       "    <tr>\n",
       "      <td>1</td>\n",
       "      <td>2</td>\n",
       "      <td>0.2810</td>\n",
       "      <td>0.358036</td>\n",
       "      <td>LR</td>\n",
       "    </tr>\n",
       "    <tr>\n",
       "      <td>2</td>\n",
       "      <td>3</td>\n",
       "      <td>0.2035</td>\n",
       "      <td>0.338180</td>\n",
       "      <td>LR</td>\n",
       "    </tr>\n",
       "    <tr>\n",
       "      <td>3</td>\n",
       "      <td>4</td>\n",
       "      <td>0.2035</td>\n",
       "      <td>0.338180</td>\n",
       "      <td>LR</td>\n",
       "    </tr>\n",
       "    <tr>\n",
       "      <td>4</td>\n",
       "      <td>5</td>\n",
       "      <td>0.2035</td>\n",
       "      <td>0.338180</td>\n",
       "      <td>LR</td>\n",
       "    </tr>\n",
       "  </tbody>\n",
       "</table>\n",
       "</div>"
      ],
      "text/plain": [
       "   num_tests  accuracy  f1_score model\n",
       "0          1    0.6550  0.481203    LR\n",
       "1          2    0.2810  0.358036    LR\n",
       "2          3    0.2035  0.338180    LR\n",
       "3          4    0.2035  0.338180    LR\n",
       "4          5    0.2035  0.338180    LR"
      ]
     },
     "execution_count": 95,
     "metadata": {},
     "output_type": "execute_result"
    }
   ],
   "source": [
    "lr_results"
   ]
  },
  {
   "cell_type": "code",
   "execution_count": 96,
   "metadata": {},
   "outputs": [
    {
     "data": {
      "text/plain": [
       "0.2"
      ]
     },
     "execution_count": 96,
     "metadata": {},
     "output_type": "execute_result"
    }
   ],
   "source": [
    "best_lr_size"
   ]
  },
  {
   "cell_type": "code",
   "execution_count": 97,
   "metadata": {},
   "outputs": [
    {
     "data": {
      "text/plain": [
       "LogisticRegression(C=0.1, class_weight=None, dual=False, fit_intercept=True,\n",
       "                   intercept_scaling=1, l1_ratio=None, max_iter=100,\n",
       "                   multi_class='warn', n_jobs=None, penalty='l2',\n",
       "                   random_state=42, solver='liblinear', tol=0.0001, verbose=0,\n",
       "                   warm_start=False)"
      ]
     },
     "execution_count": 97,
     "metadata": {},
     "output_type": "execute_result"
    }
   ],
   "source": [
    "best_lr_model"
   ]
  },
  {
   "cell_type": "code",
   "execution_count": 98,
   "metadata": {},
   "outputs": [],
   "source": [
    "# let us find the best imbalanced parameter. Use the best model found\n",
    "# using the imbalanced set\n",
    "best_rf_model, best_rf_size, rf_results = best_train_set(best_rf_model,  train_lr_std, target_train_lr, \n",
    "                                                         valid_lr_std, target_valid_lr, \n",
    "                                                          start=.2, end=0.25, step=0.01, upsample=False, \n",
    "                                                         model_name='RF')"
   ]
  },
  {
   "cell_type": "code",
   "execution_count": 99,
   "metadata": {},
   "outputs": [
    {
     "data": {
      "text/html": [
       "<div>\n",
       "<style scoped>\n",
       "    .dataframe tbody tr th:only-of-type {\n",
       "        vertical-align: middle;\n",
       "    }\n",
       "\n",
       "    .dataframe tbody tr th {\n",
       "        vertical-align: top;\n",
       "    }\n",
       "\n",
       "    .dataframe thead th {\n",
       "        text-align: right;\n",
       "    }\n",
       "</style>\n",
       "<table border=\"1\" class=\"dataframe\">\n",
       "  <thead>\n",
       "    <tr style=\"text-align: right;\">\n",
       "      <th></th>\n",
       "      <th>num_tests</th>\n",
       "      <th>accuracy</th>\n",
       "      <th>f1_score</th>\n",
       "      <th>model</th>\n",
       "    </tr>\n",
       "  </thead>\n",
       "  <tbody>\n",
       "    <tr>\n",
       "      <td>0</td>\n",
       "      <td>1</td>\n",
       "      <td>0.7110</td>\n",
       "      <td>0.531605</td>\n",
       "      <td>RF</td>\n",
       "    </tr>\n",
       "    <tr>\n",
       "      <td>1</td>\n",
       "      <td>2</td>\n",
       "      <td>0.3650</td>\n",
       "      <td>0.387657</td>\n",
       "      <td>RF</td>\n",
       "    </tr>\n",
       "    <tr>\n",
       "      <td>2</td>\n",
       "      <td>3</td>\n",
       "      <td>0.2065</td>\n",
       "      <td>0.339025</td>\n",
       "      <td>RF</td>\n",
       "    </tr>\n",
       "    <tr>\n",
       "      <td>3</td>\n",
       "      <td>4</td>\n",
       "      <td>0.2035</td>\n",
       "      <td>0.338180</td>\n",
       "      <td>RF</td>\n",
       "    </tr>\n",
       "    <tr>\n",
       "      <td>4</td>\n",
       "      <td>5</td>\n",
       "      <td>0.2035</td>\n",
       "      <td>0.338180</td>\n",
       "      <td>RF</td>\n",
       "    </tr>\n",
       "  </tbody>\n",
       "</table>\n",
       "</div>"
      ],
      "text/plain": [
       "   num_tests  accuracy  f1_score model\n",
       "0          1    0.7110  0.531605    RF\n",
       "1          2    0.3650  0.387657    RF\n",
       "2          3    0.2065  0.339025    RF\n",
       "3          4    0.2035  0.338180    RF\n",
       "4          5    0.2035  0.338180    RF"
      ]
     },
     "execution_count": 99,
     "metadata": {},
     "output_type": "execute_result"
    }
   ],
   "source": [
    "rf_results"
   ]
  },
  {
   "cell_type": "code",
   "execution_count": 100,
   "metadata": {},
   "outputs": [
    {
     "data": {
      "text/plain": [
       "0.2"
      ]
     },
     "execution_count": 100,
     "metadata": {},
     "output_type": "execute_result"
    }
   ],
   "source": [
    "best_rf_size"
   ]
  },
  {
   "cell_type": "code",
   "execution_count": 101,
   "metadata": {},
   "outputs": [
    {
     "data": {
      "text/plain": [
       "RandomForestClassifier(bootstrap=True, class_weight=None, criterion='gini',\n",
       "                       max_depth=None, max_features='auto', max_leaf_nodes=None,\n",
       "                       min_impurity_decrease=0.0, min_impurity_split=None,\n",
       "                       min_samples_leaf=1, min_samples_split=2,\n",
       "                       min_weight_fraction_leaf=0.0, n_estimators=110,\n",
       "                       n_jobs=None, oob_score=False, random_state=42, verbose=0,\n",
       "                       warm_start=False)"
      ]
     },
     "execution_count": 101,
     "metadata": {},
     "output_type": "execute_result"
    }
   ],
   "source": [
    "best_rf_model"
   ]
  },
  {
   "cell_type": "code",
   "execution_count": 102,
   "metadata": {},
   "outputs": [
    {
     "data": {
      "image/png": "[encoded data removed]",
      "text/plain": [
       "<Figure size 648x504 with 1 Axes>"
      ]
     },
     "metadata": {
      "needs_background": "light"
     },
     "output_type": "display_data"
    }
   ],
   "source": [
    "plot_model_accuracies(pd.concat([lr_results, rf_results], axis=0))"
   ]
  },
  {
   "cell_type": "markdown",
   "metadata": {},
   "source": [
    "1) We can already see that downsampling produces inferior results compared to upsampling for both models."
   ]
  },
  {
   "cell_type": "markdown",
   "metadata": {},
   "source": [
    "#### Find best RandomForestClassifier using the best downsampled train dataset"
   ]
  },
  {
   "cell_type": "code",
   "execution_count": 103,
   "metadata": {},
   "outputs": [],
   "source": [
    "train_lr_downsampled, target_lr_downsampled = sampling(train_lr_std, target_train_lr, upsample=False, \n",
    "                                                       size=best_rf_size)"
   ]
  },
  {
   "cell_type": "code",
   "execution_count": 104,
   "metadata": {},
   "outputs": [],
   "source": [
    "hyperparameters = {\n",
    "    'n_estimators': np.arange(50, 150, 10),\n",
    "    'class_weight': 'balanced'\n",
    "}\n",
    "best_rf_model, rf_results = fit_model(RandomForestClassifier, train_lr_downsampled, target_lr_downsampled, \n",
    "                                      valid_lr_std, target_valid_lr, \n",
    "              hyperparameters=hyperparameters, model_name='RF', is_imbalance=True)"
   ]
  },
  {
   "cell_type": "code",
   "execution_count": 105,
   "metadata": {},
   "outputs": [
    {
     "data": {
      "text/html": [
       "<div>\n",
       "<style scoped>\n",
       "    .dataframe tbody tr th:only-of-type {\n",
       "        vertical-align: middle;\n",
       "    }\n",
       "\n",
       "    .dataframe tbody tr th {\n",
       "        vertical-align: top;\n",
       "    }\n",
       "\n",
       "    .dataframe thead th {\n",
       "        text-align: right;\n",
       "    }\n",
       "</style>\n",
       "<table border=\"1\" class=\"dataframe\">\n",
       "  <thead>\n",
       "    <tr style=\"text-align: right;\">\n",
       "      <th></th>\n",
       "      <th>num_tests</th>\n",
       "      <th>accuracy</th>\n",
       "      <th>f1_score</th>\n",
       "      <th>model</th>\n",
       "    </tr>\n",
       "  </thead>\n",
       "  <tbody>\n",
       "    <tr>\n",
       "      <td>0</td>\n",
       "      <td>1</td>\n",
       "      <td>0.7195</td>\n",
       "      <td>0.537510</td>\n",
       "      <td>RF</td>\n",
       "    </tr>\n",
       "    <tr>\n",
       "      <td>1</td>\n",
       "      <td>2</td>\n",
       "      <td>0.7195</td>\n",
       "      <td>0.538272</td>\n",
       "      <td>RF</td>\n",
       "    </tr>\n",
       "    <tr>\n",
       "      <td>2</td>\n",
       "      <td>3</td>\n",
       "      <td>0.7160</td>\n",
       "      <td>0.536705</td>\n",
       "      <td>RF</td>\n",
       "    </tr>\n",
       "    <tr>\n",
       "      <td>3</td>\n",
       "      <td>4</td>\n",
       "      <td>0.7105</td>\n",
       "      <td>0.531932</td>\n",
       "      <td>RF</td>\n",
       "    </tr>\n",
       "    <tr>\n",
       "      <td>4</td>\n",
       "      <td>5</td>\n",
       "      <td>0.7110</td>\n",
       "      <td>0.533871</td>\n",
       "      <td>RF</td>\n",
       "    </tr>\n",
       "    <tr>\n",
       "      <td>5</td>\n",
       "      <td>6</td>\n",
       "      <td>0.7125</td>\n",
       "      <td>0.532900</td>\n",
       "      <td>RF</td>\n",
       "    </tr>\n",
       "    <tr>\n",
       "      <td>6</td>\n",
       "      <td>7</td>\n",
       "      <td>0.7110</td>\n",
       "      <td>0.531605</td>\n",
       "      <td>RF</td>\n",
       "    </tr>\n",
       "    <tr>\n",
       "      <td>7</td>\n",
       "      <td>8</td>\n",
       "      <td>0.7085</td>\n",
       "      <td>0.529459</td>\n",
       "      <td>RF</td>\n",
       "    </tr>\n",
       "    <tr>\n",
       "      <td>8</td>\n",
       "      <td>9</td>\n",
       "      <td>0.7135</td>\n",
       "      <td>0.534525</td>\n",
       "      <td>RF</td>\n",
       "    </tr>\n",
       "    <tr>\n",
       "      <td>9</td>\n",
       "      <td>10</td>\n",
       "      <td>0.7145</td>\n",
       "      <td>0.535395</td>\n",
       "      <td>RF</td>\n",
       "    </tr>\n",
       "  </tbody>\n",
       "</table>\n",
       "</div>"
      ],
      "text/plain": [
       "   num_tests  accuracy  f1_score model\n",
       "0          1    0.7195  0.537510    RF\n",
       "1          2    0.7195  0.538272    RF\n",
       "2          3    0.7160  0.536705    RF\n",
       "3          4    0.7105  0.531932    RF\n",
       "4          5    0.7110  0.533871    RF\n",
       "5          6    0.7125  0.532900    RF\n",
       "6          7    0.7110  0.531605    RF\n",
       "7          8    0.7085  0.529459    RF\n",
       "8          9    0.7135  0.534525    RF\n",
       "9         10    0.7145  0.535395    RF"
      ]
     },
     "execution_count": 105,
     "metadata": {},
     "output_type": "execute_result"
    }
   ],
   "source": [
    "rf_results"
   ]
  },
  {
   "cell_type": "code",
   "execution_count": 106,
   "metadata": {},
   "outputs": [
    {
     "data": {
      "text/plain": [
       "RandomForestClassifier(bootstrap=True, class_weight=None, criterion='gini',\n",
       "                       max_depth=None, max_features='auto', max_leaf_nodes=None,\n",
       "                       min_impurity_decrease=0.0, min_impurity_split=None,\n",
       "                       min_samples_leaf=1, min_samples_split=2,\n",
       "                       min_weight_fraction_leaf=0.0, n_estimators=60,\n",
       "                       n_jobs=None, oob_score=False, random_state=42, verbose=0,\n",
       "                       warm_start=False)"
      ]
     },
     "execution_count": 106,
     "metadata": {},
     "output_type": "execute_result"
    }
   ],
   "source": [
    "best_rf_model"
   ]
  },
  {
   "cell_type": "code",
   "execution_count": 107,
   "metadata": {},
   "outputs": [
    {
     "data": {
      "text/plain": [
       "Age                  0.246917\n",
       "EstimatedSalary      0.123751\n",
       "NumOfProducts        0.121420\n",
       "CreditScore          0.112652\n",
       "Balance              0.102595\n",
       "Salary_ratio         0.097194\n",
       "Tenure               0.077269\n",
       "IsActiveMember       0.034963\n",
       "Gender_Male          0.024026\n",
       "Geography_Germany    0.023060\n",
       "HasCrCard            0.019081\n",
       "Geography_Spain      0.017074\n",
       "dtype: float64"
      ]
     },
     "execution_count": 107,
     "metadata": {},
     "output_type": "execute_result"
    }
   ],
   "source": [
    "# feature importance\n",
    "pd.Series(dict(zip(cols_list, best_rf_model.feature_importances_))).sort_values(ascending=False)"
   ]
  },
  {
   "cell_type": "markdown",
   "metadata": {},
   "source": [
    "### Test using best RandomForest model"
   ]
  },
  {
   "cell_type": "code",
   "execution_count": 108,
   "metadata": {},
   "outputs": [],
   "source": [
    "hyperparameters = {\n",
    "    'n_estimators': np.arange(50, 150, 10),\n",
    "    'class_weight': 'balanced'\n",
    "}\n",
    "best_rf_model, rf_results = fit_model(RandomForestClassifier, train_lr_sampled, target_lr_sampled, \n",
    "                                      valid_lr_std, target_valid_lr, \n",
    "              hyperparameters=hyperparameters, model_name='RF', is_imbalance=True)"
   ]
  },
  {
   "cell_type": "code",
   "execution_count": 109,
   "metadata": {},
   "outputs": [
    {
     "name": "stdout",
     "output_type": "stream",
     "text": [
      "Best performing model's f1 score on the test set is 0.6145833333333333\n"
     ]
    }
   ],
   "source": [
    "preds = best_rf_model.predict(test_lr_std)\n",
    "f1score = f1_score(target_test_lr, preds)\n",
    "print(\"Best performing model's f1 score on the test set is\", f1score)"
   ]
  },
  {
   "cell_type": "code",
   "execution_count": 110,
   "metadata": {},
   "outputs": [
    {
     "name": "stdout",
     "output_type": "stream",
     "text": [
      "              precision    recall  f1-score   support\n",
      "\n",
      "           0       0.89      0.94      0.92      1274\n",
      "           1       0.71      0.54      0.61       326\n",
      "\n",
      "    accuracy                           0.86      1600\n",
      "   macro avg       0.80      0.74      0.76      1600\n",
      "weighted avg       0.85      0.86      0.85      1600\n",
      "\n"
     ]
    }
   ],
   "source": [
    "print(classification_report(target_test_lr, preds))"
   ]
  },
  {
   "cell_type": "markdown",
   "metadata": {},
   "source": [
    "**Conclusion**\n",
    "\n",
    "1) The best upsampled RF model has produced an F1 score of 61.45%\n",
    "\n",
    "2) The model has a low recall value for the positive classes."
   ]
  },
  {
   "cell_type": "markdown",
   "metadata": {},
   "source": [
    "### Measure the AUC-ROC metric and compare it with the F1"
   ]
  },
  {
   "cell_type": "code",
   "execution_count": 111,
   "metadata": {},
   "outputs": [
    {
     "name": "stdout",
     "output_type": "stream",
     "text": [
      "ROC AUC score for the best performing model is 0.8587464244782388\n"
     ]
    }
   ],
   "source": [
    "preds = best_rf_model.predict_proba(test_lr_std)\n",
    "roc_auc = roc_auc_score(target_test_lr, preds[:, 1])\n",
    "print(\"ROC AUC score for the best performing model is\", roc_auc)"
   ]
  },
  {
   "cell_type": "code",
   "execution_count": 112,
   "metadata": {},
   "outputs": [],
   "source": [
    "fpr, tpr, thresholds = roc_curve(target_test_lr, preds[:, 1]) "
   ]
  },
  {
   "cell_type": "code",
   "execution_count": 113,
   "metadata": {},
   "outputs": [
    {
     "data": {
      "image/png": "[encoded data removed]",
      "text/plain": [
       "<Figure size 648x504 with 1 Axes>"
      ]
     },
     "metadata": {
      "needs_background": "light"
     },
     "output_type": "display_data"
    }
   ],
   "source": [
    "fig = plt.figure(figsize=(9, 7))\n",
    "plt.plot(fpr, tpr, label = 'AUC = %0.2f' % roc_auc)\n",
    "plt.plot([0, 1], [0, 1])\n",
    "plt.xlabel('False Positive Rate')\n",
    "plt.ylabel('True Positive Rate')\n",
    "plt.title('ROC curve for RandomForestClassifier')\n",
    "plt.xlim([0, 1])\n",
    "plt.ylim([0, 1])\n",
    "plt.legend()\n",
    "plt.show()"
   ]
  },
  {
   "cell_type": "markdown",
   "metadata": {},
   "source": [
    "**Summary**\n",
    "\n",
    "1) Upsampling helped with improving the F1 score in both the LogisticRegression and RandomForestClassifier models. However, RandomForest Classifier has a significant edge over LogisticRegression model.\n",
    "\n",
    "2) The top 3 features RandomForest identifies as being important indicators of whether a customer is likely to exit or not are: `Age`, `NoOfProducts` and `EstimatedSalary`."
   ]
  }
 ],
 "metadata": {
  "ExecuteTimeLog": [
   {
    "duration": 681,
    "start_time": "2021-06-24T06:08:59.045Z"
   },
   {
    "duration": 5,
    "start_time": "2021-06-24T06:10:42.790Z"
   },
   {
    "duration": 113,
    "start_time": "2021-06-24T06:11:20.403Z"
   },
   {
    "duration": 7,
    "start_time": "2021-06-24T06:11:26.226Z"
   },
   {
    "duration": 12,
    "start_time": "2021-06-24T06:11:39.799Z"
   },
   {
    "duration": 20,
    "start_time": "2021-06-24T06:13:21.618Z"
   },
   {
    "duration": 11,
    "start_time": "2021-06-24T06:26:31.122Z"
   },
   {
    "duration": 17,
    "start_time": "2021-06-24T06:28:28.739Z"
   },
   {
    "duration": 7,
    "start_time": "2021-06-24T06:28:51.617Z"
   },
   {
    "duration": 61,
    "start_time": "2021-06-24T06:30:48.836Z"
   },
   {
    "duration": 5,
    "start_time": "2021-06-24T06:57:18.311Z"
   },
   {
    "duration": 5,
    "start_time": "2021-06-24T07:04:02.276Z"
   },
   {
    "duration": 6,
    "start_time": "2021-06-24T07:05:47.233Z"
   },
   {
    "duration": 11,
    "start_time": "2021-06-24T07:08:12.912Z"
   },
   {
    "duration": 12,
    "start_time": "2021-06-24T07:08:28.495Z"
   },
   {
    "duration": 109,
    "start_time": "2021-06-24T07:09:52.734Z"
   },
   {
    "duration": 24,
    "start_time": "2021-06-24T07:47:14.753Z"
   },
   {
    "duration": 8,
    "start_time": "2021-06-24T07:47:51.653Z"
   },
   {
    "duration": 1016,
    "start_time": "2021-06-24T07:48:29.995Z"
   },
   {
    "duration": 22,
    "start_time": "2021-06-24T07:48:38.387Z"
   },
   {
    "duration": 15,
    "start_time": "2021-06-24T07:49:01.746Z"
   },
   {
    "duration": 6,
    "start_time": "2021-06-24T07:50:28.108Z"
   },
   {
    "duration": 336,
    "start_time": "2021-06-24T07:53:22.897Z"
   },
   {
    "duration": 318,
    "start_time": "2021-06-24T07:53:25.944Z"
   },
   {
    "duration": 9,
    "start_time": "2021-06-24T07:53:51.975Z"
   },
   {
    "duration": 1207,
    "start_time": "2021-06-24T07:54:09.934Z"
   },
   {
    "duration": 8,
    "start_time": "2021-06-24T07:54:45.017Z"
   },
   {
    "duration": 12,
    "start_time": "2021-06-24T07:55:17.471Z"
   },
   {
    "duration": 8,
    "start_time": "2021-06-24T07:55:36.039Z"
   },
   {
    "duration": 8,
    "start_time": "2021-06-24T07:57:20.651Z"
   },
   {
    "duration": 12,
    "start_time": "2021-06-24T07:57:22.071Z"
   },
   {
    "duration": 275,
    "start_time": "2021-06-24T08:02:17.372Z"
   },
   {
    "duration": 1419,
    "start_time": "2021-06-24T08:02:24.333Z"
   },
   {
    "duration": 2055,
    "start_time": "2021-06-24T08:02:57.836Z"
   },
   {
    "duration": 2927,
    "start_time": "2021-06-24T08:03:07.187Z"
   },
   {
    "duration": 20,
    "start_time": "2021-06-24T08:06:23.179Z"
   },
   {
    "duration": 28,
    "start_time": "2021-06-24T08:06:31.610Z"
   },
   {
    "duration": 2445,
    "start_time": "2021-06-24T08:06:46.549Z"
   },
   {
    "duration": 408,
    "start_time": "2021-06-24T08:10:54.161Z"
   },
   {
    "duration": 284,
    "start_time": "2021-06-24T08:11:45.912Z"
   },
   {
    "duration": 298,
    "start_time": "2021-06-24T08:11:57.369Z"
   },
   {
    "duration": 293,
    "start_time": "2021-06-24T08:12:29.434Z"
   },
   {
    "duration": 287,
    "start_time": "2021-06-24T08:12:44.917Z"
   },
   {
    "duration": 283,
    "start_time": "2021-06-24T08:12:52.941Z"
   },
   {
    "duration": 304,
    "start_time": "2021-06-24T08:14:16.769Z"
   },
   {
    "duration": 326,
    "start_time": "2021-06-24T08:15:09.789Z"
   },
   {
    "duration": 333,
    "start_time": "2021-06-24T08:15:17.215Z"
   },
   {
    "duration": 322,
    "start_time": "2021-06-24T08:15:52.909Z"
   },
   {
    "duration": 393,
    "start_time": "2021-06-24T08:16:18.951Z"
   },
   {
    "duration": 506,
    "start_time": "2021-06-24T08:16:57.229Z"
   },
   {
    "duration": 464,
    "start_time": "2021-06-24T08:17:27.213Z"
   },
   {
    "duration": 483,
    "start_time": "2021-06-24T08:17:35.070Z"
   },
   {
    "duration": 3,
    "start_time": "2021-06-24T08:18:04.724Z"
   },
   {
    "duration": 293,
    "start_time": "2021-06-24T08:27:41.425Z"
   },
   {
    "duration": 220983,
    "start_time": "2021-06-24T08:28:00.346Z"
   },
   {
    "duration": 6,
    "start_time": "2021-06-24T08:34:31.912Z"
   },
   {
    "duration": 286,
    "start_time": "2021-06-24T08:36:17.806Z"
   },
   {
    "duration": 1027,
    "start_time": "2021-06-24T08:36:29.875Z"
   },
   {
    "duration": 4,
    "start_time": "2021-06-24T08:36:51.712Z"
   },
   {
    "duration": 1028,
    "start_time": "2021-06-24T08:36:52.051Z"
   },
   {
    "duration": 5,
    "start_time": "2021-06-24T08:38:14.137Z"
   },
   {
    "duration": 1666,
    "start_time": "2021-06-24T08:44:38.216Z"
   },
   {
    "duration": 996,
    "start_time": "2021-06-24T08:46:58.596Z"
   },
   {
    "duration": 5,
    "start_time": "2021-06-24T08:47:44.662Z"
   },
   {
    "duration": 1369,
    "start_time": "2021-06-24T08:48:10.256Z"
   },
   {
    "duration": 5,
    "start_time": "2021-06-24T08:51:08.964Z"
   },
   {
    "duration": 5,
    "start_time": "2021-06-24T08:51:12.531Z"
   },
   {
    "duration": 1282,
    "start_time": "2021-06-24T08:51:13.168Z"
   },
   {
    "duration": 1233,
    "start_time": "2021-06-24T08:51:47.940Z"
   },
   {
    "duration": 5,
    "start_time": "2021-06-24T08:52:05.116Z"
   },
   {
    "duration": 1646,
    "start_time": "2021-06-24T08:52:05.421Z"
   },
   {
    "duration": 1586,
    "start_time": "2021-06-24T08:52:18.366Z"
   },
   {
    "duration": 5,
    "start_time": "2021-06-24T08:54:47.789Z"
   },
   {
    "duration": 2635,
    "start_time": "2021-06-24T08:54:48.116Z"
   },
   {
    "duration": 6,
    "start_time": "2021-06-24T08:55:09.715Z"
   },
   {
    "duration": 2579,
    "start_time": "2021-06-24T08:55:10.050Z"
   },
   {
    "duration": 5,
    "start_time": "2021-06-24T08:55:28.913Z"
   },
   {
    "duration": 2534,
    "start_time": "2021-06-24T08:55:29.178Z"
   },
   {
    "duration": 5,
    "start_time": "2021-06-24T08:56:00.500Z"
   },
   {
    "duration": 2289,
    "start_time": "2021-06-24T08:56:02.240Z"
   },
   {
    "duration": 11,
    "start_time": "2021-06-24T09:03:34.392Z"
   },
   {
    "duration": 105,
    "start_time": "2021-06-24T09:07:02.408Z"
   },
   {
    "duration": 1024,
    "start_time": "2021-06-24T09:08:03.430Z"
   },
   {
    "duration": 1057,
    "start_time": "2021-06-24T09:09:45.191Z"
   },
   {
    "duration": 7,
    "start_time": "2021-06-24T10:04:35.219Z"
   },
   {
    "duration": 8,
    "start_time": "2021-06-24T10:05:55.580Z"
   },
   {
    "duration": 5,
    "start_time": "2021-06-24T10:07:56.129Z"
   },
   {
    "duration": 326,
    "start_time": "2021-06-24T10:08:13.282Z"
   },
   {
    "duration": 34,
    "start_time": "2021-06-24T10:08:35.217Z"
   },
   {
    "duration": 11,
    "start_time": "2021-06-24T10:08:51.355Z"
   },
   {
    "duration": 11,
    "start_time": "2021-06-24T10:09:06.560Z"
   },
   {
    "duration": 278,
    "start_time": "2021-06-24T10:12:49.501Z"
   },
   {
    "duration": 8,
    "start_time": "2021-06-24T10:13:25.727Z"
   },
   {
    "duration": 8,
    "start_time": "2021-06-24T10:14:01.989Z"
   },
   {
    "duration": 36,
    "start_time": "2021-06-24T10:14:17.344Z"
   },
   {
    "duration": 8,
    "start_time": "2021-06-24T10:14:20.399Z"
   },
   {
    "duration": 277,
    "start_time": "2021-06-24T10:14:49.110Z"
   },
   {
    "duration": 255,
    "start_time": "2021-06-24T10:15:04.245Z"
   },
   {
    "duration": 275,
    "start_time": "2021-06-24T10:15:19.461Z"
   },
   {
    "duration": 9,
    "start_time": "2021-06-24T10:15:54.920Z"
   },
   {
    "duration": 1585,
    "start_time": "2021-06-25T13:59:17.358Z"
   },
   {
    "duration": 37,
    "start_time": "2021-06-25T13:59:18.945Z"
   },
   {
    "duration": 7,
    "start_time": "2021-06-25T13:59:18.984Z"
   },
   {
    "duration": 16,
    "start_time": "2021-06-25T13:59:18.994Z"
   },
   {
    "duration": 49,
    "start_time": "2021-06-25T13:59:19.012Z"
   },
   {
    "duration": 15,
    "start_time": "2021-06-25T13:59:19.063Z"
   },
   {
    "duration": 17,
    "start_time": "2021-06-25T13:59:19.081Z"
   },
   {
    "duration": 7,
    "start_time": "2021-06-25T13:59:19.100Z"
   },
   {
    "duration": 106,
    "start_time": "2021-06-25T13:59:19.111Z"
   },
   {
    "duration": 6,
    "start_time": "2021-06-25T13:59:19.220Z"
   },
   {
    "duration": 16,
    "start_time": "2021-06-25T13:59:19.254Z"
   },
   {
    "duration": 12,
    "start_time": "2021-06-25T13:59:19.273Z"
   },
   {
    "duration": 8,
    "start_time": "2021-06-25T13:59:19.288Z"
   },
   {
    "duration": 6,
    "start_time": "2021-06-25T13:59:19.298Z"
   },
   {
    "duration": 51,
    "start_time": "2021-06-25T13:59:19.306Z"
   },
   {
    "duration": 12,
    "start_time": "2021-06-25T13:59:19.360Z"
   },
   {
    "duration": 2680,
    "start_time": "2021-06-25T13:59:19.374Z"
   },
   {
    "duration": 3,
    "start_time": "2021-06-25T13:59:22.057Z"
   },
   {
    "duration": 25,
    "start_time": "2021-06-25T13:59:22.062Z"
   },
   {
    "duration": 2272,
    "start_time": "2021-06-25T13:59:22.089Z"
   },
   {
    "duration": 4,
    "start_time": "2021-06-25T13:59:24.363Z"
   },
   {
    "duration": 33,
    "start_time": "2021-06-25T13:59:24.369Z"
   },
   {
    "duration": 1831,
    "start_time": "2021-06-25T13:59:24.406Z"
   },
   {
    "duration": 14,
    "start_time": "2021-06-25T13:59:26.241Z"
   },
   {
    "duration": 383,
    "start_time": "2021-06-25T13:59:26.258Z"
   },
   {
    "duration": 18,
    "start_time": "2021-06-25T13:59:26.643Z"
   },
   {
    "duration": 12,
    "start_time": "2021-06-25T13:59:26.668Z"
   },
   {
    "duration": 11,
    "start_time": "2021-06-25T13:59:26.685Z"
   },
   {
    "duration": 66,
    "start_time": "2021-06-25T13:59:26.699Z"
   },
   {
    "duration": 8,
    "start_time": "2021-06-25T13:59:26.767Z"
   },
   {
    "duration": 24,
    "start_time": "2021-06-25T13:59:26.777Z"
   },
   {
    "duration": 7,
    "start_time": "2021-06-25T13:59:26.804Z"
   },
   {
    "duration": 57,
    "start_time": "2021-06-25T13:59:26.814Z"
   },
   {
    "duration": 6,
    "start_time": "2021-06-25T13:59:26.874Z"
   },
   {
    "duration": 14,
    "start_time": "2021-06-25T13:59:26.882Z"
   },
   {
    "duration": 10,
    "start_time": "2021-06-25T13:59:26.898Z"
   },
   {
    "duration": 53,
    "start_time": "2021-06-25T13:59:26.910Z"
   },
   {
    "duration": 9,
    "start_time": "2021-06-25T13:59:26.965Z"
   },
   {
    "duration": 20,
    "start_time": "2021-06-25T13:59:26.976Z"
   },
   {
    "duration": 7,
    "start_time": "2021-06-25T13:59:26.999Z"
   },
   {
    "duration": 13,
    "start_time": "2021-06-25T13:59:27.009Z"
   },
   {
    "duration": 1543,
    "start_time": "2021-06-25T13:59:27.024Z"
   },
   {
    "duration": 101,
    "start_time": "2021-06-25T13:59:28.656Z"
   },
   {
    "duration": 10481,
    "start_time": "2021-06-25T13:59:28.759Z"
   },
   {
    "duration": 25,
    "start_time": "2021-06-25T13:59:39.242Z"
   },
   {
    "duration": 8,
    "start_time": "2021-06-25T13:59:39.270Z"
   },
   {
    "duration": 449,
    "start_time": "2021-06-25T13:59:39.281Z"
   },
   {
    "duration": 22,
    "start_time": "2021-06-25T13:59:39.733Z"
   },
   {
    "duration": 27,
    "start_time": "2021-06-25T13:59:39.757Z"
   },
   {
    "duration": 93,
    "start_time": "2021-06-25T13:59:39.787Z"
   },
   {
    "duration": 86,
    "start_time": "2021-06-25T13:59:39.882Z"
   },
   {
    "duration": 5,
    "start_time": "2021-06-25T13:59:39.970Z"
   },
   {
    "duration": 22,
    "start_time": "2021-06-25T13:59:39.978Z"
   },
   {
    "duration": 12,
    "start_time": "2021-06-25T13:59:40.003Z"
   },
   {
    "duration": 50,
    "start_time": "2021-06-25T13:59:40.018Z"
   },
   {
    "duration": 21,
    "start_time": "2021-06-25T13:59:40.071Z"
   },
   {
    "duration": 7,
    "start_time": "2021-06-25T13:59:40.095Z"
   },
   {
    "duration": 54,
    "start_time": "2021-06-25T13:59:40.105Z"
   },
   {
    "duration": 5,
    "start_time": "2021-06-25T13:59:40.162Z"
   },
   {
    "duration": 5,
    "start_time": "2021-06-25T13:59:40.170Z"
   },
   {
    "duration": 6,
    "start_time": "2021-06-25T13:59:40.177Z"
   },
   {
    "duration": 11253,
    "start_time": "2021-06-25T13:59:40.187Z"
   },
   {
    "duration": 16,
    "start_time": "2021-06-25T13:59:51.443Z"
   },
   {
    "duration": 399,
    "start_time": "2021-06-25T13:59:51.462Z"
   },
   {
    "duration": 7,
    "start_time": "2021-06-25T13:59:51.864Z"
   },
   {
    "duration": 38,
    "start_time": "2021-06-25T13:59:51.874Z"
   },
   {
    "duration": 92,
    "start_time": "2021-06-25T13:59:51.915Z"
   },
   {
    "duration": 92,
    "start_time": "2021-06-25T13:59:52.009Z"
   },
   {
    "duration": 8,
    "start_time": "2021-06-25T13:59:52.103Z"
   },
   {
    "duration": 43,
    "start_time": "2021-06-25T13:59:52.114Z"
   },
   {
    "duration": 15,
    "start_time": "2021-06-25T13:59:52.160Z"
   },
   {
    "duration": 21,
    "start_time": "2021-06-25T13:59:52.177Z"
   },
   {
    "duration": 1363,
    "start_time": "2021-06-25T13:59:52.200Z"
   },
   {
    "duration": 10316,
    "start_time": "2021-06-25T13:59:53.567Z"
   },
   {
    "duration": 8,
    "start_time": "2021-06-25T14:00:03.886Z"
   },
   {
    "duration": 966,
    "start_time": "2021-06-25T14:00:03.896Z"
   },
   {
    "duration": 104,
    "start_time": "2021-06-25T14:00:04.866Z"
   },
   {
    "duration": 5,
    "start_time": "2021-06-25T14:00:05.054Z"
   },
   {
    "duration": 13,
    "start_time": "2021-06-25T14:00:05.062Z"
   },
   {
    "duration": 37283,
    "start_time": "2021-06-25T14:00:05.077Z"
   },
   {
    "duration": 11,
    "start_time": "2021-06-25T14:00:42.371Z"
   },
   {
    "duration": 26,
    "start_time": "2021-06-25T14:00:42.385Z"
   },
   {
    "duration": 24,
    "start_time": "2021-06-25T14:00:42.413Z"
   },
   {
    "duration": 419,
    "start_time": "2021-06-25T14:00:42.439Z"
   },
   {
    "duration": 6,
    "start_time": "2021-06-25T14:00:42.860Z"
   },
   {
    "duration": 23,
    "start_time": "2021-06-25T14:00:42.868Z"
   },
   {
    "duration": 17106,
    "start_time": "2021-06-25T14:00:42.894Z"
   },
   {
    "duration": 21,
    "start_time": "2021-06-25T14:01:00.003Z"
   },
   {
    "duration": 29,
    "start_time": "2021-06-25T14:01:00.027Z"
   },
   {
    "duration": 38,
    "start_time": "2021-06-25T14:01:00.059Z"
   },
   {
    "duration": 91,
    "start_time": "2021-06-25T14:01:00.100Z"
   },
   {
    "duration": 8,
    "start_time": "2021-06-25T14:14:50.150Z"
   },
   {
    "duration": 9,
    "start_time": "2021-06-25T14:15:25.520Z"
   },
   {
    "duration": 3,
    "start_time": "2021-06-25T14:15:26.789Z"
   },
   {
    "duration": 3,
    "start_time": "2021-06-25T14:15:27.133Z"
   },
   {
    "duration": 1704,
    "start_time": "2021-06-25T14:15:32.259Z"
   },
   {
    "duration": 17771,
    "start_time": "2021-06-25T14:15:56.465Z"
   },
   {
    "duration": 23,
    "start_time": "2021-06-25T14:17:42.166Z"
   },
   {
    "duration": 11,
    "start_time": "2021-06-25T14:17:49.395Z"
   },
   {
    "duration": 7,
    "start_time": "2021-06-25T14:18:15.580Z"
   },
   {
    "duration": 1124,
    "start_time": "2021-06-25T14:18:23.854Z"
   },
   {
    "duration": 9,
    "start_time": "2021-06-25T14:19:25.612Z"
   },
   {
    "duration": 1256,
    "start_time": "2021-06-25T14:19:30.241Z"
   },
   {
    "duration": 15,
    "start_time": "2021-06-25T14:20:07.556Z"
   },
   {
    "duration": 486,
    "start_time": "2021-06-25T14:20:16.278Z"
   },
   {
    "duration": 12,
    "start_time": "2021-06-25T14:20:19.170Z"
   },
   {
    "duration": 6,
    "start_time": "2021-06-25T14:20:45.339Z"
   },
   {
    "duration": 7,
    "start_time": "2021-06-25T14:20:52.680Z"
   },
   {
    "duration": 1886,
    "start_time": "2021-06-25T14:22:29.445Z"
   },
   {
    "duration": 5,
    "start_time": "2021-06-25T14:22:39.956Z"
   },
   {
    "duration": 13,
    "start_time": "2021-06-25T14:22:53.894Z"
   },
   {
    "duration": 9,
    "start_time": "2021-06-25T14:23:14.864Z"
   },
   {
    "duration": 9,
    "start_time": "2021-06-25T14:29:35.607Z"
   },
   {
    "duration": 757,
    "start_time": "2021-06-25T14:30:35.583Z"
   },
   {
    "duration": 13721,
    "start_time": "2021-06-25T14:31:02.045Z"
   },
   {
    "duration": 22,
    "start_time": "2021-06-25T14:31:55.159Z"
   },
   {
    "duration": 9,
    "start_time": "2021-06-25T14:32:03.150Z"
   },
   {
    "duration": 29,
    "start_time": "2021-06-25T14:32:05.102Z"
   },
   {
    "duration": 71,
    "start_time": "2021-06-25T14:32:24.031Z"
   },
   {
    "duration": 94,
    "start_time": "2021-06-25T14:34:01.699Z"
   },
   {
    "duration": 5,
    "start_time": "2021-06-25T14:34:06.579Z"
   },
   {
    "duration": 5272,
    "start_time": "2021-06-25T14:34:09.782Z"
   },
   {
    "duration": 12,
    "start_time": "2021-06-25T14:34:19.309Z"
   },
   {
    "duration": 6,
    "start_time": "2021-06-25T14:34:20.875Z"
   },
   {
    "duration": 29,
    "start_time": "2021-06-25T14:34:22.470Z"
   },
   {
    "duration": 35,
    "start_time": "2021-06-25T14:34:28.987Z"
   },
   {
    "duration": 27769,
    "start_time": "2021-06-25T15:43:42.285Z"
   },
   {
    "duration": 115,
    "start_time": "2021-06-25T15:46:21.996Z"
   },
   {
    "duration": 6,
    "start_time": "2021-06-25T15:56:33.833Z"
   },
   {
    "duration": 6,
    "start_time": "2021-06-25T15:58:59.074Z"
   },
   {
    "duration": 350,
    "start_time": "2021-06-25T15:59:38.135Z"
   },
   {
    "duration": 75,
    "start_time": "2021-06-25T16:00:00.034Z"
   },
   {
    "duration": 281,
    "start_time": "2021-06-25T16:01:30.431Z"
   },
   {
    "duration": 69,
    "start_time": "2021-06-25T16:02:06.914Z"
   },
   {
    "duration": 12,
    "start_time": "2021-06-25T16:02:07.574Z"
   },
   {
    "duration": 70,
    "start_time": "2021-06-25T16:04:02.320Z"
   },
   {
    "duration": 6,
    "start_time": "2021-06-25T16:04:32.689Z"
   },
   {
    "duration": 268,
    "start_time": "2021-06-25T16:53:45.451Z"
   },
   {
    "duration": 280,
    "start_time": "2021-06-25T16:54:01.434Z"
   },
   {
    "duration": 325,
    "start_time": "2021-06-25T16:54:41.228Z"
   },
   {
    "duration": 327,
    "start_time": "2021-06-25T16:55:03.050Z"
   },
   {
    "duration": 337,
    "start_time": "2021-06-25T16:55:49.109Z"
   },
   {
    "duration": 333,
    "start_time": "2021-06-25T17:02:03.536Z"
   },
   {
    "duration": 333,
    "start_time": "2021-06-25T17:02:11.798Z"
   },
   {
    "duration": 428,
    "start_time": "2021-06-25T17:04:29.310Z"
   },
   {
    "duration": 473,
    "start_time": "2021-06-25T17:04:38.909Z"
   },
   {
    "duration": 1571,
    "start_time": "2021-06-25T17:24:24.896Z"
   },
   {
    "duration": 41,
    "start_time": "2021-06-25T17:24:26.470Z"
   },
   {
    "duration": 8,
    "start_time": "2021-06-25T17:24:26.515Z"
   },
   {
    "duration": 29,
    "start_time": "2021-06-25T17:24:26.527Z"
   },
   {
    "duration": 25,
    "start_time": "2021-06-25T17:24:26.559Z"
   },
   {
    "duration": 22,
    "start_time": "2021-06-25T17:24:26.587Z"
   },
   {
    "duration": 29,
    "start_time": "2021-06-25T17:24:26.611Z"
   },
   {
    "duration": 14,
    "start_time": "2021-06-25T17:24:26.644Z"
   },
   {
    "duration": 65,
    "start_time": "2021-06-25T17:24:26.662Z"
   },
   {
    "duration": 5,
    "start_time": "2021-06-25T17:24:26.729Z"
   },
   {
    "duration": 26,
    "start_time": "2021-06-25T17:24:26.737Z"
   },
   {
    "duration": 17,
    "start_time": "2021-06-25T17:24:26.765Z"
   },
   {
    "duration": 14,
    "start_time": "2021-06-25T17:24:26.784Z"
   },
   {
    "duration": 9,
    "start_time": "2021-06-25T17:24:26.801Z"
   },
   {
    "duration": 45,
    "start_time": "2021-06-25T17:24:26.812Z"
   },
   {
    "duration": 13,
    "start_time": "2021-06-25T17:24:26.860Z"
   },
   {
    "duration": 2517,
    "start_time": "2021-06-25T17:24:26.876Z"
   },
   {
    "duration": 4,
    "start_time": "2021-06-25T17:24:29.396Z"
   },
   {
    "duration": 17,
    "start_time": "2021-06-25T17:24:29.403Z"
   },
   {
    "duration": 2302,
    "start_time": "2021-06-25T17:24:29.423Z"
   },
   {
    "duration": 5,
    "start_time": "2021-06-25T17:24:31.729Z"
   },
   {
    "duration": 26,
    "start_time": "2021-06-25T17:24:31.736Z"
   },
   {
    "duration": 1012,
    "start_time": "2021-06-25T17:24:31.770Z"
   },
   {
    "duration": 5,
    "start_time": "2021-06-25T17:24:32.787Z"
   },
   {
    "duration": 385,
    "start_time": "2021-06-25T17:24:32.795Z"
   },
   {
    "duration": 13,
    "start_time": "2021-06-25T17:24:33.182Z"
   },
   {
    "duration": 13,
    "start_time": "2021-06-25T17:24:33.198Z"
   },
   {
    "duration": 43,
    "start_time": "2021-06-25T17:24:33.214Z"
   },
   {
    "duration": 16,
    "start_time": "2021-06-25T17:24:33.260Z"
   },
   {
    "duration": 8,
    "start_time": "2021-06-25T17:24:33.278Z"
   },
   {
    "duration": 28,
    "start_time": "2021-06-25T17:24:33.288Z"
   },
   {
    "duration": 8,
    "start_time": "2021-06-25T17:24:33.318Z"
   },
   {
    "duration": 44,
    "start_time": "2021-06-25T17:24:33.328Z"
   },
   {
    "duration": 6,
    "start_time": "2021-06-25T17:24:33.374Z"
   },
   {
    "duration": 25,
    "start_time": "2021-06-25T17:24:33.382Z"
   },
   {
    "duration": 7,
    "start_time": "2021-06-25T17:24:33.410Z"
   },
   {
    "duration": 14,
    "start_time": "2021-06-25T17:24:33.419Z"
   },
   {
    "duration": 18,
    "start_time": "2021-06-25T17:24:33.436Z"
   },
   {
    "duration": 16,
    "start_time": "2021-06-25T17:24:33.457Z"
   },
   {
    "duration": 5,
    "start_time": "2021-06-25T17:24:33.475Z"
   },
   {
    "duration": 27,
    "start_time": "2021-06-25T17:24:33.482Z"
   },
   {
    "duration": 1255,
    "start_time": "2021-06-25T17:24:33.512Z"
   },
   {
    "duration": 101,
    "start_time": "2021-06-25T17:24:34.856Z"
   },
   {
    "duration": 10706,
    "start_time": "2021-06-25T17:24:34.960Z"
   },
   {
    "duration": 11,
    "start_time": "2021-06-25T17:24:45.668Z"
   },
   {
    "duration": 14,
    "start_time": "2021-06-25T17:24:45.681Z"
   },
   {
    "duration": 400,
    "start_time": "2021-06-25T17:24:45.697Z"
   },
   {
    "duration": 6,
    "start_time": "2021-06-25T17:24:46.100Z"
   },
   {
    "duration": 49,
    "start_time": "2021-06-25T17:24:46.109Z"
   },
   {
    "duration": 4,
    "start_time": "2021-06-25T17:24:46.161Z"
   },
   {
    "duration": 28,
    "start_time": "2021-06-25T17:24:46.167Z"
   },
   {
    "duration": 6,
    "start_time": "2021-06-25T17:24:46.198Z"
   },
   {
    "duration": 21,
    "start_time": "2021-06-25T17:24:46.206Z"
   },
   {
    "duration": 44,
    "start_time": "2021-06-25T17:24:46.230Z"
   },
   {
    "duration": 6,
    "start_time": "2021-06-25T17:24:46.276Z"
   },
   {
    "duration": 19,
    "start_time": "2021-06-25T17:24:46.284Z"
   },
   {
    "duration": 10,
    "start_time": "2021-06-25T17:24:46.305Z"
   },
   {
    "duration": 10,
    "start_time": "2021-06-25T17:24:46.318Z"
   },
   {
    "duration": 23,
    "start_time": "2021-06-25T17:24:46.331Z"
   },
   {
    "duration": 11075,
    "start_time": "2021-06-25T17:24:46.357Z"
   },
   {
    "duration": 12,
    "start_time": "2021-06-25T17:24:57.454Z"
   },
   {
    "duration": 385,
    "start_time": "2021-06-25T17:24:57.469Z"
   },
   {
    "duration": 6,
    "start_time": "2021-06-25T17:24:57.857Z"
   },
   {
    "duration": 40,
    "start_time": "2021-06-25T17:24:57.866Z"
   },
   {
    "duration": 9,
    "start_time": "2021-06-25T17:24:57.908Z"
   },
   {
    "duration": 13,
    "start_time": "2021-06-25T17:24:57.919Z"
   },
   {
    "duration": 4,
    "start_time": "2021-06-25T17:24:57.934Z"
   },
   {
    "duration": 3,
    "start_time": "2021-06-25T17:24:57.955Z"
   },
   {
    "duration": 1401,
    "start_time": "2021-06-25T17:24:57.961Z"
   },
   {
    "duration": 10870,
    "start_time": "2021-06-25T17:24:59.364Z"
   },
   {
    "duration": 17,
    "start_time": "2021-06-25T17:25:10.237Z"
   },
   {
    "duration": 1008,
    "start_time": "2021-06-25T17:25:10.257Z"
   },
   {
    "duration": 16,
    "start_time": "2021-06-25T17:25:11.356Z"
   },
   {
    "duration": 18,
    "start_time": "2021-06-25T17:25:11.374Z"
   },
   {
    "duration": 62,
    "start_time": "2021-06-25T17:25:11.395Z"
   },
   {
    "duration": 37217,
    "start_time": "2021-06-25T17:25:11.460Z"
   },
   {
    "duration": 11,
    "start_time": "2021-06-25T17:25:48.679Z"
   },
   {
    "duration": 8,
    "start_time": "2021-06-25T17:25:48.693Z"
   },
   {
    "duration": 14,
    "start_time": "2021-06-25T17:25:48.703Z"
   },
   {
    "duration": 401,
    "start_time": "2021-06-25T17:25:48.719Z"
   },
   {
    "duration": 6,
    "start_time": "2021-06-25T17:25:49.124Z"
   },
   {
    "duration": 25,
    "start_time": "2021-06-25T17:25:49.133Z"
   },
   {
    "duration": 16927,
    "start_time": "2021-06-25T17:25:49.161Z"
   },
   {
    "duration": 13,
    "start_time": "2021-06-25T17:26:06.091Z"
   },
   {
    "duration": 16,
    "start_time": "2021-06-25T17:26:06.107Z"
   },
   {
    "duration": 49,
    "start_time": "2021-06-25T17:26:06.126Z"
   },
   {
    "duration": 6,
    "start_time": "2021-06-25T17:26:06.178Z"
   },
   {
    "duration": 4,
    "start_time": "2021-06-25T17:26:06.186Z"
   },
   {
    "duration": 5,
    "start_time": "2021-06-25T17:26:06.192Z"
   },
   {
    "duration": 1667,
    "start_time": "2021-06-25T17:26:06.199Z"
   },
   {
    "duration": 3,
    "start_time": "2021-06-25T17:26:07.955Z"
   },
   {
    "duration": 10365,
    "start_time": "2021-06-25T17:26:07.960Z"
   },
   {
    "duration": 2,
    "start_time": "2021-06-25T17:26:18.328Z"
   },
   {
    "duration": 429,
    "start_time": "2021-06-25T17:26:18.333Z"
   },
   {
    "duration": 97,
    "start_time": "2021-06-25T17:26:18.764Z"
   },
   {
    "duration": 8,
    "start_time": "2021-06-25T17:26:18.865Z"
   },
   {
    "duration": 80,
    "start_time": "2021-06-25T17:26:18.876Z"
   },
   {
    "duration": 1774,
    "start_time": "2021-06-25T17:26:18.959Z"
   },
   {
    "duration": 19,
    "start_time": "2021-06-25T17:26:20.735Z"
   },
   {
    "duration": 12,
    "start_time": "2021-06-25T17:26:20.757Z"
   },
   {
    "duration": 14,
    "start_time": "2021-06-25T17:26:20.771Z"
   },
   {
    "duration": 396,
    "start_time": "2021-06-25T17:26:20.787Z"
   },
   {
    "duration": 5,
    "start_time": "2021-06-25T17:26:21.186Z"
   },
   {
    "duration": 7446,
    "start_time": "2021-06-25T17:26:21.194Z"
   },
   {
    "duration": 25,
    "start_time": "2021-06-25T17:26:28.643Z"
   },
   {
    "duration": 22,
    "start_time": "2021-06-25T17:26:28.671Z"
   },
   {
    "duration": 26,
    "start_time": "2021-06-25T17:26:28.696Z"
   },
   {
    "duration": 23455,
    "start_time": "2021-06-25T17:26:28.725Z"
   },
   {
    "duration": 80,
    "start_time": "2021-06-25T17:26:52.182Z"
   },
   {
    "duration": 11,
    "start_time": "2021-06-25T17:26:52.265Z"
   },
   {
    "duration": 84,
    "start_time": "2021-06-25T17:26:52.278Z"
   },
   {
    "duration": 5,
    "start_time": "2021-06-25T17:26:52.364Z"
   },
   {
    "duration": 373,
    "start_time": "2021-06-25T17:26:52.371Z"
   }
  ],
  "kernelspec": {
   "display_name": "Python 3",
   "language": "python",
   "name": "python3"
  },
  "language_info": {
   "codemirror_mode": {
    "name": "ipython",
    "version": 3
   },
   "file_extension": ".py",
   "mimetype": "text/x-python",
   "name": "python",
   "nbconvert_exporter": "python",
   "pygments_lexer": "ipython3",
   "version": "3.8.3"
  },
  "toc": {
   "base_numbering": 1,
   "nav_menu": {},
   "number_sections": true,
   "sideBar": true,
   "skip_h1_title": true,
   "title_cell": "Table of Contents",
   "title_sidebar": "Contents",
   "toc_cell": false,
   "toc_position": {},
   "toc_section_display": true,
   "toc_window_display": false
  }
 },
 "nbformat": 4,
 "nbformat_minor": 2
}
